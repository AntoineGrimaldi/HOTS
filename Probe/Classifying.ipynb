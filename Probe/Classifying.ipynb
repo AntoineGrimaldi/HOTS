{
 "cells": [
  {
   "cell_type": "code",
   "execution_count": null,
   "metadata": {
    "collapsed": false
   },
   "outputs": [],
   "source": [
    "%load_ext autoreload\n",
    "%autoreload 2\n",
    "%matplotlib inline"
   ]
  },
  {
   "cell_type": "code",
   "execution_count": 11,
   "metadata": {
    "collapsed": false
   },
   "outputs": [],
   "source": [
    "import numpy as np\n",
    "import matplotlib.pyplot as plt\n",
    "\n",
    "\n",
    "from HOTS.Event import Event\n",
    "from HOTS.Layer import Filter, ClusteringLayer\n",
    "from HOTS.Monitor import DisplayImage, DisplayHisto\n",
    "from HOTS.Tools import SaveObject, LoadObject\n",
    "from HOTS.Classifier import Classifier\n",
    "\n"
   ]
  },
  {
   "cell_type": "markdown",
   "metadata": {},
   "source": [
    "# Defining General Parameter"
   ]
  },
  {
   "cell_type": "code",
   "execution_count": null,
   "metadata": {
    "collapsed": true
   },
   "outputs": [],
   "source": [
    "SaveCluster = True\n",
    "LoadCluster = True\n",
    "\n",
    "ClusterFile = '../Records/ClassifyingNotebook/Clusters.pkl'\n",
    "tau = 0.02\n",
    "R = 2\n",
    "nb_cluster = 4\n",
    "ImageSize = (32,32)"
   ]
  },
  {
   "cell_type": "markdown",
   "metadata": {},
   "source": [
    "## Training the Cluster on 5 images"
   ]
  },
  {
   "cell_type": "code",
   "execution_count": 4,
   "metadata": {
    "collapsed": false
   },
   "outputs": [],
   "source": [
    "image_list = [1, 32, 19, 22, 29]\n",
    "event0 = Event(ImageSize=(32,32), ListPolarities=[-1,1])\n",
    "\n",
    "event0.LoadFromMat('../Data/ExtractedStabilized.mat',image_number=image_list)\n",
    "\n",
    "InputFilter = Filter(event0)\n",
    "event1 = InputFilter.FilterNHBD(threshold=15,neighbourhood=2)\n",
    "\n",
    "L1 = ClusteringLayer(event1,verbose=1)\n",
    "event2, ClusterLayer1= L1.TrainLayer(tau=tau, R=R, nb_cluster=nb_cluster)\n",
    "L2 = ClusteringLayer(event2,verbose=1)\n",
    "event3, ClusterLayer2 = L2.TrainLayer(tau=10*tau, R=2*R, nb_cluster=2*nb_cluster)\n",
    "L3 = ClusteringLayer(event3,verbose=1)\n",
    "event4, ClusterLayer3 = L3.TrainLayer(tau=10*10*tau, R= 2*2*R, nb_cluster=2*2*nb_cluster)\n",
    "\n",
    "\n",
    "if SaveCluster==True:\n",
    "    SaveObject([ClusterLayer1,ClusterLayer2,ClusterLayer3],ClusterFile)"
   ]
  },
  {
   "cell_type": "markdown",
   "metadata": {},
   "source": [
    "## Generating Histogram for the training samples"
   ]
  },
  {
   "cell_type": "code",
   "execution_count": 5,
   "metadata": {
    "collapsed": false
   },
   "outputs": [
    {
     "name": "stdout",
     "output_type": "stream",
     "text": [
      "chargement des images [0, 1, 2, 3, 4, 5, 6, 7, 8, 9, 10, 11, 12, 13, 14, 15, 16, 17, 18, 19, 20, 21, 22, 23, 24, 25, 26, 27, 28, 29, 30, 31, 32, 33, 34, 35]\n"
     ]
    }
   ],
   "source": [
    "if LoadCluster==True:\n",
    "    ClusterLayer1, ClausterLayer2, ClusterLayer3 = LoadObject(ClusterFile)\n",
    "\n",
    "training_sample = list(np.arange(36))\n",
    "event0_tr = Event(ImageSize=(32,32), ListPolarities=[-1,1])\n",
    "\n",
    "event0_tr.LoadFromMat('../Data/ExtractedStabilized.mat',image_number=training_sample)\n",
    "\n",
    "InputFilter = Filter(event0_tr)\n",
    "event1_tr = InputFilter.FilterNHBD(threshold=15,neighbourhood=2)\n",
    "\n",
    "L1 = ClusteringLayer(event1_tr,verbose=0)\n",
    "event2_tr = L1.RunLayer(tau=tau, R=R, Cluster=ClusterLayer1)\n",
    "L2 = ClusteringLayer(event2_tr,verbose=0)\n",
    "event3_tr = L2.RunLayer(tau=10*tau, R=2*R, Cluster=ClusterLayer2)\n",
    "L3 = ClusteringLayer(event3_tr,verbose=0)\n",
    "event4_tr = L3.RunLayer(tau=10*10*tau, R= 2*2*R, Cluster=ClusterLayer3)"
   ]
  },
  {
   "cell_type": "markdown",
   "metadata": {},
   "source": [
    "## Generating Histograms for the test sample"
   ]
  },
  {
   "cell_type": "code",
   "execution_count": 6,
   "metadata": {
    "collapsed": false
   },
   "outputs": [
    {
     "name": "stdout",
     "output_type": "stream",
     "text": [
      "chargement des images [36, 37, 38, 39, 40, 41, 42, 43, 44, 45, 46, 47, 48, 49, 50, 51, 52, 53, 54, 55, 56, 57, 58, 59, 60, 61, 62, 63, 64, 65, 66, 67, 68, 69, 70, 71, 72, 73, 74, 75]\n"
     ]
    }
   ],
   "source": [
    "if LoadCluster==True:\n",
    "    ClusterLayer1, ClausterLayer2, ClusterLayer3 = LoadObject(ClusterFile)\n",
    "\n",
    "training_sample = list(np.arange(36,76))\n",
    "event0_te = Event(ImageSize=(32,32), ListPolarities=[-1,1])\n",
    "\n",
    "event0_te.LoadFromMat('../Data/ExtractedStabilized.mat',image_number=training_sample)\n",
    "\n",
    "InputFilter = Filter(event0_te)\n",
    "event1_te = InputFilter.FilterNHBD(threshold=15,neighbourhood=2)\n",
    "\n",
    "L1 = ClusteringLayer(event1_te,verbose=0)\n",
    "event2_te = L1.RunLayer(tau=tau, R=R, Cluster=ClusterLayer1)\n",
    "L2 = ClusteringLayer(event2_te,verbose=0)\n",
    "event3_te = L2.RunLayer(tau=10*tau, R=2*R, Cluster=ClusterLayer2)\n",
    "L3 = ClusteringLayer(event3_te,verbose=0)\n",
    "event4_te = L3.RunLayer(tau=10*10*tau, R= 2*2*R, Cluster=ClusterLayer3)"
   ]
  },
  {
   "cell_type": "code",
   "execution_count": 8,
   "metadata": {
    "collapsed": false
   },
   "outputs": [],
   "source": [
    "label_list=LoadObject('../Data/alphabet_label.pkl')\n",
    "#with open( '../Data/alphabet_label.pkl','rb') as file:\n",
    "#    label_list = pickle.load(file)"
   ]
  },
  {
   "cell_type": "code",
   "execution_count": null,
   "metadata": {
    "collapsed": false
   },
   "outputs": [],
   "source": []
  },
  {
   "cell_type": "code",
   "execution_count": 21,
   "metadata": {
    "collapsed": false
   },
   "outputs": [
    {
     "name": "stdout",
     "output_type": "stream",
     "text": [
      "(40, 16)\n",
      "(36, 16)\n"
     ]
    }
   ],
   "source": [
    "Classif = Classifier(event4_tr,event4_te,label_list)\n",
    "label_eucl,label_norm,label_battacha = Classif.HistogramDistance()"
   ]
  },
  {
   "cell_type": "code",
   "execution_count": 22,
   "metadata": {
    "collapsed": false
   },
   "outputs": [
    {
     "ename": "NameError",
     "evalue": "name 'test_label' is not defined",
     "output_type": "error",
     "traceback": [
      "\u001b[0;31m---------------------------------------------------------------------------\u001b[0m",
      "\u001b[0;31mNameError\u001b[0m                                 Traceback (most recent call last)",
      "\u001b[0;32m<ipython-input-22-1097bc968c8d>\u001b[0m in \u001b[0;36m<module>\u001b[0;34m()\u001b[0m\n\u001b[0;32m----> 1\u001b[0;31m \u001b[0mnb_sample\u001b[0m \u001b[0;34m=\u001b[0m \u001b[0mtest_label\u001b[0m\u001b[0;34m.\u001b[0m\u001b[0mshape\u001b[0m\u001b[0;34m[\u001b[0m\u001b[0;36m0\u001b[0m\u001b[0;34m]\u001b[0m\u001b[0;34m\u001b[0m\u001b[0m\n\u001b[0m\u001b[1;32m      2\u001b[0m \u001b[0maccuracy_eu\u001b[0m \u001b[0;34m=\u001b[0m \u001b[0;34m(\u001b[0m\u001b[0mnp\u001b[0m\u001b[0;34m.\u001b[0m\u001b[0msum\u001b[0m\u001b[0;34m(\u001b[0m\u001b[0mtest_label\u001b[0m\u001b[0;34m==\u001b[0m\u001b[0mlabel_eucl\u001b[0m\u001b[0;34m)\u001b[0m\u001b[0;34m/\u001b[0m\u001b[0mnb_sample\u001b[0m\u001b[0;34m)\u001b[0m\u001b[0;34m*\u001b[0m\u001b[0;36m100\u001b[0m\u001b[0;34m\u001b[0m\u001b[0m\n\u001b[1;32m      3\u001b[0m \u001b[0maccuracy_norm\u001b[0m \u001b[0;34m=\u001b[0m \u001b[0;34m(\u001b[0m\u001b[0mnp\u001b[0m\u001b[0;34m.\u001b[0m\u001b[0msum\u001b[0m\u001b[0;34m(\u001b[0m\u001b[0mtest_label\u001b[0m\u001b[0;34m==\u001b[0m\u001b[0mlabel_norm\u001b[0m\u001b[0;34m)\u001b[0m\u001b[0;34m/\u001b[0m\u001b[0mnb_sample\u001b[0m\u001b[0;34m)\u001b[0m\u001b[0;34m*\u001b[0m\u001b[0;36m100\u001b[0m\u001b[0;34m\u001b[0m\u001b[0m\n\u001b[1;32m      4\u001b[0m \u001b[0maccuracy_battacha\u001b[0m \u001b[0;34m=\u001b[0m \u001b[0;34m(\u001b[0m\u001b[0mnp\u001b[0m\u001b[0;34m.\u001b[0m\u001b[0msum\u001b[0m\u001b[0;34m(\u001b[0m\u001b[0mtest_label\u001b[0m\u001b[0;34m==\u001b[0m\u001b[0mlabel_battacha\u001b[0m\u001b[0;34m)\u001b[0m\u001b[0;34m/\u001b[0m\u001b[0mnb_sample\u001b[0m\u001b[0;34m)\u001b[0m\u001b[0;34m*\u001b[0m\u001b[0;36m100\u001b[0m\u001b[0;34m\u001b[0m\u001b[0m\n\u001b[1;32m      5\u001b[0m \u001b[0maccuracy_KL\u001b[0m \u001b[0;34m=\u001b[0m \u001b[0;34m(\u001b[0m\u001b[0mnp\u001b[0m\u001b[0;34m.\u001b[0m\u001b[0msum\u001b[0m\u001b[0;34m(\u001b[0m\u001b[0mtest_label\u001b[0m\u001b[0;34m==\u001b[0m\u001b[0mlabel_KL\u001b[0m\u001b[0;34m)\u001b[0m\u001b[0;34m/\u001b[0m\u001b[0mnb_sample\u001b[0m\u001b[0;34m)\u001b[0m\u001b[0;34m*\u001b[0m\u001b[0;36m100\u001b[0m\u001b[0;34m\u001b[0m\u001b[0m\n",
      "\u001b[0;31mNameError\u001b[0m: name 'test_label' is not defined"
     ]
    }
   ],
   "source": []
  },
  {
   "cell_type": "code",
   "execution_count": 26,
   "metadata": {
    "collapsed": false
   },
   "outputs": [
    {
     "name": "stdout",
     "output_type": "stream",
     "text": [
      "[('X', 14812), ('F', 11472), ('Y', 10978), ('G', 15578), ('Z', 14688), ('H', 16841), ('0', 14493), ('I', 6346), ('1', 9017), ('J', 8130), ('2', 12730), ('K', 15852), ('3', 12331), ('L', 10718), ('4', 14178), ('M', 28692), ('5', 12688), ('N', 18558), ('6', 14169), ('O', 15664), ('7', 9441), ('P', 13586), ('8', 14715), ('Q', 15812), ('9', 15067), ('R', 16944), ('S', 12674), ('A', 15604), ('T', 9524), ('B', 18270), ('U', 15065), ('C', 12510), ('V', 14331), ('D', 17193), ('W', 27015), ('E', 15122), ('X', 14646), ('F', 11356), ('Y', 10149), ('G', 15511), ('Z', 14019), ('H', 17054), ('0', 14819), ('I', 8167), ('1', 8644), ('J', 8143), ('2', 11447), ('K', 15819), ('3', 11978), ('L', 8303), ('4', 12605), ('M', 28315), ('5', 11910), ('N', 18447), ('6', 13574), ('O', 15313), ('7', 8628), ('P', 13562), ('8', 13507), ('Q', 15990), ('9', 13864), ('R', 16820), ('S', 12001), ('A', 15440), ('T', 9098), ('B', 17803), ('U', 14373), ('C', 12621), ('V', 13523), ('D', 17290), ('W', 27736), ('E', 15213), ('X', 14323), ('F', 11410), ('Y', 10230), ('G', 14544)]\n"
     ]
    }
   ],
   "source": [
    "for idx,img in enumerate(range(36,76)):\n",
    "    if idx!= 0:\n",
    "        test_label = np.vstack((test_label,label_list[img]))\n",
    "    else:\n",
    "        test_label = label_list[img]\n",
    "        \n"
   ]
  },
  {
   "cell_type": "code",
   "execution_count": 28,
   "metadata": {
    "collapsed": false
   },
   "outputs": [
    {
     "name": "stdout",
     "output_type": "stream",
     "text": [
      "Accuracy with euclidian classsifier: 82.50 %\n",
      "Accuracy with normalized classsifier: 82.50 %\n",
      "Accuracy with Battacharrya classsifier: 85.00 %\n"
     ]
    }
   ],
   "source": [
    "nb_sample = test_label.shape[0]\n",
    "accuracy_eu = (np.sum(test_label==label_eucl)/nb_sample)*100\n",
    "accuracy_norm = (np.sum(test_label==label_norm)/nb_sample)*100\n",
    "accuracy_battacha = (np.sum(test_label==label_battacha)/nb_sample)*100\n",
    "#accuracy_KL = (np.sum(test_label==label_KL)/nb_sample)*100\n",
    "print(\"Accuracy with euclidian classsifier: {0:.2f} %\".format(accuracy_eu))\n",
    "print(\"Accuracy with normalized classsifier: {0:.2f} %\".format(accuracy_norm))\n",
    "print(\"Accuracy with Battacharrya classsifier: {0:.2f} %\".format(accuracy_battacha))\n",
    "#print(\"Accuracy with KL classsifier: {0:.2f} %\".format(accuracy_KL))"
   ]
  },
  {
   "cell_type": "code",
   "execution_count": null,
   "metadata": {
    "collapsed": true
   },
   "outputs": [],
   "source": []
  },
  {
   "cell_type": "code",
   "execution_count": null,
   "metadata": {
    "collapsed": true
   },
   "outputs": [],
   "source": []
  },
  {
   "cell_type": "code",
   "execution_count": null,
   "metadata": {
    "collapsed": true
   },
   "outputs": [],
   "source": []
  }
 ],
 "metadata": {
  "kernelspec": {
   "display_name": "Python 3",
   "language": "python",
   "name": "python3"
  },
  "language_info": {
   "codemirror_mode": {
    "name": "ipython",
    "version": 3
   },
   "file_extension": ".py",
   "mimetype": "text/x-python",
   "name": "python",
   "nbconvert_exporter": "python",
   "pygments_lexer": "ipython3",
   "version": "3.6.1"
  }
 },
 "nbformat": 4,
 "nbformat_minor": 2
}
