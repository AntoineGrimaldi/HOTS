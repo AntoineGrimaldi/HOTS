{
 "cells": [
  {
   "cell_type": "code",
   "execution_count": 1,
   "metadata": {
    "collapsed": false
   },
   "outputs": [],
   "source": [
    "%load_ext autoreload\n",
    "%autoreload 2\n",
    "%matplotlib inline"
   ]
  },
  {
   "cell_type": "code",
   "execution_count": 2,
   "metadata": {
    "collapsed": false
   },
   "outputs": [],
   "source": [
    "import numpy as np\n",
    "import matplotlib.pyplot as plt\n",
    "import HOTS.libUnpackAtis as ua\n",
    "import HOTS.libDataHelper as dh\n",
    "from HOTS.GestExp import GestExp, MonitorHisto\n",
    "from HOTS.GestExp import save_object, load_object, Classify\n",
    "from HOTS.Monitor import DisplaySurface2D\n"
   ]
  },
  {
   "cell_type": "code",
   "execution_count": null,
   "metadata": {
    "collapsed": false
   },
   "outputs": [],
   "source": [
    "settingsFile = \"/Users/boutin.v/Documents/DataBase/GEST/newlayer_digit.hotsnetwork\"\n",
    "#specs = dh.superLoadHOTSNetworkSettingsFromFile(settingsFile, True)\n",
    "#dbspecs = dh.superReadDB(specs.db_file, specs.db_path)\n",
    "\n",
    "\n",
    "records_path = '../Records/EXP_05_GestureHomeo/'"
   ]
  },
  {
   "cell_type": "markdown",
   "metadata": {},
   "source": [
    "## 1 polarity, 5*5 patches, 14 dico"
   ]
  },
  {
   "cell_type": "code",
   "execution_count": null,
   "metadata": {
    "collapsed": false
   },
   "outputs": [
    {
     "name": "stdout",
     "output_type": "stream",
     "text": [
      "------ Loaded settings ------\n",
      "Enable viewer: True (Port: 3330, update 8)\n",
      " \n",
      "Number of polarities of the input: 1\n",
      "Number of dimensions and sizes: 2, [304 240]\n",
      "Number of layers: 1\n",
      "> 8, 10000.0, 2\n",
      "Number of fixed layers: 0\n",
      " \n",
      "Data file: none\n",
      "DB file: /Users/boutin.v/Documents/DataBase/GEST/testoids_1.db\n",
      "DB path: /Users/boutin.v/Documents/DataBase/GEST/complete_chris_db/\n",
      "Workdir path: \n",
      "Save id: \n",
      "------ End of settings ------\n",
      " \n",
      "840 files in the DB.\n",
      "Training on 200 files\n",
      "learned file 10/200\n",
      "learned file 20/200\n",
      "learned file 30/200\n",
      "learned file 40/200\n",
      "learned file 50/200\n",
      "learned file 60/200\n",
      "learned file 70/200\n"
     ]
    }
   ],
   "source": [
    "\n",
    "\n",
    "Records = True\n",
    "nb_dico = 32\n",
    "R = 2\n",
    "tau = 0.03\n",
    "\n",
    "if Records == True:\n",
    "    Exp0 = GestExp(settingsFile,nb_dico=nb_dico,R=R,tau=tau,verbose=1)\n",
    "    Prototype = Exp0.learnHomeo(eta=0.03, eta_homeo=0.01,nb_file=200)\n",
    "    training_data = Exp0.GenerateHistogramHomeo(train=True,nb_file=200)\n",
    "    testing_data = Exp0.GenerateHistogramHomeo(train=False)\n",
    "    save_object(Exp0,records_path + 'Exp5_2017_12_16.pkl')\n",
    "else :\n",
    "    Exp0 = load_object(records_path + 'Exp5_2017_12_16.pkl')"
   ]
  },
  {
   "cell_type": "code",
   "execution_count": null,
   "metadata": {
    "collapsed": false
   },
   "outputs": [],
   "source": [
    "accuracy = Classify(Exp0.training_data,Exp0.testing_data,n_neighbors=4)\n",
    "print('classification accuracy : {0:.2f} %'.format(accuracy*100))\n",
    "DisplaySurface2D(Exp0.Prototype,nb_polarities=1)\n",
    "MonitorHisto(Exp0.total_activation)"
   ]
  },
  {
   "cell_type": "code",
   "execution_count": null,
   "metadata": {
    "collapsed": false,
    "scrolled": false
   },
   "outputs": [],
   "source": [
    "stop_here"
   ]
  },
  {
   "cell_type": "code",
   "execution_count": null,
   "metadata": {
    "collapsed": false
   },
   "outputs": [],
   "source": [
    "accuracy = Classify(Exp0.training_data,Exp0.testing_data,n_neighbors=4)\n",
    "print('classification accuracy : {0:.2f} %'.format(accuracy*100))\n",
    "DisplaySurface2D(Exp0.Prototype,nb_polarities=1)\n",
    "MonitorHisto(Exp0.total_activation)\n"
   ]
  },
  {
   "cell_type": "code",
   "execution_count": null,
   "metadata": {
    "collapsed": false
   },
   "outputs": [],
   "source": [
    "Surface_test = np.random.rand(150,25)\n",
    "a = Surface_test/np.linalg.norm(Surface_test,ord=2,axis=1)[:,None]"
   ]
  },
  {
   "cell_type": "code",
   "execution_count": null,
   "metadata": {
    "collapsed": false
   },
   "outputs": [],
   "source": [
    "print(np.linalg.norm(a,ord=2,axis=1))"
   ]
  },
  {
   "cell_type": "code",
   "execution_count": null,
   "metadata": {
    "collapsed": false
   },
   "outputs": [],
   "source": [
    "(all_histo,labels) = Exp0.GenerateHistogramMaro(train=True, nb_file=10)"
   ]
  },
  {
   "cell_type": "code",
   "execution_count": null,
   "metadata": {
    "collapsed": false
   },
   "outputs": [],
   "source": [
    "     \n"
   ]
  },
  {
   "cell_type": "code",
   "execution_count": null,
   "metadata": {
    "collapsed": false
   },
   "outputs": [],
   "source": [
    "'''\n",
    "activation = nb_activation + nb_activ\n",
    "target = torch.mean(activation)#(nb_image*l0_sparseness)//nb_dico\n",
    "tau = - (torch.max(activation)-target)/np.log(0.2)\n",
    "#tau = -(nb_image*l0_sparseness-target)/np.log(0.2)\n",
    "mu = 0.3\n",
    "#modulation_exp = (1-mu)*Modulation + mu*(5*torch.exp(-(nb_activation-target)/tau))\n",
    "modulation_exp = torch.exp( (1-mu)*torch.log(Modulation) - mu*((activation-target)/tau))\n",
    "#print(modulation_exp)\n",
    "#print(modulation_exp.size())\n",
    "mean_res = torch.mean(res)\n",
    "tau = - torch.max(activation)/np.log(0.5)\n",
    "'''"
   ]
  },
  {
   "cell_type": "code",
   "execution_count": null,
   "metadata": {
    "collapsed": false
   },
   "outputs": [],
   "source": []
  },
  {
   "cell_type": "code",
   "execution_count": null,
   "metadata": {
    "collapsed": false
   },
   "outputs": [],
   "source": [
    "Prototype1,res,nb_proto  = learn1(dbspecs,nb_file=50,verbose=1)\n"
   ]
  },
  {
   "cell_type": "code",
   "execution_count": null,
   "metadata": {
    "collapsed": false
   },
   "outputs": [],
   "source": [
    "DisplaySurface2D(Prototype1,nb_polarities=1)\n",
    "MonitorHisto(nb_proto)"
   ]
  },
  {
   "cell_type": "code",
   "execution_count": null,
   "metadata": {
    "collapsed": false
   },
   "outputs": [],
   "source": [
    "plt.plot(res)"
   ]
  },
  {
   "cell_type": "code",
   "execution_count": null,
   "metadata": {
    "collapsed": true
   },
   "outputs": [],
   "source": [
    "    def GenerateHistogram(dico, database, train=True, nb_file=None):\n",
    "        SpTe_Layer1 = STS(tau=0.03, R=2, initial_time=1)\n",
    "        if train == True and nb_file==None:\n",
    "            nb_file = np.sum(np.array(database.dblabels) == 1)\n",
    "        if train == False and nb_file==None:\n",
    "            nb_file = np.sum(np.array(database.dblabels) == 2)\n",
    "        if train== True:\n",
    "            mode = 1\n",
    "            if self.verbose!=0:\n",
    "                print('coding on training db')\n",
    "        else :\n",
    "            if self.verbose!=0:\n",
    "                print('coding on testing db')\n",
    "            mode = 2\n",
    "        nb_dico = dico.shape[0]\n",
    "        all_histo = np.zeros((nb_file,nb_dico))\n",
    "        labels = np.zeros(nb_file)\n",
    "        idx_train = 1\n",
    "        for idf, dblabel in enumerate(database.dblabels):\n",
    "            if dblabel == mode :\n",
    "                if (self.verbose!=0) and (idx_train % 10 == 0):\n",
    "                    print('coded file {0}/{1}'.format(idx_train, nb_file))\n",
    "\n",
    "                histo = np.zeros(nb_dico).astype(int)\n",
    "\n",
    "                filepath = database.path + database.filenames[idf]\n",
    "                event = LoadGestureDB(filepath, OutOnePolarity=True)\n",
    "                Surface_Layer1 = SpTe_Layer1.create(event = event,kernel='linear')\n",
    "                filt = np.sum(Surface_Layer1, axis = 1) > 2*R\n",
    "                Surface_Layer2 = Surface_Layer1[filt,:]\n",
    "\n",
    "                for idx, Si in enumerate(Surface_Layer2):\n",
    "                    #Distance_to_proto = np.linalg.norm(Si - self.Prototype,ord=2,axis=1)\n",
    "                    #closest_proto_idx = np.argmin(Distance_to_proto)\n",
    "                    \n",
    "                    histo[closest_proto_idx] += 1\n",
    "\n",
    "                all_histo[idx_train-1,:] = histo/np.sum(histo)\n",
    "                labels[idx_train-1] = self.dbspecs.labelids[idf]\n",
    "                if idx_train == nb_file:\n",
    "                    break\n",
    "                idx_train+=1\n",
    "        return (all_histo,labels)"
   ]
  },
  {
   "cell_type": "code",
   "execution_count": null,
   "metadata": {
    "collapsed": false
   },
   "outputs": [],
   "source": [
    "def GenerateHistogram1(dico, database, train=True, nb_file=None, verbose=0):\n",
    "    if train == True and nb_file==None:\n",
    "        nb_file = np.sum(np.array(database.dblabels) == 1)\n",
    "    if train == False and nb_file==None:\n",
    "        nb_file = np.sum(np.array(database.dblabels) == 2)\n",
    "    if train== True:\n",
    "        mode = 1\n",
    "        if verbose!=0:\n",
    "            print('coding on training db')\n",
    "    else :\n",
    "        if verbose!=0:\n",
    "            print('coding on testing db')\n",
    "        mode = 2\n",
    "        \n",
    "    nb_dico = dico.shape[0]\n",
    "    all_histo = np.zeros((nb_file,nb_dico))\n",
    "    labels = np.zeros(nb_file)\n",
    "    idx_train = 1\n",
    "    for idf, dblabel in enumerate(database.dblabels):\n",
    "        if dblabel == mode :\n",
    "            if (verbose!=0) and (idx_train % 10 == 0):\n",
    "                print('coded file {0}/{1}'.format(idx_train, nb_file))\n",
    "            \n",
    "            histo = np.zeros(nb_dico).astype(int)\n",
    "\n",
    "            filepath = database.path + database.filenames[idf]\n",
    "            event = LoadGestureDB(filepath, OutOnePolarity=True)\n",
    "            Surface_Layer1 = SpTe_Layer1.create(event = event,kernel='linear')\n",
    "            filt = np.sum(Surface_Layer1, axis = 1) > 2*R\n",
    "            Surface_Layer2 = Surface_Layer1[filt,:] \n",
    "            corr = Surface_Layer2 @ dico.T\n",
    "            for idx, Si in enumerate(Surface_Layer2):\n",
    "                c = corr[idx, :].copy()\n",
    "                closest_proto_idx = np.argmax(c)\n",
    "                #Distance_to_proto = np.linalg.norm(Si - Prototype1,ord=2,axis=1)\n",
    "                #closest_proto_idx = np.argmin(Distance_to_proto)\n",
    "                histo[closest_proto_idx] += 1\n",
    "\n",
    "            all_histo[idx_train-1,:] = histo/np.sum(histo)\n",
    "            labels[idx_train-1] = database.labelids[idf]\n",
    "            if idx_train == nb_file:\n",
    "                break\n",
    "            idx_train+=1\n",
    "    return (all_histo,labels)"
   ]
  },
  {
   "cell_type": "code",
   "execution_count": null,
   "metadata": {
    "collapsed": false
   },
   "outputs": [],
   "source": [
    "(histo_train,label_train) = GenerateHistogram1(Prototype1,dbspecs,train=True\\\n",
    "                                              ,nb_file=100,verbose=1)"
   ]
  },
  {
   "cell_type": "code",
   "execution_count": null,
   "metadata": {
    "collapsed": false
   },
   "outputs": [],
   "source": [
    "(histo_test,label_test) = GenerateHistogram1(Prototype1,dbspecs,train=False,nb_file=30,verbose=1)"
   ]
  },
  {
   "cell_type": "code",
   "execution_count": null,
   "metadata": {
    "collapsed": true
   },
   "outputs": [],
   "source": []
  },
  {
   "cell_type": "code",
   "execution_count": null,
   "metadata": {
    "collapsed": false
   },
   "outputs": [],
   "source": [
    "from sklearn.neighbors import KNeighborsClassifier"
   ]
  },
  {
   "cell_type": "code",
   "execution_count": null,
   "metadata": {
    "collapsed": false
   },
   "outputs": [],
   "source": [
    "neigh = KNeighborsClassifier(n_neighbors=3,metric='euclidean')\n",
    "neigh.fit(histo_train,label_train)"
   ]
  },
  {
   "cell_type": "code",
   "execution_count": null,
   "metadata": {
    "collapsed": false
   },
   "outputs": [],
   "source": [
    "neigh.score(histo_test,label_test)"
   ]
  },
  {
   "cell_type": "code",
   "execution_count": null,
   "metadata": {
    "collapsed": false
   },
   "outputs": [],
   "source": [
    "np.array(database.dblabels) == 2)"
   ]
  },
  {
   "cell_type": "code",
   "execution_count": null,
   "metadata": {
    "collapsed": false
   },
   "outputs": [],
   "source": []
  },
  {
   "cell_type": "code",
   "execution_count": null,
   "metadata": {
    "collapsed": false
   },
   "outputs": [],
   "source": []
  },
  {
   "cell_type": "code",
   "execution_count": null,
   "metadata": {
    "collapsed": false
   },
   "outputs": [],
   "source": []
  },
  {
   "cell_type": "code",
   "execution_count": null,
   "metadata": {
    "collapsed": false
   },
   "outputs": [],
   "source": []
  },
  {
   "cell_type": "code",
   "execution_count": null,
   "metadata": {
    "collapsed": true
   },
   "outputs": [],
   "source": []
  },
  {
   "cell_type": "code",
   "execution_count": null,
   "metadata": {
    "collapsed": false,
    "scrolled": false
   },
   "outputs": [],
   "source": [
    "\n",
    "    \n"
   ]
  },
  {
   "cell_type": "code",
   "execution_count": null,
   "metadata": {
    "collapsed": false
   },
   "outputs": [],
   "source": []
  },
  {
   "cell_type": "code",
   "execution_count": null,
   "metadata": {
    "collapsed": false
   },
   "outputs": [],
   "source": []
  },
  {
   "cell_type": "code",
   "execution_count": null,
   "metadata": {
    "collapsed": false
   },
   "outputs": [],
   "source": []
  },
  {
   "cell_type": "code",
   "execution_count": null,
   "metadata": {
    "collapsed": false
   },
   "outputs": [],
   "source": []
  },
  {
   "cell_type": "code",
   "execution_count": null,
   "metadata": {
    "collapsed": false
   },
   "outputs": [],
   "source": []
  },
  {
   "cell_type": "code",
   "execution_count": null,
   "metadata": {
    "collapsed": false
   },
   "outputs": [],
   "source": []
  },
  {
   "cell_type": "code",
   "execution_count": null,
   "metadata": {
    "collapsed": false
   },
   "outputs": [],
   "source": []
  },
  {
   "cell_type": "code",
   "execution_count": null,
   "metadata": {
    "collapsed": false
   },
   "outputs": [],
   "source": []
  },
  {
   "cell_type": "code",
   "execution_count": null,
   "metadata": {
    "collapsed": false
   },
   "outputs": [],
   "source": []
  },
  {
   "cell_type": "code",
   "execution_count": null,
   "metadata": {
    "collapsed": false
   },
   "outputs": [],
   "source": []
  },
  {
   "cell_type": "code",
   "execution_count": null,
   "metadata": {
    "collapsed": false
   },
   "outputs": [],
   "source": []
  },
  {
   "cell_type": "code",
   "execution_count": null,
   "metadata": {
    "collapsed": false
   },
   "outputs": [],
   "source": []
  },
  {
   "cell_type": "code",
   "execution_count": null,
   "metadata": {
    "collapsed": false
   },
   "outputs": [],
   "source": []
  },
  {
   "cell_type": "code",
   "execution_count": null,
   "metadata": {
    "collapsed": true
   },
   "outputs": [],
   "source": []
  },
  {
   "cell_type": "code",
   "execution_count": null,
   "metadata": {
    "collapsed": false
   },
   "outputs": [],
   "source": []
  },
  {
   "cell_type": "code",
   "execution_count": null,
   "metadata": {
    "collapsed": false
   },
   "outputs": [],
   "source": []
  },
  {
   "cell_type": "code",
   "execution_count": null,
   "metadata": {
    "collapsed": false
   },
   "outputs": [],
   "source": []
  },
  {
   "cell_type": "code",
   "execution_count": null,
   "metadata": {
    "collapsed": false
   },
   "outputs": [],
   "source": []
  },
  {
   "cell_type": "code",
   "execution_count": null,
   "metadata": {
    "collapsed": false
   },
   "outputs": [],
   "source": []
  },
  {
   "cell_type": "code",
   "execution_count": null,
   "metadata": {
    "collapsed": false
   },
   "outputs": [],
   "source": []
  },
  {
   "cell_type": "code",
   "execution_count": null,
   "metadata": {
    "collapsed": true
   },
   "outputs": [],
   "source": []
  }
 ],
 "metadata": {
  "kernelspec": {
   "display_name": "Python 3",
   "language": "python",
   "name": "python3"
  },
  "language_info": {
   "codemirror_mode": {
    "name": "ipython",
    "version": 3
   },
   "file_extension": ".py",
   "mimetype": "text/x-python",
   "name": "python",
   "nbconvert_exporter": "python",
   "pygments_lexer": "ipython3",
   "version": "3.6.1"
  }
 },
 "nbformat": 4,
 "nbformat_minor": 2
}
