{
 "cells": [
  {
   "cell_type": "code",
   "execution_count": 1,
   "metadata": {
    "collapsed": false
   },
   "outputs": [],
   "source": [
    "%load_ext autoreload\n",
    "%autoreload 2"
   ]
  },
  {
   "cell_type": "code",
   "execution_count": 2,
   "metadata": {
    "collapsed": false
   },
   "outputs": [
    {
     "ename": "ImportError",
     "evalue": "cannot import name 'Filter'",
     "output_type": "error",
     "traceback": [
      "\u001b[0;31m---------------------------------------------------------------------------\u001b[0m",
      "\u001b[0;31mImportError\u001b[0m                               Traceback (most recent call last)",
      "\u001b[0;32m<ipython-input-2-7b269e01563f>\u001b[0m in \u001b[0;36m<module>\u001b[0;34m()\u001b[0m\n\u001b[1;32m      7\u001b[0m \u001b[0;32mfrom\u001b[0m \u001b[0mHOTS\u001b[0m\u001b[0;34m.\u001b[0m\u001b[0mEvent\u001b[0m \u001b[0;32mimport\u001b[0m \u001b[0mEvent\u001b[0m\u001b[0;34m\u001b[0m\u001b[0m\n\u001b[1;32m      8\u001b[0m \u001b[0;32mfrom\u001b[0m \u001b[0mHOTS\u001b[0m\u001b[0;34m.\u001b[0m\u001b[0mMonitor\u001b[0m \u001b[0;32mimport\u001b[0m \u001b[0mDisplaySurface3D\u001b[0m\u001b[0;34m,\u001b[0m \u001b[0mDisplaySurface2D\u001b[0m\u001b[0;34m,\u001b[0m \u001b[0mDisplayImage\u001b[0m\u001b[0;34m\u001b[0m\u001b[0m\n\u001b[0;32m----> 9\u001b[0;31m \u001b[0;32mfrom\u001b[0m \u001b[0mHOTS\u001b[0m\u001b[0;34m.\u001b[0m\u001b[0mLayer\u001b[0m \u001b[0;32mimport\u001b[0m \u001b[0mFilter\u001b[0m\u001b[0;34m\u001b[0m\u001b[0m\n\u001b[0m\u001b[1;32m     10\u001b[0m \u001b[0mget_ipython\u001b[0m\u001b[0;34m(\u001b[0m\u001b[0;34m)\u001b[0m\u001b[0;34m.\u001b[0m\u001b[0mmagic\u001b[0m\u001b[0;34m(\u001b[0m\u001b[0;34m'matplotlib inline'\u001b[0m\u001b[0;34m)\u001b[0m\u001b[0;34m\u001b[0m\u001b[0m\n",
      "\u001b[0;31mImportError\u001b[0m: cannot import name 'Filter'"
     ]
    }
   ],
   "source": [
    "import numpy as np\n",
    "import matplotlib.pyplot as plt\n",
    "import cv2\n",
    "import time\n",
    "\n",
    "from HOTS.STS import STS\n",
    "from HOTS.Event import Event\n",
    "from HOTS.Monitor import DisplaySurface3D, DisplaySurface2D, DisplayImage\n",
    "from HOTS.Layer import Filter\n",
    "%matplotlib inline"
   ]
  },
  {
   "cell_type": "markdown",
   "metadata": {},
   "source": [
    "## Filtering isolated events"
   ]
  },
  {
   "cell_type": "code",
   "execution_count": null,
   "metadata": {
    "collapsed": false
   },
   "outputs": [],
   "source": [
    "\n",
    "event0 = Event(ImageSize=(32,32), ListPolarities=[-1,1])\n",
    "\n",
    "event0.LoadFromMat('../Data/ExtractedStabilized.mat',image_number=35)\n",
    "\n",
    "InputFilter = Filter(event0)\n",
    "event1 = InputFilter.FilterNHBD(threshold=15,neighbourhood=2)\n",
    "\n",
    "DisplayImage([event0,event1])"
   ]
  },
  {
   "cell_type": "markdown",
   "metadata": {},
   "source": [
    "## Plotting the time Matrix"
   ]
  },
  {
   "cell_type": "code",
   "execution_count": null,
   "metadata": {
    "collapsed": true
   },
   "outputs": [],
   "source": [
    "target_event = 10000"
   ]
  },
  {
   "cell_type": "code",
   "execution_count": null,
   "metadata": {
    "collapsed": false
   },
   "outputs": [],
   "source": [
    "SpTe= STS(tau=0.02, R=2,verbose=1,initial_time=0)\n",
    "Surface = SpTe.create(event = event1, stop = target_event)"
   ]
  },
  {
   "cell_type": "code",
   "execution_count": null,
   "metadata": {
    "collapsed": false
   },
   "outputs": [],
   "source": [
    "w = SpTe.R + 1\n",
    "x,y = event1.address[target_event, 0],event1.address[target_event, 1]\n",
    "(x0, y0) = (x + SpTe.R - w, y + SpTe.R - w)\n",
    "(x1, y1) = (x + SpTe.R + w, y + SpTe.R + w)"
   ]
  },
  {
   "cell_type": "code",
   "execution_count": null,
   "metadata": {
    "collapsed": false
   },
   "outputs": [],
   "source": [
    "fig, axs = plt.subplots(1, 3, figsize=(3 * 4, 1 * 4))\n",
    "image = np.zeros((SpTe.width, SpTe.height))\n",
    "image[event1.address[0:target_event+1, 0].T + SpTe.R, \n",
    "      event1.address[0:target_event+1, 1].T + SpTe.R] = event1.polarity[0:target_event+1].T\n",
    "image1 = image.copy()\n",
    "cv2.rectangle(image1, (y0, x0), (y1, x1),\n",
    "              color=np.amax(image)+0.6)\n",
    "#axs[0].axis('off')\n",
    "axs[0].imshow(image1,cmap = plt.gray(),interpolation='nearest')\n",
    "\n",
    "ImageTimeMat1 = SpTe.ListOfTimeMatrix[0, :, :]\n",
    "cv2.rectangle(ImageTimeMat1, (y0, x0), (y1, x1),\n",
    "              color=np.amax(ImageTimeMat1) + 0.001)\n",
    "#axs[1].axis('off')\n",
    "axs[1].imshow(ImageTimeMat1, cmap=plt.viridis(),interpolation='nearest')\n",
    "\n",
    "ImageTimeMat2 = SpTe.ListOfTimeMatrix[1, :, :]\n",
    "cv2.rectangle(ImageTimeMat2, (y0, x0), (y1, x1),\n",
    "              color=np.amax(ImageTimeMat2) + 0.001)\n",
    "#axs[2].axis('off')\n",
    "axs[2].imshow(ImageTimeMat2, cmap=plt.plasma(),interpolation='nearest');"
   ]
  },
  {
   "cell_type": "markdown",
   "metadata": {},
   "source": [
    "## Plotting the local time Matrix"
   ]
  },
  {
   "cell_type": "code",
   "execution_count": null,
   "metadata": {
    "collapsed": false
   },
   "outputs": [],
   "source": [
    "fig, axs = plt.subplots(1, 3, figsize=(3 * 4, 1 * 4))\n",
    "x_t, y_t = x + SpTe.R, y + SpTe.R\n",
    "\n",
    "image_local = image[(x_t-SpTe.R):(x_t+SpTe.R+1), (y_t-SpTe.R):(y_t+SpTe.R+1)]\n",
    "axs[0].imshow(image_local, cmap=plt.gray(), interpolation = \"nearest\")\n",
    "axs[1].imshow(SpTe.LocalTimeMatrix[0, :, :], cmap=plt.gray(),interpolation = \"nearest\")\n",
    "axs[2].imshow(SpTe.LocalTimeMatrix[1, :, :], cmap=plt.gray(), interpolation = \"nearest\");"
   ]
  },
  {
   "cell_type": "markdown",
   "metadata": {},
   "source": [
    "## Plotting the Spatio Temporal Surfaces"
   ]
  },
  {
   "cell_type": "code",
   "execution_count": null,
   "metadata": {
    "collapsed": false
   },
   "outputs": [],
   "source": [
    "print(Surface.shape)\n",
    "Surface_to_plot = Surface[-1,:][np.newaxis,:]\n",
    "\n",
    "DisplaySurface3D(Surface_to_plot,nb_polarities=2,angle=(40,0))"
   ]
  },
  {
   "cell_type": "code",
   "execution_count": null,
   "metadata": {
    "collapsed": false
   },
   "outputs": [],
   "source": [
    "DisplaySurface2D(Surface_to_plot,nb_polarities=2)"
   ]
  },
  {
   "cell_type": "code",
   "execution_count": null,
   "metadata": {
    "collapsed": true
   },
   "outputs": [],
   "source": []
  },
  {
   "cell_type": "code",
   "execution_count": null,
   "metadata": {
    "collapsed": false
   },
   "outputs": [],
   "source": []
  },
  {
   "cell_type": "code",
   "execution_count": null,
   "metadata": {
    "collapsed": false
   },
   "outputs": [],
   "source": []
  },
  {
   "cell_type": "code",
   "execution_count": null,
   "metadata": {
    "collapsed": false
   },
   "outputs": [],
   "source": []
  },
  {
   "cell_type": "code",
   "execution_count": null,
   "metadata": {
    "collapsed": true
   },
   "outputs": [],
   "source": []
  }
 ],
 "metadata": {
  "kernelspec": {
   "display_name": "Python 3",
   "language": "python",
   "name": "python3"
  },
  "language_info": {
   "codemirror_mode": {
    "name": "ipython",
    "version": 3
   },
   "file_extension": ".py",
   "mimetype": "text/x-python",
   "name": "python",
   "nbconvert_exporter": "python",
   "pygments_lexer": "ipython3",
   "version": "3.6.1"
  }
 },
 "nbformat": 4,
 "nbformat_minor": 2
}
