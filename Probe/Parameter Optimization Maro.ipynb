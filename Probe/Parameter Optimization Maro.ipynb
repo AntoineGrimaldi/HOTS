{
 "cells": [
  {
   "cell_type": "markdown",
   "metadata": {},
   "source": [
    "This Notebook aimed at replicating Maro's work in the parper Mid-air Gesture Recognition Using Event-Based Vision Sensor"
   ]
  },
  {
   "cell_type": "code",
   "execution_count": 2,
   "metadata": {
    "collapsed": false
   },
   "outputs": [],
   "source": [
    "%load_ext autoreload\n",
    "%autoreload 2\n",
    "%matplotlib inline"
   ]
  },
  {
   "cell_type": "code",
   "execution_count": 3,
   "metadata": {
    "collapsed": false
   },
   "outputs": [],
   "source": [
    "import numpy as np\n",
    "import matplotlib.pyplot as plt\n",
    "\n",
    "\n",
    "from HOTS.Monitor import GenerateAM, DisplayAM\n",
    "from HOTS.Event import Event\n",
    "from HOTS.STS import STS\n",
    "from HOTS.Layer import ClusteringLayer, FilterNHBD\n",
    "from HOTS.Monitor import DisplayImage, DisplayHisto, DisplaySurface3D, DisplaySurface2D\n",
    "from HOTS.Tools import SaveObject, LoadObject, GenerateHistogram\n",
    "from HOTS.Classifier import Classifier\n",
    "from HOTS.Network import Network\n",
    "from HOTS.Cluster import KmeansMaro\n",
    "from HOTS.Tools import EuclidianNorm, BattachaNorm, NormalizedNorm\n"
   ]
  },
  {
   "cell_type": "markdown",
   "metadata": {},
   "source": []
  },
  {
   "cell_type": "code",
   "execution_count": 4,
   "metadata": {
    "collapsed": false
   },
   "outputs": [],
   "source": [
    "tau = 0.02\n",
    "R = 2\n",
    "KN = 2\n",
    "nb_cluster = 4\n",
    "ImageSize = (32,32)"
   ]
  },
  {
   "cell_type": "code",
   "execution_count": 14,
   "metadata": {
    "collapsed": true
   },
   "outputs": [],
   "source": [
    "label_list=LoadObject('../Data/alphabet_label.pkl')\n",
    "    ## Generate Groud Truth Label\n",
    "training_sample = list(np.arange(36))\n",
    "testing_sample = list(np.arange(36,76))\n",
    "for idx,img in enumerate(testing_sample):\n",
    "        if idx!= 0:\n",
    "            test_label = np.vstack((test_label,label_list[img]))\n",
    "        else:\n",
    "            test_label = label_list[img]\n",
    "    "
   ]
  },
  {
   "cell_type": "code",
   "execution_count": 15,
   "metadata": {
    "collapsed": false
   },
   "outputs": [
    {
     "name": "stdout",
     "output_type": "stream",
     "text": [
      "FilterValue 0\n",
      "(40, 16)\n",
      "(36, 16)\n",
      "(40, 1)\n",
      "(40, 1)\n",
      "(40, 1)\n",
      "Classification Accuracy : \n",
      " Euclidian Norm 97.50% \n",
      " Normalized Norm 95.00%             \n",
      " BattachaNorm 95.00%\n",
      "FilterValue 1\n",
      "(40, 16)\n",
      "(36, 16)\n",
      "(40, 1)\n",
      "(40, 1)\n",
      "(40, 1)\n",
      "Classification Accuracy : \n",
      " Euclidian Norm 97.50% \n",
      " Normalized Norm 97.50%             \n",
      " BattachaNorm 97.50%\n",
      "FilterValue 2\n",
      "(40, 16)\n",
      "(36, 16)\n",
      "(40, 1)\n",
      "(40, 1)\n",
      "(40, 1)\n",
      "Classification Accuracy : \n",
      " Euclidian Norm 97.50% \n",
      " Normalized Norm 100.00%             \n",
      " BattachaNorm 97.50%\n",
      "FilterValue 3\n",
      "(40, 16)\n",
      "(36, 16)\n",
      "(40, 1)\n",
      "(40, 1)\n",
      "(40, 1)\n",
      "Classification Accuracy : \n",
      " Euclidian Norm 92.50% \n",
      " Normalized Norm 90.00%             \n",
      " BattachaNorm 92.50%\n",
      "FilterValue 4\n",
      "(40, 16)\n",
      "(36, 16)\n",
      "(40, 1)\n",
      "(40, 1)\n",
      "(40, 1)\n",
      "Classification Accuracy : \n",
      " Euclidian Norm 97.50% \n",
      " Normalized Norm 95.00%             \n",
      " BattachaNorm 97.50%\n",
      "FilterValue 5\n",
      "(40, 16)\n",
      "(36, 16)\n",
      "(40, 1)\n",
      "(40, 1)\n",
      "(40, 1)\n",
      "Classification Accuracy : \n",
      " Euclidian Norm 95.00% \n",
      " Normalized Norm 97.50%             \n",
      " BattachaNorm 97.50%\n",
      "FilterValue 6\n",
      "(40, 16)\n",
      "(36, 16)\n",
      "(40, 1)\n",
      "(40, 1)\n",
      "(40, 1)\n",
      "Classification Accuracy : \n",
      " Euclidian Norm 87.50% \n",
      " Normalized Norm 80.00%             \n",
      " BattachaNorm 80.00%\n",
      "FilterValue 8\n",
      "(24, 16)\n",
      "(28, 16)\n",
      "(24, 1)\n",
      "(24, 1)\n",
      "(24, 1)\n"
     ]
    },
    {
     "ename": "ValueError",
     "evalue": "shape mismatch: objects cannot be broadcast to a single shape",
     "output_type": "error",
     "traceback": [
      "\u001b[0;31m---------------------------------------------------------------------------\u001b[0m",
      "\u001b[0;31mValueError\u001b[0m                                Traceback (most recent call last)",
      "\u001b[0;32m<ipython-input-15-7b4d3b319590>\u001b[0m in \u001b[0;36m<module>\u001b[0;34m()\u001b[0m\n\u001b[1;32m     24\u001b[0m     \u001b[0mprint\u001b[0m\u001b[0;34m(\u001b[0m\u001b[0;34m'FilterValue'\u001b[0m\u001b[0;34m,\u001b[0m\u001b[0mFilterTHR\u001b[0m\u001b[0;34m)\u001b[0m\u001b[0;34m\u001b[0m\u001b[0m\n\u001b[1;32m     25\u001b[0m     \u001b[0mClassif0\u001b[0m \u001b[0;34m=\u001b[0m \u001b[0mClassifier\u001b[0m\u001b[0;34m(\u001b[0m\u001b[0mevent0_o_tr\u001b[0m\u001b[0;34m,\u001b[0m\u001b[0mevent0_o_te\u001b[0m\u001b[0;34m,\u001b[0m \u001b[0mTrainingLabel\u001b[0m\u001b[0;34m=\u001b[0m\u001b[0mlabel_list\u001b[0m\u001b[0;34m,\u001b[0m \u001b[0mGroundTruth\u001b[0m\u001b[0;34m=\u001b[0m\u001b[0mtest_label\u001b[0m\u001b[0;34m)\u001b[0m\u001b[0;34m\u001b[0m\u001b[0m\n\u001b[0;32m---> 26\u001b[0;31m     \u001b[0m_\u001b[0m\u001b[0;34m,\u001b[0m\u001b[0m_\u001b[0m\u001b[0;34m,\u001b[0m\u001b[0m_\u001b[0m \u001b[0;34m=\u001b[0m \u001b[0mClassif0\u001b[0m\u001b[0;34m.\u001b[0m\u001b[0mHistogramDistance\u001b[0m\u001b[0;34m(\u001b[0m\u001b[0;34m)\u001b[0m\u001b[0;34m\u001b[0m\u001b[0m\n\u001b[0m",
      "\u001b[0;32m/Users/boutin.v/Documents/HOTS/HOTS/Classifier.py\u001b[0m in \u001b[0;36mHistogramDistance\u001b[0;34m(self)\u001b[0m\n\u001b[1;32m     46\u001b[0m         \u001b[0mprint\u001b[0m\u001b[0;34m(\u001b[0m\u001b[0moutput_battacha\u001b[0m\u001b[0;34m.\u001b[0m\u001b[0mshape\u001b[0m\u001b[0;34m)\u001b[0m\u001b[0;34m\u001b[0m\u001b[0m\n\u001b[1;32m     47\u001b[0m \u001b[0;34m\u001b[0m\u001b[0m\n\u001b[0;32m---> 48\u001b[0;31m         \u001b[0maccu\u001b[0m \u001b[0;34m=\u001b[0m \u001b[0mself\u001b[0m\u001b[0;34m.\u001b[0m\u001b[0mAccuracy\u001b[0m\u001b[0;34m(\u001b[0m\u001b[0;34m[\u001b[0m\u001b[0moutput_eucli\u001b[0m\u001b[0;34m,\u001b[0m \u001b[0moutput_norm\u001b[0m\u001b[0;34m,\u001b[0m \u001b[0moutput_battacha\u001b[0m\u001b[0;34m]\u001b[0m\u001b[0;34m,\u001b[0m \u001b[0mself\u001b[0m\u001b[0;34m.\u001b[0m\u001b[0mGroundTruth\u001b[0m\u001b[0;34m)\u001b[0m\u001b[0;34m\u001b[0m\u001b[0m\n\u001b[0m\u001b[1;32m     49\u001b[0m \u001b[0;34m\u001b[0m\u001b[0m\n\u001b[1;32m     50\u001b[0m         print('Classification Accuracy : \\n Euclidian Norm {0:.2f}% \\n Normalized Norm {1:.2f}% \\\n",
      "\u001b[0;32m/Users/boutin.v/Documents/HOTS/HOTS/Classifier.py\u001b[0m in \u001b[0;36mAccuracy\u001b[0;34m(self, list_of_classified, GroundTruth)\u001b[0m\n\u001b[1;32m     60\u001b[0m         \u001b[0mlist_of_accuracy\u001b[0m \u001b[0;34m=\u001b[0m \u001b[0mlist\u001b[0m\u001b[0;34m(\u001b[0m\u001b[0;34m)\u001b[0m\u001b[0;34m\u001b[0m\u001b[0m\n\u001b[1;32m     61\u001b[0m         \u001b[0;32mfor\u001b[0m \u001b[0midx\u001b[0m\u001b[0;34m,\u001b[0m\u001b[0meach_norm\u001b[0m \u001b[0;32min\u001b[0m \u001b[0menumerate\u001b[0m\u001b[0;34m(\u001b[0m\u001b[0mlist_of_classified\u001b[0m\u001b[0;34m)\u001b[0m\u001b[0;34m:\u001b[0m\u001b[0;34m\u001b[0m\u001b[0m\n\u001b[0;32m---> 62\u001b[0;31m             \u001b[0mlist_of_accuracy\u001b[0m\u001b[0;34m.\u001b[0m\u001b[0mappend\u001b[0m\u001b[0;34m(\u001b[0m\u001b[0;34m(\u001b[0m\u001b[0mnp\u001b[0m\u001b[0;34m.\u001b[0m\u001b[0msum\u001b[0m\u001b[0;34m(\u001b[0m\u001b[0mlist_of_classified\u001b[0m\u001b[0;34m[\u001b[0m\u001b[0midx\u001b[0m\u001b[0;34m]\u001b[0m\u001b[0;34m==\u001b[0m\u001b[0mGroundTruth\u001b[0m\u001b[0;34m)\u001b[0m\u001b[0;34m/\u001b[0m\u001b[0mnb_sample\u001b[0m\u001b[0;34m)\u001b[0m\u001b[0;34m)\u001b[0m\u001b[0;34m\u001b[0m\u001b[0m\n\u001b[0m\u001b[1;32m     63\u001b[0m \u001b[0;34m\u001b[0m\u001b[0m\n\u001b[1;32m     64\u001b[0m         \u001b[0;32mreturn\u001b[0m \u001b[0mlist_of_accuracy\u001b[0m\u001b[0;34m\u001b[0m\u001b[0m\n",
      "\u001b[0;31mValueError\u001b[0m: shape mismatch: objects cannot be broadcast to a single shape"
     ]
    }
   ],
   "source": [
    "for FilterTHR in [0,1,2,3,4,5,6]:\n",
    "    ## Defining the network\n",
    "    L1 = ClusteringLayer(tau=tau, R=R, verbose=0, mode='Maro', ThrFilter=FilterTHR)\n",
    "    L2 = ClusteringLayer(tau=10*tau, R=2*R, verbose=0, mode='Maro', ThrFilter=FilterTHR)\n",
    "    L3 = ClusteringLayer(tau=10*10*tau, R=2*2*R, verbose=0, mode='Maro', ThrFilter=FilterTHR)\n",
    "    Net = Network([L1,L2,L3])    \n",
    "    \n",
    "    #### Training The Cluster on 5 images\n",
    "    image_list = [1, 32, 19, 22, 29]\n",
    "    event0 = Event(ImageSize=(32,32), ListPolarities=[-1,1],OutOnePolarity=False)\n",
    "    event0.LoadFromMat('../Data/ExtractedStabilized.mat',image_number=image_list)\n",
    "    ClusterLayer, event_output = Net.TrainCluster(event = event0,nb_cluster=nb_cluster, KN=KN,)\n",
    "    \n",
    "    ## Generating histogram for training samples\n",
    "    event0_tr = Event(ImageSize=(32,32), ListPolarities=[-1,1], OutOnePolarity=False)\n",
    "    event0_tr.LoadFromMat('../Data/ExtractedStabilized.mat',image_number=training_sample)\n",
    "    event0_o_tr = Net.RunNetwork(event0_tr, ClusterList=ClusterLayer)\n",
    "    \n",
    "    ## Generating histogram for the test samples\n",
    "    event0_te = Event(ImageSize=(32,32), ListPolarities=[-1,1], OutOnePolarity=False)\n",
    "    event0_te.LoadFromMat('../Data/ExtractedStabilized.mat',image_number=testing_sample)\n",
    "    event0_o_te = Net.RunNetwork(event0_te, ClusterList=ClusterLayer)\n",
    "    \n",
    "    print('FilterValue',FilterTHR)\n",
    "    Classif0 = Classifier(event0_o_tr,event0_o_te, TrainingLabel=label_list, GroundTruth=test_label)\n",
    "    _,_,_ = Classif0.HistogramDistance()"
   ]
  },
  {
   "cell_type": "code",
   "execution_count": 16,
   "metadata": {
    "collapsed": false
   },
   "outputs": [
    {
     "name": "stdout",
     "output_type": "stream",
     "text": [
      "FilterValue 8\n",
      "(24, 16)\n",
      "(28, 16)\n"
     ]
    },
    {
     "ename": "ValueError",
     "evalue": "shape mismatch: objects cannot be broadcast to a single shape",
     "output_type": "error",
     "traceback": [
      "\u001b[0;31m---------------------------------------------------------------------------\u001b[0m",
      "\u001b[0;31mValueError\u001b[0m                                Traceback (most recent call last)",
      "\u001b[0;32m<ipython-input-16-1d64c5e514cb>\u001b[0m in \u001b[0;36m<module>\u001b[0;34m()\u001b[0m\n\u001b[1;32m      1\u001b[0m \u001b[0mprint\u001b[0m\u001b[0;34m(\u001b[0m\u001b[0;34m'FilterValue'\u001b[0m\u001b[0;34m,\u001b[0m\u001b[0mFilterTHR\u001b[0m\u001b[0;34m)\u001b[0m\u001b[0;34m\u001b[0m\u001b[0m\n\u001b[1;32m      2\u001b[0m \u001b[0mClassif0\u001b[0m \u001b[0;34m=\u001b[0m \u001b[0mClassifier\u001b[0m\u001b[0;34m(\u001b[0m\u001b[0mevent0_o_tr\u001b[0m\u001b[0;34m,\u001b[0m\u001b[0mevent0_o_te\u001b[0m\u001b[0;34m,\u001b[0m \u001b[0mTrainingLabel\u001b[0m\u001b[0;34m=\u001b[0m\u001b[0mlabel_list\u001b[0m\u001b[0;34m,\u001b[0m \u001b[0mGroundTruth\u001b[0m\u001b[0;34m=\u001b[0m\u001b[0mtest_label\u001b[0m\u001b[0;34m)\u001b[0m\u001b[0;34m\u001b[0m\u001b[0m\n\u001b[0;32m----> 3\u001b[0;31m \u001b[0m_\u001b[0m\u001b[0;34m,\u001b[0m\u001b[0m_\u001b[0m\u001b[0;34m,\u001b[0m\u001b[0m_\u001b[0m \u001b[0;34m=\u001b[0m \u001b[0mClassif0\u001b[0m\u001b[0;34m.\u001b[0m\u001b[0mHistogramDistance\u001b[0m\u001b[0;34m(\u001b[0m\u001b[0;34m)\u001b[0m\u001b[0;34m\u001b[0m\u001b[0m\n\u001b[0m",
      "\u001b[0;32m/Users/boutin.v/Documents/HOTS/HOTS/Classifier.py\u001b[0m in \u001b[0;36mHistogramDistance\u001b[0;34m(self)\u001b[0m\n\u001b[1;32m     46\u001b[0m         \u001b[0;31m#print(output_battacha.shape)\u001b[0m\u001b[0;34m\u001b[0m\u001b[0;34m\u001b[0m\u001b[0m\n\u001b[1;32m     47\u001b[0m \u001b[0;34m\u001b[0m\u001b[0m\n\u001b[0;32m---> 48\u001b[0;31m         \u001b[0maccu\u001b[0m \u001b[0;34m=\u001b[0m \u001b[0mself\u001b[0m\u001b[0;34m.\u001b[0m\u001b[0mAccuracy\u001b[0m\u001b[0;34m(\u001b[0m\u001b[0;34m[\u001b[0m\u001b[0moutput_eucli\u001b[0m\u001b[0;34m,\u001b[0m \u001b[0moutput_norm\u001b[0m\u001b[0;34m,\u001b[0m \u001b[0moutput_battacha\u001b[0m\u001b[0;34m]\u001b[0m\u001b[0;34m,\u001b[0m \u001b[0mself\u001b[0m\u001b[0;34m.\u001b[0m\u001b[0mGroundTruth\u001b[0m\u001b[0;34m)\u001b[0m\u001b[0;34m\u001b[0m\u001b[0m\n\u001b[0m\u001b[1;32m     49\u001b[0m \u001b[0;34m\u001b[0m\u001b[0m\n\u001b[1;32m     50\u001b[0m         print('Classification Accuracy : \\n Euclidian Norm {0:.2f}% \\n Normalized Norm {1:.2f}% \\\n",
      "\u001b[0;32m/Users/boutin.v/Documents/HOTS/HOTS/Classifier.py\u001b[0m in \u001b[0;36mAccuracy\u001b[0;34m(self, list_of_classified, GroundTruth)\u001b[0m\n\u001b[1;32m     60\u001b[0m         \u001b[0mlist_of_accuracy\u001b[0m \u001b[0;34m=\u001b[0m \u001b[0mlist\u001b[0m\u001b[0;34m(\u001b[0m\u001b[0;34m)\u001b[0m\u001b[0;34m\u001b[0m\u001b[0m\n\u001b[1;32m     61\u001b[0m         \u001b[0;32mfor\u001b[0m \u001b[0midx\u001b[0m\u001b[0;34m,\u001b[0m\u001b[0meach_norm\u001b[0m \u001b[0;32min\u001b[0m \u001b[0menumerate\u001b[0m\u001b[0;34m(\u001b[0m\u001b[0mlist_of_classified\u001b[0m\u001b[0;34m)\u001b[0m\u001b[0;34m:\u001b[0m\u001b[0;34m\u001b[0m\u001b[0m\n\u001b[0;32m---> 62\u001b[0;31m             \u001b[0mlist_of_accuracy\u001b[0m\u001b[0;34m.\u001b[0m\u001b[0mappend\u001b[0m\u001b[0;34m(\u001b[0m\u001b[0;34m(\u001b[0m\u001b[0mnp\u001b[0m\u001b[0;34m.\u001b[0m\u001b[0msum\u001b[0m\u001b[0;34m(\u001b[0m\u001b[0mlist_of_classified\u001b[0m\u001b[0;34m[\u001b[0m\u001b[0midx\u001b[0m\u001b[0;34m]\u001b[0m\u001b[0;34m==\u001b[0m\u001b[0mGroundTruth\u001b[0m\u001b[0;34m)\u001b[0m\u001b[0;34m/\u001b[0m\u001b[0mnb_sample\u001b[0m\u001b[0;34m)\u001b[0m\u001b[0;34m)\u001b[0m\u001b[0;34m\u001b[0m\u001b[0m\n\u001b[0m\u001b[1;32m     63\u001b[0m \u001b[0;34m\u001b[0m\u001b[0m\n\u001b[1;32m     64\u001b[0m         \u001b[0;32mreturn\u001b[0m \u001b[0mlist_of_accuracy\u001b[0m\u001b[0;34m\u001b[0m\u001b[0m\n",
      "\u001b[0;31mValueError\u001b[0m: shape mismatch: objects cannot be broadcast to a single shape"
     ]
    }
   ],
   "source": [
    "print('FilterValue',FilterTHR)\n",
    "Classif0 = Classifier(event0_o_tr,event0_o_te, TrainingLabel=label_list, GroundTruth=test_label)\n",
    "_,_,_ = Classif0.HistogramDistance()"
   ]
  },
  {
   "cell_type": "code",
   "execution_count": null,
   "metadata": {
    "collapsed": false
   },
   "outputs": [],
   "source": [
    "event0_o_"
   ]
  },
  {
   "cell_type": "code",
   "execution_count": 20,
   "metadata": {
    "collapsed": true
   },
   "outputs": [],
   "source": [
    "tau = 0.02\n",
    "R = 2\n",
    "KN = 2\n",
    "nb_cluster = 4\n",
    "ImageSize = (32,32)"
   ]
  },
  {
   "cell_type": "code",
   "execution_count": 21,
   "metadata": {
    "collapsed": true
   },
   "outputs": [],
   "source": [
    "label_list=LoadObject('../Data/alphabet_label.pkl')\n",
    "    ## Generate Groud Truth Label\n",
    "training_sample = list(np.arange(36))\n",
    "testing_sample = list(np.arange(36,76))\n",
    "for idx,img in enumerate(testing_sample):\n",
    "        if idx!= 0:\n",
    "            test_label = np.vstack((test_label,label_list[img]))\n",
    "        else:\n",
    "            test_label = label_list[img]"
   ]
  },
  {
   "cell_type": "code",
   "execution_count": 22,
   "metadata": {
    "collapsed": false
   },
   "outputs": [
    {
     "name": "stdout",
     "output_type": "stream",
     "text": [
      "FilterValue 0\n",
      "(40, 16)\n",
      "(36, 16)\n",
      "Classification Accuracy : \n",
      " Euclidian Norm 100.00% \n",
      " Normalized Norm 100.00%             \n",
      " BattachaNorm 100.00%\n",
      "FilterValue 1\n",
      "(40, 16)\n",
      "(36, 16)\n",
      "Classification Accuracy : \n",
      " Euclidian Norm 100.00% \n",
      " Normalized Norm 100.00%             \n",
      " BattachaNorm 100.00%\n",
      "FilterValue 2\n",
      "(40, 16)\n",
      "(36, 16)\n",
      "Classification Accuracy : \n",
      " Euclidian Norm 100.00% \n",
      " Normalized Norm 100.00%             \n",
      " BattachaNorm 100.00%\n",
      "FilterValue 3\n",
      "(40, 16)\n",
      "(36, 16)\n",
      "Classification Accuracy : \n",
      " Euclidian Norm 100.00% \n",
      " Normalized Norm 100.00%             \n",
      " BattachaNorm 100.00%\n"
     ]
    },
    {
     "ename": "KeyboardInterrupt",
     "evalue": "",
     "output_type": "error",
     "traceback": [
      "\u001b[0;31m---------------------------------------------------------------------------\u001b[0m",
      "\u001b[0;31mKeyboardInterrupt\u001b[0m                         Traceback (most recent call last)",
      "\u001b[0;32m<ipython-input-22-8ed827220804>\u001b[0m in \u001b[0;36m<module>\u001b[0;34m()\u001b[0m\n\u001b[1;32m     20\u001b[0m     \u001b[0mevent0_te\u001b[0m \u001b[0;34m=\u001b[0m \u001b[0mEvent\u001b[0m\u001b[0;34m(\u001b[0m\u001b[0mImageSize\u001b[0m\u001b[0;34m=\u001b[0m\u001b[0;34m(\u001b[0m\u001b[0;36m32\u001b[0m\u001b[0;34m,\u001b[0m\u001b[0;36m32\u001b[0m\u001b[0;34m)\u001b[0m\u001b[0;34m,\u001b[0m \u001b[0mListPolarities\u001b[0m\u001b[0;34m=\u001b[0m\u001b[0;34m[\u001b[0m\u001b[0;34m-\u001b[0m\u001b[0;36m1\u001b[0m\u001b[0;34m,\u001b[0m\u001b[0;36m1\u001b[0m\u001b[0;34m]\u001b[0m\u001b[0;34m,\u001b[0m \u001b[0mOutOnePolarity\u001b[0m\u001b[0;34m=\u001b[0m\u001b[0;32mFalse\u001b[0m\u001b[0;34m)\u001b[0m\u001b[0;34m\u001b[0m\u001b[0m\n\u001b[1;32m     21\u001b[0m     \u001b[0mevent0_te\u001b[0m\u001b[0;34m.\u001b[0m\u001b[0mLoadFromMat\u001b[0m\u001b[0;34m(\u001b[0m\u001b[0;34m'../Data/ExtractedStabilized.mat'\u001b[0m\u001b[0;34m,\u001b[0m\u001b[0mimage_number\u001b[0m\u001b[0;34m=\u001b[0m\u001b[0mtesting_sample\u001b[0m\u001b[0;34m)\u001b[0m\u001b[0;34m\u001b[0m\u001b[0m\n\u001b[0;32m---> 22\u001b[0;31m     \u001b[0mevent0_o_te\u001b[0m \u001b[0;34m=\u001b[0m \u001b[0mNet\u001b[0m\u001b[0;34m.\u001b[0m\u001b[0mRunNetwork\u001b[0m\u001b[0;34m(\u001b[0m\u001b[0mevent0_te\u001b[0m\u001b[0;34m,\u001b[0m \u001b[0mClusterList\u001b[0m\u001b[0;34m=\u001b[0m\u001b[0mClusterLayer\u001b[0m\u001b[0;34m)\u001b[0m\u001b[0;34m\u001b[0m\u001b[0m\n\u001b[0m\u001b[1;32m     23\u001b[0m \u001b[0;34m\u001b[0m\u001b[0m\n\u001b[1;32m     24\u001b[0m     \u001b[0mprint\u001b[0m\u001b[0;34m(\u001b[0m\u001b[0;34m'FilterValue'\u001b[0m\u001b[0;34m,\u001b[0m\u001b[0mFilterTHR\u001b[0m\u001b[0;34m)\u001b[0m\u001b[0;34m\u001b[0m\u001b[0m\n",
      "\u001b[0;32m/Users/boutin.v/Documents/HOTS/HOTS/Network.py\u001b[0m in \u001b[0;36mRunNetwork\u001b[0;34m(self, event, ClusterList)\u001b[0m\n\u001b[1;32m     36\u001b[0m                 \u001b[0mevent_o\u001b[0m \u001b[0;34m=\u001b[0m \u001b[0meach_Layer\u001b[0m\u001b[0;34m.\u001b[0m\u001b[0mRunFilter\u001b[0m\u001b[0;34m(\u001b[0m\u001b[0mevent_i\u001b[0m\u001b[0;34m)\u001b[0m\u001b[0;34m\u001b[0m\u001b[0m\n\u001b[1;32m     37\u001b[0m             \u001b[0;32melif\u001b[0m \u001b[0meach_Layer\u001b[0m\u001b[0;34m.\u001b[0m\u001b[0mtype\u001b[0m \u001b[0;34m==\u001b[0m \u001b[0;34m'Layer'\u001b[0m\u001b[0;34m:\u001b[0m\u001b[0;34m\u001b[0m\u001b[0m\n\u001b[0;32m---> 38\u001b[0;31m                 \u001b[0mevent_o\u001b[0m \u001b[0;34m=\u001b[0m \u001b[0meach_Layer\u001b[0m\u001b[0;34m.\u001b[0m\u001b[0mRunLayer\u001b[0m\u001b[0;34m(\u001b[0m\u001b[0mevent_i\u001b[0m\u001b[0;34m,\u001b[0m \u001b[0mCluster\u001b[0m \u001b[0;34m=\u001b[0m \u001b[0mClusterList\u001b[0m\u001b[0;34m[\u001b[0m\u001b[0midx_Layer\u001b[0m\u001b[0;34m]\u001b[0m \u001b[0;34m)\u001b[0m\u001b[0;34m\u001b[0m\u001b[0m\n\u001b[0m\u001b[1;32m     39\u001b[0m                 \u001b[0midx_Layer\u001b[0m \u001b[0;34m=\u001b[0m \u001b[0midx_Layer\u001b[0m \u001b[0;34m+\u001b[0m \u001b[0;36m1\u001b[0m\u001b[0;34m\u001b[0m\u001b[0m\n\u001b[1;32m     40\u001b[0m                 \u001b[0;32mif\u001b[0m \u001b[0mself\u001b[0m\u001b[0;34m.\u001b[0m\u001b[0mverbose\u001b[0m\u001b[0;34m>\u001b[0m\u001b[0;36m0\u001b[0m\u001b[0;34m:\u001b[0m\u001b[0;34m\u001b[0m\u001b[0m\n",
      "\u001b[0;32m/Users/boutin.v/Documents/HOTS/HOTS/Layer.py\u001b[0m in \u001b[0;36mRunLayer\u001b[0;34m(self, event, Cluster)\u001b[0m\n\u001b[1;32m     99\u001b[0m             \u001b[0mself\u001b[0m\u001b[0;34m.\u001b[0m\u001b[0moutput\u001b[0m\u001b[0;34m,\u001b[0m\u001b[0m_\u001b[0m \u001b[0;34m=\u001b[0m \u001b[0mCluster\u001b[0m\u001b[0;34m.\u001b[0m\u001b[0mpredict\u001b[0m\u001b[0;34m(\u001b[0m\u001b[0mSTS\u001b[0m\u001b[0;34m=\u001b[0m\u001b[0mself\u001b[0m\u001b[0;34m.\u001b[0m\u001b[0mSpTe_Layer\u001b[0m\u001b[0;34m,\u001b[0m\u001b[0mevent\u001b[0m \u001b[0;34m=\u001b[0m \u001b[0mevent_filtered\u001b[0m\u001b[0;34m)\u001b[0m\u001b[0;34m\u001b[0m\u001b[0m\n\u001b[1;32m    100\u001b[0m         \u001b[0;32melif\u001b[0m \u001b[0mself\u001b[0m\u001b[0;34m.\u001b[0m\u001b[0mmode\u001b[0m \u001b[0;34m==\u001b[0m\u001b[0;34m'MaroExp'\u001b[0m\u001b[0;34m:\u001b[0m\u001b[0;34m\u001b[0m\u001b[0m\n\u001b[0;32m--> 101\u001b[0;31m             \u001b[0mSurface_Layer\u001b[0m \u001b[0;34m=\u001b[0m \u001b[0mself\u001b[0m\u001b[0;34m.\u001b[0m\u001b[0mSpTe_Layer\u001b[0m\u001b[0;34m.\u001b[0m\u001b[0mcreate\u001b[0m\u001b[0;34m(\u001b[0m\u001b[0mevent\u001b[0m\u001b[0;34m=\u001b[0m\u001b[0mself\u001b[0m\u001b[0;34m.\u001b[0m\u001b[0minput\u001b[0m\u001b[0;34m,\u001b[0m \u001b[0mkernel\u001b[0m\u001b[0;34m=\u001b[0m\u001b[0;34m'exponential'\u001b[0m\u001b[0;34m)\u001b[0m\u001b[0;34m\u001b[0m\u001b[0m\n\u001b[0m\u001b[1;32m    102\u001b[0m             \u001b[0;31m#event_filtered, filt = self.SpTe_Layer.FilterRecent(event = self.input, threshold=self.ThrFilter)\u001b[0m\u001b[0;34m\u001b[0m\u001b[0;34m\u001b[0m\u001b[0m\n\u001b[1;32m    103\u001b[0m             \u001b[0mself\u001b[0m\u001b[0;34m.\u001b[0m\u001b[0moutput\u001b[0m\u001b[0;34m,\u001b[0m\u001b[0m_\u001b[0m \u001b[0;34m=\u001b[0m \u001b[0mCluster\u001b[0m\u001b[0;34m.\u001b[0m\u001b[0mpredict\u001b[0m\u001b[0;34m(\u001b[0m\u001b[0mSTS\u001b[0m\u001b[0;34m=\u001b[0m\u001b[0mself\u001b[0m\u001b[0;34m.\u001b[0m\u001b[0mSpTe_Layer\u001b[0m\u001b[0;34m,\u001b[0m\u001b[0mevent\u001b[0m \u001b[0;34m=\u001b[0m \u001b[0mself\u001b[0m\u001b[0;34m.\u001b[0m\u001b[0minput\u001b[0m\u001b[0;34m)\u001b[0m\u001b[0;34m\u001b[0m\u001b[0m\n",
      "\u001b[0;32m/Users/boutin.v/Documents/HOTS/HOTS/STS.py\u001b[0m in \u001b[0;36mcreate\u001b[0;34m(self, event, stop, kernel)\u001b[0m\n\u001b[1;32m     52\u001b[0m             \u001b[0mself\u001b[0m\u001b[0;34m.\u001b[0m\u001b[0mListOfTimeMatrix\u001b[0m\u001b[0;34m[\u001b[0m\u001b[0midx_pola\u001b[0m\u001b[0;34m,\u001b[0m \u001b[0mx\u001b[0m\u001b[0;34m,\u001b[0m \u001b[0my\u001b[0m\u001b[0;34m]\u001b[0m \u001b[0;34m=\u001b[0m \u001b[0mt\u001b[0m\u001b[0;34m\u001b[0m\u001b[0m\n\u001b[1;32m     53\u001b[0m             \u001b[0;31m#self.LocalTimeMatrix = self.ListOfTimeMatrix[:,(x-self.R):(x+self.R+1),(y-self.R):(y+self.R+1)]\u001b[0m\u001b[0;34m\u001b[0m\u001b[0;34m\u001b[0m\u001b[0m\n\u001b[0;32m---> 54\u001b[0;31m             \u001b[0mself\u001b[0m\u001b[0;34m.\u001b[0m\u001b[0mLocalTimeDiff\u001b[0m \u001b[0;34m=\u001b[0m \u001b[0mt\u001b[0m \u001b[0;34m-\u001b[0m \u001b[0mself\u001b[0m\u001b[0;34m.\u001b[0m\u001b[0mListOfTimeMatrix\u001b[0m\u001b[0;34m[\u001b[0m\u001b[0;34m:\u001b[0m\u001b[0;34m,\u001b[0m\u001b[0;34m(\u001b[0m\u001b[0mx\u001b[0m\u001b[0;34m-\u001b[0m\u001b[0mself\u001b[0m\u001b[0;34m.\u001b[0m\u001b[0mR\u001b[0m\u001b[0;34m)\u001b[0m\u001b[0;34m:\u001b[0m\u001b[0;34m(\u001b[0m\u001b[0mx\u001b[0m\u001b[0;34m+\u001b[0m\u001b[0mself\u001b[0m\u001b[0;34m.\u001b[0m\u001b[0mR\u001b[0m\u001b[0;34m+\u001b[0m\u001b[0;36m1\u001b[0m\u001b[0;34m)\u001b[0m\u001b[0;34m,\u001b[0m\u001b[0;34m(\u001b[0m\u001b[0my\u001b[0m\u001b[0;34m-\u001b[0m\u001b[0mself\u001b[0m\u001b[0;34m.\u001b[0m\u001b[0mR\u001b[0m\u001b[0;34m)\u001b[0m\u001b[0;34m:\u001b[0m\u001b[0;34m(\u001b[0m\u001b[0my\u001b[0m\u001b[0;34m+\u001b[0m\u001b[0mself\u001b[0m\u001b[0;34m.\u001b[0m\u001b[0mR\u001b[0m\u001b[0;34m+\u001b[0m\u001b[0;36m1\u001b[0m\u001b[0;34m)\u001b[0m\u001b[0;34m]\u001b[0m\u001b[0;34m\u001b[0m\u001b[0m\n\u001b[0m\u001b[1;32m     55\u001b[0m \u001b[0;34m\u001b[0m\u001b[0m\n\u001b[1;32m     56\u001b[0m             \u001b[0;32mif\u001b[0m \u001b[0mkernel\u001b[0m \u001b[0;34m==\u001b[0m \u001b[0;34m'exponential'\u001b[0m\u001b[0;34m:\u001b[0m\u001b[0;34m\u001b[0m\u001b[0m\n",
      "\u001b[0;31mKeyboardInterrupt\u001b[0m: "
     ]
    }
   ],
   "source": [
    "for FilterTHR in [0,1,2,3,4,5,6]:\n",
    "    ## Defining the network\n",
    "    L1 = ClusteringLayer(tau=tau, R=R, verbose=0, mode='MaroExp', ThrFilter=FilterTHR)\n",
    "    L2 = ClusteringLayer(tau=10*tau, R=2*R, verbose=0, mode='MaroExp', ThrFilter=FilterTHR)\n",
    "    L3 = ClusteringLayer(tau=10*10*tau, R=2*2*R, verbose=0, mode='MaroExp', ThrFilter=FilterTHR)\n",
    "    Net = Network([L1,L2,L3])    \n",
    "    \n",
    "    #### Training The Cluster on 5 images\n",
    "    image_list = [1, 32, 19, 22, 29]\n",
    "    event0 = Event(ImageSize=(32,32), ListPolarities=[-1,1],OutOnePolarity=False)\n",
    "    event0.LoadFromMat('../Data/ExtractedStabilized.mat',image_number=image_list)\n",
    "    ClusterLayer, event_output = Net.TrainCluster(event = event0,nb_cluster=nb_cluster, KN=KN)\n",
    "    \n",
    "    ## Generating histogram for training samples\n",
    "    event0_tr = Event(ImageSize=(32,32), ListPolarities=[-1,1], OutOnePolarity=False)\n",
    "    event0_tr.LoadFromMat('../Data/ExtractedStabilized.mat',image_number=training_sample)\n",
    "    event0_o_tr = Net.RunNetwork(event0_tr, ClusterList=ClusterLayer)\n",
    "    \n",
    "    ## Generating histogram for the test samples\n",
    "    event0_te = Event(ImageSize=(32,32), ListPolarities=[-1,1], OutOnePolarity=False)\n",
    "    event0_te.LoadFromMat('../Data/ExtractedStabilized.mat',image_number=testing_sample)\n",
    "    event0_o_te = Net.RunNetwork(event0_te, ClusterList=ClusterLayer)\n",
    "    \n",
    "    print('FilterValue',FilterTHR)\n",
    "    Classif0 = Classifier(event0_o_tr,event0_o_te, TrainingLabel=label_list, GroundTruth=test_label)\n",
    "    _,_,_ = Classif0.HistogramDistance()"
   ]
  },
  {
   "cell_type": "code",
   "execution_count": 8,
   "metadata": {
    "collapsed": false
   },
   "outputs": [
    {
     "name": "stdout",
     "output_type": "stream",
     "text": [
      "FilterValue 0\n",
      "Classification Accuracy : \n",
      " Euclidian Norm 92.50% \n",
      " Normalized Norm 90.00%             \n",
      " BattachaNorm 92.50%\n",
      "FilterValue 1\n",
      "Classification Accuracy : \n",
      " Euclidian Norm 92.50% \n",
      " Normalized Norm 92.50%             \n",
      " BattachaNorm 92.50%\n",
      "FilterValue 2\n",
      "Classification Accuracy : \n",
      " Euclidian Norm 92.50% \n",
      " Normalized Norm 92.50%             \n",
      " BattachaNorm 92.50%\n",
      "FilterValue 3\n",
      "Classification Accuracy : \n",
      " Euclidian Norm 87.50% \n",
      " Normalized Norm 87.50%             \n",
      " BattachaNorm 90.00%\n",
      "FilterValue 4\n",
      "Classification Accuracy : \n",
      " Euclidian Norm 85.00% \n",
      " Normalized Norm 90.00%             \n",
      " BattachaNorm 90.00%\n",
      "FilterValue 5\n",
      "Classification Accuracy : \n",
      " Euclidian Norm 90.00% \n",
      " Normalized Norm 85.00%             \n",
      " BattachaNorm 90.00%\n",
      "FilterValue 6\n",
      "Classification Accuracy : \n",
      " Euclidian Norm 90.00% \n",
      " Normalized Norm 80.00%             \n",
      " BattachaNorm 82.50%\n"
     ]
    }
   ],
   "source": [
    "label_list=LoadObject('../Data/alphabet_label.pkl')\n",
    "    ## Generate Groud Truth Label\n",
    "training_sample = list(np.arange(36))\n",
    "testing_sample = list(np.arange(36,76))\n",
    "for idx,img in enumerate(testing_sample):\n",
    "        if idx!= 0:\n",
    "            test_label = np.vstack((test_label,label_list[img]))\n",
    "        else:\n",
    "            test_label = label_list[img]\n",
    "\n",
    "for FilterTHR in [0,1,2,3,4,5,6]:\n",
    "    ## Defining the network\n",
    "    L1 = ClusteringLayer(tau=tau, R=R, verbose=0, mode='MaroExp', ThrFilter=FilterTHR)\n",
    "    L2 = ClusteringLayer(tau=10*tau, R=2*R, verbose=0, mode='MaroExp', ThrFilter=FilterTHR)\n",
    "    L3 = ClusteringLayer(tau=10*10*tau, R=2*2*R, verbose=0, mode='MaroExp', ThrFilter=FilterTHR)\n",
    "    Net = Network([L1,L2,L3])    \n",
    "    \n",
    "    #### Training The Cluster on 5 images\n",
    "    image_list = [1, 32, 19, 22, 29]\n",
    "    event0 = Event(ImageSize=(32,32), ListPolarities=[-1,1],OutOnePolarity=False)\n",
    "    event0.LoadFromMat('../Data/ExtractedStabilized.mat',image_number=image_list)\n",
    "    ClusterLayer, event_output = Net.TrainCluster(event = event0,nb_cluster=nb_cluster, KN=KN,NbCycle=5)\n",
    "    \n",
    "    ## Generating histogram for training samples\n",
    "    event0_tr = Event(ImageSize=(32,32), ListPolarities=[-1,1], OutOnePolarity=False)\n",
    "    event0_tr.LoadFromMat('../Data/ExtractedStabilized.mat',image_number=training_sample)\n",
    "    event0_o_tr = Net.RunNetwork(event0_tr, ClusterList=ClusterLayer)\n",
    "    \n",
    "    ## Generating histogram for the test samples\n",
    "    event0_te = Event(ImageSize=(32,32), ListPolarities=[-1,1], OutOnePolarity=False)\n",
    "    event0_te.LoadFromMat('../Data/ExtractedStabilized.mat',image_number=testing_sample)\n",
    "    event0_o_te = Net.RunNetwork(event0_te, ClusterList=ClusterLayer)\n",
    "    \n",
    "    print('FilterValue',FilterTHR)\n",
    "    Classif0 = Classifier(event0_o_tr,event0_o_te, TrainingLabel=label_list, GroundTruth=test_label)\n",
    "    _,_,_ = Classif0.HistogramDistance()"
   ]
  },
  {
   "cell_type": "code",
   "execution_count": 9,
   "metadata": {
    "collapsed": false
   },
   "outputs": [
    {
     "name": "stdout",
     "output_type": "stream",
     "text": [
      "FilterValue 6\n",
      "Classification Accuracy : \n",
      " Euclidian Norm 100.00% \n",
      " Normalized Norm 100.00%             \n",
      " BattachaNorm 100.00%\n",
      "FilterValue 6\n",
      "Classification Accuracy : \n",
      " Euclidian Norm 90.00% \n",
      " Normalized Norm 87.50%             \n",
      " BattachaNorm 90.00%\n",
      "FilterValue 6\n",
      "Classification Accuracy : \n",
      " Euclidian Norm 97.50% \n",
      " Normalized Norm 97.50%             \n",
      " BattachaNorm 97.50%\n",
      "FilterValue 6\n",
      "Classification Accuracy : \n",
      " Euclidian Norm 95.00% \n",
      " Normalized Norm 95.00%             \n",
      " BattachaNorm 95.00%\n",
      "FilterValue 6\n",
      "Classification Accuracy : \n",
      " Euclidian Norm 92.50% \n",
      " Normalized Norm 90.00%             \n",
      " BattachaNorm 92.50%\n",
      "FilterValue 6\n",
      "Classification Accuracy : \n",
      " Euclidian Norm 97.50% \n",
      " Normalized Norm 95.00%             \n",
      " BattachaNorm 97.50%\n"
     ]
    }
   ],
   "source": [
    "label_list=LoadObject('../Data/alphabet_label.pkl')\n",
    "    ## Generate Groud Truth Label\n",
    "training_sample = list(np.arange(36))\n",
    "testing_sample = list(np.arange(36,76))\n",
    "for idx,img in enumerate(testing_sample):\n",
    "        if idx!= 0:\n",
    "            test_label = np.vstack((test_label,label_list[img]))\n",
    "        else:\n",
    "            test_label = label_list[img]\n",
    "\n",
    "for NbCycle in [1,2,3,4,5,6]:\n",
    "    ## Defining the network\n",
    "    L1 = ClusteringLayer(tau=tau, R=R, verbose=0, mode='MaroExp', ThrFilter=0)\n",
    "    L2 = ClusteringLayer(tau=10*tau, R=2*R, verbose=0, mode='MaroExp', ThrFilter=0)\n",
    "    L3 = ClusteringLayer(tau=10*10*tau, R=2*2*R, verbose=0, mode='MaroExp', ThrFilter=0)\n",
    "    Net = Network([L1,L2,L3])    \n",
    "    \n",
    "    #### Training The Cluster on 5 images\n",
    "    image_list = [1, 32, 19, 22, 29]\n",
    "    event0 = Event(ImageSize=(32,32), ListPolarities=[-1,1],OutOnePolarity=False)\n",
    "    event0.LoadFromMat('../Data/ExtractedStabilized.mat',image_number=image_list)\n",
    "    ClusterLayer, event_output = Net.TrainCluster(event = event0,nb_cluster=nb_cluster, KN=KN,NbCycle=NbCycle)\n",
    "    \n",
    "    ## Generating histogram for training samples\n",
    "    event0_tr = Event(ImageSize=(32,32), ListPolarities=[-1,1], OutOnePolarity=False)\n",
    "    event0_tr.LoadFromMat('../Data/ExtractedStabilized.mat',image_number=training_sample)\n",
    "    event0_o_tr = Net.RunNetwork(event0_tr, ClusterList=ClusterLayer)\n",
    "    \n",
    "    ## Generating histogram for the test samples\n",
    "    event0_te = Event(ImageSize=(32,32), ListPolarities=[-1,1], OutOnePolarity=False)\n",
    "    event0_te.LoadFromMat('../Data/ExtractedStabilized.mat',image_number=testing_sample)\n",
    "    event0_o_te = Net.RunNetwork(event0_te, ClusterList=ClusterLayer)\n",
    "    \n",
    "    print('FilterValue',FilterTHR)\n",
    "    Classif0 = Classifier(event0_o_tr,event0_o_te, TrainingLabel=label_list, GroundTruth=test_label)\n",
    "    _,_,_ = Classif0.HistogramDistance()"
   ]
  },
  {
   "cell_type": "code",
   "execution_count": 44,
   "metadata": {
    "collapsed": true
   },
   "outputs": [],
   "source": [
    "tau = 0.02\n",
    "R = 2\n",
    "KN = 2\n",
    "nb_cluster = 4\n",
    "ImageSize = (32,32)"
   ]
  },
  {
   "cell_type": "code",
   "execution_count": 58,
   "metadata": {
    "collapsed": false
   },
   "outputs": [],
   "source": [
    "event_tr, event_te, event_cl, label_tr, label_te = SimpleAlphabet(NbTrainingData=36, NbTestingData=40,\n",
    "                                                            ClusteringData=[1, 32, 19, 22, 29],verbose=0)\n",
    "\n",
    "\n",
    "## Defining the network\n",
    "L1 = ClusteringLayer(tau=tau, R=R, verbose=0, mode='Maro', ThrFilter=6)\n",
    "L2 = ClusteringLayer(tau=10*tau, R=2*R, verbose=0, mode='Maro', ThrFilter=6)\n",
    "L3 = ClusteringLayer(tau=10*10*tau, R=2*2*R, verbose=0, mode='Maro', ThrFilter=6)\n",
    "Net = Network([L1,L2,L3])    \n",
    "\n",
    "#### Training The Cluster on 5 images\n",
    "#event0 = Event(ImageSize=(32,32), ListPolarities=[-1,1],OutOnePolarity=False)\n",
    "#event0.LoadFromMat('../Data/ExtractedStabilized.mat',image_number=image_list)\n",
    "ClusterLayer, event_output = Net.TrainCluster(event = event_cl,nb_cluster=nb_cluster, KN=KN)\n",
    "\n",
    "## Generating histogram for training samples\n",
    "#event0_tr = Event(ImageSize=(32,32), ListPolarities=[-1,1], OutOnePolarity=False)\n",
    "#event0_tr.LoadFromMat('../Data/ExtractedStabilized.mat',image_number=training_sample)\n",
    "event0_o_tr = Net.RunNetwork(event_tr, ClusterList=ClusterLayer)\n",
    "\n",
    "## Generating histogram for the test samples\n",
    "#event0_te = Event(ImageSize=(32,32), ListPolarities=[-1,1], OutOnePolarity=False)\n",
    "#event0_te.LoadFromMat('../Data/ExtractedStabilized.mat',image_number=testing_sample)\n",
    "event0_o_te = Net.RunNetwork(event_te, ClusterList=ClusterLayer)\n",
    "\n"
   ]
  },
  {
   "cell_type": "code",
   "execution_count": 59,
   "metadata": {
    "collapsed": false
   },
   "outputs": [
    {
     "name": "stdout",
     "output_type": "stream",
     "text": [
      "(252100, 2)\n",
      "36\n"
     ]
    }
   ],
   "source": [
    "print(event0_o_tr.address.shape)\n",
    "print(len(event0_o_tr.ChangeIdx))"
   ]
  },
  {
   "cell_type": "code",
   "execution_count": 60,
   "metadata": {
    "collapsed": false
   },
   "outputs": [
    {
     "name": "stdout",
     "output_type": "stream",
     "text": [
      "size of histo test (40, 16)\n",
      "size of histo train (36, 16)\n",
      "(40, 1)\n",
      "(40, 1)\n",
      "(40, 1)\n",
      "40\n",
      "Classification Accuracy : \n",
      " Euclidian Norm 87.50% \n",
      " Normalized Norm 80.00%             \n",
      " BattachaNorm 80.00%\n"
     ]
    }
   ],
   "source": [
    "#print('FilterValue',FilterTHR)\n",
    "#Classif0 = Classifier(event0_o_tr,event0_o_te, TrainingLabel=label_list, GroundTruth=test_label)\n",
    "Classif0 = Classifier(event0_o_tr,event0_o_te, TrainingLabel=label_tr, GroundTruth=label_te)\n",
    "\n",
    "eucli,norma,battach = Classif0.HistogramDistance()"
   ]
  },
  {
   "cell_type": "code",
   "execution_count": 22,
   "metadata": {
    "collapsed": false
   },
   "outputs": [],
   "source": [
    "from HOTS.Event import SimpleAlphabet"
   ]
  },
  {
   "cell_type": "code",
   "execution_count": 35,
   "metadata": {
    "collapsed": false
   },
   "outputs": [
    {
     "name": "stdout",
     "output_type": "stream",
     "text": [
      "520844\n",
      "558235\n",
      "74457\n",
      "(36, 1)\n",
      "(40, 1)\n"
     ]
    }
   ],
   "source": [
    "a,b,c,d,e = SimpleAlphabet(36,40,ClusteringData=[1, 32, 19, 22, 29],verbose=0)\n",
    "print(a.address.shape[0])\n",
    "print(b.address.shape[0])\n",
    "print(c.address.shape[0])\n",
    "print(d.shape)\n",
    "print(e.shape)"
   ]
  },
  {
   "cell_type": "code",
   "execution_count": 24,
   "metadata": {
    "collapsed": false
   },
   "outputs": [
    {
     "name": "stdout",
     "output_type": "stream",
     "text": [
      "36\n",
      "40\n"
     ]
    }
   ],
   "source": [
    "training_sample = list(np.arange(36))\n",
    "print(len(training_sample))\n",
    "testing_sample = list(np.arange(36,76))\n",
    "print(len(testing_sample))"
   ]
  },
  {
   "cell_type": "code",
   "execution_count": 25,
   "metadata": {
    "collapsed": false
   },
   "outputs": [
    {
     "name": "stdout",
     "output_type": "stream",
     "text": [
      "F\n"
     ]
    }
   ],
   "source": [
    "label_list=LoadObject('../Data/alphabet_label.pkl')\n",
    "print(label_list[1][0])"
   ]
  },
  {
   "cell_type": "code",
   "execution_count": null,
   "metadata": {
    "collapsed": true
   },
   "outputs": [],
   "source": []
  }
 ],
 "metadata": {
  "kernelspec": {
   "display_name": "Python 3",
   "language": "python",
   "name": "python3"
  },
  "language_info": {
   "codemirror_mode": {
    "name": "ipython",
    "version": 3
   },
   "file_extension": ".py",
   "mimetype": "text/x-python",
   "name": "python",
   "nbconvert_exporter": "python",
   "pygments_lexer": "ipython3",
   "version": "3.6.1"
  }
 },
 "nbformat": 4,
 "nbformat_minor": 2
}
