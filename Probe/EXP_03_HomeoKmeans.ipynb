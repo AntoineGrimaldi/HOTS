{
 "cells": [
  {
   "cell_type": "markdown",
   "metadata": {},
   "source": [
    "# Different Configuration using Homeostasis with Kmeans"
   ]
  },
  {
   "cell_type": "code",
   "execution_count": 13,
   "metadata": {
    "collapsed": false
   },
   "outputs": [
    {
     "name": "stdout",
     "output_type": "stream",
     "text": [
      "The autoreload extension is already loaded. To reload it, use:\n",
      "  %reload_ext autoreload\n"
     ]
    }
   ],
   "source": [
    "%load_ext autoreload\n",
    "%autoreload 2\n",
    "%matplotlib inline"
   ]
  },
  {
   "cell_type": "code",
   "execution_count": 14,
   "metadata": {
    "collapsed": false
   },
   "outputs": [],
   "source": [
    "import numpy as np\n",
    "import matplotlib.pyplot as plt\n",
    "\n",
    "\n",
    "from HOTS.Monitor import GenerateAM, DisplayAM\n",
    "from HOTS.Event import Event, SimpleAlphabet\n",
    "from HOTS.STS import STS\n",
    "from HOTS.Layer import ClusteringLayer, FilterNHBD\n",
    "from HOTS.Monitor import DisplayImage, DisplaySurface3D, DisplaySurface2D, DisplayConvergence\n",
    "from HOTS.Tools import SaveObject, LoadObject\n",
    "from HOTS.Classifier import Classifier\n",
    "from HOTS.Network import Network\n",
    "from HOTS.KmeansHomeoCluster import KmeansHomeo"
   ]
  },
  {
   "cell_type": "markdown",
   "metadata": {},
   "source": [
    "# 1. Defining Common parameter"
   ]
  },
  {
   "cell_type": "code",
   "execution_count": 15,
   "metadata": {
    "collapsed": true
   },
   "outputs": [],
   "source": [
    "tau = 0.02\n",
    "R = 2\n",
    "nb_cluster = [4,8,16]\n",
    "eta_list = [1e-5,1e-5] \n",
    "eta_homeo_list = [1e-3,1e-3]\n",
    "C_list = [6,18] \n",
    "ImageSize = (32,32)\n",
    "DataPath = '../Data/ExtractedStabilized.mat'\n",
    "LabelPath = '../Data/alphabet_label.pkl'"
   ]
  },
  {
   "cell_type": "markdown",
   "metadata": {},
   "source": [
    "# 2. StepbyStep Training"
   ]
  },
  {
   "cell_type": "code",
   "execution_count": null,
   "metadata": {
    "collapsed": false
   },
   "outputs": [],
   "source": [
    "\n",
    "image_list = [1, 32, 19, 22, 29]\n",
    "event0 = Event(ImageSize=(32,32),OutOnePolarity=False)\n",
    "\n",
    "event0.LoadFromMat('../Data/ExtractedStabilized.mat',image_number=image_list)\n",
    "\n",
    "## Layer1\n",
    "\n",
    "SpTe_Layer1= STS(tau=tau, R=R,verbose=0)\n",
    "Surface_Layer1 = SpTe_Layer1.create(event = event0,kernel='linear')\n",
    "event_filtered1, filt = SpTe_Layer1.FilterRecent(event = event0, threshold=2)\n",
    "ClusterLayer1 = KmeansHomeo(nb_cluster = nb_cluster[0], eta=eta_list[0], eta_homeo=eta_homeo_list[0],\n",
    "                            C=C_list[0], to_record=True, verbose=0)\n",
    "Prototype1 = ClusterLayer1.fit(SpTe_Layer1,NbCycle=2,record_num_batches=10000)\n",
    "event2,_ = ClusterLayer1.predict(Surface=SpTe_Layer1.Surface,event = event_filtered1)\n",
    "## Layer2\n",
    "SpTe_Layer2= STS(tau=10*tau, R=2*R,verbose=0)\n",
    "Surface_Layer2 = SpTe_Layer2.create(event = event2,kernel='linear')\n",
    "ClusterLayer2 = KmeansHomeo(nb_cluster = nb_cluster[1], eta=eta_list[1], eta_homeo=eta_homeo_list[1],\n",
    "                            C=C_list[1],to_record=True, verbose=0)\n",
    "Prototype2 = ClusterLayer2.fit(SpTe_Layer2,NbCycle=2,record_num_batches=10000)\n",
    "event3,_ = ClusterLayer2.predict(Surface=SpTe_Layer2.Surface,event = event2)\n",
    "\n",
    "## Layer3\n",
    "#SpTe_Layer3= STS(tau=10*10*tau, R=2*2*R,verbose=0)\n",
    "#Surface_Layer3 = SpTe_Layer3.create(event = event3,kernel='linear')\n",
    "#ClusterLayer3 = KmeansHomeo(nb_cluster = nb_cluster[2], to_record=True, verbose=1)\n",
    "#Prototype3 = ClusterLayer3.fit(SpTe_Layer3,NbCycle=0.2)\n",
    "#event4,_ = ClusterLayer3.predict(Surface=SpTe_Layer3.Surface,event = event3)\n"
   ]
  },
  {
   "cell_type": "code",
   "execution_count": null,
   "metadata": {
    "collapsed": false
   },
   "outputs": [],
   "source": [
    "DisplaySurface2D(ClusterLayer1.prototype,nb_polarities=2)\n",
    "DisplaySurface2D(ClusterLayer2.prototype, nb_polarities=4)\n",
    "DisplayConvergence([ClusterLayer1,ClusterLayer2],to_display=['error','histo'])"
   ]
  },
  {
   "cell_type": "markdown",
   "metadata": {},
   "source": [
    "## Exp1 :  Homeo Kmeans + Linear Kernel + NoiseFilter(=2) +  One Polarity in Input "
   ]
  },
  {
   "cell_type": "code",
   "execution_count": null,
   "metadata": {
    "collapsed": false
   },
   "outputs": [],
   "source": [
    "save_exp = False\n",
    "event_tr, event_te, event_cl, label_tr, label_te = SimpleAlphabet(NbTrainingData=36, NbTestingData=40,\n",
    "                                                        Path='../Data/ExtractedStabilized.mat',\n",
    "                                                        LabelPath='../Data/alphabet_label.pkl',\n",
    "                                                        ClusteringData=[1, 32, 19, 22, 29],\n",
    "                                                        OutOnePolarity = True, verbose=0)\n",
    "## Defining the network\n",
    "L1 = ClusteringLayer(tau=tau, R=R, verbose=0, ThrFilter=2, LearningAlgo='homeo',kernel='linear')\n",
    "L2 = ClusteringLayer(tau=10*tau, R=2*R, verbose=0, ThrFilter=2, LearningAlgo='homeo',kernel='linear')\n",
    "L3 = ClusteringLayer(tau=10*10*tau, R=2*2*R, verbose=0, ThrFilter=2, LearningAlgo='homeo',kernel='linear')\n",
    "Net = Network([L1,L2,L3])\n",
    "#Net = Network([L1])#,L2,L3])\n",
    "\n",
    "if save_exp == True :\n",
    "    #### Training The Cluster on 5 images\n",
    "    ClusterLayer, event_output = Net.TrainCluster(event = event_cl,nb_cluster=nb_cluster, KN=KN,\n",
    "                                                 record_each=1000, NbCycle=1.5)\n",
    "\n",
    "    ## Generating histogram for training samples\n",
    "    event0_o_tr = Net.RunNetwork(event_tr, ClusterList=ClusterLayer)\n",
    "\n",
    "    ## Generating histogram for the test samples\n",
    "    event0_o_te = Net.RunNetwork(event_te, ClusterList=ClusterLayer)\n",
    "\n",
    "    Classif0 = Classifier(event0_o_tr,event0_o_te, TrainingLabel=label_tr, GroundTruth=label_te)\n",
    "\n",
    "    eucli,norma,battach,accu = Classif0.HistogramDistance()\n",
    "    \n",
    "    SaveObject([ClusterLayer,Classif0],'../Records/EXP_03_HomeoKmeans/Exp1_2017_10_18.pkl')\n",
    "    \n",
    "else : \n",
    "    ClusterLayer,Classif0 = LoadObject('../Records/EXP_03_HomeoKmeans/Exp1_2017_10_18.pkl')\n",
    "    eucli,norma,battach,accu = Classif0.HistogramDistance()"
   ]
  },
  {
   "cell_type": "code",
   "execution_count": null,
   "metadata": {
    "collapsed": false
   },
   "outputs": [],
   "source": []
  },
  {
   "cell_type": "code",
   "execution_count": null,
   "metadata": {
    "collapsed": false
   },
   "outputs": [],
   "source": [
    "DisplaySurface2D(ClusterLayer[0].prototype,nb_polarities=1, scale=2)\n",
    "DisplaySurface2D(ClusterLayer[1].prototype, nb_polarities=4, scale=2)\n",
    "DisplaySurface2D(ClusterLayer[2].prototype, nb_polarities=8, scale=2)\n",
    "event_to_show = Event(ImageSize=(32,32), ListPolarities=[-1,1],OutOnePolarity=True)\n",
    "event_to_show.LoadFromMat('../Data/ExtractedStabilized.mat',image_number=22)\n",
    "Net.RunNetwork(event_to_show, ClusterList=ClusterLayer)\n",
    "mapL1 = GenerateAM(Net.Layers[0].output,ClusterLayer[0],nb_image=0)\n",
    "DisplayAM(mapL1,scale=2)\n",
    "mapL2 = GenerateAM(Net.Layers[1].output,ClusterLayer[1],nb_image=0)\n",
    "DisplayAM(mapL2,scale=2)\n",
    "mapL3 = GenerateAM(Net.Layers[2].output,ClusterLayer[2],nb_image=0)\n",
    "DisplayAM(mapL3,scale=2)\n",
    "\n",
    "DisplayConvergence(ClusterLayer)"
   ]
  },
  {
   "cell_type": "code",
   "execution_count": null,
   "metadata": {
    "collapsed": false
   },
   "outputs": [],
   "source": [
    "ClusterLayer[0].record['error'].values"
   ]
  },
  {
   "cell_type": "markdown",
   "metadata": {},
   "source": [
    "## Exp2 :  Homeo Kmeans + Linear Kernel + NoiseFilter(=2) +  2 Polarity in Input "
   ]
  },
  {
   "cell_type": "code",
   "execution_count": null,
   "metadata": {
    "collapsed": false
   },
   "outputs": [],
   "source": [
    "save_exp = False\n",
    "event_tr, event_te, event_cl, label_tr, label_te = SimpleAlphabet(NbTrainingData=36, NbTestingData=40,\n",
    "                                                        Path='../Data/ExtractedStabilized.mat',\n",
    "                                                        LabelPath='../Data/alphabet_label.pkl',\n",
    "                                                        ClusteringData=[1, 32, 19, 22, 29],\n",
    "                                                        OutOnePolarity = False, verbose=0)\n",
    "## Defining the network\n",
    "L1 = ClusteringLayer(tau=tau, R=R, verbose=0, ThrFilter=2, LearningAlgo='homeo',kernel='linear')\n",
    "L2 = ClusteringLayer(tau=10*tau, R=2*R, verbose=0, ThrFilter=2, LearningAlgo='homeo',kernel='linear')\n",
    "L3 = ClusteringLayer(tau=10*10*tau, R=2*2*R, verbose=0, ThrFilter=2, LearningAlgo='homeo',kernel='linear')\n",
    "Net = Network([L1,L2,L3])\n",
    "#Net = Network([L1])#,L2,L3])\n",
    "\n",
    "if save_exp == True :\n",
    "    #### Training The Cluster on 5 images\n",
    "    ClusterLayer, event_output = Net.TrainCluster(event = event_cl,nb_cluster=nb_cluster, KN=KN,\n",
    "                                                 record_each=1000, NbCycle=1.5)\n",
    "\n",
    "    ## Generating histogram for training samples\n",
    "    event0_o_tr = Net.RunNetwork(event_tr, ClusterList=ClusterLayer)\n",
    "\n",
    "    ## Generating histogram for the test samples\n",
    "    event0_o_te = Net.RunNetwork(event_te, ClusterList=ClusterLayer)\n",
    "\n",
    "    Classif0 = Classifier(event0_o_tr,event0_o_te, TrainingLabel=label_tr, GroundTruth=label_te)\n",
    "\n",
    "    eucli,norma,battach,accu = Classif0.HistogramDistance()\n",
    "    \n",
    "    SaveObject([ClusterLayer,Classif0],'../Records/EXP_03_HomeoKmeans/Exp2_2017_10_18.pkl')\n",
    "    \n",
    "else : \n",
    "    ClusterLayer,Classif0 = LoadObject('../Records/EXP_03_HomeoKmeans/Exp2_2017_10_18.pkl')\n",
    "    eucli,norma,battach,accu = Classif0.HistogramDistance()"
   ]
  },
  {
   "cell_type": "code",
   "execution_count": null,
   "metadata": {
    "collapsed": false
   },
   "outputs": [],
   "source": [
    "DisplaySurface2D(ClusterLayer[0].prototype,nb_polarities=2, scale=2)\n",
    "DisplaySurface2D(ClusterLayer[1].prototype, nb_polarities=4, scale=2)\n",
    "DisplaySurface2D(ClusterLayer[2].prototype, nb_polarities=8, scale=2)\n",
    "event_to_show = Event(ImageSize=(32,32), ListPolarities=[-1,1],OutOnePolarity=False)\n",
    "event_to_show.LoadFromMat('../Data/ExtractedStabilized.mat',image_number=22)\n",
    "Net.RunNetwork(event_to_show, ClusterList=ClusterLayer)\n",
    "mapL1 = GenerateAM(Net.Layers[0].output,ClusterLayer[0],nb_image=0)\n",
    "DisplayAM(mapL1,scale=2)\n",
    "mapL2 = GenerateAM(Net.Layers[1].output,ClusterLayer[1],nb_image=0)\n",
    "DisplayAM(mapL2,scale=2)\n",
    "mapL3 = GenerateAM(Net.Layers[2].output,ClusterLayer[2],nb_image=0)\n",
    "DisplayAM(mapL3,scale=2)\n",
    "\n",
    "DisplayConvergence(ClusterLayer)\n"
   ]
  },
  {
   "cell_type": "markdown",
   "metadata": {},
   "source": [
    "## Exp3 :  Homeo Kmeans + Exp Kernel + NoiseFilter(=2) +  1 Polarity in Input "
   ]
  },
  {
   "cell_type": "markdown",
   "metadata": {},
   "source": [
    "## Exp4 :  Homeo Kmeans + Exp Kernel + NoiseFilter(=2) +  2 Polarity in Input "
   ]
  },
  {
   "cell_type": "code",
   "execution_count": null,
   "metadata": {
    "collapsed": false
   },
   "outputs": [],
   "source": [
    "save_exp = False\n",
    "event_tr, event_te, event_cl, label_tr, label_te = SimpleAlphabet(NbTrainingData=36, NbTestingData=40,\n",
    "                                                        Path='../Data/ExtractedStabilized.mat',\n",
    "                                                        LabelPath='../Data/alphabet_label.pkl',\n",
    "                                                        ClusteringData=[1, 32, 19, 22, 29],\n",
    "                                                        OutOnePolarity = False, verbose=0)\n",
    "## Defining the network\n",
    "L1 = ClusteringLayer(tau=tau, R=R, verbose=0, ThrFilter=2, LearningAlgo='homeo',kernel='exponential')\n",
    "L2 = ClusteringLayer(tau=10*tau, R=2*R, verbose=0, ThrFilter=2, LearningAlgo='homeo',kernel='exponential')\n",
    "L3 = ClusteringLayer(tau=10*10*tau, R=2*2*R, verbose=0, ThrFilter=2, LearningAlgo='homeo',kernel='exponential')\n",
    "Net = Network([L1,L2,L3])\n",
    "#Net = Network([L1])#,L2,L3])\n",
    "\n",
    "if save_exp == True :\n",
    "    #### Training The Cluster on 5 images\n",
    "    ClusterLayer, event_output = Net.TrainCluster(event = event_cl,nb_cluster=nb_cluster, KN=KN,\n",
    "                                                 record_each=1000, NbCycle=1.5)\n",
    "\n",
    "    ## Generating histogram for training samples\n",
    "    event0_o_tr = Net.RunNetwork(event_tr, ClusterList=ClusterLayer)\n",
    "\n",
    "    ## Generating histogram for the test samples\n",
    "    event0_o_te = Net.RunNetwork(event_te, ClusterList=ClusterLayer)\n",
    "\n",
    "    Classif0 = Classifier(event0_o_tr,event0_o_te, TrainingLabel=label_tr, GroundTruth=label_te)\n",
    "\n",
    "    eucli,norma,battach,accu = Classif0.HistogramDistance()\n",
    "    \n",
    "    SaveObject([ClusterLayer,Classif0],'../Records/EXP_03_HomeoKmeans/Exp4_2017_10_18.pkl')\n",
    "    \n",
    "else : \n",
    "    ClusterLayer,Classif0 = LoadObject('../Records/EXP_03_HomeoKmeans/Exp4_2017_10_18.pkl')\n",
    "    eucli,norma,battach,accu = Classif0.HistogramDistance()"
   ]
  },
  {
   "cell_type": "code",
   "execution_count": null,
   "metadata": {
    "collapsed": false,
    "scrolled": false
   },
   "outputs": [],
   "source": [
    "DisplaySurface2D(ClusterLayer[0].prototype,nb_polarities=2)\n",
    "DisplaySurface2D(ClusterLayer[1].prototype, nb_polarities=4)\n",
    "DisplaySurface2D(ClusterLayer[2].prototype, nb_polarities=8)\n",
    "event_to_show = Event(ImageSize=(32,32), ListPolarities=[-1,1],OutOnePolarity=False)\n",
    "event_to_show.LoadFromMat('../Data/ExtractedStabilized.mat',image_number=22)\n",
    "Net.RunNetwork(event_to_show, ClusterList=ClusterLayer)\n",
    "mapL1 = GenerateAM(Net.Layers[0].output,ClusterLayer[0],nb_image=0)\n",
    "DisplayAM(mapL1,scale=2)\n",
    "mapL2 = GenerateAM(Net.Layers[1].output,ClusterLayer[1],nb_image=0)\n",
    "DisplayAM(mapL2,scale=2)\n",
    "mapL3 = GenerateAM(Net.Layers[2].output,ClusterLayer[2],nb_image=0)\n",
    "DisplayAM(mapL3,scale=2)\n",
    "\n",
    "DisplayConvergence(ClusterLayer)"
   ]
  },
  {
   "cell_type": "code",
   "execution_count": null,
   "metadata": {
    "collapsed": false
   },
   "outputs": [],
   "source": [
    "Couche 1 : 2 filters 2 pol\n",
    "Couche 2 : 8 filters (16) 2 pola\n",
    "Couche 3 : 8 filters"
   ]
  },
  {
   "cell_type": "code",
   "execution_count": null,
   "metadata": {
    "collapsed": true
   },
   "outputs": [],
   "source": []
  },
  {
   "cell_type": "code",
   "execution_count": null,
   "metadata": {
    "collapsed": true
   },
   "outputs": [],
   "source": []
  }
 ],
 "metadata": {
  "kernelspec": {
   "display_name": "Python 3",
   "language": "python",
   "name": "python3"
  },
  "language_info": {
   "codemirror_mode": {
    "name": "ipython",
    "version": 3
   },
   "file_extension": ".py",
   "mimetype": "text/x-python",
   "name": "python",
   "nbconvert_exporter": "python",
   "pygments_lexer": "ipython3",
   "version": "3.6.1"
  }
 },
 "nbformat": 4,
 "nbformat_minor": 2
}
