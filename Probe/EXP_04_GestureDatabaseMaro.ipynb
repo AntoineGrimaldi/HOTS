{
 "cells": [
  {
   "cell_type": "code",
   "execution_count": 1,
   "metadata": {
    "collapsed": false
   },
   "outputs": [],
   "source": [
    "%load_ext autoreload\n",
    "%autoreload 2\n",
    "%matplotlib inline"
   ]
  },
  {
   "cell_type": "code",
   "execution_count": 2,
   "metadata": {
    "collapsed": false
   },
   "outputs": [],
   "source": [
    "import numpy as np\n",
    "import matplotlib.pyplot as plt\n",
    "import HOTS.libUnpackAtis as ua\n",
    "import HOTS.libDataHelper as dh\n",
    "from HOTS.GestExp import GestExp, MonitorHisto\n",
    "from HOTS.GestExp import save_object, load_object, Classify\n",
    "from HOTS.Monitor import DisplaySurface2D\n"
   ]
  },
  {
   "cell_type": "code",
   "execution_count": 3,
   "metadata": {
    "collapsed": false
   },
   "outputs": [],
   "source": [
    "settingsFile = \"/Users/boutin.v/Documents/DataBase/GEST/newlayer_digit.hotsnetwork\"\n",
    "#specs = dh.superLoadHOTSNetworkSettingsFromFile(settingsFile, True)\n",
    "#dbspecs = dh.superReadDB(specs.db_file, specs.db_path)\n",
    "\n",
    "\n",
    "records_path = '../Records/EXP_04_GestureMaro/'"
   ]
  },
  {
   "cell_type": "markdown",
   "metadata": {},
   "source": [
    "## 1 polarity, 5*5 patches, 14 dico"
   ]
  },
  {
   "cell_type": "code",
   "execution_count": 4,
   "metadata": {
    "collapsed": false
   },
   "outputs": [],
   "source": [
    "\n",
    "Records = False\n",
    "nb_dico = 14\n",
    "R = 2\n",
    "tau = 0.03\n",
    "\n",
    "if Records == True:\n",
    "    Exp0 = GestExp(settingsFile,nb_dico=nb_dico,R=R,tau=tau,verbose=1)\n",
    "    Prototype = Exp0.learnMaro(nb_file=250)\n",
    "    training_data = Exp0.GenerateHistogramMaro(train=True,nb_file=200)\n",
    "    testing_data = Exp0.GenerateHistogramMaro(train=False)\n",
    "    save_object(Exp0,records_path + 'Exp1_2017_12_16.pkl')\n",
    "else : \n",
    "    Exp0 = load_object(records_path + 'Exp1_2017_12_16.pkl')\n"
   ]
  },
  {
   "cell_type": "code",
   "execution_count": 5,
   "metadata": {
    "collapsed": false
   },
   "outputs": [
    {
     "name": "stdout",
     "output_type": "stream",
     "text": [
      "classification accuracy : 76.67 %\n"
     ]
    },
    {
     "data": {
      "image/png": "[encoded data removed]",
      "text/plain": [
       "<matplotlib.figure.Figure at 0x109a14390>"
      ]
     },
     "metadata": {},
     "output_type": "display_data"
    },
    {
     "data": {
      "image/png": "[encoded data removed]",
      "text/plain": [
       "<matplotlib.figure.Figure at 0x109a14710>"
      ]
     },
     "metadata": {},
     "output_type": "display_data"
    }
   ],
   "source": [
    "accuracy = Classify(Exp0.training_data,Exp0.testing_data)\n",
    "print('classification accuracy : {0:.2f} %'.format(accuracy*100))\n",
    "DisplaySurface2D(Exp0.Prototype,nb_polarities=1)\n",
    "MonitorHisto(Exp0.total_activation)"
   ]
  },
  {
   "cell_type": "code",
   "execution_count": 6,
   "metadata": {
    "collapsed": false,
    "scrolled": false
   },
   "outputs": [],
   "source": [
    "\n",
    "Records = False\n",
    "nb_dico = 14\n",
    "R = 2\n",
    "tau = 0.03\n",
    "\n",
    "if Records == True:\n",
    "    Exp0 = GestExp(settingsFile,nb_dico=nb_dico,R=R,tau=tau,verbose=1)\n",
    "    Prototype = Exp0.learnMaro(nb_file=500)\n",
    "    training_data = Exp0.GenerateHistogramMaro(train=True,nb_file=500)\n",
    "    testing_data = Exp0.GenerateHistogramMaro(train=False)\n",
    "    save_object(Exp0,records_path + 'Exp2_2017_12_16.pkl')\n",
    "else : \n",
    "    Exp0 = load_object(records_path + 'Exp2_2017_12_16.pkl')\n",
    "\n"
   ]
  },
  {
   "cell_type": "code",
   "execution_count": 7,
   "metadata": {
    "collapsed": false
   },
   "outputs": [
    {
     "name": "stdout",
     "output_type": "stream",
     "text": [
      "classification accuracy : 83.33 %\n"
     ]
    },
    {
     "data": {
      "image/png": "[encoded data removed]",
      "text/plain": [
       "<matplotlib.figure.Figure at 0x109326630>"
      ]
     },
     "metadata": {},
     "output_type": "display_data"
    },
    {
     "data": {
      "image/png": "[encoded data removed]",
      "text/plain": [
       "<matplotlib.figure.Figure at 0x10a2fd1d0>"
      ]
     },
     "metadata": {},
     "output_type": "display_data"
    }
   ],
   "source": [
    "accuracy = Classify(Exp0.training_data,Exp0.testing_data)\n",
    "print('classification accuracy : {0:.2f} %'.format(accuracy*100))\n",
    "DisplaySurface2D(Exp0.Prototype,nb_polarities=1)\n",
    "MonitorHisto(Exp0.total_activation)"
   ]
  },
  {
   "cell_type": "code",
   "execution_count": 8,
   "metadata": {
    "collapsed": false,
    "scrolled": false
   },
   "outputs": [
    {
     "name": "stdout",
     "output_type": "stream",
     "text": [
      "------ Loaded settings ------\n",
      "Enable viewer: True (Port: 3330, update 8)\n",
      " \n",
      "Number of polarities of the input: 1\n",
      "Number of dimensions and sizes: 2, [304 240]\n",
      "Number of layers: 1\n",
      "> 8, 10000.0, 2\n",
      "Number of fixed layers: 0\n",
      " \n",
      "Data file: none\n",
      "DB file: /Users/boutin.v/Documents/DataBase/GEST/testoids_1.db\n",
      "DB path: /Users/boutin.v/Documents/DataBase/GEST/complete_chris_db/\n",
      "Workdir path: \n",
      "Save id: \n",
      "------ End of settings ------\n",
      " \n",
      "840 files in the DB.\n",
      "Training on 100 files\n",
      "learned file 10/100\n",
      "learned file 20/100\n",
      "learned file 30/100\n",
      "learned file 40/100\n",
      "learned file 50/100\n",
      "learned file 60/100\n",
      "learned file 70/100\n",
      "learned file 80/100\n",
      "learned file 90/100\n",
      "learned file 100/100\n",
      "coding on training db\n",
      "coded file 10/100\n",
      "coded file 20/100\n",
      "coded file 30/100\n",
      "coded file 40/100\n",
      "coded file 50/100\n",
      "coded file 60/100\n",
      "coded file 70/100\n",
      "coded file 80/100\n",
      "coded file 90/100\n",
      "coded file 100/100\n",
      "coding on testing db\n",
      "coded file 10/60\n",
      "coded file 20/60\n",
      "coded file 30/60\n",
      "coded file 40/60\n",
      "coded file 50/60\n",
      "coded file 60/60\n"
     ]
    }
   ],
   "source": [
    "\n",
    "Records = True\n",
    "nb_dico = 14\n",
    "R = 2\n",
    "tau = 0.03\n",
    "\n",
    "if Records == True:\n",
    "    Exp0 = GestExp(settingsFile,nb_dico=nb_dico,R=R,tau=tau,verbose=1)\n",
    "    Prototype = Exp0.learnHomeo2(nb_file=100,eta_homeo=0.5)\n",
    "    training_data = Exp0.GenerateHistogramMaro(train=True,nb_file=100)\n",
    "    testing_data = Exp0.GenerateHistogramMaro(train=False)\n",
    "    #save_object(Exp0,records_path + 'Exp3_2017_12_16.pkl')\n",
    "else : \n",
    "    Exp0 = load_object(records_path + 'Exp3_2017_12_16.pkl')\n",
    "\n",
    "\n"
   ]
  },
  {
   "cell_type": "code",
   "execution_count": 9,
   "metadata": {
    "collapsed": false
   },
   "outputs": [
    {
     "name": "stdout",
     "output_type": "stream",
     "text": [
      "classification accuracy : 90.00 %\n"
     ]
    },
    {
     "data": {
      "image/png": "[encoded data removed]",
      "text/plain": [
       "<matplotlib.figure.Figure at 0x10a35a630>"
      ]
     },
     "metadata": {},
     "output_type": "display_data"
    },
    {
     "data": {
      "image/png": "[encoded data removed]",
      "text/plain": [
       "<matplotlib.figure.Figure at 0x10a35a668>"
      ]
     },
     "metadata": {},
     "output_type": "display_data"
    }
   ],
   "source": [
    "accuracy = Classify(Exp0.training_data,Exp0.testing_data)\n",
    "print('classification accuracy : {0:.2f} %'.format(accuracy*100))\n",
    "DisplaySurface2D(Exp0.Prototype,nb_polarities=1)\n",
    "MonitorHisto(Exp0.total_activation)"
   ]
  },
  {
   "cell_type": "code",
   "execution_count": 10,
   "metadata": {
    "collapsed": false
   },
   "outputs": [
    {
     "ename": "NameError",
     "evalue": "name 'stop_here' is not defined",
     "output_type": "error",
     "traceback": [
      "\u001b[0;31m---------------------------------------------------------------------------\u001b[0m",
      "\u001b[0;31mNameError\u001b[0m                                 Traceback (most recent call last)",
      "\u001b[0;32m<ipython-input-10-ee7ee840f3f4>\u001b[0m in \u001b[0;36m<module>\u001b[0;34m()\u001b[0m\n\u001b[0;32m----> 1\u001b[0;31m \u001b[0mstop_here\u001b[0m\u001b[0;34m\u001b[0m\u001b[0m\n\u001b[0m",
      "\u001b[0;31mNameError\u001b[0m: name 'stop_here' is not defined"
     ]
    }
   ],
   "source": [
    "stop_here"
   ]
  },
  {
   "cell_type": "code",
   "execution_count": null,
   "metadata": {
    "collapsed": false
   },
   "outputs": [],
   "source": [
    "Modulation = np.random.rand(14)\n",
    "print(Modulation.shape)\n",
    "Surface = np.ones((14,25))\n",
    "print(Surface.shape)\n",
    "Proto = np.random.rand(14,25)\n",
    "print(Proto.shape)\n",
    "a = np.linalg.norm(Modulation[:,None]*(Surface-Proto),ord=2,axis=1)"
   ]
  },
  {
   "cell_type": "code",
   "execution_count": null,
   "metadata": {
    "collapsed": false
   },
   "outputs": [],
   "source": [
    "'''\n",
    "activation = nb_activation + nb_activ\n",
    "target = torch.mean(activation)#(nb_image*l0_sparseness)//nb_dico\n",
    "tau = - (torch.max(activation)-target)/np.log(0.2)\n",
    "#tau = -(nb_image*l0_sparseness-target)/np.log(0.2)\n",
    "mu = 0.3\n",
    "#modulation_exp = (1-mu)*Modulation + mu*(5*torch.exp(-(nb_activation-target)/tau))\n",
    "modulation_exp = torch.exp( (1-mu)*torch.log(Modulation) - mu*((activation-target)/tau))\n",
    "#print(modulation_exp)\n",
    "#print(modulation_exp.size())\n",
    "mean_res = torch.mean(res)\n",
    "tau = - torch.max(activation)/np.log(0.5)\n",
    "'''"
   ]
  },
  {
   "cell_type": "code",
   "execution_count": null,
   "metadata": {
    "collapsed": false
   },
   "outputs": [],
   "source": []
  },
  {
   "cell_type": "code",
   "execution_count": null,
   "metadata": {
    "collapsed": false
   },
   "outputs": [],
   "source": [
    "Prototype1,res,nb_proto  = learn1(dbspecs,nb_file=50,verbose=1)\n"
   ]
  },
  {
   "cell_type": "code",
   "execution_count": null,
   "metadata": {
    "collapsed": false
   },
   "outputs": [],
   "source": [
    "DisplaySurface2D(Prototype1,nb_polarities=1)\n",
    "MonitorHisto(nb_proto)"
   ]
  },
  {
   "cell_type": "code",
   "execution_count": null,
   "metadata": {
    "collapsed": false
   },
   "outputs": [],
   "source": [
    "plt.plot(res)"
   ]
  },
  {
   "cell_type": "code",
   "execution_count": null,
   "metadata": {
    "collapsed": true
   },
   "outputs": [],
   "source": [
    "    def GenerateHistogram(dico, database, train=True, nb_file=None):\n",
    "        SpTe_Layer1 = STS(tau=0.03, R=2, initial_time=1)\n",
    "        if train == True and nb_file==None:\n",
    "            nb_file = np.sum(np.array(database.dblabels) == 1)\n",
    "        if train == False and nb_file==None:\n",
    "            nb_file = np.sum(np.array(database.dblabels) == 2)\n",
    "        if train== True:\n",
    "            mode = 1\n",
    "            if self.verbose!=0:\n",
    "                print('coding on training db')\n",
    "        else :\n",
    "            if self.verbose!=0:\n",
    "                print('coding on testing db')\n",
    "            mode = 2\n",
    "        nb_dico = dico.shape[0]\n",
    "        all_histo = np.zeros((nb_file,nb_dico))\n",
    "        labels = np.zeros(nb_file)\n",
    "        idx_train = 1\n",
    "        for idf, dblabel in enumerate(database.dblabels):\n",
    "            if dblabel == mode :\n",
    "                if (self.verbose!=0) and (idx_train % 10 == 0):\n",
    "                    print('coded file {0}/{1}'.format(idx_train, nb_file))\n",
    "\n",
    "                histo = np.zeros(nb_dico).astype(int)\n",
    "\n",
    "                filepath = database.path + database.filenames[idf]\n",
    "                event = LoadGestureDB(filepath, OutOnePolarity=True)\n",
    "                Surface_Layer1 = SpTe_Layer1.create(event = event,kernel='linear')\n",
    "                filt = np.sum(Surface_Layer1, axis = 1) > 2*R\n",
    "                Surface_Layer2 = Surface_Layer1[filt,:]\n",
    "\n",
    "                for idx, Si in enumerate(Surface_Layer2):\n",
    "                    #Distance_to_proto = np.linalg.norm(Si - self.Prototype,ord=2,axis=1)\n",
    "                    #closest_proto_idx = np.argmin(Distance_to_proto)\n",
    "                    \n",
    "                    histo[closest_proto_idx] += 1\n",
    "\n",
    "                all_histo[idx_train-1,:] = histo/np.sum(histo)\n",
    "                labels[idx_train-1] = self.dbspecs.labelids[idf]\n",
    "                if idx_train == nb_file:\n",
    "                    break\n",
    "                idx_train+=1\n",
    "        return (all_histo,labels)"
   ]
  },
  {
   "cell_type": "code",
   "execution_count": null,
   "metadata": {
    "collapsed": false
   },
   "outputs": [],
   "source": [
    "def GenerateHistogram1(dico, database, train=True, nb_file=None, verbose=0):\n",
    "    if train == True and nb_file==None:\n",
    "        nb_file = np.sum(np.array(database.dblabels) == 1)\n",
    "    if train == False and nb_file==None:\n",
    "        nb_file = np.sum(np.array(database.dblabels) == 2)\n",
    "    if train== True:\n",
    "        mode = 1\n",
    "        if verbose!=0:\n",
    "            print('coding on training db')\n",
    "    else :\n",
    "        if verbose!=0:\n",
    "            print('coding on testing db')\n",
    "        mode = 2\n",
    "        \n",
    "    nb_dico = dico.shape[0]\n",
    "    all_histo = np.zeros((nb_file,nb_dico))\n",
    "    labels = np.zeros(nb_file)\n",
    "    idx_train = 1\n",
    "    for idf, dblabel in enumerate(database.dblabels):\n",
    "        if dblabel == mode :\n",
    "            if (verbose!=0) and (idx_train % 10 == 0):\n",
    "                print('coded file {0}/{1}'.format(idx_train, nb_file))\n",
    "            \n",
    "            histo = np.zeros(nb_dico).astype(int)\n",
    "\n",
    "            filepath = database.path + database.filenames[idf]\n",
    "            event = LoadGestureDB(filepath, OutOnePolarity=True)\n",
    "            Surface_Layer1 = SpTe_Layer1.create(event = event,kernel='linear')\n",
    "            filt = np.sum(Surface_Layer1, axis = 1) > 2*R\n",
    "            Surface_Layer2 = Surface_Layer1[filt,:] \n",
    "            corr = Surface_Layer2 @ dico.T\n",
    "            for idx, Si in enumerate(Surface_Layer2):\n",
    "                c = corr[idx, :].copy()\n",
    "                closest_proto_idx = np.argmax(c)\n",
    "                #Distance_to_proto = np.linalg.norm(Si - Prototype1,ord=2,axis=1)\n",
    "                #closest_proto_idx = np.argmin(Distance_to_proto)\n",
    "                histo[closest_proto_idx] += 1\n",
    "\n",
    "            all_histo[idx_train-1,:] = histo/np.sum(histo)\n",
    "            labels[idx_train-1] = database.labelids[idf]\n",
    "            if idx_train == nb_file:\n",
    "                break\n",
    "            idx_train+=1\n",
    "    return (all_histo,labels)"
   ]
  }
 ],
 "metadata": {
  "kernelspec": {
   "display_name": "Python 3",
   "language": "python",
   "name": "python3"
  },
  "language_info": {
   "codemirror_mode": {
    "name": "ipython",
    "version": 3
   },
   "file_extension": ".py",
   "mimetype": "text/x-python",
   "name": "python",
   "nbconvert_exporter": "python",
   "pygments_lexer": "ipython3",
   "version": "3.6.1"
  }
 },
 "nbformat": 4,
 "nbformat_minor": 2
}
