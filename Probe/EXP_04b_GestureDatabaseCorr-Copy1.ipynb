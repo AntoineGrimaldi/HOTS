{
 "cells": [
  {
   "cell_type": "code",
   "execution_count": 1,
   "metadata": {
    "collapsed": false
   },
   "outputs": [],
   "source": [
    "%load_ext autoreload\n",
    "%autoreload 2\n",
    "%matplotlib inline"
   ]
  },
  {
   "cell_type": "code",
   "execution_count": 2,
   "metadata": {
    "collapsed": false
   },
   "outputs": [],
   "source": [
    "import numpy as np\n",
    "import matplotlib.pyplot as plt\n",
    "import HOTS.libUnpackAtis as ua\n",
    "import HOTS.libDataHelper as dh\n",
    "from HOTS.GestExp import GestExp, MonitorHisto\n",
    "from HOTS.GestExp import save_object, load_object, Classify\n",
    "from HOTS.Monitor import DisplaySurface2D\n"
   ]
  },
  {
   "cell_type": "code",
   "execution_count": 3,
   "metadata": {
    "collapsed": false
   },
   "outputs": [],
   "source": [
    "settingsFile_DB1 = \"/Users/boutin.v/Documents/DataBase/GEST/newlayer_digit.hotsnetwork\"\n",
    "settingsFile_DB2 = \"/Users/boutin.v/Documents/DataBase/GEST/newlayer_digit2.hotsnetwork\"\n",
    "#specs = dh.superLoadHOTSNetworkSettingsFromFile(settingsFile, True)\n",
    "#dbspecs = dh.superReadDB(specs.db_file, specs.db_path)\n",
    "\n",
    "\n",
    "records_path = '../Records/EXP_06_GestureCorr/'"
   ]
  },
  {
   "cell_type": "markdown",
   "metadata": {},
   "source": [
    "## EXP01 : 1 polarity, 5*5 patches, 14 dico, eta=0.03, DB=1"
   ]
  },
  {
   "cell_type": "code",
   "execution_count": 4,
   "metadata": {
    "collapsed": false
   },
   "outputs": [
    {
     "name": "stdout",
     "output_type": "stream",
     "text": [
      "------ Loaded settings ------\n",
      "Enable viewer: True (Port: 3330, update 8)\n",
      " \n",
      "Number of polarities of the input: 1\n",
      "Number of dimensions and sizes: 2, [304 240]\n",
      "Number of layers: 1\n",
      "> 8, 10000.0, 2\n",
      "Number of fixed layers: 0\n",
      " \n",
      "Data file: none\n",
      "DB file: /Users/boutin.v/Documents/DataBase/GEST/testoids_1.db\n",
      "DB path: /Users/boutin.v/Documents/DataBase/GEST/complete_chris_db/\n",
      "Workdir path: \n",
      "Save id: \n",
      "------ End of settings ------\n",
      " \n",
      "840 files in the DB.\n",
      "Training on 200 files\n",
      "learned file 10/200\n",
      "learned file 20/200\n",
      "learned file 30/200\n",
      "learned file 40/200\n",
      "learned file 50/200\n",
      "learned file 60/200\n",
      "learned file 70/200\n",
      "learned file 80/200\n",
      "learned file 90/200\n",
      "learned file 100/200\n",
      "learned file 110/200\n",
      "learned file 120/200\n",
      "learned file 130/200\n",
      "learned file 140/200\n",
      "learned file 150/200\n",
      "learned file 160/200\n",
      "learned file 170/200\n",
      "learned file 180/200\n",
      "learned file 190/200\n",
      "learned file 200/200\n",
      "coding on training db\n",
      "coded file 10/200\n",
      "coded file 20/200\n",
      "coded file 30/200\n",
      "coded file 40/200\n",
      "coded file 50/200\n",
      "coded file 60/200\n",
      "coded file 70/200\n",
      "coded file 80/200\n",
      "coded file 90/200\n",
      "coded file 100/200\n",
      "coded file 110/200\n",
      "coded file 120/200\n",
      "coded file 130/200\n",
      "coded file 140/200\n",
      "coded file 150/200\n",
      "coded file 160/200\n",
      "coded file 170/200\n",
      "coded file 180/200\n",
      "coded file 190/200\n",
      "coded file 200/200\n",
      "coding on testing db\n",
      "coded file 10/60\n",
      "coded file 20/60\n",
      "coded file 30/60\n",
      "coded file 40/60\n",
      "coded file 50/60\n",
      "coded file 60/60\n",
      "file saved\n"
     ]
    }
   ],
   "source": [
    "\n",
    "Records = True\n",
    "nb_dico = 14\n",
    "R = 2\n",
    "tau = 0.03\n",
    "\n",
    "if Records == True:\n",
    "    Exp0 = GestExp(settingsFile_DB1,nb_dico=nb_dico,R=R,tau=tau,verbose=1)\n",
    "    Prototype = Exp0.learnHomeo(eta=0.03, eta_homeo=None,nb_file=200)\n",
    "    training_data = Exp0.GenerateHistogramHomeo(train=True,nb_file=200)\n",
    "    testing_data = Exp0.GenerateHistogramHomeo(train=False)\n",
    "    save_object(Exp0,records_path + 'Exp1_2017_12_16.pkl')\n",
    "else :\n",
    "    Exp0 = load_object(records_path + 'Exp1_2017_12_16.pkl')"
   ]
  },
  {
   "cell_type": "code",
   "execution_count": 5,
   "metadata": {
    "collapsed": false
   },
   "outputs": [
    {
     "name": "stdout",
     "output_type": "stream",
     "text": [
      "classification accuracy : 73.33 %\n"
     ]
    },
    {
     "data": {
      "image/png": "[encoded data removed]",
      "text/plain": [
       "<matplotlib.figure.Figure at 0x10edd6ef0>"
      ]
     },
     "metadata": {},
     "output_type": "display_data"
    },
    {
     "data": {
      "image/png": "[encoded data removed]",
      "text/plain": [
       "<matplotlib.figure.Figure at 0x10ce18a58>"
      ]
     },
     "metadata": {},
     "output_type": "display_data"
    }
   ],
   "source": [
    "accuracy = Classify(Exp0.training_data,Exp0.testing_data, n_neighbors=4)\n",
    "print('classification accuracy : {0:.2f} %'.format(accuracy*100))\n",
    "DisplaySurface2D(Exp0.Prototype,nb_polarities=1)\n",
    "MonitorHisto(Exp0.total_activation)"
   ]
  },
  {
   "cell_type": "code",
   "execution_count": 6,
   "metadata": {
    "collapsed": false
   },
   "outputs": [
    {
     "ename": "NameError",
     "evalue": "name 'stop_here' is not defined",
     "output_type": "error",
     "traceback": [
      "\u001b[0;31m---------------------------------------------------------------------------\u001b[0m",
      "\u001b[0;31mNameError\u001b[0m                                 Traceback (most recent call last)",
      "\u001b[0;32m<ipython-input-6-ee7ee840f3f4>\u001b[0m in \u001b[0;36m<module>\u001b[0;34m()\u001b[0m\n\u001b[0;32m----> 1\u001b[0;31m \u001b[0mstop_here\u001b[0m\u001b[0;34m\u001b[0m\u001b[0m\n\u001b[0m",
      "\u001b[0;31mNameError\u001b[0m: name 'stop_here' is not defined"
     ]
    }
   ],
   "source": [
    "stop_here"
   ]
  },
  {
   "cell_type": "markdown",
   "metadata": {},
   "source": [
    "## EXP02 : 1 polarity, 5*5 patches, 14 dico, eta=0.03, DB=2"
   ]
  },
  {
   "cell_type": "code",
   "execution_count": null,
   "metadata": {
    "collapsed": false
   },
   "outputs": [],
   "source": [
    "Records = False\n",
    "nb_dico = 14\n",
    "R = 2\n",
    "tau = 0.03\n",
    "\n",
    "if Records == True:\n",
    "    Exp0 = GestExp(settingsFile_DB2, nb_dico=nb_dico,R=R,tau=tau,verbose=1)\n",
    "    Prototype = Exp0.learnHomeo(eta=0.03, eta_homeo=None,nb_file=200)\n",
    "    training_data = Exp0.GenerateHistogramHomeo(train=True,nb_file=200)\n",
    "    testing_data = Exp0.GenerateHistogramHomeo(train=False)\n",
    "    save_object(Exp0,records_path + 'Exp2_2017_12_16.pkl')\n",
    "else :\n",
    "    Exp0 = load_object(records_path + 'Exp2_2017_12_16.pkl')"
   ]
  },
  {
   "cell_type": "code",
   "execution_count": null,
   "metadata": {
    "collapsed": false
   },
   "outputs": [],
   "source": [
    "accuracy = Classify(Exp0.training_data,Exp0.testing_data, n_neighbors=4)\n",
    "print('classification accuracy : {0:.2f} %'.format(accuracy*100))\n",
    "DisplaySurface2D(Exp0.Prototype,nb_polarities=1)\n",
    "MonitorHisto(Exp0.total_activation)"
   ]
  },
  {
   "cell_type": "markdown",
   "metadata": {},
   "source": [
    "## EXP03 : 1 polarity, 5*5 patches, 14 dico, eta=0.01, DB=1"
   ]
  },
  {
   "cell_type": "code",
   "execution_count": null,
   "metadata": {
    "collapsed": false
   },
   "outputs": [],
   "source": [
    "Records = False\n",
    "nb_dico = 14\n",
    "R = 2\n",
    "tau = 0.03\n",
    "\n",
    "if Records == True:\n",
    "    Exp0 = GestExp(settingsFile_DB1,nb_dico=nb_dico,R=R,tau=tau,verbose=1)\n",
    "    Prototype = Exp0.learnHomeo(eta=0.01, eta_homeo=None,nb_file=200)\n",
    "    training_data = Exp0.GenerateHistogramHomeo(train=True, nb_file=200)\n",
    "    testing_data = Exp0.GenerateHistogramHomeo(train=False)\n",
    "    save_object(Exp0,records_path + 'Exp3_2017_12_16.pkl')\n",
    "else :\n",
    "    Exp0 = load_object(records_path + 'Exp3_2017_12_16.pkl')"
   ]
  },
  {
   "cell_type": "code",
   "execution_count": null,
   "metadata": {
    "collapsed": false
   },
   "outputs": [],
   "source": [
    "accuracy = Classify(Exp0.training_data,Exp0.testing_data,n_neighbors=4)\n",
    "print('classification accuracy : {0:.2f} %'.format(accuracy*100))\n",
    "DisplaySurface2D(Exp0.Prototype,nb_polarities=1)\n",
    "MonitorHisto(Exp0.total_activation)"
   ]
  },
  {
   "cell_type": "markdown",
   "metadata": {},
   "source": [
    "## EXP04 : 1 polarity, 5*5 patches, 32 dico, eta=0.03, DB=1"
   ]
  },
  {
   "cell_type": "code",
   "execution_count": null,
   "metadata": {
    "collapsed": false
   },
   "outputs": [],
   "source": [
    "Records = False\n",
    "nb_dico = 32\n",
    "R = 2\n",
    "tau = 0.03\n",
    "\n",
    "if Records == True:\n",
    "    Exp0 = GestExp(settingsFile_DB1,nb_dico=nb_dico,R=R,tau=tau,verbose=1)\n",
    "    Prototype = Exp0.learnHomeo(eta=0.03, eta_homeo=None,nb_file=500)\n",
    "    training_data = Exp0.GenerateHistogramHomeo(train=True, nb_file=500)\n",
    "    testing_data = Exp0.GenerateHistogramHomeo(train=False)\n",
    "    save_object(Exp0,records_path + 'Exp4_2017_12_16.pkl')\n",
    "else :\n",
    "    Exp0 = load_object(records_path + 'Exp4_2017_12_16.pkl')"
   ]
  },
  {
   "cell_type": "code",
   "execution_count": null,
   "metadata": {
    "collapsed": false
   },
   "outputs": [],
   "source": [
    "accuracy = Classify(Exp0.training_data,Exp0.testing_data,n_neighbors=4)\n",
    "print('classification accuracy : {0:.2f} %'.format(accuracy*100))\n",
    "DisplaySurface2D(Exp0.Prototype,nb_polarities=1)\n",
    "MonitorHisto(Exp0.total_activation)"
   ]
  },
  {
   "cell_type": "code",
   "execution_count": null,
   "metadata": {
    "collapsed": false
   },
   "outputs": [],
   "source": []
  },
  {
   "cell_type": "markdown",
   "metadata": {},
   "source": [
    "## EXP05 : 1 polarity, 5*5 patches, 32 dico, eta=0.01, DB=1"
   ]
  },
  {
   "cell_type": "code",
   "execution_count": null,
   "metadata": {
    "collapsed": false,
    "scrolled": false
   },
   "outputs": [],
   "source": [
    "Records = False\n",
    "nb_dico = 32\n",
    "R = 2\n",
    "tau = 0.03\n",
    "\n",
    "if Records == True:\n",
    "    Exp0 = GestExp(settingsFile_DB1,nb_dico=nb_dico,R=R,tau=tau,verbose=1)\n",
    "    Prototype = Exp0.learnHomeo(eta=0.01, eta_homeo=None,nb_file=500)\n",
    "    training_data = Exp0.GenerateHistogramHomeo(train=True, nb_file=500)\n",
    "    testing_data = Exp0.GenerateHistogramHomeo(train=False)\n",
    "    save_object(Exp0,records_path + 'Exp5_2017_12_16.pkl')\n",
    "else :\n",
    "    Exp0 = load_object(records_path + 'Exp5_2017_12_16.pkl')"
   ]
  },
  {
   "cell_type": "code",
   "execution_count": null,
   "metadata": {
    "collapsed": false
   },
   "outputs": [],
   "source": [
    "accuracy = Classify(Exp0.training_data,Exp0.testing_data,n_neighbors=4)\n",
    "print('classification accuracy : {0:.2f} %'.format(accuracy*100))\n",
    "DisplaySurface2D(Exp0.Prototype,nb_polarities=1)\n",
    "MonitorHisto(Exp0.total_activation)"
   ]
  },
  {
   "cell_type": "markdown",
   "metadata": {},
   "source": [
    "## EXP06 : 1 polarity, 7*7 patches, 14 dico, eta=0.03, DB=1"
   ]
  },
  {
   "cell_type": "code",
   "execution_count": null,
   "metadata": {
    "collapsed": false
   },
   "outputs": [],
   "source": [
    "Records = False\n",
    "nb_dico = 14\n",
    "R = 3\n",
    "tau = 0.03\n",
    "\n",
    "if Records == True:\n",
    "    Exp0 = GestExp(settingsFile_DB1,nb_dico=nb_dico,R=R,tau=tau,verbose=1)\n",
    "    Prototype = Exp0.learnHomeo(eta=0.03, eta_homeo=None, nb_file=200)\n",
    "    training_data = Exp0.GenerateHistogramMaro(train=True, nb_file=200)\n",
    "    testing_data = Exp0.GenerateHistogramHomeo(train=False)\n",
    "    save_object(Exp0,records_path + 'Exp6_2017_12_16.pkl')\n",
    "else :\n",
    "    Exp0 = load_object(records_path + 'Exp6_2017_12_16.pkl')"
   ]
  },
  {
   "cell_type": "code",
   "execution_count": null,
   "metadata": {
    "collapsed": false
   },
   "outputs": [],
   "source": [
    "accuracy = Classify(Exp0.training_data,Exp0.testing_data,n_neighbors=4)\n",
    "print('classification accuracy : {0:.2f} %'.format(accuracy*100))\n",
    "DisplaySurface2D(Exp0.Prototype,nb_polarities=1)\n",
    "MonitorHisto(Exp0.total_activation)"
   ]
  },
  {
   "cell_type": "markdown",
   "metadata": {},
   "source": [
    "## EXP07 : 1 polarity, 9*9 patches, 14 dico, eta=0.03, DB=1"
   ]
  },
  {
   "cell_type": "code",
   "execution_count": null,
   "metadata": {
    "collapsed": false
   },
   "outputs": [],
   "source": [
    "Records = True\n",
    "nb_dico = 14\n",
    "R = 4\n",
    "tau = 0.03\n",
    "\n",
    "if Records == True:\n",
    "    Exp0 = GestExp(settingsFile_DB1,nb_dico=nb_dico,R=R,tau=tau,verbose=1)\n",
    "    Prototype = Exp0.learnHomeo(eta=0.03, eta_homeo=None, nb_file=200)\n",
    "    training_data = Exp0.GenerateHistogramMaro(train=True, nb_file=200)\n",
    "    testing_data = Exp0.GenerateHistogramHomeo(train=False)\n",
    "    save_object(Exp0,records_path + 'Exp7_2017_12_16.pkl')\n",
    "else :\n",
    "    Exp0 = load_object(records_path + 'Exp7_2017_12_16.pkl')"
   ]
  },
  {
   "cell_type": "code",
   "execution_count": null,
   "metadata": {
    "collapsed": false
   },
   "outputs": [],
   "source": [
    "accuracy = Classify(Exp0.training_data,Exp0.testing_data,n_neighbors=4)\n",
    "print('classification accuracy : {0:.2f} %'.format(accuracy*100))\n",
    "DisplaySurface2D(Exp0.Prototype,nb_polarities=1)\n",
    "MonitorHisto(Exp0.total_activation)"
   ]
  }
 ],
 "metadata": {
  "kernelspec": {
   "display_name": "Python 3",
   "language": "python",
   "name": "python3"
  },
  "language_info": {
   "codemirror_mode": {
    "name": "ipython",
    "version": 3
   },
   "file_extension": ".py",
   "mimetype": "text/x-python",
   "name": "python",
   "nbconvert_exporter": "python",
   "pygments_lexer": "ipython3",
   "version": "3.6.1"
  }
 },
 "nbformat": 4,
 "nbformat_minor": 2
}
