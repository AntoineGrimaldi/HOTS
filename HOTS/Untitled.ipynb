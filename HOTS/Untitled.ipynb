{
 "cells": [
  {
   "cell_type": "code",
   "execution_count": 1,
   "metadata": {},
   "outputs": [
    {
     "name": "stdout",
     "output_type": "stream",
     "text": [
      "5\n"
     ]
    }
   ],
   "source": [
    "import numpy as np\n",
    "x = 5\n",
    "y = np.exp(-x)\n",
    "z = x\n",
    "z += 3\n",
    "print(x)"
   ]
  },
  {
   "cell_type": "code",
   "execution_count": 2,
   "metadata": {},
   "outputs": [],
   "source": [
    "class X(object):\n",
    "    def __init__(self, a):\n",
    "        self.x = a\n",
    "        self.y = a"
   ]
  },
  {
   "cell_type": "code",
   "execution_count": 3,
   "metadata": {},
   "outputs": [
    {
     "name": "stdout",
     "output_type": "stream",
     "text": [
      "1\n"
     ]
    }
   ],
   "source": [
    "Y = X(1)\n",
    "print(Y.x)"
   ]
  },
  {
   "cell_type": "code",
   "execution_count": 4,
   "metadata": {},
   "outputs": [
    {
     "name": "stdout",
     "output_type": "stream",
     "text": [
      "[8 3 0 2 1 5 8 8 2 3]\n",
      "40\n",
      "(10, 4)\n",
      "[40. 40. 40. 40.]\n"
     ]
    }
   ],
   "source": [
    "x = np.random.randint(0,10,10)\n",
    "x = np.reshape(x, [10])\n",
    "y = np.ones([10,4])\n",
    "print(x)\n",
    "print(np.sum(x))\n",
    "print(y.shape)\n",
    "print(np.dot(x,y))"
   ]
  },
  {
   "cell_type": "code",
   "execution_count": 5,
   "metadata": {},
   "outputs": [
    {
     "ename": "ValueError",
     "evalue": "shapes (10,) and (4,10) not aligned: 10 (dim 0) != 4 (dim 0)",
     "output_type": "error",
     "traceback": [
      "\u001b[0;31m---------------------------------------------------------------------------\u001b[0m",
      "\u001b[0;31mValueError\u001b[0m                                Traceback (most recent call last)",
      "\u001b[0;32m/tmp/ipykernel_1220211/834746051.py\u001b[0m in \u001b[0;36m<module>\u001b[0;34m\u001b[0m\n\u001b[0;32m----> 1\u001b[0;31m \u001b[0mprint\u001b[0m\u001b[0;34m(\u001b[0m\u001b[0mnp\u001b[0m\u001b[0;34m.\u001b[0m\u001b[0mdot\u001b[0m\u001b[0;34m(\u001b[0m\u001b[0mx\u001b[0m\u001b[0;34m,\u001b[0m\u001b[0my\u001b[0m\u001b[0;34m.\u001b[0m\u001b[0mT\u001b[0m\u001b[0;34m)\u001b[0m\u001b[0;34m)\u001b[0m\u001b[0;34m\u001b[0m\u001b[0;34m\u001b[0m\u001b[0m\n\u001b[0m",
      "\u001b[0;32m<__array_function__ internals>\u001b[0m in \u001b[0;36mdot\u001b[0;34m(*args, **kwargs)\u001b[0m\n",
      "\u001b[0;31mValueError\u001b[0m: shapes (10,) and (4,10) not aligned: 10 (dim 0) != 4 (dim 0)"
     ]
    }
   ],
   "source": [
    "print(np.dot(x,y.T))"
   ]
  },
  {
   "cell_type": "code",
   "execution_count": 35,
   "metadata": {},
   "outputs": [
    {
     "name": "stdout",
     "output_type": "stream",
     "text": [
      "The autoreload extension is already loaded. To reload it, use:\n",
      "  %reload_ext autoreload\n"
     ]
    }
   ],
   "source": [
    "from Layer import layer\n",
    "R, N_clust, nbpola, homeo, algo, krnlinit, output = 2, 4, 2, True, 'mpursuit', 'first', 'me'\n",
    "L = layer(R, N_clust, nbpola, homeo, algo, krnlinit, output, False)\n",
    "%load_ext autoreload\n",
    "%autoreload 2"
   ]
  },
  {
   "cell_type": "code",
   "execution_count": 39,
   "metadata": {},
   "outputs": [
    {
     "name": "stdout",
     "output_type": "stream",
     "text": [
      "Using downloaded and verified file: ../Data/pips_test.tar.gz\n",
      "Extracting ../Data/pips_test.tar.gz to ../Data/\n"
     ]
    },
    {
     "data": {
      "image/png": "[encoded data removed]",
      "text/plain": [
       "<Figure size 1080x360 with 8 Axes>"
      ]
     },
     "metadata": {
      "needs_background": "light"
     },
     "output_type": "display_data"
    }
   ],
   "source": [
    "import tonic\n",
    "from TimeSurface import timesurface\n",
    "\n",
    "learningset = tonic.datasets.POKERDVS(save_to='../Data/',\n",
    "                                train=False,\n",
    "                                transform=None)\n",
    "loader = tonic.datasets.DataLoader(learningset, shuffle=True)\n",
    "\n",
    "target_event = 2000\n",
    "SpTetonic = timesurface(R=2,tau=5e3,camsize=[34,34])\n",
    "events, target = next(iter(loader))\n",
    "iev = 0\n",
    "while iev<target_event:\n",
    "    x,y,t,p =   int(events[0][iev][learningset.ordering.find(\"x\")].item()), \\\n",
    "                int(events[0][iev][learningset.ordering.find(\"y\")].item()), \\\n",
    "                int(events[0][iev][learningset.ordering.find(\"t\")].item()), \\\n",
    "                int(events[0][iev][learningset.ordering.find(\"p\")].item())\n",
    "    TS = SpTetonic.addevent(x,y,t,p)\n",
    "    if len(TS)>0:\n",
    "        h = L.run(TS, True)\n",
    "    iev+=1\n",
    "L.plotdicpola(2,2)"
   ]
  },
  {
   "cell_type": "code",
   "execution_count": 61,
   "metadata": {},
   "outputs": [
    {
     "name": "stdout",
     "output_type": "stream",
     "text": [
      "torch.Size([1, 4239, 4])\n",
      "torch.Size([1, 3072, 4])\n",
      "torch.Size([1, 4693, 4])\n",
      "torch.Size([1, 5366, 4])\n",
      "torch.Size([1, 2374, 4])\n",
      "torch.Size([1, 3272, 4])\n",
      "torch.Size([1, 1077, 4])\n",
      "torch.Size([1, 3181, 4])\n",
      "torch.Size([1, 3013, 4])\n",
      "torch.Size([1, 3585, 4])\n",
      "torch.Size([1, 2076, 4])\n",
      "torch.Size([1, 3168, 4])\n"
     ]
    }
   ],
   "source": [
    "from Network import load\n",
    "loader, ordering, classes = load('poker', trainset=False, jitonic=[None,None], kfold = 2, kfold_ind = 1)\n",
    "for events, target in loader:\n",
    "    print(events.shape)"
   ]
  },
  {
   "cell_type": "code",
   "execution_count": 59,
   "metadata": {},
   "outputs": [
    {
     "name": "stdout",
     "output_type": "stream",
     "text": [
      "12\n"
     ]
    }
   ],
   "source": [
    "\n",
    "loader, ordering, classes = self.load(dataset, trainset=train, jitonic=jitonic, subset_size=subset_size)\n",
    "            nbclass = len(classes)\n",
    "            homeomod = self.L[0].homeo\n",
    "            for i in range(len(self.L)):\n",
    "                self.L[i].homeo=homeotest\n",
    "            pbar = tqdm(total=nb_digit)\n",
    "            timout = []\n",
    "            xout = []\n",
    "            yout = []\n",
    "            polout = []\n",
    "            labout = []\n",
    "            labelmap = []\n",
    "\n",
    "            labelmapav = np.zeros([nbclass, len(self.L[-1].cumhisto)])\n",
    "            labelcount = np.zeros(nbclass)\n",
    "\n",
    "            x_index = ordering.find(\"x\")\n",
    "            y_index = ordering.find(\"y\")\n",
    "            t_index = ordering.find(\"t\")\n",
    "            p_index = ordering.find(\"p\")\n",
    "\n",
    "            for events, target in loader:\n",
    "                for i in range(len(self.L)):\n",
    "                    self.TS[i].spatpmat[:] = 0\n",
    "                    self.TS[i].iev = 0\n",
    "                    self.L[i].cumhisto[:] = 1\n",
    "                    #self.stats[i].actmap[:] = 0\n",
    "                pbar.update(1)\n",
    "                if ds_ev is not None:\n",
    "                    events = events[:,::ds_ev,:]\n",
    "                if maxevts is not None:\n",
    "                    N_max = min(maxevts, events.shape[1])\n",
    "                else:\n",
    "                    N_max = events.shape[1]\n",
    "                if dataset=='cars':\n",
    "                    size_x = max(events[0,:,ordering.find(\"x\")])-min(events[0,:,ordering.find(\"x\")])\n",
    "                    size_y = max(events[0,:,ordering.find(\"y\")])-min(events[0,:,ordering.find(\"y\")])\n",
    "                    self.sensformat((int(size_x.item()),int(size_y.item())))\n",
    "                    events[0,:,ordering.find(\"x\")] -= min(events[0,:,ordering.find(\"x\")]).numpy()\n",
    "                    events[0,:,ordering.find(\"y\")] -= min(events[0,:,ordering.find(\"y\")]).numpy()\n",
    "\n",
    "                for iev in range(N_max):\n",
    "                    \n",
    "                    out, activout = self.run(events[0][iev][x_index].item(), \\\n",
    "                                            events[0][iev][y_index].item(), \\\n",
    "                                            events[0][iev][t_index].item(), \\\n",
    "                                            events[0][iev][p_index].item(), \\\n",
    "                                            to_record=to_record)\n",
    "                    if outstyle=='LR' and activout:\n",
    "                        xout.append(out[0])\n",
    "                        yout.append(out[1])\n",
    "                        timout.append(out[2])\n",
    "                        polout.append(out[3])\n",
    "                        labout.append(target.item())\n",
    "\n",
    "                if train:\n",
    "                    labelmapav[target.item(),:] += self.L[-1].cumhisto.copy()/np.sum(self.L[-1].cumhisto.copy())\n",
    "                    labelcount[target.item()] += 1\n",
    "                    for i in range(len(labelcount)):\n",
    "                        labelmapav[i,:] /= max(labelcount[i],1)\n",
    "                data = (target.item(),self.L[-1].cumhisto.copy()/np.sum(self.L[-1].cumhisto.copy()))\n",
    "                labelmap.append(data)\n",
    "\n",
    "            for i in range(len(self.L)):\n",
    "                self.L[i].homeo=homeomod\n",
    "\n",
    "            pbar.close()\n",
    "\n",
    "            if train:\n",
    "                self.save_output(labelmapav, homeotest, dataset, nb=nb_digit, train=train, jitonic=jitonic, outstyle='histav', kfold_ind=kfold_ind)\n",
    "            self.save_output(labelmap, homeotest, dataset, nb=nb_digit, train=train, jitonic=jitonic, outstyle='histo', kfold_ind=kfold_ind)\n",
    "\n",
    "            if outstyle=='LR':\n",
    "                camsize = self.TS[-1].camsize\n",
    "                nbpola = self.L[-1].kernel.shape[1]\n",
    "                eventsout = [xout,yout,timout,polout,labout,camsize,nbpola]\n",
    "                self.save_output(eventsout, homeotest, dataset, nb=nb_digit, train=train, jitonic=jitonic, outstyle='LR', kfold_ind=kfold_ind)\n",
    "                output = eventsout\n",
    "            elif outstyle=='histo':\n",
    "                output = labelmap\n",
    "            elif outstyle=='histav':\n",
    "                output = labelmapav\n",
    "            return output"
   ]
  },
  {
   "cell_type": "code",
   "execution_count": 75,
   "metadata": {},
   "outputs": [
    {
     "data": {
      "text/plain": [
       "6.666666666666667"
      ]
     },
     "execution_count": 75,
     "metadata": {},
     "output_type": "execute_result"
    }
   ],
   "source": [
    "10*40/60"
   ]
  },
  {
   "cell_type": "code",
   "execution_count": null,
   "metadata": {},
   "outputs": [],
   "source": []
  }
 ],
 "metadata": {
  "kernelspec": {
   "display_name": "Python 3 (ipykernel)",
   "language": "python",
   "name": "python3"
  },
  "language_info": {
   "codemirror_mode": {
    "name": "ipython",
    "version": 3
   },
   "file_extension": ".py",
   "mimetype": "text/x-python",
   "name": "python",
   "nbconvert_exporter": "python",
   "pygments_lexer": "ipython3",
   "version": "3.8.10"
  }
 },
 "nbformat": 4,
 "nbformat_minor": 4
}
