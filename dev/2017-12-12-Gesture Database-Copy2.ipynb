{
 "cells": [
  {
   "cell_type": "code",
   "execution_count": 1,
   "metadata": {
    "collapsed": false,
    "jupyter": {
     "outputs_hidden": false
    }
   },
   "outputs": [],
   "source": [
    "%load_ext autoreload\n",
    "%autoreload 2\n",
    "%matplotlib inline"
   ]
  },
  {
   "cell_type": "code",
   "execution_count": 2,
   "metadata": {
    "collapsed": false,
    "jupyter": {
     "outputs_hidden": false
    }
   },
   "outputs": [],
   "source": [
    "import numpy as np\n",
    "import matplotlib.pyplot as plt\n",
    "import HOTS.Tool_libUnpackAtis as ua\n",
    "import HOTS.Tools_libDataHelper as dh\n",
    "\n",
    "from HOTS.Monitor import GenerateAM, DisplayAM\n",
    "from HOTS.Event import Event, SimpleAlphabet, LoadGestureDB\n",
    "from HOTS.STS import STS\n",
    "from HOTS.Layer import ClusteringLayer, FilterNHBD\n",
    "from HOTS.Monitor import DisplayImage, DisplaySurface3D, DisplaySurface2D, DisplayConvergence\n",
    "from HOTS.Tools import SaveObject, LoadObject\n",
    "from HOTS.Classifier import Classifier\n",
    "from HOTS.Network import Network\n",
    "from HOTS.KmeansHomeoCluster import KmeansHomeo\n",
    "from HOTS.KmeansCluster2 import KmeansMaro2"
   ]
  },
  {
   "cell_type": "code",
   "execution_count": 3,
   "metadata": {
    "collapsed": false,
    "jupyter": {
     "outputs_hidden": false
    }
   },
   "outputs": [
    {
     "name": "stdout",
     "output_type": "stream",
     "text": [
      "------ Loaded settings ------\n",
      "Enable viewer: True (Port: 3330, update 8)\n",
      " \n",
      "Number of polarities of the input: 1\n",
      "Number of dimensions and sizes: 2, [304 240]\n",
      "Number of layers: 1\n",
      "> 8, 10000.0, 2\n",
      "Number of fixed layers: 0\n",
      " \n",
      "Data file: none\n",
      "DB file: /Users/boutin.v/Documents/DataBase/GEST/testoids_1.db\n",
      "DB path: /Users/boutin.v/Documents/DataBase/GEST/complete_chris_db/\n",
      "Workdir path: \n",
      "Save id: \n",
      "------ End of settings ------\n",
      " \n",
      "840 files in the DB.\n"
     ]
    }
   ],
   "source": [
    "settingsFile = \"/Users/boutin.v/Documents/DataBase/GEST/newlayer_digit.hotsnetwork\"\n",
    "specs = dh.superLoadHOTSNetworkSettingsFromFile(settingsFile, True)\n",
    "dbspecs = dh.superReadDB(specs.db_file, specs.db_path)\n",
    "\n",
    "nb_dico = 14\n",
    "R = 2\n",
    "SpTe_Layer1 = STS(tau=0.03, R=R, verbose=0,initial_time=1)"
   ]
  },
  {
   "cell_type": "code",
   "execution_count": null,
   "metadata": {
    "collapsed": false,
    "jupyter": {
     "outputs_hidden": false
    }
   },
   "outputs": [],
   "source": []
  },
  {
   "cell_type": "code",
   "execution_count": null,
   "metadata": {
    "collapsed": false,
    "jupyter": {
     "outputs_hidden": false
    }
   },
   "outputs": [],
   "source": []
  },
  {
   "cell_type": "code",
   "execution_count": 4,
   "metadata": {
    "collapsed": false,
    "jupyter": {
     "outputs_hidden": false
    }
   },
   "outputs": [],
   "source": [
    "def learn(database,nb_file=None,verbose=0):\n",
    "    res_list=list()\n",
    "    coeff_list = list()\n",
    "    #eta = 0.1\n",
    "    if nb_file is None:\n",
    "        nb_file = np.sum(np.array(database.dblabels) == 1)\n",
    "    if verbose !=0:\n",
    "        print('Training on {0} files'.format(nb_file))\n",
    "    Prototype1 = np.random.rand(nb_dico,25)\n",
    "    nb_proto = np.zeros(nb_dico)\n",
    "    idx_train = 1\n",
    "    for idf, dblabel in enumerate(database.dblabels):\n",
    "        if dblabel == 1:\n",
    "            \n",
    "           \n",
    "            if (verbose!=0) and (idx_train % 10 == 0):\n",
    "                print('learned file {0}/{1}'.format(idx_train, nb_file))\n",
    "           \n",
    "\n",
    "            filepath = database.path + database.filenames[idf]\n",
    "            event = LoadGestureDB(filepath, OutOnePolarity=True)\n",
    "            Surface_Layer1 = SpTe_Layer1.create(event = event,kernel='linear')\n",
    "            filt = np.sum(Surface_Layer1, axis = 1) > 2*R\n",
    "            Surface_Layer2 = Surface_Layer1[filt,:] \n",
    "\n",
    "            res = np.zeros((Surface_Layer2.shape[0]))\n",
    "            for idx, Si in enumerate(Surface_Layer2):\n",
    "                Distance_to_proto = np.linalg.norm(Si - Prototype1,ord=2,axis=1)\n",
    "                closest_proto_idx = np.argmin(Distance_to_proto)\n",
    "                Ck = Prototype1[closest_proto_idx,:].copy()\n",
    "                pk = nb_proto[closest_proto_idx]\n",
    "                alpha = 1/(1+pk)\n",
    "                beta = np.dot(Ck, Si)/(np.sqrt(np.dot(Si, Si))*np.sqrt(np.dot(Ck, Ck)))\n",
    "                Ck_t = Ck + alpha*beta*(Si-Ck)\n",
    "                res[idx] = np.linalg.norm(Si-Ck_t,ord=2)\n",
    "                nb_proto[closest_proto_idx] += 1\n",
    "                Prototype1[closest_proto_idx, :] = Ck_t\n",
    "                coeff_list.append(alpha*beta)\n",
    "            \n",
    "            res_list.append(np.mean(res))\n",
    "            if idx_train == nb_file:\n",
    "                break\n",
    "            idx_train+=1\n",
    "    return Prototype1\n"
   ]
  },
  {
   "cell_type": "code",
   "execution_count": 5,
   "metadata": {
    "collapsed": false,
    "jupyter": {
     "outputs_hidden": false
    }
   },
   "outputs": [
    {
     "name": "stdout",
     "output_type": "stream",
     "text": [
      "Training on 780 files\n",
      "learned file 10/780\n",
      "learned file 20/780\n",
      "learned file 30/780\n",
      "learned file 40/780\n",
      "learned file 50/780\n",
      "learned file 60/780\n",
      "learned file 70/780\n",
      "learned file 80/780\n",
      "learned file 90/780\n",
      "learned file 100/780\n",
      "learned file 110/780\n",
      "learned file 120/780\n",
      "learned file 130/780\n",
      "learned file 140/780\n",
      "learned file 150/780\n",
      "learned file 160/780\n",
      "learned file 170/780\n",
      "learned file 180/780\n",
      "learned file 190/780\n",
      "learned file 200/780\n",
      "learned file 210/780\n",
      "learned file 220/780\n",
      "learned file 230/780\n",
      "learned file 240/780\n",
      "learned file 250/780\n",
      "learned file 260/780\n",
      "learned file 270/780\n",
      "learned file 280/780\n",
      "learned file 290/780\n",
      "learned file 300/780\n",
      "learned file 310/780\n",
      "learned file 320/780\n",
      "learned file 330/780\n",
      "learned file 340/780\n",
      "learned file 350/780\n",
      "learned file 360/780\n",
      "learned file 370/780\n",
      "learned file 380/780\n",
      "learned file 390/780\n",
      "learned file 400/780\n",
      "learned file 410/780\n",
      "learned file 420/780\n",
      "learned file 430/780\n",
      "learned file 440/780\n",
      "learned file 450/780\n",
      "learned file 460/780\n",
      "learned file 470/780\n",
      "learned file 480/780\n",
      "learned file 490/780\n",
      "learned file 500/780\n",
      "learned file 510/780\n",
      "learned file 520/780\n",
      "learned file 530/780\n",
      "learned file 540/780\n",
      "learned file 550/780\n",
      "learned file 560/780\n",
      "learned file 570/780\n",
      "learned file 580/780\n",
      "learned file 590/780\n",
      "learned file 600/780\n",
      "learned file 610/780\n",
      "learned file 620/780\n",
      "learned file 630/780\n",
      "learned file 640/780\n",
      "learned file 650/780\n",
      "learned file 660/780\n",
      "learned file 670/780\n",
      "learned file 680/780\n",
      "learned file 690/780\n",
      "learned file 700/780\n",
      "learned file 710/780\n",
      "learned file 720/780\n",
      "learned file 730/780\n",
      "learned file 740/780\n",
      "learned file 750/780\n",
      "learned file 760/780\n",
      "learned file 770/780\n",
      "learned file 780/780\n"
     ]
    }
   ],
   "source": [
    "Prototype1 = learn(dbspecs,verbose=1)"
   ]
  },
  {
   "cell_type": "code",
   "execution_count": 6,
   "metadata": {
    "collapsed": false,
    "jupyter": {
     "outputs_hidden": false
    }
   },
   "outputs": [
    {
     "data": {
      "image/png": "[encoded data removed]",
      "text/plain": [
       "<matplotlib.figure.Figure at 0x10fee7da0>"
      ]
     },
     "metadata": {},
     "output_type": "display_data"
    }
   ],
   "source": [
    "DisplaySurface2D(Prototype1,nb_polarities=1)"
   ]
  },
  {
   "cell_type": "code",
   "execution_count": null,
   "metadata": {
    "collapsed": false,
    "jupyter": {
     "outputs_hidden": false
    }
   },
   "outputs": [],
   "source": [
    "def GenerateHistogram(dico, database, train=True, nb_file=None, verbose=0):\n",
    "    if train == True and nb_file==None:\n",
    "        nb_file = np.sum(np.array(database.dblabels) == 1)\n",
    "    if train == False and nb_file==None:\n",
    "        nb_file = np.sum(np.array(database.dblabels) == 2)\n",
    "    if train== True:\n",
    "        mode = 1\n",
    "    else :\n",
    "        mode = 2\n",
    "        \n",
    "    nb_dico = dico.shape[0]\n",
    "    all_histo = np.zeros((nb_file,nb_dico))\n",
    "    idx_train = 1\n",
    "    for idf, dblabel in enumerate(database.dblabels):\n",
    "        if dblabel == mode :\n",
    "            if (verbose!=0) and (idx_train % 10 == 0):\n",
    "                print('coded file {0}/{1}'.format(idx_train, nb_file))\n",
    "            \n",
    "            histo = np.zeros(nb_dico).astype(int)\n",
    "            if idx_train % 10 == 0:\n",
    "                print('file {0}/{1}'.format(idx_train, nb_file))\n",
    "\n",
    "            filepath = database.path + database.filenames[idf]\n",
    "            event = LoadGestureDB(filepath, OutOnePolarity=True)\n",
    "            Surface_Layer1 = SpTe_Layer1.create(event = event,kernel='linear')\n",
    "            filt = np.sum(Surface_Layer1, axis = 1) > 2*R\n",
    "            Surface_Layer2 = Surface_Layer1[filt,:] \n",
    "\n",
    "            for idx, Si in enumerate(Surface_Layer2):\n",
    "                Distance_to_proto = np.linalg.norm(Si - Prototype1,ord=2,axis=1)\n",
    "                closest_proto_idx = np.argmin(Distance_to_proto)\n",
    "                histo[closest_proto_idx] += 1\n",
    "\n",
    "            all_histo[idx_train-1,:] = histo/np.sum(histo)\n",
    "            if idx_train == nb_file:\n",
    "                break\n",
    "            idx_train+=1\n",
    "    return (all_histo)"
   ]
  },
  {
   "cell_type": "code",
   "execution_count": null,
   "metadata": {
    "collapsed": false,
    "jupyter": {
     "outputs_hidden": false
    }
   },
   "outputs": [],
   "source": [
    "GenerateHistogram(Prototype1,dbspecs,train=True,nb_file=20,verbose=1)"
   ]
  },
  {
   "cell_type": "code",
   "execution_count": null,
   "metadata": {
    "collapsed": false,
    "jupyter": {
     "outputs_hidden": false
    }
   },
   "outputs": [],
   "source": [
    "test = np.array(dbspecs.labelids)\n",
    "print(test.shape)"
   ]
  },
  {
   "cell_type": "code",
   "execution_count": null,
   "metadata": {
    "collapsed": true,
    "jupyter": {
     "outputs_hidden": true
    }
   },
   "outputs": [],
   "source": []
  },
  {
   "cell_type": "code",
   "execution_count": null,
   "metadata": {
    "collapsed": false,
    "jupyter": {
     "outputs_hidden": false
    }
   },
   "outputs": [],
   "source": [
    "np.array(database.dblabels) == 2)"
   ]
  },
  {
   "cell_type": "code",
   "execution_count": null,
   "metadata": {
    "collapsed": false,
    "jupyter": {
     "outputs_hidden": false
    }
   },
   "outputs": [],
   "source": []
  },
  {
   "cell_type": "code",
   "execution_count": null,
   "metadata": {
    "collapsed": false,
    "jupyter": {
     "outputs_hidden": false
    }
   },
   "outputs": [],
   "source": []
  },
  {
   "cell_type": "code",
   "execution_count": null,
   "metadata": {
    "collapsed": false,
    "jupyter": {
     "outputs_hidden": false
    }
   },
   "outputs": [],
   "source": []
  },
  {
   "cell_type": "code",
   "execution_count": null,
   "metadata": {
    "collapsed": false,
    "jupyter": {
     "outputs_hidden": false
    }
   },
   "outputs": [],
   "source": []
  },
  {
   "cell_type": "code",
   "execution_count": null,
   "metadata": {
    "collapsed": true,
    "jupyter": {
     "outputs_hidden": true
    }
   },
   "outputs": [],
   "source": []
  },
  {
   "cell_type": "code",
   "execution_count": null,
   "metadata": {
    "collapsed": false,
    "jupyter": {
     "outputs_hidden": false
    }
   },
   "outputs": [],
   "source": [
    "\n",
    "    \n"
   ]
  },
  {
   "cell_type": "code",
   "execution_count": null,
   "metadata": {
    "collapsed": false,
    "jupyter": {
     "outputs_hidden": false
    }
   },
   "outputs": [],
   "source": []
  },
  {
   "cell_type": "code",
   "execution_count": null,
   "metadata": {
    "collapsed": false,
    "jupyter": {
     "outputs_hidden": false
    }
   },
   "outputs": [],
   "source": []
  },
  {
   "cell_type": "code",
   "execution_count": null,
   "metadata": {
    "collapsed": false,
    "jupyter": {
     "outputs_hidden": false
    }
   },
   "outputs": [],
   "source": []
  },
  {
   "cell_type": "code",
   "execution_count": null,
   "metadata": {
    "collapsed": false,
    "jupyter": {
     "outputs_hidden": false
    }
   },
   "outputs": [],
   "source": []
  },
  {
   "cell_type": "code",
   "execution_count": null,
   "metadata": {
    "collapsed": false,
    "jupyter": {
     "outputs_hidden": false
    }
   },
   "outputs": [],
   "source": []
  },
  {
   "cell_type": "code",
   "execution_count": null,
   "metadata": {
    "collapsed": false,
    "jupyter": {
     "outputs_hidden": false
    }
   },
   "outputs": [],
   "source": []
  },
  {
   "cell_type": "code",
   "execution_count": null,
   "metadata": {
    "collapsed": false,
    "jupyter": {
     "outputs_hidden": false
    }
   },
   "outputs": [],
   "source": []
  },
  {
   "cell_type": "code",
   "execution_count": null,
   "metadata": {
    "collapsed": false,
    "jupyter": {
     "outputs_hidden": false
    }
   },
   "outputs": [],
   "source": []
  },
  {
   "cell_type": "code",
   "execution_count": null,
   "metadata": {
    "collapsed": false,
    "jupyter": {
     "outputs_hidden": false
    }
   },
   "outputs": [],
   "source": []
  },
  {
   "cell_type": "code",
   "execution_count": null,
   "metadata": {
    "collapsed": false,
    "jupyter": {
     "outputs_hidden": false
    }
   },
   "outputs": [],
   "source": []
  },
  {
   "cell_type": "code",
   "execution_count": null,
   "metadata": {
    "collapsed": false,
    "jupyter": {
     "outputs_hidden": false
    }
   },
   "outputs": [],
   "source": []
  },
  {
   "cell_type": "code",
   "execution_count": null,
   "metadata": {
    "collapsed": false,
    "jupyter": {
     "outputs_hidden": false
    }
   },
   "outputs": [],
   "source": []
  },
  {
   "cell_type": "code",
   "execution_count": null,
   "metadata": {
    "collapsed": false,
    "jupyter": {
     "outputs_hidden": false
    }
   },
   "outputs": [],
   "source": []
  },
  {
   "cell_type": "code",
   "execution_count": null,
   "metadata": {
    "collapsed": true,
    "jupyter": {
     "outputs_hidden": true
    }
   },
   "outputs": [],
   "source": []
  },
  {
   "cell_type": "code",
   "execution_count": null,
   "metadata": {
    "collapsed": false,
    "jupyter": {
     "outputs_hidden": false
    }
   },
   "outputs": [],
   "source": []
  },
  {
   "cell_type": "code",
   "execution_count": null,
   "metadata": {
    "collapsed": false,
    "jupyter": {
     "outputs_hidden": false
    }
   },
   "outputs": [],
   "source": []
  },
  {
   "cell_type": "code",
   "execution_count": null,
   "metadata": {
    "collapsed": false,
    "jupyter": {
     "outputs_hidden": false
    }
   },
   "outputs": [],
   "source": []
  },
  {
   "cell_type": "code",
   "execution_count": null,
   "metadata": {
    "collapsed": false,
    "jupyter": {
     "outputs_hidden": false
    }
   },
   "outputs": [],
   "source": []
  },
  {
   "cell_type": "code",
   "execution_count": null,
   "metadata": {
    "collapsed": false,
    "jupyter": {
     "outputs_hidden": false
    }
   },
   "outputs": [],
   "source": []
  },
  {
   "cell_type": "code",
   "execution_count": null,
   "metadata": {
    "collapsed": false,
    "jupyter": {
     "outputs_hidden": false
    }
   },
   "outputs": [],
   "source": []
  },
  {
   "cell_type": "code",
   "execution_count": null,
   "metadata": {
    "collapsed": true,
    "jupyter": {
     "outputs_hidden": true
    }
   },
   "outputs": [],
   "source": []
  }
 ],
 "metadata": {
  "kernelspec": {
   "display_name": "Python 3",
   "language": "python",
   "name": "python3"
  },
  "language_info": {
   "codemirror_mode": {
    "name": "ipython",
    "version": 3
   },
   "file_extension": ".py",
   "mimetype": "text/x-python",
   "name": "python",
   "nbconvert_exporter": "python",
   "pygments_lexer": "ipython3",
   "version": "3.7.7"
  }
 },
 "nbformat": 4,
 "nbformat_minor": 4
}
