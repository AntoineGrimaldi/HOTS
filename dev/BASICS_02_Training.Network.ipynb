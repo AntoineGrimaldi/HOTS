{
 "cells": [
  {
   "cell_type": "code",
   "execution_count": 1,
   "metadata": {
    "collapsed": false,
    "jupyter": {
     "outputs_hidden": false
    }
   },
   "outputs": [
    {
     "name": "stderr",
     "output_type": "stream",
     "text": [
      "\n",
      "Bad key \"text.kerning_factor\" on line 4 in\n",
      "/usr/local/lib/python3.8/site-packages/matplotlib/mpl-data/stylelib/_classic_test_patch.mplstyle.\n",
      "You probably need to get an updated matplotlibrc file from\n",
      "http://github.com/matplotlib/matplotlib/blob/master/matplotlibrc.template\n",
      "or from the matplotlib source distribution\n"
     ]
    }
   ],
   "source": [
    "%load_ext autoreload\n",
    "%autoreload 2\n",
    "%matplotlib inline"
   ]
  },
  {
   "cell_type": "code",
   "execution_count": 2,
   "metadata": {
    "collapsed": false,
    "jupyter": {
     "outputs_hidden": false
    }
   },
   "outputs": [],
   "source": [
    "import numpy as np\n",
    "import matplotlib.pyplot as plt\n",
    "\n",
    "from HOTS.Monitor import (\n",
    "    DisplaySurface2D,\n",
    "    GenerateAM,\n",
    "    DisplayAM,\n",
    "    DisplayImage,\n",
    "    DisplayConvergence,\n",
    ")\n",
    "from HOTS.STS import STS\n",
    "from HOTS.Event import Event  # , Filters\n",
    "from HOTS.KmeansLagorce import KmeansLagorce\n",
    "from HOTS.Layer import FilterNHBD, ClusteringLayer\n",
    "from HOTS.Tools import SaveObject, LoadObject\n",
    "from HOTS.Network import Network\n",
    "import time"
   ]
  },
  {
   "cell_type": "code",
   "execution_count": 3,
   "metadata": {},
   "outputs": [],
   "source": [
    "## Definition of the General parameters"
   ]
  },
  {
   "cell_type": "code",
   "execution_count": 4,
   "metadata": {},
   "outputs": [],
   "source": [
    "tau = 0.02\n",
    "R = 2\n",
    "nb_cluster = [4, 8, 16]\n",
    "ImageSize = (32, 32)"
   ]
  },
  {
   "cell_type": "markdown",
   "metadata": {},
   "source": [
    "# 1. Train the Hierarchical Network Step by Step\n",
    "## 1.1. Loading the events"
   ]
  },
  {
   "cell_type": "code",
   "execution_count": 5,
   "metadata": {
    "collapsed": false,
    "jupyter": {
     "outputs_hidden": false
    }
   },
   "outputs": [],
   "source": [
    "image_list = [1, 32, 19, 22, 29]\n",
    "event0 = Event(ImageSize=(32, 32))\n",
    "\n",
    "event0.LoadFromMat(\"../Data/ExtractedStabilized.mat\", image_number=image_list)"
   ]
  },
  {
   "cell_type": "markdown",
   "metadata": {},
   "source": [
    "## 1.2. Initial Filtering"
   ]
  },
  {
   "cell_type": "code",
   "execution_count": 6,
   "metadata": {
    "collapsed": false,
    "jupyter": {
     "outputs_hidden": false
    }
   },
   "outputs": [],
   "source": [
    "InputFilter = FilterNHBD(threshold=15, neighbourhood=2)\n",
    "event1 = InputFilter.RunLayer(event0)"
   ]
  },
  {
   "cell_type": "markdown",
   "metadata": {},
   "source": [
    "## 1.3. Step by step Training"
   ]
  },
  {
   "cell_type": "code",
   "execution_count": null,
   "metadata": {
    "collapsed": false,
    "jupyter": {
     "outputs_hidden": false
    }
   },
   "outputs": [
    {
     "name": "stdout",
     "output_type": "stream",
     "text": [
      "Generation of SpatioTemporal Surface in ------ 1.53 s\n",
      "Clustering SpatioTemporal Surface in ------ 45.41 s\n",
      "Generation of SpatioTemporal Surface in ------ 2.21 s\n",
      "Clustering SpatioTemporal Surface in ------ 50.85 s\n",
      "Generation of SpatioTemporal Surface in ------ 4.10 s\n"
     ]
    }
   ],
   "source": [
    "## Layer1\n",
    "\n",
    "SpTe_Layer1 = STS(tau=tau, R=R, verbose=1)\n",
    "Surface_Layer1 = SpTe_Layer1.create(event=event1)\n",
    "ClusterLayer1 = KmeansLagorce(nb_cluster=nb_cluster[0], to_record=True, verbose=1)\n",
    "Prototype1 = ClusterLayer1.fit(SpTe_Layer1)\n",
    "event2, _ = ClusterLayer1.predict(Surface=SpTe_Layer1.Surface, event=event1)\n",
    "## Layer2\n",
    "SpTe_Layer2 = STS(tau=10 * tau, R=2 * R, verbose=1)\n",
    "Surface_Layer2 = SpTe_Layer2.create(event=event2)\n",
    "ClusterLayer2 = KmeansLagorce(nb_cluster=nb_cluster[1], to_record=True, verbose=1)\n",
    "Prototype2 = ClusterLayer2.fit(SpTe_Layer2)\n",
    "event3, _ = ClusterLayer2.predict(Surface=SpTe_Layer2.Surface, event=event2)\n",
    "\n",
    "## Layer3\n",
    "SpTe_Layer3 = STS(tau=10 * 10 * tau, R=2 * 2 * R, verbose=1)\n",
    "Surface_Layer3 = SpTe_Layer3.create(event=event3)\n",
    "ClusterLayer3 = KmeansLagorce(nb_cluster=nb_cluster[2], to_record=True, verbose=1)\n",
    "Prototype3 = ClusterLayer3.fit(SpTe_Layer3)\n",
    "event4, _ = ClusterLayer3.predict(Surface=SpTe_Layer3.Surface, event=event3)"
   ]
  },
  {
   "cell_type": "markdown",
   "metadata": {},
   "source": [
    "## 1.4. Condensed Initial Filtering and Training"
   ]
  },
  {
   "cell_type": "code",
   "execution_count": null,
   "metadata": {
    "collapsed": false,
    "jupyter": {
     "outputs_hidden": false
    }
   },
   "outputs": [],
   "source": [
    "## defining the Network\n",
    "InputFilter = FilterNHBD(threshold=15, neighbourhood=2)\n",
    "L1 = ClusteringLayer(\n",
    "    tau=tau,\n",
    "    R=R,\n",
    "    verbose=1,\n",
    "    ThrFilter=0,\n",
    "    LearningAlgo=\"lagorce\",\n",
    "    kernel=\"exponential\",\n",
    "    eta=None,\n",
    "    eta_homeo=None,\n",
    "    sigma=None,\n",
    ")\n",
    "L2 = ClusteringLayer(\n",
    "    tau=10 * tau,\n",
    "    R=2 * R,\n",
    "    verbose=1,\n",
    "    ThrFilter=0,\n",
    "    LearningAlgo=\"lagorce\",\n",
    "    kernel=\"exponential\",\n",
    "    eta=None,\n",
    "    eta_homeo=None,\n",
    "    sigma=None,\n",
    ")\n",
    "L3 = ClusteringLayer(\n",
    "    tau=10 * 10 * tau,\n",
    "    R=2 * 2 * R,\n",
    "    verbose=1,\n",
    "    ThrFilter=0,\n",
    "    LearningAlgo=\"lagorce\",\n",
    "    kernel=\"exponential\",\n",
    "    eta=None,\n",
    "    eta_homeo=None,\n",
    "    sigma=None,\n",
    ")\n",
    "Net = Network([InputFilter, L1, L2, L3])"
   ]
  },
  {
   "cell_type": "code",
   "execution_count": null,
   "metadata": {
    "collapsed": false,
    "jupyter": {
     "outputs_hidden": false
    }
   },
   "outputs": [],
   "source": [
    "ClusterLayer, event_output = Net.TrainCluster(\n",
    "    event=event0, NbClusterList=nb_cluster, to_record=True, NbCycle=1\n",
    ")"
   ]
  },
  {
   "cell_type": "markdown",
   "metadata": {},
   "source": [
    "## 1.5. Monitoring"
   ]
  },
  {
   "cell_type": "code",
   "execution_count": null,
   "metadata": {
    "collapsed": false,
    "jupyter": {
     "outputs_hidden": false
    }
   },
   "outputs": [],
   "source": [
    "DisplaySurface2D(Prototype1, nb_polarities=2)\n",
    "DisplaySurface2D(Prototype2, nb_polarities=4)\n",
    "DisplaySurface2D(Prototype3, nb_polarities=8)\n",
    "DisplayConvergence(ClusterLayer, to_display=[\"error\", \"histo\"])"
   ]
  },
  {
   "cell_type": "markdown",
   "metadata": {},
   "source": [
    "# 2. Running the trained network on a single image\n",
    "## 2.1. Step by Step"
   ]
  },
  {
   "cell_type": "code",
   "execution_count": null,
   "metadata": {},
   "outputs": [],
   "source": [
    "## Loading and filter an image of a 8\n",
    "event0 = Event(ImageSize=(32, 32))\n",
    "event0.LoadFromMat(\"../Data/ExtractedStabilized.mat\", image_number=22)"
   ]
  },
  {
   "cell_type": "code",
   "execution_count": null,
   "metadata": {
    "collapsed": false,
    "jupyter": {
     "outputs_hidden": false
    }
   },
   "outputs": [],
   "source": [
    "InputFilter = FilterNHBD(threshold=15, neighbourhood=2)\n",
    "event1 = InputFilter.RunLayer(event0)\n",
    "\n",
    "## Layer1\n",
    "SpTe_Layer1 = STS(tau=tau, R=R, verbose=1)\n",
    "Surface_Layer1 = SpTe_Layer1.create(event=event1)\n",
    "event2, _ = ClusterLayer1.predict(Surface=SpTe_Layer1.Surface, event=event1)\n",
    "\n",
    "## Layer2\n",
    "SpTe_Layer2 = STS(tau=10 * tau, R=2 * R, verbose=1)\n",
    "Surface_Layer2 = SpTe_Layer2.create(event=event2)\n",
    "event3, _ = ClusterLayer2.predict(Surface=SpTe_Layer2.Surface, event=event2)\n",
    "\n",
    "## Layer3\n",
    "SpTe_Layer3 = STS(tau=10 * 10 * tau, R=2 * 2 * R, verbose=1)\n",
    "Surface_Layer3 = SpTe_Layer3.create(event=event3)\n",
    "event4, _ = ClusterLayer3.predict(Surface=SpTe_Layer3.Surface, event=event3)"
   ]
  },
  {
   "cell_type": "markdown",
   "metadata": {},
   "source": [
    "## 2.2. Condensed"
   ]
  },
  {
   "cell_type": "code",
   "execution_count": null,
   "metadata": {
    "collapsed": false,
    "jupyter": {
     "outputs_hidden": false
    }
   },
   "outputs": [],
   "source": [
    "## Once the Network has been defined, we can run it in one line"
   ]
  },
  {
   "cell_type": "code",
   "execution_count": null,
   "metadata": {
    "collapsed": false,
    "jupyter": {
     "outputs_hidden": false
    }
   },
   "outputs": [],
   "source": [
    "event0_o = Net.RunNetwork(event0, NbClusterList=ClusterLayer)"
   ]
  },
  {
   "cell_type": "markdown",
   "metadata": {},
   "source": [
    "## 2.3.Generating and Monitoring the activation map "
   ]
  },
  {
   "cell_type": "code",
   "execution_count": null,
   "metadata": {
    "collapsed": false,
    "jupyter": {
     "outputs_hidden": false
    }
   },
   "outputs": [],
   "source": [
    "mapL1 = GenerateAM(Net.Layers[1].output, ClusterLayer[0])\n",
    "DisplayAM(mapL1)\n",
    "mapL2 = GenerateAM(Net.Layers[2].output, ClusterLayer[1])\n",
    "DisplayAM(mapL2)\n",
    "mapL3 = GenerateAM(Net.Layers[3].output, ClusterLayer[2])\n",
    "DisplayAM(mapL3)"
   ]
  },
  {
   "cell_type": "code",
   "execution_count": null,
   "metadata": {
    "collapsed": false,
    "jupyter": {
     "outputs_hidden": false
    }
   },
   "outputs": [],
   "source": [
    "mapGlobal_L1 = GenerateAM(Net.Layers[1].output, ClusterLayer[0], mode=\"global\")\n",
    "plt.imshow(mapGlobal_L1);"
   ]
  },
  {
   "cell_type": "code",
   "execution_count": null,
   "metadata": {
    "collapsed": false,
    "jupyter": {
     "outputs_hidden": false
    }
   },
   "outputs": [],
   "source": [
    "mapGlobal_L2 = GenerateAM(Net.Layers[2].output, ClusterLayer[1], mode=\"global\")\n",
    "plt.imshow(mapGlobal_L2);"
   ]
  },
  {
   "cell_type": "code",
   "execution_count": null,
   "metadata": {
    "collapsed": false,
    "jupyter": {
     "outputs_hidden": false
    }
   },
   "outputs": [],
   "source": [
    "mapGlobal_L3 = GenerateAM(Net.Layers[3].output, ClusterLayer[2], mode=\"global\")\n",
    "plt.imshow(mapGlobal_L3);"
   ]
  }
 ],
 "metadata": {
  "kernelspec": {
   "display_name": "Python 3",
   "language": "python",
   "name": "python3"
  },
  "language_info": {
   "codemirror_mode": {
    "name": "ipython",
    "version": 3
   },
   "file_extension": ".py",
   "mimetype": "text/x-python",
   "name": "python",
   "nbconvert_exporter": "python",
   "pygments_lexer": "ipython3",
   "version": "3.8.5"
  }
 },
 "nbformat": 4,
 "nbformat_minor": 4
}
