{
 "cells": [
  {
   "cell_type": "code",
   "execution_count": 1,
   "metadata": {},
   "outputs": [
    {
     "name": "stdout",
     "output_type": "stream",
     "text": [
      "/Users/laurentperrinet/quantic/science/HomeHots/HOTS_clone_laurent/HOTS\n"
     ]
    }
   ],
   "source": [
    "%load_ext autoreload\n",
    "%autoreload 2\n",
    "%matplotlib inline\n",
    "%cd '../HOTS'"
   ]
  },
  {
   "cell_type": "code",
   "execution_count": 2,
   "metadata": {},
   "outputs": [],
   "source": [
    "import time\n",
    "def tic():\n",
    "    global ttic\n",
    "    ttic = time.time()\n",
    "def toc():\n",
    "    print(f'Done in {time.time() - ttic:.3f} s')"
   ]
  },
  {
   "cell_type": "markdown",
   "metadata": {},
   "source": [
    "# raw dataloader"
   ]
  },
  {
   "cell_type": "code",
   "execution_count": 3,
   "metadata": {},
   "outputs": [
    {
     "name": "stdout",
     "output_type": "stream",
     "text": [
      "Done in 1.885 s\n"
     ]
    }
   ],
   "source": [
    "import tonic \n",
    "download = False\n",
    "#download = True\n",
    "tic()\n",
    "dataset = tonic.datasets.NMNIST(save_to='../Data/',\n",
    "                                  train=True, download=download,\n",
    "                                 )\n",
    "toc()"
   ]
  },
  {
   "cell_type": "code",
   "execution_count": 4,
   "metadata": {},
   "outputs": [
    {
     "name": "stdout",
     "output_type": "stream",
     "text": [
      "Done in 0.001 s\n"
     ]
    }
   ],
   "source": [
    "tic()\n",
    "events, target = next(iter(dataset))\n",
    "toc()"
   ]
  },
  {
   "cell_type": "markdown",
   "metadata": {},
   "source": [
    "# torch sparse\n",
    "\n",
    "https://pytorch.org/docs/stable/sparse.html"
   ]
  },
  {
   "cell_type": "code",
   "execution_count": 5,
   "metadata": {},
   "outputs": [],
   "source": [
    "import torch"
   ]
  },
  {
   "cell_type": "code",
   "execution_count": 6,
   "metadata": {},
   "outputs": [
    {
     "data": {
      "text/plain": [
       "((4636, 4), 'xytp')"
      ]
     },
     "execution_count": 6,
     "metadata": {},
     "output_type": "execute_result"
    }
   ],
   "source": [
    "events.shape, dataset.ordering"
   ]
  },
  {
   "cell_type": "code",
   "execution_count": 7,
   "metadata": {},
   "outputs": [
    {
     "data": {
      "text/plain": [
       "array([   7,   25, 1938,    1], dtype=int32)"
      ]
     },
     "execution_count": 7,
     "metadata": {},
     "output_type": "execute_result"
    }
   ],
   "source": [
    "events[0, :]"
   ]
  },
  {
   "cell_type": "code",
   "execution_count": 8,
   "metadata": {},
   "outputs": [],
   "source": [
    "from tonic.functional import to_sparse_tensor_pytorch"
   ]
  },
  {
   "cell_type": "code",
   "execution_count": 9,
   "metadata": {},
   "outputs": [
    {
     "data": {
      "text/plain": [
       "(34, 34)"
      ]
     },
     "execution_count": 9,
     "metadata": {},
     "output_type": "execute_result"
    }
   ],
   "source": [
    "dataset.sensor_size"
   ]
  },
  {
   "cell_type": "code",
   "execution_count": 10,
   "metadata": {},
   "outputs": [],
   "source": [
    "sparse_tensor = to_sparse_tensor_pytorch(events, dataset.sensor_size, dataset.ordering )"
   ]
  },
  {
   "cell_type": "code",
   "execution_count": 11,
   "metadata": {},
   "outputs": [
    {
     "data": {
      "text/plain": [
       "\u001b[0;31mType:\u001b[0m        Tensor\n",
       "\u001b[0;31mString form:\u001b[0m\n",
       "tensor(indices=tensor([[  1938,   2135,   2251,  ..., 304352, 305442, 308046],\n",
       "           <...>  1.,  1.,  ...,  1., -1.,  1.]),\n",
       "           size=(308047, 34, 34), nnz=4636, layout=torch.sparse_coo)\n",
       "\u001b[0;31mLength:\u001b[0m      308047\n",
       "\u001b[0;31mFile:\u001b[0m        /usr/local/lib/python3.9/site-packages/torch/__init__.py\n",
       "\u001b[0;31mDocstring:\u001b[0m   <no docstring>\n"
      ]
     },
     "metadata": {},
     "output_type": "display_data"
    }
   ],
   "source": [
    "sparse_tensor?"
   ]
  },
  {
   "cell_type": "code",
   "execution_count": 12,
   "metadata": {},
   "outputs": [
    {
     "data": {
      "text/plain": [
       "torch.Size([308047, 34, 34])"
      ]
     },
     "execution_count": 12,
     "metadata": {},
     "output_type": "execute_result"
    }
   ],
   "source": [
    "sparse_tensor.to_dense().shape"
   ]
  },
  {
   "cell_type": "code",
   "execution_count": 13,
   "metadata": {},
   "outputs": [],
   "source": [
    "first_frame = sparse_tensor.to_dense()[0, :, :]"
   ]
  },
  {
   "cell_type": "code",
   "execution_count": 14,
   "metadata": {},
   "outputs": [
    {
     "data": {
      "text/plain": [
       "(tensor(0.), tensor(0.))"
      ]
     },
     "execution_count": 14,
     "metadata": {},
     "output_type": "execute_result"
    }
   ],
   "source": [
    "first_frame.min(), first_frame.max()"
   ]
  },
  {
   "cell_type": "markdown",
   "metadata": {},
   "source": [
    "# directly by a transform\n",
    "\n",
    "https://pytorch.org/docs/stable/sparse.html"
   ]
  },
  {
   "cell_type": "code",
   "execution_count": 15,
   "metadata": {},
   "outputs": [
    {
     "name": "stdout",
     "output_type": "stream",
     "text": [
      "Done in 1.876 s\n"
     ]
    }
   ],
   "source": [
    "import tonic \n",
    "download = False\n",
    "tic()\n",
    "dataset_sparse = tonic.datasets.NMNIST(save_to='../Data/',\n",
    "                                  train=True, download=download,\n",
    "                                  transform=tonic.transforms.ToSparseTensor()\n",
    "                                 )\n",
    "toc()"
   ]
  },
  {
   "cell_type": "code",
   "execution_count": 16,
   "metadata": {},
   "outputs": [
    {
     "name": "stdout",
     "output_type": "stream",
     "text": [
      "Done in 0.002 s\n"
     ]
    }
   ],
   "source": [
    "tic()\n",
    "events, target = next(iter(dataset_sparse))\n",
    "toc()"
   ]
  },
  {
   "cell_type": "code",
   "execution_count": 17,
   "metadata": {},
   "outputs": [],
   "source": [
    "event = events[0]"
   ]
  },
  {
   "cell_type": "code",
   "execution_count": 18,
   "metadata": {},
   "outputs": [
    {
     "data": {
      "text/plain": [
       "\u001b[0;31mType:\u001b[0m        Tensor\n",
       "\u001b[0;31mString form:\u001b[0m\n",
       "tensor(indices=tensor([[  1938,   2135,   2251,  ..., 304352, 305442, 308046],\n",
       "           <...>  1.,  1.,  ...,  1., -1.,  1.]),\n",
       "           size=(308047, 34, 34), nnz=4636, layout=torch.sparse_coo)\n",
       "\u001b[0;31mLength:\u001b[0m      308047\n",
       "\u001b[0;31mFile:\u001b[0m        /usr/local/lib/python3.9/site-packages/torch/__init__.py\n",
       "\u001b[0;31mDocstring:\u001b[0m   <no docstring>\n"
      ]
     },
     "metadata": {},
     "output_type": "display_data"
    }
   ],
   "source": [
    "event?"
   ]
  },
  {
   "cell_type": "markdown",
   "metadata": {},
   "source": [
    "# building time matrix"
   ]
  },
  {
   "cell_type": "code",
   "execution_count": 19,
   "metadata": {},
   "outputs": [
    {
     "name": "stdout",
     "output_type": "stream",
     "text": [
      "Done in 1.870 s\n"
     ]
    }
   ],
   "source": [
    "tic()\n",
    "dataset = tonic.datasets.NMNIST(save_to='../Data/',\n",
    "                                  train=True, download=download,\n",
    "                                  #transform=tonic.transforms.AERtoVector()\n",
    "                                 )\n",
    "toc()"
   ]
  },
  {
   "cell_type": "code",
   "execution_count": 20,
   "metadata": {},
   "outputs": [
    {
     "name": "stdout",
     "output_type": "stream",
     "text": [
      "Done in 0.001 s\n"
     ]
    }
   ],
   "source": [
    "tic()\n",
    "events, target = next(iter(dataset))\n",
    "toc()"
   ]
  },
  {
   "cell_type": "code",
   "execution_count": 21,
   "metadata": {},
   "outputs": [
    {
     "data": {
      "text/plain": [
       "array([[     7,     25,   1938,      1],\n",
       "       [    11,     22,   2135,      1],\n",
       "       [    11,     21,   2251,      1],\n",
       "       ...,\n",
       "       [    19,     23, 304352,      1],\n",
       "       [     9,     20, 305442,      0],\n",
       "       [    26,     11, 308046,      1]], dtype=int32)"
      ]
     },
     "execution_count": 21,
     "metadata": {},
     "output_type": "execute_result"
    }
   ],
   "source": [
    "events"
   ]
  },
  {
   "cell_type": "code",
   "execution_count": 22,
   "metadata": {},
   "outputs": [
    {
     "data": {
      "text/plain": [
       "((4636, 4), (34, 34), 'xytp')"
      ]
     },
     "execution_count": 22,
     "metadata": {},
     "output_type": "execute_result"
    }
   ],
   "source": [
    "events.shape, dataset.sensor_size, dataset.ordering"
   ]
  },
  {
   "cell_type": "code",
   "execution_count": 23,
   "metadata": {},
   "outputs": [
    {
     "data": {
      "text/plain": [
       "array([   7,   25, 1938,    1], dtype=int32)"
      ]
     },
     "execution_count": 23,
     "metadata": {},
     "output_type": "execute_result"
    }
   ],
   "source": [
    "events[0, :]"
   ]
  },
  {
   "cell_type": "code",
   "execution_count": 24,
   "metadata": {},
   "outputs": [
    {
     "data": {
      "text/plain": [
       "array([  1938,   2135,   2251, ..., 304352, 305442, 308046], dtype=int32)"
      ]
     },
     "execution_count": 24,
     "metadata": {},
     "output_type": "execute_result"
    }
   ],
   "source": [
    "events[:, 2] # time in microseconds"
   ]
  },
  {
   "cell_type": "code",
   "execution_count": 25,
   "metadata": {},
   "outputs": [],
   "source": [
    "import numpy as np"
   ]
  },
  {
   "cell_type": "code",
   "execution_count": 26,
   "metadata": {},
   "outputs": [
    {
     "name": "stdout",
     "output_type": "stream",
     "text": [
      "Done in 0.008 s\n"
     ]
    }
   ],
   "source": [
    "n_events = events.shape[0]\n",
    "n_x, n_y = dataset.sensor_size\n",
    "n_pol = 2\n",
    "tic()\n",
    "times = np.zeros((n_events, n_x, n_y, n_pol))\n",
    "times[np.arange(n_events), events[:, 0], events[:, 1], events[:, 3]] = events[:, 2]\n",
    "toc()"
   ]
  },
  {
   "cell_type": "code",
   "execution_count": 27,
   "metadata": {},
   "outputs": [],
   "source": [
    "import matplotlib.pyplot as plt"
   ]
  },
  {
   "cell_type": "code",
   "execution_count": 28,
   "metadata": {},
   "outputs": [],
   "source": [
    "idx, idy, idp = 23, 15, 0"
   ]
  },
  {
   "cell_type": "code",
   "execution_count": 29,
   "metadata": {},
   "outputs": [
    {
     "data": {
      "text/plain": [
       "array([0., 0., 0., ..., 0., 0., 0.])"
      ]
     },
     "execution_count": 29,
     "metadata": {},
     "output_type": "execute_result"
    }
   ],
   "source": [
    "times[:, idx, idy, idp]"
   ]
  },
  {
   "cell_type": "code",
   "execution_count": 30,
   "metadata": {},
   "outputs": [
    {
     "data": {
      "text/plain": [
       "<matplotlib.image.AxesImage at 0x1030c4d00>"
      ]
     },
     "execution_count": 30,
     "metadata": {},
     "output_type": "execute_result"
    },
    {
     "data": {
      "image/png": "[encoded data removed]",
      "text/plain": [
       "<Figure size 576x576 with 1 Axes>"
      ]
     },
     "metadata": {
      "needs_background": "light"
     },
     "output_type": "display_data"
    }
   ],
   "source": [
    "fig, ax = plt.subplots(figsize=(8, 8))\n",
    "ax.imshow((times[:, :, :, idp]>0).sum(axis=(0)))"
   ]
  },
  {
   "cell_type": "code",
   "execution_count": 31,
   "metadata": {},
   "outputs": [],
   "source": [
    "time_ = times[:, idx, idy, idp]"
   ]
  },
  {
   "cell_type": "code",
   "execution_count": 32,
   "metadata": {},
   "outputs": [
    {
     "data": {
      "text/plain": [
       "Text(0.5, 0, 'event #')"
      ]
     },
     "execution_count": 32,
     "metadata": {},
     "output_type": "execute_result"
    },
    {
     "data": {
      "image/png": "[encoded data removed]",
      "text/plain": [
       "<Figure size 1080x216 with 1 Axes>"
      ]
     },
     "metadata": {
      "needs_background": "light"
     },
     "output_type": "display_data"
    }
   ],
   "source": [
    "fig, ax = plt.subplots(figsize=(15, 3))\n",
    "ax.plot(time_)\n",
    "ax.set_xlabel('event #')"
   ]
  },
  {
   "cell_type": "markdown",
   "metadata": {},
   "source": [
    "# building dt matrix\n",
    "\n",
    "sur chaque ligne idx, idy, idp, on veut obtenir le temps depuis le dernier event... on peut déjà extraire les spikes:"
   ]
  },
  {
   "cell_type": "code",
   "execution_count": 33,
   "metadata": {},
   "outputs": [
    {
     "name": "stdout",
     "output_type": "stream",
     "text": [
      "Done in 0.001 s\n"
     ]
    }
   ],
   "source": [
    "tic()\n",
    "events, target = next(iter(dataset))\n",
    "toc()"
   ]
  },
  {
   "cell_type": "code",
   "execution_count": 34,
   "metadata": {},
   "outputs": [
    {
     "data": {
      "text/plain": [
       "array([  1938,   2135,   2251, ..., 304352, 305442, 308046], dtype=int32)"
      ]
     },
     "execution_count": 34,
     "metadata": {},
     "output_type": "execute_result"
    }
   ],
   "source": [
    "events[:, 2]"
   ]
  },
  {
   "cell_type": "code",
   "execution_count": 35,
   "metadata": {},
   "outputs": [
    {
     "name": "stdout",
     "output_type": "stream",
     "text": [
      "Done in 0.008 s\n"
     ]
    }
   ],
   "source": [
    "tic()\n",
    "spikes = np.zeros((n_events, n_x, n_y, n_pol))\n",
    "spikes[np.arange(n_events), events[:, 0], events[:, 1], events[:, 3]] = 1\n",
    "toc()"
   ]
  },
  {
   "cell_type": "code",
   "execution_count": 36,
   "metadata": {},
   "outputs": [
    {
     "data": {
      "text/plain": [
       "array([1938,  197,  116, ..., 1394, 1090, 2604], dtype=int32)"
      ]
     },
     "execution_count": 36,
     "metadata": {},
     "output_type": "execute_result"
    }
   ],
   "source": [
    "dt = events[:, 2].copy()\n",
    "dt[1:] = events[1:, 2] - events[:-1, 2]\n",
    "dt"
   ]
  },
  {
   "cell_type": "code",
   "execution_count": 37,
   "metadata": {},
   "outputs": [],
   "source": [
    "time_ = spikes[:, idx, idy, idp]"
   ]
  },
  {
   "cell_type": "code",
   "execution_count": 38,
   "metadata": {},
   "outputs": [
    {
     "data": {
      "text/plain": [
       "Text(0.5, 0, 'event #')"
      ]
     },
     "execution_count": 38,
     "metadata": {},
     "output_type": "execute_result"
    },
    {
     "data": {
      "image/png": "[encoded data removed]",
      "text/plain": [
       "<Figure size 1080x216 with 1 Axes>"
      ]
     },
     "metadata": {
      "needs_background": "light"
     },
     "output_type": "display_data"
    }
   ],
   "source": [
    "fig, ax = plt.subplots(figsize=(15, 3))\n",
    "ax.plot(time_)\n",
    "ax.set_xlabel('event #')"
   ]
  },
  {
   "cell_type": "markdown",
   "metadata": {},
   "source": [
    "# building presynaptic matrix\n",
    "\n",
    "sur chaque ligne idx, idy, idp, on veut opérer une ODE"
   ]
  },
  {
   "cell_type": "code",
   "execution_count": 39,
   "metadata": {},
   "outputs": [
    {
     "name": "stdout",
     "output_type": "stream",
     "text": [
      "Done in 0.001 s\n"
     ]
    }
   ],
   "source": [
    "tic()\n",
    "events, target = next(iter(dataset))\n",
    "toc()"
   ]
  },
  {
   "cell_type": "code",
   "execution_count": 40,
   "metadata": {},
   "outputs": [
    {
     "data": {
      "text/plain": [
       "array([  1938,   2135,   2251, ..., 304352, 305442, 308046], dtype=int32)"
      ]
     },
     "execution_count": 40,
     "metadata": {},
     "output_type": "execute_result"
    }
   ],
   "source": [
    "events[:, 2]"
   ]
  },
  {
   "cell_type": "code",
   "execution_count": 41,
   "metadata": {},
   "outputs": [
    {
     "name": "stdout",
     "output_type": "stream",
     "text": [
      "Done in 0.008 s\n"
     ]
    }
   ],
   "source": [
    "tic()\n",
    "spikes = np.zeros((n_events, n_x, n_y, n_pol))\n",
    "spikes[np.arange(n_events), events[:, 0], events[:, 1], events[:, 3]] = 1\n",
    "toc()"
   ]
  },
  {
   "cell_type": "code",
   "execution_count": 42,
   "metadata": {},
   "outputs": [
    {
     "data": {
      "text/plain": [
       "array([1938,  197,  116, ..., 1394, 1090, 2604], dtype=int32)"
      ]
     },
     "execution_count": 42,
     "metadata": {},
     "output_type": "execute_result"
    }
   ],
   "source": [
    "dt = events[:, 2].copy()\n",
    "dt[1:] = events[1:, 2] - events[:-1, 2]\n",
    "dt"
   ]
  },
  {
   "cell_type": "code",
   "execution_count": 43,
   "metadata": {},
   "outputs": [],
   "source": [
    "spikes_ = spikes[:, idx, idy, idp]"
   ]
  },
  {
   "cell_type": "code",
   "execution_count": 44,
   "metadata": {},
   "outputs": [
    {
     "data": {
      "text/plain": [
       "Text(0.5, 0, 'event #')"
      ]
     },
     "execution_count": 44,
     "metadata": {},
     "output_type": "execute_result"
    },
    {
     "data": {
      "image/png": "[encoded data removed]",
      "text/plain": [
       "<Figure size 1080x216 with 1 Axes>"
      ]
     },
     "metadata": {
      "needs_background": "light"
     },
     "output_type": "display_data"
    }
   ],
   "source": [
    "fig, ax = plt.subplots(figsize=(15, 3))\n",
    "ax.plot(spikes_)\n",
    "ax.set_xlabel('event #')"
   ]
  },
  {
   "cell_type": "code",
   "execution_count": 45,
   "metadata": {},
   "outputs": [
    {
     "data": {
      "text/plain": [
       "array([  1938,   2135,   2251, ..., 304352, 305442, 308046], dtype=int32)"
      ]
     },
     "execution_count": 45,
     "metadata": {},
     "output_type": "execute_result"
    }
   ],
   "source": [
    "timing = events[:, 2].copy()\n",
    "timing"
   ]
  },
  {
   "cell_type": "code",
   "execution_count": 46,
   "metadata": {},
   "outputs": [
    {
     "data": {
      "text/plain": [
       "(0, 1, 2, 3)"
      ]
     },
     "execution_count": 46,
     "metadata": {},
     "output_type": "execute_result"
    }
   ],
   "source": [
    "ordering = dataset.ordering\n",
    "x_index = ordering.find(\"x\")\n",
    "y_index = ordering.find(\"y\")\n",
    "t_index = ordering.find(\"t\")\n",
    "p_index = ordering.find(\"p\")\n",
    "x_index, y_index, t_index, p_index"
   ]
  },
  {
   "cell_type": "code",
   "execution_count": 47,
   "metadata": {},
   "outputs": [],
   "source": [
    "tau = 150 * 1000 # time scale in microseconds\n",
    "sample_space = 1"
   ]
  },
  {
   "cell_type": "code",
   "execution_count": 48,
   "metadata": {},
   "outputs": [
    {
     "name": "stdout",
     "output_type": "stream",
     "text": [
      "Done in 0.108 s\n"
     ]
    }
   ],
   "source": [
    "tic()\n",
    "Vm = np.zeros((n_events, n_x//sample_space, n_y//sample_space, n_pol))\n",
    "\n",
    "for i_event in range(n_events):\n",
    "    if i_event>0:\n",
    "        #print(np.exp(-(events[i_event, t_index]-events[i_event-1, t_index])/tau))\n",
    "        Vm[i_event, :, :, :] = Vm[i_event-1, :, :, :] * np.exp(-(events[i_event, t_index]-events[i_event-1, t_index])/tau)\n",
    "\n",
    "    x_pos = events[i_event, x_index]//sample_space\n",
    "    y_pos = events[i_event, y_index]//sample_space\n",
    "    p = events[i_event, p_index]\n",
    "    \n",
    "    Vm[i_event, x_pos, y_pos, p] = 1.\n",
    "\n",
    "toc()"
   ]
  },
  {
   "cell_type": "code",
   "execution_count": 49,
   "metadata": {},
   "outputs": [
    {
     "name": "stdout",
     "output_type": "stream",
     "text": [
      "Done in 0.099 s\n"
     ]
    }
   ],
   "source": [
    "tic()\n",
    "Vm = np.zeros((n_events, n_x//sample_space, n_y//sample_space, n_pol))\n",
    "\n",
    "discount = np.exp(-(events[1:, t_index]-events[:-1, t_index])/tau)\n",
    "\n",
    "for i_event in range(n_events):\n",
    "    if i_event>0:\n",
    "        #print(np.exp(-(events[i_event, t_index]-events[i_event-1, t_index])/tau))\n",
    "        Vm[i_event, :, :, :] = Vm[i_event-1, :, :, :] * discount[i_event-1]\n",
    "\n",
    "    x_pos = events[i_event, x_index]//sample_space\n",
    "    y_pos = events[i_event, y_index]//sample_space\n",
    "    p = events[i_event, p_index]\n",
    "    \n",
    "    Vm[i_event, x_pos, y_pos, p] = 1.\n",
    "\n",
    "toc()"
   ]
  },
  {
   "cell_type": "code",
   "execution_count": 50,
   "metadata": {},
   "outputs": [
    {
     "data": {
      "text/plain": [
       "array([0.99868753, 0.99922697, 0.99203191, ..., 0.99074972, 0.99275967,\n",
       "       0.98278982])"
      ]
     },
     "execution_count": 50,
     "metadata": {},
     "output_type": "execute_result"
    }
   ],
   "source": [
    "discount"
   ]
  },
  {
   "cell_type": "code",
   "execution_count": 51,
   "metadata": {},
   "outputs": [
    {
     "name": "stdout",
     "output_type": "stream",
     "text": [
      "Done in 0.069 s\n"
     ]
    }
   ],
   "source": [
    "tic()\n",
    "Vm = np.zeros((n_events, n_x//sample_space, n_y//sample_space, n_pol))\n",
    "\n",
    "discount = np.exp(-(events[1:, t_index]-events[:-1, t_index])/tau)\n",
    "\n",
    "for i_event in range(n_events):\n",
    "    if i_event>0:\n",
    "        #print(np.exp(-(events[i_event, t_index]-events[i_event-1, t_index])/tau))\n",
    "        Vm[i_event, :, :, :] = Vm[i_event-1, :, :, :] * discount[i_event-1]\n",
    "\n",
    "    Vm[i_event, events[i_event, x_index]//sample_space, events[i_event, y_index]//sample_space, events[i_event, p_index]] = 1.\n",
    "\n",
    "toc()"
   ]
  },
  {
   "cell_type": "code",
   "execution_count": 52,
   "metadata": {},
   "outputs": [
    {
     "data": {
      "image/png": "[encoded data removed]",
      "text/plain": [
       "<Figure size 1080x216 with 1 Axes>"
      ]
     },
     "metadata": {
      "needs_background": "light"
     },
     "output_type": "display_data"
    }
   ],
   "source": [
    "fig, ax = plt.subplots(figsize=(15, 3))\n",
    "ax.plot(Vm[:, idx, idy, idp])\n",
    "ax.set_xlabel('event #');"
   ]
  },
  {
   "cell_type": "code",
   "execution_count": null,
   "metadata": {},
   "outputs": [],
   "source": []
  },
  {
   "cell_type": "markdown",
   "metadata": {},
   "source": [
    "# dataloader with AERtoVector"
   ]
  },
  {
   "cell_type": "code",
   "execution_count": 53,
   "metadata": {},
   "outputs": [
    {
     "name": "stdout",
     "output_type": "stream",
     "text": [
      "Done in 0.316 s\n"
     ]
    }
   ],
   "source": [
    "tic()\n",
    "pre_dataset = tonic.datasets.NMNIST(save_to='../Data/',\n",
    "                                  train=False, download=download,\n",
    "                                  transform=tonic.transforms.AERtoVector()\n",
    "                                 )\n",
    "toc()"
   ]
  },
  {
   "cell_type": "code",
   "execution_count": 54,
   "metadata": {},
   "outputs": [
    {
     "data": {
      "text/plain": [
       "(array([[0.        , 0.        , 0.        , ..., 0.        , 0.        ,\n",
       "         0.        ],\n",
       "        [0.        , 0.        , 0.        , ..., 0.        , 0.        ,\n",
       "         0.        ],\n",
       "        [0.        , 0.        , 0.        , ..., 0.        , 0.        ,\n",
       "         0.        ],\n",
       "        ...,\n",
       "        [0.        , 0.        , 0.        , ..., 0.29135291, 0.        ,\n",
       "         0.        ],\n",
       "        [0.        , 0.        , 0.        , ..., 0.29094918, 0.        ,\n",
       "         0.        ],\n",
       "        [0.        , 0.        , 0.        , ..., 0.28944596, 0.        ,\n",
       "         0.        ]]),\n",
       " 0)"
      ]
     },
     "execution_count": 54,
     "metadata": {},
     "output_type": "execute_result"
    }
   ],
   "source": [
    "next(iter(pre_dataset))"
   ]
  },
  {
   "cell_type": "code",
   "execution_count": 55,
   "metadata": {},
   "outputs": [
    {
     "name": "stdout",
     "output_type": "stream",
     "text": [
      "Done in 0.139 s\n"
     ]
    }
   ],
   "source": [
    "tic()\n",
    "events, target = next(iter(pre_dataset))\n",
    "toc()"
   ]
  },
  {
   "cell_type": "code",
   "execution_count": 56,
   "metadata": {},
   "outputs": [
    {
     "data": {
      "text/plain": [
       "(5783, 2312)"
      ]
     },
     "execution_count": 56,
     "metadata": {},
     "output_type": "execute_result"
    }
   ],
   "source": [
    "events.shape"
   ]
  },
  {
   "cell_type": "code",
   "execution_count": 57,
   "metadata": {},
   "outputs": [
    {
     "data": {
      "image/png": "[encoded data removed]",
      "text/plain": [
       "<Figure size 1080x216 with 1 Axes>"
      ]
     },
     "metadata": {
      "needs_background": "light"
     },
     "output_type": "display_data"
    }
   ],
   "source": [
    "fig, ax = plt.subplots(figsize=(15, 3))\n",
    "ax.plot(events[:, idx*34 + idy])\n",
    "ax.set_xlabel('event #');"
   ]
  },
  {
   "cell_type": "markdown",
   "metadata": {},
   "source": [
    "# sandbox"
   ]
  },
  {
   "cell_type": "code",
   "execution_count": 58,
   "metadata": {},
   "outputs": [],
   "source": [
    "class ToTo:\n",
    "    sensor_size = (34, 34)\n",
    "    ordering = \"xytp\"    \n",
    "    \n",
    "t = ToTo()"
   ]
  },
  {
   "cell_type": "code",
   "execution_count": 59,
   "metadata": {},
   "outputs": [
    {
     "data": {
      "text/plain": [
       "(34, 34)"
      ]
     },
     "execution_count": 59,
     "metadata": {},
     "output_type": "execute_result"
    }
   ],
   "source": [
    "t.sensor_size"
   ]
  },
  {
   "cell_type": "code",
   "execution_count": null,
   "metadata": {},
   "outputs": [],
   "source": []
  }
 ],
 "metadata": {
  "kernelspec": {
   "display_name": "Python 3",
   "language": "python",
   "name": "python3"
  },
  "language_info": {
   "codemirror_mode": {
    "name": "ipython",
    "version": 3
   },
   "file_extension": ".py",
   "mimetype": "text/x-python",
   "name": "python",
   "nbconvert_exporter": "python",
   "pygments_lexer": "ipython3",
   "version": "3.9.1"
  }
 },
 "nbformat": 4,
 "nbformat_minor": 4
}
