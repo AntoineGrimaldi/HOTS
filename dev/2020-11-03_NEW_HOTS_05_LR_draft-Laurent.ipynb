{
 "cells": [
  {
   "cell_type": "code",
   "execution_count": 1,
   "metadata": {
    "execution": {
     "iopub.execute_input": "2020-11-05T09:51:12.231581Z",
     "iopub.status.busy": "2020-11-05T09:51:12.230448Z",
     "iopub.status.idle": "2020-11-05T09:51:12.488440Z",
     "shell.execute_reply": "2020-11-05T09:51:12.488787Z"
    }
   },
   "outputs": [
    {
     "name": "stdout",
     "output_type": "stream",
     "text": [
      "/home/laurent/quantic/science/HomeHots/HOTS_clone_laurent\n"
     ]
    }
   ],
   "source": [
    "#%load_ext autoreload\n",
    "#%autoreload 2\n",
    "%matplotlib inline\n",
    "%cd '../'"
   ]
  },
  {
   "cell_type": "code",
   "execution_count": 2,
   "metadata": {
    "execution": {
     "iopub.execute_input": "2020-11-05T09:51:12.500998Z",
     "iopub.status.busy": "2020-11-05T09:51:12.499972Z",
     "iopub.status.idle": "2020-11-05T09:51:21.438811Z",
     "shell.execute_reply": "2020-11-05T09:51:21.439629Z"
    }
   },
   "outputs": [
    {
     "name": "stdout",
     "output_type": "stream",
     "text": [
      "[0, 1, 7, 9, 3, 2, 8, 5, 4, 6]\n"
     ]
    }
   ],
   "source": [
    "import numpy as np\n",
    "import matplotlib.pyplot as plt\n",
    "import pickle\n",
    "import os\n",
    "import time\n",
    "\n",
    "from HOTS.ToolsMonitor import GenerateActivationMap, DisplayActivationMap\n",
    "from HOTS.Event import Event, SimpleAlphabet, LoadNMNIST\n",
    "from HOTS.STS import STS\n",
    "from HOTS.Layer import ClusteringLayer\n",
    "from HOTS.ToolsMonitor import (\n",
    "    DisplayImage,\n",
    "    DisplaySurface3D,\n",
    "    DisplaySurface2D,\n",
    "    DisplayConvergence,\n",
    ")\n",
    "from HOTS.Tools import SaveObject, LoadObject\n",
    "from HOTS.Classifier import Classifier\n",
    "from HOTS.Network import Network\n",
    "from HOTS.KmeansLagorce import KmeansLagorce\n",
    "from HOTS.KmeansMaro import KmeansMaro\n",
    "from HOTS.Event import conv2eve\n",
    "\n",
    "tau = 9e-4 # -> tau=1ms, si on prend 10 ms on est à 1s pour la dernière couche et les vidéos font 0.3s en moyenne\n",
    "R = 2\n",
    "filthr = 2\n",
    "nbkNN = 3\n",
    "algo = 'lagorce'\n",
    "decay = 'exponential'\n",
    "hom = True\n",
    "krnlinit = 'rdn'\n",
    "nb_cluster = [4, 8, 16]\n",
    "ImageSize = (34, 34)\n",
    "DataPath = 'Data/testsetnmnist.p'\n",
    "\n",
    "NbClusteringData = 15\n",
    "NbTrainingData = 40\n",
    "NbTestingData = 40\n",
    "_1ofich = True\n",
    "event_tr, event_te, event_cl, label_tr, label_te = LoadNMNIST(\n",
    "NbTrainingData, NbTestingData, NbClusteringData, OneOfEach=_1ofich, Path=DataPath, OutOnePolarity=False, ListPolarities=None, verbose=0)"
   ]
  },
  {
   "cell_type": "code",
   "execution_count": 3,
   "metadata": {
    "execution": {
     "iopub.execute_input": "2020-11-05T09:51:21.446828Z",
     "iopub.status.busy": "2020-11-05T09:51:21.445848Z",
     "iopub.status.idle": "2020-11-05T09:51:21.449718Z",
     "shell.execute_reply": "2020-11-05T09:51:21.450483Z"
    }
   },
   "outputs": [
    {
     "data": {
      "text/plain": [
       "((165679, 2),\n",
       " array([[0.],\n",
       "        [1.],\n",
       "        [7.],\n",
       "        [9.],\n",
       "        [3.],\n",
       "        [2.],\n",
       "        [8.],\n",
       "        [5.],\n",
       "        [4.],\n",
       "        [6.],\n",
       "        [0.],\n",
       "        [0.],\n",
       "        [0.],\n",
       "        [0.],\n",
       "        [0.],\n",
       "        [0.],\n",
       "        [0.],\n",
       "        [0.],\n",
       "        [0.],\n",
       "        [0.],\n",
       "        [0.],\n",
       "        [0.],\n",
       "        [0.],\n",
       "        [0.],\n",
       "        [0.],\n",
       "        [0.],\n",
       "        [0.],\n",
       "        [0.],\n",
       "        [0.],\n",
       "        [0.],\n",
       "        [0.],\n",
       "        [0.],\n",
       "        [0.],\n",
       "        [0.],\n",
       "        [0.],\n",
       "        [0.],\n",
       "        [0.],\n",
       "        [0.],\n",
       "        [0.],\n",
       "        [0.]]))"
      ]
     },
     "execution_count": 1,
     "metadata": {},
     "output_type": "execute_result"
    }
   ],
   "source": [
    "event_tr.address.shape, label_tr"
   ]
  },
  {
   "cell_type": "code",
   "execution_count": 4,
   "metadata": {
    "execution": {
     "iopub.execute_input": "2020-11-05T09:51:21.455590Z",
     "iopub.status.busy": "2020-11-05T09:51:21.454639Z",
     "iopub.status.idle": "2020-11-05T09:51:21.457934Z",
     "shell.execute_reply": "2020-11-05T09:51:21.458650Z"
    }
   },
   "outputs": [
    {
     "data": {
      "text/plain": [
       "(40, 1)"
      ]
     },
     "execution_count": 1,
     "metadata": {},
     "output_type": "execute_result"
    }
   ],
   "source": [
    "label_tr.shape"
   ]
  },
  {
   "cell_type": "code",
   "execution_count": 5,
   "metadata": {
    "execution": {
     "iopub.execute_input": "2020-11-05T09:51:21.464227Z",
     "iopub.status.busy": "2020-11-05T09:51:21.463418Z",
     "iopub.status.idle": "2020-11-05T09:51:21.466566Z",
     "shell.execute_reply": "2020-11-05T09:51:21.467228Z"
    }
   },
   "outputs": [
    {
     "data": {
      "text/plain": [
       "(array([0, 1, 1, ..., 0, 0, 0]), array([0, 1]), array([0, 1]))"
      ]
     },
     "execution_count": 1,
     "metadata": {},
     "output_type": "execute_result"
    }
   ],
   "source": [
    "event_tr.polarity, event_te.ListPolarities, event_cl.ListPolarities"
   ]
  },
  {
   "cell_type": "code",
   "execution_count": 6,
   "metadata": {
    "execution": {
     "iopub.execute_input": "2020-11-05T09:51:21.472495Z",
     "iopub.status.busy": "2020-11-05T09:51:21.471712Z",
     "iopub.status.idle": "2020-11-05T09:51:21.804205Z",
     "shell.execute_reply": "2020-11-05T09:51:21.805028Z"
    }
   },
   "outputs": [],
   "source": [
    "import pickle\n",
    "Path = 'Data/testsetnmnist.p'\n",
    "EVE = pickle.load(open(Path, \"rb\" ))"
   ]
  },
  {
   "cell_type": "code",
   "execution_count": 7,
   "metadata": {
    "execution": {
     "iopub.execute_input": "2020-11-05T09:51:21.809954Z",
     "iopub.status.busy": "2020-11-05T09:51:21.808993Z",
     "iopub.status.idle": "2020-11-05T09:51:21.812298Z",
     "shell.execute_reply": "2020-11-05T09:51:21.813084Z"
    }
   },
   "outputs": [
    {
     "data": {
      "text/plain": [
       "10000"
      ]
     },
     "execution_count": 1,
     "metadata": {},
     "output_type": "execute_result"
    }
   ],
   "source": [
    "len(EVE)"
   ]
  },
  {
   "cell_type": "code",
   "execution_count": 8,
   "metadata": {
    "execution": {
     "iopub.execute_input": "2020-11-05T09:51:21.817939Z",
     "iopub.status.busy": "2020-11-05T09:51:21.816983Z",
     "iopub.status.idle": "2020-11-05T09:51:21.821792Z",
     "shell.execute_reply": "2020-11-05T09:51:21.822558Z"
    }
   },
   "outputs": [
    {
     "name": "stdout",
     "output_type": "stream",
     "text": [
      "1\n"
     ]
    }
   ],
   "source": [
    "for i in range(1500, 1501):\n",
    "    one_list_of_events_for_one_digit = EVE[i]\n",
    "    print(one_list_of_events_for_one_digit.l)"
   ]
  },
  {
   "cell_type": "code",
   "execution_count": 9,
   "metadata": {
    "execution": {
     "iopub.execute_input": "2020-11-05T09:51:21.829932Z",
     "iopub.status.busy": "2020-11-05T09:51:21.829254Z",
     "iopub.status.idle": "2020-11-05T09:51:21.847673Z",
     "shell.execute_reply": "2020-11-05T09:51:21.846876Z"
    }
   },
   "outputs": [
    {
     "name": "stdout",
     "output_type": "stream",
     "text": [
      "Records/EXP_03_NMNIST/20201021_hots_0.9ms_lagorce.pkl\n"
     ]
    }
   ],
   "source": [
    "#timestr = time.strftime(\"%Y%m%d\")\n",
    "hom = False\n",
    "timestr = '20201021'\n",
    "if hom==True:\n",
    "    fname = 'Records/EXP_03_NMNIST/'+timestr+'_hots_'+str(tau*1000)+'ms_'+algo+'_homeo.pkl'\n",
    "else:\n",
    "    fname = 'Records/EXP_03_NMNIST/'+timestr+'_hots_'+str(tau*1000)+'ms_'+algo+'.pkl'\n",
    "print(fname)\n",
    "\n",
    "L1 = ClusteringLayer(tau=tau,R=R,verbose=0,ThrFilter=filthr,LearningAlgo=algo,kernel=decay,homeo=hom,init=krnlinit)\n",
    "L2 = ClusteringLayer(tau=10 * tau,R=2 * R,verbose=0,ThrFilter=filthr,LearningAlgo=algo,kernel=decay,homeo=hom,init=krnlinit)\n",
    "L3 = ClusteringLayer(tau=10 * 10 * tau,R=2 * 2 * R,verbose=0,ThrFilter=filthr,LearningAlgo=algo,kernel=decay,homeo=hom,init=krnlinit)\n",
    "Net = Network([L1, L2, L3])"
   ]
  },
  {
   "cell_type": "code",
   "execution_count": 10,
   "metadata": {
    "execution": {
     "iopub.execute_input": "2020-11-05T09:51:21.854533Z",
     "iopub.status.busy": "2020-11-05T09:51:21.853565Z",
     "iopub.status.idle": "2020-11-05T09:51:22.033338Z",
     "shell.execute_reply": "2020-11-05T09:51:22.034158Z"
    }
   },
   "outputs": [
    {
     "name": "stdout",
     "output_type": "stream",
     "text": [
      "battacha:52.5% ### normalized:42.5% ### euclidian:45.0% ### \n"
     ]
    }
   ],
   "source": [
    "if not os.path.isfile(fname):\n",
    "    ClusterLayer, event_output = Net.TrainCluster(\n",
    "            event=event_cl, NbClusterList=nb_cluster, to_record=True, NbCycle=1\n",
    "        )\n",
    "    SaveObject(ClusterLayer, fname)\n",
    "else: \n",
    "    ClusterLayer, Classif0 = LoadObject(fname)\n",
    "\n",
    "prediction, accuracy, method = Classif0.HistogramDistance(knn=nbkNN, to_print=True)"
   ]
  },
  {
   "cell_type": "code",
   "execution_count": 11,
   "metadata": {
    "execution": {
     "iopub.execute_input": "2020-11-05T09:51:22.039548Z",
     "iopub.status.busy": "2020-11-05T09:51:22.038573Z",
     "iopub.status.idle": "2020-11-05T09:52:17.273022Z",
     "shell.execute_reply": "2020-11-05T09:52:17.273789Z"
    }
   },
   "outputs": [],
   "source": [
    "homrun = False\n",
    "event0_o_tr2 = Net.RunNetwork(event_tr, NbClusterList=ClusterLayer, homrun=homrun)\n",
    "event0_o_te2 = Net.RunNetwork(event_te, NbClusterList=ClusterLayer, homrun=homrun)\n"
   ]
  },
  {
   "cell_type": "code",
   "execution_count": 12,
   "metadata": {
    "execution": {
     "iopub.execute_input": "2020-11-05T09:52:17.279174Z",
     "iopub.status.busy": "2020-11-05T09:52:17.278218Z",
     "iopub.status.idle": "2020-11-05T09:52:17.305372Z",
     "shell.execute_reply": "2020-11-05T09:52:17.306148Z"
    }
   },
   "outputs": [
    {
     "name": "stdout",
     "output_type": "stream",
     "text": [
      "battacha:42.5% ### normalized:42.5% ### euclidian:47.5% ### \n"
     ]
    },
    {
     "data": {
      "text/plain": [
       "array([0.017383, 0.01786 , 0.018139, ..., 0.302028, 0.303374, 0.305669])"
      ]
     },
     "execution_count": 1,
     "metadata": {},
     "output_type": "execute_result"
    }
   ],
   "source": [
    "Classif02 = Classifier(event0_o_tr2, event0_o_te2, TrainingLabel=label_tr, GroundTruth=label_te)\n",
    "prediction2, accuracy2, method2 = Classif02.HistogramDistance(knn=nbkNN, to_print=True)\n",
    "\n",
    "Classif02\n",
    "\n",
    "Classif02.event_train.time"
   ]
  },
  {
   "cell_type": "code",
   "execution_count": null,
   "metadata": {},
   "outputs": [],
   "source": []
  },
  {
   "cell_type": "markdown",
   "metadata": {},
   "source": [
    "### Loading only on digit of each for logistic regression"
   ]
  },
  {
   "cell_type": "code",
   "execution_count": 13,
   "metadata": {
    "execution": {
     "iopub.execute_input": "2020-11-05T09:52:17.311032Z",
     "iopub.status.busy": "2020-11-05T09:52:17.310076Z",
     "iopub.status.idle": "2020-11-05T09:52:17.313341Z",
     "shell.execute_reply": "2020-11-05T09:52:17.314103Z"
    }
   },
   "outputs": [
    {
     "data": {
      "text/plain": [
       "(34, 34)"
      ]
     },
     "execution_count": 1,
     "metadata": {},
     "output_type": "execute_result"
    }
   ],
   "source": [
    "ImageSize"
   ]
  },
  {
   "cell_type": "code",
   "execution_count": 14,
   "metadata": {
    "execution": {
     "iopub.execute_input": "2020-11-05T09:52:17.318850Z",
     "iopub.status.busy": "2020-11-05T09:52:17.317913Z",
     "iopub.status.idle": "2020-11-05T09:52:17.320989Z",
     "shell.execute_reply": "2020-11-05T09:52:17.321699Z"
    }
   },
   "outputs": [
    {
     "data": {
      "text/plain": [
       "40"
      ]
     },
     "execution_count": 1,
     "metadata": {},
     "output_type": "execute_result"
    }
   ],
   "source": [
    "len(event_te.ChangeIdx)"
   ]
  },
  {
   "cell_type": "code",
   "execution_count": 15,
   "metadata": {
    "execution": {
     "iopub.execute_input": "2020-11-05T09:52:17.327196Z",
     "iopub.status.busy": "2020-11-05T09:52:17.326323Z",
     "iopub.status.idle": "2020-11-05T09:52:17.330141Z",
     "shell.execute_reply": "2020-11-05T09:52:17.329472Z"
    }
   },
   "outputs": [
    {
     "data": {
      "text/plain": [
       "((40,),\n",
       " array([  4176,  10580,  14967,  19028,  22487,  27776,  31605,  34991,\n",
       "         39677,  43915,  48852,  52677,  55433,  59249,  62823,  69244,\n",
       "         72420,  76434,  80024,  82288,  87344,  91863,  96823, 102197,\n",
       "        107631, 111138, 114561, 118166, 122930, 126209, 128918, 133766,\n",
       "        137751, 142590, 147584, 152816, 157656, 162824, 167629, 168819]))"
      ]
     },
     "execution_count": 1,
     "metadata": {},
     "output_type": "execute_result"
    }
   ],
   "source": [
    "event0_o_te2.ChangeIdx.shape, event0_o_te2.ChangeIdx"
   ]
  },
  {
   "cell_type": "code",
   "execution_count": 16,
   "metadata": {
    "execution": {
     "iopub.execute_input": "2020-11-05T09:52:17.335910Z",
     "iopub.status.busy": "2020-11-05T09:52:17.334974Z",
     "iopub.status.idle": "2020-11-05T09:52:17.338622Z",
     "shell.execute_reply": "2020-11-05T09:52:17.339412Z"
    }
   },
   "outputs": [
    {
     "data": {
      "text/plain": [
       "(40, 1)"
      ]
     },
     "execution_count": 1,
     "metadata": {},
     "output_type": "execute_result"
    }
   ],
   "source": [
    "label_tr.shape#, label_tr"
   ]
  },
  {
   "cell_type": "code",
   "execution_count": 17,
   "metadata": {
    "execution": {
     "iopub.execute_input": "2020-11-05T09:52:17.345668Z",
     "iopub.status.busy": "2020-11-05T09:52:17.344693Z",
     "iopub.status.idle": "2020-11-05T09:52:17.348241Z",
     "shell.execute_reply": "2020-11-05T09:52:17.349032Z"
    }
   },
   "outputs": [
    {
     "data": {
      "text/plain": [
       "((168820, 2), (168820,), (168820,))"
      ]
     },
     "execution_count": 1,
     "metadata": {},
     "output_type": "execute_result"
    }
   ],
   "source": [
    "event0_o_te2.address.shape, event0_o_te2.polarity.shape, event0_o_te2.time.shape"
   ]
  },
  {
   "cell_type": "code",
   "execution_count": 18,
   "metadata": {
    "execution": {
     "iopub.execute_input": "2020-11-05T09:52:17.355551Z",
     "iopub.status.busy": "2020-11-05T09:52:17.354593Z",
     "iopub.status.idle": "2020-11-05T09:52:17.359048Z",
     "shell.execute_reply": "2020-11-05T09:52:17.359842Z"
    }
   },
   "outputs": [
    {
     "data": {
      "text/plain": [
       "array([  4176,  10580,  14967,  19028,  22487,  27776,  31605,  34991,\n",
       "        39677,  43915,  48852,  52677,  55433,  59249,  62823,  69244,\n",
       "        72420,  76434,  80024,  82288,  87344,  91863,  96823, 102197,\n",
       "       107631, 111138, 114561, 118166, 122930, 126209, 128918, 133766,\n",
       "       137751, 142590, 147584, 152816, 157656, 162824, 167629, 168819])"
      ]
     },
     "execution_count": 1,
     "metadata": {},
     "output_type": "execute_result"
    }
   ],
   "source": [
    "event0_o_te2.ChangeIdx"
   ]
  },
  {
   "cell_type": "code",
   "execution_count": 19,
   "metadata": {
    "execution": {
     "iopub.execute_input": "2020-11-05T09:52:17.366712Z",
     "iopub.status.busy": "2020-11-05T09:52:17.365753Z",
     "iopub.status.idle": "2020-11-05T09:52:17.370345Z",
     "shell.execute_reply": "2020-11-05T09:52:17.369528Z"
    }
   },
   "outputs": [
    {
     "data": {
      "text/plain": [
       "[0, 1, 2, 3, 4, 5, 6, 7, 8, 9, 10, 11, 12, 13, 14, 15]"
      ]
     },
     "execution_count": 1,
     "metadata": {},
     "output_type": "execute_result"
    }
   ],
   "source": [
    "event0_o_te2.ListPolarities"
   ]
  },
  {
   "cell_type": "code",
   "execution_count": 20,
   "metadata": {
    "execution": {
     "iopub.execute_input": "2020-11-05T09:52:17.376533Z",
     "iopub.status.busy": "2020-11-05T09:52:17.375579Z",
     "iopub.status.idle": "2020-11-05T09:52:17.379947Z",
     "shell.execute_reply": "2020-11-05T09:52:17.380767Z"
    }
   },
   "outputs": [
    {
     "data": {
      "text/plain": [
       "<HOTS.Event.Event at 0x7f7f0dac5d30>"
      ]
     },
     "execution_count": 1,
     "metadata": {},
     "output_type": "execute_result"
    }
   ],
   "source": [
    "event0_o_te2"
   ]
  },
  {
   "cell_type": "code",
   "execution_count": 21,
   "metadata": {
    "execution": {
     "iopub.execute_input": "2020-11-05T09:52:17.387570Z",
     "iopub.status.busy": "2020-11-05T09:52:17.386622Z",
     "iopub.status.idle": "2020-11-05T09:52:17.390728Z",
     "shell.execute_reply": "2020-11-05T09:52:17.391524Z"
    }
   },
   "outputs": [
    {
     "data": {
      "text/plain": [
       "array([  4176,  10580,  14967,  19028,  22487,  27776,  31605,  34991,\n",
       "        39677,  43915,  48852,  52677,  55433,  59249,  62823,  69244,\n",
       "        72420,  76434,  80024,  82288,  87344,  91863,  96823, 102197,\n",
       "       107631, 111138, 114561, 118166, 122930, 126209, 128918, 133766,\n",
       "       137751, 142590, 147584, 152816, 157656, 162824, 167629, 168819])"
      ]
     },
     "execution_count": 1,
     "metadata": {},
     "output_type": "execute_result"
    }
   ],
   "source": [
    "event0_o_te2.ChangeIdx"
   ]
  },
  {
   "cell_type": "code",
   "execution_count": 22,
   "metadata": {
    "execution": {
     "iopub.execute_input": "2020-11-05T09:52:17.417646Z",
     "iopub.status.busy": "2020-11-05T09:52:17.415582Z",
     "iopub.status.idle": "2020-11-05T09:52:17.542400Z",
     "shell.execute_reply": "2020-11-05T09:52:17.543177Z"
    }
   },
   "outputs": [
    {
     "data": {
      "text/plain": [
       "[<matplotlib.lines.Line2D at 0x7f7ee2530a00>]"
      ]
     },
     "execution_count": 1,
     "metadata": {},
     "output_type": "execute_result"
    },
    {
     "data": {
      "image/png": "[encoded data removed]",
      "text/plain": [
       "<Figure size 432x288 with 1 Axes>"
      ]
     },
     "metadata": {
      "needs_background": "light"
     },
     "output_type": "display_data"
    }
   ],
   "source": [
    "plt.plot(event0_o_te2.time)"
   ]
  },
  {
   "cell_type": "code",
   "execution_count": 23,
   "metadata": {
    "execution": {
     "iopub.execute_input": "2020-11-05T09:52:17.548204Z",
     "iopub.status.busy": "2020-11-05T09:52:17.546992Z",
     "iopub.status.idle": "2020-11-05T09:52:17.596740Z",
     "shell.execute_reply": "2020-11-05T09:52:17.590767Z"
    }
   },
   "outputs": [
    {
     "name": "stdout",
     "output_type": "stream",
     "text": [
      "0.297421\n",
      "0.308011\n",
      "0.306317\n",
      "0.306262\n",
      "0.30363399999999996\n",
      "0.305942\n",
      "0.307236\n",
      "0.309977\n",
      "0.305852\n",
      "0.30721499999999996\n",
      "0.30400099999999997\n",
      "0.31277099999999997\n",
      "0.309482\n",
      "0.31243299999999996\n",
      "0.299794\n",
      "0.306186\n",
      "0.308857\n",
      "0.30630799999999997\n",
      "0.310449\n",
      "0.308589\n",
      "0.312287\n",
      "0.301809\n",
      "0.302853\n",
      "0.312266\n",
      "0.30807\n",
      "0.304119\n",
      "0.30236199999999996\n",
      "0.30910299999999996\n",
      "0.309027\n",
      "0.30347799999999997\n",
      "0.305818\n",
      "0.311938\n",
      "0.30847199999999997\n",
      "0.30579\n",
      "0.30031399999999997\n",
      "0.310911\n",
      "0.305347\n",
      "0.30479999999999996\n",
      "0.30929999999999996\n",
      "0.3041\n"
     ]
    }
   ],
   "source": [
    "for idx in event0_o_te2.ChangeIdx:\n",
    "    print(event0_o_te2.time[idx])"
   ]
  },
  {
   "cell_type": "markdown",
   "metadata": {},
   "source": [
    "### Building matrix for logistic regression"
   ]
  },
  {
   "cell_type": "code",
   "execution_count": 24,
   "metadata": {
    "execution": {
     "iopub.execute_input": "2020-11-05T09:52:17.633632Z",
     "iopub.status.busy": "2020-11-05T09:52:17.601473Z",
     "iopub.status.idle": "2020-11-05T09:52:17.649300Z",
     "shell.execute_reply": "2020-11-05T09:52:17.648536Z"
    }
   },
   "outputs": [],
   "source": [
    "np.save?"
   ]
  },
  {
   "cell_type": "code",
   "execution_count": 25,
   "metadata": {
    "execution": {
     "iopub.execute_input": "2020-11-05T09:52:17.656824Z",
     "iopub.status.busy": "2020-11-05T09:52:17.655873Z",
     "iopub.status.idle": "2020-11-05T09:52:35.148503Z",
     "shell.execute_reply": "2020-11-05T09:52:35.149335Z"
    }
   },
   "outputs": [
    {
     "name": "stdout",
     "output_type": "stream",
     "text": [
      "Number of events: 44635 - Number of features: 18496\n"
     ]
    },
    {
     "data": {
      "image/png": "[encoded data removed]",
      "text/plain": [
       "<Figure size 432x288 with 1 Axes>"
      ]
     },
     "metadata": {
      "needs_background": "light"
     },
     "output_type": "display_data"
    }
   ],
   "source": [
    "#fname = 'Records/EXP_03_NMNIST/'+timestr+'_hots_vectorzLR.pkl'\n",
    "fname = '/tmp/'+timestr+'_hots_vectorzLR'\n",
    "if not os.path.isfile(fname + '_X.npy'):\n",
    "    data_len = ImageSize[0]*ImageSize[1]*len(event0_o_tr2.ListPolarities)\n",
    "    n_events = event0_o_tr2.time.shape[0]\n",
    "    tau_cla = 1e-2\n",
    "\n",
    "    X = np.zeros((n_events, data_len))\n",
    "    y = np.zeros((n_events,))\n",
    "    data = np.zeros((ImageSize[0], ImageSize[1], len(event0_o_tr2.ListPolarities))) #tmp data\n",
    "\n",
    "    t_old = 0\n",
    "    i_label_tr = 0\n",
    "    for i in range(1, n_events):\n",
    "        if i == event0_o_te2.ChangeIdx[i_label_tr]:\n",
    "            i_label_tr += 1\n",
    "\n",
    "        t_new = event0_o_tr2.time[i]\n",
    "        data *= np.exp(-(t_new-t_old)/tau_cla)\n",
    "        data[event0_o_tr2.address[i, 0], event0_o_tr2.address[i,1], event0_o_tr2.polarity[i]] = 1.\n",
    "\n",
    "        X[i, :] = data.ravel()\n",
    "        y[i] = label_tr[i_label_tr]\n",
    "\n",
    "    plt.imshow(X[:10000]);\n",
    "    print('Number of events: '+str(X.shape[0])+' - Number of features: '+str(X.shape[1]))\n",
    "    #SaveObject([X,y], fname)\n",
    "    np.save(fname + '_X.npy', X)\n",
    "    np.save(fname + '_y.npy', y)\n",
    "    \n",
    "else: \n",
    "    #X,y = LoadObject(fname)\n",
    "    X = np.load(fname + '_X.npy')\n",
    "    y = np.load(fname + '_y.npy')\n",
    "    "
   ]
  },
  {
   "cell_type": "raw",
   "metadata": {},
   "source": [
    "fname = 'Records/EXP_03_NMNIST/'+timestr+'_hots_vectorzLR.pkl'\n",
    "X,y = LoadObject(fname)\n",
    "fname = '/tmp/'+timestr+'_hots_vectorzLR'\n",
    "np.save(fname + '_X.npy', X)\n",
    "np.save(fname + '_y.npy', y)"
   ]
  },
  {
   "cell_type": "code",
   "execution_count": 26,
   "metadata": {
    "execution": {
     "iopub.execute_input": "2020-11-05T09:52:35.154198Z",
     "iopub.status.busy": "2020-11-05T09:52:35.153791Z",
     "iopub.status.idle": "2020-11-05T09:52:35.156454Z",
     "shell.execute_reply": "2020-11-05T09:52:35.156787Z"
    }
   },
   "outputs": [
    {
     "data": {
      "text/plain": [
       "(44635, 18496)"
      ]
     },
     "execution_count": 1,
     "metadata": {},
     "output_type": "execute_result"
    }
   ],
   "source": [
    "X.shape"
   ]
  },
  {
   "cell_type": "markdown",
   "metadata": {},
   "source": [
    "### Performing logistic regression"
   ]
  },
  {
   "cell_type": "code",
   "execution_count": 27,
   "metadata": {
    "execution": {
     "iopub.execute_input": "2020-11-05T09:52:35.159859Z",
     "iopub.status.busy": "2020-11-05T09:52:35.159358Z",
     "iopub.status.idle": "2020-11-05T09:52:35.229473Z",
     "shell.execute_reply": "2020-11-05T09:52:35.230699Z"
    }
   },
   "outputs": [
    {
     "ename": "ModuleNotFoundError",
     "evalue": "No module named 'sklearn'",
     "output_type": "error",
     "traceback": [
      "\u001b[0;31m---------------------------------------------------------------------------\u001b[0m",
      "\u001b[0;31mModuleNotFoundError\u001b[0m                       Traceback (most recent call last)",
      "\u001b[0;32m<ipython-input-1-8d4af015e6c9>\u001b[0m in \u001b[0;36m<module>\u001b[0;34m\u001b[0m\n\u001b[0;32m----> 1\u001b[0;31m \u001b[0;32mfrom\u001b[0m \u001b[0msklearn\u001b[0m\u001b[0;34m.\u001b[0m\u001b[0mlinear_model\u001b[0m \u001b[0;32mimport\u001b[0m \u001b[0mLogisticRegression\u001b[0m \u001b[0;32mas\u001b[0m \u001b[0mLR\u001b[0m\u001b[0;34m\u001b[0m\u001b[0;34m\u001b[0m\u001b[0m\n\u001b[0m\u001b[1;32m      2\u001b[0m \u001b[0mlr\u001b[0m \u001b[0;34m=\u001b[0m \u001b[0mLR\u001b[0m\u001b[0;34m(\u001b[0m\u001b[0mrandom_state\u001b[0m\u001b[0;34m=\u001b[0m\u001b[0;36m0\u001b[0m\u001b[0;34m)\u001b[0m\u001b[0;34m.\u001b[0m\u001b[0mfit\u001b[0m\u001b[0;34m(\u001b[0m\u001b[0mX\u001b[0m\u001b[0;34m,\u001b[0m \u001b[0my\u001b[0m\u001b[0;34m)\u001b[0m\u001b[0;34m\u001b[0m\u001b[0;34m\u001b[0m\u001b[0m\n",
      "\u001b[0;31mModuleNotFoundError\u001b[0m: No module named 'sklearn'"
     ]
    }
   ],
   "source": [
    "from sklearn.linear_model import LogisticRegression as LR\n",
    "lr = LR(random_state=0).fit(X, y)"
   ]
  },
  {
   "cell_type": "code",
   "execution_count": 28,
   "metadata": {
    "execution": {
     "iopub.execute_input": "2020-11-05T09:52:35.234764Z",
     "iopub.status.busy": "2020-11-05T09:52:35.234234Z",
     "iopub.status.idle": "2020-11-05T09:52:35.244847Z",
     "shell.execute_reply": "2020-11-05T09:52:35.245736Z"
    }
   },
   "outputs": [
    {
     "ename": "NameError",
     "evalue": "name 'lr' is not defined",
     "output_type": "error",
     "traceback": [
      "\u001b[0;31m---------------------------------------------------------------------------\u001b[0m",
      "\u001b[0;31mNameError\u001b[0m                                 Traceback (most recent call last)",
      "\u001b[0;32m<ipython-input-1-3843164fd7c8>\u001b[0m in \u001b[0;36m<module>\u001b[0;34m\u001b[0m\n\u001b[0;32m----> 1\u001b[0;31m \u001b[0mlr\u001b[0m\u001b[0;34m.\u001b[0m\u001b[0mscore\u001b[0m\u001b[0;34m(\u001b[0m\u001b[0mX\u001b[0m\u001b[0;34m,\u001b[0m \u001b[0my\u001b[0m\u001b[0;34m)\u001b[0m\u001b[0;34m\u001b[0m\u001b[0;34m\u001b[0m\u001b[0m\n\u001b[0m",
      "\u001b[0;31mNameError\u001b[0m: name 'lr' is not defined"
     ]
    }
   ],
   "source": [
    "lr.score(X, y)"
   ]
  },
  {
   "cell_type": "code",
   "execution_count": 29,
   "metadata": {
    "execution": {
     "iopub.execute_input": "2020-11-05T09:52:35.249696Z",
     "iopub.status.busy": "2020-11-05T09:52:35.248922Z",
     "iopub.status.idle": "2020-11-05T09:52:35.259527Z",
     "shell.execute_reply": "2020-11-05T09:52:35.260308Z"
    }
   },
   "outputs": [
    {
     "ename": "NameError",
     "evalue": "name 'lr' is not defined",
     "output_type": "error",
     "traceback": [
      "\u001b[0;31m---------------------------------------------------------------------------\u001b[0m",
      "\u001b[0;31mNameError\u001b[0m                                 Traceback (most recent call last)",
      "\u001b[0;32m<ipython-input-1-27b090836261>\u001b[0m in \u001b[0;36m<module>\u001b[0;34m\u001b[0m\n\u001b[0;32m----> 1\u001b[0;31m \u001b[0mP_pred\u001b[0m \u001b[0;34m=\u001b[0m \u001b[0mlr\u001b[0m\u001b[0;34m.\u001b[0m\u001b[0mpredict_proba\u001b[0m\u001b[0;34m(\u001b[0m\u001b[0mX\u001b[0m\u001b[0;34m)\u001b[0m\u001b[0;34m\u001b[0m\u001b[0;34m\u001b[0m\u001b[0m\n\u001b[0m\u001b[1;32m      2\u001b[0m \u001b[0mP_pred\u001b[0m\u001b[0;34m.\u001b[0m\u001b[0mshape\u001b[0m\u001b[0;34m\u001b[0m\u001b[0;34m\u001b[0m\u001b[0m\n",
      "\u001b[0;31mNameError\u001b[0m: name 'lr' is not defined"
     ]
    }
   ],
   "source": [
    "P_pred = lr.predict_proba(X)\n",
    "P_pred.shape"
   ]
  },
  {
   "cell_type": "code",
   "execution_count": 30,
   "metadata": {
    "execution": {
     "iopub.execute_input": "2020-11-05T09:52:35.265040Z",
     "iopub.status.busy": "2020-11-05T09:52:35.264050Z",
     "iopub.status.idle": "2020-11-05T09:52:35.270791Z",
     "shell.execute_reply": "2020-11-05T09:52:35.271616Z"
    }
   },
   "outputs": [
    {
     "ename": "NameError",
     "evalue": "name 'P_pred' is not defined",
     "output_type": "error",
     "traceback": [
      "\u001b[0;31m---------------------------------------------------------------------------\u001b[0m",
      "\u001b[0;31mNameError\u001b[0m                                 Traceback (most recent call last)",
      "\u001b[0;32m<ipython-input-1-1254d6795810>\u001b[0m in \u001b[0;36m<module>\u001b[0;34m\u001b[0m\n\u001b[0;32m----> 1\u001b[0;31m \u001b[0mplt\u001b[0m\u001b[0;34m.\u001b[0m\u001b[0mplot\u001b[0m\u001b[0;34m(\u001b[0m\u001b[0mnp\u001b[0m\u001b[0;34m.\u001b[0m\u001b[0mmax\u001b[0m\u001b[0;34m(\u001b[0m\u001b[0mP_pred\u001b[0m\u001b[0;34m,\u001b[0m \u001b[0maxis\u001b[0m\u001b[0;34m=\u001b[0m\u001b[0;36m1\u001b[0m\u001b[0;34m)\u001b[0m\u001b[0;34m)\u001b[0m\u001b[0;34m\u001b[0m\u001b[0;34m\u001b[0m\u001b[0m\n\u001b[0m",
      "\u001b[0;31mNameError\u001b[0m: name 'P_pred' is not defined"
     ]
    }
   ],
   "source": [
    "plt.plot(np.max(P_pred, axis=1))"
   ]
  },
  {
   "cell_type": "code",
   "execution_count": null,
   "metadata": {},
   "outputs": [],
   "source": []
  }
 ],
 "metadata": {
  "kernelspec": {
   "display_name": "Python 3",
   "language": "python",
   "name": "python3"
  },
  "language_info": {
   "codemirror_mode": {
    "name": "ipython",
    "version": 3
   },
   "file_extension": ".py",
   "mimetype": "text/x-python",
   "name": "python",
   "nbconvert_exporter": "python",
   "pygments_lexer": "ipython3",
   "version": "3.9.0"
  }
 },
 "nbformat": 4,
 "nbformat_minor": 4
}
