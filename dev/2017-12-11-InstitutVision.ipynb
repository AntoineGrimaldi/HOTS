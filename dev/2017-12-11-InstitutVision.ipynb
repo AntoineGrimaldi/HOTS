{
 "cells": [
  {
   "cell_type": "code",
   "execution_count": 1,
   "metadata": {
    "collapsed": false,
    "jupyter": {
     "outputs_hidden": false
    }
   },
   "outputs": [],
   "source": [
    "%load_ext autoreload\n",
    "%autoreload 2\n",
    "%matplotlib inline"
   ]
  },
  {
   "cell_type": "code",
   "execution_count": 2,
   "metadata": {},
   "outputs": [],
   "source": [
    "import numpy as np\n",
    "import matplotlib.pyplot as plt\n",
    "import cv2"
   ]
  },
  {
   "cell_type": "code",
   "execution_count": 3,
   "metadata": {},
   "outputs": [],
   "source": [
    "from HOTS.Event import Event, SimpleAlphabet\n",
    "from HOTS.STS import STS2\n",
    "from HOTS.Layer import FilterNHBD\n",
    "from HOTS.Monitor import DisplaySurface3D, DisplaySurface2D, DisplayImage"
   ]
  },
  {
   "cell_type": "code",
   "execution_count": 4,
   "metadata": {
    "collapsed": false,
    "jupyter": {
     "outputs_hidden": false
    }
   },
   "outputs": [
    {
     "name": "stdout",
     "output_type": "stream",
     "text": [
      "(8224, 2)\n"
     ]
    },
    {
     "data": {
      "image/png": "[encoded data removed]",
      "text/plain": [
       "<Figure size 864x108 with 2 Axes>"
      ]
     },
     "metadata": {
      "needs_background": "light"
     },
     "output_type": "display_data"
    }
   ],
   "source": [
    "image_list = [1]#, 32, 19, 22, 29]\n",
    "event0 = Event(ImageSize=(32,32),OutOnePolarity=False)\n",
    "\n",
    "event0.LoadFromMat('../Data/ExtractedStabilized.mat',image_number=image_list)\n",
    "InputFilter = FilterNHBD(threshold=15,neighbourhood=2)\n",
    "event1 = InputFilter.RunLayer(event0)\n",
    "\n",
    "\n",
    "DisplayImage([event0,event1])\n",
    "print(event1.address.shape)"
   ]
  },
  {
   "cell_type": "code",
   "execution_count": 5,
   "metadata": {
    "collapsed": false,
    "jupyter": {
     "outputs_hidden": false
    }
   },
   "outputs": [],
   "source": [
    "target_event = 8222"
   ]
  },
  {
   "cell_type": "code",
   "execution_count": 6,
   "metadata": {
    "collapsed": false,
    "jupyter": {
     "outputs_hidden": false
    }
   },
   "outputs": [
    {
     "name": "stdout",
     "output_type": "stream",
     "text": [
      "Generation of SpatioTemporal Surface in ------ 0.65 s\n"
     ]
    }
   ],
   "source": [
    "SpTe= STS2(tau=0.02, R=2,verbose=1,initial_time=0)\n",
    "Surface = SpTe.create(event = event1, stop = target_event)"
   ]
  },
  {
   "cell_type": "code",
   "execution_count": 7,
   "metadata": {
    "collapsed": false,
    "jupyter": {
     "outputs_hidden": false
    }
   },
   "outputs": [],
   "source": [
    "w = SpTe.R + 1\n",
    "x,y = event0.address[target_event, 0],event1.address[target_event, 1]\n",
    "(x0, y0) = (x + SpTe.R - w, y + SpTe.R - w)\n",
    "(x1, y1) = (x + SpTe.R + w, y + SpTe.R + w)"
   ]
  },
  {
   "cell_type": "code",
   "execution_count": 8,
   "metadata": {
    "collapsed": false,
    "jupyter": {
     "outputs_hidden": false
    }
   },
   "outputs": [
    {
     "data": {
      "image/png": "[encoded data removed]",
      "text/plain": [
       "<Figure size 864x288 with 3 Axes>"
      ]
     },
     "metadata": {
      "needs_background": "light"
     },
     "output_type": "display_data"
    }
   ],
   "source": [
    "fig, axs = plt.subplots(1, 3, figsize=(3 * 4, 1 * 4))\n",
    "image = np.zeros((SpTe.width, SpTe.height))\n",
    "image[event0.address[0:target_event+1, 0].T + SpTe.R, \n",
    "      event0.address[0:target_event+1, 1].T + SpTe.R] = event0.polarity[0:target_event+1].T\n",
    "image1 = image.copy()\n",
    "cv2.rectangle(image1, (y0, x0), (y1, x1),\n",
    "              color=np.amax(image)+0.6)\n",
    "#axs[0].axis('off')\n",
    "axs[0].imshow(image1,cmap = plt.gray(),interpolation='nearest')\n",
    "\n",
    "ImageTimeMat1 = SpTe.ListOfTimeMatrix[0, :, :].copy()\n",
    "cv2.rectangle(ImageTimeMat1, (y0, x0), (y1, x1),\n",
    "              color=np.amax(ImageTimeMat1) + 0.001)\n",
    "#axs[1].axis('off')\n",
    "axs[1].imshow(ImageTimeMat1, cmap=plt.viridis(),interpolation='nearest')\n",
    "\n",
    "ImageTimeMat2 = SpTe.ListOfTimeMatrix[1, :, :].copy()\n",
    "cv2.rectangle(ImageTimeMat2, (y0, x0), (y1, x1),\n",
    "              color=np.amax(ImageTimeMat2) + 0.001)\n",
    "#axs[2].axis('off')\n",
    "axs[2].imshow(ImageTimeMat2, cmap=plt.plasma(),interpolation='nearest');"
   ]
  },
  {
   "cell_type": "code",
   "execution_count": 9,
   "metadata": {
    "collapsed": false,
    "jupyter": {
     "outputs_hidden": false
    }
   },
   "outputs": [
    {
     "data": {
      "text/plain": [
       "<matplotlib.image.AxesImage at 0x11bf21b90>"
      ]
     },
     "execution_count": 9,
     "metadata": {},
     "output_type": "execute_result"
    },
    {
     "data": {
      "image/png": "[encoded data removed]",
      "text/plain": [
       "<Figure size 864x288 with 2 Axes>"
      ]
     },
     "metadata": {
      "needs_background": "light"
     },
     "output_type": "display_data"
    }
   ],
   "source": [
    "ig, axs = plt.subplots(1, 2, figsize=(3 * 4, 1 * 4))\n",
    "x_t, y_t = x + SpTe.R, y + SpTe.R\n",
    "to_plot = SpTe.ListOfTimeMatrix[ : , (x_t-SpTe.R):(x_t+SpTe.R+1),(y_t-SpTe.R):(y_t+SpTe.R+1)]\n",
    "axs[0].imshow(to_plot[0,:,:], cmap=plt.gray(),interpolation = \"nearest\")\n",
    "axs[1].imshow(to_plot[1,:,:], cmap=plt.gray(),interpolation = \"nearest\")"
   ]
  },
  {
   "cell_type": "code",
   "execution_count": 10,
   "metadata": {
    "collapsed": false,
    "jupyter": {
     "outputs_hidden": false
    }
   },
   "outputs": [
    {
     "name": "stdout",
     "output_type": "stream",
     "text": [
      "[[0.06765  0.100687 0.108501 0.113564 0.11355 ]\n",
      " [0.075522 0.099336 0.11104  0.113847 0.113514]\n",
      " [0.064904 0.103342 0.109508 0.114404 0.113233]\n",
      " [0.       0.103269 0.111903 0.113833 0.113247]\n",
      " [0.       0.095289 0.108057 0.11336  0.      ]]\n",
      "82\n",
      "[1361, 1596, 1650, 1658, 1755, 1993, 2079, 2163, 2207, 2229, 2331, 2396, 2508, 2573, 2580, 2647, 2664, 2766, 2806, 2811, 2824, 2847, 2909, 2928, 2939, 3015, 3016, 3018, 3100, 3102, 3106, 3195, 3201, 3278, 3279, 3391, 3399, 3475, 3565, 3568, 3587, 3594, 3657, 3788, 3883, 3892, 4118, 4128, 4157, 4225, 4229, 4365, 4749, 4870, 5004, 5123, 5277, 5479, 5486, 5509, 5531, 5748, 5754, 6015, 6031, 6050, 6142, 6297, 6398, 6408, 7010, 7083, 7273, 7354, 7494, 7515, 7665, 7771, 7790, 7949, 8033, 8217]\n"
     ]
    }
   ],
   "source": [
    "print(to_plot[1,:,:])\n",
    "#print(SpTe.timedistance)\n",
    "print(SpTe.valid)\n",
    "print(SpTe.list_valid)"
   ]
  },
  {
   "cell_type": "code",
   "execution_count": 11,
   "metadata": {
    "collapsed": false,
    "jupyter": {
     "outputs_hidden": false
    }
   },
   "outputs": [
    {
     "data": {
      "image/png": "[encoded data removed]",
      "text/plain": [
       "<Figure size 864x288 with 3 Axes>"
      ]
     },
     "metadata": {
      "needs_background": "light"
     },
     "output_type": "display_data"
    }
   ],
   "source": [
    "ig, axs = plt.subplots(1, 3, figsize=(3 * 4, 1 * 4))\n",
    "x_t, y_t = x + SpTe.R, y + SpTe.R\n",
    "\n",
    "image_local = image[(x_t-SpTe.R):(x_t+SpTe.R+1), (y_t-SpTe.R):(y_t+SpTe.R+1)]\n",
    "axs[0].imshow(image_local, cmap=plt.gray(), interpolation = \"nearest\")\n",
    "axs[1].imshow(SpTe.LocalTimeDiff[0, :, :], cmap=plt.gray(),interpolation = \"nearest\")\n",
    "axs[2].imshow(SpTe.LocalTimeDiff[1, :, :], cmap=plt.gray(), interpolation = \"nearest\");"
   ]
  },
  {
   "cell_type": "code",
   "execution_count": 12,
   "metadata": {
    "collapsed": false,
    "jupyter": {
     "outputs_hidden": false
    }
   },
   "outputs": [
    {
     "name": "stdout",
     "output_type": "stream",
     "text": [
      "(8223, 50)\n"
     ]
    },
    {
     "data": {
      "text/plain": [
       "<matplotlib.image.AxesImage at 0x11c3f9690>"
      ]
     },
     "execution_count": 12,
     "metadata": {},
     "output_type": "execute_result"
    },
    {
     "data": {
      "image/png": "[encoded data removed]",
      "text/plain": [
       "<Figure size 864x288 with 2 Axes>"
      ]
     },
     "metadata": {
      "needs_background": "light"
     },
     "output_type": "display_data"
    }
   ],
   "source": [
    "print(SpTe.Surface.shape)\n",
    "ig, axs = plt.subplots(1, 2, figsize=(3 * 4, 1 * 4))\n",
    "x_t, y_t = x + SpTe.R, y + SpTe.R\n",
    "to_plot = SpTe.Surface[SpTe.list_valid[50],:].reshape((2,5,5))\n",
    "                                                     \n",
    "axs[0].imshow(to_plot[0], cmap=plt.gray(), interpolation = \"nearest\")\n",
    "axs[1].imshow(to_plot[1], cmap=plt.gray(), interpolation = \"nearest\")\n",
    "#axs[1].imshow(SpTe.LocalTimeDiff[0, :, :], cmap=plt.gray(),interpolation = \"nearest\")\n",
    "#axs[2].imshow(SpTe.LocalTimeDiff[1, :, :], cmap=plt.gray(), interpolation = \"nearest\");"
   ]
  },
  {
   "cell_type": "code",
   "execution_count": 13,
   "metadata": {
    "collapsed": false,
    "jupyter": {
     "outputs_hidden": false
    }
   },
   "outputs": [
    {
     "name": "stdout",
     "output_type": "stream",
     "text": [
      "5.0\n",
      "17.0\n"
     ]
    },
    {
     "data": {
      "text/plain": [
       "<matplotlib.image.AxesImage at 0x11e950ed0>"
      ]
     },
     "execution_count": 13,
     "metadata": {},
     "output_type": "execute_result"
    },
    {
     "data": {
      "image/png": "[encoded data removed]",
      "text/plain": [
       "<Figure size 864x288 with 2 Axes>"
      ]
     },
     "metadata": {
      "needs_background": "light"
     },
     "output_type": "display_data"
    }
   ],
   "source": [
    "ig, axs = plt.subplots(1, 2, figsize=(3 * 4, 1 * 4))\n",
    "print(np.sum(SpTe.LocalBinaryMask[0, :, :]))\n",
    "print(np.sum(SpTe.LocalBinaryMask[1, :, :]))\n",
    "axs[0].imshow(SpTe.LocalBinaryMask[0, :, :], cmap=plt.gray(), interpolation = \"nearest\")\n",
    "axs[1].imshow(SpTe.LocalBinaryMask[1, :, :], cmap=plt.gray(), interpolation = \"nearest\")"
   ]
  },
  {
   "cell_type": "code",
   "execution_count": 16,
   "metadata": {
    "collapsed": false,
    "jupyter": {
     "outputs_hidden": false
    }
   },
   "outputs": [
    {
     "name": "stdout",
     "output_type": "stream",
     "text": [
      "25\n"
     ]
    }
   ],
   "source": [
    "print(SpTe.area)"
   ]
  },
  {
   "cell_type": "code",
   "execution_count": 17,
   "metadata": {
    "collapsed": false,
    "jupyter": {
     "outputs_hidden": false
    }
   },
   "outputs": [
    {
     "name": "stdout",
     "output_type": "stream",
     "text": [
      "0.04422904\n"
     ]
    }
   ],
   "source": [
    "test = SpTe.LocalTimeDiff[1, :, :]\n",
    "print(np.mean(test))"
   ]
  },
  {
   "cell_type": "code",
   "execution_count": 18,
   "metadata": {
    "collapsed": false,
    "jupyter": {
     "outputs_hidden": false
    }
   },
   "outputs": [
    {
     "name": "stdout",
     "output_type": "stream",
     "text": [
      "[[15 16 17 18 19]\n",
      " [20 21 22 23 24]\n",
      " [25 26 27 28 29]\n",
      " [30 31 32 33 34]\n",
      " [35 36 37 38 39]]\n"
     ]
    }
   ],
   "source": [
    "test = np.arange(25).reshape(5,5)\n",
    "test += 15\n",
    "print(test)\n"
   ]
  },
  {
   "cell_type": "code",
   "execution_count": 19,
   "metadata": {
    "collapsed": false,
    "jupyter": {
     "outputs_hidden": false
    }
   },
   "outputs": [
    {
     "data": {
      "text/plain": [
       "True"
      ]
     },
     "execution_count": 19,
     "metadata": {},
     "output_type": "execute_result"
    }
   ],
   "source": [
    "(test < 16).any()"
   ]
  },
  {
   "cell_type": "code",
   "execution_count": null,
   "metadata": {},
   "outputs": [],
   "source": []
  }
 ],
 "metadata": {
  "kernelspec": {
   "display_name": "Python 3",
   "language": "python",
   "name": "python3"
  },
  "language_info": {
   "codemirror_mode": {
    "name": "ipython",
    "version": 3
   },
   "file_extension": ".py",
   "mimetype": "text/x-python",
   "name": "python",
   "nbconvert_exporter": "python",
   "pygments_lexer": "ipython3",
   "version": "3.7.7"
  }
 },
 "nbformat": 4,
 "nbformat_minor": 4
}
