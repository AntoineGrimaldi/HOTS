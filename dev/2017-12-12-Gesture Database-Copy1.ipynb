{
 "cells": [
  {
   "cell_type": "code",
   "execution_count": 1,
   "metadata": {
    "collapsed": false
   },
   "outputs": [],
   "source": [
    "%load_ext autoreload\n",
    "%autoreload 2\n",
    "%matplotlib inline"
   ]
  },
  {
   "cell_type": "code",
   "execution_count": 2,
   "metadata": {
    "collapsed": false
   },
   "outputs": [],
   "source": [
    "import numpy as np\n",
    "import matplotlib.pyplot as plt\n",
    "\n",
    "\n",
    "from HOTS.Monitor import GenerateAM, DisplayAM\n",
    "from HOTS.Event import Event, SimpleAlphabet, LoadGestureDB\n",
    "from HOTS.STS import STS\n",
    "from HOTS.Layer import ClusteringLayer, FilterNHBD\n",
    "from HOTS.Monitor import DisplayImage, DisplaySurface3D, DisplaySurface2D, DisplayConvergence\n",
    "from HOTS.Tools import SaveObject, LoadObject\n",
    "from HOTS.Classifier import Classifier\n",
    "from HOTS.Network import Network\n",
    "from HOTS.KmeansHomeoCluster import KmeansHomeo\n",
    "from HOTS.KmeansCluster2 import KmeansMaro2"
   ]
  },
  {
   "cell_type": "code",
   "execution_count": 3,
   "metadata": {
    "collapsed": true
   },
   "outputs": [],
   "source": [
    "tau = 0.02\n",
    "R = 2\n",
    "nb_cluster = [4,8,16]\n",
    "eta_list = [1e-5,1e-5,1e-5] \n",
    "eta_homeo_list = [1e-3,1e-3,1e-3]\n",
    "C_list = [6,18,40] \n",
    "ImageSize = (32,32)\n",
    "DataPath = '../Data/ExtractedStabilized.mat'\n",
    "LabelPath = '../Data/alphabet_label.pkl'"
   ]
  },
  {
   "cell_type": "code",
   "execution_count": 4,
   "metadata": {
    "collapsed": false
   },
   "outputs": [],
   "source": [
    "image_list = [1, 32, 19, 22, 29]\n",
    "event0 = Event(ImageSize=(32,32),OutOnePolarity=False)\n",
    "\n",
    "event0.LoadFromMat('../Data/ExtractedStabilized.mat',image_number=image_list)"
   ]
  },
  {
   "cell_type": "code",
   "execution_count": 5,
   "metadata": {
    "collapsed": true
   },
   "outputs": [],
   "source": [
    "SpTe_Layer1= STS(tau=tau, R=R,verbose=0)\n",
    "Surface_Layer1 = SpTe_Layer1.create(event = event0,kernel='linear')"
   ]
  },
  {
   "cell_type": "code",
   "execution_count": 6,
   "metadata": {
    "collapsed": false
   },
   "outputs": [
    {
     "name": "stdout",
     "output_type": "stream",
     "text": [
      "(74457, 50)\n"
     ]
    }
   ],
   "source": [
    "print(Surface_Layer1.shape)"
   ]
  },
  {
   "cell_type": "code",
   "execution_count": 7,
   "metadata": {
    "collapsed": false
   },
   "outputs": [
    {
     "name": "stdout",
     "output_type": "stream",
     "text": [
      "(74457, 2)\n",
      "(74457,)\n",
      "(74457,)\n",
      "<class 'numpy.ndarray'>\n"
     ]
    }
   ],
   "source": [
    "print(event0.address.shape)\n",
    "print(event0.polarity.shape)\n",
    "print(event0.time.shape)\n",
    "print(type(event0.ListPolarities))"
   ]
  },
  {
   "cell_type": "code",
   "execution_count": 8,
   "metadata": {
    "collapsed": true
   },
   "outputs": [],
   "source": [
    "import HOTS.libUnpackAtis as ua\n",
    "import HOTS.libDataHelper as dh"
   ]
  },
  {
   "cell_type": "code",
   "execution_count": 9,
   "metadata": {
    "collapsed": false
   },
   "outputs": [
    {
     "name": "stdout",
     "output_type": "stream",
     "text": [
      "------ Loaded settings ------\n",
      "Enable viewer: True (Port: 3330, update 8)\n",
      " \n",
      "Number of polarities of the input: 1\n",
      "Number of dimensions and sizes: 2, [304 240]\n",
      "Number of layers: 1\n",
      "> 8, 10000.0, 2\n",
      "Number of fixed layers: 0\n",
      " \n",
      "Data file: none\n",
      "DB file: /Users/boutin.v/Documents/DataBase/GEST/testoids_1.db\n",
      "DB path: /Users/boutin.v/Documents/DataBase/GEST/complete_chris_db/\n",
      "Workdir path: \n",
      "Save id: \n",
      "------ End of settings ------\n",
      " \n",
      "840 files in the DB.\n"
     ]
    }
   ],
   "source": [
    "settingsFile = \"/Users/boutin.v/Documents/DataBase/GEST/newlayer_digit.hotsnetwork\"\n",
    "specs = dh.superLoadHOTSNetworkSettingsFromFile(settingsFile, True)\n",
    "dbspecs = dh.superReadDB(specs.db_file, specs.db_path)"
   ]
  },
  {
   "cell_type": "code",
   "execution_count": 10,
   "metadata": {
    "collapsed": false
   },
   "outputs": [
    {
     "name": "stdout",
     "output_type": "stream",
     "text": [
      "file 1/780\n"
     ]
    }
   ],
   "source": [
    "nb_of_file = 2\n",
    "n_learn = np.sum(np.array(dbspecs.dblabels) == 1)\n",
    "for idf, dblabel in enumerate(dbspecs.dblabels):\n",
    "    if idf % 10 == 0:\n",
    "        print('file {0}/{1}'.format(idf+1, n_learn))\n",
    "    filepath = dbspecs.path + dbspecs.filenames[idf]\n",
    "    event = LoadGestureDB(filepath)\n",
    "    if idf == nb_of_file:\n",
    "        break"
   ]
  },
  {
   "cell_type": "code",
   "execution_count": 11,
   "metadata": {
    "collapsed": false
   },
   "outputs": [
    {
     "name": "stdout",
     "output_type": "stream",
     "text": [
      "(42921, 2)\n"
     ]
    },
    {
     "data": {
      "text/plain": [
       "<matplotlib.image.AxesImage at 0x108e4bd68>"
      ]
     },
     "execution_count": 11,
     "metadata": {},
     "output_type": "execute_result"
    },
    {
     "data": {
      "image/png": "[encoded data removed]",
      "text/plain": [
       "<matplotlib.figure.Figure at 0x108df16a0>"
      ]
     },
     "metadata": {},
     "output_type": "display_data"
    }
   ],
   "source": [
    "image = np.zeros((308,240))-1\n",
    "target0 = 0\n",
    "target = 60000\n",
    "print(event.address.shape)\n",
    "image[event.address[target0:target,0],event.address[target0:target,1]] \\\n",
    "    = event.polarity[target0:target]\n",
    "plt.imshow(image)"
   ]
  },
  {
   "cell_type": "code",
   "execution_count": 12,
   "metadata": {
    "collapsed": true
   },
   "outputs": [],
   "source": [
    "nb_dico = 14\n",
    "R = 2\n",
    "SpTe_Layer1 = STS(tau=0.03, R=R, verbose=0,initial_time=1)\n",
    "#ClusterLayer1 = KmeansMaro2(4, to_record=True, verbose=0,eta=1)"
   ]
  },
  {
   "cell_type": "code",
   "execution_count": 13,
   "metadata": {
    "collapsed": false,
    "scrolled": false
   },
   "outputs": [
    {
     "name": "stdout",
     "output_type": "stream",
     "text": [
      "file 1/780\n",
      "file 11/780\n",
      "file 21/780\n",
      "file 31/780\n",
      "file 41/780\n",
      "file 51/780\n",
      "file 61/780\n",
      "file 71/780\n",
      "file 81/780\n",
      "file 91/780\n",
      "file 101/780\n"
     ]
    }
   ],
   "source": [
    "res_list=list()\n",
    "coeff_list = list()\n",
    "#eta = 0.1\n",
    "nb_of_file = 100\n",
    "n_learn = np.sum(np.array(dbspecs.dblabels) == 1)\n",
    "Prototype1 = np.random.rand(nb_dico,25)\n",
    "nb_proto = np.zeros(nb_dico)\n",
    "for idf, dblabel in enumerate(dbspecs.dblabels):\n",
    "    if idf % 10 == 0:\n",
    "        print('file {0}/{1}'.format(idf+1, n_learn))\n",
    "    \n",
    "    filepath = dbspecs.path + dbspecs.filenames[idf]\n",
    "    event = LoadGestureDB(filepath, OutOnePolarity=True)\n",
    "    Surface_Layer1 = SpTe_Layer1.create(event = event,kernel='linear')\n",
    "    filt = np.sum(Surface_Layer1, axis = 1) > 2*R\n",
    "    Surface_Layer2 = Surface_Layer1[filt,:] \n",
    "    \n",
    "    res = np.zeros((Surface_Layer2.shape[0]))\n",
    "    for idx, Si in enumerate(Surface_Layer2):\n",
    "        Distance_to_proto = np.linalg.norm(Si - Prototype1,ord=2,axis=1)\n",
    "        closest_proto_idx = np.argmin(Distance_to_proto)\n",
    "        Ck = Prototype1[closest_proto_idx,:].copy()\n",
    "        pk = nb_proto[closest_proto_idx]\n",
    "        alpha = 1/(1+pk)\n",
    "        beta = np.dot(Ck, Si)/(np.sqrt(np.dot(Si, Si))*np.sqrt(np.dot(Ck, Ck)))\n",
    "        #Ck_t = Ck + eta*alpha*beta*(Si-Ck)\n",
    "        Ck_t = Ck + alpha*beta*(Si-Ck)\n",
    "        res[idx] = np.linalg.norm(Si-Ck_t,ord=2)\n",
    "        \n",
    "        #Ck_t = Ck + self.eta*beta*(Si-Ck)\n",
    "\n",
    "        nb_proto[closest_proto_idx] += 1\n",
    "        Prototype1[closest_proto_idx, :] = Ck_t\n",
    "        coeff_list.append(alpha*beta)\n",
    "        #if idx%10000==0:\n",
    "        #    print(alpha)\n",
    "        #Prototype1 /= np.linalg.norm(Prototype1,ord=2,axis=1)[:,None]\n",
    "    res_list.append(np.mean(res))\n",
    "\n",
    "    \n",
    "    if idf == nb_of_file:\n",
    "        break\n",
    "    \n",
    "#filepath = \n",
    "#ts, c, p, removed_events = ua.readATIS_td(filepath, orig_at_zero = True, drop_negative_dt = True, verbose = False)"
   ]
  },
  {
   "cell_type": "code",
   "execution_count": 14,
   "metadata": {
    "collapsed": false
   },
   "outputs": [
    {
     "ename": "ValueError",
     "evalue": "cannot reshape array of size 25 into shape (2,25)",
     "output_type": "error",
     "traceback": [
      "\u001b[0;31m---------------------------------------------------------------------------\u001b[0m",
      "\u001b[0;31mValueError\u001b[0m                                Traceback (most recent call last)",
      "\u001b[0;32m<ipython-input-14-9cdedbd327f1>\u001b[0m in \u001b[0;36m<module>\u001b[0;34m()\u001b[0m\n\u001b[0;32m----> 1\u001b[0;31m \u001b[0ma\u001b[0m \u001b[0;34m=\u001b[0m \u001b[0mSurface_Layer2\u001b[0m\u001b[0;34m[\u001b[0m\u001b[0;36m243\u001b[0m\u001b[0;34m,\u001b[0m\u001b[0;34m:\u001b[0m\u001b[0;34m]\u001b[0m\u001b[0;34m.\u001b[0m\u001b[0mreshape\u001b[0m\u001b[0;34m(\u001b[0m\u001b[0;36m2\u001b[0m\u001b[0;34m,\u001b[0m\u001b[0;36m25\u001b[0m\u001b[0;34m)\u001b[0m\u001b[0;34m\u001b[0m\u001b[0m\n\u001b[0m\u001b[1;32m      2\u001b[0m \u001b[0mplt\u001b[0m\u001b[0;34m.\u001b[0m\u001b[0mimshow\u001b[0m\u001b[0;34m(\u001b[0m\u001b[0ma\u001b[0m\u001b[0;34m[\u001b[0m\u001b[0;36m0\u001b[0m\u001b[0;34m,\u001b[0m\u001b[0;34m:\u001b[0m\u001b[0;34m]\u001b[0m\u001b[0;34m.\u001b[0m\u001b[0mreshape\u001b[0m\u001b[0;34m(\u001b[0m\u001b[0;36m5\u001b[0m\u001b[0;34m,\u001b[0m\u001b[0;36m5\u001b[0m\u001b[0;34m)\u001b[0m\u001b[0;34m,\u001b[0m\u001b[0mcmap\u001b[0m\u001b[0;34m=\u001b[0m\u001b[0;34m'gray'\u001b[0m\u001b[0;34m)\u001b[0m\u001b[0;34m\u001b[0m\u001b[0m\n\u001b[1;32m      3\u001b[0m \u001b[0mprint\u001b[0m\u001b[0;34m(\u001b[0m\u001b[0ma\u001b[0m\u001b[0;34m[\u001b[0m\u001b[0;36m0\u001b[0m\u001b[0;34m,\u001b[0m\u001b[0;34m:\u001b[0m\u001b[0;34m]\u001b[0m\u001b[0;34m.\u001b[0m\u001b[0mreshape\u001b[0m\u001b[0;34m(\u001b[0m\u001b[0;36m5\u001b[0m\u001b[0;34m,\u001b[0m\u001b[0;36m5\u001b[0m\u001b[0;34m)\u001b[0m\u001b[0;34m)\u001b[0m\u001b[0;34m\u001b[0m\u001b[0m\n",
      "\u001b[0;31mValueError\u001b[0m: cannot reshape array of size 25 into shape (2,25)"
     ]
    }
   ],
   "source": [
    "a = Surface_Layer2[243,:].reshape(2,25)\n",
    "plt.imshow(a[0,:].reshape(5,5),cmap='gray')\n",
    "print(a[0,:].reshape(5,5))"
   ]
  },
  {
   "cell_type": "code",
   "execution_count": 15,
   "metadata": {
    "collapsed": false
   },
   "outputs": [
    {
     "data": {
      "image/png": "[encoded data removed]",
      "text/plain": [
       "<matplotlib.figure.Figure at 0x113bd7eb8>"
      ]
     },
     "metadata": {},
     "output_type": "display_data"
    }
   ],
   "source": [
    "DisplaySurface2D(Prototype1,nb_polarities=1)"
   ]
  },
  {
   "cell_type": "code",
   "execution_count": null,
   "metadata": {
    "collapsed": false
   },
   "outputs": [],
   "source": [
    "print(nb_proto)"
   ]
  },
  {
   "cell_type": "code",
   "execution_count": 16,
   "metadata": {
    "collapsed": false
   },
   "outputs": [
    {
     "data": {
      "text/plain": [
       "[<matplotlib.lines.Line2D at 0x12e7514a8>]"
      ]
     },
     "execution_count": 16,
     "metadata": {},
     "output_type": "execute_result"
    },
    {
     "data": {
      "image/png": "[encoded data removed]",
      "text/plain": [
       "<matplotlib.figure.Figure at 0x12e6087b8>"
      ]
     },
     "metadata": {},
     "output_type": "display_data"
    }
   ],
   "source": [
    "plt.plot(res_list)"
   ]
  },
  {
   "cell_type": "code",
   "execution_count": null,
   "metadata": {
    "collapsed": false
   },
   "outputs": [],
   "source": [
    "te = SpTe_Layer1.ListOfTimeMatrix[0,:,:]\n",
    "plt.imshow(te)"
   ]
  },
  {
   "cell_type": "code",
   "execution_count": null,
   "metadata": {
    "collapsed": false
   },
   "outputs": [],
   "source": [
    "def GenerateHistogram(dico,database_spec):\n",
    "    nb_dico = dico.shape[0]\n",
    "    list_of_histo = list\n",
    "    print(nb_dico)\n",
    "    for idf, dblabel in enumerate(dbspecs.dblabels):\n",
    "        histo = np.zeros(nb_dico)\n",
    "        if idf % 10 == 0:\n",
    "            print('file {0}/{1}'.format(idf+1, n_learn))\n",
    "\n",
    "        filepath = dbspecs.path + dbspecs.filenames[idf]\n",
    "        event = LoadGestureDB(filepath, OutOnePolarity=True)\n",
    "        Surface_Layer1 = SpTe_Layer1.create(event = event,kernel='linear')\n",
    "        filt = np.sum(Surface_Layer1, axis = 1) > 2*R\n",
    "        Surface_Layer2 = Surface_Layer1[filt,:] \n",
    "        \n",
    "        for idx, Si in enumerate(Surface_Layer2):\n",
    "            Distance_to_proto = np.linalg.norm(Si - Prototype1,ord=2,axis=1)\n",
    "            closest_proto_idx = np.argmin(Distance_to_proto)\n",
    "            histo[closest_proto_idx] += 1\n",
    "        list_of_histo.append(histo)"
   ]
  },
  {
   "cell_type": "code",
   "execution_count": null,
   "metadata": {
    "collapsed": false
   },
   "outputs": [],
   "source": []
  },
  {
   "cell_type": "code",
   "execution_count": null,
   "metadata": {
    "collapsed": false
   },
   "outputs": [],
   "source": [
    "DisplaySurface2D(Prototype1,nb_polarities=2)\n",
    "#DisplayConvergence(ClusterLayer1,to_display=['error','histo'])"
   ]
  },
  {
   "cell_type": "code",
   "execution_count": null,
   "metadata": {
    "collapsed": false
   },
   "outputs": [],
   "source": [
    "stop_here"
   ]
  },
  {
   "cell_type": "code",
   "execution_count": null,
   "metadata": {
    "collapsed": true
   },
   "outputs": [],
   "source": [
    "for idf, dblabel in enumerate(dbspecs.dblabels):\n",
    "    if idf % 10 == 0:\n",
    "        print('file {0}/{1}'.format(idf+1, n_learn))\n",
    "    filepath = dbspecs.path + dbspecs.filenames[idf]\n",
    "    event = LoadGestureDB(filepath)\n",
    "    Surface_Layer1 = SpTe_Layer1.create(event = event0,kernel='linear')"
   ]
  },
  {
   "cell_type": "code",
   "execution_count": null,
   "metadata": {
    "collapsed": false
   },
   "outputs": [],
   "source": [
    "print(ClusterLayer1.record)"
   ]
  },
  {
   "cell_type": "code",
   "execution_count": null,
   "metadata": {
    "collapsed": false
   },
   "outputs": [],
   "source": [
    "print(Surface_Layer1.shape)\n",
    "print(event.time[4])"
   ]
  },
  {
   "cell_type": "code",
   "execution_count": null,
   "metadata": {
    "collapsed": false
   },
   "outputs": [],
   "source": [
    "a = np.random.rand(4,50)\n",
    "print(a.shape)\n",
    "print(a)"
   ]
  },
  {
   "cell_type": "code",
   "execution_count": null,
   "metadata": {
    "collapsed": false
   },
   "outputs": [],
   "source": [
    "print(np.max(c[:,0]))\n",
    "print(np.max(c[:,1]))"
   ]
  },
  {
   "cell_type": "code",
   "execution_count": null,
   "metadata": {
    "collapsed": false
   },
   "outputs": [],
   "source": [
    "100 % 100"
   ]
  },
  {
   "cell_type": "code",
   "execution_count": null,
   "metadata": {
    "collapsed": true
   },
   "outputs": [],
   "source": []
  }
 ],
 "metadata": {
  "kernelspec": {
   "display_name": "Python 3",
   "language": "python",
   "name": "python3"
  },
  "language_info": {
   "codemirror_mode": {
    "name": "ipython",
    "version": 3
   },
   "file_extension": ".py",
   "mimetype": "text/x-python",
   "name": "python",
   "nbconvert_exporter": "python",
   "pygments_lexer": "ipython3",
   "version": "3.6.1"
  }
 },
 "nbformat": 4,
 "nbformat_minor": 2
}
