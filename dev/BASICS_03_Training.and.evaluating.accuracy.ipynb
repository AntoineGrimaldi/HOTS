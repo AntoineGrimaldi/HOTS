{
 "cells": [
  {
   "cell_type": "code",
   "execution_count": 1,
   "metadata": {
    "collapsed": false,
    "jupyter": {
     "outputs_hidden": false
    }
   },
   "outputs": [],
   "source": [
    "%load_ext autoreload\n",
    "%autoreload 2\n",
    "%matplotlib inline"
   ]
  },
  {
   "cell_type": "code",
   "execution_count": 2,
   "metadata": {
    "collapsed": false,
    "jupyter": {
     "outputs_hidden": false
    }
   },
   "outputs": [],
   "source": [
    "import numpy as np\n",
    "import matplotlib.pyplot as plt\n",
    "\n",
    "\n",
    "from HOTS.Event import Event, SimpleAlphabet\n",
    "from HOTS.STS import STS\n",
    "from HOTS.Layer import ClusteringLayer, FilterNHBD\n",
    "from HOTS.Monitor import DisplayImage, DisplayHisto\n",
    "from HOTS.Tools import SaveObject, LoadObject, GenerateHistogram\n",
    "from HOTS.Classifier import Classifier\n",
    "from HOTS.Network import Network\n",
    "from HOTS.Monitor import DisplaySurface2D\n",
    "from HOTS.Tools import EuclidianNorm, BattachaNorm, NormalizedNorm"
   ]
  },
  {
   "cell_type": "code",
   "execution_count": 3,
   "metadata": {},
   "outputs": [],
   "source": [
    "tau = 0.02\n",
    "R = 2\n",
    "nb_cluster = [4, 8, 16]\n",
    "ImageSize = (32, 32)"
   ]
  },
  {
   "cell_type": "markdown",
   "metadata": {},
   "source": [
    "This notebook show classification on Simple Alphabet database"
   ]
  },
  {
   "cell_type": "markdown",
   "metadata": {},
   "source": [
    "# 1. Load Clustering, Training and Testing data"
   ]
  },
  {
   "cell_type": "code",
   "execution_count": 4,
   "metadata": {
    "collapsed": false,
    "jupyter": {
     "outputs_hidden": false
    }
   },
   "outputs": [],
   "source": [
    "event_tr, event_te, event_cl, label_tr, label_te = SimpleAlphabet(\n",
    "    NbTrainingData=36,\n",
    "    NbTestingData=40,\n",
    "    ClusteringData=[1, 32, 19, 22, 29],\n",
    "    OutOnePolarity=False,\n",
    "    verbose=0,\n",
    "    Path=\"../Data/ExtractedStabilized.mat\",\n",
    "    LabelPath=\"../Data/alphabet_label.pkl\",\n",
    ")"
   ]
  },
  {
   "cell_type": "markdown",
   "metadata": {},
   "source": [
    "# 2. Defining the Network "
   ]
  },
  {
   "cell_type": "code",
   "execution_count": 5,
   "metadata": {},
   "outputs": [],
   "source": [
    "InputFilter = FilterNHBD(threshold=15, neighbourhood=2)\n",
    "L1 = ClusteringLayer(\n",
    "    tau=tau,\n",
    "    R=R,\n",
    "    verbose=1,\n",
    "    ThrFilter=0,\n",
    "    LearningAlgo=\"lagorce\",\n",
    "    kernel=\"exponential\",\n",
    "    eta=None,\n",
    "    eta_homeo=None,\n",
    "    sigma=None,\n",
    ")\n",
    "L2 = ClusteringLayer(\n",
    "    tau=10 * tau,\n",
    "    R=2 * R,\n",
    "    verbose=1,\n",
    "    ThrFilter=0,\n",
    "    LearningAlgo=\"lagorce\",\n",
    "    kernel=\"exponential\",\n",
    "    eta=None,\n",
    "    eta_homeo=None,\n",
    "    sigma=None,\n",
    ")\n",
    "L3 = ClusteringLayer(\n",
    "    tau=10 * 10 * tau,\n",
    "    R=2 * 2 * R,\n",
    "    verbose=1,\n",
    "    ThrFilter=0,\n",
    "    LearningAlgo=\"lagorce\",\n",
    "    kernel=\"exponential\",\n",
    "    eta=None,\n",
    "    eta_homeo=None,\n",
    "    sigma=None,\n",
    ")\n",
    "Net = Network([InputFilter, L1, L2, L3])"
   ]
  },
  {
   "cell_type": "markdown",
   "metadata": {},
   "source": [
    "# 3. Training the Cluster on 5 images"
   ]
  },
  {
   "cell_type": "code",
   "execution_count": 6,
   "metadata": {
    "collapsed": false,
    "jupyter": {
     "outputs_hidden": false
    }
   },
   "outputs": [
    {
     "name": "stdout",
     "output_type": "stream",
     "text": [
      "Generation of SpatioTemporal Surface in ------ 1.87 s\n",
      "Clustering SpatioTemporal Surface in ------ 3.44 s\n",
      "Generation of SpatioTemporal Surface in ------ 3.33 s\n",
      "Clustering SpatioTemporal Surface in ------ 4.18 s\n",
      "Generation of SpatioTemporal Surface in ------ 5.51 s\n",
      "Clustering SpatioTemporal Surface in ------ 18.25 s\n"
     ]
    }
   ],
   "source": [
    "ClusterLayer, event_output = Net.TrainCluster(\n",
    "    event=event_cl, NbClusterList=nb_cluster, to_record=False, NbCycle=1\n",
    ")"
   ]
  },
  {
   "cell_type": "markdown",
   "metadata": {},
   "source": [
    "# 4. Running the Network on training samples"
   ]
  },
  {
   "cell_type": "code",
   "execution_count": 7,
   "metadata": {
    "collapsed": false,
    "jupyter": {
     "outputs_hidden": false
    }
   },
   "outputs": [
    {
     "name": "stdout",
     "output_type": "stream",
     "text": [
      "Generation of SpatioTemporal Surface in ------ 15.15 s\n",
      "Generation of SpatioTemporal Surface in ------ 20.14 s\n",
      "Generation of SpatioTemporal Surface in ------ 56.84 s\n"
     ]
    }
   ],
   "source": [
    "event_o_tr = Net.RunNetwork(\n",
    "    event_tr, NbClusterList=ClusterLayer\n",
    ")  ## Warning : seems to put pressure on the memory"
   ]
  },
  {
   "cell_type": "markdown",
   "metadata": {},
   "source": [
    "# 5. Runing the Network on testing samples"
   ]
  },
  {
   "cell_type": "code",
   "execution_count": 8,
   "metadata": {
    "collapsed": false,
    "jupyter": {
     "outputs_hidden": false
    }
   },
   "outputs": [
    {
     "name": "stdout",
     "output_type": "stream",
     "text": [
      "Generation of SpatioTemporal Surface in ------ 12.44 s\n",
      "Generation of SpatioTemporal Surface in ------ 14.84 s\n",
      "Generation of SpatioTemporal Surface in ------ 40.28 s\n"
     ]
    }
   ],
   "source": [
    "event_o_te = Net.RunNetwork(event_te, NbClusterList=ClusterLayer)"
   ]
  },
  {
   "cell_type": "markdown",
   "metadata": {},
   "source": [
    "# 6. Classifying"
   ]
  },
  {
   "cell_type": "code",
   "execution_count": 9,
   "metadata": {
    "collapsed": false,
    "jupyter": {
     "outputs_hidden": false
    }
   },
   "outputs": [
    {
     "name": "stdout",
     "output_type": "stream",
     "text": [
      "battacha:85.0% ### normalized:82.5% ### euclidian:85.0% ### \n"
     ]
    }
   ],
   "source": [
    "Classif0 = Classifier(\n",
    "    event_o_tr, event_o_te, TrainingLabel=label_tr, GroundTruth=label_te\n",
    ")\n",
    "prediction, accuracy, method = Classif0.HistogramDistance(to_print=True)"
   ]
  }
 ],
 "metadata": {
  "kernelspec": {
   "display_name": "Python 3",
   "language": "python",
   "name": "python3"
  },
  "language_info": {
   "codemirror_mode": {
    "name": "ipython",
    "version": 3
   },
   "file_extension": ".py",
   "mimetype": "text/x-python",
   "name": "python",
   "nbconvert_exporter": "python",
   "pygments_lexer": "ipython3",
   "version": "3.7.7"
  }
 },
 "nbformat": 4,
 "nbformat_minor": 4
}
