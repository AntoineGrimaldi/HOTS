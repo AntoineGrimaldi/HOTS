{
 "cells": [
  {
   "cell_type": "markdown",
   "metadata": {},
   "source": [
    "# HOTS_EXP_04_jitter\n",
    "\n",
    "Makes performance test with different jitter values"
   ]
  },
  {
   "cell_type": "code",
   "execution_count": 7,
   "metadata": {},
   "outputs": [
    {
     "name": "stdout",
     "output_type": "stream",
     "text": [
      "/Users/joe/Documents/boulot/git/homhots/HOTS/HOTS\n"
     ]
    }
   ],
   "source": [
    "%cd '../HOTS'\n",
    "from Tools import runjit\n",
    "import numpy as np"
   ]
  },
  {
   "cell_type": "markdown",
   "metadata": {},
   "source": [
    "## Network parameters"
   ]
  },
  {
   "cell_type": "code",
   "execution_count": 5,
   "metadata": {},
   "outputs": [],
   "source": [
    "name = 'homhots'\n",
    "sigma = None\n",
    "pooling = False\n",
    "homeinv = False\n",
    "jitonic = [None,None] #[temporal, spatial]\n",
    "jitter = False\n",
    "tau = 5\n",
    "nblay = 3\n",
    "nbclust = 4\n",
    "filt = 2\n",
    "timestr = '2021-02-16'"
   ]
  },
  {
   "cell_type": "markdown",
   "metadata": {},
   "source": [
    "## Run for jitter values and number of digits defined below"
   ]
  },
  {
   "cell_type": "code",
   "execution_count": 8,
   "metadata": {},
   "outputs": [
    {
     "name": "stdout",
     "output_type": "stream",
     "text": [
      "2021-02-16_lagorce_rdn_None_True_[0.25, 1]_[4, 8, 16]_[5000.0, 50000.0, 500000.0]_[2, 4, 8]_False\n",
      "2021-02-16_lagorce_rdn_None_True_[0.25, 1]_[4, 8, 16]_[5000.0, 50000.0, 500000.0]_[2, 4, 8]_False\n",
      "../Records/EXP_03_NMNIST/train/2021-02-16_lagorce_rdn_None_True_[0.25, 1]_[4, 8, 16]_[5000.0, 50000.0, 500000.0]_[2, 4, 8]_False_50_[None, None]_histo.pkl\n",
      "../Records/EXP_03_NMNIST/test/2021-02-16_lagorce_rdn_None_True_[0.25, 1]_[4, 8, 16]_[5000.0, 50000.0, 500000.0]_[2, 4, 8]_False_10_[None, 0.0]_histo.pkl\n",
      "spatial jitter -> var = 0.0\n"
     ]
    },
    {
     "name": "stderr",
     "output_type": "stream",
     "text": [
      "100%|██████████| 10/10 [00:29<00:00,  2.91s/it]\n"
     ]
    },
    {
     "name": "stdout",
     "output_type": "stream",
     "text": [
      "-----------------------------------------------SCORES-----------------------------------------------\n",
      "Classification scores with HOTS measures: bhatta = 20.0% - eucli = 10.0% - norm = 20.0%\n",
      "Classification scores with entropy: Kullback-Leibler = 20.0% - Jensen-Shannon = 20.0%\n",
      "----------------------------------------------------------------------------------------------------\n",
      "../Records/EXP_03_NMNIST/test/2021-02-16_lagorce_rdn_None_True_[0.25, 1]_[4, 8, 16]_[5000.0, 50000.0, 500000.0]_[2, 4, 8]_False_10_[None, 0.0]_histo.pkl\n",
      "-----------------------------------------------SCORES-----------------------------------------------\n",
      "Classification scores with HOTS measures: bhatta = 20.0% - eucli = 10.0% - norm = 20.0%\n",
      "Classification scores with entropy: Kullback-Leibler = 20.0% - Jensen-Shannon = 20.0%\n",
      "----------------------------------------------------------------------------------------------------\n",
      "../Records/EXP_03_NMNIST/test/2021-02-16_lagorce_rdn_None_True_[0.25, 1]_[4, 8, 16]_[5000.0, 50000.0, 500000.0]_[2, 4, 8]_False_10_[None, 0.2]_histo.pkl\n",
      "spatial jitter -> var = 0.2\n"
     ]
    },
    {
     "name": "stderr",
     "output_type": "stream",
     "text": [
      "100%|██████████| 10/10 [00:27<00:00,  2.72s/it]\n"
     ]
    },
    {
     "name": "stdout",
     "output_type": "stream",
     "text": [
      "-----------------------------------------------SCORES-----------------------------------------------\n",
      "Classification scores with HOTS measures: bhatta = 30.0% - eucli = 30.0% - norm = 30.0%\n",
      "Classification scores with entropy: Kullback-Leibler = 20.0% - Jensen-Shannon = 30.0%\n",
      "----------------------------------------------------------------------------------------------------\n",
      "../Records/EXP_03_NMNIST/test/2021-02-16_lagorce_rdn_None_True_[0.25, 1]_[4, 8, 16]_[5000.0, 50000.0, 500000.0]_[2, 4, 8]_False_10_[None, 0.4]_histo.pkl\n",
      "spatial jitter -> var = 0.4\n"
     ]
    },
    {
     "name": "stderr",
     "output_type": "stream",
     "text": [
      "100%|██████████| 10/10 [00:31<00:00,  3.17s/it]\n"
     ]
    },
    {
     "name": "stdout",
     "output_type": "stream",
     "text": [
      "-----------------------------------------------SCORES-----------------------------------------------\n",
      "Classification scores with HOTS measures: bhatta = 10.0% - eucli = 0.0% - norm = 0.0%\n",
      "Classification scores with entropy: Kullback-Leibler = 0.0% - Jensen-Shannon = 0.0%\n",
      "----------------------------------------------------------------------------------------------------\n",
      "../Records/EXP_03_NMNIST/test/2021-02-16_lagorce_rdn_None_True_[0.25, 1]_[4, 8, 16]_[5000.0, 50000.0, 500000.0]_[2, 4, 8]_False_10_[None, 0.6]_histo.pkl\n",
      "spatial jitter -> var = 0.6\n"
     ]
    },
    {
     "name": "stderr",
     "output_type": "stream",
     "text": [
      "100%|██████████| 10/10 [00:32<00:00,  3.27s/it]\n"
     ]
    },
    {
     "name": "stdout",
     "output_type": "stream",
     "text": [
      "-----------------------------------------------SCORES-----------------------------------------------\n",
      "Classification scores with HOTS measures: bhatta = 20.0% - eucli = 20.0% - norm = 20.0%\n",
      "Classification scores with entropy: Kullback-Leibler = 30.0% - Jensen-Shannon = 20.0%\n",
      "----------------------------------------------------------------------------------------------------\n",
      "../Records/EXP_03_NMNIST/test/2021-02-16_lagorce_rdn_None_True_[0.25, 1]_[4, 8, 16]_[5000.0, 50000.0, 500000.0]_[2, 4, 8]_False_10_[None, 1.0]_histo.pkl\n",
      "spatial jitter -> var = 1.0\n"
     ]
    },
    {
     "name": "stderr",
     "output_type": "stream",
     "text": [
      "100%|██████████| 10/10 [00:30<00:00,  3.08s/it]\n"
     ]
    },
    {
     "name": "stdout",
     "output_type": "stream",
     "text": [
      "-----------------------------------------------SCORES-----------------------------------------------\n",
      "Classification scores with HOTS measures: bhatta = 20.0% - eucli = 10.0% - norm = 10.0%\n",
      "Classification scores with entropy: Kullback-Leibler = 30.0% - Jensen-Shannon = 20.0%\n",
      "----------------------------------------------------------------------------------------------------\n",
      "../Records/EXP_03_NMNIST/test/2021-02-16_lagorce_rdn_None_True_[0.25, 1]_[4, 8, 16]_[5000.0, 50000.0, 500000.0]_[2, 4, 8]_False_10_[None, 1.4]_histo.pkl\n",
      "spatial jitter -> var = 1.4\n"
     ]
    },
    {
     "name": "stderr",
     "output_type": "stream",
     "text": [
      "100%|██████████| 10/10 [00:33<00:00,  3.39s/it]\n"
     ]
    },
    {
     "name": "stdout",
     "output_type": "stream",
     "text": [
      "-----------------------------------------------SCORES-----------------------------------------------\n",
      "Classification scores with HOTS measures: bhatta = 10.0% - eucli = 10.0% - norm = 10.0%\n",
      "Classification scores with entropy: Kullback-Leibler = 10.0% - Jensen-Shannon = 10.0%\n",
      "----------------------------------------------------------------------------------------------------\n",
      "../Records/EXP_03_NMNIST/test/2021-02-16_lagorce_rdn_None_True_[0.25, 1]_[4, 8, 16]_[5000.0, 50000.0, 500000.0]_[2, 4, 8]_False_10_[None, 2.0]_histo.pkl\n",
      "spatial jitter -> var = 2.0\n"
     ]
    },
    {
     "name": "stderr",
     "output_type": "stream",
     "text": [
      "100%|██████████| 10/10 [00:35<00:00,  3.56s/it]\n"
     ]
    },
    {
     "name": "stdout",
     "output_type": "stream",
     "text": [
      "-----------------------------------------------SCORES-----------------------------------------------\n",
      "Classification scores with HOTS measures: bhatta = 30.0% - eucli = 30.0% - norm = 30.0%\n",
      "Classification scores with entropy: Kullback-Leibler = 30.0% - Jensen-Shannon = 30.0%\n",
      "----------------------------------------------------------------------------------------------------\n",
      "../Records/EXP_03_NMNIST/test/2021-02-16_lagorce_rdn_None_True_[0.25, 1]_[4, 8, 16]_[5000.0, 50000.0, 500000.0]_[2, 4, 8]_False_10_[None, 2.6]_histo.pkl\n",
      "spatial jitter -> var = 2.6\n"
     ]
    },
    {
     "name": "stderr",
     "output_type": "stream",
     "text": [
      "100%|██████████| 10/10 [00:27<00:00,  2.70s/it]\n"
     ]
    },
    {
     "name": "stdout",
     "output_type": "stream",
     "text": [
      "-----------------------------------------------SCORES-----------------------------------------------\n",
      "Classification scores with HOTS measures: bhatta = 0.0% - eucli = 0.0% - norm = 0.0%\n",
      "Classification scores with entropy: Kullback-Leibler = 0.0% - Jensen-Shannon = 0.0%\n",
      "----------------------------------------------------------------------------------------------------\n",
      "../Records/EXP_03_NMNIST/test/2021-02-16_lagorce_rdn_None_True_[0.25, 1]_[4, 8, 16]_[5000.0, 50000.0, 500000.0]_[2, 4, 8]_False_10_[None, 3.2]_histo.pkl\n",
      "spatial jitter -> var = 3.2\n"
     ]
    },
    {
     "name": "stderr",
     "output_type": "stream",
     "text": [
      "100%|██████████| 10/10 [00:31<00:00,  3.18s/it]\n"
     ]
    },
    {
     "name": "stdout",
     "output_type": "stream",
     "text": [
      "-----------------------------------------------SCORES-----------------------------------------------\n",
      "Classification scores with HOTS measures: bhatta = 10.0% - eucli = 10.0% - norm = 10.0%\n",
      "Classification scores with entropy: Kullback-Leibler = 10.0% - Jensen-Shannon = 10.0%\n",
      "----------------------------------------------------------------------------------------------------\n",
      "../Records/EXP_03_NMNIST/test/2021-02-16_lagorce_rdn_None_True_[0.25, 1]_[4, 8, 16]_[5000.0, 50000.0, 500000.0]_[2, 4, 8]_False_10_[None, 4.0]_histo.pkl\n",
      "spatial jitter -> var = 4.0\n"
     ]
    },
    {
     "name": "stderr",
     "output_type": "stream",
     "text": [
      "100%|██████████| 10/10 [00:27<00:00,  2.71s/it]\n"
     ]
    },
    {
     "name": "stdout",
     "output_type": "stream",
     "text": [
      "-----------------------------------------------SCORES-----------------------------------------------\n",
      "Classification scores with HOTS measures: bhatta = 0.0% - eucli = 0.0% - norm = 0.0%\n",
      "Classification scores with entropy: Kullback-Leibler = 0.0% - Jensen-Shannon = 0.0%\n",
      "----------------------------------------------------------------------------------------------------\n",
      "../Records/EXP_03_NMNIST/test/2021-02-16_lagorce_rdn_None_True_[0.25, 1]_[4, 8, 16]_[5000.0, 50000.0, 500000.0]_[2, 4, 8]_False_10_[None, 4.8]_histo.pkl\n",
      "spatial jitter -> var = 4.8\n"
     ]
    },
    {
     "name": "stderr",
     "output_type": "stream",
     "text": [
      "100%|██████████| 10/10 [00:31<00:00,  3.19s/it]\n"
     ]
    },
    {
     "name": "stdout",
     "output_type": "stream",
     "text": [
      "-----------------------------------------------SCORES-----------------------------------------------\n",
      "Classification scores with HOTS measures: bhatta = 0.0% - eucli = 0.0% - norm = 0.0%\n",
      "Classification scores with entropy: Kullback-Leibler = 0.0% - Jensen-Shannon = 0.0%\n",
      "----------------------------------------------------------------------------------------------------\n",
      "../Records/EXP_03_NMNIST/test/2021-02-16_lagorce_rdn_None_True_[0.25, 1]_[4, 8, 16]_[5000.0, 50000.0, 500000.0]_[2, 4, 8]_False_10_[None, 5.8]_histo.pkl\n",
      "spatial jitter -> var = 5.8\n"
     ]
    },
    {
     "name": "stderr",
     "output_type": "stream",
     "text": [
      "100%|██████████| 10/10 [00:30<00:00,  3.02s/it]\n"
     ]
    },
    {
     "name": "stdout",
     "output_type": "stream",
     "text": [
      "-----------------------------------------------SCORES-----------------------------------------------\n",
      "Classification scores with HOTS measures: bhatta = 0.0% - eucli = 0.0% - norm = 0.0%\n",
      "Classification scores with entropy: Kullback-Leibler = 0.0% - Jensen-Shannon = 0.0%\n",
      "----------------------------------------------------------------------------------------------------\n",
      "../Records/EXP_03_NMNIST/test/2021-02-16_lagorce_rdn_None_True_[0.25, 1]_[4, 8, 16]_[5000.0, 50000.0, 500000.0]_[2, 4, 8]_False_10_[None, 6.8]_histo.pkl\n",
      "spatial jitter -> var = 6.8\n"
     ]
    },
    {
     "name": "stderr",
     "output_type": "stream",
     "text": [
      "100%|██████████| 10/10 [00:32<00:00,  3.26s/it]\n"
     ]
    },
    {
     "name": "stdout",
     "output_type": "stream",
     "text": [
      "-----------------------------------------------SCORES-----------------------------------------------\n",
      "Classification scores with HOTS measures: bhatta = 0.0% - eucli = 0.0% - norm = 0.0%\n",
      "Classification scores with entropy: Kullback-Leibler = 0.0% - Jensen-Shannon = 0.0%\n",
      "----------------------------------------------------------------------------------------------------\n",
      "../Records/EXP_03_NMNIST/test/2021-02-16_lagorce_rdn_None_True_[0.25, 1]_[4, 8, 16]_[5000.0, 50000.0, 500000.0]_[2, 4, 8]_False_10_[None, 7.8]_histo.pkl\n",
      "spatial jitter -> var = 7.8\n"
     ]
    },
    {
     "name": "stderr",
     "output_type": "stream",
     "text": [
      "100%|██████████| 10/10 [00:39<00:00,  3.90s/it]\n"
     ]
    },
    {
     "name": "stdout",
     "output_type": "stream",
     "text": [
      "-----------------------------------------------SCORES-----------------------------------------------\n",
      "Classification scores with HOTS measures: bhatta = 0.0% - eucli = 0.0% - norm = 0.0%\n",
      "Classification scores with entropy: Kullback-Leibler = 0.0% - Jensen-Shannon = 0.0%\n",
      "----------------------------------------------------------------------------------------------------\n",
      "../Records/EXP_03_NMNIST/test/2021-02-16_lagorce_rdn_None_True_[0.25, 1]_[4, 8, 16]_[5000.0, 50000.0, 500000.0]_[2, 4, 8]_False_10_[None, 9.0]_histo.pkl\n",
      "spatial jitter -> var = 9.0\n"
     ]
    },
    {
     "name": "stderr",
     "output_type": "stream",
     "text": [
      "100%|██████████| 10/10 [00:37<00:00,  3.79s/it]\n"
     ]
    },
    {
     "name": "stdout",
     "output_type": "stream",
     "text": [
      "-----------------------------------------------SCORES-----------------------------------------------\n",
      "Classification scores with HOTS measures: bhatta = 10.0% - eucli = 10.0% - norm = 10.0%\n",
      "Classification scores with entropy: Kullback-Leibler = 10.0% - Jensen-Shannon = 10.0%\n",
      "----------------------------------------------------------------------------------------------------\n",
      "../Records/EXP_03_NMNIST/test/2021-02-16_lagorce_rdn_None_True_[0.25, 1]_[4, 8, 16]_[5000.0, 50000.0, 500000.0]_[2, 4, 8]_False_10_[None, 10.2]_histo.pkl\n",
      "spatial jitter -> var = 10.2\n"
     ]
    },
    {
     "name": "stderr",
     "output_type": "stream",
     "text": [
      "100%|██████████| 10/10 [00:37<00:00,  3.71s/it]\n"
     ]
    },
    {
     "name": "stdout",
     "output_type": "stream",
     "text": [
      "-----------------------------------------------SCORES-----------------------------------------------\n",
      "Classification scores with HOTS measures: bhatta = 10.0% - eucli = 10.0% - norm = 20.0%\n",
      "Classification scores with entropy: Kullback-Leibler = 10.0% - Jensen-Shannon = 10.0%\n",
      "----------------------------------------------------------------------------------------------------\n",
      "../Records/EXP_03_NMNIST/test/2021-02-16_lagorce_rdn_None_True_[0.25, 1]_[4, 8, 16]_[5000.0, 50000.0, 500000.0]_[2, 4, 8]_False_10_[None, 11.6]_histo.pkl\n",
      "spatial jitter -> var = 11.6\n"
     ]
    },
    {
     "name": "stderr",
     "output_type": "stream",
     "text": [
      "100%|██████████| 10/10 [00:37<00:00,  3.76s/it]\n"
     ]
    },
    {
     "name": "stdout",
     "output_type": "stream",
     "text": [
      "-----------------------------------------------SCORES-----------------------------------------------\n",
      "Classification scores with HOTS measures: bhatta = 30.0% - eucli = 30.0% - norm = 30.0%\n",
      "Classification scores with entropy: Kullback-Leibler = 30.0% - Jensen-Shannon = 30.0%\n",
      "----------------------------------------------------------------------------------------------------\n",
      "../Records/EXP_03_NMNIST/test/2021-02-16_lagorce_rdn_None_True_[0.25, 1]_[4, 8, 16]_[5000.0, 50000.0, 500000.0]_[2, 4, 8]_False_10_[None, 13.0]_histo.pkl\n",
      "spatial jitter -> var = 13.0\n"
     ]
    },
    {
     "name": "stderr",
     "output_type": "stream",
     "text": [
      "100%|██████████| 10/10 [00:34<00:00,  3.49s/it]\n"
     ]
    },
    {
     "name": "stdout",
     "output_type": "stream",
     "text": [
      "-----------------------------------------------SCORES-----------------------------------------------\n",
      "Classification scores with HOTS measures: bhatta = 0.0% - eucli = 0.0% - norm = 0.0%\n",
      "Classification scores with entropy: Kullback-Leibler = 0.0% - Jensen-Shannon = 0.0%\n",
      "----------------------------------------------------------------------------------------------------\n",
      "../Records/EXP_03_NMNIST/test/2021-02-16_lagorce_rdn_None_True_[0.25, 1]_[4, 8, 16]_[5000.0, 50000.0, 500000.0]_[2, 4, 8]_False_10_[None, 14.4]_histo.pkl\n",
      "spatial jitter -> var = 14.4\n"
     ]
    },
    {
     "name": "stderr",
     "output_type": "stream",
     "text": [
      "100%|██████████| 10/10 [00:34<00:00,  3.43s/it]\n"
     ]
    },
    {
     "name": "stdout",
     "output_type": "stream",
     "text": [
      "-----------------------------------------------SCORES-----------------------------------------------\n",
      "Classification scores with HOTS measures: bhatta = 0.0% - eucli = 0.0% - norm = 0.0%\n",
      "Classification scores with entropy: Kullback-Leibler = 0.0% - Jensen-Shannon = 0.0%\n",
      "----------------------------------------------------------------------------------------------------\n",
      "../Records/EXP_03_NMNIST/test/2021-02-16_lagorce_rdn_None_True_[0.25, 1]_[4, 8, 16]_[5000.0, 50000.0, 500000.0]_[2, 4, 8]_False_10_[None, 16.0]_histo.pkl\n",
      "spatial jitter -> var = 16.0\n"
     ]
    },
    {
     "name": "stderr",
     "output_type": "stream",
     "text": [
      "100%|██████████| 10/10 [00:33<00:00,  3.35s/it]\n"
     ]
    },
    {
     "name": "stdout",
     "output_type": "stream",
     "text": [
      "-----------------------------------------------SCORES-----------------------------------------------\n",
      "Classification scores with HOTS measures: bhatta = 0.0% - eucli = 0.0% - norm = 0.0%\n",
      "Classification scores with entropy: Kullback-Leibler = 0.0% - Jensen-Shannon = 0.0%\n",
      "----------------------------------------------------------------------------------------------------\n",
      "../Records/EXP_03_NMNIST/test/2021-02-16_lagorce_rdn_None_True_[0.25, 1]_[4, 8, 16]_[5000.0, 50000.0, 500000.0]_[2, 4, 8]_False_10_[None, 17.6]_histo.pkl\n",
      "spatial jitter -> var = 17.6\n"
     ]
    },
    {
     "name": "stderr",
     "output_type": "stream",
     "text": [
      "100%|██████████| 10/10 [00:37<00:00,  3.70s/it]\n"
     ]
    },
    {
     "name": "stdout",
     "output_type": "stream",
     "text": [
      "-----------------------------------------------SCORES-----------------------------------------------\n",
      "Classification scores with HOTS measures: bhatta = 10.0% - eucli = 10.0% - norm = 10.0%\n",
      "Classification scores with entropy: Kullback-Leibler = 10.0% - Jensen-Shannon = 10.0%\n",
      "----------------------------------------------------------------------------------------------------\n",
      "../Records/EXP_03_NMNIST/test/2021-02-16_lagorce_rdn_None_True_[0.25, 1]_[4, 8, 16]_[5000.0, 50000.0, 500000.0]_[2, 4, 8]_False_10_[None, 19.4]_histo.pkl\n",
      "spatial jitter -> var = 19.4\n"
     ]
    },
    {
     "name": "stderr",
     "output_type": "stream",
     "text": [
      "100%|██████████| 10/10 [00:26<00:00,  2.62s/it]\n"
     ]
    },
    {
     "name": "stdout",
     "output_type": "stream",
     "text": [
      "-----------------------------------------------SCORES-----------------------------------------------\n",
      "Classification scores with HOTS measures: bhatta = 0.0% - eucli = 0.0% - norm = 0.0%\n",
      "Classification scores with entropy: Kullback-Leibler = 0.0% - Jensen-Shannon = 0.0%\n",
      "----------------------------------------------------------------------------------------------------\n",
      "../Records/EXP_03_NMNIST/test/2021-02-16_lagorce_rdn_None_True_[0.25, 1]_[4, 8, 16]_[5000.0, 50000.0, 500000.0]_[2, 4, 8]_False_10_[None, 21.2]_histo.pkl\n",
      "spatial jitter -> var = 21.2\n"
     ]
    },
    {
     "name": "stderr",
     "output_type": "stream",
     "text": [
      "100%|██████████| 10/10 [00:35<00:00,  3.50s/it]\n"
     ]
    },
    {
     "name": "stdout",
     "output_type": "stream",
     "text": [
      "-----------------------------------------------SCORES-----------------------------------------------\n",
      "Classification scores with HOTS measures: bhatta = 10.0% - eucli = 10.0% - norm = 10.0%\n",
      "Classification scores with entropy: Kullback-Leibler = 10.0% - Jensen-Shannon = 10.0%\n",
      "----------------------------------------------------------------------------------------------------\n",
      "../Records/EXP_03_NMNIST/test/2021-02-16_lagorce_rdn_None_True_[0.25, 1]_[4, 8, 16]_[5000.0, 50000.0, 500000.0]_[2, 4, 8]_False_10_[None, 23.0]_histo.pkl\n",
      "spatial jitter -> var = 23.0\n"
     ]
    },
    {
     "name": "stderr",
     "output_type": "stream",
     "text": [
      "100%|██████████| 10/10 [00:35<00:00,  3.51s/it]\n"
     ]
    },
    {
     "name": "stdout",
     "output_type": "stream",
     "text": [
      "-----------------------------------------------SCORES-----------------------------------------------\n",
      "Classification scores with HOTS measures: bhatta = 10.0% - eucli = 10.0% - norm = 10.0%\n",
      "Classification scores with entropy: Kullback-Leibler = 10.0% - Jensen-Shannon = 10.0%\n",
      "----------------------------------------------------------------------------------------------------\n",
      "../Records/EXP_03_NMNIST/test/2021-02-16_lagorce_rdn_None_True_[0.25, 1]_[4, 8, 16]_[5000.0, 50000.0, 500000.0]_[2, 4, 8]_False_10_[None, 25.0]_histo.pkl\n",
      "spatial jitter -> var = 25.0\n"
     ]
    },
    {
     "name": "stderr",
     "output_type": "stream",
     "text": [
      "100%|██████████| 10/10 [00:31<00:00,  3.18s/it]\n"
     ]
    },
    {
     "name": "stdout",
     "output_type": "stream",
     "text": [
      "-----------------------------------------------SCORES-----------------------------------------------\n",
      "Classification scores with HOTS measures: bhatta = 0.0% - eucli = 0.0% - norm = 0.0%\n",
      "Classification scores with entropy: Kullback-Leibler = 0.0% - Jensen-Shannon = 0.0%\n",
      "----------------------------------------------------------------------------------------------------\n",
      "../Records/EXP_03_NMNIST/test/2021-02-16_lagorce_rdn_None_True_[0.25, 1]_[4, 8, 16]_[5000.0, 50000.0, 500000.0]_[2, 4, 8]_False_10_[None, 27.0]_histo.pkl\n",
      "spatial jitter -> var = 27.0\n"
     ]
    },
    {
     "name": "stderr",
     "output_type": "stream",
     "text": [
      "100%|██████████| 10/10 [00:39<00:00,  3.91s/it]\n"
     ]
    },
    {
     "name": "stdout",
     "output_type": "stream",
     "text": [
      "-----------------------------------------------SCORES-----------------------------------------------\n",
      "Classification scores with HOTS measures: bhatta = 20.0% - eucli = 20.0% - norm = 20.0%\n",
      "Classification scores with entropy: Kullback-Leibler = 20.0% - Jensen-Shannon = 20.0%\n",
      "----------------------------------------------------------------------------------------------------\n",
      "../Records/EXP_03_NMNIST/test/2021-02-16_lagorce_rdn_None_True_[0.25, 1]_[4, 8, 16]_[5000.0, 50000.0, 500000.0]_[2, 4, 8]_False_10_[None, 29.2]_histo.pkl\n",
      "spatial jitter -> var = 29.2\n"
     ]
    },
    {
     "name": "stderr",
     "output_type": "stream",
     "text": [
      "100%|██████████| 10/10 [00:30<00:00,  3.09s/it]\n"
     ]
    },
    {
     "name": "stdout",
     "output_type": "stream",
     "text": [
      "-----------------------------------------------SCORES-----------------------------------------------\n",
      "Classification scores with HOTS measures: bhatta = 10.0% - eucli = 10.0% - norm = 10.0%\n",
      "Classification scores with entropy: Kullback-Leibler = 10.0% - Jensen-Shannon = 10.0%\n",
      "----------------------------------------------------------------------------------------------------\n",
      "../Records/EXP_03_NMNIST/test/2021-02-16_lagorce_rdn_None_True_[0.25, 1]_[4, 8, 16]_[5000.0, 50000.0, 500000.0]_[2, 4, 8]_False_10_[None, 31.4]_histo.pkl\n",
      "spatial jitter -> var = 31.4\n"
     ]
    },
    {
     "name": "stderr",
     "output_type": "stream",
     "text": [
      "100%|██████████| 10/10 [00:31<00:00,  3.14s/it]\n"
     ]
    },
    {
     "name": "stdout",
     "output_type": "stream",
     "text": [
      "-----------------------------------------------SCORES-----------------------------------------------\n",
      "Classification scores with HOTS measures: bhatta = 20.0% - eucli = 20.0% - norm = 20.0%\n",
      "Classification scores with entropy: Kullback-Leibler = 20.0% - Jensen-Shannon = 20.0%\n",
      "----------------------------------------------------------------------------------------------------\n",
      "../Records/EXP_03_NMNIST/test/2021-02-16_lagorce_rdn_None_True_[0.25, 1]_[4, 8, 16]_[5000.0, 50000.0, 500000.0]_[2, 4, 8]_False_10_[None, 33.6]_histo.pkl\n",
      "spatial jitter -> var = 33.6\n"
     ]
    },
    {
     "name": "stderr",
     "output_type": "stream",
     "text": [
      "100%|██████████| 10/10 [00:36<00:00,  3.60s/it]\n"
     ]
    },
    {
     "name": "stdout",
     "output_type": "stream",
     "text": [
      "-----------------------------------------------SCORES-----------------------------------------------\n",
      "Classification scores with HOTS measures: bhatta = 0.0% - eucli = 0.0% - norm = 0.0%\n",
      "Classification scores with entropy: Kullback-Leibler = 0.0% - Jensen-Shannon = 0.0%\n",
      "----------------------------------------------------------------------------------------------------\n",
      "../Records/EXP_03_NMNIST/test/2021-02-16_lagorce_rdn_None_True_[0.25, 1]_[4, 8, 16]_[5000.0, 50000.0, 500000.0]_[2, 4, 8]_False_10_[0, None]_histo.pkl\n",
      "time jitter -> var = 0\n"
     ]
    },
    {
     "name": "stderr",
     "output_type": "stream",
     "text": [
      "100%|██████████| 10/10 [00:42<00:00,  4.26s/it]\n"
     ]
    },
    {
     "name": "stdout",
     "output_type": "stream",
     "text": [
      "-----------------------------------------------SCORES-----------------------------------------------\n",
      "Classification scores with HOTS measures: bhatta = 20.0% - eucli = 30.0% - norm = 30.0%\n",
      "Classification scores with entropy: Kullback-Leibler = 30.0% - Jensen-Shannon = 20.0%\n",
      "----------------------------------------------------------------------------------------------------\n",
      "../Records/EXP_03_NMNIST/test/2021-02-16_lagorce_rdn_None_True_[0.25, 1]_[4, 8, 16]_[5000.0, 50000.0, 500000.0]_[2, 4, 8]_False_10_[100, None]_histo.pkl\n",
      "time jitter -> var = 100\n"
     ]
    },
    {
     "name": "stderr",
     "output_type": "stream",
     "text": [
      "100%|██████████| 10/10 [00:37<00:00,  3.80s/it]\n"
     ]
    },
    {
     "name": "stdout",
     "output_type": "stream",
     "text": [
      "-----------------------------------------------SCORES-----------------------------------------------\n",
      "Classification scores with HOTS measures: bhatta = 40.0% - eucli = 50.0% - norm = 40.0%\n",
      "Classification scores with entropy: Kullback-Leibler = 50.0% - Jensen-Shannon = 40.0%\n",
      "----------------------------------------------------------------------------------------------------\n",
      "../Records/EXP_03_NMNIST/test/2021-02-16_lagorce_rdn_None_True_[0.25, 1]_[4, 8, 16]_[5000.0, 50000.0, 500000.0]_[2, 4, 8]_False_10_[400, None]_histo.pkl\n",
      "time jitter -> var = 400\n"
     ]
    },
    {
     "name": "stderr",
     "output_type": "stream",
     "text": [
      "100%|██████████| 10/10 [00:37<00:00,  3.74s/it]\n"
     ]
    },
    {
     "name": "stdout",
     "output_type": "stream",
     "text": [
      "-----------------------------------------------SCORES-----------------------------------------------\n",
      "Classification scores with HOTS measures: bhatta = 30.0% - eucli = 30.0% - norm = 20.0%\n",
      "Classification scores with entropy: Kullback-Leibler = 50.0% - Jensen-Shannon = 30.0%\n",
      "----------------------------------------------------------------------------------------------------\n",
      "../Records/EXP_03_NMNIST/test/2021-02-16_lagorce_rdn_None_True_[0.25, 1]_[4, 8, 16]_[5000.0, 50000.0, 500000.0]_[2, 4, 8]_False_10_[900, None]_histo.pkl\n",
      "time jitter -> var = 900\n"
     ]
    },
    {
     "name": "stderr",
     "output_type": "stream",
     "text": [
      "100%|██████████| 10/10 [00:29<00:00,  2.99s/it]\n"
     ]
    },
    {
     "name": "stdout",
     "output_type": "stream",
     "text": [
      "-----------------------------------------------SCORES-----------------------------------------------\n",
      "Classification scores with HOTS measures: bhatta = 70.0% - eucli = 70.0% - norm = 70.0%\n",
      "Classification scores with entropy: Kullback-Leibler = 80.0% - Jensen-Shannon = 70.0%\n",
      "----------------------------------------------------------------------------------------------------\n",
      "../Records/EXP_03_NMNIST/test/2021-02-16_lagorce_rdn_None_True_[0.25, 1]_[4, 8, 16]_[5000.0, 50000.0, 500000.0]_[2, 4, 8]_False_10_[1600, None]_histo.pkl\n",
      "time jitter -> var = 1600\n"
     ]
    },
    {
     "name": "stderr",
     "output_type": "stream",
     "text": [
      "100%|██████████| 10/10 [00:34<00:00,  3.49s/it]\n"
     ]
    },
    {
     "name": "stdout",
     "output_type": "stream",
     "text": [
      "-----------------------------------------------SCORES-----------------------------------------------\n",
      "Classification scores with HOTS measures: bhatta = 30.0% - eucli = 20.0% - norm = 20.0%\n",
      "Classification scores with entropy: Kullback-Leibler = 30.0% - Jensen-Shannon = 30.0%\n",
      "----------------------------------------------------------------------------------------------------\n",
      "../Records/EXP_03_NMNIST/test/2021-02-16_lagorce_rdn_None_True_[0.25, 1]_[4, 8, 16]_[5000.0, 50000.0, 500000.0]_[2, 4, 8]_False_10_[2500, None]_histo.pkl\n",
      "time jitter -> var = 2500\n"
     ]
    },
    {
     "name": "stderr",
     "output_type": "stream",
     "text": [
      "100%|██████████| 10/10 [00:30<00:00,  3.05s/it]\n"
     ]
    },
    {
     "name": "stdout",
     "output_type": "stream",
     "text": [
      "-----------------------------------------------SCORES-----------------------------------------------\n",
      "Classification scores with HOTS measures: bhatta = 40.0% - eucli = 40.0% - norm = 40.0%\n",
      "Classification scores with entropy: Kullback-Leibler = 40.0% - Jensen-Shannon = 40.0%\n",
      "----------------------------------------------------------------------------------------------------\n",
      "../Records/EXP_03_NMNIST/test/2021-02-16_lagorce_rdn_None_True_[0.25, 1]_[4, 8, 16]_[5000.0, 50000.0, 500000.0]_[2, 4, 8]_False_10_[3600, None]_histo.pkl\n",
      "time jitter -> var = 3600\n"
     ]
    },
    {
     "name": "stderr",
     "output_type": "stream",
     "text": [
      "100%|██████████| 10/10 [00:36<00:00,  3.64s/it]\n"
     ]
    },
    {
     "name": "stdout",
     "output_type": "stream",
     "text": [
      "-----------------------------------------------SCORES-----------------------------------------------\n",
      "Classification scores with HOTS measures: bhatta = 20.0% - eucli = 30.0% - norm = 30.0%\n",
      "Classification scores with entropy: Kullback-Leibler = 40.0% - Jensen-Shannon = 20.0%\n",
      "----------------------------------------------------------------------------------------------------\n",
      "../Records/EXP_03_NMNIST/test/2021-02-16_lagorce_rdn_None_True_[0.25, 1]_[4, 8, 16]_[5000.0, 50000.0, 500000.0]_[2, 4, 8]_False_10_[4900, None]_histo.pkl\n",
      "time jitter -> var = 4900\n"
     ]
    },
    {
     "name": "stderr",
     "output_type": "stream",
     "text": [
      "100%|██████████| 10/10 [00:38<00:00,  3.83s/it]\n"
     ]
    },
    {
     "name": "stdout",
     "output_type": "stream",
     "text": [
      "-----------------------------------------------SCORES-----------------------------------------------\n",
      "Classification scores with HOTS measures: bhatta = 40.0% - eucli = 50.0% - norm = 50.0%\n",
      "Classification scores with entropy: Kullback-Leibler = 60.0% - Jensen-Shannon = 40.0%\n",
      "----------------------------------------------------------------------------------------------------\n",
      "../Records/EXP_03_NMNIST/test/2021-02-16_lagorce_rdn_None_True_[0.25, 1]_[4, 8, 16]_[5000.0, 50000.0, 500000.0]_[2, 4, 8]_False_10_[6400, None]_histo.pkl\n",
      "time jitter -> var = 6400\n"
     ]
    },
    {
     "name": "stderr",
     "output_type": "stream",
     "text": [
      "100%|██████████| 10/10 [00:30<00:00,  3.09s/it]\n"
     ]
    },
    {
     "name": "stdout",
     "output_type": "stream",
     "text": [
      "-----------------------------------------------SCORES-----------------------------------------------\n",
      "Classification scores with HOTS measures: bhatta = 50.0% - eucli = 50.0% - norm = 40.0%\n",
      "Classification scores with entropy: Kullback-Leibler = 50.0% - Jensen-Shannon = 50.0%\n",
      "----------------------------------------------------------------------------------------------------\n",
      "../Records/EXP_03_NMNIST/test/2021-02-16_lagorce_rdn_None_True_[0.25, 1]_[4, 8, 16]_[5000.0, 50000.0, 500000.0]_[2, 4, 8]_False_10_[8100, None]_histo.pkl\n",
      "time jitter -> var = 8100\n"
     ]
    },
    {
     "name": "stderr",
     "output_type": "stream",
     "text": [
      "100%|██████████| 10/10 [00:37<00:00,  3.70s/it]\n"
     ]
    },
    {
     "name": "stdout",
     "output_type": "stream",
     "text": [
      "-----------------------------------------------SCORES-----------------------------------------------\n",
      "Classification scores with HOTS measures: bhatta = 30.0% - eucli = 20.0% - norm = 20.0%\n",
      "Classification scores with entropy: Kullback-Leibler = 30.0% - Jensen-Shannon = 30.0%\n",
      "----------------------------------------------------------------------------------------------------\n",
      "../Records/EXP_03_NMNIST/test/2021-02-16_lagorce_rdn_None_True_[0.25, 1]_[4, 8, 16]_[5000.0, 50000.0, 500000.0]_[2, 4, 8]_False_10_[10000, None]_histo.pkl\n",
      "time jitter -> var = 10000\n"
     ]
    },
    {
     "name": "stderr",
     "output_type": "stream",
     "text": [
      "100%|██████████| 10/10 [00:33<00:00,  3.35s/it]\n"
     ]
    },
    {
     "name": "stdout",
     "output_type": "stream",
     "text": [
      "-----------------------------------------------SCORES-----------------------------------------------\n",
      "Classification scores with HOTS measures: bhatta = 20.0% - eucli = 10.0% - norm = 10.0%\n",
      "Classification scores with entropy: Kullback-Leibler = 30.0% - Jensen-Shannon = 20.0%\n",
      "----------------------------------------------------------------------------------------------------\n",
      "../Records/EXP_03_NMNIST/test/2021-02-16_lagorce_rdn_None_True_[0.25, 1]_[4, 8, 16]_[5000.0, 50000.0, 500000.0]_[2, 4, 8]_False_10_[12100, None]_histo.pkl\n",
      "time jitter -> var = 12100\n"
     ]
    },
    {
     "name": "stderr",
     "output_type": "stream",
     "text": [
      "100%|██████████| 10/10 [00:28<00:00,  2.88s/it]\n"
     ]
    },
    {
     "name": "stdout",
     "output_type": "stream",
     "text": [
      "-----------------------------------------------SCORES-----------------------------------------------\n",
      "Classification scores with HOTS measures: bhatta = 50.0% - eucli = 50.0% - norm = 50.0%\n",
      "Classification scores with entropy: Kullback-Leibler = 50.0% - Jensen-Shannon = 50.0%\n",
      "----------------------------------------------------------------------------------------------------\n",
      "../Records/EXP_03_NMNIST/test/2021-02-16_lagorce_rdn_None_True_[0.25, 1]_[4, 8, 16]_[5000.0, 50000.0, 500000.0]_[2, 4, 8]_False_10_[14400, None]_histo.pkl\n",
      "time jitter -> var = 14400\n"
     ]
    },
    {
     "name": "stderr",
     "output_type": "stream",
     "text": [
      "100%|██████████| 10/10 [00:24<00:00,  2.40s/it]\n"
     ]
    },
    {
     "name": "stdout",
     "output_type": "stream",
     "text": [
      "-----------------------------------------------SCORES-----------------------------------------------\n",
      "Classification scores with HOTS measures: bhatta = 20.0% - eucli = 10.0% - norm = 10.0%\n",
      "Classification scores with entropy: Kullback-Leibler = 20.0% - Jensen-Shannon = 20.0%\n",
      "----------------------------------------------------------------------------------------------------\n",
      "../Records/EXP_03_NMNIST/test/2021-02-16_lagorce_rdn_None_True_[0.25, 1]_[4, 8, 16]_[5000.0, 50000.0, 500000.0]_[2, 4, 8]_False_10_[16900, None]_histo.pkl\n",
      "time jitter -> var = 16900\n"
     ]
    },
    {
     "name": "stderr",
     "output_type": "stream",
     "text": [
      "100%|██████████| 10/10 [00:17<00:00,  1.77s/it]\n"
     ]
    },
    {
     "name": "stdout",
     "output_type": "stream",
     "text": [
      "-----------------------------------------------SCORES-----------------------------------------------\n",
      "Classification scores with HOTS measures: bhatta = 10.0% - eucli = 10.0% - norm = 10.0%\n",
      "Classification scores with entropy: Kullback-Leibler = 10.0% - Jensen-Shannon = 10.0%\n",
      "----------------------------------------------------------------------------------------------------\n",
      "../Records/EXP_03_NMNIST/test/2021-02-16_lagorce_rdn_None_True_[0.25, 1]_[4, 8, 16]_[5000.0, 50000.0, 500000.0]_[2, 4, 8]_False_10_[19600, None]_histo.pkl\n",
      "time jitter -> var = 19600\n"
     ]
    },
    {
     "name": "stderr",
     "output_type": "stream",
     "text": [
      "100%|██████████| 10/10 [00:13<00:00,  1.38s/it]\n"
     ]
    },
    {
     "name": "stdout",
     "output_type": "stream",
     "text": [
      "-----------------------------------------------SCORES-----------------------------------------------\n",
      "Classification scores with HOTS measures: bhatta = 60.0% - eucli = 60.0% - norm = 60.0%\n",
      "Classification scores with entropy: Kullback-Leibler = 60.0% - Jensen-Shannon = 60.0%\n",
      "----------------------------------------------------------------------------------------------------\n",
      "../Records/EXP_03_NMNIST/test/2021-02-16_lagorce_rdn_None_True_[0.25, 1]_[4, 8, 16]_[5000.0, 50000.0, 500000.0]_[2, 4, 8]_False_10_[22500, None]_histo.pkl\n",
      "time jitter -> var = 22500\n"
     ]
    },
    {
     "name": "stderr",
     "output_type": "stream",
     "text": [
      "100%|██████████| 10/10 [00:12<00:00,  1.27s/it]\n"
     ]
    },
    {
     "name": "stdout",
     "output_type": "stream",
     "text": [
      "-----------------------------------------------SCORES-----------------------------------------------\n",
      "Classification scores with HOTS measures: bhatta = 20.0% - eucli = 20.0% - norm = 20.0%\n",
      "Classification scores with entropy: Kullback-Leibler = 20.0% - Jensen-Shannon = 20.0%\n",
      "----------------------------------------------------------------------------------------------------\n",
      "../Records/EXP_03_NMNIST/test/2021-02-16_lagorce_rdn_None_True_[0.25, 1]_[4, 8, 16]_[5000.0, 50000.0, 500000.0]_[2, 4, 8]_False_10_[25600, None]_histo.pkl\n",
      "time jitter -> var = 25600\n"
     ]
    },
    {
     "name": "stderr",
     "output_type": "stream",
     "text": [
      "100%|██████████| 10/10 [00:09<00:00,  1.10it/s]\n"
     ]
    },
    {
     "name": "stdout",
     "output_type": "stream",
     "text": [
      "-----------------------------------------------SCORES-----------------------------------------------\n",
      "Classification scores with HOTS measures: bhatta = 30.0% - eucli = 30.0% - norm = 40.0%\n",
      "Classification scores with entropy: Kullback-Leibler = 30.0% - Jensen-Shannon = 30.0%\n",
      "----------------------------------------------------------------------------------------------------\n",
      "../Records/EXP_03_NMNIST/test/2021-02-16_lagorce_rdn_None_True_[0.25, 1]_[4, 8, 16]_[5000.0, 50000.0, 500000.0]_[2, 4, 8]_False_10_[28900, None]_histo.pkl\n",
      "time jitter -> var = 28900\n"
     ]
    },
    {
     "name": "stderr",
     "output_type": "stream",
     "text": [
      "100%|██████████| 10/10 [00:08<00:00,  1.18it/s]\n"
     ]
    },
    {
     "name": "stdout",
     "output_type": "stream",
     "text": [
      "-----------------------------------------------SCORES-----------------------------------------------\n",
      "Classification scores with HOTS measures: bhatta = 40.0% - eucli = 30.0% - norm = 30.0%\n",
      "Classification scores with entropy: Kullback-Leibler = 40.0% - Jensen-Shannon = 40.0%\n",
      "----------------------------------------------------------------------------------------------------\n",
      "../Records/EXP_03_NMNIST/test/2021-02-16_lagorce_rdn_None_True_[0.25, 1]_[4, 8, 16]_[5000.0, 50000.0, 500000.0]_[2, 4, 8]_False_10_[32400, None]_histo.pkl\n",
      "time jitter -> var = 32400\n"
     ]
    },
    {
     "name": "stderr",
     "output_type": "stream",
     "text": [
      "100%|██████████| 10/10 [00:07<00:00,  1.30it/s]\n"
     ]
    },
    {
     "name": "stdout",
     "output_type": "stream",
     "text": [
      "-----------------------------------------------SCORES-----------------------------------------------\n",
      "Classification scores with HOTS measures: bhatta = 30.0% - eucli = 40.0% - norm = 50.0%\n",
      "Classification scores with entropy: Kullback-Leibler = 10.0% - Jensen-Shannon = 20.0%\n",
      "----------------------------------------------------------------------------------------------------\n",
      "../Records/EXP_03_NMNIST/test/2021-02-16_lagorce_rdn_None_True_[0.25, 1]_[4, 8, 16]_[5000.0, 50000.0, 500000.0]_[2, 4, 8]_False_10_[36100, None]_histo.pkl\n",
      "time jitter -> var = 36100\n"
     ]
    },
    {
     "name": "stderr",
     "output_type": "stream",
     "text": [
      "100%|██████████| 10/10 [00:06<00:00,  1.46it/s]\n"
     ]
    },
    {
     "name": "stdout",
     "output_type": "stream",
     "text": [
      "-----------------------------------------------SCORES-----------------------------------------------\n",
      "Classification scores with HOTS measures: bhatta = 20.0% - eucli = 10.0% - norm = 10.0%\n",
      "Classification scores with entropy: Kullback-Leibler = 20.0% - Jensen-Shannon = 20.0%\n",
      "----------------------------------------------------------------------------------------------------\n",
      "../Records/EXP_03_NMNIST/test/2021-02-16_lagorce_rdn_None_True_[0.25, 1]_[4, 8, 16]_[5000.0, 50000.0, 500000.0]_[2, 4, 8]_False_10_[40000, None]_histo.pkl\n",
      "time jitter -> var = 40000\n"
     ]
    },
    {
     "name": "stderr",
     "output_type": "stream",
     "text": [
      "100%|██████████| 10/10 [00:07<00:00,  1.38it/s]\n"
     ]
    },
    {
     "name": "stdout",
     "output_type": "stream",
     "text": [
      "-----------------------------------------------SCORES-----------------------------------------------\n",
      "Classification scores with HOTS measures: bhatta = 20.0% - eucli = 20.0% - norm = 20.0%\n",
      "Classification scores with entropy: Kullback-Leibler = 20.0% - Jensen-Shannon = 20.0%\n",
      "----------------------------------------------------------------------------------------------------\n",
      "../Records/EXP_03_NMNIST/test/2021-02-16_lagorce_rdn_None_True_[0.25, 1]_[4, 8, 16]_[5000.0, 50000.0, 500000.0]_[2, 4, 8]_False_10_[44100, None]_histo.pkl\n",
      "time jitter -> var = 44100\n"
     ]
    },
    {
     "name": "stderr",
     "output_type": "stream",
     "text": [
      "100%|██████████| 10/10 [00:07<00:00,  1.38it/s]\n"
     ]
    },
    {
     "name": "stdout",
     "output_type": "stream",
     "text": [
      "-----------------------------------------------SCORES-----------------------------------------------\n",
      "Classification scores with HOTS measures: bhatta = 0.0% - eucli = 0.0% - norm = 0.0%\n",
      "Classification scores with entropy: Kullback-Leibler = 0.0% - Jensen-Shannon = 0.0%\n",
      "----------------------------------------------------------------------------------------------------\n",
      "../Records/EXP_03_NMNIST/test/2021-02-16_lagorce_rdn_None_True_[0.25, 1]_[4, 8, 16]_[5000.0, 50000.0, 500000.0]_[2, 4, 8]_False_10_[48400, None]_histo.pkl\n",
      "time jitter -> var = 48400\n"
     ]
    },
    {
     "name": "stderr",
     "output_type": "stream",
     "text": [
      "100%|██████████| 10/10 [00:06<00:00,  1.45it/s]\n"
     ]
    },
    {
     "name": "stdout",
     "output_type": "stream",
     "text": [
      "-----------------------------------------------SCORES-----------------------------------------------\n",
      "Classification scores with HOTS measures: bhatta = 0.0% - eucli = 10.0% - norm = 0.0%\n",
      "Classification scores with entropy: Kullback-Leibler = 0.0% - Jensen-Shannon = 0.0%\n",
      "----------------------------------------------------------------------------------------------------\n",
      "../Records/EXP_03_NMNIST/test/2021-02-16_lagorce_rdn_None_True_[0.25, 1]_[4, 8, 16]_[5000.0, 50000.0, 500000.0]_[2, 4, 8]_False_10_[52900, None]_histo.pkl\n",
      "time jitter -> var = 52900\n"
     ]
    },
    {
     "name": "stderr",
     "output_type": "stream",
     "text": [
      "100%|██████████| 10/10 [00:05<00:00,  1.68it/s]\n"
     ]
    },
    {
     "name": "stdout",
     "output_type": "stream",
     "text": [
      "-----------------------------------------------SCORES-----------------------------------------------\n",
      "Classification scores with HOTS measures: bhatta = 10.0% - eucli = 0.0% - norm = 20.0%\n",
      "Classification scores with entropy: Kullback-Leibler = 10.0% - Jensen-Shannon = 10.0%\n",
      "----------------------------------------------------------------------------------------------------\n",
      "../Records/EXP_03_NMNIST/test/2021-02-16_lagorce_rdn_None_True_[0.25, 1]_[4, 8, 16]_[5000.0, 50000.0, 500000.0]_[2, 4, 8]_False_10_[57600, None]_histo.pkl\n",
      "time jitter -> var = 57600\n"
     ]
    },
    {
     "name": "stderr",
     "output_type": "stream",
     "text": [
      "100%|██████████| 10/10 [00:06<00:00,  1.63it/s]\n"
     ]
    },
    {
     "name": "stdout",
     "output_type": "stream",
     "text": [
      "-----------------------------------------------SCORES-----------------------------------------------\n",
      "Classification scores with HOTS measures: bhatta = 0.0% - eucli = 0.0% - norm = 0.0%\n",
      "Classification scores with entropy: Kullback-Leibler = 10.0% - Jensen-Shannon = 0.0%\n",
      "----------------------------------------------------------------------------------------------------\n",
      "../Records/EXP_03_NMNIST/test/2021-02-16_lagorce_rdn_None_True_[0.25, 1]_[4, 8, 16]_[5000.0, 50000.0, 500000.0]_[2, 4, 8]_False_10_[62500, None]_histo.pkl\n",
      "time jitter -> var = 62500\n"
     ]
    },
    {
     "name": "stderr",
     "output_type": "stream",
     "text": [
      "100%|██████████| 10/10 [00:06<00:00,  1.62it/s]\n"
     ]
    },
    {
     "name": "stdout",
     "output_type": "stream",
     "text": [
      "-----------------------------------------------SCORES-----------------------------------------------\n",
      "Classification scores with HOTS measures: bhatta = 10.0% - eucli = 10.0% - norm = 10.0%\n",
      "Classification scores with entropy: Kullback-Leibler = 20.0% - Jensen-Shannon = 10.0%\n",
      "----------------------------------------------------------------------------------------------------\n",
      "../Records/EXP_03_NMNIST/test/2021-02-16_lagorce_rdn_None_True_[0.25, 1]_[4, 8, 16]_[5000.0, 50000.0, 500000.0]_[2, 4, 8]_False_10_[67600, None]_histo.pkl\n",
      "time jitter -> var = 67600\n"
     ]
    },
    {
     "name": "stderr",
     "output_type": "stream",
     "text": [
      "100%|██████████| 10/10 [00:05<00:00,  1.68it/s]\n"
     ]
    },
    {
     "name": "stdout",
     "output_type": "stream",
     "text": [
      "-----------------------------------------------SCORES-----------------------------------------------\n",
      "Classification scores with HOTS measures: bhatta = 30.0% - eucli = 30.0% - norm = 40.0%\n",
      "Classification scores with entropy: Kullback-Leibler = 0.0% - Jensen-Shannon = 30.0%\n",
      "----------------------------------------------------------------------------------------------------\n",
      "../Records/EXP_03_NMNIST/test/2021-02-16_lagorce_rdn_None_True_[0.25, 1]_[4, 8, 16]_[5000.0, 50000.0, 500000.0]_[2, 4, 8]_False_10_[72900, None]_histo.pkl\n",
      "time jitter -> var = 72900\n"
     ]
    },
    {
     "name": "stderr",
     "output_type": "stream",
     "text": [
      "100%|██████████| 10/10 [00:05<00:00,  1.87it/s]\n"
     ]
    },
    {
     "name": "stdout",
     "output_type": "stream",
     "text": [
      "-----------------------------------------------SCORES-----------------------------------------------\n",
      "Classification scores with HOTS measures: bhatta = 30.0% - eucli = 30.0% - norm = 30.0%\n",
      "Classification scores with entropy: Kullback-Leibler = 30.0% - Jensen-Shannon = 30.0%\n",
      "----------------------------------------------------------------------------------------------------\n",
      "../Records/EXP_03_NMNIST/test/2021-02-16_lagorce_rdn_None_True_[0.25, 1]_[4, 8, 16]_[5000.0, 50000.0, 500000.0]_[2, 4, 8]_False_10_[78400, None]_histo.pkl\n",
      "time jitter -> var = 78400\n"
     ]
    },
    {
     "name": "stderr",
     "output_type": "stream",
     "text": [
      "100%|██████████| 10/10 [00:05<00:00,  1.84it/s]\n"
     ]
    },
    {
     "name": "stdout",
     "output_type": "stream",
     "text": [
      "-----------------------------------------------SCORES-----------------------------------------------\n",
      "Classification scores with HOTS measures: bhatta = 10.0% - eucli = 10.0% - norm = 10.0%\n",
      "Classification scores with entropy: Kullback-Leibler = 0.0% - Jensen-Shannon = 10.0%\n",
      "----------------------------------------------------------------------------------------------------\n",
      "../Records/EXP_03_NMNIST/test/2021-02-16_lagorce_rdn_None_True_[0.25, 1]_[4, 8, 16]_[5000.0, 50000.0, 500000.0]_[2, 4, 8]_False_10_[84100, None]_histo.pkl\n",
      "time jitter -> var = 84100\n"
     ]
    },
    {
     "name": "stderr",
     "output_type": "stream",
     "text": [
      "100%|██████████| 10/10 [00:04<00:00,  2.02it/s]"
     ]
    },
    {
     "name": "stdout",
     "output_type": "stream",
     "text": [
      "-----------------------------------------------SCORES-----------------------------------------------\n",
      "Classification scores with HOTS measures: bhatta = 20.0% - eucli = 20.0% - norm = 20.0%\n",
      "Classification scores with entropy: Kullback-Leibler = 10.0% - Jensen-Shannon = 20.0%\n",
      "----------------------------------------------------------------------------------------------------\n",
      "loading... - temporal jitter = 84100 - score = 0.2\r"
     ]
    },
    {
     "name": "stderr",
     "output_type": "stream",
     "text": [
      "\n"
     ]
    }
   ],
   "source": [
    "nb_train = 50\n",
    "nb_test = 10\n",
    "jit_s = np.arange(0,6,0.2)\n",
    "jit_t = np.arange(0,300,10)\n",
    "jit_s, jit_t = jit_s**2, jit_t**2\n",
    "\n",
    "score_T, jit_t, score_S, jit_s = runjit(timestr, name, filt, tau, nblay, nbclust, sigma, homeinv, jitter, jit_s, jit_t, nb_train, nb_test, verbose=True)"
   ]
  },
  {
   "cell_type": "code",
   "execution_count": null,
   "metadata": {},
   "outputs": [],
   "source": []
  }
 ],
 "metadata": {
  "kernelspec": {
   "display_name": "Python 3",
   "language": "python",
   "name": "python3"
  },
  "language_info": {
   "codemirror_mode": {
    "name": "ipython",
    "version": 3
   },
   "file_extension": ".py",
   "mimetype": "text/x-python",
   "name": "python",
   "nbconvert_exporter": "python",
   "pygments_lexer": "ipython3",
   "version": "3.8.5"
  },
  "widgets": {
   "application/vnd.jupyter.widget-state+json": {
    "state": {
     "0da042dd27b4491cbf5e1439b9531bfe": {
      "model_module": "@jupyter-widgets/controls",
      "model_module_version": "1.5.0",
      "model_name": "HTMLModel",
      "state": {
       "_dom_classes": [],
       "_model_module": "@jupyter-widgets/controls",
       "_model_module_version": "1.5.0",
       "_model_name": "HTMLModel",
       "_view_count": null,
       "_view_module": "@jupyter-widgets/controls",
       "_view_module_version": "1.5.0",
       "_view_name": "HTMLView",
       "description": "",
       "description_tooltip": null,
       "layout": "IPY_MODEL_0e52721d40cf45448655ac7b73fe220d",
       "placeholder": "​",
       "style": "IPY_MODEL_b5e83c3495fe4c4ca490a3e64a7e3b07",
       "value": " 83/83 [03:41&lt;00:00,  2.73s/it]"
      }
     },
     "0e52721d40cf45448655ac7b73fe220d": {
      "model_module": "@jupyter-widgets/base",
      "model_module_version": "1.2.0",
      "model_name": "LayoutModel",
      "state": {
       "_model_module": "@jupyter-widgets/base",
       "_model_module_version": "1.2.0",
       "_model_name": "LayoutModel",
       "_view_count": null,
       "_view_module": "@jupyter-widgets/base",
       "_view_module_version": "1.2.0",
       "_view_name": "LayoutView",
       "align_content": null,
       "align_items": null,
       "align_self": null,
       "border": null,
       "bottom": null,
       "display": null,
       "flex": null,
       "flex_flow": null,
       "grid_area": null,
       "grid_auto_columns": null,
       "grid_auto_flow": null,
       "grid_auto_rows": null,
       "grid_column": null,
       "grid_gap": null,
       "grid_row": null,
       "grid_template_areas": null,
       "grid_template_columns": null,
       "grid_template_rows": null,
       "height": null,
       "justify_content": null,
       "justify_items": null,
       "left": null,
       "margin": null,
       "max_height": null,
       "max_width": null,
       "min_height": null,
       "min_width": null,
       "object_fit": null,
       "object_position": null,
       "order": null,
       "overflow": null,
       "overflow_x": null,
       "overflow_y": null,
       "padding": null,
       "right": null,
       "top": null,
       "visibility": null,
       "width": null
      }
     },
     "1128ab1411054f88aa20a0706032499c": {
      "model_module": "@jupyter-widgets/controls",
      "model_module_version": "1.5.0",
      "model_name": "DescriptionStyleModel",
      "state": {
       "_model_module": "@jupyter-widgets/controls",
       "_model_module_version": "1.5.0",
       "_model_name": "DescriptionStyleModel",
       "_view_count": null,
       "_view_module": "@jupyter-widgets/base",
       "_view_module_version": "1.2.0",
       "_view_name": "StyleView",
       "description_width": ""
      }
     },
     "4cf3a82328224815af7267d1d96c3b98": {
      "model_module": "@jupyter-widgets/base",
      "model_module_version": "1.2.0",
      "model_name": "LayoutModel",
      "state": {
       "_model_module": "@jupyter-widgets/base",
       "_model_module_version": "1.2.0",
       "_model_name": "LayoutModel",
       "_view_count": null,
       "_view_module": "@jupyter-widgets/base",
       "_view_module_version": "1.2.0",
       "_view_name": "LayoutView",
       "align_content": null,
       "align_items": null,
       "align_self": null,
       "border": null,
       "bottom": null,
       "display": null,
       "flex": null,
       "flex_flow": null,
       "grid_area": null,
       "grid_auto_columns": null,
       "grid_auto_flow": null,
       "grid_auto_rows": null,
       "grid_column": null,
       "grid_gap": null,
       "grid_row": null,
       "grid_template_areas": null,
       "grid_template_columns": null,
       "grid_template_rows": null,
       "height": null,
       "justify_content": null,
       "justify_items": null,
       "left": null,
       "margin": null,
       "max_height": null,
       "max_width": null,
       "min_height": null,
       "min_width": null,
       "object_fit": null,
       "object_position": null,
       "order": null,
       "overflow": null,
       "overflow_x": null,
       "overflow_y": null,
       "padding": null,
       "right": null,
       "top": null,
       "visibility": null,
       "width": null
      }
     },
     "538350f4422940ceba91db0249b9186d": {
      "model_module": "@jupyter-widgets/base",
      "model_module_version": "1.2.0",
      "model_name": "LayoutModel",
      "state": {
       "_model_module": "@jupyter-widgets/base",
       "_model_module_version": "1.2.0",
       "_model_name": "LayoutModel",
       "_view_count": null,
       "_view_module": "@jupyter-widgets/base",
       "_view_module_version": "1.2.0",
       "_view_name": "LayoutView",
       "align_content": null,
       "align_items": null,
       "align_self": null,
       "border": null,
       "bottom": null,
       "display": null,
       "flex": null,
       "flex_flow": null,
       "grid_area": null,
       "grid_auto_columns": null,
       "grid_auto_flow": null,
       "grid_auto_rows": null,
       "grid_column": null,
       "grid_gap": null,
       "grid_row": null,
       "grid_template_areas": null,
       "grid_template_columns": null,
       "grid_template_rows": null,
       "height": null,
       "justify_content": null,
       "justify_items": null,
       "left": null,
       "margin": null,
       "max_height": null,
       "max_width": null,
       "min_height": null,
       "min_width": null,
       "object_fit": null,
       "object_position": null,
       "order": null,
       "overflow": null,
       "overflow_x": null,
       "overflow_y": null,
       "padding": null,
       "right": null,
       "top": null,
       "visibility": null,
       "width": null
      }
     },
     "581abfd04d32498b944ce1322900492a": {
      "model_module": "@jupyter-widgets/controls",
      "model_module_version": "1.5.0",
      "model_name": "FloatProgressModel",
      "state": {
       "_dom_classes": [],
       "_model_module": "@jupyter-widgets/controls",
       "_model_module_version": "1.5.0",
       "_model_name": "FloatProgressModel",
       "_view_count": null,
       "_view_module": "@jupyter-widgets/controls",
       "_view_module_version": "1.5.0",
       "_view_name": "ProgressView",
       "bar_style": "success",
       "description": "",
       "description_tooltip": null,
       "layout": "IPY_MODEL_538350f4422940ceba91db0249b9186d",
       "max": 83,
       "min": 0,
       "orientation": "horizontal",
       "style": "IPY_MODEL_d0e13546bf994f45a20db833bdb11363",
       "value": 83
      }
     },
     "7ce983a38ab1410e81271bcc7d473ba6": {
      "model_module": "@jupyter-widgets/controls",
      "model_module_version": "1.5.0",
      "model_name": "HBoxModel",
      "state": {
       "_dom_classes": [],
       "_model_module": "@jupyter-widgets/controls",
       "_model_module_version": "1.5.0",
       "_model_name": "HBoxModel",
       "_view_count": null,
       "_view_module": "@jupyter-widgets/controls",
       "_view_module_version": "1.5.0",
       "_view_name": "HBoxView",
       "box_style": "",
       "children": [
        "IPY_MODEL_c17e6e40b81143c2a014105e85beed1f",
        "IPY_MODEL_581abfd04d32498b944ce1322900492a",
        "IPY_MODEL_0da042dd27b4491cbf5e1439b9531bfe"
       ],
       "layout": "IPY_MODEL_4cf3a82328224815af7267d1d96c3b98"
      }
     },
     "b5e83c3495fe4c4ca490a3e64a7e3b07": {
      "model_module": "@jupyter-widgets/controls",
      "model_module_version": "1.5.0",
      "model_name": "DescriptionStyleModel",
      "state": {
       "_model_module": "@jupyter-widgets/controls",
       "_model_module_version": "1.5.0",
       "_model_name": "DescriptionStyleModel",
       "_view_count": null,
       "_view_module": "@jupyter-widgets/base",
       "_view_module_version": "1.2.0",
       "_view_name": "StyleView",
       "description_width": ""
      }
     },
     "c17e6e40b81143c2a014105e85beed1f": {
      "model_module": "@jupyter-widgets/controls",
      "model_module_version": "1.5.0",
      "model_name": "HTMLModel",
      "state": {
       "_dom_classes": [],
       "_model_module": "@jupyter-widgets/controls",
       "_model_module_version": "1.5.0",
       "_model_name": "HTMLModel",
       "_view_count": null,
       "_view_module": "@jupyter-widgets/controls",
       "_view_module_version": "1.5.0",
       "_view_name": "HTMLView",
       "description": "",
       "description_tooltip": null,
       "layout": "IPY_MODEL_c707940644974e3ba5d9a87f344d81c1",
       "placeholder": "​",
       "style": "IPY_MODEL_1128ab1411054f88aa20a0706032499c",
       "value": "100%"
      }
     },
     "c707940644974e3ba5d9a87f344d81c1": {
      "model_module": "@jupyter-widgets/base",
      "model_module_version": "1.2.0",
      "model_name": "LayoutModel",
      "state": {
       "_model_module": "@jupyter-widgets/base",
       "_model_module_version": "1.2.0",
       "_model_name": "LayoutModel",
       "_view_count": null,
       "_view_module": "@jupyter-widgets/base",
       "_view_module_version": "1.2.0",
       "_view_name": "LayoutView",
       "align_content": null,
       "align_items": null,
       "align_self": null,
       "border": null,
       "bottom": null,
       "display": null,
       "flex": null,
       "flex_flow": null,
       "grid_area": null,
       "grid_auto_columns": null,
       "grid_auto_flow": null,
       "grid_auto_rows": null,
       "grid_column": null,
       "grid_gap": null,
       "grid_row": null,
       "grid_template_areas": null,
       "grid_template_columns": null,
       "grid_template_rows": null,
       "height": null,
       "justify_content": null,
       "justify_items": null,
       "left": null,
       "margin": null,
       "max_height": null,
       "max_width": null,
       "min_height": null,
       "min_width": null,
       "object_fit": null,
       "object_position": null,
       "order": null,
       "overflow": null,
       "overflow_x": null,
       "overflow_y": null,
       "padding": null,
       "right": null,
       "top": null,
       "visibility": null,
       "width": null
      }
     },
     "d0e13546bf994f45a20db833bdb11363": {
      "model_module": "@jupyter-widgets/controls",
      "model_module_version": "1.5.0",
      "model_name": "ProgressStyleModel",
      "state": {
       "_model_module": "@jupyter-widgets/controls",
       "_model_module_version": "1.5.0",
       "_model_name": "ProgressStyleModel",
       "_view_count": null,
       "_view_module": "@jupyter-widgets/base",
       "_view_module_version": "1.2.0",
       "_view_name": "StyleView",
       "bar_color": null,
       "description_width": ""
      }
     }
    },
    "version_major": 2,
    "version_minor": 0
   }
  }
 },
 "nbformat": 4,
 "nbformat_minor": 4
}
