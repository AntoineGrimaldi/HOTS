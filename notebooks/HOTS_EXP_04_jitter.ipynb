{
 "cells": [
  {
   "cell_type": "markdown",
   "metadata": {},
   "source": [
    "# HOTS_EXP_04_jitter\n",
    "\n",
    "Makes performance test with different jitter values"
   ]
  },
  {
   "cell_type": "code",
   "execution_count": 1,
   "metadata": {},
   "outputs": [
    {
     "name": "stdout",
     "output_type": "stream",
     "text": [
      "/Users/laurentperrinet/quantic/science/HomeHots/HOTS_clone_laurent/HOTS\n"
     ]
    }
   ],
   "source": [
    "%cd '../HOTS'\n",
    "from Tools import runjit\n",
    "import numpy as np"
   ]
  },
  {
   "cell_type": "markdown",
   "metadata": {},
   "source": [
    "## Network parameters"
   ]
  },
  {
   "cell_type": "code",
   "execution_count": 2,
   "metadata": {},
   "outputs": [],
   "source": [
    "name = 'homhots'\n",
    "sigma = None\n",
    "pooling = False\n",
    "homeinv = False\n",
    "jitonic = [None,None] #[temporal, spatial]\n",
    "jitter = False\n",
    "tau = 5\n",
    "nblay = 3\n",
    "nbclust = 4\n",
    "filt = 2\n",
    "timestr = '2021-02-16'\n",
    "record_path = '../Records/EXP_03_NMNIST/'"
   ]
  },
  {
   "cell_type": "markdown",
   "metadata": {},
   "source": [
    "## Run for jitter values and number of digits defined below"
   ]
  },
  {
   "cell_type": "code",
   "execution_count": 3,
   "metadata": {},
   "outputs": [
    {
     "name": "stdout",
     "output_type": "stream",
     "text": [
      "training set size: 5000 - testing set: 833\n",
      "../Records/EXP_03_NMNIST/train/2021-02-16_lagorce_rdn_None_True_[0.25, 1]_[4, 8, 16]_[5000.0, 50000.0, 500000.0]_[2, 4, 8]_False_5000_[None, None]_histo.pkl\n",
      "no jitter\n"
     ]
    },
    {
     "name": "stderr",
     "output_type": "stream",
     "text": [
      "100%|██████████| 5000/5000 [5:21:28<00:00,  3.86s/it]  \n"
     ]
    },
    {
     "name": "stdout",
     "output_type": "stream",
     "text": [
      "../Records/EXP_03_NMNIST/test/2021-02-16_lagorce_rdn_None_True_[0.25, 1]_[4, 8, 16]_[5000.0, 50000.0, 500000.0]_[2, 4, 8]_False_833_[None, 0.0]_histo.pkl\n",
      "spatial jitter -> var = 0.0\n"
     ]
    },
    {
     "name": "stderr",
     "output_type": "stream",
     "text": [
      "100%|██████████| 833/833 [49:32<00:00,  3.57s/it]\n"
     ]
    },
    {
     "name": "stdout",
     "output_type": "stream",
     "text": [
      "-----------------------------------------------SCORES-----------------------------------------------\n",
      "Classification scores with HOTS measures: bhatta = 59.42376950780313% - eucli = 57.74309723889556% - norm = 56.42256902761105%\n",
      "Classification scores with entropy: Kullback-Leibler = 60.74429771908763% - Jensen-Shannon = 59.42376950780313%\n",
      "----------------------------------------------------------------------------------------------------\n",
      "../Records/EXP_03_NMNIST/test/2021-02-16_lagorce_rdn_None_True_[0.25, 1]_[4, 8, 16]_[5000.0, 50000.0, 500000.0]_[2, 4, 8]_False_833_[None, 0.0]_histo.pkl\n",
      "-----------------------------------------------SCORES-----------------------------------------------\n",
      "Classification scores with HOTS measures: bhatta = 59.42376950780313% - eucli = 57.74309723889556% - norm = 56.42256902761105%\n",
      "Classification scores with entropy: Kullback-Leibler = 60.74429771908763% - Jensen-Shannon = 59.42376950780313%\n",
      "----------------------------------------------------------------------------------------------------\n",
      "../Records/EXP_03_NMNIST/test/2021-02-16_lagorce_rdn_None_True_[0.25, 1]_[4, 8, 16]_[5000.0, 50000.0, 500000.0]_[2, 4, 8]_False_833_[None, 0.2]_histo.pkl\n",
      "spatial jitter -> var = 0.2\n"
     ]
    },
    {
     "name": "stderr",
     "output_type": "stream",
     "text": [
      "100%|██████████| 833/833 [49:07<00:00,  3.54s/it]\n"
     ]
    },
    {
     "name": "stdout",
     "output_type": "stream",
     "text": [
      "-----------------------------------------------SCORES-----------------------------------------------\n",
      "Classification scores with HOTS measures: bhatta = 57.262905162064826% - eucli = 55.58223289315727% - norm = 55.22208883553421%\n",
      "Classification scores with entropy: Kullback-Leibler = 56.662665066026406% - Jensen-Shannon = 56.062424969988%\n",
      "----------------------------------------------------------------------------------------------------\n",
      "../Records/EXP_03_NMNIST/test/2021-02-16_lagorce_rdn_None_True_[0.25, 1]_[4, 8, 16]_[5000.0, 50000.0, 500000.0]_[2, 4, 8]_False_833_[None, 0.4]_histo.pkl\n",
      "spatial jitter -> var = 0.4\n"
     ]
    },
    {
     "name": "stderr",
     "output_type": "stream",
     "text": [
      "100%|██████████| 833/833 [46:52<00:00,  3.38s/it]\n"
     ]
    },
    {
     "name": "stdout",
     "output_type": "stream",
     "text": [
      "-----------------------------------------------SCORES-----------------------------------------------\n",
      "Classification scores with HOTS measures: bhatta = 56.78271308523409% - eucli = 57.863145258103245% - norm = 57.38295318127251%\n",
      "Classification scores with entropy: Kullback-Leibler = 57.262905162064826% - Jensen-Shannon = 57.5030012004802%\n",
      "----------------------------------------------------------------------------------------------------\n",
      "../Records/EXP_03_NMNIST/test/2021-02-16_lagorce_rdn_None_True_[0.25, 1]_[4, 8, 16]_[5000.0, 50000.0, 500000.0]_[2, 4, 8]_False_833_[None, 0.6]_histo.pkl\n",
      "spatial jitter -> var = 0.6\n"
     ]
    },
    {
     "name": "stderr",
     "output_type": "stream",
     "text": [
      "100%|██████████| 833/833 [47:30<00:00,  3.42s/it] \n"
     ]
    },
    {
     "name": "stdout",
     "output_type": "stream",
     "text": [
      "-----------------------------------------------SCORES-----------------------------------------------\n",
      "Classification scores with HOTS measures: bhatta = 60.50420168067227% - eucli = 58.58343337334934% - norm = 57.98319327731093%\n",
      "Classification scores with entropy: Kullback-Leibler = 60.624249699879954% - Jensen-Shannon = 60.86434573829532%\n",
      "----------------------------------------------------------------------------------------------------\n",
      "../Records/EXP_03_NMNIST/test/2021-02-16_lagorce_rdn_None_True_[0.25, 1]_[4, 8, 16]_[5000.0, 50000.0, 500000.0]_[2, 4, 8]_False_833_[None, 1.0]_histo.pkl\n",
      "spatial jitter -> var = 1.0\n"
     ]
    },
    {
     "name": "stderr",
     "output_type": "stream",
     "text": [
      "100%|██████████| 833/833 [47:19<00:00,  3.41s/it]\n"
     ]
    },
    {
     "name": "stdout",
     "output_type": "stream",
     "text": [
      "-----------------------------------------------SCORES-----------------------------------------------\n",
      "Classification scores with HOTS measures: bhatta = 59.783913565426175% - eucli = 58.70348139255702% - norm = 58.103241296518604%\n",
      "Classification scores with entropy: Kullback-Leibler = 59.06362545018007% - Jensen-Shannon = 60.024009603841534%\n",
      "----------------------------------------------------------------------------------------------------\n",
      "../Records/EXP_03_NMNIST/test/2021-02-16_lagorce_rdn_None_True_[0.25, 1]_[4, 8, 16]_[5000.0, 50000.0, 500000.0]_[2, 4, 8]_False_833_[None, 1.4]_histo.pkl\n",
      "spatial jitter -> var = 1.4\n"
     ]
    },
    {
     "name": "stderr",
     "output_type": "stream",
     "text": [
      "100%|██████████| 833/833 [46:05<00:00,  3.32s/it]\n"
     ]
    },
    {
     "name": "stdout",
     "output_type": "stream",
     "text": [
      "-----------------------------------------------SCORES-----------------------------------------------\n",
      "Classification scores with HOTS measures: bhatta = 53.54141656662665% - eucli = 52.701080432172866% - norm = 53.1812725090036%\n",
      "Classification scores with entropy: Kullback-Leibler = 52.701080432172866% - Jensen-Shannon = 53.9015606242497%\n",
      "----------------------------------------------------------------------------------------------------\n",
      "../Records/EXP_03_NMNIST/test/2021-02-16_lagorce_rdn_None_True_[0.25, 1]_[4, 8, 16]_[5000.0, 50000.0, 500000.0]_[2, 4, 8]_False_833_[None, 2.0]_histo.pkl\n",
      "spatial jitter -> var = 2.0\n"
     ]
    },
    {
     "name": "stderr",
     "output_type": "stream",
     "text": [
      "100%|██████████| 833/833 [46:14<00:00,  3.33s/it]\n"
     ]
    },
    {
     "name": "stdout",
     "output_type": "stream",
     "text": [
      "-----------------------------------------------SCORES-----------------------------------------------\n",
      "Classification scores with HOTS measures: bhatta = 48.13925570228091% - eucli = 48.25930372148859% - norm = 48.97959183673469%\n",
      "Classification scores with entropy: Kullback-Leibler = 47.29891956782713% - Jensen-Shannon = 48.25930372148859%\n",
      "----------------------------------------------------------------------------------------------------\n",
      "../Records/EXP_03_NMNIST/test/2021-02-16_lagorce_rdn_None_True_[0.25, 1]_[4, 8, 16]_[5000.0, 50000.0, 500000.0]_[2, 4, 8]_False_833_[None, 2.6]_histo.pkl\n",
      "spatial jitter -> var = 2.6\n"
     ]
    },
    {
     "name": "stderr",
     "output_type": "stream",
     "text": [
      "100%|██████████| 833/833 [45:39<00:00,  3.29s/it]\n"
     ]
    },
    {
     "name": "stdout",
     "output_type": "stream",
     "text": [
      "-----------------------------------------------SCORES-----------------------------------------------\n",
      "Classification scores with HOTS measures: bhatta = 42.37695078031212% - eucli = 41.17647058823529% - norm = 42.857142857142854%\n",
      "Classification scores with entropy: Kullback-Leibler = 40.33613445378151% - Jensen-Shannon = 42.737094837935174%\n",
      "----------------------------------------------------------------------------------------------------\n",
      "../Records/EXP_03_NMNIST/test/2021-02-16_lagorce_rdn_None_True_[0.25, 1]_[4, 8, 16]_[5000.0, 50000.0, 500000.0]_[2, 4, 8]_False_833_[None, 3.2]_histo.pkl\n",
      "spatial jitter -> var = 3.2\n"
     ]
    },
    {
     "name": "stderr",
     "output_type": "stream",
     "text": [
      "100%|██████████| 833/833 [49:50<00:00,  3.59s/it]\n"
     ]
    },
    {
     "name": "stdout",
     "output_type": "stream",
     "text": [
      "-----------------------------------------------SCORES-----------------------------------------------\n",
      "Classification scores with HOTS measures: bhatta = 34.57382953181273% - eucli = 32.773109243697476% - norm = 34.213685474189674%\n",
      "Classification scores with entropy: Kullback-Leibler = 31.092436974789916% - Jensen-Shannon = 33.493397358943575%\n",
      "----------------------------------------------------------------------------------------------------\n",
      "../Records/EXP_03_NMNIST/test/2021-02-16_lagorce_rdn_None_True_[0.25, 1]_[4, 8, 16]_[5000.0, 50000.0, 500000.0]_[2, 4, 8]_False_833_[None, 4.0]_histo.pkl\n",
      "spatial jitter -> var = 4.0\n"
     ]
    },
    {
     "name": "stderr",
     "output_type": "stream",
     "text": [
      "100%|██████████| 833/833 [50:56<00:00,  3.67s/it] \n"
     ]
    },
    {
     "name": "stdout",
     "output_type": "stream",
     "text": [
      "-----------------------------------------------SCORES-----------------------------------------------\n",
      "Classification scores with HOTS measures: bhatta = 29.531812725090035% - eucli = 28.211284513805523% - norm = 31.45258103241296%\n",
      "Classification scores with entropy: Kullback-Leibler = 25.930372148859544% - Jensen-Shannon = 29.29171668667467%\n",
      "----------------------------------------------------------------------------------------------------\n",
      "../Records/EXP_03_NMNIST/test/2021-02-16_lagorce_rdn_None_True_[0.25, 1]_[4, 8, 16]_[5000.0, 50000.0, 500000.0]_[2, 4, 8]_False_833_[None, 4.8]_histo.pkl\n",
      "spatial jitter -> var = 4.8\n"
     ]
    },
    {
     "name": "stderr",
     "output_type": "stream",
     "text": [
      "100%|██████████| 833/833 [51:03<00:00,  3.68s/it] \n"
     ]
    },
    {
     "name": "stdout",
     "output_type": "stream",
     "text": [
      "-----------------------------------------------SCORES-----------------------------------------------\n",
      "Classification scores with HOTS measures: bhatta = 23.04921968787515% - eucli = 21.12845138055222% - norm = 23.769507803121247%\n",
      "Classification scores with entropy: Kullback-Leibler = 21.12845138055222% - Jensen-Shannon = 23.04921968787515%\n",
      "----------------------------------------------------------------------------------------------------\n",
      "../Records/EXP_03_NMNIST/test/2021-02-16_lagorce_rdn_None_True_[0.25, 1]_[4, 8, 16]_[5000.0, 50000.0, 500000.0]_[2, 4, 8]_False_833_[None, 5.8]_histo.pkl\n",
      "spatial jitter -> var = 5.8\n"
     ]
    },
    {
     "name": "stderr",
     "output_type": "stream",
     "text": [
      "100%|██████████| 833/833 [50:18<00:00,  3.62s/it]\n"
     ]
    },
    {
     "name": "stdout",
     "output_type": "stream",
     "text": [
      "-----------------------------------------------SCORES-----------------------------------------------\n",
      "Classification scores with HOTS measures: bhatta = 18.24729891956783% - eucli = 17.406962785114047% - norm = 19.56782713085234%\n",
      "Classification scores with entropy: Kullback-Leibler = 16.80672268907563% - Jensen-Shannon = 18.007202881152462%\n",
      "----------------------------------------------------------------------------------------------------\n",
      "../Records/EXP_03_NMNIST/test/2021-02-16_lagorce_rdn_None_True_[0.25, 1]_[4, 8, 16]_[5000.0, 50000.0, 500000.0]_[2, 4, 8]_False_833_[None, 6.8]_histo.pkl\n",
      "spatial jitter -> var = 6.8\n"
     ]
    },
    {
     "name": "stderr",
     "output_type": "stream",
     "text": [
      "100%|██████████| 833/833 [50:45<00:00,  3.66s/it] \n"
     ]
    },
    {
     "name": "stdout",
     "output_type": "stream",
     "text": [
      "-----------------------------------------------SCORES-----------------------------------------------\n",
      "Classification scores with HOTS measures: bhatta = 14.165666266506602% - eucli = 13.205282112845138% - norm = 13.325330132052821%\n",
      "Classification scores with entropy: Kullback-Leibler = 13.925570228091235% - Jensen-Shannon = 14.405762304921968%\n",
      "----------------------------------------------------------------------------------------------------\n",
      "../Records/EXP_03_NMNIST/test/2021-02-16_lagorce_rdn_None_True_[0.25, 1]_[4, 8, 16]_[5000.0, 50000.0, 500000.0]_[2, 4, 8]_False_833_[None, 7.8]_histo.pkl\n",
      "spatial jitter -> var = 7.8\n"
     ]
    },
    {
     "name": "stderr",
     "output_type": "stream",
     "text": [
      "100%|██████████| 833/833 [50:43<00:00,  3.65s/it] \n"
     ]
    },
    {
     "name": "stdout",
     "output_type": "stream",
     "text": [
      "-----------------------------------------------SCORES-----------------------------------------------\n",
      "Classification scores with HOTS measures: bhatta = 14.285714285714285% - eucli = 13.805522208883552% - norm = 12.605042016806722%\n",
      "Classification scores with entropy: Kullback-Leibler = 12.965186074429772% - Jensen-Shannon = 13.685474189675869%\n",
      "----------------------------------------------------------------------------------------------------\n",
      "../Records/EXP_03_NMNIST/test/2021-02-16_lagorce_rdn_None_True_[0.25, 1]_[4, 8, 16]_[5000.0, 50000.0, 500000.0]_[2, 4, 8]_False_833_[None, 9.0]_histo.pkl\n",
      "spatial jitter -> var = 9.0\n"
     ]
    },
    {
     "name": "stderr",
     "output_type": "stream",
     "text": [
      "100%|██████████| 833/833 [50:30<00:00,  3.64s/it] \n"
     ]
    },
    {
     "name": "stdout",
     "output_type": "stream",
     "text": [
      "-----------------------------------------------SCORES-----------------------------------------------\n",
      "Classification scores with HOTS measures: bhatta = 14.045618247298918% - eucli = 14.045618247298918% - norm = 13.925570228091235%\n",
      "Classification scores with entropy: Kullback-Leibler = 13.925570228091235% - Jensen-Shannon = 14.045618247298918%\n",
      "----------------------------------------------------------------------------------------------------\n",
      "../Records/EXP_03_NMNIST/test/2021-02-16_lagorce_rdn_None_True_[0.25, 1]_[4, 8, 16]_[5000.0, 50000.0, 500000.0]_[2, 4, 8]_False_833_[None, 10.2]_histo.pkl\n",
      "spatial jitter -> var = 10.2\n"
     ]
    },
    {
     "name": "stderr",
     "output_type": "stream",
     "text": [
      "100%|██████████| 833/833 [49:27<00:00,  3.56s/it] \n"
     ]
    },
    {
     "name": "stdout",
     "output_type": "stream",
     "text": [
      "-----------------------------------------------SCORES-----------------------------------------------\n",
      "Classification scores with HOTS measures: bhatta = 12.965186074429772% - eucli = 13.685474189675869% - norm = 12.965186074429772%\n",
      "Classification scores with entropy: Kullback-Leibler = 12.965186074429772% - Jensen-Shannon = 13.085234093637455%\n",
      "----------------------------------------------------------------------------------------------------\n",
      "../Records/EXP_03_NMNIST/test/2021-02-16_lagorce_rdn_None_True_[0.25, 1]_[4, 8, 16]_[5000.0, 50000.0, 500000.0]_[2, 4, 8]_False_833_[None, 11.6]_histo.pkl\n",
      "spatial jitter -> var = 11.6\n"
     ]
    },
    {
     "name": "stderr",
     "output_type": "stream",
     "text": [
      "100%|██████████| 833/833 [50:37<00:00,  3.65s/it] \n"
     ]
    },
    {
     "name": "stdout",
     "output_type": "stream",
     "text": [
      "-----------------------------------------------SCORES-----------------------------------------------\n",
      "Classification scores with HOTS measures: bhatta = 11.644657863145259% - eucli = 12.12484993997599% - norm = 11.76470588235294%\n",
      "Classification scores with entropy: Kullback-Leibler = 11.644657863145259% - Jensen-Shannon = 11.404561824729893%\n",
      "----------------------------------------------------------------------------------------------------\n",
      "../Records/EXP_03_NMNIST/test/2021-02-16_lagorce_rdn_None_True_[0.25, 1]_[4, 8, 16]_[5000.0, 50000.0, 500000.0]_[2, 4, 8]_False_833_[None, 13.0]_histo.pkl\n",
      "spatial jitter -> var = 13.0\n"
     ]
    },
    {
     "name": "stderr",
     "output_type": "stream",
     "text": [
      "100%|██████████| 833/833 [49:34<00:00,  3.57s/it] \n"
     ]
    },
    {
     "name": "stdout",
     "output_type": "stream",
     "text": [
      "-----------------------------------------------SCORES-----------------------------------------------\n",
      "Classification scores with HOTS measures: bhatta = 10.444177671068427% - eucli = 11.28451380552221% - norm = 10.204081632653061%\n",
      "Classification scores with entropy: Kullback-Leibler = 10.444177671068427% - Jensen-Shannon = 10.444177671068427%\n",
      "----------------------------------------------------------------------------------------------------\n",
      "../Records/EXP_03_NMNIST/test/2021-02-16_lagorce_rdn_None_True_[0.25, 1]_[4, 8, 16]_[5000.0, 50000.0, 500000.0]_[2, 4, 8]_False_833_[None, 14.4]_histo.pkl\n",
      "spatial jitter -> var = 14.4\n"
     ]
    },
    {
     "name": "stderr",
     "output_type": "stream",
     "text": [
      "100%|██████████| 833/833 [49:48<00:00,  3.59s/it]\n"
     ]
    },
    {
     "name": "stdout",
     "output_type": "stream",
     "text": [
      "-----------------------------------------------SCORES-----------------------------------------------\n",
      "Classification scores with HOTS measures: bhatta = 14.525810324129651% - eucli = 14.765906362545017% - norm = 14.045618247298918%\n",
      "Classification scores with entropy: Kullback-Leibler = 14.045618247298918% - Jensen-Shannon = 14.405762304921968%\n",
      "----------------------------------------------------------------------------------------------------\n",
      "../Records/EXP_03_NMNIST/test/2021-02-16_lagorce_rdn_None_True_[0.25, 1]_[4, 8, 16]_[5000.0, 50000.0, 500000.0]_[2, 4, 8]_False_833_[None, 16.0]_histo.pkl\n",
      "spatial jitter -> var = 16.0\n"
     ]
    },
    {
     "name": "stderr",
     "output_type": "stream",
     "text": [
      "100%|██████████| 833/833 [49:42<00:00,  3.58s/it] \n"
     ]
    },
    {
     "name": "stdout",
     "output_type": "stream",
     "text": [
      "-----------------------------------------------SCORES-----------------------------------------------\n",
      "Classification scores with HOTS measures: bhatta = 11.044417767106843% - eucli = 11.76470588235294% - norm = 11.28451380552221%\n",
      "Classification scores with entropy: Kullback-Leibler = 11.644657863145259% - Jensen-Shannon = 11.404561824729893%\n",
      "----------------------------------------------------------------------------------------------------\n",
      "../Records/EXP_03_NMNIST/test/2021-02-16_lagorce_rdn_None_True_[0.25, 1]_[4, 8, 16]_[5000.0, 50000.0, 500000.0]_[2, 4, 8]_False_833_[None, 17.6]_histo.pkl\n",
      "spatial jitter -> var = 17.6\n"
     ]
    },
    {
     "name": "stderr",
     "output_type": "stream",
     "text": [
      "100%|██████████| 833/833 [48:02<00:00,  3.46s/it]\n"
     ]
    },
    {
     "name": "stdout",
     "output_type": "stream",
     "text": [
      "-----------------------------------------------SCORES-----------------------------------------------\n",
      "Classification scores with HOTS measures: bhatta = 11.644657863145259% - eucli = 10.92436974789916% - norm = 10.684273709483794%\n",
      "Classification scores with entropy: Kullback-Leibler = 11.044417767106843% - Jensen-Shannon = 11.28451380552221%\n",
      "----------------------------------------------------------------------------------------------------\n",
      "../Records/EXP_03_NMNIST/test/2021-02-16_lagorce_rdn_None_True_[0.25, 1]_[4, 8, 16]_[5000.0, 50000.0, 500000.0]_[2, 4, 8]_False_833_[None, 19.4]_histo.pkl\n",
      "spatial jitter -> var = 19.4\n"
     ]
    },
    {
     "name": "stderr",
     "output_type": "stream",
     "text": [
      "100%|██████████| 833/833 [48:12<00:00,  3.47s/it] \n"
     ]
    },
    {
     "name": "stdout",
     "output_type": "stream",
     "text": [
      "-----------------------------------------------SCORES-----------------------------------------------\n",
      "Classification scores with HOTS measures: bhatta = 12.004801920768307% - eucli = 11.76470588235294% - norm = 11.524609843937576%\n",
      "Classification scores with entropy: Kullback-Leibler = 11.884753901560623% - Jensen-Shannon = 12.004801920768307%\n",
      "----------------------------------------------------------------------------------------------------\n",
      "../Records/EXP_03_NMNIST/test/2021-02-16_lagorce_rdn_None_True_[0.25, 1]_[4, 8, 16]_[5000.0, 50000.0, 500000.0]_[2, 4, 8]_False_833_[None, 21.2]_histo.pkl\n",
      "spatial jitter -> var = 21.2\n"
     ]
    },
    {
     "name": "stderr",
     "output_type": "stream",
     "text": [
      "100%|██████████| 833/833 [47:50<00:00,  3.45s/it] \n"
     ]
    },
    {
     "name": "stdout",
     "output_type": "stream",
     "text": [
      "-----------------------------------------------SCORES-----------------------------------------------\n",
      "Classification scores with HOTS measures: bhatta = 10.92436974789916% - eucli = 10.92436974789916% - norm = 10.92436974789916%\n",
      "Classification scores with entropy: Kullback-Leibler = 10.804321728691477% - Jensen-Shannon = 10.92436974789916%\n",
      "----------------------------------------------------------------------------------------------------\n",
      "../Records/EXP_03_NMNIST/test/2021-02-16_lagorce_rdn_None_True_[0.25, 1]_[4, 8, 16]_[5000.0, 50000.0, 500000.0]_[2, 4, 8]_False_833_[None, 23.0]_histo.pkl\n",
      "spatial jitter -> var = 23.0\n"
     ]
    },
    {
     "name": "stderr",
     "output_type": "stream",
     "text": [
      "100%|██████████| 833/833 [48:04<00:00,  3.46s/it]\n"
     ]
    },
    {
     "name": "stdout",
     "output_type": "stream",
     "text": [
      "-----------------------------------------------SCORES-----------------------------------------------\n",
      "Classification scores with HOTS measures: bhatta = 10.084033613445378% - eucli = 9.963985594237695% - norm = 10.204081632653061%\n",
      "Classification scores with entropy: Kullback-Leibler = 9.603841536614647% - Jensen-Shannon = 9.963985594237695%\n",
      "----------------------------------------------------------------------------------------------------\n",
      "../Records/EXP_03_NMNIST/test/2021-02-16_lagorce_rdn_None_True_[0.25, 1]_[4, 8, 16]_[5000.0, 50000.0, 500000.0]_[2, 4, 8]_False_833_[None, 25.0]_histo.pkl\n",
      "spatial jitter -> var = 25.0\n"
     ]
    },
    {
     "name": "stderr",
     "output_type": "stream",
     "text": [
      "100%|██████████| 833/833 [47:24<00:00,  3.41s/it]\n"
     ]
    },
    {
     "name": "stdout",
     "output_type": "stream",
     "text": [
      "-----------------------------------------------SCORES-----------------------------------------------\n",
      "Classification scores with HOTS measures: bhatta = 9.963985594237695% - eucli = 9.603841536614647% - norm = 9.963985594237695%\n",
      "Classification scores with entropy: Kullback-Leibler = 9.243697478991598% - Jensen-Shannon = 9.843937575030012%\n",
      "----------------------------------------------------------------------------------------------------\n",
      "../Records/EXP_03_NMNIST/test/2021-02-16_lagorce_rdn_None_True_[0.25, 1]_[4, 8, 16]_[5000.0, 50000.0, 500000.0]_[2, 4, 8]_False_833_[None, 27.0]_histo.pkl\n",
      "spatial jitter -> var = 27.0\n"
     ]
    },
    {
     "name": "stderr",
     "output_type": "stream",
     "text": [
      "100%|██████████| 833/833 [47:34<00:00,  3.43s/it] \n"
     ]
    },
    {
     "name": "stdout",
     "output_type": "stream",
     "text": [
      "-----------------------------------------------SCORES-----------------------------------------------\n",
      "Classification scores with HOTS measures: bhatta = 10.324129651860744% - eucli = 10.92436974789916% - norm = 10.324129651860744%\n",
      "Classification scores with entropy: Kullback-Leibler = 10.444177671068427% - Jensen-Shannon = 10.324129651860744%\n",
      "----------------------------------------------------------------------------------------------------\n",
      "../Records/EXP_03_NMNIST/test/2021-02-16_lagorce_rdn_None_True_[0.25, 1]_[4, 8, 16]_[5000.0, 50000.0, 500000.0]_[2, 4, 8]_False_833_[None, 29.2]_histo.pkl\n",
      "spatial jitter -> var = 29.2\n"
     ]
    },
    {
     "name": "stderr",
     "output_type": "stream",
     "text": [
      "100%|██████████| 833/833 [47:39<00:00,  3.43s/it]\n"
     ]
    },
    {
     "name": "stdout",
     "output_type": "stream",
     "text": [
      "-----------------------------------------------SCORES-----------------------------------------------\n",
      "Classification scores with HOTS measures: bhatta = 11.28451380552221% - eucli = 11.28451380552221% - norm = 11.404561824729893%\n",
      "Classification scores with entropy: Kullback-Leibler = 10.92436974789916% - Jensen-Shannon = 11.524609843937576%\n",
      "----------------------------------------------------------------------------------------------------\n",
      "../Records/EXP_03_NMNIST/test/2021-02-16_lagorce_rdn_None_True_[0.25, 1]_[4, 8, 16]_[5000.0, 50000.0, 500000.0]_[2, 4, 8]_False_833_[None, 31.4]_histo.pkl\n",
      "spatial jitter -> var = 31.4\n"
     ]
    },
    {
     "name": "stderr",
     "output_type": "stream",
     "text": [
      "100%|██████████| 833/833 [46:37<00:00,  3.36s/it] \n"
     ]
    },
    {
     "name": "stdout",
     "output_type": "stream",
     "text": [
      "-----------------------------------------------SCORES-----------------------------------------------\n",
      "Classification scores with HOTS measures: bhatta = 10.204081632653061% - eucli = 10.92436974789916% - norm = 10.084033613445378%\n",
      "Classification scores with entropy: Kullback-Leibler = 10.56422569027611% - Jensen-Shannon = 10.204081632653061%\n",
      "----------------------------------------------------------------------------------------------------\n",
      "../Records/EXP_03_NMNIST/test/2021-02-16_lagorce_rdn_None_True_[0.25, 1]_[4, 8, 16]_[5000.0, 50000.0, 500000.0]_[2, 4, 8]_False_833_[None, 33.6]_histo.pkl\n",
      "spatial jitter -> var = 33.6\n"
     ]
    },
    {
     "name": "stderr",
     "output_type": "stream",
     "text": [
      "100%|██████████| 833/833 [46:38<00:00,  3.36s/it]\n"
     ]
    },
    {
     "name": "stdout",
     "output_type": "stream",
     "text": [
      "-----------------------------------------------SCORES-----------------------------------------------\n",
      "Classification scores with HOTS measures: bhatta = 10.324129651860744% - eucli = 10.324129651860744% - norm = 10.56422569027611%\n",
      "Classification scores with entropy: Kullback-Leibler = 10.084033613445378% - Jensen-Shannon = 10.444177671068427%\n",
      "----------------------------------------------------------------------------------------------------\n",
      "../Records/EXP_03_NMNIST/test/2021-02-16_lagorce_rdn_None_True_[0.25, 1]_[4, 8, 16]_[5000.0, 50000.0, 500000.0]_[2, 4, 8]_False_833_[0, None]_histo.pkl\n",
      "time jitter -> var = 0\n"
     ]
    },
    {
     "name": "stderr",
     "output_type": "stream",
     "text": [
      "100%|██████████| 833/833 [51:50<00:00,  3.73s/it] \n"
     ]
    },
    {
     "name": "stdout",
     "output_type": "stream",
     "text": [
      "-----------------------------------------------SCORES-----------------------------------------------\n",
      "Classification scores with HOTS measures: bhatta = 57.38295318127251% - eucli = 56.42256902761105% - norm = 54.741896758703476%\n",
      "Classification scores with entropy: Kullback-Leibler = 59.42376950780313% - Jensen-Shannon = 58.58343337334934%\n",
      "----------------------------------------------------------------------------------------------------\n",
      "../Records/EXP_03_NMNIST/test/2021-02-16_lagorce_rdn_None_True_[0.25, 1]_[4, 8, 16]_[5000.0, 50000.0, 500000.0]_[2, 4, 8]_False_833_[100, None]_histo.pkl\n",
      "time jitter -> var = 100\n"
     ]
    },
    {
     "name": "stderr",
     "output_type": "stream",
     "text": [
      "100%|██████████| 833/833 [51:15<00:00,  3.69s/it]\n"
     ]
    },
    {
     "name": "stdout",
     "output_type": "stream",
     "text": [
      "-----------------------------------------------SCORES-----------------------------------------------\n",
      "Classification scores with HOTS measures: bhatta = 57.74309723889556% - eucli = 56.42256902761105% - norm = 55.342136854741895%\n",
      "Classification scores with entropy: Kullback-Leibler = 57.022809123649466% - Jensen-Shannon = 57.262905162064826%\n",
      "----------------------------------------------------------------------------------------------------\n",
      "../Records/EXP_03_NMNIST/test/2021-02-16_lagorce_rdn_None_True_[0.25, 1]_[4, 8, 16]_[5000.0, 50000.0, 500000.0]_[2, 4, 8]_False_833_[400, None]_histo.pkl\n",
      "time jitter -> var = 400\n"
     ]
    },
    {
     "name": "stderr",
     "output_type": "stream",
     "text": [
      "100%|██████████| 833/833 [51:25<00:00,  3.70s/it] \n"
     ]
    },
    {
     "name": "stdout",
     "output_type": "stream",
     "text": [
      "-----------------------------------------------SCORES-----------------------------------------------\n",
      "Classification scores with HOTS measures: bhatta = 54.38175270108043% - eucli = 57.14285714285714% - norm = 55.70228091236494%\n",
      "Classification scores with entropy: Kullback-Leibler = 55.942376950780314% - Jensen-Shannon = 55.22208883553421%\n",
      "----------------------------------------------------------------------------------------------------\n",
      "../Records/EXP_03_NMNIST/test/2021-02-16_lagorce_rdn_None_True_[0.25, 1]_[4, 8, 16]_[5000.0, 50000.0, 500000.0]_[2, 4, 8]_False_833_[900, None]_histo.pkl\n",
      "time jitter -> var = 900\n"
     ]
    },
    {
     "name": "stderr",
     "output_type": "stream",
     "text": [
      "100%|██████████| 833/833 [52:28<00:00,  3.78s/it] \n"
     ]
    },
    {
     "name": "stdout",
     "output_type": "stream",
     "text": [
      "-----------------------------------------------SCORES-----------------------------------------------\n",
      "Classification scores with HOTS measures: bhatta = 57.38295318127251% - eucli = 57.14285714285714% - norm = 57.022809123649466%\n",
      "Classification scores with entropy: Kullback-Leibler = 57.863145258103245% - Jensen-Shannon = 57.022809123649466%\n",
      "----------------------------------------------------------------------------------------------------\n",
      "../Records/EXP_03_NMNIST/test/2021-02-16_lagorce_rdn_None_True_[0.25, 1]_[4, 8, 16]_[5000.0, 50000.0, 500000.0]_[2, 4, 8]_False_833_[1600, None]_histo.pkl\n",
      "time jitter -> var = 1600\n"
     ]
    },
    {
     "name": "stderr",
     "output_type": "stream",
     "text": [
      "100%|██████████| 833/833 [50:12<00:00,  3.62s/it] \n"
     ]
    },
    {
     "name": "stdout",
     "output_type": "stream",
     "text": [
      "-----------------------------------------------SCORES-----------------------------------------------\n",
      "Classification scores with HOTS measures: bhatta = 57.863145258103245% - eucli = 57.62304921968787% - norm = 56.182472989195674%\n",
      "Classification scores with entropy: Kullback-Leibler = 59.183673469387756% - Jensen-Shannon = 58.22328931572629%\n",
      "----------------------------------------------------------------------------------------------------\n",
      "../Records/EXP_03_NMNIST/test/2021-02-16_lagorce_rdn_None_True_[0.25, 1]_[4, 8, 16]_[5000.0, 50000.0, 500000.0]_[2, 4, 8]_False_833_[2500, None]_histo.pkl\n",
      "time jitter -> var = 2500\n"
     ]
    },
    {
     "name": "stderr",
     "output_type": "stream",
     "text": [
      "100%|██████████| 833/833 [50:46<00:00,  3.66s/it]\n"
     ]
    },
    {
     "name": "stdout",
     "output_type": "stream",
     "text": [
      "-----------------------------------------------SCORES-----------------------------------------------\n",
      "Classification scores with HOTS measures: bhatta = 56.062424969988% - eucli = 56.662665066026406% - norm = 54.98199279711885%\n",
      "Classification scores with entropy: Kullback-Leibler = 57.262905162064826% - Jensen-Shannon = 56.42256902761105%\n",
      "----------------------------------------------------------------------------------------------------\n",
      "../Records/EXP_03_NMNIST/test/2021-02-16_lagorce_rdn_None_True_[0.25, 1]_[4, 8, 16]_[5000.0, 50000.0, 500000.0]_[2, 4, 8]_False_833_[3600, None]_histo.pkl\n",
      "time jitter -> var = 3600\n"
     ]
    },
    {
     "name": "stderr",
     "output_type": "stream",
     "text": [
      "100%|██████████| 833/833 [50:37<00:00,  3.65s/it]\n"
     ]
    },
    {
     "name": "stdout",
     "output_type": "stream",
     "text": [
      "-----------------------------------------------SCORES-----------------------------------------------\n",
      "Classification scores with HOTS measures: bhatta = 54.741896758703476% - eucli = 52.460984393757506% - norm = 51.7406962785114%\n",
      "Classification scores with entropy: Kullback-Leibler = 55.10204081632652% - Jensen-Shannon = 54.621848739495796%\n",
      "----------------------------------------------------------------------------------------------------\n",
      "../Records/EXP_03_NMNIST/test/2021-02-16_lagorce_rdn_None_True_[0.25, 1]_[4, 8, 16]_[5000.0, 50000.0, 500000.0]_[2, 4, 8]_False_833_[4900, None]_histo.pkl\n",
      "time jitter -> var = 4900\n"
     ]
    },
    {
     "name": "stderr",
     "output_type": "stream",
     "text": [
      "100%|██████████| 833/833 [51:26<00:00,  3.71s/it]  \n"
     ]
    },
    {
     "name": "stdout",
     "output_type": "stream",
     "text": [
      "-----------------------------------------------SCORES-----------------------------------------------\n",
      "Classification scores with HOTS measures: bhatta = 54.741896758703476% - eucli = 54.14165666266506% - norm = 52.94117647058824%\n",
      "Classification scores with entropy: Kullback-Leibler = 55.342136854741895% - Jensen-Shannon = 55.46218487394958%\n",
      "----------------------------------------------------------------------------------------------------\n",
      "../Records/EXP_03_NMNIST/test/2021-02-16_lagorce_rdn_None_True_[0.25, 1]_[4, 8, 16]_[5000.0, 50000.0, 500000.0]_[2, 4, 8]_False_833_[6400, None]_histo.pkl\n",
      "time jitter -> var = 6400\n"
     ]
    },
    {
     "name": "stderr",
     "output_type": "stream",
     "text": [
      "100%|██████████| 833/833 [50:41<00:00,  3.65s/it]\n"
     ]
    },
    {
     "name": "stdout",
     "output_type": "stream",
     "text": [
      "-----------------------------------------------SCORES-----------------------------------------------\n",
      "Classification scores with HOTS measures: bhatta = 57.022809123649466% - eucli = 56.42256902761105% - norm = 55.82232893157263%\n",
      "Classification scores with entropy: Kullback-Leibler = 57.38295318127251% - Jensen-Shannon = 56.542617046818734%\n",
      "----------------------------------------------------------------------------------------------------\n",
      "../Records/EXP_03_NMNIST/test/2021-02-16_lagorce_rdn_None_True_[0.25, 1]_[4, 8, 16]_[5000.0, 50000.0, 500000.0]_[2, 4, 8]_False_833_[8100, None]_histo.pkl\n",
      "time jitter -> var = 8100\n"
     ]
    },
    {
     "name": "stderr",
     "output_type": "stream",
     "text": [
      "100%|██████████| 833/833 [47:46<00:00,  3.44s/it] \n"
     ]
    },
    {
     "name": "stdout",
     "output_type": "stream",
     "text": [
      "-----------------------------------------------SCORES-----------------------------------------------\n",
      "Classification scores with HOTS measures: bhatta = 59.903961584633855% - eucli = 59.5438175270108% - norm = 58.58343337334934%\n",
      "Classification scores with entropy: Kullback-Leibler = 61.104441776710686% - Jensen-Shannon = 60.984393757503%\n",
      "----------------------------------------------------------------------------------------------------\n",
      "../Records/EXP_03_NMNIST/test/2021-02-16_lagorce_rdn_None_True_[0.25, 1]_[4, 8, 16]_[5000.0, 50000.0, 500000.0]_[2, 4, 8]_False_833_[10000, None]_histo.pkl\n",
      "time jitter -> var = 10000\n"
     ]
    },
    {
     "name": "stderr",
     "output_type": "stream",
     "text": [
      "100%|██████████| 833/833 [44:39<00:00,  3.22s/it]\n"
     ]
    },
    {
     "name": "stdout",
     "output_type": "stream",
     "text": [
      "-----------------------------------------------SCORES-----------------------------------------------\n",
      "Classification scores with HOTS measures: bhatta = 56.662665066026406% - eucli = 55.58223289315727% - norm = 54.38175270108043%\n",
      "Classification scores with entropy: Kullback-Leibler = 57.38295318127251% - Jensen-Shannon = 56.30252100840336%\n",
      "----------------------------------------------------------------------------------------------------\n",
      "../Records/EXP_03_NMNIST/test/2021-02-16_lagorce_rdn_None_True_[0.25, 1]_[4, 8, 16]_[5000.0, 50000.0, 500000.0]_[2, 4, 8]_False_833_[12100, None]_histo.pkl\n",
      "time jitter -> var = 12100\n"
     ]
    },
    {
     "name": "stderr",
     "output_type": "stream",
     "text": [
      "100%|██████████| 833/833 [37:36<00:00,  2.71s/it]\n"
     ]
    },
    {
     "name": "stdout",
     "output_type": "stream",
     "text": [
      "-----------------------------------------------SCORES-----------------------------------------------\n",
      "Classification scores with HOTS measures: bhatta = 54.98199279711885% - eucli = 52.581032412965186% - norm = 51.980792316926774%\n",
      "Classification scores with entropy: Kullback-Leibler = 55.58223289315727% - Jensen-Shannon = 55.22208883553421%\n",
      "----------------------------------------------------------------------------------------------------\n",
      "../Records/EXP_03_NMNIST/test/2021-02-16_lagorce_rdn_None_True_[0.25, 1]_[4, 8, 16]_[5000.0, 50000.0, 500000.0]_[2, 4, 8]_False_833_[14400, None]_histo.pkl\n",
      "time jitter -> var = 14400\n"
     ]
    },
    {
     "name": "stderr",
     "output_type": "stream",
     "text": [
      "100%|██████████| 833/833 [30:51<00:00,  2.22s/it]\n"
     ]
    },
    {
     "name": "stdout",
     "output_type": "stream",
     "text": [
      "-----------------------------------------------SCORES-----------------------------------------------\n",
      "Classification scores with HOTS measures: bhatta = 56.182472989195674% - eucli = 55.10204081632652% - norm = 54.021608643457384%\n",
      "Classification scores with entropy: Kullback-Leibler = 57.022809123649466% - Jensen-Shannon = 56.30252100840336%\n",
      "----------------------------------------------------------------------------------------------------\n",
      "../Records/EXP_03_NMNIST/test/2021-02-16_lagorce_rdn_None_True_[0.25, 1]_[4, 8, 16]_[5000.0, 50000.0, 500000.0]_[2, 4, 8]_False_833_[16900, None]_histo.pkl\n",
      "time jitter -> var = 16900\n"
     ]
    },
    {
     "name": "stderr",
     "output_type": "stream",
     "text": [
      "100%|██████████| 833/833 [22:24<00:00,  1.61s/it]\n"
     ]
    },
    {
     "name": "stdout",
     "output_type": "stream",
     "text": [
      "-----------------------------------------------SCORES-----------------------------------------------\n",
      "Classification scores with HOTS measures: bhatta = 51.380552220888354% - eucli = 50.18007202881153% - norm = 48.37935174069628%\n",
      "Classification scores with entropy: Kullback-Leibler = 53.1812725090036% - Jensen-Shannon = 51.980792316926774%\n",
      "----------------------------------------------------------------------------------------------------\n",
      "../Records/EXP_03_NMNIST/test/2021-02-16_lagorce_rdn_None_True_[0.25, 1]_[4, 8, 16]_[5000.0, 50000.0, 500000.0]_[2, 4, 8]_False_833_[19600, None]_histo.pkl\n",
      "time jitter -> var = 19600\n"
     ]
    },
    {
     "name": "stderr",
     "output_type": "stream",
     "text": [
      "100%|██████████| 833/833 [18:19<00:00,  1.32s/it]\n"
     ]
    },
    {
     "name": "stdout",
     "output_type": "stream",
     "text": [
      "-----------------------------------------------SCORES-----------------------------------------------\n",
      "Classification scores with HOTS measures: bhatta = 50.540216086434576% - eucli = 51.50060024009604% - norm = 51.02040816326531%\n",
      "Classification scores with entropy: Kullback-Leibler = 49.459783913565424% - Jensen-Shannon = 50.780312124849935%\n",
      "----------------------------------------------------------------------------------------------------\n",
      "../Records/EXP_03_NMNIST/test/2021-02-16_lagorce_rdn_None_True_[0.25, 1]_[4, 8, 16]_[5000.0, 50000.0, 500000.0]_[2, 4, 8]_False_833_[22500, None]_histo.pkl\n",
      "time jitter -> var = 22500\n"
     ]
    },
    {
     "name": "stderr",
     "output_type": "stream",
     "text": [
      "100%|██████████| 833/833 [15:18<00:00,  1.10s/it]\n"
     ]
    },
    {
     "name": "stdout",
     "output_type": "stream",
     "text": [
      "-----------------------------------------------SCORES-----------------------------------------------\n",
      "Classification scores with HOTS measures: bhatta = 42.136854741896755% - eucli = 39.97599039615846% - norm = 40.936374549819924%\n",
      "Classification scores with entropy: Kullback-Leibler = 41.29651860744298% - Jensen-Shannon = 42.61704681872749%\n",
      "----------------------------------------------------------------------------------------------------\n",
      "../Records/EXP_03_NMNIST/test/2021-02-16_lagorce_rdn_None_True_[0.25, 1]_[4, 8, 16]_[5000.0, 50000.0, 500000.0]_[2, 4, 8]_False_833_[25600, None]_histo.pkl\n",
      "time jitter -> var = 25600\n"
     ]
    },
    {
     "name": "stderr",
     "output_type": "stream",
     "text": [
      "100%|██████████| 833/833 [12:58<00:00,  1.07it/s]\n"
     ]
    },
    {
     "name": "stdout",
     "output_type": "stream",
     "text": [
      "-----------------------------------------------SCORES-----------------------------------------------\n",
      "Classification scores with HOTS measures: bhatta = 39.375750300120046% - eucli = 39.25570228091237% - norm = 39.49579831932773%\n",
      "Classification scores with entropy: Kullback-Leibler = 39.85594237695078% - Jensen-Shannon = 39.13565426170468%\n",
      "----------------------------------------------------------------------------------------------------\n",
      "../Records/EXP_03_NMNIST/test/2021-02-16_lagorce_rdn_None_True_[0.25, 1]_[4, 8, 16]_[5000.0, 50000.0, 500000.0]_[2, 4, 8]_False_833_[28900, None]_histo.pkl\n",
      "time jitter -> var = 28900\n"
     ]
    },
    {
     "name": "stderr",
     "output_type": "stream",
     "text": [
      "100%|██████████| 833/833 [11:23<00:00,  1.22it/s]\n"
     ]
    },
    {
     "name": "stdout",
     "output_type": "stream",
     "text": [
      "-----------------------------------------------SCORES-----------------------------------------------\n",
      "Classification scores with HOTS measures: bhatta = 33.85354141656663% - eucli = 32.41296518607443% - norm = 32.172869147659064%\n",
      "Classification scores with entropy: Kullback-Leibler = 32.172869147659064% - Jensen-Shannon = 34.33373349339736%\n",
      "----------------------------------------------------------------------------------------------------\n",
      "../Records/EXP_03_NMNIST/test/2021-02-16_lagorce_rdn_None_True_[0.25, 1]_[4, 8, 16]_[5000.0, 50000.0, 500000.0]_[2, 4, 8]_False_833_[32400, None]_histo.pkl\n",
      "time jitter -> var = 32400\n"
     ]
    },
    {
     "name": "stderr",
     "output_type": "stream",
     "text": [
      "100%|██████████| 833/833 [10:15<00:00,  1.35it/s]\n"
     ]
    },
    {
     "name": "stdout",
     "output_type": "stream",
     "text": [
      "-----------------------------------------------SCORES-----------------------------------------------\n",
      "Classification scores with HOTS measures: bhatta = 31.692677070828328% - eucli = 30.132052821128454% - norm = 30.132052821128454%\n",
      "Classification scores with entropy: Kullback-Leibler = 29.65186074429772% - Jensen-Shannon = 31.932773109243694%\n",
      "----------------------------------------------------------------------------------------------------\n",
      "../Records/EXP_03_NMNIST/test/2021-02-16_lagorce_rdn_None_True_[0.25, 1]_[4, 8, 16]_[5000.0, 50000.0, 500000.0]_[2, 4, 8]_False_833_[36100, None]_histo.pkl\n",
      "time jitter -> var = 36100\n"
     ]
    },
    {
     "name": "stderr",
     "output_type": "stream",
     "text": [
      "100%|██████████| 833/833 [09:46<00:00,  1.42it/s]\n"
     ]
    },
    {
     "name": "stdout",
     "output_type": "stream",
     "text": [
      "-----------------------------------------------SCORES-----------------------------------------------\n",
      "Classification scores with HOTS measures: bhatta = 24.60984393757503% - eucli = 25.090036014405765% - norm = 23.649459783913564%\n",
      "Classification scores with entropy: Kullback-Leibler = 24.129651860744296% - Jensen-Shannon = 25.33013205282113%\n",
      "----------------------------------------------------------------------------------------------------\n",
      "../Records/EXP_03_NMNIST/test/2021-02-16_lagorce_rdn_None_True_[0.25, 1]_[4, 8, 16]_[5000.0, 50000.0, 500000.0]_[2, 4, 8]_False_833_[40000, None]_histo.pkl\n",
      "time jitter -> var = 40000\n"
     ]
    },
    {
     "name": "stderr",
     "output_type": "stream",
     "text": [
      "100%|██████████| 833/833 [09:08<00:00,  1.52it/s]\n"
     ]
    },
    {
     "name": "stdout",
     "output_type": "stream",
     "text": [
      "-----------------------------------------------SCORES-----------------------------------------------\n",
      "Classification scores with HOTS measures: bhatta = 23.649459783913564% - eucli = 24.729891956782712% - norm = 21.48859543817527%\n",
      "Classification scores with entropy: Kullback-Leibler = 23.409363745498197% - Jensen-Shannon = 23.88955582232893%\n",
      "----------------------------------------------------------------------------------------------------\n",
      "../Records/EXP_03_NMNIST/test/2021-02-16_lagorce_rdn_None_True_[0.25, 1]_[4, 8, 16]_[5000.0, 50000.0, 500000.0]_[2, 4, 8]_False_833_[44100, None]_histo.pkl\n",
      "time jitter -> var = 44100\n"
     ]
    },
    {
     "name": "stderr",
     "output_type": "stream",
     "text": [
      "100%|██████████| 833/833 [08:35<00:00,  1.62it/s]\n"
     ]
    },
    {
     "name": "stdout",
     "output_type": "stream",
     "text": [
      "-----------------------------------------------SCORES-----------------------------------------------\n",
      "Classification scores with HOTS measures: bhatta = 20.64825930372149% - eucli = 21.248499399759904% - norm = 18.127250900360146%\n",
      "Classification scores with entropy: Kullback-Leibler = 21.008403361344538% - Jensen-Shannon = 21.008403361344538%\n",
      "----------------------------------------------------------------------------------------------------\n",
      "../Records/EXP_03_NMNIST/test/2021-02-16_lagorce_rdn_None_True_[0.25, 1]_[4, 8, 16]_[5000.0, 50000.0, 500000.0]_[2, 4, 8]_False_833_[48400, None]_histo.pkl\n",
      "time jitter -> var = 48400\n"
     ]
    },
    {
     "name": "stderr",
     "output_type": "stream",
     "text": [
      "100%|██████████| 833/833 [08:24<00:00,  1.65it/s]\n"
     ]
    },
    {
     "name": "stdout",
     "output_type": "stream",
     "text": [
      "-----------------------------------------------SCORES-----------------------------------------------\n",
      "Classification scores with HOTS measures: bhatta = 17.286914765906364% - eucli = 16.56662665066026% - norm = 16.3265306122449%\n",
      "Classification scores with entropy: Kullback-Leibler = 17.52701080432173% - Jensen-Shannon = 17.286914765906364%\n",
      "----------------------------------------------------------------------------------------------------\n",
      "../Records/EXP_03_NMNIST/test/2021-02-16_lagorce_rdn_None_True_[0.25, 1]_[4, 8, 16]_[5000.0, 50000.0, 500000.0]_[2, 4, 8]_False_833_[52900, None]_histo.pkl\n",
      "time jitter -> var = 52900\n"
     ]
    },
    {
     "name": "stderr",
     "output_type": "stream",
     "text": [
      "100%|██████████| 833/833 [08:11<00:00,  1.69it/s]\n"
     ]
    },
    {
     "name": "stdout",
     "output_type": "stream",
     "text": [
      "-----------------------------------------------SCORES-----------------------------------------------\n",
      "Classification scores with HOTS measures: bhatta = 17.52701080432173% - eucli = 17.046818727490997% - norm = 17.406962785114047%\n",
      "Classification scores with entropy: Kullback-Leibler = 17.286914765906364% - Jensen-Shannon = 17.52701080432173%\n",
      "----------------------------------------------------------------------------------------------------\n",
      "../Records/EXP_03_NMNIST/test/2021-02-16_lagorce_rdn_None_True_[0.25, 1]_[4, 8, 16]_[5000.0, 50000.0, 500000.0]_[2, 4, 8]_False_833_[57600, None]_histo.pkl\n",
      "time jitter -> var = 57600\n"
     ]
    },
    {
     "name": "stderr",
     "output_type": "stream",
     "text": [
      "100%|██████████| 833/833 [08:04<00:00,  1.72it/s]\n"
     ]
    },
    {
     "name": "stdout",
     "output_type": "stream",
     "text": [
      "-----------------------------------------------SCORES-----------------------------------------------\n",
      "Classification scores with HOTS measures: bhatta = 16.44657863145258% - eucli = 12.004801920768307% - norm = 11.524609843937576%\n",
      "Classification scores with entropy: Kullback-Leibler = 15.72629051620648% - Jensen-Shannon = 16.44657863145258%\n",
      "----------------------------------------------------------------------------------------------------\n",
      "../Records/EXP_03_NMNIST/test/2021-02-16_lagorce_rdn_None_True_[0.25, 1]_[4, 8, 16]_[5000.0, 50000.0, 500000.0]_[2, 4, 8]_False_833_[62500, None]_histo.pkl\n",
      "time jitter -> var = 62500\n"
     ]
    },
    {
     "name": "stderr",
     "output_type": "stream",
     "text": [
      "100%|██████████| 833/833 [07:55<00:00,  1.75it/s]\n"
     ]
    },
    {
     "name": "stdout",
     "output_type": "stream",
     "text": [
      "-----------------------------------------------SCORES-----------------------------------------------\n",
      "Classification scores with HOTS measures: bhatta = 13.325330132052821% - eucli = 11.76470588235294% - norm = 13.325330132052821%\n",
      "Classification scores with entropy: Kullback-Leibler = 14.405762304921968% - Jensen-Shannon = 13.085234093637455%\n",
      "----------------------------------------------------------------------------------------------------\n",
      "../Records/EXP_03_NMNIST/test/2021-02-16_lagorce_rdn_None_True_[0.25, 1]_[4, 8, 16]_[5000.0, 50000.0, 500000.0]_[2, 4, 8]_False_833_[67600, None]_histo.pkl\n",
      "time jitter -> var = 67600\n"
     ]
    },
    {
     "name": "stderr",
     "output_type": "stream",
     "text": [
      "100%|██████████| 833/833 [07:44<00:00,  1.79it/s]\n"
     ]
    },
    {
     "name": "stdout",
     "output_type": "stream",
     "text": [
      "-----------------------------------------------SCORES-----------------------------------------------\n",
      "Classification scores with HOTS measures: bhatta = 15.606242496998798% - eucli = 10.684273709483794% - norm = 12.12484993997599%\n",
      "Classification scores with entropy: Kullback-Leibler = 15.966386554621847% - Jensen-Shannon = 15.366146458583433%\n",
      "----------------------------------------------------------------------------------------------------\n",
      "../Records/EXP_03_NMNIST/test/2021-02-16_lagorce_rdn_None_True_[0.25, 1]_[4, 8, 16]_[5000.0, 50000.0, 500000.0]_[2, 4, 8]_False_833_[72900, None]_histo.pkl\n",
      "time jitter -> var = 72900\n"
     ]
    },
    {
     "name": "stderr",
     "output_type": "stream",
     "text": [
      "100%|██████████| 833/833 [05:53<00:00,  2.36it/s]\n"
     ]
    },
    {
     "name": "stdout",
     "output_type": "stream",
     "text": [
      "-----------------------------------------------SCORES-----------------------------------------------\n",
      "Classification scores with HOTS measures: bhatta = 13.805522208883552% - eucli = 9.483793517406964% - norm = 12.605042016806722%\n",
      "Classification scores with entropy: Kullback-Leibler = 14.405762304921968% - Jensen-Shannon = 13.925570228091235%\n",
      "----------------------------------------------------------------------------------------------------\n",
      "../Records/EXP_03_NMNIST/test/2021-02-16_lagorce_rdn_None_True_[0.25, 1]_[4, 8, 16]_[5000.0, 50000.0, 500000.0]_[2, 4, 8]_False_833_[78400, None]_histo.pkl\n",
      "time jitter -> var = 78400\n"
     ]
    },
    {
     "name": "stderr",
     "output_type": "stream",
     "text": [
      "100%|██████████| 833/833 [05:41<00:00,  2.44it/s]\n"
     ]
    },
    {
     "name": "stdout",
     "output_type": "stream",
     "text": [
      "-----------------------------------------------SCORES-----------------------------------------------\n",
      "Classification scores with HOTS measures: bhatta = 14.285714285714285% - eucli = 11.644657863145259% - norm = 12.725090036014405%\n",
      "Classification scores with entropy: Kullback-Leibler = 15.006002400960384% - Jensen-Shannon = 14.405762304921968%\n",
      "----------------------------------------------------------------------------------------------------\n",
      "../Records/EXP_03_NMNIST/test/2021-02-16_lagorce_rdn_None_True_[0.25, 1]_[4, 8, 16]_[5000.0, 50000.0, 500000.0]_[2, 4, 8]_False_833_[84100, None]_histo.pkl\n",
      "time jitter -> var = 84100\n"
     ]
    },
    {
     "name": "stderr",
     "output_type": "stream",
     "text": [
      "100%|██████████| 833/833 [05:49<00:00,  2.38it/s]\n"
     ]
    },
    {
     "name": "stdout",
     "output_type": "stream",
     "text": [
      "-----------------------------------------------SCORES-----------------------------------------------\n",
      "Classification scores with HOTS measures: bhatta = 12.244897959183673% - eucli = 10.92436974789916% - norm = 12.004801920768307%\n",
      "Classification scores with entropy: Kullback-Leibler = 11.644657863145259% - Jensen-Shannon = 12.48499399759904%\n",
      "----------------------------------------------------------------------------------------------------\n",
      "loading... - temporal jitter = 84100 - score = 0.12484993997599039\r"
     ]
    },
    {
     "data": {
      "image/png": "[encoded data removed]",
      "text/plain": [
       "<Figure size 432x288 with 2 Axes>"
      ]
     },
     "metadata": {
      "needs_background": "light"
     },
     "output_type": "display_data"
    }
   ],
   "source": [
    "nb_test = 10000\n",
    "nb_train = 60000\n",
    "ds = 12\n",
    "\n",
    "\n",
    "nb_test = nb_test//ds\n",
    "nb_train = nb_train//ds\n",
    "print(f'training set size: {nb_train} - testing set: {nb_test}')\n",
    "\n",
    "jit_s = np.arange(0,6,0.2)\n",
    "jit_t = np.arange(0,300,10)\n",
    "jit_s, jit_t = jit_s**2, jit_t**2\n",
    "\n",
    "score_T, jit_t, score_S, jit_s = runjit(timestr, name, record_path, filt, tau, nblay, nbclust, sigma, homeinv, jitter, jit_s, jit_t, nb_train, nb_test, verbose=True)"
   ]
  }
 ],
 "metadata": {
  "kernelspec": {
   "display_name": "Python 3",
   "language": "python",
   "name": "python3"
  },
  "language_info": {
   "codemirror_mode": {
    "name": "ipython",
    "version": 3
   },
   "file_extension": ".py",
   "mimetype": "text/x-python",
   "name": "python",
   "nbconvert_exporter": "python",
   "pygments_lexer": "ipython3",
   "version": "3.8.5"
  },
  "widgets": {
   "application/vnd.jupyter.widget-state+json": {
    "state": {
     "0da042dd27b4491cbf5e1439b9531bfe": {
      "model_module": "@jupyter-widgets/controls",
      "model_module_version": "1.5.0",
      "model_name": "HTMLModel",
      "state": {
       "_dom_classes": [],
       "_model_module": "@jupyter-widgets/controls",
       "_model_module_version": "1.5.0",
       "_model_name": "HTMLModel",
       "_view_count": null,
       "_view_module": "@jupyter-widgets/controls",
       "_view_module_version": "1.5.0",
       "_view_name": "HTMLView",
       "description": "",
       "description_tooltip": null,
       "layout": "IPY_MODEL_0e52721d40cf45448655ac7b73fe220d",
       "placeholder": "​",
       "style": "IPY_MODEL_b5e83c3495fe4c4ca490a3e64a7e3b07",
       "value": " 83/83 [03:41&lt;00:00,  2.73s/it]"
      }
     },
     "0e52721d40cf45448655ac7b73fe220d": {
      "model_module": "@jupyter-widgets/base",
      "model_module_version": "1.2.0",
      "model_name": "LayoutModel",
      "state": {
       "_model_module": "@jupyter-widgets/base",
       "_model_module_version": "1.2.0",
       "_model_name": "LayoutModel",
       "_view_count": null,
       "_view_module": "@jupyter-widgets/base",
       "_view_module_version": "1.2.0",
       "_view_name": "LayoutView",
       "align_content": null,
       "align_items": null,
       "align_self": null,
       "border": null,
       "bottom": null,
       "display": null,
       "flex": null,
       "flex_flow": null,
       "grid_area": null,
       "grid_auto_columns": null,
       "grid_auto_flow": null,
       "grid_auto_rows": null,
       "grid_column": null,
       "grid_gap": null,
       "grid_row": null,
       "grid_template_areas": null,
       "grid_template_columns": null,
       "grid_template_rows": null,
       "height": null,
       "justify_content": null,
       "justify_items": null,
       "left": null,
       "margin": null,
       "max_height": null,
       "max_width": null,
       "min_height": null,
       "min_width": null,
       "object_fit": null,
       "object_position": null,
       "order": null,
       "overflow": null,
       "overflow_x": null,
       "overflow_y": null,
       "padding": null,
       "right": null,
       "top": null,
       "visibility": null,
       "width": null
      }
     },
     "1128ab1411054f88aa20a0706032499c": {
      "model_module": "@jupyter-widgets/controls",
      "model_module_version": "1.5.0",
      "model_name": "DescriptionStyleModel",
      "state": {
       "_model_module": "@jupyter-widgets/controls",
       "_model_module_version": "1.5.0",
       "_model_name": "DescriptionStyleModel",
       "_view_count": null,
       "_view_module": "@jupyter-widgets/base",
       "_view_module_version": "1.2.0",
       "_view_name": "StyleView",
       "description_width": ""
      }
     },
     "4cf3a82328224815af7267d1d96c3b98": {
      "model_module": "@jupyter-widgets/base",
      "model_module_version": "1.2.0",
      "model_name": "LayoutModel",
      "state": {
       "_model_module": "@jupyter-widgets/base",
       "_model_module_version": "1.2.0",
       "_model_name": "LayoutModel",
       "_view_count": null,
       "_view_module": "@jupyter-widgets/base",
       "_view_module_version": "1.2.0",
       "_view_name": "LayoutView",
       "align_content": null,
       "align_items": null,
       "align_self": null,
       "border": null,
       "bottom": null,
       "display": null,
       "flex": null,
       "flex_flow": null,
       "grid_area": null,
       "grid_auto_columns": null,
       "grid_auto_flow": null,
       "grid_auto_rows": null,
       "grid_column": null,
       "grid_gap": null,
       "grid_row": null,
       "grid_template_areas": null,
       "grid_template_columns": null,
       "grid_template_rows": null,
       "height": null,
       "justify_content": null,
       "justify_items": null,
       "left": null,
       "margin": null,
       "max_height": null,
       "max_width": null,
       "min_height": null,
       "min_width": null,
       "object_fit": null,
       "object_position": null,
       "order": null,
       "overflow": null,
       "overflow_x": null,
       "overflow_y": null,
       "padding": null,
       "right": null,
       "top": null,
       "visibility": null,
       "width": null
      }
     },
     "538350f4422940ceba91db0249b9186d": {
      "model_module": "@jupyter-widgets/base",
      "model_module_version": "1.2.0",
      "model_name": "LayoutModel",
      "state": {
       "_model_module": "@jupyter-widgets/base",
       "_model_module_version": "1.2.0",
       "_model_name": "LayoutModel",
       "_view_count": null,
       "_view_module": "@jupyter-widgets/base",
       "_view_module_version": "1.2.0",
       "_view_name": "LayoutView",
       "align_content": null,
       "align_items": null,
       "align_self": null,
       "border": null,
       "bottom": null,
       "display": null,
       "flex": null,
       "flex_flow": null,
       "grid_area": null,
       "grid_auto_columns": null,
       "grid_auto_flow": null,
       "grid_auto_rows": null,
       "grid_column": null,
       "grid_gap": null,
       "grid_row": null,
       "grid_template_areas": null,
       "grid_template_columns": null,
       "grid_template_rows": null,
       "height": null,
       "justify_content": null,
       "justify_items": null,
       "left": null,
       "margin": null,
       "max_height": null,
       "max_width": null,
       "min_height": null,
       "min_width": null,
       "object_fit": null,
       "object_position": null,
       "order": null,
       "overflow": null,
       "overflow_x": null,
       "overflow_y": null,
       "padding": null,
       "right": null,
       "top": null,
       "visibility": null,
       "width": null
      }
     },
     "581abfd04d32498b944ce1322900492a": {
      "model_module": "@jupyter-widgets/controls",
      "model_module_version": "1.5.0",
      "model_name": "FloatProgressModel",
      "state": {
       "_dom_classes": [],
       "_model_module": "@jupyter-widgets/controls",
       "_model_module_version": "1.5.0",
       "_model_name": "FloatProgressModel",
       "_view_count": null,
       "_view_module": "@jupyter-widgets/controls",
       "_view_module_version": "1.5.0",
       "_view_name": "ProgressView",
       "bar_style": "success",
       "description": "",
       "description_tooltip": null,
       "layout": "IPY_MODEL_538350f4422940ceba91db0249b9186d",
       "max": 83,
       "min": 0,
       "orientation": "horizontal",
       "style": "IPY_MODEL_d0e13546bf994f45a20db833bdb11363",
       "value": 83
      }
     },
     "7ce983a38ab1410e81271bcc7d473ba6": {
      "model_module": "@jupyter-widgets/controls",
      "model_module_version": "1.5.0",
      "model_name": "HBoxModel",
      "state": {
       "_dom_classes": [],
       "_model_module": "@jupyter-widgets/controls",
       "_model_module_version": "1.5.0",
       "_model_name": "HBoxModel",
       "_view_count": null,
       "_view_module": "@jupyter-widgets/controls",
       "_view_module_version": "1.5.0",
       "_view_name": "HBoxView",
       "box_style": "",
       "children": [
        "IPY_MODEL_c17e6e40b81143c2a014105e85beed1f",
        "IPY_MODEL_581abfd04d32498b944ce1322900492a",
        "IPY_MODEL_0da042dd27b4491cbf5e1439b9531bfe"
       ],
       "layout": "IPY_MODEL_4cf3a82328224815af7267d1d96c3b98"
      }
     },
     "b5e83c3495fe4c4ca490a3e64a7e3b07": {
      "model_module": "@jupyter-widgets/controls",
      "model_module_version": "1.5.0",
      "model_name": "DescriptionStyleModel",
      "state": {
       "_model_module": "@jupyter-widgets/controls",
       "_model_module_version": "1.5.0",
       "_model_name": "DescriptionStyleModel",
       "_view_count": null,
       "_view_module": "@jupyter-widgets/base",
       "_view_module_version": "1.2.0",
       "_view_name": "StyleView",
       "description_width": ""
      }
     },
     "c17e6e40b81143c2a014105e85beed1f": {
      "model_module": "@jupyter-widgets/controls",
      "model_module_version": "1.5.0",
      "model_name": "HTMLModel",
      "state": {
       "_dom_classes": [],
       "_model_module": "@jupyter-widgets/controls",
       "_model_module_version": "1.5.0",
       "_model_name": "HTMLModel",
       "_view_count": null,
       "_view_module": "@jupyter-widgets/controls",
       "_view_module_version": "1.5.0",
       "_view_name": "HTMLView",
       "description": "",
       "description_tooltip": null,
       "layout": "IPY_MODEL_c707940644974e3ba5d9a87f344d81c1",
       "placeholder": "​",
       "style": "IPY_MODEL_1128ab1411054f88aa20a0706032499c",
       "value": "100%"
      }
     },
     "c707940644974e3ba5d9a87f344d81c1": {
      "model_module": "@jupyter-widgets/base",
      "model_module_version": "1.2.0",
      "model_name": "LayoutModel",
      "state": {
       "_model_module": "@jupyter-widgets/base",
       "_model_module_version": "1.2.0",
       "_model_name": "LayoutModel",
       "_view_count": null,
       "_view_module": "@jupyter-widgets/base",
       "_view_module_version": "1.2.0",
       "_view_name": "LayoutView",
       "align_content": null,
       "align_items": null,
       "align_self": null,
       "border": null,
       "bottom": null,
       "display": null,
       "flex": null,
       "flex_flow": null,
       "grid_area": null,
       "grid_auto_columns": null,
       "grid_auto_flow": null,
       "grid_auto_rows": null,
       "grid_column": null,
       "grid_gap": null,
       "grid_row": null,
       "grid_template_areas": null,
       "grid_template_columns": null,
       "grid_template_rows": null,
       "height": null,
       "justify_content": null,
       "justify_items": null,
       "left": null,
       "margin": null,
       "max_height": null,
       "max_width": null,
       "min_height": null,
       "min_width": null,
       "object_fit": null,
       "object_position": null,
       "order": null,
       "overflow": null,
       "overflow_x": null,
       "overflow_y": null,
       "padding": null,
       "right": null,
       "top": null,
       "visibility": null,
       "width": null
      }
     },
     "d0e13546bf994f45a20db833bdb11363": {
      "model_module": "@jupyter-widgets/controls",
      "model_module_version": "1.5.0",
      "model_name": "ProgressStyleModel",
      "state": {
       "_model_module": "@jupyter-widgets/controls",
       "_model_module_version": "1.5.0",
       "_model_name": "ProgressStyleModel",
       "_view_count": null,
       "_view_module": "@jupyter-widgets/base",
       "_view_module_version": "1.2.0",
       "_view_name": "StyleView",
       "bar_color": null,
       "description_width": ""
      }
     }
    },
    "version_major": 2,
    "version_minor": 0
   }
  }
 },
 "nbformat": 4,
 "nbformat_minor": 4
}
