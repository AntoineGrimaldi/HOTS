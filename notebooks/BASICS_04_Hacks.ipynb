{
 "cells": [
  {
   "cell_type": "code",
   "execution_count": 1,
   "metadata": {
    "collapsed": false,
    "jupyter": {
     "outputs_hidden": false
    }
   },
   "outputs": [
    {
     "name": "stdout",
     "output_type": "stream",
     "text": [
      "/Users/joe/Documents/boulot/git/homhots/HOTS/HOTS\n"
     ]
    }
   ],
   "source": [
    "#%load_ext autoreload\n",
    "#%autoreload 2\n",
    "%matplotlib inline\n",
    "%cd '../HOTS'"
   ]
  },
  {
   "cell_type": "code",
   "execution_count": 2,
   "metadata": {
    "collapsed": false,
    "jupyter": {
     "outputs_hidden": false
    }
   },
   "outputs": [],
   "source": [
    "import numpy as np\n",
    "import matplotlib.pyplot as plt\n",
    "import cv2\n",
    "import time\n",
    "import os\n",
    "import pickle\n",
    "from mix_Network import *\n",
    "from Event import Event\n",
    "from Tools import LoadObject, EuclidianNorm, NormalizedNorm, BattachaNorm"
   ]
  },
  {
   "cell_type": "code",
   "execution_count": 3,
   "metadata": {},
   "outputs": [],
   "source": [
    "def EuclidianNorm(hist1,hist2):\n",
    "    return np.linalg.norm(hist1-hist2)\n",
    "\n",
    "def NormalizedNorm(hist1,hist2):\n",
    "    hist1/=np.sum(hist1)\n",
    "    hist2/=np.sum(hist2)\n",
    "    return np.linalg.norm(hist1-hist2)/(np.linalg.norm(hist1)*np.linalg.norm(hist2))\n",
    "\n",
    "def BattachaNorm(hist1, hist2):\n",
    "    hist1/=np.sum(hist1)\n",
    "    hist2/=np.sum(hist2)\n",
    "    return -np.log(np.sum(np.sqrt(hist1*hist2)))\n",
    "\n",
    "def accuracy(trainmap,testmap,measure):\n",
    "    accuracy=0\n",
    "    total = 0\n",
    "    for i in range(len(testmap)):\n",
    "        dist = np.zeros([len(trainmap)])\n",
    "        for k in range(len(trainmap)):\n",
    "            if measure=='bhatta':\n",
    "                dist[k] = BattachaNorm(testmap[i][1],trainmap[k][1])\n",
    "            elif measure=='eucli':\n",
    "                dist[k] = EuclidianNorm(testmap[i][1],trainmap[k][1])\n",
    "            elif measure=='norm':\n",
    "                dist[k] = NormalizedNorm(testmap[i][1],trainmap[k][1])\n",
    "        if testmap[i][0]==trainmap[np.argmin(dist)][0]:\n",
    "            accuracy+=1\n",
    "        total+=1\n",
    "    return accuracy/total"
   ]
  },
  {
   "cell_type": "markdown",
   "metadata": {
    "jupyter": {
     "outputs_hidden": false
    }
   },
   "source": [
    "# 1. Initialisation of the time-surfaces (TS)\n",
    "## 1.1. In Lagorce 2017, initialisation is done with the first N TS"
   ]
  },
  {
   "cell_type": "code",
   "execution_count": 4,
   "metadata": {
    "collapsed": false,
    "jupyter": {
     "outputs_hidden": false
    }
   },
   "outputs": [
    {
     "name": "stderr",
     "output_type": "stream",
     "text": [
      "100%|██████████| 223371/223371 [01:43<00:00, 2166.20it/s]\n",
      "100%|██████████| 223371/223371 [03:03<00:00, 1219.43it/s]\n",
      "100%|██████████| 223371/223371 [04:10<00:00, 891.92it/s] \n",
      "100%|██████████| 520844/520844 [07:53<00:00, 1099.18it/s]\n"
     ]
    },
    {
     "ename": "TypeError",
     "evalue": "testinglagorce() missing 1 required positional argument: 'trainmap'",
     "output_type": "error",
     "traceback": [
      "\u001b[0;31m---------------------------------------------------------------------------\u001b[0m",
      "\u001b[0;31mTypeError\u001b[0m                                 Traceback (most recent call last)",
      "\u001b[0;32m<ipython-input-4-5e3cb9f04cc6>\u001b[0m in \u001b[0;36m<module>\u001b[0;34m\u001b[0m\n\u001b[1;32m      4\u001b[0m     \u001b[0mhots\u001b[0m\u001b[0;34m.\u001b[0m\u001b[0mlearninglagorce\u001b[0m\u001b[0;34m(\u001b[0m\u001b[0;34m)\u001b[0m\u001b[0;34m\u001b[0m\u001b[0;34m\u001b[0m\u001b[0m\n\u001b[1;32m      5\u001b[0m     \u001b[0mtrainmap\u001b[0m \u001b[0;34m=\u001b[0m \u001b[0mhots\u001b[0m\u001b[0;34m.\u001b[0m\u001b[0mtraininglagorce\u001b[0m\u001b[0;34m(\u001b[0m\u001b[0;34m)\u001b[0m\u001b[0;34m\u001b[0m\u001b[0;34m\u001b[0m\u001b[0m\n\u001b[0;32m----> 6\u001b[0;31m     \u001b[0mtestmap\u001b[0m \u001b[0;34m=\u001b[0m \u001b[0mhots\u001b[0m\u001b[0;34m.\u001b[0m\u001b[0mtestinglagorce\u001b[0m\u001b[0;34m(\u001b[0m\u001b[0;34m)\u001b[0m\u001b[0;34m\u001b[0m\u001b[0;34m\u001b[0m\u001b[0m\n\u001b[0m\u001b[1;32m      7\u001b[0m     \u001b[0;32mwith\u001b[0m \u001b[0mopen\u001b[0m\u001b[0;34m(\u001b[0m\u001b[0mfname\u001b[0m\u001b[0;34m,\u001b[0m \u001b[0;34m'wb'\u001b[0m\u001b[0;34m)\u001b[0m \u001b[0;32mas\u001b[0m \u001b[0mfile\u001b[0m\u001b[0;34m:\u001b[0m\u001b[0;34m\u001b[0m\u001b[0;34m\u001b[0m\u001b[0m\n\u001b[1;32m      8\u001b[0m         \u001b[0mpickle\u001b[0m\u001b[0;34m.\u001b[0m\u001b[0mdump\u001b[0m\u001b[0;34m(\u001b[0m\u001b[0;34m[\u001b[0m\u001b[0mhots\u001b[0m\u001b[0;34m,\u001b[0m \u001b[0mtrainmap\u001b[0m\u001b[0;34m,\u001b[0m \u001b[0mtestmap\u001b[0m\u001b[0;34m]\u001b[0m\u001b[0;34m,\u001b[0m \u001b[0mfile\u001b[0m\u001b[0;34m,\u001b[0m \u001b[0mpickle\u001b[0m\u001b[0;34m.\u001b[0m\u001b[0mHIGHEST_PROTOCOL\u001b[0m\u001b[0;34m)\u001b[0m\u001b[0;34m\u001b[0m\u001b[0;34m\u001b[0m\u001b[0m\n",
      "\u001b[0;31mTypeError\u001b[0m: testinglagorce() missing 1 required positional argument: 'trainmap'"
     ]
    }
   ],
   "source": [
    "fname = \"../Records/EXP_01_LagorceKmeans/2020-11-26-mix_hots_validation.pkl\"\n",
    "if not os.path.isfile(fname):\n",
    "    hots = network(algo='lagorce', krnlinit='first')\n",
    "    hots.learninglagorce()\n",
    "    trainmap = hots.traininglagorce()\n",
    "    testmap = hots.testinglagorce()\n",
    "    with open(fname, 'wb') as file:\n",
    "        pickle.dump([hots, trainmap, testmap], file, pickle.HIGHEST_PROTOCOL)\n",
    "else:\n",
    "    with open(fname, 'rb') as file:\n",
    "        hots, trainmap, testmap = pickle.load(file)"
   ]
  },
  {
   "cell_type": "code",
   "execution_count": null,
   "metadata": {},
   "outputs": [],
   "source": [
    "hots.plotlayer()\n",
    "hots.plotconv()"
   ]
  },
  {
   "cell_type": "code",
   "execution_count": null,
   "metadata": {},
   "outputs": [],
   "source": [
    "score1=accuracy(trainmap,testmap,'bhatta')\n",
    "score2=accuracy(trainmap,testmap,'eucli')\n",
    "score3=accuracy(trainmap,testmap,'norm')\n",
    "print('bhatta:'+str(score1*100)+'% - '+'eucli:'+str(score2*100)+'% - '+'norm:'+str(score3*100)+'%')"
   ]
  },
  {
   "cell_type": "markdown",
   "metadata": {
    "jupyter": {
     "outputs_hidden": false
    }
   },
   "source": [
    "## 1.2. Random initialisation of the TS "
   ]
  },
  {
   "cell_type": "code",
   "execution_count": null,
   "metadata": {},
   "outputs": [],
   "source": [
    "fname = \"../Records/EXP_01_LagorceKmeans/2020-11-26-mix_hots_validation_randominit.pkl\"\n",
    "if not os.path.isfile(fname):\n",
    "    hotsrdn = network(algo='lagorce', krnlinit='rdn')\n",
    "    hotsrdn.learninglagorce()\n",
    "    hotsrdn.plotlayer()\n",
    "    trainmaprdn = hotsrdn.traininglagorce()\n",
    "    testmaprdn = hotsrdn.testinglagorce()\n",
    "    with open(fname, 'wb') as file:\n",
    "        pickle.dump([hotsrdn, trainmaprdn, testmaprdn], file, pickle.HIGHEST_PROTOCOL)\n",
    "else:\n",
    "    with open(fname, 'rb') as file:\n",
    "        hotsrdn, trainmaprdn, testmaprdn = pickle.load(file)\n",
    "    hotsrdn.plotlayer()"
   ]
  },
  {
   "cell_type": "code",
   "execution_count": null,
   "metadata": {},
   "outputs": [],
   "source": [
    "score1=accuracy(trainmaprdn,testmaprdn,'bhatta')\n",
    "score2=accuracy(trainmaprdn,testmaprdn,'eucli')\n",
    "score3=accuracy(trainmaprdn,testmaprdn,'norm')\n",
    "print('bhatta:'+str(score1*100)+'% - '+'eucli:'+str(score2*100)+'% - '+'norm:'+str(score3*100)+'%')"
   ]
  },
  {
   "cell_type": "markdown",
   "metadata": {},
   "source": [
    "# 2. Denoising\n",
    "## 2.1 Filtering only the TS on the first layer "
   ]
  },
  {
   "cell_type": "code",
   "execution_count": null,
   "metadata": {},
   "outputs": [],
   "source": [
    "fname = \"../Records/EXP_01_LagorceKmeans/2020-11-26-mix_hots_validation.pkl\"\n",
    "if not os.path.isfile(fname):\n",
    "    hots = network(algo='lagorce', krnlinit='first')\n",
    "    hots.learninglagorce()\n",
    "    trainmap = hots.traininglagorce()\n",
    "    testmap = hots.testinglagorce()\n",
    "    with open(fname, 'wb') as file:\n",
    "        pickle.dump([hots, trainmap, testmap], file, pickle.HIGHEST_PROTOCOL)\n",
    "else:\n",
    "    with open(fname, 'rb') as file:\n",
    "        hots, trainmap, testmap = pickle.load(file)\n",
    "        \n",
    "score1=accuracy(trainmap,testmap,'bhatta')\n",
    "score2=accuracy(trainmap,testmap,'eucli')\n",
    "score3=accuracy(trainmap,testmap,'norm')\n",
    "print('bhatta:'+str(score1*100)+'% - '+'eucli:'+str(score2*100)+'% - '+'norm:'+str(score3*100)+'%')"
   ]
  },
  {
   "cell_type": "markdown",
   "metadata": {
    "jupyter": {
     "outputs_hidden": false
    }
   },
   "source": [
    "## 2.2 Filtering TS on every layer"
   ]
  },
  {
   "cell_type": "code",
   "execution_count": null,
   "metadata": {
    "collapsed": false,
    "jupyter": {
     "outputs_hidden": false
    }
   },
   "outputs": [],
   "source": [
    "fname = \"../Records/EXP_01_LagorceKmeans/2020-11-26-mix_hots_validation_filterall.pkl\"\n",
    "if not os.path.isfile(fname):\n",
    "    hotsfilt = network(algo='lagorce', krnlinit='first')\n",
    "    hotsfilt.learninglagorce(filtering='all')\n",
    "    hotsfilt.plotlayer()\n",
    "    trainmapfilt = hotsfilt.traininglagorce()\n",
    "    testmapfilt = hotsfilt.testinglagorce()\n",
    "    with open(fname, 'wb') as file:\n",
    "        pickle.dump([hotsfilt, trainmapfilt, testmapfilt], file, pickle.HIGHEST_PROTOCOL)\n",
    "else:\n",
    "    with open(fname, 'rb') as file:\n",
    "        hotsfilt, trainmapfilt, testmapfilt = pickle.load(file)\n",
    "    hotsfilt.plotlayer()"
   ]
  },
  {
   "cell_type": "code",
   "execution_count": null,
   "metadata": {
    "collapsed": false,
    "jupyter": {
     "outputs_hidden": false
    }
   },
   "outputs": [],
   "source": [
    "score1=accuracy(trainmapfilt,testmapfilt,'bhatta')\n",
    "score2=accuracy(trainmapfilt,testmapfilt,'eucli')\n",
    "score3=accuracy(trainmapfilt,testmapfilt,'norm')\n",
    "print('bhatta:'+str(score1*100)+'% - '+'eucli:'+str(score2*100)+'% - '+'norm:'+str(score3*100)+'%')"
   ]
  },
  {
   "cell_type": "markdown",
   "metadata": {},
   "source": [
    "## 2.3. Applying stronger filter (2*R -> 5*R)"
   ]
  },
  {
   "cell_type": "code",
   "execution_count": null,
   "metadata": {
    "collapsed": false,
    "jupyter": {
     "outputs_hidden": false
    }
   },
   "outputs": [],
   "source": [
    "fname = \"../Records/EXP_01_LagorceKmeans/2020-11-26-mix_hots_validation_filtx5.pkl\"\n",
    "if not os.path.isfile(fname):\n",
    "    hotsfiltx5 = network(algo='lagorce', krnlinit='first', filt=5)\n",
    "    hotsfiltx5.learninglagorce(filtering='all')\n",
    "    hotsfiltx5.plotlayer()\n",
    "    trainmapfiltx5 = hotsfiltx5.traininglagorce()\n",
    "    testmapfiltx5 = hotsfiltx5.testinglagorce()\n",
    "    with open(fname, 'wb') as file:\n",
    "        pickle.dump([hotsfiltx5, trainmapfiltx5, testmapfiltx5] , file, pickle.HIGHEST_PROTOCOL)\n",
    "else:\n",
    "    with open(fname, 'rb') as file:\n",
    "        hotsfiltx5, trainmapfiltx5, testmapfiltx5 = pickle.load(file)\n",
    "    hotsfiltx5.plotlayer()"
   ]
  },
  {
   "cell_type": "code",
   "execution_count": null,
   "metadata": {},
   "outputs": [],
   "source": [
    "score1=accuracy(trainmapfiltx5,testmapfiltx5,'bhatta')\n",
    "score2=accuracy(trainmapfiltx5,testmapfiltx5,'eucli')\n",
    "score3=accuracy(trainmapfiltx5,testmapfiltx5,'norm')\n",
    "print('bhatta:'+str(score1*100)+'% - '+'eucli:'+str(score2*100)+'% - '+'norm:'+str(score3*100)+'%')"
   ]
  },
  {
   "cell_type": "markdown",
   "metadata": {},
   "source": [
    "# 3. Filtering of the TS"
   ]
  },
  {
   "cell_type": "code",
   "execution_count": null,
   "metadata": {},
   "outputs": [],
   "source": []
  }
 ],
 "metadata": {
  "kernelspec": {
   "display_name": "Python 3",
   "language": "python",
   "name": "python3"
  },
  "language_info": {
   "codemirror_mode": {
    "name": "ipython",
    "version": 3
   },
   "file_extension": ".py",
   "mimetype": "text/x-python",
   "name": "python",
   "nbconvert_exporter": "python",
   "pygments_lexer": "ipython3",
   "version": "3.7.9"
  }
 },
 "nbformat": 4,
 "nbformat_minor": 4
}
