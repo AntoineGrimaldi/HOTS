{
 "cells": [
  {
   "cell_type": "markdown",
   "metadata": {
    "jupyter": {
     "outputs_hidden": false
    }
   },
   "source": [
    "# BASICS 04 - Some hacks"
   ]
  },
  {
   "cell_type": "code",
   "execution_count": 20,
   "metadata": {},
   "outputs": [
    {
     "name": "stdout",
     "output_type": "stream",
     "text": [
      "The autoreload extension is already loaded. To reload it, use:\n",
      "  %reload_ext autoreload\n",
      "/Users/joe/Documents/boulot/git/homhots/HOTS/HOTS\n"
     ]
    }
   ],
   "source": [
    "%load_ext autoreload\n",
    "%autoreload 2\n",
    "%matplotlib inline\n",
    "%cd '../HOTS'"
   ]
  },
  {
   "cell_type": "code",
   "execution_count": 21,
   "metadata": {
    "collapsed": false,
    "jupyter": {
     "outputs_hidden": false
    }
   },
   "outputs": [],
   "source": [
    "import numpy as np\n",
    "import matplotlib.pyplot as plt\n",
    "import cv2\n",
    "import time\n",
    "import os\n",
    "import pickle\n",
    "from mix_Network import *"
   ]
  },
  {
   "cell_type": "markdown",
   "metadata": {
    "jupyter": {
     "outputs_hidden": false
    }
   },
   "source": [
    "# 1. Initialisation of the time-surfaces (TS)\n",
    "## 1.1. In Lagorce 2017, initialisation is done with the first N TS"
   ]
  },
  {
   "cell_type": "code",
   "execution_count": null,
   "metadata": {
    "collapsed": false,
    "jupyter": {
     "outputs_hidden": false
    }
   },
   "outputs": [
    {
     "name": "stderr",
     "output_type": "stream",
     "text": [
      "100%|██████████| 223371/223371 [00:49<00:00, 4549.09it/s]\n",
      "100%|██████████| 223371/223371 [01:53<00:00, 1970.64it/s]\n",
      " 42%|████▏     | 94816/223371 [01:54<02:24, 890.90it/s] "
     ]
    }
   ],
   "source": [
    "fname = \"../Records/EXP_01_LagorceKmeans/2020-11-26-mix_hots_validation.pkl\"\n",
    "if not os.path.isfile(fname):\n",
    "    hots = network(algo='lagorce', krnlinit='first')\n",
    "    hots.learninglagorce()\n",
    "    trainmap = hots.traininglagorce()\n",
    "    testmap = hots.testinglagorce(trainmap)\n",
    "    with open(fname, 'wb') as file:\n",
    "        pickle.dump([hots, trainmap, testmap], file, pickle.HIGHEST_PROTOCOL)\n",
    "else:\n",
    "    with open(fname, 'rb') as file:\n",
    "        hots, trainmap, testmap = pickle.load(file)\n",
    "accuracy(trainmap,testmap,'bhatta')"
   ]
  },
  {
   "cell_type": "markdown",
   "metadata": {
    "jupyter": {
     "outputs_hidden": false
    }
   },
   "source": [
    "## 1.2. Random initialisation of the TS "
   ]
  },
  {
   "cell_type": "code",
   "execution_count": null,
   "metadata": {},
   "outputs": [],
   "source": [
    "fname = \"../Records/EXP_01_LagorceKmeans/2020-11-26-mix_hots_validation_randominit.pkl\"\n",
    "if not os.path.isfile(fname):\n",
    "    hotsrdn = network(algo='lagorce', krnlinit='rdn')\n",
    "    hotsrdn.learninglagorce()\n",
    "    hotsrdn.plotlayer()\n",
    "    trainmaprdn = hotsrdn.traininglagorce()\n",
    "    testmaprdn = hotsrdn.testinglagorce(trainmaprdn)\n",
    "    with open(fname, 'wb') as file:\n",
    "        pickle.dump([hotsrdn, trainmaprdn, testmaprdn], file, pickle.HIGHEST_PROTOCOL)\n",
    "else:\n",
    "    with open(fname, 'rb') as file:\n",
    "        hotsrdn, trainmaprdn, testmaprdn = pickle.load(file)\n",
    "    hotsrdn.plotlayer()"
   ]
  },
  {
   "cell_type": "markdown",
   "metadata": {},
   "source": [
    "# 2. Denoising\n",
    "## 2.1 Filtering only the TS on the first layer "
   ]
  },
  {
   "cell_type": "code",
   "execution_count": null,
   "metadata": {},
   "outputs": [],
   "source": [
    "fname = \"../Records/EXP_01_LagorceKmeans/2020-11-26-mix_hots_validation.pkl\"\n",
    "if not os.path.isfile(fname):\n",
    "    hots = network(algo='lagorce', krnlinit='first')\n",
    "    hots.learninglagorce()\n",
    "    trainmap = hots.traininglagorce()\n",
    "    testmap = hots.testinglagorce(trainmap)\n",
    "    with open(fname, 'wb') as file:\n",
    "        pickle.dump([hots, trainmap, testmap], file, pickle.HIGHEST_PROTOCOL)\n",
    "else:\n",
    "    with open(fname, 'rb') as file:\n",
    "        hots, trainmap, testmap = pickle.load(file)"
   ]
  },
  {
   "cell_type": "markdown",
   "metadata": {
    "jupyter": {
     "outputs_hidden": false
    }
   },
   "source": [
    "## 2.2 Filtering TS on every layer"
   ]
  },
  {
   "cell_type": "code",
   "execution_count": null,
   "metadata": {
    "collapsed": false,
    "jupyter": {
     "outputs_hidden": false
    }
   },
   "outputs": [],
   "source": [
    "fname = \"../Records/EXP_01_LagorceKmeans/2020-11-26-mix_hots_validation_filterall.pkl\"\n",
    "if not os.path.isfile(fname):\n",
    "    hotsfilt = network(algo='lagorce', krnlinit='first')\n",
    "    hotsfilt.learninglagorce(filtering='all')\n",
    "    hotsfilt.plotlayer()\n",
    "    trainmapfilt = hotsfilt.traininglagorce()\n",
    "    testmapfilt = hotsfilt.testinglagorce(trainmapfilt)\n",
    "    with open(fname, 'wb') as file:\n",
    "        pickle.dump([hotsfilt, trainmapfilt, testmapfilt], file, pickle.HIGHEST_PROTOCOL)\n",
    "else:\n",
    "    with open(fname, 'rb') as file:\n",
    "        hotsfilt, trainmapfilt, testmapfilt = pickle.load(file)\n",
    "    hotsfilt.plotlayer()"
   ]
  },
  {
   "cell_type": "markdown",
   "metadata": {},
   "source": [
    "## 2.3. Applying stronger filter (2*R -> 5*R)"
   ]
  },
  {
   "cell_type": "code",
   "execution_count": null,
   "metadata": {
    "collapsed": false,
    "jupyter": {
     "outputs_hidden": false
    }
   },
   "outputs": [],
   "source": [
    "fname = \"../Records/EXP_01_LagorceKmeans/2020-11-26-mix_hots_validation_filtx5.pkl\"\n",
    "if not os.path.isfile(fname):\n",
    "    hotsfiltx5 = network(algo='lagorce', krnlinit='first', filt=5)\n",
    "    hotsfiltx5.learninglagorce(filtering='all')\n",
    "    hotsfiltx5.plotlayer()\n",
    "    trainmapfiltx5 = hotsfiltx5.traininglagorce()\n",
    "    testmapfiltx5 = hotsfiltx5.testinglagorce(trainmapfiltx5)\n",
    "    with open(fname, 'wb') as file:\n",
    "        pickle.dump([hotsfiltx5, trainmapfiltx5, testmapfiltx5] , file, pickle.HIGHEST_PROTOCOL)\n",
    "else:\n",
    "    with open(fname, 'rb') as file:\n",
    "        hotsfiltx5, trainmapfiltx5, testmapfiltx5 = pickle.load(file)\n",
    "    hotsfiltx5.plotlayer()"
   ]
  },
  {
   "cell_type": "markdown",
   "metadata": {},
   "source": [
    "# 3. Filtering of the TS"
   ]
  },
  {
   "cell_type": "code",
   "execution_count": null,
   "metadata": {},
   "outputs": [],
   "source": []
  }
 ],
 "metadata": {
  "kernelspec": {
   "display_name": "Python 3",
   "language": "python",
   "name": "python3"
  },
  "language_info": {
   "codemirror_mode": {
    "name": "ipython",
    "version": 3
   },
   "file_extension": ".py",
   "mimetype": "text/x-python",
   "name": "python",
   "nbconvert_exporter": "python",
   "pygments_lexer": "ipython3",
   "version": "3.7.9"
  }
 },
 "nbformat": 4,
 "nbformat_minor": 4
}
