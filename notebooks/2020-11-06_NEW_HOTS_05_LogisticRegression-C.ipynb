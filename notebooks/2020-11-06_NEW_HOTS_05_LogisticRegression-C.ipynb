{
 "cells": [
  {
   "cell_type": "code",
   "execution_count": null,
   "metadata": {},
   "outputs": [
    {
     "name": "stdout",
     "output_type": "stream",
     "text": [
      "/Users/laurentperrinet/quantic/science/HomeHots/HOTS_clone_laurent\n",
      "Number of events: 20535 - Number of features: 18496\n"
     ]
    }
   ],
   "source": [
    "%run 2020-11-06_NEW_HOTS_05_LogisticRegression.ipynb"
   ]
  },
  {
   "cell_type": "markdown",
   "metadata": {},
   "source": [
    "### Performing logistic regression with cross-validation\n",
    "\n",
    "https://scikit-learn.org/stable/modules/generated/sklearn.linear_model.LogisticRegressionCV.html\n"
   ]
  },
  {
   "cell_type": "code",
   "execution_count": null,
   "metadata": {},
   "outputs": [],
   "source": [
    "from sklearn.linear_model import LogisticRegressionCV as LR\n",
    "from sklearn.linear_model import LogisticRegression as LR\n",
    "# from sklearn.model_selection import train_test_split\n",
    "\n",
    "opts_LR = dict(random_state=0, max_iter=1000, Cs=5)\n",
    "opts_LR = dict(random_state=0, max_iter=5000, Cs=32)\n",
    "opts_LR = dict(random_state=0, max_iter=5000)\n",
    "\n",
    "# directly from the input\n",
    "# X_train, y_train = gather_data(events_train, labels_train)\n",
    "# lr = LogisticRegressionCV(**opts_LR).fit(X_train, y_train)\n",
    "# X_test, y_test = gather_data(events_test, labels_test)\n",
    "# print(f'Classification score for dataset is {lr.score(X_test, y_test):.3f}')"
   ]
  },
  {
   "cell_type": "code",
   "execution_count": null,
   "metadata": {},
   "outputs": [],
   "source": [
    "for homeo in [False, True]:\n",
    "    if homeo:\n",
    "        fname_event0_o = 'Records/EXP_03_NMNIST/'+timestr+'_hots_event0_o_homeo.p'\n",
    "    else:\n",
    "        fname_event0_o = 'Records/EXP_03_NMNIST/'+timestr+'_hots_event0_o.p'\n",
    "        \n",
    "    events_train_o, events_test_o = LoadObject(fname_event0_o)\n",
    "\n",
    "    for sample_space in [4, 2, 1]:\n",
    "        X_train, y_train = gather_data(events_train_o, labels_train, sample_space=sample_space)\n",
    "        lr = LogisticRegressionCV(**opts_LR).fit(X_train, y_train)\n",
    "        print(f'Classification score for {homeo=} is {lr.score(X_train, y_train):.3f}')\n",
    "        X_test, y_test = gather_data(events_test_o, labels_test, sample_space=sample_space)\n",
    "        print(f'Classification score for {sample_space=} is {lr.score(X_test, y_test):.3f}')\n"
   ]
  },
  {
   "cell_type": "code",
   "execution_count": null,
   "metadata": {},
   "outputs": [],
   "source": [
    "if False:\n",
    "    # TODO: see classification wrt tau\n",
    "\n",
    "    tauz = np.array([1e-5,1e-4,2e-4,3e-4,4e-4,5e-4,6e-4,7e-4,8e-4,9e-4,1e-3,1.5e-3,2e-3,2.5e-3,3e-3,4e-3,5e-3,1e-2,2e-2])\n",
    "    algo = 'lagorce'\n",
    "    hom = False\n",
    "\n",
    "    fig, ax = plt.subplots(figsize=(15,7));\n",
    "    ax.set_xlabel('log10 value of tau')\n",
    "    ax.set_ylabel('classification performances on 40 tests and 40 training digits')\n",
    "    ax.set_title(\"Classification results of HOTS for different tau\")\n",
    "    colorz = ['red', 'green', 'blue']\n",
    "\n"
   ]
  }
 ],
 "metadata": {
  "kernelspec": {
   "display_name": "Python 3",
   "language": "python",
   "name": "python3"
  },
  "language_info": {
   "codemirror_mode": {
    "name": "ipython",
    "version": 3
   },
   "file_extension": ".py",
   "mimetype": "text/x-python",
   "name": "python",
   "nbconvert_exporter": "python",
   "pygments_lexer": "ipython3",
   "version": "3.9.0"
  }
 },
 "nbformat": 4,
 "nbformat_minor": 4
}
