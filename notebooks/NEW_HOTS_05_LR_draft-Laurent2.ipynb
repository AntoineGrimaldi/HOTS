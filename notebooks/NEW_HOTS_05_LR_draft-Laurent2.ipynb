{
 "cells": [
  {
   "cell_type": "code",
   "execution_count": 1,
   "metadata": {},
   "outputs": [
    {
     "name": "stdout",
     "output_type": "stream",
     "text": [
      "/Users/lolo/quantic/science/HomeHots/HOTS_clone_laurent\n"
     ]
    }
   ],
   "source": [
    "#%load_ext autoreload\n",
    "#%autoreload 2\n",
    "%matplotlib inline\n",
    "%cd '../'"
   ]
  },
  {
   "cell_type": "code",
   "execution_count": 2,
   "metadata": {},
   "outputs": [],
   "source": [
    "\n",
    "import numpy as np\n",
    "import matplotlib.pyplot as plt\n",
    "import os\n",
    "import time\n",
    "timestr = '20201021'\n",
    "    "
   ]
  },
  {
   "cell_type": "markdown",
   "metadata": {},
   "source": [
    "### Building matrix for logistic regression"
   ]
  },
  {
   "cell_type": "code",
   "execution_count": null,
   "metadata": {},
   "outputs": [
    {
     "name": "stdout",
     "output_type": "stream",
     "text": [
      "[2, 5, 9, 1, 3, 6, 7, 0, 8, 4]\n"
     ]
    }
   ],
   "source": [
    "#fname = 'Records/EXP_03_NMNIST/'+timestr+'_hots_vectorzLR.pkl'\n",
    "fname = '/tmp/'+timestr+'_hots_vectorzLR_2'\n",
    "\n",
    "if not os.path.isfile(fname + '_X.npy'):\n",
    "    \n",
    "    import pickle\n",
    "    from HOTS.ToolsMonitor import GenerateActivationMap, DisplayActivationMap\n",
    "    from HOTS.Event import Event, SimpleAlphabet, LoadNMNIST\n",
    "    from HOTS.STS import STS\n",
    "    from HOTS.Layer import ClusteringLayer\n",
    "    from HOTS.ToolsMonitor import (\n",
    "        DisplayImage,\n",
    "        DisplaySurface3D,\n",
    "        DisplaySurface2D,\n",
    "        DisplayConvergence,\n",
    "    )\n",
    "    from HOTS.Tools import SaveObject, LoadObject\n",
    "    from HOTS.Network import Network\n",
    "    from HOTS.Event import conv2eve\n",
    "\n",
    "    tau = 9e-4 # -> tau=1ms, si on prend 10 ms on est à 1s pour la dernière couche et les vidéos font 0.3s en moyenne\n",
    "    R = 2\n",
    "    filthr = 2\n",
    "    nbkNN = 3\n",
    "    algo = 'lagorce'\n",
    "    decay = 'exponential'\n",
    "    hom = True\n",
    "    krnlinit = 'rdn'\n",
    "    nb_cluster = [4, 8, 16]\n",
    "    ImageSize = (34, 34)\n",
    "    DataPath = 'Data/testsetnmnist.p'\n",
    "\n",
    "    NbClusteringData = 15\n",
    "    NbTrainingData = 40\n",
    "    NbTestingData = 40\n",
    "    \n",
    "    NbClusteringData = 1500\n",
    "    NbTrainingData = 5000\n",
    "    NbTestingData = 2500\n",
    "\n",
    "    _1ofich = True\n",
    "    event_tr, event_te, event_cl, label_tr, label_te = LoadNMNIST(\n",
    "    NbTrainingData, NbTestingData, NbClusteringData, OneOfEach=_1ofich, Path=DataPath, OutOnePolarity=False, ListPolarities=None, verbose=0)\n",
    "    \n",
    "    #timestr = time.strftime(\"%Y%m%d\")\n",
    "    hom = False\n",
    "    \n",
    "    if hom==True:\n",
    "        fname_model = 'Records/EXP_03_NMNIST/'+timestr+'_hots_'+str(tau*1000)+'ms_'+algo+'_homeo.pkl'\n",
    "    else:\n",
    "        fname_model = 'Records/EXP_03_NMNIST/'+timestr+'_hots_'+str(tau*1000)+'ms_'+algo+'.pkl'\n",
    "    print(fname)\n",
    "\n",
    "    L1 = ClusteringLayer(tau=tau,R=R,verbose=0,ThrFilter=filthr,LearningAlgo=algo,kernel=decay,homeo=hom,init=krnlinit)\n",
    "    L2 = ClusteringLayer(tau=10 * tau,R=2 * R,verbose=0,ThrFilter=filthr,LearningAlgo=algo,kernel=decay,homeo=hom,init=krnlinit)\n",
    "    L3 = ClusteringLayer(tau=10 * 10 * tau,R=2 * 2 * R,verbose=0,ThrFilter=filthr,LearningAlgo=algo,kernel=decay,homeo=hom,init=krnlinit)\n",
    "    Net = Network([L1, L2, L3])\n",
    "    if not os.path.isfile(fname_model):\n",
    "        ClusterLayer, event_output = Net.TrainCluster(\n",
    "                event=event_cl, NbClusterList=nb_cluster, to_record=True, NbCycle=1\n",
    "            )\n",
    "        SaveObject(ClusterLayer, fname)\n",
    "    else: \n",
    "        ClusterLayer, Classif0 = LoadObject(fname)\n",
    "    \n",
    "    # run the events through the network\n",
    "    homrun = False\n",
    "    event0_o_tr2 = Net.RunNetwork(event_tr, NbClusterList=ClusterLayer, homrun=homrun)\n",
    "    event0_o_te2 = Net.RunNetwork(event_te, NbClusterList=ClusterLayer, homrun=homrun)    \n",
    "    \n",
    "    # gather data\n",
    "    data_len = ImageSize[0]*ImageSize[1]*len(event0_o_tr2.ListPolarities)\n",
    "    n_events = event0_o_tr2.time.shape[0]\n",
    "    tau_cla = 1e-2\n",
    "    sample_events = 200\n",
    "    sample_space = 4\n",
    "    \n",
    "    X = np.zeros((n_events//sample_events, data_len))\n",
    "    y = np.zeros((n_events//sample_events,))\n",
    "    data = np.zeros((ImageSize[0]//sample_space, ImageSize[1]//sample_space, len(event0_o_tr2.ListPolarities))) #tmp data\n",
    "\n",
    "    t_old = 0\n",
    "    i_label_tr = 0\n",
    "    for i in range(1, n_events):\n",
    "        if i == event0_o_te2.ChangeIdx[i_label_tr]:\n",
    "            i_label_tr += 1\n",
    "\n",
    "        t_new = event0_o_tr2.time[i]\n",
    "        data *= np.exp(-(t_new-t_old)/tau_cla)\n",
    "        data[event0_o_tr2.address[i, 0]//sample_space, event0_o_tr2.address[i,1]//sample_space, event0_o_tr2.polarity[i]] = 1.\n",
    "\n",
    "        if i % sample_events == 0:\n",
    "            X[i//sample_events, :] = data.ravel()\n",
    "            y[i//sample_events] = label_tr[i_label_tr]\n",
    "\n",
    "    print('Number of events: '+str(X.shape[0])+' - Number of features: '+str(X.shape[1]))\n",
    "    #SaveObject([X,y], fname)\n",
    "    np.save(fname + '_X.npy', X)\n",
    "    np.save(fname + '_y.npy', y)\n",
    "    \n",
    "else: \n",
    "    #X,y = LoadObject(fname)\n",
    "    X = np.load(fname + '_X.npy')\n",
    "    y = np.load(fname + '_y.npy')\n",
    "    "
   ]
  },
  {
   "cell_type": "code",
   "execution_count": null,
   "metadata": {},
   "outputs": [],
   "source": [
    "0 % 200\n"
   ]
  },
  {
   "cell_type": "code",
   "execution_count": null,
   "metadata": {},
   "outputs": [],
   "source": [
    "X.shape"
   ]
  },
  {
   "cell_type": "markdown",
   "metadata": {},
   "source": [
    "### Performing logistic regression"
   ]
  },
  {
   "cell_type": "code",
   "execution_count": null,
   "metadata": {},
   "outputs": [],
   "source": [
    "from sklearn.linear_model import LogisticRegression as LR\n",
    "lr = LR(random_state=0).fit(X, y)"
   ]
  },
  {
   "cell_type": "code",
   "execution_count": null,
   "metadata": {},
   "outputs": [],
   "source": [
    "lr.score(X, y)"
   ]
  },
  {
   "cell_type": "code",
   "execution_count": null,
   "metadata": {},
   "outputs": [],
   "source": []
  },
  {
   "cell_type": "code",
   "execution_count": null,
   "metadata": {},
   "outputs": [],
   "source": [
    "lr.score(X, y)"
   ]
  },
  {
   "cell_type": "code",
   "execution_count": null,
   "metadata": {},
   "outputs": [],
   "source": [
    "P_pred = lr.predict_proba(X)\n",
    "P_pred.shape"
   ]
  },
  {
   "cell_type": "code",
   "execution_count": null,
   "metadata": {},
   "outputs": [],
   "source": [
    "plt.plot(np.max(P_pred, axis=1))"
   ]
  },
  {
   "cell_type": "code",
   "execution_count": null,
   "metadata": {},
   "outputs": [],
   "source": []
  }
 ],
 "metadata": {
  "kernelspec": {
   "display_name": "Python 3",
   "language": "python",
   "name": "python3"
  },
  "language_info": {
   "codemirror_mode": {
    "name": "ipython",
    "version": 3
   },
   "file_extension": ".py",
   "mimetype": "text/x-python",
   "name": "python",
   "nbconvert_exporter": "python",
   "pygments_lexer": "ipython3",
   "version": "3.9.0"
  }
 },
 "nbformat": 4,
 "nbformat_minor": 4
}
