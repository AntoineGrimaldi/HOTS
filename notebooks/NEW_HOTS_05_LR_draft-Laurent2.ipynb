{
 "cells": [
  {
   "cell_type": "code",
   "execution_count": 1,
   "metadata": {},
   "outputs": [
    {
     "name": "stdout",
     "output_type": "stream",
     "text": [
      "/Users/laurentperrinet/quantic/science/HomeHots/HOTS_clone_laurent\n"
     ]
    }
   ],
   "source": [
    "#%load_ext autoreload\n",
    "#%autoreload 2\n",
    "%matplotlib inline\n",
    "%cd '../'"
   ]
  },
  {
   "cell_type": "code",
   "execution_count": 2,
   "metadata": {},
   "outputs": [],
   "source": [
    "\n",
    "import numpy as np\n",
    "import matplotlib.pyplot as plt\n",
    "import os\n",
    "import time\n",
    "timestr = '20201021'\n",
    "    "
   ]
  },
  {
   "cell_type": "markdown",
   "metadata": {},
   "source": [
    "### Building matrix for logistic regression"
   ]
  },
  {
   "cell_type": "code",
   "execution_count": 3,
   "metadata": {
    "scrolled": false
   },
   "outputs": [
    {
     "name": "stdout",
     "output_type": "stream",
     "text": [
      "Records/EXP_03_NMNIST/20201021_hots_0.9ms_lagorce.pkl\n",
      "[1, 7, 5, 8, 6, 2, 9, 4, 3, 0]\n",
      "run the events through the network\n",
      "i=200\n",
      "i=400\n",
      "i=600\n",
      "i=800\n",
      "i=1000\n",
      "i=1200\n",
      "i=1400\n",
      "i=1600\n",
      "i=1800\n",
      "i=2000\n",
      "i=2200\n",
      "i=2400\n",
      "i=2600\n",
      "i=2800\n",
      "i=3000\n",
      "i=3200\n",
      "i=3400\n",
      "i=3600\n",
      "i=3800\n",
      "i=4000\n",
      "i=4200\n",
      "i=4400\n",
      "i=4600\n",
      "i=4800\n",
      "i=5000\n",
      "i=5200\n",
      "i=5400\n",
      "i=5600\n",
      "i=5800\n",
      "i=6000\n",
      "i=6200\n",
      "i=6400\n",
      "i=6600\n",
      "i=6800\n",
      "i=7000\n",
      "i=7200\n",
      "i=7400\n",
      "i=7600\n",
      "i=7800\n",
      "i=8000\n",
      "i=8200\n",
      "i=8400\n",
      "i=8600\n",
      "i=8800\n",
      "i=9000\n",
      "i=9200\n",
      "i=9400\n",
      "i=9600\n",
      "i=9800\n",
      "i=10000\n",
      "i=10200\n",
      "i=10400\n",
      "i=10600\n",
      "i=10800\n",
      "i=11000\n",
      "i=11200\n",
      "i=11400\n",
      "i=11600\n",
      "i=11800\n",
      "i=12000\n",
      "i=12200\n",
      "i=12400\n",
      "i=12600\n",
      "i=12800\n",
      "i=13000\n",
      "i=13200\n",
      "i=13400\n",
      "i=13600\n",
      "i=13800\n",
      "i=14000\n",
      "i=14200\n",
      "i=14400\n",
      "i=14600\n",
      "i=14800\n",
      "i=15000\n",
      "i=15200\n",
      "i=15400\n",
      "i=15600\n",
      "i=15800\n",
      "i=16000\n",
      "i=16200\n",
      "i=16400\n",
      "i=16600\n",
      "i=16800\n",
      "i=17000\n",
      "i=17200\n",
      "i=17400\n",
      "i=17600\n",
      "i=17800\n",
      "i=18000\n",
      "i=18200\n",
      "i=18400\n",
      "i=18600\n",
      "i=18800\n",
      "i=19000\n",
      "i=19200\n",
      "i=19400\n",
      "i=19600\n",
      "i=19800\n",
      "i=20000\n",
      "i=20200\n",
      "i=20400\n",
      "i=20600\n",
      "i=20800\n",
      "i=21000\n",
      "i=21200\n",
      "i=21400\n",
      "i=21600\n",
      "i=21800\n",
      "i=22000\n",
      "i=22200\n",
      "i=22400\n",
      "i=22600\n",
      "i=22800\n",
      "i=23000\n",
      "i=23200\n",
      "i=23400\n",
      "i=23600\n",
      "i=23800\n",
      "i=24000\n",
      "i=24200\n",
      "i=24400\n",
      "i=24600\n",
      "i=24800\n",
      "i=25000\n",
      "i=25200\n",
      "i=25400\n",
      "i=25600\n",
      "i=25800\n",
      "i=26000\n",
      "i=26200\n",
      "i=26400\n",
      "i=26600\n",
      "i=26800\n",
      "i=27000\n",
      "i=27200\n",
      "i=27400\n",
      "i=27600\n",
      "i=27800\n",
      "i=28000\n",
      "i=28200\n",
      "i=28400\n",
      "i=28600\n",
      "i=28800\n",
      "i=29000\n",
      "i=29200\n",
      "i=29400\n",
      "i=29600\n",
      "i=29800\n",
      "i=30000\n",
      "i=30200\n",
      "i=30400\n",
      "i=30600\n",
      "i=30800\n",
      "i=31000\n",
      "i=31200\n",
      "i=31400\n",
      "i=31600\n",
      "i=31800\n",
      "i=32000\n",
      "i=32200\n",
      "i=32400\n",
      "i=32600\n",
      "i=32800\n",
      "i=33000\n",
      "i=33200\n",
      "i=33400\n",
      "i=33600\n",
      "i=33800\n",
      "i=34000\n",
      "i=34200\n",
      "i=34400\n",
      "i=34600\n",
      "i=34800\n",
      "i=35000\n",
      "i=35200\n",
      "i=35400\n"
     ]
    },
    {
     "ename": "IndexError",
     "evalue": "index 177 is out of bounds for axis 0 with size 177",
     "output_type": "error",
     "traceback": [
      "\u001b[0;31m---------------------------------------------------------------------------\u001b[0m",
      "\u001b[0;31mIndexError\u001b[0m                                Traceback (most recent call last)",
      "\u001b[0;32m<ipython-input-3-3ba874bb87df>\u001b[0m in \u001b[0;36m<module>\u001b[0;34m\u001b[0m\n\u001b[1;32m    108\u001b[0m         \u001b[0;32mif\u001b[0m \u001b[0mi\u001b[0m \u001b[0;34m%\u001b[0m \u001b[0msample_events\u001b[0m \u001b[0;34m==\u001b[0m \u001b[0;36m0\u001b[0m\u001b[0;34m:\u001b[0m\u001b[0;34m\u001b[0m\u001b[0;34m\u001b[0m\u001b[0m\n\u001b[1;32m    109\u001b[0m             \u001b[0mprint\u001b[0m\u001b[0;34m(\u001b[0m\u001b[0;34mf'{i=}'\u001b[0m\u001b[0;34m)\u001b[0m\u001b[0;34m\u001b[0m\u001b[0;34m\u001b[0m\u001b[0m\n\u001b[0;32m--> 110\u001b[0;31m             \u001b[0mX\u001b[0m\u001b[0;34m[\u001b[0m\u001b[0mi\u001b[0m\u001b[0;34m//\u001b[0m\u001b[0msample_events\u001b[0m\u001b[0;34m,\u001b[0m \u001b[0;34m:\u001b[0m\u001b[0;34m]\u001b[0m \u001b[0;34m=\u001b[0m \u001b[0mdata\u001b[0m\u001b[0;34m.\u001b[0m\u001b[0mravel\u001b[0m\u001b[0;34m(\u001b[0m\u001b[0;34m)\u001b[0m\u001b[0;34m\u001b[0m\u001b[0;34m\u001b[0m\u001b[0m\n\u001b[0m\u001b[1;32m    111\u001b[0m             \u001b[0my\u001b[0m\u001b[0;34m[\u001b[0m\u001b[0mi\u001b[0m\u001b[0;34m//\u001b[0m\u001b[0msample_events\u001b[0m\u001b[0;34m]\u001b[0m \u001b[0;34m=\u001b[0m \u001b[0mlabel_tr\u001b[0m\u001b[0;34m[\u001b[0m\u001b[0mi_label_tr\u001b[0m\u001b[0;34m]\u001b[0m\u001b[0;34m\u001b[0m\u001b[0;34m\u001b[0m\u001b[0m\n\u001b[1;32m    112\u001b[0m \u001b[0;34m\u001b[0m\u001b[0m\n",
      "\u001b[0;31mIndexError\u001b[0m: index 177 is out of bounds for axis 0 with size 177"
     ]
    }
   ],
   "source": [
    "#fname = 'Records/EXP_03_NMNIST/'+timestr+'_hots_vectorzLR.pkl'\n",
    "fname = '/tmp/'+timestr+'_hots_vectorzLR_2'\n",
    "\n",
    "if not os.path.isfile(fname + '_X.npy'):\n",
    "    \n",
    "    import pickle\n",
    "    from HOTS.ToolsMonitor import GenerateActivationMap, DisplayActivationMap\n",
    "    from HOTS.Event import Event, SimpleAlphabet, LoadNMNIST\n",
    "    from HOTS.STS import STS\n",
    "    from HOTS.Layer import ClusteringLayer\n",
    "    from HOTS.ToolsMonitor import (\n",
    "        DisplayImage,\n",
    "        DisplaySurface3D,\n",
    "        DisplaySurface2D,\n",
    "        DisplayConvergence,\n",
    "    )\n",
    "    from HOTS.Tools import SaveObject, LoadObject\n",
    "    from HOTS.Network import Network\n",
    "    from HOTS.Event import conv2eve\n",
    "\n",
    "    tau = 9e-4 # -> tau=1ms, si on prend 10 ms on est à 1s pour la dernière couche et les vidéos font 0.3s en moyenne\n",
    "    R = 2\n",
    "    filthr = 2\n",
    "    nbkNN = 3\n",
    "    algo = 'lagorce'\n",
    "    decay = 'exponential'\n",
    "    hom = True\n",
    "    krnlinit = 'rdn'\n",
    "    nb_cluster = [4, 8, 16]\n",
    "    ImageSize = (34, 34)\n",
    "    DataPath = 'Data/testsetnmnist.p'\n",
    "\n",
    "    NbClusteringData = 15\n",
    "    NbTrainingData = 40\n",
    "    NbTestingData = 40\n",
    "    \n",
    "    NbClusteringData = 1500\n",
    "    NbTrainingData = 500\n",
    "    NbTestingData = 250\n",
    "\n",
    "    #timestr = time.strftime(\"%Y%m%d\")\n",
    "    hom = False\n",
    "\n",
    "    if hom==True:\n",
    "        fname_model = 'Records/EXP_03_NMNIST/'+timestr+'_hots_'+str(tau*1000)+'ms_'+algo+'_homeo.pkl'\n",
    "    else:\n",
    "        fname_model = 'Records/EXP_03_NMNIST/'+timestr+'_hots_'+str(tau*1000)+'ms_'+algo+'.pkl'\n",
    "    print(fname_model)\n",
    "\n",
    "    _1ofich = True\n",
    "    event_tr, event_te, event_cl, label_tr, label_te = LoadNMNIST(\n",
    "    NbTrainingData, NbTestingData, NbClusteringData, OneOfEach=_1ofich, Path=DataPath, OutOnePolarity=False, ListPolarities=None, verbose=0)\n",
    "\n",
    "    L1 = ClusteringLayer(tau=tau,R=R,verbose=0,ThrFilter=filthr,LearningAlgo=algo,kernel=decay,homeo=hom,init=krnlinit)\n",
    "    L2 = ClusteringLayer(tau=10 * tau,R=2 * R,verbose=0,ThrFilter=filthr,LearningAlgo=algo,kernel=decay,homeo=hom,init=krnlinit)\n",
    "    L3 = ClusteringLayer(tau=10 * 10 * tau,R=2 * 2 * R,verbose=0,ThrFilter=filthr,LearningAlgo=algo,kernel=decay,homeo=hom,init=krnlinit)\n",
    "    Net = Network([L1, L2, L3])    \n",
    "    \n",
    "    if not os.path.isfile(fname_model):\n",
    "        ClusterLayer, event_output = Net.TrainCluster(\n",
    "                event=event_cl, NbClusterList=nb_cluster, to_record=True, NbCycle=1\n",
    "            )\n",
    "        SaveObject(ClusterLayer, fname_model)\n",
    "    else: \n",
    "        ClusterLayer, Classif0 = LoadObject(fname_model)\n",
    "\n",
    "    fname_event0_o = '/tmp/'+timestr+'_hots_event0_o.p'\n",
    "    if not os.path.isfile(fname_event0_o):            \n",
    "        print('run the events through the network')\n",
    "        homrun = False\n",
    "        event0_o_tr2 = Net.RunNetwork(event_tr, NbClusterList=ClusterLayer, homrun=homrun)\n",
    "        #event0_o_te2 = Net.RunNetwork(event_te, NbClusterList=ClusterLayer, homrun=homrun)\n",
    "        SaveObject(event0_o_tr2, fname_event0_o)\n",
    "    \n",
    "    else: \n",
    "        event0_o_tr2 = LoadObject(fname_event0_o)\n",
    "    \n",
    "    # gather data\n",
    "    n_events = event0_o_tr2.time.shape[0]\n",
    "    tau_cla = .300 # characteristic time of a digit \n",
    "    sample_events = 200\n",
    "    sample_space = 1\n",
    "    \n",
    "    data = np.zeros((ImageSize[0]//sample_space, ImageSize[1]//sample_space, len(event0_o_tr2.ListPolarities))) #tmp data\n",
    "    data_len = len(data.ravel()) # ImageSize[0]//sample_space*ImageSize[1]//sample_space*len(event0_o_tr2.ListPolarities)\n",
    "    X = np.zeros((n_events//sample_events, data_len))\n",
    "    y = np.zeros((n_events//sample_events,))\n",
    "    \n",
    "    t_absolute = 0\n",
    "    t_old = 0\n",
    "    i_label_tr = 0\n",
    "    for i in range(1, n_events-1):\n",
    "        if i == event0_o_tr2.ChangeIdx[i_label_tr]:\n",
    "            i_label_tr += 1\n",
    "            t_absolute += event0_o_tr2.time[i]\n",
    "            \n",
    "        t_new = t_absolute + event0_o_tr2.time[i]\n",
    "        data *= np.exp(-(t_new-t_old)/tau_cla)\n",
    "        t_old = t_new\n",
    "        \n",
    "        data[event0_o_tr2.address[i, 0]//sample_space, \n",
    "             event0_o_tr2.address[i,1]//sample_space, \n",
    "             event0_o_tr2.polarity[i]] = 1.\n",
    "\n",
    "        if i % sample_events == 0:\n",
    "            print(f'{i=}')\n",
    "            X[i//sample_events, :] = data.ravel()\n",
    "            y[i//sample_events] = label_tr[i_label_tr]\n",
    "\n",
    "    print('Number of events: '+str(X.shape[0])+' - Number of features: '+str(X.shape[1]))\n",
    "    #SaveObject([X,y], fname)\n",
    "    np.save(fname + '_X.npy', X)\n",
    "    np.save(fname + '_y.npy', y)\n",
    "    \n",
    "else: \n",
    "    #X,y = LoadObject(fname)\n",
    "    X = np.load(fname + '_X.npy')\n",
    "    y = np.load(fname + '_y.npy')\n",
    "    "
   ]
  },
  {
   "cell_type": "code",
   "execution_count": 5,
   "metadata": {},
   "outputs": [
    {
     "data": {
      "text/plain": [
       "(35549, 177)"
      ]
     },
     "execution_count": 5,
     "metadata": {},
     "output_type": "execute_result"
    }
   ],
   "source": [
    "n_events, i//sample_events"
   ]
  },
  {
   "cell_type": "code",
   "execution_count": 6,
   "metadata": {},
   "outputs": [
    {
     "name": "stdout",
     "output_type": "stream",
     "text": [
      "Number of events: 177 - Number of features: 18496\n"
     ]
    }
   ],
   "source": [
    "print('Number of events: '+str(X.shape[0])+' - Number of features: '+str(X.shape[1]))\n",
    "#SaveObject([X,y], fname)\n",
    "np.save(fname + '_X.npy', X)\n",
    "np.save(fname + '_y.npy', y)"
   ]
  },
  {
   "cell_type": "code",
   "execution_count": 7,
   "metadata": {},
   "outputs": [
    {
     "data": {
      "text/plain": [
       "(177, 18496)"
      ]
     },
     "execution_count": 7,
     "metadata": {},
     "output_type": "execute_result"
    }
   ],
   "source": [
    "X.shape"
   ]
  },
  {
   "cell_type": "markdown",
   "metadata": {},
   "source": [
    "### Performing logistic regression"
   ]
  },
  {
   "cell_type": "code",
   "execution_count": 8,
   "metadata": {},
   "outputs": [
    {
     "name": "stderr",
     "output_type": "stream",
     "text": [
      "/usr/local/lib/python3.9/site-packages/sklearn/linear_model/_logistic.py:762: ConvergenceWarning: lbfgs failed to converge (status=1):\n",
      "STOP: TOTAL NO. of ITERATIONS REACHED LIMIT.\n",
      "\n",
      "Increase the number of iterations (max_iter) or scale the data as shown in:\n",
      "    https://scikit-learn.org/stable/modules/preprocessing.html\n",
      "Please also refer to the documentation for alternative solver options:\n",
      "    https://scikit-learn.org/stable/modules/linear_model.html#logistic-regression\n",
      "  n_iter_i = _check_optimize_result(\n"
     ]
    }
   ],
   "source": [
    "from sklearn.linear_model import LogisticRegression as LR\n",
    "lr = LR(random_state=0).fit(X, y)"
   ]
  },
  {
   "cell_type": "code",
   "execution_count": 9,
   "metadata": {},
   "outputs": [
    {
     "data": {
      "text/plain": [
       "1.0"
      ]
     },
     "execution_count": 9,
     "metadata": {},
     "output_type": "execute_result"
    }
   ],
   "source": [
    "lr.score(X, y)"
   ]
  },
  {
   "cell_type": "code",
   "execution_count": null,
   "metadata": {},
   "outputs": [],
   "source": []
  },
  {
   "cell_type": "code",
   "execution_count": 10,
   "metadata": {},
   "outputs": [
    {
     "data": {
      "text/plain": [
       "(177, 10)"
      ]
     },
     "execution_count": 10,
     "metadata": {},
     "output_type": "execute_result"
    }
   ],
   "source": [
    "P_pred = lr.predict_proba(X)\n",
    "P_pred.shape"
   ]
  },
  {
   "cell_type": "code",
   "execution_count": 11,
   "metadata": {},
   "outputs": [
    {
     "data": {
      "text/plain": [
       "[<matplotlib.lines.Line2D at 0x16b5090d0>]"
      ]
     },
     "execution_count": 11,
     "metadata": {},
     "output_type": "execute_result"
    },
    {
     "data": {
      "image/png": "[encoded data removed]",
      "text/plain": [
       "<Figure size 432x288 with 1 Axes>"
      ]
     },
     "metadata": {
      "needs_background": "light"
     },
     "output_type": "display_data"
    }
   ],
   "source": [
    "plt.plot(np.max(P_pred, axis=1))"
   ]
  },
  {
   "cell_type": "code",
   "execution_count": null,
   "metadata": {},
   "outputs": [],
   "source": []
  }
 ],
 "metadata": {
  "kernelspec": {
   "display_name": "Python 3",
   "language": "python",
   "name": "python3"
  },
  "language_info": {
   "codemirror_mode": {
    "name": "ipython",
    "version": 3
   },
   "file_extension": ".py",
   "mimetype": "text/x-python",
   "name": "python",
   "nbconvert_exporter": "python",
   "pygments_lexer": "ipython3",
   "version": "3.9.0"
  }
 },
 "nbformat": 4,
 "nbformat_minor": 4
}
