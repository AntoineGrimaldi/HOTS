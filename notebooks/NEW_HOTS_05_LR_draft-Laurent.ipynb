{
 "cells": [
  {
   "cell_type": "code",
   "execution_count": 1,
   "metadata": {},
   "outputs": [
    {
     "name": "stdout",
     "output_type": "stream",
     "text": [
      "/Users/lolo/quantic/science/HomeHots/HOTS_clone_laurent\n"
     ]
    }
   ],
   "source": [
    "#%load_ext autoreload\n",
    "#%autoreload 2\n",
    "%matplotlib inline\n",
    "%cd '../'"
   ]
  },
  {
   "cell_type": "code",
   "execution_count": 2,
   "metadata": {},
   "outputs": [
    {
     "name": "stdout",
     "output_type": "stream",
     "text": [
      "[1, 2, 5, 8, 4, 6, 3, 9, 0, 7]\n"
     ]
    }
   ],
   "source": [
    "import numpy as np\n",
    "import matplotlib.pyplot as plt\n",
    "import pickle\n",
    "import os\n",
    "import time\n",
    "\n",
    "from HOTS.ToolsMonitor import GenerateActivationMap, DisplayActivationMap\n",
    "from HOTS.Event import Event, SimpleAlphabet, LoadNMNIST\n",
    "from HOTS.STS import STS\n",
    "from HOTS.Layer import ClusteringLayer\n",
    "from HOTS.ToolsMonitor import (\n",
    "    DisplayImage,\n",
    "    DisplaySurface3D,\n",
    "    DisplaySurface2D,\n",
    "    DisplayConvergence,\n",
    ")\n",
    "from HOTS.Tools import SaveObject, LoadObject\n",
    "from HOTS.Classifier import Classifier\n",
    "from HOTS.Network import Network\n",
    "from HOTS.KmeansLagorce import KmeansLagorce\n",
    "from HOTS.KmeansMaro import KmeansMaro\n",
    "from HOTS.Event import conv2eve\n",
    "\n",
    "tau = 9e-4 # -> tau=1ms, si on prend 10 ms on est à 1s pour la dernière couche et les vidéos font 0.3s en moyenne\n",
    "R = 2\n",
    "filthr = 2\n",
    "nbkNN = 3\n",
    "algo = 'lagorce'\n",
    "decay = 'exponential'\n",
    "hom = True\n",
    "krnlinit = 'rdn'\n",
    "nb_cluster = [4, 8, 16]\n",
    "ImageSize = (34, 34)\n",
    "DataPath = 'Data/testsetnmnist.p'\n",
    "\n",
    "NbClusteringData = 15\n",
    "NbTrainingData = 40\n",
    "NbTestingData = 40\n",
    "_1ofich = True\n",
    "event_tr, event_te, event_cl, label_tr, label_te = LoadNMNIST(\n",
    "NbTrainingData, NbTestingData, NbClusteringData, OneOfEach=_1ofich, Path=DataPath, OutOnePolarity=False, ListPolarities=None, verbose=0)"
   ]
  },
  {
   "cell_type": "code",
   "execution_count": 3,
   "metadata": {},
   "outputs": [
    {
     "data": {
      "text/plain": [
       "((159884, 2),\n",
       " array([[1.],\n",
       "        [2.],\n",
       "        [5.],\n",
       "        [8.],\n",
       "        [4.],\n",
       "        [6.],\n",
       "        [3.],\n",
       "        [9.],\n",
       "        [0.],\n",
       "        [7.],\n",
       "        [0.],\n",
       "        [0.],\n",
       "        [0.],\n",
       "        [0.],\n",
       "        [0.],\n",
       "        [0.],\n",
       "        [0.],\n",
       "        [0.],\n",
       "        [0.],\n",
       "        [0.],\n",
       "        [0.],\n",
       "        [0.],\n",
       "        [0.],\n",
       "        [0.],\n",
       "        [0.],\n",
       "        [0.],\n",
       "        [0.],\n",
       "        [0.],\n",
       "        [0.],\n",
       "        [0.],\n",
       "        [0.],\n",
       "        [0.],\n",
       "        [0.],\n",
       "        [0.],\n",
       "        [0.],\n",
       "        [0.],\n",
       "        [0.],\n",
       "        [0.],\n",
       "        [0.],\n",
       "        [0.]]))"
      ]
     },
     "execution_count": 3,
     "metadata": {},
     "output_type": "execute_result"
    }
   ],
   "source": [
    "event_tr.address.shape, label_tr"
   ]
  },
  {
   "cell_type": "code",
   "execution_count": 4,
   "metadata": {},
   "outputs": [
    {
     "data": {
      "text/plain": [
       "(40, 1)"
      ]
     },
     "execution_count": 4,
     "metadata": {},
     "output_type": "execute_result"
    }
   ],
   "source": [
    "label_tr.shape"
   ]
  },
  {
   "cell_type": "code",
   "execution_count": 5,
   "metadata": {},
   "outputs": [
    {
     "data": {
      "text/plain": [
       "(array([1, 1, 0, ..., 0, 0, 0]), array([0, 1]), array([0, 1]))"
      ]
     },
     "execution_count": 5,
     "metadata": {},
     "output_type": "execute_result"
    }
   ],
   "source": [
    "event_tr.polarity, event_te.ListPolarities, event_cl.ListPolarities"
   ]
  },
  {
   "cell_type": "code",
   "execution_count": 30,
   "metadata": {},
   "outputs": [],
   "source": [
    "import pickle\n",
    "Path = 'Data/testsetnmnist.p'\n",
    "EVE = pickle.load(open(Path, \"rb\" ))"
   ]
  },
  {
   "cell_type": "code",
   "execution_count": 7,
   "metadata": {},
   "outputs": [
    {
     "data": {
      "text/plain": [
       "10000"
      ]
     },
     "execution_count": 7,
     "metadata": {},
     "output_type": "execute_result"
    }
   ],
   "source": [
    "len(EVE)"
   ]
  },
  {
   "cell_type": "code",
   "execution_count": 8,
   "metadata": {},
   "outputs": [
    {
     "name": "stdout",
     "output_type": "stream",
     "text": [
      "1\n"
     ]
    }
   ],
   "source": [
    "for i in range(1500, 1501):\n",
    "    one_list_of_events_for_one_digit = EVE[i]\n",
    "    print(one_list_of_events_for_one_digit.l)"
   ]
  },
  {
   "cell_type": "code",
   "execution_count": 18,
   "metadata": {},
   "outputs": [
    {
     "name": "stdout",
     "output_type": "stream",
     "text": [
      "Records/EXP_03_NMNIST/20201021_hots_0.9ms_lagorce.pkl\n"
     ]
    }
   ],
   "source": [
    "#timestr = time.strftime(\"%Y%m%d\")\n",
    "hom = False\n",
    "timestr = '20201021'\n",
    "if hom==True:\n",
    "    fname = 'Records/EXP_03_NMNIST/'+timestr+'_hots_'+str(tau*1000)+'ms_'+algo+'_homeo.pkl'\n",
    "else:\n",
    "    fname = 'Records/EXP_03_NMNIST/'+timestr+'_hots_'+str(tau*1000)+'ms_'+algo+'.pkl'\n",
    "print(fname)\n",
    "\n",
    "L1 = ClusteringLayer(tau=tau,R=R,verbose=0,ThrFilter=filthr,LearningAlgo=algo,kernel=decay,homeo=hom,init=krnlinit)\n",
    "L2 = ClusteringLayer(tau=10 * tau,R=2 * R,verbose=0,ThrFilter=filthr,LearningAlgo=algo,kernel=decay,homeo=hom,init=krnlinit)\n",
    "L3 = ClusteringLayer(tau=10 * 10 * tau,R=2 * 2 * R,verbose=0,ThrFilter=filthr,LearningAlgo=algo,kernel=decay,homeo=hom,init=krnlinit)\n",
    "Net = Network([L1, L2, L3])"
   ]
  },
  {
   "cell_type": "code",
   "execution_count": 27,
   "metadata": {},
   "outputs": [
    {
     "name": "stdout",
     "output_type": "stream",
     "text": [
      "battacha:52.5% ### normalized:42.5% ### euclidian:45.0% ### \n"
     ]
    }
   ],
   "source": [
    "if not os.path.isfile(fname):\n",
    "    ClusterLayer, event_output = Net.TrainCluster(\n",
    "            event=event_cl, NbClusterList=nb_cluster, to_record=True, NbCycle=1\n",
    "        )\n",
    "    SaveObject(ClusterLayer, fname)\n",
    "else: \n",
    "    ClusterLayer, Classif0 = LoadObject(fname)\n",
    "\n",
    "prediction, accuracy, method = Classif0.HistogramDistance(knn=nbkNN, to_print=True)"
   ]
  },
  {
   "cell_type": "code",
   "execution_count": 28,
   "metadata": {},
   "outputs": [],
   "source": [
    "homrun = False\n",
    "event0_o_tr2 = Net.RunNetwork(event_tr, NbClusterList=ClusterLayer, homrun=homrun)\n",
    "event0_o_te2 = Net.RunNetwork(event_te, NbClusterList=ClusterLayer, homrun=homrun)\n"
   ]
  },
  {
   "cell_type": "code",
   "execution_count": 29,
   "metadata": {},
   "outputs": [
    {
     "name": "stdout",
     "output_type": "stream",
     "text": [
      "battacha:50.0% ### normalized:42.5% ### euclidian:35.0% ### \n"
     ]
    },
    {
     "data": {
      "text/plain": [
       "array([0.031572, 0.031755, 0.031981, ..., 0.299381, 0.301578, 0.302217])"
      ]
     },
     "execution_count": 29,
     "metadata": {},
     "output_type": "execute_result"
    }
   ],
   "source": [
    "Classif02 = Classifier(event0_o_tr2, event0_o_te2, TrainingLabel=label_tr, GroundTruth=label_te)\n",
    "prediction2, accuracy2, method2 = Classif02.HistogramDistance(knn=nbkNN, to_print=True)\n",
    "\n",
    "Classif02\n",
    "\n",
    "Classif02.event_train.time"
   ]
  },
  {
   "cell_type": "code",
   "execution_count": null,
   "metadata": {},
   "outputs": [],
   "source": []
  },
  {
   "cell_type": "markdown",
   "metadata": {},
   "source": [
    "### Loading only on digit of each for logistic regression"
   ]
  },
  {
   "cell_type": "code",
   "execution_count": null,
   "metadata": {},
   "outputs": [],
   "source": [
    "ImageSize"
   ]
  },
  {
   "cell_type": "code",
   "execution_count": null,
   "metadata": {},
   "outputs": [],
   "source": [
    "len(event_te.ChangeIdx)"
   ]
  },
  {
   "cell_type": "code",
   "execution_count": null,
   "metadata": {},
   "outputs": [],
   "source": [
    "event0_o_te2.ChangeIdx.shape, event0_o_te2.ChangeIdx"
   ]
  },
  {
   "cell_type": "code",
   "execution_count": null,
   "metadata": {},
   "outputs": [],
   "source": [
    "label_tr.shape#, label_tr"
   ]
  },
  {
   "cell_type": "code",
   "execution_count": null,
   "metadata": {},
   "outputs": [],
   "source": [
    "event0_o_te2.address.shape, event0_o_te2.polarity.shape, event0_o_te2.time.shape"
   ]
  },
  {
   "cell_type": "code",
   "execution_count": null,
   "metadata": {},
   "outputs": [],
   "source": [
    "event0_o_te2.ChangeIdx"
   ]
  },
  {
   "cell_type": "code",
   "execution_count": null,
   "metadata": {},
   "outputs": [],
   "source": [
    "event0_o_te2.ListPolarities"
   ]
  },
  {
   "cell_type": "code",
   "execution_count": null,
   "metadata": {},
   "outputs": [],
   "source": [
    "event0_o_te2"
   ]
  },
  {
   "cell_type": "markdown",
   "metadata": {},
   "source": [
    "### Building matrix for logistic regression"
   ]
  },
  {
   "cell_type": "code",
   "execution_count": null,
   "metadata": {},
   "outputs": [],
   "source": [
    "np.save?"
   ]
  },
  {
   "cell_type": "code",
   "execution_count": 14,
   "metadata": {},
   "outputs": [],
   "source": [
    "#fname = 'Records/EXP_03_NMNIST/'+timestr+'_hots_vectorzLR.pkl'\n",
    "fname = '/tmp/'+timestr+'_hots_vectorzLR'\n",
    "if not os.path.isfile(fname + '_X.npy'):\n",
    "    data_len = ImageSize[0]*ImageSize[1]*len(event0_o_tr2.ListPolarities)\n",
    "    n_events = event0_o_tr2.time.shape[0]\n",
    "    tau_cla = 1e-2\n",
    "\n",
    "    X = np.zeros((n_events, data_len))\n",
    "    y = np.zeros((n_events,))\n",
    "    data = np.zeros((ImageSize[0], ImageSize[1], len(event0_o_tr2.ListPolarities))) #tmp data\n",
    "\n",
    "    t_old = 0\n",
    "    i_label_tr = 0\n",
    "    for i in range(1, n_events):\n",
    "        if i == event0_o_te2.ChangeIdx[i_label_tr]:\n",
    "            i_label_tr += 1\n",
    "\n",
    "        t_new = event0_o_tr2.time[i]\n",
    "        data *= np.exp(-(t_new-t_old)/tau_cla)\n",
    "        data[event0_o_tr2.address[i, 0], event0_o_tr2.address[i,1], event0_o_tr2.polarity[i]] = 1.\n",
    "\n",
    "        X[i, :] = data.ravel()\n",
    "        y[i] = label_tr[i_label_tr]\n",
    "\n",
    "    plt.imshow(X[:10000]);\n",
    "    print('Number of events: '+str(X.shape[0])+' - Number of features: '+str(X.shape[1]))\n",
    "    #SaveObject([X,y], fname)\n",
    "    np.save(fname + '_X.npy', X)\n",
    "    np.save(fname + '_y.npy', y)\n",
    "    \n",
    "else: \n",
    "    #X,y = LoadObject(fname)\n",
    "    X = np.load(fname + '_X.npy')\n",
    "    y = np.load(fname + '_y.npy')\n",
    "    "
   ]
  },
  {
   "cell_type": "raw",
   "metadata": {},
   "source": [
    "fname = 'Records/EXP_03_NMNIST/'+timestr+'_hots_vectorzLR.pkl'\n",
    "X,y = LoadObject(fname)\n",
    "fname = '/tmp/'+timestr+'_hots_vectorzLR'\n",
    "np.save(fname + '_X.npy', X)\n",
    "np.save(fname + '_y.npy', y)"
   ]
  },
  {
   "cell_type": "code",
   "execution_count": 15,
   "metadata": {},
   "outputs": [
    {
     "data": {
      "text/plain": [
       "(33868, 18496)"
      ]
     },
     "execution_count": 15,
     "metadata": {},
     "output_type": "execute_result"
    }
   ],
   "source": [
    "X.shape"
   ]
  },
  {
   "cell_type": "markdown",
   "metadata": {},
   "source": [
    "### Performing logistic regression"
   ]
  },
  {
   "cell_type": "code",
   "execution_count": 16,
   "metadata": {},
   "outputs": [
    {
     "name": "stdout",
     "output_type": "stream",
     "text": [
      "The history saving thread hit an unexpected error (OperationalError('unable to open database file')).History will not be written to the database.\n"
     ]
    },
    {
     "name": "stderr",
     "output_type": "stream",
     "text": [
      "/usr/local/lib/python3.9/site-packages/sklearn/linear_model/_logistic.py:762: ConvergenceWarning: lbfgs failed to converge (status=1):\n",
      "STOP: TOTAL NO. of ITERATIONS REACHED LIMIT.\n",
      "\n",
      "Increase the number of iterations (max_iter) or scale the data as shown in:\n",
      "    https://scikit-learn.org/stable/modules/preprocessing.html\n",
      "Please also refer to the documentation for alternative solver options:\n",
      "    https://scikit-learn.org/stable/modules/linear_model.html#logistic-regression\n",
      "  n_iter_i = _check_optimize_result(\n"
     ]
    }
   ],
   "source": [
    "from sklearn.linear_model import LogisticRegression as LR\n",
    "lr = LR(random_state=0).fit(X, y)"
   ]
  },
  {
   "cell_type": "code",
   "execution_count": 17,
   "metadata": {},
   "outputs": [
    {
     "data": {
      "text/plain": [
       "0.46264910830282274"
      ]
     },
     "execution_count": 17,
     "metadata": {},
     "output_type": "execute_result"
    }
   ],
   "source": [
    "lr.score(X, y)"
   ]
  },
  {
   "cell_type": "code",
   "execution_count": 24,
   "metadata": {},
   "outputs": [
    {
     "data": {
      "text/plain": [
       "(33868, 10)"
      ]
     },
     "execution_count": 24,
     "metadata": {},
     "output_type": "execute_result"
    }
   ],
   "source": [
    "P_pred = lr.predict_proba(X)\n",
    "P_pred.shape"
   ]
  },
  {
   "cell_type": "code",
   "execution_count": 25,
   "metadata": {},
   "outputs": [
    {
     "data": {
      "text/plain": [
       "[<matplotlib.lines.Line2D at 0x14a69dd00>]"
      ]
     },
     "execution_count": 25,
     "metadata": {},
     "output_type": "execute_result"
    },
    {
     "data": {
      "image/png": "[encoded data removed]",
      "text/plain": [
       "<Figure size 432x288 with 1 Axes>"
      ]
     },
     "metadata": {
      "needs_background": "light"
     },
     "output_type": "display_data"
    }
   ],
   "source": [
    "plt.plot(np.max(P_pred, axis=1))"
   ]
  },
  {
   "cell_type": "code",
   "execution_count": null,
   "metadata": {},
   "outputs": [],
   "source": []
  }
 ],
 "metadata": {
  "kernelspec": {
   "display_name": "Python 3",
   "language": "python",
   "name": "python3"
  },
  "language_info": {
   "codemirror_mode": {
    "name": "ipython",
    "version": 3
   },
   "file_extension": ".py",
   "mimetype": "text/x-python",
   "name": "python",
   "nbconvert_exporter": "python",
   "pygments_lexer": "ipython3",
   "version": "3.9.0"
  }
 },
 "nbformat": 4,
 "nbformat_minor": 4
}
