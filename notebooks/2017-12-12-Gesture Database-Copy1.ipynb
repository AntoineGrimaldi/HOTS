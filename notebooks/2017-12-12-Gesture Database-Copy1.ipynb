{
 "cells": [
  {
   "cell_type": "code",
   "execution_count": 1,
   "metadata": {
    "collapsed": false,
    "jupyter": {
     "outputs_hidden": false
    }
   },
   "outputs": [],
   "source": [
    "%load_ext autoreload\n",
    "%autoreload 2\n",
    "%matplotlib inline"
   ]
  },
  {
   "cell_type": "code",
   "execution_count": 2,
   "metadata": {
    "collapsed": false,
    "jupyter": {
     "outputs_hidden": false
    }
   },
   "outputs": [],
   "source": [
    "import numpy as np\n",
    "import matplotlib.pyplot as plt\n",
    "\n",
    "\n",
    "from HOTS.ToolsMonitor import GenerateActivationMap, DisplayActivationMap\n",
    "from HOTS.Event import Event, SimpleAlphabet, LoadGestureDB\n",
    "from HOTS.STS import STS\n",
    "from HOTS.Layer import ClusteringLayer, FilterNHBD\n",
    "from HOTS.ToolsMonitor import DisplayImage, DisplaySurface3D, DisplaySurface2D, DisplayConvergence\n",
    "from HOTS.Tools import SaveObject, LoadObject\n",
    "from HOTS.Classifier import Classifier\n",
    "from HOTS.Network import Network\n",
    "from HOTS.KmeansHomeoCluster import KmeansHomeo\n",
    "from HOTS.KmeansCluster2 import KmeansMaro2"
   ]
  },
  {
   "cell_type": "code",
   "execution_count": 3,
   "metadata": {},
   "outputs": [],
   "source": [
    "tau = 0.02\n",
    "R = 2\n",
    "nb_cluster = [4,8,16]\n",
    "eta_list = [1e-5,1e-5,1e-5] \n",
    "eta_homeo_list = [1e-3,1e-3,1e-3]\n",
    "C_list = [6,18,40] \n",
    "ImageSize = (32,32)\n",
    "DataPath = '../data/alphabet_ExtractedStabilized.mat'\n",
    "LabelPath = '../data/alphabet_label.pkl'"
   ]
  },
  {
   "cell_type": "code",
   "execution_count": 4,
   "metadata": {
    "collapsed": false,
    "jupyter": {
     "outputs_hidden": false
    }
   },
   "outputs": [],
   "source": [
    "image_list = [1, 32, 19, 22, 29]\n",
    "event0 = Event(ImageSize=(32,32),OutOnePolarity=False)\n",
    "\n",
    "event0.LoadFromMat('../data/alphabet_ExtractedStabilized.mat',image_number=image_list)"
   ]
  },
  {
   "cell_type": "code",
   "execution_count": 5,
   "metadata": {},
   "outputs": [],
   "source": [
    "SpTe_Layer1= STS(tau=tau, R=R,verbose=0)\n",
    "Surface_Layer1 = SpTe_Layer1.create(event = event0,kernel='linear')"
   ]
  },
  {
   "cell_type": "code",
   "execution_count": 6,
   "metadata": {
    "collapsed": false,
    "jupyter": {
     "outputs_hidden": false
    }
   },
   "outputs": [
    {
     "name": "stdout",
     "output_type": "stream",
     "text": [
      "(74457, 50)\n"
     ]
    }
   ],
   "source": [
    "print(Surface_Layer1.shape)"
   ]
  },
  {
   "cell_type": "code",
   "execution_count": 7,
   "metadata": {
    "collapsed": false,
    "jupyter": {
     "outputs_hidden": false
    }
   },
   "outputs": [
    {
     "name": "stdout",
     "output_type": "stream",
     "text": [
      "(74457, 2)\n",
      "(74457,)\n",
      "(74457,)\n",
      "<class 'numpy.ndarray'>\n"
     ]
    }
   ],
   "source": [
    "print(event0.address.shape)\n",
    "print(event0.polarity.shape)\n",
    "print(event0.time.shape)\n",
    "print(type(event0.ListPolarities))"
   ]
  },
  {
   "cell_type": "code",
   "execution_count": 8,
   "metadata": {},
   "outputs": [],
   "source": [
    "import HOTS.Tool_libUnpackAtis as ua\n",
    "import HOTS.Tools_libDataHelper as dh"
   ]
  },
  {
   "cell_type": "code",
   "execution_count": 9,
   "metadata": {
    "collapsed": false,
    "jupyter": {
     "outputs_hidden": false
    }
   },
   "outputs": [
    {
     "ename": "FileNotFoundError",
     "evalue": "[Errno 2] No such file or directory: '/Users/boutin.v/Documents/DataBase/GEST/newlayer_digit.hotsnetwork'",
     "output_type": "error",
     "traceback": [
      "\u001b[0;31m---------------------------------------------------------------------------\u001b[0m",
      "\u001b[0;31mFileNotFoundError\u001b[0m                         Traceback (most recent call last)",
      "\u001b[0;32m<ipython-input-9-72c7c2b5ad5b>\u001b[0m in \u001b[0;36m<module>\u001b[0;34m\u001b[0m\n\u001b[1;32m      1\u001b[0m \u001b[0msettingsFile\u001b[0m \u001b[0;34m=\u001b[0m \u001b[0;34m\"/Users/boutin.v/Documents/DataBase/GEST/newlayer_digit.hotsnetwork\"\u001b[0m\u001b[0;34m\u001b[0m\u001b[0;34m\u001b[0m\u001b[0m\n\u001b[0;32m----> 2\u001b[0;31m \u001b[0mspecs\u001b[0m \u001b[0;34m=\u001b[0m \u001b[0mdh\u001b[0m\u001b[0;34m.\u001b[0m\u001b[0msuperLoadHOTSNetworkSettingsFromFile\u001b[0m\u001b[0;34m(\u001b[0m\u001b[0msettingsFile\u001b[0m\u001b[0;34m,\u001b[0m \u001b[0;32mTrue\u001b[0m\u001b[0;34m)\u001b[0m\u001b[0;34m\u001b[0m\u001b[0;34m\u001b[0m\u001b[0m\n\u001b[0m\u001b[1;32m      3\u001b[0m \u001b[0mdbspecs\u001b[0m \u001b[0;34m=\u001b[0m \u001b[0mdh\u001b[0m\u001b[0;34m.\u001b[0m\u001b[0msuperReadDB\u001b[0m\u001b[0;34m(\u001b[0m\u001b[0mspecs\u001b[0m\u001b[0;34m.\u001b[0m\u001b[0mdb_file\u001b[0m\u001b[0;34m,\u001b[0m \u001b[0mspecs\u001b[0m\u001b[0;34m.\u001b[0m\u001b[0mdb_path\u001b[0m\u001b[0;34m)\u001b[0m\u001b[0;34m\u001b[0m\u001b[0;34m\u001b[0m\u001b[0m\n",
      "\u001b[0;32m~/quantic/science/SpikeAI/HOTS/HOTS/Tools_libDataHelper.py\u001b[0m in \u001b[0;36msuperLoadHOTSNetworkSettingsFromFile\u001b[0;34m(_filename, _verbose)\u001b[0m\n\u001b[1;32m     67\u001b[0m \u001b[0;34m\u001b[0m\u001b[0m\n\u001b[1;32m     68\u001b[0m \u001b[0;32mdef\u001b[0m \u001b[0msuperLoadHOTSNetworkSettingsFromFile\u001b[0m\u001b[0;34m(\u001b[0m\u001b[0m_filename\u001b[0m\u001b[0;34m,\u001b[0m \u001b[0m_verbose\u001b[0m\u001b[0;34m)\u001b[0m\u001b[0;34m:\u001b[0m\u001b[0;34m\u001b[0m\u001b[0;34m\u001b[0m\u001b[0m\n\u001b[0;32m---> 69\u001b[0;31m     \u001b[0mfile\u001b[0m \u001b[0;34m=\u001b[0m \u001b[0mopen\u001b[0m\u001b[0;34m(\u001b[0m\u001b[0m_filename\u001b[0m\u001b[0;34m,\u001b[0m\u001b[0;34m'r'\u001b[0m\u001b[0;34m)\u001b[0m\u001b[0;34m\u001b[0m\u001b[0;34m\u001b[0m\u001b[0m\n\u001b[0m\u001b[1;32m     70\u001b[0m     \u001b[0mspecs\u001b[0m \u001b[0;34m=\u001b[0m \u001b[0mhots_network_settings\u001b[0m\u001b[0;34m(\u001b[0m\u001b[0;34m)\u001b[0m\u001b[0;34m\u001b[0m\u001b[0;34m\u001b[0m\u001b[0m\n\u001b[1;32m     71\u001b[0m     \u001b[0;32mfor\u001b[0m \u001b[0mline\u001b[0m \u001b[0;32min\u001b[0m \u001b[0mfile\u001b[0m\u001b[0;34m:\u001b[0m\u001b[0;34m\u001b[0m\u001b[0;34m\u001b[0m\u001b[0m\n",
      "\u001b[0;31mFileNotFoundError\u001b[0m: [Errno 2] No such file or directory: '/Users/boutin.v/Documents/DataBase/GEST/newlayer_digit.hotsnetwork'"
     ]
    }
   ],
   "source": [
    "settingsFile = \"/Users/boutin.v/Documents/DataBase/GEST/newlayer_digit.hotsnetwork\"\n",
    "specs = dh.superLoadHOTSNetworkSettingsFromFile(settingsFile, True)\n",
    "dbspecs = dh.superReadDB(specs.db_file, specs.db_path)"
   ]
  },
  {
   "cell_type": "code",
   "execution_count": null,
   "metadata": {
    "collapsed": false,
    "jupyter": {
     "outputs_hidden": false
    }
   },
   "outputs": [],
   "source": [
    "nb_of_file = 2\n",
    "n_learn = np.sum(np.array(dbspecs.dblabels) == 1)\n",
    "for idf, dblabel in enumerate(dbspecs.dblabels):\n",
    "    if idf % 10 == 0:\n",
    "        print('file {0}/{1}'.format(idf+1, n_learn))\n",
    "    filepath = dbspecs.path + dbspecs.filenames[idf]\n",
    "    event = LoadGestureDB(filepath)\n",
    "    if idf == nb_of_file:\n",
    "        break"
   ]
  },
  {
   "cell_type": "code",
   "execution_count": null,
   "metadata": {
    "collapsed": false,
    "jupyter": {
     "outputs_hidden": false
    }
   },
   "outputs": [],
   "source": [
    "image = np.zeros((308,240))-1\n",
    "target0 = 0\n",
    "target = 60000\n",
    "print(event.address.shape)\n",
    "image[event.address[target0:target,0],event.address[target0:target,1]] \\\n",
    "    = event.polarity[target0:target]\n",
    "plt.imshow(image)"
   ]
  },
  {
   "cell_type": "code",
   "execution_count": null,
   "metadata": {},
   "outputs": [],
   "source": [
    "nb_dico = 14\n",
    "R = 2\n",
    "SpTe_Layer1 = STS(tau=0.03, R=R, verbose=0,initial_time=1)\n",
    "#ClusterLayer1 = KmeansMaro2(4, to_record=True, verbose=0,eta=1)"
   ]
  },
  {
   "cell_type": "code",
   "execution_count": null,
   "metadata": {
    "collapsed": false,
    "jupyter": {
     "outputs_hidden": false
    }
   },
   "outputs": [],
   "source": [
    "res_list=list()\n",
    "coeff_list = list()\n",
    "#eta = 0.1\n",
    "nb_of_file = 100\n",
    "n_learn = np.sum(np.array(dbspecs.dblabels) == 1)\n",
    "Prototype1 = np.random.rand(nb_dico,25)\n",
    "nb_proto = np.zeros(nb_dico)\n",
    "for idf, dblabel in enumerate(dbspecs.dblabels):\n",
    "    if idf % 10 == 0:\n",
    "        print('file {0}/{1}'.format(idf+1, n_learn))\n",
    "    \n",
    "    filepath = dbspecs.path + dbspecs.filenames[idf]\n",
    "    event = LoadGestureDB(filepath, OutOnePolarity=True)\n",
    "    Surface_Layer1 = SpTe_Layer1.create(event = event,kernel='linear')\n",
    "    filt = np.sum(Surface_Layer1, axis = 1) > 2*R\n",
    "    Surface_Layer2 = Surface_Layer1[filt,:] \n",
    "    \n",
    "    res = np.zeros((Surface_Layer2.shape[0]))\n",
    "    for idx, Si in enumerate(Surface_Layer2):\n",
    "        Distance_to_proto = np.linalg.norm(Si - Prototype1,ord=2,axis=1)\n",
    "        closest_proto_idx = np.argmin(Distance_to_proto)\n",
    "        Ck = Prototype1[closest_proto_idx,:].copy()\n",
    "        pk = nb_proto[closest_proto_idx]\n",
    "        alpha = 1/(1+pk)\n",
    "        beta = np.dot(Ck, Si)/(np.sqrt(np.dot(Si, Si))*np.sqrt(np.dot(Ck, Ck)))\n",
    "        #Ck_t = Ck + eta*alpha*beta*(Si-Ck)\n",
    "        Ck_t = Ck + alpha*beta*(Si-Ck)\n",
    "        res[idx] = np.linalg.norm(Si-Ck_t,ord=2)\n",
    "        \n",
    "        #Ck_t = Ck + self.eta*beta*(Si-Ck)\n",
    "\n",
    "        nb_proto[closest_proto_idx] += 1\n",
    "        Prototype1[closest_proto_idx, :] = Ck_t\n",
    "        coeff_list.append(alpha*beta)\n",
    "        #if idx%10000==0:\n",
    "        #    print(alpha)\n",
    "        #Prototype1 /= np.linalg.norm(Prototype1,ord=2,axis=1)[:,None]\n",
    "    res_list.append(np.mean(res))\n",
    "\n",
    "    \n",
    "    if idf == nb_of_file:\n",
    "        break\n",
    "    \n",
    "#filepath = \n",
    "#ts, c, p, removed_events = ua.readATIS_td(filepath, orig_at_zero = True, drop_negative_dt = True, verbose = False)"
   ]
  },
  {
   "cell_type": "code",
   "execution_count": null,
   "metadata": {
    "collapsed": false,
    "jupyter": {
     "outputs_hidden": false
    }
   },
   "outputs": [],
   "source": [
    "a = Surface_Layer2[243,:].reshape(2,25)\n",
    "plt.imshow(a[0,:].reshape(5,5),cmap='gray')\n",
    "print(a[0,:].reshape(5,5))"
   ]
  },
  {
   "cell_type": "code",
   "execution_count": null,
   "metadata": {
    "collapsed": false,
    "jupyter": {
     "outputs_hidden": false
    }
   },
   "outputs": [],
   "source": [
    "DisplaySurface2D(Prototype1,nb_polarities=1)"
   ]
  },
  {
   "cell_type": "code",
   "execution_count": null,
   "metadata": {
    "collapsed": false,
    "jupyter": {
     "outputs_hidden": false
    }
   },
   "outputs": [],
   "source": [
    "print(nb_proto)"
   ]
  },
  {
   "cell_type": "code",
   "execution_count": null,
   "metadata": {
    "collapsed": false,
    "jupyter": {
     "outputs_hidden": false
    }
   },
   "outputs": [],
   "source": [
    "plt.plot(res_list)"
   ]
  },
  {
   "cell_type": "code",
   "execution_count": null,
   "metadata": {
    "collapsed": false,
    "jupyter": {
     "outputs_hidden": false
    }
   },
   "outputs": [],
   "source": [
    "te = SpTe_Layer1.ListOfTimeMatrix[0,:,:]\n",
    "plt.imshow(te)"
   ]
  },
  {
   "cell_type": "code",
   "execution_count": null,
   "metadata": {
    "collapsed": false,
    "jupyter": {
     "outputs_hidden": false
    }
   },
   "outputs": [],
   "source": [
    "def GenerateHistogram(dico,database_spec):\n",
    "    nb_dico = dico.shape[0]\n",
    "    list_of_histo = list\n",
    "    print(nb_dico)\n",
    "    for idf, dblabel in enumerate(dbspecs.dblabels):\n",
    "        histo = np.zeros(nb_dico)\n",
    "        if idf % 10 == 0:\n",
    "            print('file {0}/{1}'.format(idf+1, n_learn))\n",
    "\n",
    "        filepath = dbspecs.path + dbspecs.filenames[idf]\n",
    "        event = LoadGestureDB(filepath, OutOnePolarity=True)\n",
    "        Surface_Layer1 = SpTe_Layer1.create(event = event,kernel='linear')\n",
    "        filt = np.sum(Surface_Layer1, axis = 1) > 2*R\n",
    "        Surface_Layer2 = Surface_Layer1[filt,:] \n",
    "        \n",
    "        for idx, Si in enumerate(Surface_Layer2):\n",
    "            Distance_to_proto = np.linalg.norm(Si - Prototype1,ord=2,axis=1)\n",
    "            closest_proto_idx = np.argmin(Distance_to_proto)\n",
    "            histo[closest_proto_idx] += 1\n",
    "        list_of_histo.append(histo)"
   ]
  },
  {
   "cell_type": "code",
   "execution_count": null,
   "metadata": {
    "collapsed": false,
    "jupyter": {
     "outputs_hidden": false
    }
   },
   "outputs": [],
   "source": []
  },
  {
   "cell_type": "code",
   "execution_count": null,
   "metadata": {
    "collapsed": false,
    "jupyter": {
     "outputs_hidden": false
    }
   },
   "outputs": [],
   "source": [
    "DisplaySurface2D(Prototype1,nb_polarities=2)\n",
    "#DisplayConvergence(ClusterLayer1,to_display=['error','histo'])"
   ]
  },
  {
   "cell_type": "code",
   "execution_count": null,
   "metadata": {
    "collapsed": false,
    "jupyter": {
     "outputs_hidden": false
    }
   },
   "outputs": [],
   "source": [
    "stop_here"
   ]
  },
  {
   "cell_type": "code",
   "execution_count": null,
   "metadata": {},
   "outputs": [],
   "source": [
    "for idf, dblabel in enumerate(dbspecs.dblabels):\n",
    "    if idf % 10 == 0:\n",
    "        print('file {0}/{1}'.format(idf+1, n_learn))\n",
    "    filepath = dbspecs.path + dbspecs.filenames[idf]\n",
    "    event = LoadGestureDB(filepath)\n",
    "    Surface_Layer1 = SpTe_Layer1.create(event = event0,kernel='linear')"
   ]
  },
  {
   "cell_type": "code",
   "execution_count": null,
   "metadata": {
    "collapsed": false,
    "jupyter": {
     "outputs_hidden": false
    }
   },
   "outputs": [],
   "source": [
    "print(ClusterLayer1.record)"
   ]
  },
  {
   "cell_type": "code",
   "execution_count": null,
   "metadata": {
    "collapsed": false,
    "jupyter": {
     "outputs_hidden": false
    }
   },
   "outputs": [],
   "source": [
    "print(Surface_Layer1.shape)\n",
    "print(event.time[4])"
   ]
  },
  {
   "cell_type": "code",
   "execution_count": null,
   "metadata": {
    "collapsed": false,
    "jupyter": {
     "outputs_hidden": false
    }
   },
   "outputs": [],
   "source": [
    "a = np.random.rand(4,50)\n",
    "print(a.shape)\n",
    "print(a)"
   ]
  },
  {
   "cell_type": "code",
   "execution_count": null,
   "metadata": {
    "collapsed": false,
    "jupyter": {
     "outputs_hidden": false
    }
   },
   "outputs": [],
   "source": [
    "print(np.max(c[:,0]))\n",
    "print(np.max(c[:,1]))"
   ]
  },
  {
   "cell_type": "code",
   "execution_count": null,
   "metadata": {
    "collapsed": false,
    "jupyter": {
     "outputs_hidden": false
    }
   },
   "outputs": [],
   "source": [
    "100 % 100"
   ]
  },
  {
   "cell_type": "code",
   "execution_count": null,
   "metadata": {
    "collapsed": true,
    "jupyter": {
     "outputs_hidden": true
    }
   },
   "outputs": [],
   "source": []
  }
 ],
 "metadata": {
  "kernelspec": {
   "display_name": "Python 3",
   "language": "python",
   "name": "python3"
  },
  "language_info": {
   "codemirror_mode": {
    "name": "ipython",
    "version": 3
   },
   "file_extension": ".py",
   "mimetype": "text/x-python",
   "name": "python",
   "nbconvert_exporter": "python",
   "pygments_lexer": "ipython3",
   "version": "3.7.7"
  }
 },
 "nbformat": 4,
 "nbformat_minor": 4
}
