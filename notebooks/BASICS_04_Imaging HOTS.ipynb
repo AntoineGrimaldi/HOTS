{
 "cells": [
  {
   "cell_type": "code",
   "execution_count": 1,
   "metadata": {
    "collapsed": false,
    "jupyter": {
     "outputs_hidden": false
    }
   },
   "outputs": [
    {
     "name": "stdout",
     "output_type": "stream",
     "text": [
      "/Users/laurentperrinet/quantic/science/HomeHots/HOTS_clone_laurent\n"
     ]
    }
   ],
   "source": [
    "%load_ext autoreload\n",
    "%autoreload 2\n",
    "%matplotlib inline\n",
    "%cd '../'"
   ]
  },
  {
   "cell_type": "code",
   "execution_count": 2,
   "metadata": {
    "collapsed": false,
    "jupyter": {
     "outputs_hidden": false
    }
   },
   "outputs": [
    {
     "ename": "ModuleNotFoundError",
     "evalue": "No module named 'Tools'",
     "output_type": "error",
     "traceback": [
      "\u001b[0;31m---------------------------------------------------------------------------\u001b[0m",
      "\u001b[0;31mModuleNotFoundError\u001b[0m                       Traceback (most recent call last)",
      "\u001b[0;32m<ipython-input-2-cd6ee6a0dc24>\u001b[0m in \u001b[0;36m<module>\u001b[0;34m\u001b[0m\n\u001b[1;32m      2\u001b[0m \u001b[0;32mimport\u001b[0m \u001b[0mmatplotlib\u001b[0m\u001b[0;34m.\u001b[0m\u001b[0mpyplot\u001b[0m \u001b[0;32mas\u001b[0m \u001b[0mplt\u001b[0m\u001b[0;34m\u001b[0m\u001b[0;34m\u001b[0m\u001b[0m\n\u001b[1;32m      3\u001b[0m \u001b[0;34m\u001b[0m\u001b[0m\n\u001b[0;32m----> 4\u001b[0;31m \u001b[0;32mfrom\u001b[0m \u001b[0mHOTS\u001b[0m\u001b[0;34m.\u001b[0m\u001b[0mEvent\u001b[0m \u001b[0;32mimport\u001b[0m \u001b[0mEvent\u001b[0m\u001b[0;34m,\u001b[0m \u001b[0mSimpleAlphabet\u001b[0m\u001b[0;34m\u001b[0m\u001b[0;34m\u001b[0m\u001b[0m\n\u001b[0m\u001b[1;32m      5\u001b[0m \u001b[0;32mfrom\u001b[0m \u001b[0mHOTS\u001b[0m\u001b[0;34m.\u001b[0m\u001b[0mLayer\u001b[0m \u001b[0;32mimport\u001b[0m \u001b[0mClusteringLayer\u001b[0m\u001b[0;34m,\u001b[0m \u001b[0mFilterNHBD\u001b[0m\u001b[0;34m\u001b[0m\u001b[0;34m\u001b[0m\u001b[0m\n\u001b[1;32m      6\u001b[0m \u001b[0;32mfrom\u001b[0m \u001b[0mHOTS\u001b[0m\u001b[0;34m.\u001b[0m\u001b[0mToolsMonitor\u001b[0m \u001b[0;32mimport\u001b[0m \u001b[0mDisplayImage\u001b[0m\u001b[0;34m,\u001b[0m \u001b[0mDisplayHisto\u001b[0m\u001b[0;34m\u001b[0m\u001b[0;34m\u001b[0m\u001b[0m\n",
      "\u001b[0;32m~/quantic/science/HomeHots/HOTS_clone_laurent/HOTS/__init__.py\u001b[0m in \u001b[0;36m<module>\u001b[0;34m\u001b[0m\n\u001b[1;32m     13\u001b[0m \u001b[0;34m\u001b[0m\u001b[0m\n\u001b[1;32m     14\u001b[0m \u001b[0;32mfrom\u001b[0m \u001b[0mHOTS\u001b[0m \u001b[0;32mimport\u001b[0m \u001b[0mSTS\u001b[0m\u001b[0;34m\u001b[0m\u001b[0;34m\u001b[0m\u001b[0m\n\u001b[0;32m---> 15\u001b[0;31m \u001b[0;32mfrom\u001b[0m \u001b[0mHOTS\u001b[0m \u001b[0;32mimport\u001b[0m \u001b[0mEvent\u001b[0m\u001b[0;34m\u001b[0m\u001b[0;34m\u001b[0m\u001b[0m\n\u001b[0m\u001b[1;32m     16\u001b[0m \u001b[0;32mfrom\u001b[0m \u001b[0mHOTS\u001b[0m \u001b[0;32mimport\u001b[0m \u001b[0mToolsMonitor\u001b[0m\u001b[0;34m\u001b[0m\u001b[0;34m\u001b[0m\u001b[0m\n\u001b[1;32m     17\u001b[0m \u001b[0;32mfrom\u001b[0m \u001b[0mHOTS\u001b[0m \u001b[0;32mimport\u001b[0m \u001b[0mTools\u001b[0m\u001b[0;34m\u001b[0m\u001b[0;34m\u001b[0m\u001b[0m\n",
      "\u001b[0;32m~/quantic/science/HomeHots/HOTS_clone_laurent/HOTS/Event.py\u001b[0m in \u001b[0;36m<module>\u001b[0;34m\u001b[0m\n\u001b[1;32m      4\u001b[0m \u001b[0;32mimport\u001b[0m \u001b[0mnumpy\u001b[0m \u001b[0;32mas\u001b[0m \u001b[0mnp\u001b[0m\u001b[0;34m\u001b[0m\u001b[0;34m\u001b[0m\u001b[0m\n\u001b[1;32m      5\u001b[0m \u001b[0;32mfrom\u001b[0m \u001b[0mos\u001b[0m \u001b[0;32mimport\u001b[0m \u001b[0mlistdir\u001b[0m\u001b[0;34m\u001b[0m\u001b[0;34m\u001b[0m\u001b[0m\n\u001b[0;32m----> 6\u001b[0;31m \u001b[0;32mfrom\u001b[0m \u001b[0mTools\u001b[0m \u001b[0;32mimport\u001b[0m \u001b[0mLoadObject\u001b[0m\u001b[0;34m\u001b[0m\u001b[0;34m\u001b[0m\u001b[0m\n\u001b[0m\u001b[1;32m      7\u001b[0m \u001b[0;32mimport\u001b[0m \u001b[0mTool_libUnpackAtis\u001b[0m \u001b[0;32mas\u001b[0m \u001b[0mua\u001b[0m\u001b[0;34m\u001b[0m\u001b[0;34m\u001b[0m\u001b[0m\n\u001b[1;32m      8\u001b[0m \u001b[0;32mimport\u001b[0m \u001b[0mpickle\u001b[0m\u001b[0;34m\u001b[0m\u001b[0;34m\u001b[0m\u001b[0m\n",
      "\u001b[0;31mModuleNotFoundError\u001b[0m: No module named 'Tools'"
     ]
    }
   ],
   "source": [
    "\n",
    "\n",
    "import numpy as np\n",
    "import matplotlib.pyplot as plt\n",
    "\n",
    "from HOTS.Event import Event, SimpleAlphabet\n",
    "from HOTS.Layer import ClusteringLayer, FilterNHBD\n",
    "from HOTS.ToolsMonitor import DisplayImage, DisplayHisto\n",
    "from HOTS.Tools import SaveObject, LoadObject, GenerateHistogram\n",
    "from HOTS.Classifier import Classifier\n",
    "from HOTS.Network import Network\n",
    "from HOTS.ToolsMonitor import DisplaySurface2D\n",
    "\n"
   ]
  },
  {
   "cell_type": "code",
   "execution_count": null,
   "metadata": {
    "collapsed": false,
    "jupyter": {
     "outputs_hidden": false
    }
   },
   "outputs": [],
   "source": [
    "\n",
    "\n",
    "tau = 0.02\n",
    "R = 2\n",
    "nb_cluster = [4, 8, 16]\n",
    "ImageSize = (32, 32)\n",
    "\n"
   ]
  },
  {
   "cell_type": "code",
   "execution_count": null,
   "metadata": {
    "collapsed": false,
    "jupyter": {
     "outputs_hidden": false
    }
   },
   "outputs": [],
   "source": [
    "\n",
    "\n",
    "event_tr, event_te, event_cl, label_tr, label_te = SimpleAlphabet(\n",
    "    NbTrainingData=36,\n",
    "    NbTestingData=40,\n",
    "    ClusteringData=[1, 32, 19, 22, 29],\n",
    "    OutOnePolarity=False,\n",
    "    verbose=0,\n",
    "    Path=\"Data/alphabet_ExtractedStabilized.mat\",\n",
    "    LabelPath=\"Data/alphabet_label.pkl\",\n",
    ")\n",
    "\n"
   ]
  },
  {
   "cell_type": "code",
   "execution_count": null,
   "metadata": {
    "collapsed": false,
    "jupyter": {
     "outputs_hidden": false
    }
   },
   "outputs": [],
   "source": [
    "target_event = 1000\n",
    "SpTe = STS(tau=0.02, R=2, verbose=1, initial_time=0)\n",
    "Surface = SpTe.create(event=event1, stop=target_event)"
   ]
  },
  {
   "cell_type": "markdown",
   "metadata": {},
   "source": [
    "## 2.1. Plotting the time Matrix"
   ]
  },
  {
   "cell_type": "code",
   "execution_count": null,
   "metadata": {},
   "outputs": [],
   "source": [
    "target_event = 10000"
   ]
  },
  {
   "cell_type": "code",
   "execution_count": null,
   "metadata": {
    "collapsed": false,
    "jupyter": {
     "outputs_hidden": false
    }
   },
   "outputs": [],
   "source": [
    "SpTe = STS(tau=0.02, R=2, verbose=1, initial_time=0)\n",
    "Surface = SpTe.create(event=event1, stop=target_event)"
   ]
  },
  {
   "cell_type": "code",
   "execution_count": null,
   "metadata": {
    "collapsed": false,
    "jupyter": {
     "outputs_hidden": false
    }
   },
   "outputs": [],
   "source": [
    "w = SpTe.R + 1\n",
    "x, y = event1.address[target_event, 0], event1.address[target_event, 1]\n",
    "t = event1.time[target_event]\n",
    "print(t)\n",
    "print(x, y)\n",
    "(x0, y0) = (x + SpTe.R - w, y + SpTe.R - w)\n",
    "(x1, y1) = (x + SpTe.R + w, y + SpTe.R + w)"
   ]
  },
  {
   "cell_type": "code",
   "execution_count": null,
   "metadata": {
    "collapsed": false,
    "jupyter": {
     "outputs_hidden": false
    }
   },
   "outputs": [],
   "source": [
    "fig, axs = plt.subplots(1, 3, figsize=(3 * 4, 1 * 4))\n",
    "image = np.zeros((SpTe.width, SpTe.height))\n",
    "image[\n",
    "    event1.address[0:target_event, 0].T + SpTe.R,\n",
    "    event1.address[0:target_event, 1].T + SpTe.R,\n",
    "] = (event1.polarity[0:target_event].T + 1)\n",
    "image[\n",
    "    event1.address[target_event, 0].T + SpTe.R,\n",
    "    event1.address[target_event, 1].T + SpTe.R,\n",
    "] = (event1.polarity[target_event].T + 4)\n",
    "image1 = image.copy()\n",
    "# cv2.rectangle(image1, (y0, x0), (y1, x1),\n",
    "#              color=np.amax(image)+0.6)\n",
    "axs[0].axis(\"off\")\n",
    "axs[0].imshow(image1, cmap=\"binary\", interpolation=\"nearest\")\n",
    "\n",
    "ImageTimeMat1 = SpTe.ListOfTimeMatrix[0, :, :]\n",
    "# cv2.rectangle(ImageTimeMat1, (y0, x0), (y1, x1),\n",
    "#              color=np.amax(ImageTimeMat1) + 0.001)\n",
    "axs[1].axis(\"off\")\n",
    "axs[1].imshow(ImageTimeMat1, cmap=\"hot_r\", interpolation=\"nearest\")\n",
    "\n",
    "ImageTimeMat2 = SpTe.ListOfTimeMatrix[1, :, :]\n",
    "# cv2.rectangle(ImageTimeMat2, (y0, x0), (y1, x1),\n",
    "#              color=np.amax(ImageTimeMat2) + 0.001)\n",
    "axs[2].axis(\"off\")\n",
    "axs[2].imshow(ImageTimeMat2, cmap=\"hot_r\", interpolation=\"nearest\")\n",
    ";"
   ]
  },
  {
   "cell_type": "markdown",
   "metadata": {},
   "source": [
    "## 2.2. Plotting the local time Matrix"
   ]
  },
  {
   "cell_type": "code",
   "execution_count": null,
   "metadata": {
    "collapsed": false,
    "jupyter": {
     "outputs_hidden": false
    }
   },
   "outputs": [],
   "source": [
    "fig, axs = plt.subplots(1, 3, figsize=(3 * 4, 1 * 4))\n",
    "x_t, y_t = x + SpTe.R, y + SpTe.R\n",
    "\n",
    "\n",
    "image_local = image[\n",
    "    (x_t - SpTe.R) : (x_t + SpTe.R + 1), (y_t - SpTe.R) : (y_t + SpTe.R + 1)\n",
    "]\n",
    "axs[0].imshow(image_local, cmap=plt.gray(), interpolation=\"nearest\")\n",
    "axs[1].imshow(SpTe.LocalTimeDiff[0, :, :], cmap=\"hot\", interpolation=\"nearest\")\n",
    "axs[1].set_xticks([])\n",
    "axs[1].set_yticks([])\n",
    "# axs[1].axis('off')\n",
    "axs[2].imshow(SpTe.LocalTimeDiff[1, :, :], cmap=\"hot\", interpolation=\"nearest\")\n",
    "axs[2].set_xticks([])\n",
    "axs[2].set_yticks([])"
   ]
  },
  {
   "cell_type": "markdown",
   "metadata": {},
   "source": [
    "## 2.3. Plotting the Spatio Temporal Surfaces"
   ]
  },
  {
   "cell_type": "code",
   "execution_count": null,
   "metadata": {
    "collapsed": false,
    "jupyter": {
     "outputs_hidden": false
    }
   },
   "outputs": [],
   "source": [
    "Surface_to_plot = Surface[-1, :][np.newaxis, :]\n",
    "print(Surface_to_plot.shape)\n",
    "DisplaySurface3D(Surface_to_plot, nb_polarities=2, angle=(40, 0))\n",
    "DisplaySurface2D(Surface_to_plot, nb_polarities=2)"
   ]
  },
  {
   "cell_type": "code",
   "execution_count": null,
   "metadata": {
    "collapsed": false,
    "jupyter": {
     "outputs_hidden": false
    }
   },
   "outputs": [],
   "source": [
    "scene = dict(\n",
    "    xaxis=dict(\n",
    "        gridcolor='rgb(255, 255, 255)',\n",
    "        zerolinecolor='rgb(255, 255, 255)',\n",
    "        showbackground=True,\n",
    "        backgroundcolor='rgb(230, 230,230)'\n",
    "    ),\n",
    "    yaxis=dict(\n",
    "        gridcolor='rgb(255, 255, 255)',\n",
    "        zerolinecolor='rgb(255, 255, 255)',\n",
    "        showbackground=True,\n",
    "        backgroundcolor='rgb(230, 230,230)'\n",
    "    ),\n",
    "    zaxis=dict(\n",
    "        gridcolor='rgb(255, 255, 255)',\n",
    "        zerolinecolor='rgb(255, 255, 255)',\n",
    "        showbackground=True,\n",
    "        backgroundcolor='rgb(230, 230,230)'\n",
    "    ),\n",
    "    camera = dict(\n",
    "        up=dict(x=0, y=0, z=1),\n",
    "        center=dict(x=0, y=0, z=0),\n",
    "        eye=dict(x=2, y=2, z=2)\n",
    "    )\n",
    ")\n",
    "\n",
    "fig = subplots.make_subplots(rows=1, cols=2,specs=[[{'is_3d': True},{'is_3d': True}]])\n",
    "                          #specs=[[{'is_3d': True}],[{'is_3d': True}]])\n",
    "X = SpTe.X_p\n",
    "Y = SpTe.Y_p\n",
    "to_plot = Surface_to_plot.reshape((2,5,5))\n",
    "# adding surfaces to subplots.\n",
    "fig.append_trace(dict(type='surface', x=X, y=Y, z=to_plot[0,:,:], \n",
    "                      colorscale='ylgnbu',\n",
    "                      scene='scene1', showscale=False), 1, 1)\n",
    "fig.append_trace(dict(type='surface', x=X, y=Y, z=to_plot[1,:,:], \n",
    "                      colorscale='ylgnbu',\n",
    "                      scene='scene2', showscale=False), 1, 2)\n",
    "camera = dict(\n",
    "    up=dict(x=0, y=0, z=1),\n",
    "    center=dict(x=0, y=0, z=0),\n",
    "    eye=dict(x=2, y=2, z=2),\n",
    ")\n",
    "\n",
    "fig['layout'].update(title='subplots with different colorscales',\n",
    "                     height=1000, width=1000, margin=dict(l=10,r=10,b=10,t=30))\n",
    "fig['layout']['scene1'].update(scene)\n",
    "fig['layout']['scene2'].update(scene)\n",
    "\n",
    "plotly.offline.iplot(fig, filename='1', validate=False)"
   ]
  },
  {
   "cell_type": "markdown",
   "metadata": {},
   "source": [
    "# 3. Filtering the event"
   ]
  },
  {
   "cell_type": "code",
   "execution_count": null,
   "metadata": {
    "collapsed": false,
    "jupyter": {
     "outputs_hidden": false
    }
   },
   "outputs": [],
   "source": [
    "event0 = Event(ImageSize=(32, 32), ListPolarities=[-1, 1])\n",
    "\n",
    "event0.LoadFromMat(\"Data/alphabet_ExtractedStabilized.mat\", image_number=22)\n",
    "SpTe = STS(tau=0.02, R=2, verbose=1, initial_time=0)\n",
    "Surface = SpTe.create(event=event0)\n",
    "(event_filtered, filt) = SpTe.FilterRecent(event0, threshold=0)\n",
    "\n",
    "\n",
    "# DisplayImage([event0])"
   ]
  },
  {
   "cell_type": "code",
   "execution_count": null,
   "metadata": {
    "collapsed": false,
    "jupyter": {
     "outputs_hidden": false
    }
   },
   "outputs": [],
   "source": [
    "DisplayImage([event0, event_filtered])"
   ]
  },
  {
   "cell_type": "code",
   "execution_count": null,
   "metadata": {},
   "outputs": [],
   "source": [
    "tau = 0.02\n",
    "R = 2\n",
    "nb_cluster = [4, 8, 16]\n",
    "ImageSize = (32, 32)\n",
    "DataPath = \"Data/alphabet_ExtractedStabilized.mat\"\n",
    "LabelPath = \"Data/alphabet_label.pkl\""
   ]
  },
  {
   "cell_type": "code",
   "execution_count": null,
   "metadata": {
    "collapsed": false,
    "jupyter": {
     "outputs_hidden": false
    }
   },
   "outputs": [],
   "source": [
    "event_tr, event_te, event_cl, label_tr, label_te = SimpleAlphabet(\n",
    "    NbTrainingData=36,\n",
    "    NbTestingData=40,\n",
    "    Path=DataPath,\n",
    "    LabelPath=LabelPath,\n",
    "    ClusteringData=[1, 32, 19, 22, 29],\n",
    "    OutOnePolarity=False,\n",
    "    verbose=0,\n",
    ")\n",
    "## Defining the network\n",
    "L1 = ClusteringLayer(\n",
    "    tau=tau, R=R, verbose=0, ThrFilter=2, LearningAlgo=\"maro\", kernel=\"linear\"\n",
    ")\n",
    "Net = Network([L1])\n",
    "ClusterLayer, event_output = Net.TrainCluster(\n",
    "    event=event_cl, NbClusterList=nb_cluster, to_record=True, NbCycle=3\n",
    ")"
   ]
  },
  {
   "cell_type": "code",
   "execution_count": null,
   "metadata": {
    "collapsed": false,
    "jupyter": {
     "outputs_hidden": false
    }
   },
   "outputs": [],
   "source": [
    "print(ClusterLayer[0].prototype.shape)"
   ]
  },
  {
   "cell_type": "code",
   "execution_count": null,
   "metadata": {
    "collapsed": false,
    "jupyter": {
     "outputs_hidden": false
    }
   },
   "outputs": [],
   "source": [
    "proto = ClusterLayer[0].prototype[3, :]"
   ]
  },
  {
   "cell_type": "code",
   "execution_count": null,
   "metadata": {
    "collapsed": false,
    "jupyter": {
     "outputs_hidden": false
    }
   },
   "outputs": [],
   "source": [
    "scene = dict(\n",
    "    xaxis=dict(\n",
    "        gridcolor=\"rgb(255, 255, 255)\",\n",
    "        zerolinecolor=\"rgb(255, 255, 255)\",\n",
    "        showbackground=True,\n",
    "        backgroundcolor=\"rgb(230, 230,230)\",\n",
    "    ),\n",
    "    yaxis=dict(\n",
    "        gridcolor=\"rgb(255, 255, 255)\",\n",
    "        zerolinecolor=\"rgb(255, 255, 255)\",\n",
    "        showbackground=True,\n",
    "        backgroundcolor=\"rgb(230, 230,230)\",\n",
    "    ),\n",
    "    zaxis=dict(\n",
    "        gridcolor=\"rgb(255, 255, 255)\",\n",
    "        zerolinecolor=\"rgb(255, 255, 255)\",\n",
    "        showbackground=True,\n",
    "        backgroundcolor=\"rgb(230, 230,230)\",\n",
    "    ),\n",
    "    camera=dict(\n",
    "        up=dict(x=0, y=0, z=1), center=dict(x=0, y=0, z=0), eye=dict(x=2, y=2, z=2)\n",
    "    ),\n",
    ")\n",
    "\n",
    "fig = subplots.make_subplots(rows=1, cols=2, specs=[[{\"is_3d\": True}, {\"is_3d\": True}]])\n",
    "# specs=[[{'is_3d': True}],[{'is_3d': True}]])\n",
    "X = SpTe.X_p\n",
    "Y = SpTe.Y_p\n",
    "to_plot = proto.reshape((2, 5, 5))\n",
    "# adding surfaces to subplots.\n",
    "fig.append_trace(\n",
    "    dict(\n",
    "        type=\"surface\",\n",
    "        x=X,\n",
    "        y=Y,\n",
    "        z=to_plot[0, :, :],\n",
    "        colorscale=\"ylgnbu\",\n",
    "        scene=\"scene1\",\n",
    "        showscale=False,\n",
    "    ),\n",
    "    1,\n",
    "    1,\n",
    ")\n",
    "fig.append_trace(\n",
    "    dict(\n",
    "        type=\"surface\",\n",
    "        x=X,\n",
    "        y=Y,\n",
    "        z=to_plot[1, :, :],\n",
    "        colorscale=\"ylgnbu\",\n",
    "        scene=\"scene2\",\n",
    "        showscale=False,\n",
    "    ),\n",
    "    1,\n",
    "    2,\n",
    ")\n",
    "camera = dict(\n",
    "    up=dict(x=0, y=0, z=1), center=dict(x=0, y=0, z=0), eye=dict(x=2, y=2, z=2)\n",
    ")\n",
    "\n",
    "fig[\"layout\"].update(\n",
    "    title=\"subplots with different colorscales\",\n",
    "    height=1000,\n",
    "    width=1000,\n",
    "    margin=dict(l=10, r=10, b=10, t=30),\n",
    ")\n",
    "fig[\"layout\"][\"scene1\"].update(scene)\n",
    "fig[\"layout\"][\"scene2\"].update(scene)\n",
    "\n",
    "plotly.offline.iplot(fig, filename=\"1\", validate=False)"
   ]
  },
  {
   "cell_type": "code",
   "execution_count": null,
   "metadata": {},
   "outputs": [],
   "source": []
  },
  {
   "cell_type": "code",
   "execution_count": null,
   "metadata": {},
   "outputs": [],
   "source": []
  },
  {
   "cell_type": "code",
   "execution_count": null,
   "metadata": {},
   "outputs": [],
   "source": []
  },
  {
   "cell_type": "code",
   "execution_count": null,
   "metadata": {},
   "outputs": [],
   "source": []
  }
 ],
 "metadata": {
  "kernelspec": {
   "display_name": "hots",
   "language": "python",
   "name": "hots"
  },
  "language_info": {
   "codemirror_mode": {
    "name": "ipython",
    "version": 3
   },
   "file_extension": ".py",
   "mimetype": "text/x-python",
   "name": "python",
   "nbconvert_exporter": "python",
   "pygments_lexer": "ipython3",
   "version": "3.8.6"
  }
 },
 "nbformat": 4,
 "nbformat_minor": 4
}
