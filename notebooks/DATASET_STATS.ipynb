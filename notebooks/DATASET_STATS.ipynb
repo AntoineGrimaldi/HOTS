{
 "cells": [
  {
   "cell_type": "markdown",
   "metadata": {},
   "source": [
    "# Datasets statistics"
   ]
  },
  {
   "cell_type": "code",
   "execution_count": 1,
   "metadata": {},
   "outputs": [
    {
     "name": "stdout",
     "output_type": "stream",
     "text": [
      "/home/INT/grimaldi.a/Documents/projets/HOTS/newhots/HOTS\n"
     ]
    }
   ],
   "source": [
    "%cd '../HOTS'\n",
    "import tonic\n",
    "import numpy as np\n",
    "import matplotlib.pyplot as plt\n",
    "import pickle"
   ]
  },
  {
   "cell_type": "markdown",
   "metadata": {},
   "source": [
    "## For Poker-DVS"
   ]
  },
  {
   "cell_type": "code",
   "execution_count": 7,
   "metadata": {},
   "outputs": [
    {
     "name": "stdout",
     "output_type": "stream",
     "text": [
      "number of samples in the trainset: 48\n",
      "number of samples in the testset: 20\n"
     ]
    }
   ],
   "source": [
    "trainset = tonic.datasets.POKERDVS(save_to='../../Data', train = True, transform = tonic.transforms.NumpyAsType(int))\n",
    "testset = tonic.datasets.POKERDVS(save_to='../../Data', train = False, transform = tonic.transforms.NumpyAsType(int))\n",
    "\n",
    "print(f'number of samples in the trainset: {len(trainset)}')\n",
    "print(f'number of samples in the testset: {len(testset)}')\n",
    "\n",
    "x_index = trainset.ordering.index(\"x\")\n",
    "y_index = trainset.ordering.index(\"y\")\n",
    "t_index = trainset.ordering.index(\"t\")\n",
    "p_index = trainset.ordering.index(\"p\")"
   ]
  },
  {
   "cell_type": "code",
   "execution_count": 8,
   "metadata": {},
   "outputs": [],
   "source": [
    "train_class = np.zeros(len(trainset.classes))\n",
    "test_class = np.zeros(len(trainset.classes))\n",
    "nbev = []\n",
    "recordingtime = []\n",
    "for events, target in trainset:\n",
    "    train_class[target]+=1\n",
    "    nbev.append(len(events))\n",
    "    recordingtime.append(events[:,t_index][-1])\n",
    "for events, target in testset:\n",
    "    test_class[target]+=1\n",
    "    nbev.append(len(events))\n",
    "    recordingtime.append(events[:,t_index][-1])"
   ]
  },
  {
   "cell_type": "code",
   "execution_count": 9,
   "metadata": {},
   "outputs": [
    {
     "name": "stdout",
     "output_type": "stream",
     "text": [
      "mean value for the recording time: 17.4 ms\n",
      "mean value for the number of events: 3050\n"
     ]
    },
    {
     "data": {
      "image/png": "[encoded data removed]",
      "text/plain": [
       "<Figure size 720x360 with 2 Axes>"
      ]
     },
     "metadata": {
      "needs_background": "light"
     },
     "output_type": "display_data"
    }
   ],
   "source": [
    "fig, axs = plt.subplots(1,2, figsize=(10,5))\n",
    "for i in range(2):\n",
    "    if i == 0:\n",
    "        x = recordingtime\n",
    "        ttl = 'recording time in ($\\mu s$)'\n",
    "    else:\n",
    "        x = nbev\n",
    "        ttl = 'number of events'\n",
    "    #hist, bin_edges = np.histogram(x)\n",
    "    n, bins, patches = axs[i].hist(x=x, bins='auto', color='#0504aa',\n",
    "                                alpha=0.7, rwidth=0.85)\n",
    "    axs[i].grid(axis='y', alpha=0.75)\n",
    "    axs[i].set_xlabel('Value')\n",
    "    axs[i].set_ylabel('Frequency')\n",
    "    axs[i].set_title(f'Histogram for the {ttl}')\n",
    "    #axs[i].text(23, 45, r'$\\mu=15, b=3$')\n",
    "    maxfreq = n.max()\n",
    "    # Set a clean upper y-axis limit.\n",
    "    axs[i].set_ylim(ymax=np.ceil(maxfreq / 10) * 10 if maxfreq % 10 else maxfreq + 10)\n",
    "print(f'mean value for the recording time: {np.round(np.mean(recordingtime),0)/1e3} ms')\n",
    "print(f'mean value for the number of events: {int(np.round(np.mean(nbev),0))}')"
   ]
  },
  {
   "cell_type": "markdown",
   "metadata": {},
   "source": [
    "# For N-MNIST"
   ]
  },
  {
   "cell_type": "code",
   "execution_count": 8,
   "metadata": {},
   "outputs": [
    {
     "ename": "RuntimeError",
     "evalue": "Dataset not found or corrupted. You can use download=True to download it",
     "output_type": "error",
     "traceback": [
      "\u001b[0;31m---------------------------------------------------------------------------\u001b[0m",
      "\u001b[0;31mRuntimeError\u001b[0m                              Traceback (most recent call last)",
      "\u001b[0;32m/var/folders/c0/lpsp1b8964g8z8vcc8rps0b00000gn/T/ipykernel_5267/1766790599.py\u001b[0m in \u001b[0;36m<module>\u001b[0;34m\u001b[0m\n\u001b[0;32m----> 1\u001b[0;31m trainset = tonic.datasets.NMNIST(save_to='../../HOTS/Data',\n\u001b[0m\u001b[1;32m      2\u001b[0m                                 \u001b[0mdownload\u001b[0m\u001b[0;34m=\u001b[0m\u001b[0;32mFalse\u001b[0m\u001b[0;34m,\u001b[0m \u001b[0mtrain\u001b[0m \u001b[0;34m=\u001b[0m \u001b[0;32mTrue\u001b[0m\u001b[0;34m\u001b[0m\u001b[0;34m\u001b[0m\u001b[0m\n\u001b[1;32m      3\u001b[0m                               )\n\u001b[1;32m      4\u001b[0m testset = tonic.datasets.NMNIST(save_to='../../HOTS/Data',\n\u001b[1;32m      5\u001b[0m                                 \u001b[0mdownload\u001b[0m\u001b[0;34m=\u001b[0m\u001b[0;32mFalse\u001b[0m\u001b[0;34m,\u001b[0m \u001b[0mtrain\u001b[0m \u001b[0;34m=\u001b[0m \u001b[0;32mFalse\u001b[0m\u001b[0;34m\u001b[0m\u001b[0;34m\u001b[0m\u001b[0m\n",
      "\u001b[0;32m~/Documents/boulot/git/tonic/tonic/datasets/nmnist.py\u001b[0m in \u001b[0;36m__init__\u001b[0;34m(self, save_to, train, download, transform, target_transform, first_saccade_only)\u001b[0m\n\u001b[1;32m     82\u001b[0m             \u001b[0mos\u001b[0m\u001b[0;34m.\u001b[0m\u001b[0mpath\u001b[0m\u001b[0;34m.\u001b[0m\u001b[0mjoin\u001b[0m\u001b[0;34m(\u001b[0m\u001b[0mself\u001b[0m\u001b[0;34m.\u001b[0m\u001b[0mlocation_on_system\u001b[0m\u001b[0;34m,\u001b[0m \u001b[0mself\u001b[0m\u001b[0;34m.\u001b[0m\u001b[0mfilename\u001b[0m\u001b[0;34m)\u001b[0m\u001b[0;34m,\u001b[0m \u001b[0mself\u001b[0m\u001b[0;34m.\u001b[0m\u001b[0mfile_md5\u001b[0m\u001b[0;34m\u001b[0m\u001b[0;34m\u001b[0m\u001b[0m\n\u001b[1;32m     83\u001b[0m         ):\n\u001b[0;32m---> 84\u001b[0;31m             raise RuntimeError(\n\u001b[0m\u001b[1;32m     85\u001b[0m                 \u001b[0;34m\"Dataset not found or corrupted.\"\u001b[0m\u001b[0;34m\u001b[0m\u001b[0;34m\u001b[0m\u001b[0m\n\u001b[1;32m     86\u001b[0m                 \u001b[0;34m+\u001b[0m \u001b[0;34m\" You can use download=True to download it\"\u001b[0m\u001b[0;34m\u001b[0m\u001b[0;34m\u001b[0m\u001b[0m\n",
      "\u001b[0;31mRuntimeError\u001b[0m: Dataset not found or corrupted. You can use download=True to download it"
     ]
    }
   ],
   "source": [
    "trainset = tonic.datasets.NMNIST(save_to='../../Data',\n",
    "                                download=False, train = True\n",
    "                              )\n",
    "testset = tonic.datasets.NMNIST(save_to='../../Data',\n",
    "                                download=False, train = False\n",
    "                              )\n",
    "\n",
    "print(f'number of samples in the trainset: {len(trainset)}')\n",
    "print(f'number of samples in the testset: {len(testset)}')\n",
    "\n",
    "x_index = trainset.ordering.find(\"x\")\n",
    "y_index = trainset.ordering.find(\"y\")\n",
    "t_index = trainset.ordering.find(\"t\")\n",
    "p_index = trainset.ordering.find(\"p\")\n",
    "\n",
    "train_class = np.zeros(len(trainset.classes))\n",
    "test_class = np.zeros(len(trainset.classes))\n",
    "nbev = []\n",
    "recordingtime = []\n",
    "for events, target in trainset:\n",
    "    train_class[target]+=1\n",
    "    nbev.append(len(events))\n",
    "    recordingtime.append(events[:,t_index][-1])\n",
    "for events, target in testset:\n",
    "    test_class[target]+=1\n",
    "    nbev.append(len(events))\n",
    "    recordingtime.append(events[:,t_index][-1])"
   ]
  },
  {
   "cell_type": "code",
   "execution_count": 6,
   "metadata": {},
   "outputs": [
    {
     "name": "stdout",
     "output_type": "stream",
     "text": [
      "mean value for the recording time: 307.663 ms\n",
      "mean value for the number of events: 4176\n"
     ]
    },
    {
     "data": {
      "image/png": "[encoded data removed]",
      "text/plain": [
       "<Figure size 720x360 with 2 Axes>"
      ]
     },
     "metadata": {
      "needs_background": "light"
     },
     "output_type": "display_data"
    }
   ],
   "source": [
    "fig, axs = plt.subplots(1,2, figsize=(10,5))\n",
    "for i in range(2):\n",
    "    if i == 0:\n",
    "        x = recordingtime\n",
    "        ttl = 'recording time in ($\\mu s$)'\n",
    "    else:\n",
    "        x = nbev\n",
    "        ttl = 'number of events'\n",
    "    #hist, bin_edges = np.histogram(x)\n",
    "    n, bins, patches = axs[i].hist(x=x, bins='auto', color='#0504aa',\n",
    "                                alpha=0.7, rwidth=0.85)\n",
    "    axs[i].grid(axis='y', alpha=0.75)\n",
    "    axs[i].set_xlabel('Value')\n",
    "    axs[i].set_ylabel('Frequency')\n",
    "    axs[i].set_title(f'Histogram for the {ttl}')\n",
    "    #axs[i].text(23, 45, r'$\\mu=15, b=3$')\n",
    "    maxfreq = n.max()\n",
    "    # Set a clean upper y-axis limit.\n",
    "    axs[i].set_ylim(ymax=np.ceil(maxfreq / 10) * 10 if maxfreq % 10 else maxfreq + 10)\n",
    "print(f'mean value for the recording time: {np.round(np.mean(recordingtime),0)/1e3} ms')\n",
    "print(f'mean value for the number of events: {int(np.round(np.mean(nbev),0))}')"
   ]
  },
  {
   "cell_type": "markdown",
   "metadata": {},
   "source": [
    "# For N-CARS"
   ]
  },
  {
   "cell_type": "code",
   "execution_count": 17,
   "metadata": {},
   "outputs": [
    {
     "name": "stdout",
     "output_type": "stream",
     "text": [
      "number of samples in the trainset: 15422\n",
      "number of samples in the testset: 8607\n"
     ]
    }
   ],
   "source": [
    "trainset = tonic.datasets.NCARS(save_to='../../Data',\n",
    "                                download=False, train = True\n",
    "                              )\n",
    "testset = tonic.datasets.NCARS(save_to='../../Data',\n",
    "                                download=False, train = False\n",
    "                              )\n",
    "\n",
    "print(f'number of samples in the trainset: {len(trainset)}')\n",
    "print(f'number of samples in the testset: {len(testset)}')\n",
    "\n",
    "x_index = trainset.ordering.find(\"x\")\n",
    "y_index = trainset.ordering.find(\"y\")\n",
    "t_index = trainset.ordering.find(\"t\")\n",
    "p_index = trainset.ordering.find(\"p\")\n",
    "\n",
    "train_class = np.zeros(len(trainset.classes))\n",
    "test_class = np.zeros(len(trainset.classes))\n",
    "nbev = []\n",
    "recordingtime = []\n",
    "for events, target in trainset:\n",
    "    train_class[target]+=1\n",
    "    nbev.append(len(events))\n",
    "    recordingtime.append(events[:,t_index][-1])\n",
    "for events, target in testset:\n",
    "    test_class[target]+=1\n",
    "    nbev.append(len(events))\n",
    "    recordingtime.append(events[:,t_index][-1])"
   ]
  },
  {
   "cell_type": "code",
   "execution_count": 4,
   "metadata": {},
   "outputs": [
    {
     "name": "stdout",
     "output_type": "stream",
     "text": [
      "mean value for the recording time: 99.824 ms\n",
      "mean value for the number of events: 3966\n"
     ]
    },
    {
     "data": {
      "image/png": "[encoded data removed]",
      "text/plain": [
       "<Figure size 720x360 with 2 Axes>"
      ]
     },
     "metadata": {
      "needs_background": "light"
     },
     "output_type": "display_data"
    }
   ],
   "source": [
    "fig, axs = plt.subplots(1,2, figsize=(10,5))\n",
    "for i in range(2):\n",
    "    if i == 0:\n",
    "        x = recordingtime\n",
    "        ttl = 'recording time in ($\\mu s$)'\n",
    "    else:\n",
    "        x = nbev\n",
    "        ttl = 'number of events'\n",
    "    #hist, bin_edges = np.histogram(x)\n",
    "    n, bins, patches = axs[i].hist(x=x, bins='auto', color='#0504aa',\n",
    "                                alpha=0.7, rwidth=0.85)\n",
    "    axs[i].grid(axis='y', alpha=0.75)\n",
    "    axs[i].set_xlabel('Value')\n",
    "    axs[i].set_ylabel('Frequency')\n",
    "    axs[i].set_title(f'Histogram for the {ttl}')\n",
    "    #axs[i].text(23, 45, r'$\\mu=15, b=3$')\n",
    "    maxfreq = n.max()\n",
    "    # Set a clean upper y-axis limit.\n",
    "    axs[i].set_ylim(ymax=np.ceil(maxfreq / 10) * 10 if maxfreq % 10 else maxfreq + 10)\n",
    "print(f'mean value for the recording time: {np.round(np.mean(recordingtime),0)/1e3} ms')\n",
    "print(f'mean value for the number of events: {int(np.round(np.mean(nbev),0))}')"
   ]
  },
  {
   "cell_type": "code",
   "execution_count": 8,
   "metadata": {},
   "outputs": [],
   "source": [
    "x_grid = []\n",
    "y_grid = []\n",
    "for events, target in trainset:\n",
    "    size_x = max(events[:,trainset.ordering.find(\"x\")])-min(events[:,trainset.ordering.find(\"x\")])\n",
    "    size_y = max(events[:,trainset.ordering.find(\"y\")])-min(events[:,trainset.ordering.find(\"y\")])\n",
    "    y_grid.append(size_y)\n",
    "    x_grid.append(size_x)\n",
    "for events, target in testset:\n",
    "    size_x = max(events[:,trainset.ordering.find(\"x\")])-min(events[:,trainset.ordering.find(\"x\")])\n",
    "    size_y = max(events[:,trainset.ordering.find(\"y\")])-min(events[:,trainset.ordering.find(\"y\")])\n",
    "    y_grid.append(size_y)\n",
    "    x_grid.append(size_x)"
   ]
  },
  {
   "cell_type": "code",
   "execution_count": 11,
   "metadata": {},
   "outputs": [
    {
     "name": "stdout",
     "output_type": "stream",
     "text": [
      "mean value for the recording time: 99.824 ms\n",
      "mean value for the number of events: 3966\n"
     ]
    },
    {
     "data": {
      "image/png": "[encoded data removed]",
      "text/plain": [
       "<Figure size 720x360 with 2 Axes>"
      ]
     },
     "metadata": {
      "needs_background": "light"
     },
     "output_type": "display_data"
    }
   ],
   "source": [
    "fig, axs = plt.subplots(1,2, figsize=(10,5))\n",
    "for i in range(2):\n",
    "    if i == 0:\n",
    "        x = x_grid\n",
    "        ttl = 'recording time in ($\\mu s$)'\n",
    "    else:\n",
    "        x = y_grid\n",
    "        ttl = 'number of events'\n",
    "    #hist, bin_edges = np.histogram(x)\n",
    "    n, bins, patches = axs[i].hist(x=x, bins='auto', color='#0504aa',\n",
    "                                alpha=0.7, rwidth=0.85)\n",
    "    axs[i].grid(axis='y', alpha=0.75)\n",
    "    axs[i].set_xlabel('Value')\n",
    "    axs[i].set_ylabel('Frequency')\n",
    "    axs[i].set_title(f'Histogram for the {ttl}')\n",
    "    #axs[i].text(23, 45, r'$\\mu=15, b=3$')\n",
    "    maxfreq = n.max()\n",
    "    # Set a clean upper y-axis limit.\n",
    "    axs[i].set_ylim(ymax=np.ceil(maxfreq / 10) * 10 if maxfreq % 10 else maxfreq + 10)\n",
    "print(f'mean value for the recording time: {np.round(np.mean(recordingtime),0)/1e3} ms')\n",
    "print(f'mean value for the number of events: {int(np.round(np.mean(nbev),0))}')"
   ]
  },
  {
   "cell_type": "code",
   "execution_count": 15,
   "metadata": {},
   "outputs": [
    {
     "name": "stdout",
     "output_type": "stream",
     "text": [
      "17.0 21.0\n",
      "119.0 99.0\n"
     ]
    }
   ],
   "source": [
    "print(np.min(x_grid), np.min(y_grid)) \n",
    "print(np.max(x_grid), np.max(y_grid)) "
   ]
  },
  {
   "cell_type": "code",
   "execution_count": null,
   "metadata": {},
   "outputs": [],
   "source": []
  }
 ],
 "metadata": {
  "kernelspec": {
   "display_name": "Python 3 (ipykernel)",
   "language": "python",
   "name": "python3"
  },
  "language_info": {
   "codemirror_mode": {
    "name": "ipython",
    "version": 3
   },
   "file_extension": ".py",
   "mimetype": "text/x-python",
   "name": "python",
   "nbconvert_exporter": "python",
   "pygments_lexer": "ipython3",
   "version": "3.8.10"
  }
 },
 "nbformat": 4,
 "nbformat_minor": 4
}
