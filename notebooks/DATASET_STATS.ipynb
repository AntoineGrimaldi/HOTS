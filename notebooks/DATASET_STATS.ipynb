{
 "cells": [
  {
   "cell_type": "markdown",
   "metadata": {},
   "source": [
    "# Datasets statistics"
   ]
  },
  {
   "cell_type": "code",
   "execution_count": 45,
   "metadata": {},
   "outputs": [
    {
     "name": "stdout",
     "output_type": "stream",
     "text": [
      "/home/antoine/homhots/HOTS/HOTS\n"
     ]
    }
   ],
   "source": [
    "%cd '../HOTS'\n",
    "import tonic\n",
    "import numpy as np\n",
    "import matplotlib.pyplot as plt\n",
    "from Network import LoadFromMat\n",
    "import pickle"
   ]
  },
  {
   "cell_type": "markdown",
   "metadata": {},
   "source": [
    "# For DVS\\_barrel"
   ]
  },
  {
   "cell_type": "code",
   "execution_count": 23,
   "metadata": {},
   "outputs": [],
   "source": [
    "path = \"../Data/alphabet_ExtractedStabilized.mat\"\n",
    "image_list=list(np.arange(0, 76))\n",
    "address, time, polarity, list_pola = LoadFromMat(path, image_number=image_list)\n",
    "with open('../Data/alphabet_label.pkl', 'rb') as file:\n",
    "    label_list = pickle.load(file)"
   ]
  },
  {
   "cell_type": "code",
   "execution_count": 43,
   "metadata": {},
   "outputs": [],
   "source": [
    "nbev = []\n",
    "recordingtime = []\n",
    "for i, l in enumerate(label_list):\n",
    "    nbev.append(l[1])\n",
    "    recordingtime.append(time[l[1]]*1e6)"
   ]
  },
  {
   "cell_type": "code",
   "execution_count": 44,
   "metadata": {},
   "outputs": [
    {
     "name": "stdout",
     "output_type": "stream",
     "text": [
      "mean value for the recording time: 60.858 ms\n",
      "mean value for the number of events: 14197\n"
     ]
    },
    {
     "data": {
      "image/png": "[encoded data removed]",
      "text/plain": [
       "<Figure size 720x360 with 2 Axes>"
      ]
     },
     "metadata": {
      "needs_background": "light"
     },
     "output_type": "display_data"
    }
   ],
   "source": [
    "fig, axs = plt.subplots(1,2, figsize=(10,5))\n",
    "for i in range(2):\n",
    "    if i == 0:\n",
    "        x = recordingtime\n",
    "        ttl = 'recording time in ($\\mu s$)'\n",
    "    else:\n",
    "        x = nbev\n",
    "        ttl = 'number of events'\n",
    "    #hist, bin_edges = np.histogram(x)\n",
    "    n, bins, patches = axs[i].hist(x=x, bins='auto', color='#0504aa',\n",
    "                                alpha=0.7, rwidth=0.85)\n",
    "    axs[i].grid(axis='y', alpha=0.75)\n",
    "    axs[i].set_xlabel('Value')\n",
    "    axs[i].set_ylabel('Frequency')\n",
    "    axs[i].set_title(f'Histogram for the {ttl}')\n",
    "    #axs[i].text(23, 45, r'$\\mu=15, b=3$')\n",
    "    maxfreq = n.max()\n",
    "    # Set a clean upper y-axis limit.\n",
    "    axs[i].set_ylim(ymax=np.ceil(maxfreq / 10) * 10 if maxfreq % 10 else maxfreq + 10)\n",
    "print(f'mean value for the recording time: {np.round(np.mean(recordingtime),0)/1e3} ms')\n",
    "print(f'mean value for the number of events: {int(np.round(np.mean(nbev),0))}')"
   ]
  },
  {
   "cell_type": "markdown",
   "metadata": {},
   "source": [
    "## For Poker-DVS"
   ]
  },
  {
   "cell_type": "code",
   "execution_count": 2,
   "metadata": {},
   "outputs": [
    {
     "name": "stdout",
     "output_type": "stream",
     "text": [
      "number of samples in the trainset: 48\n",
      "number of samples in the testset: 20\n"
     ]
    }
   ],
   "source": [
    "trainset = tonic.datasets.POKERDVS(save_to='../Data',\n",
    "                                download=False, train = True\n",
    "                              )\n",
    "testset = tonic.datasets.POKERDVS(save_to='../Data',\n",
    "                                download=False, train = False\n",
    "                              )\n",
    "\n",
    "print(f'number of samples in the trainset: {len(trainset)}')\n",
    "print(f'number of samples in the testset: {len(testset)}')\n",
    "\n",
    "x_index = trainset.ordering.find(\"x\")\n",
    "y_index = trainset.ordering.find(\"y\")\n",
    "t_index = trainset.ordering.find(\"t\")\n",
    "p_index = trainset.ordering.find(\"p\")"
   ]
  },
  {
   "cell_type": "code",
   "execution_count": 3,
   "metadata": {},
   "outputs": [],
   "source": [
    "train_class = np.zeros(len(trainset.classes))\n",
    "test_class = np.zeros(len(trainset.classes))\n",
    "nbev = []\n",
    "recordingtime = []\n",
    "for events, target in trainset:\n",
    "    train_class[target]+=1\n",
    "    nbev.append(len(events))\n",
    "    recordingtime.append(events[:,t_index][-1])\n",
    "for events, target in testset:\n",
    "    test_class[target]+=1\n",
    "    nbev.append(len(events))\n",
    "    recordingtime.append(events[:,t_index][-1])"
   ]
  },
  {
   "cell_type": "code",
   "execution_count": 4,
   "metadata": {},
   "outputs": [
    {
     "name": "stdout",
     "output_type": "stream",
     "text": [
      "mean value for the recording time: 17.4 ms\n",
      "mean value for the number of events: 3050\n"
     ]
    },
    {
     "data": {
      "image/png": "[encoded data removed]",
      "text/plain": [
       "<Figure size 720x360 with 2 Axes>"
      ]
     },
     "metadata": {
      "needs_background": "light"
     },
     "output_type": "display_data"
    }
   ],
   "source": [
    "fig, axs = plt.subplots(1,2, figsize=(10,5))\n",
    "for i in range(2):\n",
    "    if i == 0:\n",
    "        x = recordingtime\n",
    "        ttl = 'recording time in ($\\mu s$)'\n",
    "    else:\n",
    "        x = nbev\n",
    "        ttl = 'number of events'\n",
    "    #hist, bin_edges = np.histogram(x)\n",
    "    n, bins, patches = axs[i].hist(x=x, bins='auto', color='#0504aa',\n",
    "                                alpha=0.7, rwidth=0.85)\n",
    "    axs[i].grid(axis='y', alpha=0.75)\n",
    "    axs[i].set_xlabel('Value')\n",
    "    axs[i].set_ylabel('Frequency')\n",
    "    axs[i].set_title(f'Histogram for the {ttl}')\n",
    "    #axs[i].text(23, 45, r'$\\mu=15, b=3$')\n",
    "    maxfreq = n.max()\n",
    "    # Set a clean upper y-axis limit.\n",
    "    axs[i].set_ylim(ymax=np.ceil(maxfreq / 10) * 10 if maxfreq % 10 else maxfreq + 10)\n",
    "print(f'mean value for the recording time: {np.round(np.mean(recordingtime),0)/1e3} ms')\n",
    "print(f'mean value for the number of events: {int(np.round(np.mean(nbev),0))}')"
   ]
  },
  {
   "cell_type": "markdown",
   "metadata": {},
   "source": [
    "# For N-MNIST"
   ]
  },
  {
   "cell_type": "code",
   "execution_count": 5,
   "metadata": {},
   "outputs": [
    {
     "name": "stdout",
     "output_type": "stream",
     "text": [
      "number of samples in the trainset: 60000\n",
      "number of samples in the testset: 10000\n"
     ]
    }
   ],
   "source": [
    "trainset = tonic.datasets.NMNIST(save_to='../Data',\n",
    "                                download=False, train = True\n",
    "                              )\n",
    "testset = tonic.datasets.NMNIST(save_to='../Data',\n",
    "                                download=False, train = False\n",
    "                              )\n",
    "\n",
    "print(f'number of samples in the trainset: {len(trainset)}')\n",
    "print(f'number of samples in the testset: {len(testset)}')\n",
    "\n",
    "x_index = trainset.ordering.find(\"x\")\n",
    "y_index = trainset.ordering.find(\"y\")\n",
    "t_index = trainset.ordering.find(\"t\")\n",
    "p_index = trainset.ordering.find(\"p\")\n",
    "\n",
    "train_class = np.zeros(len(trainset.classes))\n",
    "test_class = np.zeros(len(trainset.classes))\n",
    "nbev = []\n",
    "recordingtime = []\n",
    "for events, target in trainset:\n",
    "    train_class[target]+=1\n",
    "    nbev.append(len(events))\n",
    "    recordingtime.append(events[:,t_index][-1])\n",
    "for events, target in testset:\n",
    "    test_class[target]+=1\n",
    "    nbev.append(len(events))\n",
    "    recordingtime.append(events[:,t_index][-1])"
   ]
  },
  {
   "cell_type": "code",
   "execution_count": 6,
   "metadata": {},
   "outputs": [
    {
     "name": "stdout",
     "output_type": "stream",
     "text": [
      "mean value for the recording time: 307.663 ms\n",
      "mean value for the number of events: 4176\n"
     ]
    },
    {
     "data": {
      "image/png": "[encoded data removed]",
      "text/plain": [
       "<Figure size 720x360 with 2 Axes>"
      ]
     },
     "metadata": {
      "needs_background": "light"
     },
     "output_type": "display_data"
    }
   ],
   "source": [
    "fig, axs = plt.subplots(1,2, figsize=(10,5))\n",
    "for i in range(2):\n",
    "    if i == 0:\n",
    "        x = recordingtime\n",
    "        ttl = 'recording time in ($\\mu s$)'\n",
    "    else:\n",
    "        x = nbev\n",
    "        ttl = 'number of events'\n",
    "    #hist, bin_edges = np.histogram(x)\n",
    "    n, bins, patches = axs[i].hist(x=x, bins='auto', color='#0504aa',\n",
    "                                alpha=0.7, rwidth=0.85)\n",
    "    axs[i].grid(axis='y', alpha=0.75)\n",
    "    axs[i].set_xlabel('Value')\n",
    "    axs[i].set_ylabel('Frequency')\n",
    "    axs[i].set_title(f'Histogram for the {ttl}')\n",
    "    #axs[i].text(23, 45, r'$\\mu=15, b=3$')\n",
    "    maxfreq = n.max()\n",
    "    # Set a clean upper y-axis limit.\n",
    "    axs[i].set_ylim(ymax=np.ceil(maxfreq / 10) * 10 if maxfreq % 10 else maxfreq + 10)\n",
    "print(f'mean value for the recording time: {np.round(np.mean(recordingtime),0)/1e3} ms')\n",
    "print(f'mean value for the number of events: {int(np.round(np.mean(nbev),0))}')"
   ]
  },
  {
   "cell_type": "code",
   "execution_count": null,
   "metadata": {},
   "outputs": [],
   "source": []
  }
 ],
 "metadata": {
  "kernelspec": {
   "display_name": "Python 3",
   "language": "python",
   "name": "python3"
  },
  "language_info": {
   "codemirror_mode": {
    "name": "ipython",
    "version": 3
   },
   "file_extension": ".py",
   "mimetype": "text/x-python",
   "name": "python",
   "nbconvert_exporter": "python",
   "pygments_lexer": "ipython3",
   "version": "3.8.5"
  }
 },
 "nbformat": 4,
 "nbformat_minor": 4
}
