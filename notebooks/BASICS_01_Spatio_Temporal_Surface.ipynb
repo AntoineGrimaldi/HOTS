{
 "cells": [
  {
   "cell_type": "markdown",
   "metadata": {
    "jupyter": {
     "outputs_hidden": false
    }
   },
   "source": [
    "# BASICS 01 - Spatiotemporal Surfaces"
   ]
  },
  {
   "cell_type": "code",
   "execution_count": null,
   "metadata": {},
   "outputs": [],
   "source": [
    "%load_ext autoreload\n",
    "%autoreload 2\n",
    "%cd '../HOTS'\n",
    "%matplotlib inline"
   ]
  },
  {
   "cell_type": "code",
   "execution_count": null,
   "metadata": {
    "collapsed": false,
    "jupyter": {
     "outputs_hidden": false
    }
   },
   "outputs": [],
   "source": [
    "import numpy as np\n",
    "from timesurface import timesurface\n",
    "import tonic, torch\n",
    "import matplotlib.pyplot as plt"
   ]
  },
  {
   "cell_type": "markdown",
   "metadata": {},
   "source": [
    "# Make a time surface from an event stream"
   ]
  },
  {
   "cell_type": "code",
   "execution_count": null,
   "metadata": {},
   "outputs": [],
   "source": [
    "transform = tonic.transforms.NumpyAsType(int)\n",
    "learningset = tonic.datasets.NMNIST(save_to='../../Data/', train=True,transform=transform)\n",
    "loader = torch.utils.data.DataLoader(learningset, shuffle=True)"
   ]
  },
  {
   "cell_type": "code",
   "execution_count": null,
   "metadata": {},
   "outputs": [],
   "source": [
    "events, target = next(iter(loader))"
   ]
  },
  {
   "cell_type": "code",
   "execution_count": null,
   "metadata": {},
   "outputs": [],
   "source": [
    "stop_indice = 2e3\n",
    "\n",
    "x_index = learningset.ordering.index('x')\n",
    "y_index = learningset.ordering.index('y')\n",
    "t_index = learningset.ordering.index('t')\n",
    "p_index = learningset.ordering.index('p')\n",
    "\n",
    "target_event = stop_indice\n",
    "R, tau, camsize, nbpol, sigma, decay = 5, 1e4, [34,34], 2, None, 'exponential'\n",
    "SpTe = timesurface(R, tau, camsize, nbpol, sigma, decay)\n",
    "iev = 0\n",
    "\n",
    "events = events.squeeze()\n",
    "while iev<target_event+1:\n",
    "    P = np.zeros([nbpol])\n",
    "    x, y, t, p = int(events[iev][x_index].item()), int(events[iev][y_index].item()), int(events[iev][t_index].item()), int(events[iev][p_index].item())\n",
    "    TS = SpTe.addevent(x, y, t, p)\n",
    "    iev+=1\n",
    "    \n",
    "SpTe.plote()\n",
    "\n",
    "SpTe.plot3D()"
   ]
  },
  {
   "cell_type": "markdown",
   "metadata": {},
   "source": [
    "# Make a time surface with tonic"
   ]
  },
  {
   "cell_type": "code",
   "execution_count": null,
   "metadata": {},
   "outputs": [],
   "source": [
    "tau = 2e3\n",
    "\n",
    "transform = tonic.transforms.Compose([tonic.transforms.ToTimesurface(sensor_size=tonic.datasets.POKERDVS.sensor_size, tau=tau, decay='exp')])\n",
    "learningset = tonic.datasets.NMNIST(save_to='../../Data/',train=True,transform=transform)\n",
    "loader = torch.utils.data.DataLoader(learningset, shuffle=True)"
   ]
  },
  {
   "cell_type": "code",
   "execution_count": null,
   "metadata": {},
   "outputs": [],
   "source": [
    "time_surface, target = next(iter(loader))"
   ]
  },
  {
   "cell_type": "code",
   "execution_count": null,
   "metadata": {},
   "outputs": [],
   "source": [
    "target_event = int(min(time_surface.shape[1]-1, stop_indice))\n",
    "\n",
    "fig, axes = plt.subplots(1, time_surface.shape[2])\n",
    "i = 0\n",
    "for axis in axes:\n",
    "    axis.imshow(time_surface.squeeze()[target_event,i,:,:])\n",
    "    axis.axis(\"off\")\n",
    "    i+=1"
   ]
  },
  {
   "cell_type": "code",
   "execution_count": null,
   "metadata": {},
   "outputs": [],
   "source": []
  }
 ],
 "metadata": {
  "kernelspec": {
   "display_name": "Python 3 (ipykernel)",
   "language": "python",
   "name": "python3"
  },
  "language_info": {
   "codemirror_mode": {
    "name": "ipython",
    "version": 3
   },
   "file_extension": ".py",
   "mimetype": "text/x-python",
   "name": "python",
   "nbconvert_exporter": "python",
   "pygments_lexer": "ipython3",
   "version": "3.8.10"
  }
 },
 "nbformat": 4,
 "nbformat_minor": 4
}
