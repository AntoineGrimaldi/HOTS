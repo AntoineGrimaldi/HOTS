{
 "cells": [
  {
   "cell_type": "code",
   "execution_count": 2,
   "metadata": {},
   "outputs": [
    {
     "name": "stdout",
     "output_type": "stream",
     "text": [
      "/Users/laurentperrinet/quantic/science/HomeHots/HOTS_clone_laurent\n"
     ]
    }
   ],
   "source": [
    "%run 2020-11-06_NEW_HOTS_05_LogisticRegression.ipynb"
   ]
  },
  {
   "cell_type": "markdown",
   "metadata": {},
   "source": [
    "### Performing logistic regression with cross-validation\n",
    "\n",
    "https://scikit-learn.org/stable/modules/generated/sklearn.linear_model.LogisticRegressionCV.html\n"
   ]
  },
  {
   "cell_type": "code",
   "execution_count": 3,
   "metadata": {},
   "outputs": [
    {
     "name": "stdout",
     "output_type": "stream",
     "text": [
      "Number of events: 105029 - Number of features: 2312\n"
     ]
    },
    {
     "ename": "NameError",
     "evalue": "name 'homeo' is not defined",
     "output_type": "error",
     "traceback": [
      "\u001b[0;31m---------------------------------------------------------------------------\u001b[0m",
      "\u001b[0;31mNameError\u001b[0m                                 Traceback (most recent call last)",
      "\u001b[0;32m<ipython-input-3-7dfc7f6a2cbf>\u001b[0m in \u001b[0;36m<module>\u001b[0;34m\u001b[0m\n\u001b[1;32m      4\u001b[0m \u001b[0mX_train\u001b[0m\u001b[0;34m,\u001b[0m \u001b[0mX_test\u001b[0m\u001b[0;34m,\u001b[0m \u001b[0my_train\u001b[0m\u001b[0;34m,\u001b[0m \u001b[0my_test\u001b[0m \u001b[0;34m=\u001b[0m \u001b[0mtrain_test_split\u001b[0m\u001b[0;34m(\u001b[0m\u001b[0mX\u001b[0m\u001b[0;34m,\u001b[0m \u001b[0my\u001b[0m\u001b[0;34m,\u001b[0m \u001b[0mtest_size\u001b[0m\u001b[0;34m=\u001b[0m\u001b[0;36m0.33\u001b[0m\u001b[0;34m,\u001b[0m \u001b[0mrandom_state\u001b[0m\u001b[0;34m=\u001b[0m\u001b[0;36m42\u001b[0m\u001b[0;34m)\u001b[0m\u001b[0;34m\u001b[0m\u001b[0;34m\u001b[0m\u001b[0m\n\u001b[1;32m      5\u001b[0m \u001b[0mlr\u001b[0m \u001b[0;34m=\u001b[0m \u001b[0mLR\u001b[0m\u001b[0;34m(\u001b[0m\u001b[0;34m**\u001b[0m\u001b[0mopts_LR\u001b[0m\u001b[0;34m)\u001b[0m\u001b[0;34m.\u001b[0m\u001b[0mfit\u001b[0m\u001b[0;34m(\u001b[0m\u001b[0mX_train\u001b[0m\u001b[0;34m,\u001b[0m \u001b[0my_train\u001b[0m\u001b[0;34m)\u001b[0m\u001b[0;34m\u001b[0m\u001b[0;34m\u001b[0m\u001b[0m\n\u001b[0;32m----> 6\u001b[0;31m \u001b[0mprint\u001b[0m\u001b[0;34m(\u001b[0m\u001b[0;34mf'Classification score for {homeo=} is {lr.score(X_train, y_train):.3f}'\u001b[0m\u001b[0;34m)\u001b[0m\u001b[0;34m\u001b[0m\u001b[0;34m\u001b[0m\u001b[0m\n\u001b[0m\u001b[1;32m      7\u001b[0m \u001b[0mprint\u001b[0m\u001b[0;34m(\u001b[0m\u001b[0;34mf'Classification score for {homeo=} is {lr.score(X_test, y_test):.3f}'\u001b[0m\u001b[0;34m)\u001b[0m\u001b[0;34m\u001b[0m\u001b[0;34m\u001b[0m\u001b[0m\n\u001b[1;32m      8\u001b[0m \u001b[0mX_test\u001b[0m\u001b[0;34m,\u001b[0m \u001b[0my_test\u001b[0m \u001b[0;34m=\u001b[0m \u001b[0mgather_data\u001b[0m\u001b[0;34m(\u001b[0m\u001b[0mevents_test_o\u001b[0m\u001b[0;34m,\u001b[0m \u001b[0mlabels_test\u001b[0m\u001b[0;34m)\u001b[0m\u001b[0;34m\u001b[0m\u001b[0;34m\u001b[0m\u001b[0m\n",
      "\u001b[0;31mNameError\u001b[0m: name 'homeo' is not defined"
     ]
    }
   ],
   "source": [
    "# events_train, event_test, event_cl, labels_train, labels_test = dataset\n",
    "\n",
    "X, y = gather_data(events_train, labels_train)\n",
    "X_train, X_test, y_train, y_test = train_test_split(X, y, test_size=0.33, random_state=42)\n",
    "lr = LR(**opts_LR).fit(X_train, y_train)\n",
    "print(f'Classification score for {homeo=} is {lr.score(X_train, y_train):.3f}')\n",
    "print(f'Classification score for {homeo=} is {lr.score(X_test, y_test):.3f}')\n",
    "X_test, y_test = gather_data(events_test_o, labels_test)\n",
    "print(f'Classification score for {homeo=} is {lr.score(X_test, y_test):.3f}')\n",
    "\n"
   ]
  },
  {
   "cell_type": "code",
   "execution_count": 2,
   "metadata": {
    "execution": {
     "iopub.execute_input": "2020-11-09T11:33:13.922611Z",
     "iopub.status.busy": "2020-11-09T11:33:13.922030Z",
     "iopub.status.idle": "2020-11-09T11:51:32.393957Z",
     "shell.execute_reply": "2020-11-09T11:51:32.397077Z"
    }
   },
   "outputs": [
    {
     "name": "stdout",
     "output_type": "stream",
     "text": [
      "Number of events: 20535 - Number of features: 18496\n",
      "Classification score for homeo=False is 1.000\n",
      "Classification score for homeo=False is 0.976\n",
      "Number of events: 10114 - Number of features: 18496\n",
      "Classification score for homeo=False is 0.109\n",
      "Number of events: 20023 - Number of features: 18496\n",
      "Classification score for homeo=True is 1.000\n",
      "Classification score for homeo=True is 0.978\n",
      "Number of events: 10113 - Number of features: 18496\n",
      "Classification score for homeo=True is 0.089\n"
     ]
    }
   ],
   "source": [
    "for homeo in [False, True]:\n",
    "    if homeo:\n",
    "        fname_event0_o = 'Records/EXP_03_NMNIST/'+timestr+'_hots_event0_o_homeo.p'\n",
    "    else:\n",
    "        fname_event0_o = 'Records/EXP_03_NMNIST/'+timestr+'_hots_event0_o.p'\n",
    "        \n",
    "    events_train_o, events_test_o = LoadObject(fname_event0_o)\n",
    "\n",
    "    X, y = gather_data(events_train_o, labels_train)\n",
    "    X_train, X_test, y_train, y_test = train_test_split(X, y, test_size=0.33, random_state=42)\n",
    "    lr = LR(**opts_LR).fit(X_train, y_train)\n",
    "    print(f'Classification score for {homeo=} is {lr.score(X_train, y_train):.3f}')\n",
    "    print(f'Classification score for {homeo=} is {lr.score(X_test, y_test):.3f}')\n",
    "    X_test, y_test = gather_data(events_test_o, labels_test)\n",
    "    print(f'Classification score for {homeo=} is {lr.score(X_test, y_test):.3f}')\n",
    "\n"
   ]
  }
 ],
 "metadata": {
  "kernelspec": {
   "display_name": "Python 3",
   "language": "python",
   "name": "python3"
  },
  "language_info": {
   "codemirror_mode": {
    "name": "ipython",
    "version": 3
   },
   "file_extension": ".py",
   "mimetype": "text/x-python",
   "name": "python",
   "nbconvert_exporter": "python",
   "pygments_lexer": "ipython3",
   "version": "3.9.0"
  }
 },
 "nbformat": 4,
 "nbformat_minor": 4
}
