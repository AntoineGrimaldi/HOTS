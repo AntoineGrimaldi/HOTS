{
 "cells": [
  {
   "cell_type": "code",
   "execution_count": 1,
   "metadata": {
    "execution": {
     "iopub.execute_input": "2020-11-17T15:20:09.999661Z",
     "iopub.status.busy": "2020-11-17T15:20:09.999148Z",
     "iopub.status.idle": "2020-11-17T15:20:11.953380Z",
     "shell.execute_reply": "2020-11-17T15:20:11.953884Z"
    }
   },
   "outputs": [
    {
     "name": "stdout",
     "output_type": "stream",
     "text": [
      "/Users/laurentperrinet/quantic/science/HomeHots/HOTS_clone_laurent\n"
     ]
    }
   ],
   "source": [
    "%run 2020-11-06_NEW_HOTS_05_LogisticRegression.ipynb"
   ]
  },
  {
   "cell_type": "markdown",
   "metadata": {},
   "source": [
    "### Performing logistic regression with or without homeostasis\n",
    "\n",
    "https://scikit-learn.org/stable/modules/generated/sklearn.linear_model.LogisticRegressionCV.html\n"
   ]
  },
  {
   "cell_type": "code",
   "execution_count": 2,
   "metadata": {
    "execution": {
     "iopub.execute_input": "2020-11-17T15:20:11.959107Z",
     "iopub.status.busy": "2020-11-17T15:20:11.958437Z",
     "iopub.status.idle": "2020-11-17T16:19:38.128812Z",
     "shell.execute_reply": "2020-11-17T16:19:38.129279Z"
    }
   },
   "outputs": [
    {
     "name": "stdout",
     "output_type": "stream",
     "text": [
      "----------------------------------------\n",
      "homeo=False\n",
      "----------------------------------------\n",
      "Classification score for homeo=False is 1.000\n",
      "Classification score for homeo=False is 0.982\n",
      "Classification score for homeo=False is 0.102\n",
      "----------------------------------------\n",
      "homeo=True\n",
      "----------------------------------------\n",
      "Classification score for homeo=True is 1.000\n",
      "Classification score for homeo=True is 0.984\n",
      "Classification score for homeo=True is 0.080\n"
     ]
    }
   ],
   "source": [
    "for homeo in [False, True]:\n",
    "    print(40*'-')\n",
    "    print(f'{homeo=}')\n",
    "    print(40*'-')\n",
    "    events_train_o, events_test_o = get_events(timestr, tau=tau, homeo=homeo)\n",
    "\n",
    "    X, y = gather_data(events_train_o, labels_train)\n",
    "    X_train, X_test, y_train, y_test = train_test_split(X, y, test_size=0.33, random_state=42)\n",
    "    lr = LR(**opts_LR).fit(X_train, y_train)\n",
    "    print(f'Classification score for {homeo=} is {lr.score(X_train, y_train):.3f}')\n",
    "    print(f'Classification score for {homeo=} is {lr.score(X_test, y_test):.3f}')\n",
    "    X_test, y_test = gather_data(events_test_o, labels_test)\n",
    "    print(f'Classification score for {homeo=} is {lr.score(X_test, y_test):.3f}')"
   ]
  },
  {
   "cell_type": "markdown",
   "metadata": {},
   "source": [
    "### Performing logistic regression on raw input"
   ]
  },
  {
   "cell_type": "code",
   "execution_count": 3,
   "metadata": {
    "execution": {
     "iopub.execute_input": "2020-11-17T16:19:38.133355Z",
     "iopub.status.busy": "2020-11-17T16:19:38.132842Z",
     "iopub.status.idle": "2020-11-17T16:32:56.100622Z",
     "shell.execute_reply": "2020-11-17T16:32:56.101093Z"
    }
   },
   "outputs": [
    {
     "name": "stdout",
     "output_type": "stream",
     "text": [
      "Classification score for raw input is 1.000\n",
      "Classification score for raw input is 1.000\n"
     ]
    }
   ],
   "source": [
    "X, y = gather_data(events_train, labels_train)\n",
    "X_train, X_test, y_train, y_test = train_test_split(X, y, test_size=0.33, random_state=42)\n",
    "lr = LR(**opts_LR).fit(X_train, y_train)\n",
    "print(f'Classification score for raw input is {lr.score(X_train, y_train):.3f}')\n",
    "print(f'Classification score for raw input is {lr.score(X_test, y_test):.3f}')"
   ]
  },
  {
   "cell_type": "code",
   "execution_count": 4,
   "metadata": {
    "execution": {
     "iopub.execute_input": "2020-11-17T16:32:56.104868Z",
     "iopub.status.busy": "2020-11-17T16:32:56.104336Z",
     "iopub.status.idle": "2020-11-17T16:55:15.029377Z",
     "shell.execute_reply": "2020-11-17T16:55:15.029829Z"
    }
   },
   "outputs": [
    {
     "name": "stdout",
     "output_type": "stream",
     "text": [
      "Classification score for raw input is 1.000\n",
      "Classification score for raw input is 0.000\n"
     ]
    }
   ],
   "source": [
    "# events_train, event_test, event_cl, labels_train, labels_test = dataset\n",
    "\n",
    "X_train, y_train = gather_data(events_train, labels_train)\n",
    "lr = LR(**opts_LR).fit(X_train, y_train)\n",
    "print(f'Classification score for raw input is {lr.score(X_train, y_train):.3f}')\n",
    "X_test, y_test = gather_data(events_test, labels_test)\n",
    "print(f'Classification score for raw input is {lr.score(X_test, y_test):.3f}')"
   ]
  },
  {
   "cell_type": "code",
   "execution_count": 5,
   "metadata": {
    "execution": {
     "iopub.execute_input": "2020-11-17T16:55:15.035031Z",
     "iopub.status.busy": "2020-11-17T16:55:15.034530Z",
     "iopub.status.idle": "2020-11-18T21:39:45.262844Z",
     "shell.execute_reply": "2020-11-18T21:39:45.263316Z"
    }
   },
   "outputs": [
    {
     "name": "stdout",
     "output_type": "stream",
     "text": [
      "----------------------------------------\n",
      "homeo=False\n",
      "----------------------------------------\n",
      "Classification score for homeo=False is 1.000\n",
      "Classification score for homeo=False is 0.982\n",
      "Classification score for homeo=False is 0.102\n",
      "Classification score for homeo=False is 1.000\n",
      "Classification score for homeo=False is 0.982\n",
      "Classification score for homeo=False is 0.102\n"
     ]
    },
    {
     "name": "stderr",
     "output_type": "stream",
     "text": [
      "/usr/local/lib/python3.9/site-packages/sklearn/linear_model/_logistic.py:1353: UserWarning: 'n_jobs' > 1 does not have any effect when 'solver' is set to 'liblinear'. Got 'n_jobs' = 32.\n",
      "  warnings.warn(\"'n_jobs' > 1 does not have any effect when\"\n"
     ]
    },
    {
     "name": "stdout",
     "output_type": "stream",
     "text": [
      "Classification score for homeo=False is 1.000\n",
      "Classification score for homeo=False is 0.970\n",
      "Classification score for homeo=False is 0.104\n",
      "Classification score for homeo=False is 1.000\n",
      "Classification score for homeo=False is 0.982\n",
      "Classification score for homeo=False is 0.103\n",
      "Classification score for homeo=False is 1.000\n",
      "Classification score for homeo=False is 0.961\n",
      "Classification score for homeo=False is 0.104\n",
      "----------------------------------------\n",
      "homeo=True\n",
      "----------------------------------------\n",
      "Classification score for homeo=True is 1.000\n",
      "Classification score for homeo=True is 0.984\n",
      "Classification score for homeo=True is 0.080\n",
      "Classification score for homeo=True is 1.000\n",
      "Classification score for homeo=True is 0.984\n",
      "Classification score for homeo=True is 0.080\n"
     ]
    },
    {
     "name": "stderr",
     "output_type": "stream",
     "text": [
      "/usr/local/lib/python3.9/site-packages/sklearn/linear_model/_logistic.py:1353: UserWarning: 'n_jobs' > 1 does not have any effect when 'solver' is set to 'liblinear'. Got 'n_jobs' = 32.\n",
      "  warnings.warn(\"'n_jobs' > 1 does not have any effect when\"\n"
     ]
    },
    {
     "name": "stdout",
     "output_type": "stream",
     "text": [
      "Classification score for homeo=True is 1.000\n",
      "Classification score for homeo=True is 0.970\n",
      "Classification score for homeo=True is 0.092\n",
      "Classification score for homeo=True is 1.000\n",
      "Classification score for homeo=True is 0.984\n",
      "Classification score for homeo=True is 0.080\n",
      "Classification score for homeo=True is 1.000\n",
      "Classification score for homeo=True is 0.961\n",
      "Classification score for homeo=True is 0.087\n"
     ]
    }
   ],
   "source": [
    "for homeo in [False, True]:\n",
    "    print(40*'-')\n",
    "    print(f'{homeo=}')\n",
    "    print(40*'-')\n",
    "    for solver, penalty in zip(['newton-cg', 'lbfgs', 'liblinear', 'sag', 'saga'], ['l2', 'l2', 'l1', 'l2', 'l1']):\n",
    "        events_train_o, events_test_o = get_events(timestr, tau=tau, homeo=homeo)\n",
    "\n",
    "        X, y = gather_data(events_train_o, labels_train)\n",
    "        X_train, X_test, y_train, y_test = train_test_split(X, y, test_size=0.33, random_state=42)\n",
    "        lr = LR(solver=solver, penalty=penalty, **opts_LR).fit(X_train, y_train)\n",
    "        print(f'Classification score for {homeo=} is {lr.score(X_train, y_train):.3f}')\n",
    "        print(f'Classification score for {homeo=} is {lr.score(X_test, y_test):.3f}')\n",
    "        X_test, y_test = gather_data(events_test_o, labels_test)\n",
    "        print(f'Classification score for {homeo=} is {lr.score(X_test, y_test):.3f}')"
   ]
  }
 ],
 "metadata": {
  "kernelspec": {
   "display_name": "Python 3",
   "language": "python",
   "name": "python3"
  },
  "language_info": {
   "codemirror_mode": {
    "name": "ipython",
    "version": 3
   },
   "file_extension": ".py",
   "mimetype": "text/x-python",
   "name": "python",
   "nbconvert_exporter": "python",
   "pygments_lexer": "ipython3",
   "version": "3.9.0"
  }
 },
 "nbformat": 4,
 "nbformat_minor": 4
}
