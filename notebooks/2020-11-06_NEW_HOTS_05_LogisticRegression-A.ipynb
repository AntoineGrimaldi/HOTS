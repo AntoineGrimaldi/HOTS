{
 "cells": [
  {
   "cell_type": "code",
   "execution_count": 1,
   "metadata": {},
   "outputs": [
    {
     "name": "stdout",
     "output_type": "stream",
     "text": [
      "/Users/laurentperrinet/quantic/science/HomeHots/HOTS_clone_laurent\n"
     ]
    }
   ],
   "source": [
    "%run 2020-11-06_NEW_HOTS_05_LogisticRegression.ipynb"
   ]
  },
  {
   "cell_type": "markdown",
   "metadata": {},
   "source": [
    "### Performing logistic regression with cross-validation\n",
    "\n",
    "https://scikit-learn.org/stable/modules/generated/sklearn.linear_model.LogisticRegressionCV.html\n"
   ]
  },
  {
   "cell_type": "code",
   "execution_count": null,
   "metadata": {},
   "outputs": [
    {
     "name": "stdout",
     "output_type": "stream",
     "text": [
      "Number of events: 105029 - Number of features: 2312\n"
     ]
    },
    {
     "name": "stderr",
     "output_type": "stream",
     "text": [
      "/usr/local/lib/python3.9/site-packages/sklearn/model_selection/_split.py:670: UserWarning: The least populated class in y has only 1 members, which is less than n_splits=5.\n",
      "  warnings.warn((\"The least populated class in y has only %d\"\n"
     ]
    }
   ],
   "source": [
    "# events_train, event_test, event_cl, labels_train, labels_test = dataset\n",
    "\n",
    "X, y = gather_data(events_train, labels_train)\n",
    "X_train, X_test, y_train, y_test = train_test_split(X, y, test_size=0.33, random_state=42)\n",
    "X_train, X_test = gather_data(events_train, labels_train)\n",
    "lr = LR(**opts_LR).fit(X_train, y_train)\n",
    "#print(f'Classification score for raw input is {lr.score(X_train, y_train):.3f}')\n",
    "#print(f'Classification score for raw input is {lr.score(X_test, y_test):.3f}')\n",
    "X_test, y_test = gather_data(events_test, labels_test)\n",
    "print(f'Classification score for raw input is {lr.score(X_test, y_test):.3f}')\n",
    "\n"
   ]
  },
  {
   "cell_type": "code",
   "execution_count": null,
   "metadata": {},
   "outputs": [],
   "source": [
    "for homeo in [False, True]:\n",
    "    #if homeo:\n",
    "    #    fname_event0_o = 'Records/EXP_03_NMNIST/'+timestr+'_hots_event0_o_homeo.p'\n",
    "    #else:\n",
    "    #    fname_event0_o = 'Records/EXP_03_NMNIST/'+timestr+'_hots_event0_o.p'\n",
    "        \n",
    "    #events_train_o, events_test_o = LoadObject(fname_event0_o)\n",
    "    events_train_o, events_test_o = get_events(timestr, tau=tau, hom=homeo)\n",
    "\n",
    "    X, y = gather_data(events_train_o, labels_train)\n",
    "    X_train, X_test, y_train, y_test = train_test_split(X, y, test_size=0.33, random_state=42)\n",
    "    lr = LR(**opts_LR).fit(X_train, y_train)\n",
    "    print(f'Classification score for {homeo=} is {lr.score(X_train, y_train):.3f}')\n",
    "    print(f'Classification score for {homeo=} is {lr.score(X_test, y_test):.3f}')\n",
    "    X_test, y_test = gather_data(events_test_o, labels_test)\n",
    "    print(f'Classification score for {homeo=} is {lr.score(X_test, y_test):.3f}')\n",
    "\n"
   ]
  },
  {
   "cell_type": "code",
   "execution_count": null,
   "metadata": {},
   "outputs": [],
   "source": [
    "for solver in ['newton-cg', 'lbfgs', 'liblinear', 'sag', 'saga']:\n",
    "    events_train_o, events_test_o = get_events(timestr, tau=tau, hom=homeo)\n",
    "\n",
    "    X, y = gather_data(events_train_o, labels_train)\n",
    "    X_train, X_test, y_train, y_test = train_test_split(X, y, test_size=0.33, random_state=42)\n",
    "    lr = LR(solver=solver, **opts_LR).fit(X_train, y_train)\n",
    "    print(f'Classification score for {homeo=} is {lr.score(X_train, y_train):.3f}')\n",
    "    print(f'Classification score for {homeo=} is {lr.score(X_test, y_test):.3f}')\n",
    "    X_test, y_test = gather_data(events_test_o, labels_test)\n",
    "    print(f'Classification score for {homeo=} is {lr.score(X_test, y_test):.3f}')\n"
   ]
  }
 ],
 "metadata": {
  "kernelspec": {
   "display_name": "Python 3",
   "language": "python",
   "name": "python3"
  },
  "language_info": {
   "codemirror_mode": {
    "name": "ipython",
    "version": 3
   },
   "file_extension": ".py",
   "mimetype": "text/x-python",
   "name": "python",
   "nbconvert_exporter": "python",
   "pygments_lexer": "ipython3",
   "version": "3.9.0"
  }
 },
 "nbformat": 4,
 "nbformat_minor": 4
}
