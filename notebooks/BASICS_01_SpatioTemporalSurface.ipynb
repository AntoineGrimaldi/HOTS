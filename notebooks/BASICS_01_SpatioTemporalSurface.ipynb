{
 "cells": [
  {
   "cell_type": "code",
   "execution_count": 1,
   "metadata": {
    "collapsed": false,
    "jupyter": {
     "outputs_hidden": false
    }
   },
   "outputs": [
    {
     "name": "stdout",
     "output_type": "stream",
     "text": [
      "/Users/laurentperrinet/quantic/science/HomeHots/HOTS_clone_laurent\n"
     ]
    }
   ],
   "source": [
    "%load_ext autoreload\n",
    "%autoreload 2\n",
    "%cd '../'"
   ]
  },
  {
   "cell_type": "code",
   "execution_count": 2,
   "metadata": {
    "collapsed": false,
    "jupyter": {
     "outputs_hidden": false
    }
   },
   "outputs": [],
   "source": [
    "import numpy as np\n",
    "import matplotlib.pyplot as plt\n",
    "import cv2\n",
    "import time\n",
    "\n",
    "from HOTS.STS import STS\n",
    "from HOTS.Event import Event\n",
    "from HOTS.ToolsMonitor import DisplaySurface3D, DisplaySurface2D, DisplayImage\n",
    "from HOTS.Layer import FilterNHBD\n",
    "\n",
    "%matplotlib inline"
   ]
  },
  {
   "cell_type": "markdown",
   "metadata": {},
   "source": [
    "# 1. Loading the events"
   ]
  },
  {
   "cell_type": "code",
   "execution_count": 3,
   "metadata": {
    "collapsed": false,
    "jupyter": {
     "outputs_hidden": false
    }
   },
   "outputs": [
    {
     "data": {
      "image/png": "[encoded data removed]",
      "text/plain": [
       "<Figure size 864x108 with 2 Axes>"
      ]
     },
     "metadata": {
      "needs_background": "light"
     },
     "output_type": "display_data"
    }
   ],
   "source": [
    "event0 = Event(ImageSize=(32, 32), ListPolarities=[-1, 1])\n",
    "\n",
    "event0.LoadFromMat(\"Data/alphabet_ExtractedStabilized.mat\", image_number=15)\n",
    "\n",
    "InputFilter = FilterNHBD(threshold=15, neighbourhood=2)\n",
    "event1 = InputFilter.RunLayer(event0)\n",
    "\n",
    "DisplayImage([event0, event1])"
   ]
  },
  {
   "cell_type": "markdown",
   "metadata": {},
   "source": [
    "# 2. Creating the SpatioTemporal Surface"
   ]
  },
  {
   "cell_type": "code",
   "execution_count": 4,
   "metadata": {
    "collapsed": false,
    "jupyter": {
     "outputs_hidden": false
    }
   },
   "outputs": [
    {
     "name": "stdout",
     "output_type": "stream",
     "text": [
      "Generation of SpatioTemporal Surface in ------ 0.03 s\n"
     ]
    }
   ],
   "source": [
    "target_event = 1000\n",
    "SpTe = STS(tau=0.02, R=2, verbose=1, initial_time=0)\n",
    "Surface = SpTe.create(event=event0, stop=target_event)"
   ]
  },
  {
   "cell_type": "markdown",
   "metadata": {},
   "source": [
    "## 2.1. Plotting the time Matrix"
   ]
  },
  {
   "cell_type": "code",
   "execution_count": 5,
   "metadata": {},
   "outputs": [],
   "source": [
    "target_event = 1000"
   ]
  },
  {
   "cell_type": "code",
   "execution_count": 6,
   "metadata": {
    "collapsed": false,
    "jupyter": {
     "outputs_hidden": false
    }
   },
   "outputs": [
    {
     "name": "stdout",
     "output_type": "stream",
     "text": [
      "Generation of SpatioTemporal Surface in ------ 0.60 s\n"
     ]
    }
   ],
   "source": [
    "SpTe = STS(tau=0.02, R=2, verbose=1, initial_time=0)\n",
    "Surface = SpTe.create(event=event0, stop=None)"
   ]
  },
  {
   "cell_type": "code",
   "execution_count": 7,
   "metadata": {
    "collapsed": false,
    "jupyter": {
     "outputs_hidden": false
    }
   },
   "outputs": [],
   "source": [
    "w = SpTe.R + 1\n",
    "x, y = event0.address[target_event, 0], event0.address[target_event, 1]\n",
    "(x0, y0) = (x + SpTe.R - w, y + SpTe.R - w)\n",
    "(x1, y1) = (x + SpTe.R + w, y + SpTe.R + w)"
   ]
  },
  {
   "cell_type": "code",
   "execution_count": 8,
   "metadata": {
    "collapsed": false,
    "jupyter": {
     "outputs_hidden": false
    }
   },
   "outputs": [
    {
     "data": {
      "text/plain": [
       "''"
      ]
     },
     "execution_count": 8,
     "metadata": {},
     "output_type": "execute_result"
    },
    {
     "data": {
      "image/png": "[encoded data removed]",
      "text/plain": [
       "<Figure size 864x288 with 3 Axes>"
      ]
     },
     "metadata": {
      "needs_background": "light"
     },
     "output_type": "display_data"
    }
   ],
   "source": [
    "fig, axs = plt.subplots(1, 3, figsize=(3 * 4, 1 * 4))\n",
    "image = np.zeros((SpTe.width, SpTe.height))\n",
    "image[\n",
    "    event0.address[0 : target_event + 1, 0].T + SpTe.R,\n",
    "    event0.address[0 : target_event + 1, 1].T + SpTe.R,\n",
    "] = event0.polarity[0 : target_event + 1].T\n",
    "image1 = image.copy()\n",
    "cv2.rectangle(image1, (y0, x0), (y1, x1), color=np.amax(image) + 0.6)\n",
    "# axs[0].axis('off')\n",
    "axs[0].imshow(image1, cmap=plt.gray(), interpolation=\"nearest\")\n",
    "\n",
    "ImageTimeMat1 = SpTe.ListOfTimeMatrix[0, :, :]\n",
    "cv2.rectangle(ImageTimeMat1, (y0, x0), (y1, x1), color=np.amax(ImageTimeMat1) + 0.001)\n",
    "# axs[1].axis('off')\n",
    "axs[1].imshow(ImageTimeMat1, cmap=plt.viridis(), interpolation=\"nearest\")\n",
    "\n",
    "ImageTimeMat2 = SpTe.ListOfTimeMatrix[1, :, :]\n",
    "cv2.rectangle(ImageTimeMat2, (y0, x0), (y1, x1), color=np.amax(ImageTimeMat2) + 0.001)\n",
    "# axs[2].axis('off')\n",
    "axs[2].imshow(ImageTimeMat2, cmap=plt.plasma(), interpolation=\"nearest\")\n",
    ";"
   ]
  },
  {
   "cell_type": "markdown",
   "metadata": {},
   "source": [
    "## 2.2. Plotting the local time Matrix"
   ]
  },
  {
   "cell_type": "code",
   "execution_count": 9,
   "metadata": {
    "collapsed": false,
    "jupyter": {
     "outputs_hidden": false
    }
   },
   "outputs": [
    {
     "data": {
      "text/plain": [
       "''"
      ]
     },
     "execution_count": 9,
     "metadata": {},
     "output_type": "execute_result"
    },
    {
     "data": {
      "image/png": "[encoded data removed]",
      "text/plain": [
       "<Figure size 864x288 with 3 Axes>"
      ]
     },
     "metadata": {
      "needs_background": "light"
     },
     "output_type": "display_data"
    }
   ],
   "source": [
    "fig, axs = plt.subplots(1, 3, figsize=(3 * 4, 1 * 4))\n",
    "x_t, y_t = x + SpTe.R, y + SpTe.R\n",
    "\n",
    "image_local = image[\n",
    "    (x_t - SpTe.R) : (x_t + SpTe.R + 1), (y_t - SpTe.R) : (y_t + SpTe.R + 1)\n",
    "]\n",
    "axs[0].imshow(image_local, cmap=plt.gray(), interpolation=\"nearest\")\n",
    "axs[1].imshow(SpTe.LocalTimeDiff[0, :, :], cmap=plt.gray(), interpolation=\"nearest\")\n",
    "axs[2].imshow(SpTe.LocalTimeDiff[1, :, :], cmap=plt.gray(), interpolation=\"nearest\")\n",
    ";"
   ]
  },
  {
   "cell_type": "markdown",
   "metadata": {},
   "source": [
    "## 2.3. Plotting the Spatio Temporal Surfaces"
   ]
  },
  {
   "cell_type": "code",
   "execution_count": 10,
   "metadata": {
    "collapsed": false,
    "jupyter": {
     "outputs_hidden": false
    }
   },
   "outputs": [
    {
     "data": {
      "image/png": "[encoded data removed]",
      "text/plain": [
       "<Figure size 864x108 with 2 Axes>"
      ]
     },
     "metadata": {
      "needs_background": "light"
     },
     "output_type": "display_data"
    }
   ],
   "source": [
    "Surface_to_plot = Surface[-1, :][np.newaxis, :]\n",
    "DisplaySurface3D(Surface_to_plot, nb_polarities=2, angle=(40, 0))"
   ]
  },
  {
   "cell_type": "code",
   "execution_count": 11,
   "metadata": {
    "collapsed": false,
    "jupyter": {
     "outputs_hidden": false
    }
   },
   "outputs": [
    {
     "data": {
      "image/png": "[encoded data removed]",
      "text/plain": [
       "<Figure size 43.2x86.4 with 2 Axes>"
      ]
     },
     "metadata": {},
     "output_type": "display_data"
    }
   ],
   "source": [
    "DisplaySurface2D(Surface_to_plot, nb_polarities=2)"
   ]
  },
  {
   "cell_type": "markdown",
   "metadata": {},
   "source": [
    "# 3. Filtering the event"
   ]
  },
  {
   "cell_type": "code",
   "execution_count": 12,
   "metadata": {
    "collapsed": false,
    "jupyter": {
     "outputs_hidden": false
    }
   },
   "outputs": [
    {
     "name": "stdout",
     "output_type": "stream",
     "text": [
      "Generation of SpatioTemporal Surface in ------ 0.31 s\n"
     ]
    }
   ],
   "source": [
    "event0 = Event(ImageSize=(32, 32), ListPolarities=[-1, 1])\n",
    "\n",
    "event0.LoadFromMat(\"Data/alphabet_ExtractedStabilized.mat\", image_number=22)\n",
    "SpTe = STS(tau=0.02, R=2, verbose=1, initial_time=0)\n",
    "Surface = SpTe.create(event=event0)\n",
    "(event_filtered, filt) = SpTe.FilterRecent(event0, threshold=4)"
   ]
  },
  {
   "cell_type": "code",
   "execution_count": 13,
   "metadata": {
    "collapsed": false,
    "jupyter": {
     "outputs_hidden": false
    }
   },
   "outputs": [
    {
     "data": {
      "image/png": "[encoded data removed]",
      "text/plain": [
       "<Figure size 864x108 with 2 Axes>"
      ]
     },
     "metadata": {
      "needs_background": "light"
     },
     "output_type": "display_data"
    }
   ],
   "source": [
    "DisplayImage([event0, event_filtered])"
   ]
  },
  {
   "cell_type": "code",
   "execution_count": 14,
   "metadata": {},
   "outputs": [],
   "source": [
    "from HOTS.Layer import FilterNHBD"
   ]
  },
  {
   "cell_type": "code",
   "execution_count": 15,
   "metadata": {},
   "outputs": [
    {
     "data": {
      "image/png": "[encoded data removed]",
      "text/plain": [
       "<Figure size 864x108 with 2 Axes>"
      ]
     },
     "metadata": {
      "needs_background": "light"
     },
     "output_type": "display_data"
    }
   ],
   "source": [
    "InputFilter = FilterNHBD(threshold=15, neighbourhood=2)\n",
    "event_filtered = InputFilter.RunLayer(event0)\n",
    "DisplayImage([event0, event_filtered])"
   ]
  },
  {
   "cell_type": "code",
   "execution_count": 16,
   "metadata": {},
   "outputs": [
    {
     "data": {
      "image/png": "[encoded data removed]",
      "text/plain": [
       "<Figure size 864x108 with 2 Axes>"
      ]
     },
     "metadata": {
      "needs_background": "light"
     },
     "output_type": "display_data"
    }
   ],
   "source": [
    "InputFilter = FilterNHBD(threshold=0, neighbourhood=2)\n",
    "event_filtered = InputFilter.RunLayer(event0)\n",
    "DisplayImage([event0, event_filtered])"
   ]
  },
  {
   "cell_type": "code",
   "execution_count": 17,
   "metadata": {},
   "outputs": [
    {
     "data": {
      "image/png": "[encoded data removed]",
      "text/plain": [
       "<Figure size 864x108 with 2 Axes>"
      ]
     },
     "metadata": {
      "needs_background": "light"
     },
     "output_type": "display_data"
    }
   ],
   "source": [
    "InputFilter = FilterNHBD(threshold=15, neighbourhood=2)\n",
    "event_filtered = InputFilter.RunLayer(event0)\n",
    "DisplayImage([event0, event_filtered])"
   ]
  }
 ],
 "metadata": {
  "kernelspec": {
   "display_name": "Python 3",
   "language": "python",
   "name": "python3"
  },
  "language_info": {
   "codemirror_mode": {
    "name": "ipython",
    "version": 3
   },
   "file_extension": ".py",
   "mimetype": "text/x-python",
   "name": "python",
   "nbconvert_exporter": "python",
   "pygments_lexer": "ipython3",
   "version": "3.8.6"
  }
 },
 "nbformat": 4,
 "nbformat_minor": 4
}
