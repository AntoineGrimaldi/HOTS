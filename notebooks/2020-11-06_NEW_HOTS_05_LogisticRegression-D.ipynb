{
 "cells": [
  {
   "cell_type": "code",
   "execution_count": 1,
   "metadata": {
    "execution": {
     "iopub.execute_input": "2020-11-08T08:42:39.621256Z",
     "iopub.status.busy": "2020-11-08T08:42:39.620686Z",
     "iopub.status.idle": "2020-11-08T08:42:40.895217Z",
     "shell.execute_reply": "2020-11-08T08:42:40.895648Z"
    }
   },
   "outputs": [
    {
     "name": "stdout",
     "output_type": "stream",
     "text": [
      "/Users/laurentperrinet/quantic/science/HomeHots/HOTS_clone_laurent\n"
     ]
    }
   ],
   "source": [
    "%run 2020-11-06_NEW_HOTS_05_LogisticRegression.ipynb"
   ]
  },
  {
   "cell_type": "markdown",
   "metadata": {},
   "source": [
    "### Performing logistic regression with cross-validation\n",
    "\n",
    "https://scikit-learn.org/stable/modules/generated/sklearn.linear_model.LogisticRegressionCV.html\n"
   ]
  },
  {
   "cell_type": "code",
   "execution_count": 3,
   "metadata": {
    "execution": {
     "iopub.execute_input": "2020-11-08T08:42:41.454216Z",
     "iopub.status.busy": "2020-11-08T08:42:41.453668Z",
     "iopub.status.idle": "2020-11-08T09:57:30.730543Z",
     "shell.execute_reply": "2020-11-08T09:57:30.730940Z"
    }
   },
   "outputs": [
    {
     "name": "stdout",
     "output_type": "stream",
     "text": [
      "Number of events: 20535 - Number of features: 18496\n",
      "Classification score for homeo=False is 1.000\n",
      "Classification score for sample_events=1000 is 0.976\n",
      "Number of events: 20535 - Number of features: 18496\n",
      "Classification score for homeo=False is 1.000\n",
      "Classification score for sample_events=500 is 0.976\n",
      "Number of events: 20535 - Number of features: 18496\n",
      "Classification score for homeo=False is 1.000\n",
      "Classification score for sample_events=200 is 0.976\n",
      "Number of events: 20535 - Number of features: 18496\n",
      "Classification score for homeo=False is 1.000\n",
      "Classification score for sample_events=100 is 0.976\n",
      "Number of events: 20535 - Number of features: 18496\n",
      "Classification score for homeo=False is 1.000\n",
      "Classification score for sample_events=50 is 0.976\n",
      "Number of events: 20023 - Number of features: 18496\n",
      "Classification score for homeo=True is 1.000\n",
      "Classification score for sample_events=1000 is 0.978\n",
      "Number of events: 20023 - Number of features: 18496\n",
      "Classification score for homeo=True is 1.000\n",
      "Classification score for sample_events=500 is 0.978\n",
      "Number of events: 20023 - Number of features: 18496\n",
      "Classification score for homeo=True is 1.000\n",
      "Classification score for sample_events=200 is 0.978\n",
      "Number of events: 20023 - Number of features: 18496\n",
      "Classification score for homeo=True is 1.000\n",
      "Classification score for sample_events=100 is 0.978\n",
      "Number of events: 20023 - Number of features: 18496\n",
      "Classification score for homeo=True is 1.000\n",
      "Classification score for sample_events=50 is 0.978\n"
     ]
    }
   ],
   "source": [
    "for homeo in [False, True]:\n",
    "    if homeo:\n",
    "        fname_event0_o = 'Records/EXP_03_NMNIST/'+timestr+'_hots_event0_o_homeo.p'\n",
    "    else:\n",
    "        fname_event0_o = 'Records/EXP_03_NMNIST/'+timestr+'_hots_event0_o.p'\n",
    "        \n",
    "    events_train_o, events_test_o = LoadObject(fname_event0_o)\n",
    "\n",
    "    for sample_events in [1000, 500, 200, 100, 50]:\n",
    "        X, y = gather_data(events_train_o, labels_train, sample_events=sample_events)\n",
    "        X_train, X_test, y_train, y_test = train_test_split(X, y, test_size=0.33, random_state=42)\n",
    "        lr = LR(**opts_LR).fit(X_train, y_train)\n",
    "        print(f'Classification score for {homeo=} is {lr.score(X_train, y_train):.3f}')\n",
    "        print(f'Classification score for {sample_events=} is {lr.score(X_test, y_test):.3f}')\n",
    "        X_test, y_test = gather_data(events_test_o, labels_test, sample_events=sample_events)\n",
    "        print(f'Classification score for {sample_events=} is {lr.score(X_test, y_test):.3f}')"
   ]
  }
 ],
 "metadata": {
  "kernelspec": {
   "display_name": "Python 3",
   "language": "python",
   "name": "python3"
  },
  "language_info": {
   "codemirror_mode": {
    "name": "ipython",
    "version": 3
   },
   "file_extension": ".py",
   "mimetype": "text/x-python",
   "name": "python",
   "nbconvert_exporter": "python",
   "pygments_lexer": "ipython3",
   "version": "3.9.0"
  }
 },
 "nbformat": 4,
 "nbformat_minor": 4
}
