{
 "cells": [
  {
   "cell_type": "code",
   "execution_count": 1,
   "metadata": {
    "execution": {
     "iopub.execute_input": "2021-02-19T15:33:26.249441Z",
     "iopub.status.busy": "2021-02-19T15:33:26.248311Z",
     "iopub.status.idle": "2021-02-19T15:33:26.478917Z",
     "shell.execute_reply": "2021-02-19T15:33:26.479471Z"
    }
   },
   "outputs": [
    {
     "name": "stdout",
     "output_type": "stream",
     "text": [
      "/Users/laurentperrinet/quantic/science/HomeHots/HOTS_clone_laurent/HOTS\n"
     ]
    }
   ],
   "source": [
    "%load_ext autoreload\n",
    "%autoreload 2\n",
    "%matplotlib inline\n",
    "%cd '../HOTS'"
   ]
  },
  {
   "cell_type": "code",
   "execution_count": 2,
   "metadata": {
    "execution": {
     "iopub.execute_input": "2021-02-19T15:33:26.484787Z",
     "iopub.status.busy": "2021-02-19T15:33:26.484369Z",
     "iopub.status.idle": "2021-02-19T15:33:27.503978Z",
     "shell.execute_reply": "2021-02-19T15:33:27.503082Z"
    }
   },
   "outputs": [],
   "source": [
    "import os\n",
    "import pickle\n",
    "import datetime\n",
    "from mix_Network import *\n",
    "\n",
    "dataset = 'nmnist'\n",
    "path = f'../Records/{dataset}/models/'\n",
    "timestr = '2021-02-16'\n",
    "\n",
    "%mkdir -p ../Records\n",
    "#%mkdir -p ../Records/EXP_03_NMNIST\n",
    "\n",
    "sigma = None\n",
    "pooling = False\n",
    "homeinv = False\n",
    "jitonic = [None,None] #[temporal, spatial]\n",
    "jitter = False\n",
    "tau = 5\n",
    "nb_train = 5000\n",
    "nb_test = 1000\n",
    "nblay = 3\n",
    "nbclust = 4\n",
    "filt = 2\n",
    "\n",
    "ds = 50\n",
    "nb_train_b = nb_train//ds\n",
    "nb_test_b = nb_test//ds"
   ]
  },
  {
   "cell_type": "code",
   "execution_count": 3,
   "metadata": {
    "execution": {
     "iopub.execute_input": "2021-02-19T15:33:27.516252Z",
     "iopub.status.busy": "2021-02-19T15:33:27.515467Z",
     "iopub.status.idle": "2021-02-19T15:33:27.540369Z",
     "shell.execute_reply": "2021-02-19T15:33:27.541190Z"
    }
   },
   "outputs": [],
   "source": [
    "def netparam(name, filt, tau, nblay, nbclust, sigma, homeinv, jitter):\n",
    "    if name=='hots':\n",
    "        homeo = False\n",
    "        homeotest = False\n",
    "        krnlinit = 'first'\n",
    "        hotshom = network(krnlinit=krnlinit, filt=filt, tau=tau, nblay=nblay, nbclust=nbclust, homeo=homeo, sigma=sigma, homeinv=homeinv, jitter=jitter)\n",
    "        hotshom = hotshom.learning1by1()\n",
    "    elif name=='homhots':\n",
    "        homeo = True\n",
    "        homeotest = True\n",
    "        krnlinit = 'rdn'\n",
    "        hotshom = network(krnlinit=krnlinit, filt=filt, tau=tau, nblay=nblay, nbclust=nbclust, homeo=homeo, sigma=sigma, homeinv=homeinv, jitter=jitter)\n",
    "        hotshom = hotshom.learningall()\n",
    "    elif name=='onlyonline':\n",
    "        homeo = False\n",
    "        homeotest = False\n",
    "        krnlinit = 'rdn'\n",
    "        hotshom = network(krnlinit=krnlinit, filt=filt, tau=tau, nblay=nblay, nbclust=nbclust, homeo=homeo, sigma=sigma, homeinv=homeinv, jitter=jitter)\n",
    "        hotshom = hotshom.learningall()\n",
    "    return hotshom, homeotest"
   ]
  },
  {
   "cell_type": "code",
   "execution_count": 4,
   "metadata": {
    "execution": {
     "iopub.execute_input": "2021-02-19T15:33:27.547052Z",
     "iopub.status.busy": "2021-02-19T15:33:27.546007Z",
     "iopub.status.idle": "2021-02-19T16:16:49.584461Z",
     "shell.execute_reply": "2021-02-19T16:16:49.585332Z"
    }
   },
   "outputs": [
    {
     "name": "stdout",
     "output_type": "stream",
     "text": [
      "2021-02-16_lagorce_rdn_None_True_[0.25, 1]_[4, 8, 16]_[5000.0, 50000.0, 500000.0]_[2, 4, 8]_False\n",
      "../Records/nmnist/train/2021-02-16_lagorce_rdn_None_True_[0.25, 1]_[4, 8, 16]_[5000.0, 50000.0, 500000.0]_[2, 4, 8]_False_5000_[None, None]_homeo_histo.pkl\n",
      "../Records/nmnist/train/2021-02-16_lagorce_rdn_None_True_[0.25, 1]_[4, 8, 16]_[5000.0, 50000.0, 500000.0]_[2, 4, 8]_False_1000_[None, None]_homeo_histo.pkl\n",
      "no jitter\n",
      "Using downloaded and verified file: ../Data/nmnist_train.zip\n",
      "Extracting ../Data/nmnist_train.zip to ../Data/\n"
     ]
    },
    {
     "data": {
      "application/vnd.jupyter.widget-view+json": {
       "model_id": "12a640cfe29c43f7bfb7e72b8a431eea",
       "version_major": 2,
       "version_minor": 0
      },
      "text/plain": [
       "  0%|          | 0/1000 [00:00<?, ?it/s]"
      ]
     },
     "metadata": {},
     "output_type": "display_data"
    },
    {
     "ename": "NameError",
     "evalue": "name 'trainhistomap' is not defined",
     "output_type": "error",
     "traceback": [
      "\u001b[0;31m---------------------------------------------------------------------------\u001b[0m",
      "\u001b[0;31mNameError\u001b[0m                                 Traceback (most recent call last)",
      "\u001b[0;32m<ipython-input-1-25aac19208b7>\u001b[0m in \u001b[0;36m<module>\u001b[0;34m\u001b[0m\n\u001b[1;32m      3\u001b[0m \u001b[0mhisto_train\u001b[0m \u001b[0;34m=\u001b[0m \u001b[0mhotshom\u001b[0m\u001b[0;34m.\u001b[0m\u001b[0mrunning\u001b[0m\u001b[0;34m(\u001b[0m\u001b[0mhomeotest\u001b[0m \u001b[0;34m=\u001b[0m \u001b[0mhomeotest\u001b[0m\u001b[0;34m,\u001b[0m \u001b[0mnb_digit\u001b[0m \u001b[0;34m=\u001b[0m \u001b[0mnb_train\u001b[0m\u001b[0;34m,\u001b[0m \u001b[0mLR\u001b[0m\u001b[0;34m=\u001b[0m\u001b[0;32mFalse\u001b[0m\u001b[0;34m)\u001b[0m\u001b[0;34m\u001b[0m\u001b[0;34m\u001b[0m\u001b[0m\n\u001b[1;32m      4\u001b[0m \u001b[0mhisto_test\u001b[0m \u001b[0;34m=\u001b[0m \u001b[0mhotshom\u001b[0m\u001b[0;34m.\u001b[0m\u001b[0mrunning\u001b[0m\u001b[0;34m(\u001b[0m\u001b[0mhomeotest\u001b[0m \u001b[0;34m=\u001b[0m \u001b[0mhomeotest\u001b[0m\u001b[0;34m,\u001b[0m \u001b[0mnb_digit\u001b[0m \u001b[0;34m=\u001b[0m \u001b[0mnb_test\u001b[0m\u001b[0;34m,\u001b[0m \u001b[0mLR\u001b[0m\u001b[0;34m=\u001b[0m\u001b[0;32mFalse\u001b[0m\u001b[0;34m)\u001b[0m\u001b[0;34m\u001b[0m\u001b[0;34m\u001b[0m\u001b[0m\n\u001b[0;32m----> 5\u001b[0;31m \u001b[0mJS_score\u001b[0m \u001b[0;34m=\u001b[0m \u001b[0mhistoscore\u001b[0m\u001b[0;34m(\u001b[0m\u001b[0mtrainhistomap\u001b[0m\u001b[0;34m,\u001b[0m\u001b[0mtesthistomap\u001b[0m\u001b[0;34m,\u001b[0m \u001b[0mverbose\u001b[0m \u001b[0;34m=\u001b[0m \u001b[0;32mTrue\u001b[0m\u001b[0;34m)\u001b[0m\u001b[0;34m\u001b[0m\u001b[0;34m\u001b[0m\u001b[0m\n\u001b[0m",
      "\u001b[0;31mNameError\u001b[0m: name 'trainhistomap' is not defined"
     ]
    }
   ],
   "source": [
    "name = 'homhots'\n",
    "hotshom, homeotest = netparam(name, filt, tau, nblay, nbclust, sigma, homeinv, jitter)\n",
    "histo_train = hotshom.running(homeotest = homeotest, nb_digit = nb_train, LR=False)\n",
    "histo_test = hotshom.running(homeotest = homeotest, nb_digit = nb_test, LR=False)\n",
    "JS_score = histoscore(trainhistomap,testhistomap, verbose = True)"
   ]
  },
  {
   "cell_type": "raw",
   "metadata": {},
   "source": [
    "def get_nmnist(NbTrainingData, train):\n",
    "    def loadev(nbdigit, loader, learningset):\n",
    "        timout = []\n",
    "        xout = []\n",
    "        yout = []\n",
    "        polout = []\n",
    "        labout = []\n",
    "        for i in range(NbTrainingData):\n",
    "            events, target = next(iter(loader))\n",
    "            for iev in range(events.shape[1]):\n",
    "                    timout.append(events[0][iev][learningset.ordering.find(\"t\")].item())\n",
    "                    xout.append(events[0][iev][learningset.ordering.find(\"x\")].item())\n",
    "                    yout.append(events[0][iev][learningset.ordering.find(\"y\")].item())\n",
    "                    polout.append(events[0][iev][learningset.ordering.find(\"p\")].item())\n",
    "                    labout.append(target.item())\n",
    "\n",
    "        eventsout = [xout,yout,timout,polout,labout,learningset.sensor_size,2]\n",
    "        return eventsout\n",
    "    \n",
    "    learningset = tonic.datasets.NMNIST(save_to='../Data/',\n",
    "                                    train=train,\n",
    "                                    transform=None)\n",
    "    loader = tonic.datasets.DataLoader(learningset, shuffle=True)\n",
    "    \n",
    "    events_train = loadev(NbTrainingData, loader, learningset)\n",
    "    \n",
    "    return events_train\n"
   ]
  },
  {
   "cell_type": "raw",
   "metadata": {},
   "source": [
    "#### Building matrix for logistic regression\n",
    "def gather_data(events_in,\n",
    "                tau_cla=150, # characteristic time of a digit\n",
    "                sample_events=50, sample_space = 1,\n",
    "                verbose=False, debug=False):\n",
    "    tau_cla *= 1e3 # to enter tau in ms\n",
    "    n_events = len(events_in[0])\n",
    "\n",
    "    c_int = lambda n, d : ((n - 1) // d) + 1\n",
    "    \n",
    "    data = np.zeros((c_int(events_in[-2][0], sample_space),\n",
    "                     c_int(events_in[-2][1], sample_space),\n",
    "                     events_in[-1])) #tmp data\n",
    "\n",
    "    X = np.zeros((c_int(n_events, sample_events), len(data.ravel())))\n",
    "    y = np.zeros((c_int(n_events, sample_events), ))\n",
    "\n",
    "    for i_event in range(1, n_events):\n",
    "        if events_in[2][i_event]<events_in[2][i_event-1]:\n",
    "            data = np.zeros((c_int(events_in[-2][0], sample_space),\n",
    "                     c_int(events_in[-2][1], sample_space),\n",
    "                     events_in[-1])) #tmp data \n",
    "\n",
    "        data *= np.exp(-(events_in[2][i_event]-events_in[2][i_event-1])/tau_cla)\n",
    "        \n",
    "        x_pos = events_in[0][i_event]//sample_space\n",
    "        y_pos = events_in[1][i_event]//sample_space\n",
    "        p = events_in[3][i_event]\n",
    "        data[int(x_pos), int(y_pos), int(p)] = 1.\n",
    "\n",
    "        if i_event % sample_events == sample_events//2 :\n",
    "            if debug:\n",
    "                print(f'DEBUG {i_event} {i_event//sample_events} ')\n",
    "                print(f'DEBUG {y[i_event//sample_events]}   ')\n",
    "                print(f'DEBUG  {events_in[-3][i_event]} ')\n",
    "            X[i_event//sample_events, :] = data.ravel()\n",
    "            y[i_event//sample_events] = events_in[-3][i_event]\n",
    "            \n",
    "    if verbose: print('Number of events: ' + str(X.shape[0])+' - Number of features: ' + str(X.shape[1]))\n",
    "    \n",
    "#    y_out = np.zeros([y.shape[0],int(max(y)+1)])\n",
    "#    for i in range(y.shape[0]):\n",
    "#        y_out[i,int(y[i])]=1\n",
    "    \n",
    "    return X, y"
   ]
  },
  {
   "cell_type": "raw",
   "metadata": {},
   "source": [
    "# from sklearn.linear_model import LogisticRegression as LR\n",
    "from sklearn.linear_model import LogisticRegressionCV as LR\n",
    "# \n",
    "opts_LR = dict(max_iter=2000, # random_state=0,\n",
    "               n_jobs=-1, class_weight='balanced')\n",
    "#opts_LR['Cs'] = 5\n",
    "opts_LR['Cs'] = 32\n",
    "# TODO for a publication use 100 from 10^{-10} to 10\n",
    "\n",
    "from sklearn.model_selection import train_test_split\n",
    "\n",
    "def tic():\n",
    "    global ttic\n",
    "    ttic = time.time()\n",
    "def toc():\n",
    "    print(f'Done in {time.time() - ttic:.3f} s')\n"
   ]
  },
  {
   "cell_type": "markdown",
   "metadata": {},
   "source": [
    "# Performing logistic regression on raw input spikes"
   ]
  },
  {
   "cell_type": "raw",
   "metadata": {
    "execution": {
     "iopub.execute_input": "2021-02-17T11:03:25.812210Z",
     "iopub.status.busy": "2021-02-17T11:03:25.811233Z",
     "iopub.status.idle": "2021-02-17T11:19:18.664837Z",
     "shell.execute_reply": "2021-02-17T11:19:18.665412Z"
    }
   },
   "source": [
    "train = True\n",
    "\n",
    "ds = 2\n",
    "\n",
    "lr = LR(**opts_LR)\n",
    "tic()\n",
    "for batch in range(ds):\n",
    "    events_train = get_nmnist(nb_train_b, train)\n",
    "    X_train, y_train = gather_data(events_train, verbose=False)\n",
    "    lr.fit(X_train, y_train)\n",
    "    print(f'Classification score for raw input is {lr.score(X_train, y_train):.3f} (train)')\n",
    "toc()\n",
    "f_name = path+timesrt+f'_LR_raw_{nb_train}.pkl'\n",
    "with open(f_name, 'wb') as file:\n",
    "    pickle.dump(lr, file, pickle.HIGHEST_PROTOCOL)"
   ]
  },
  {
   "cell_type": "raw",
   "metadata": {
    "execution": {
     "iopub.execute_input": "2021-02-17T11:19:18.668989Z",
     "iopub.status.busy": "2021-02-17T11:19:18.667404Z",
     "iopub.status.idle": "2021-02-17T11:19:25.539305Z",
     "shell.execute_reply": "2021-02-17T11:19:25.540142Z"
    }
   },
   "source": [
    "train = False\n",
    "\n",
    "tic()\n",
    "for batch in range(ds):\n",
    "    events_test = get_nmnist(nb_test_b, train)\n",
    "    X_test, y_test = gather_data(events_test, verbose=False)\n",
    "    print(f'Classification score for raw input is {lr.score(X_test, y_test):.3f} (test)')\n",
    "toc()"
   ]
  },
  {
   "cell_type": "markdown",
   "metadata": {},
   "source": [
    "# Performing logistic regression on the network output\n",
    "## With homeostasis"
   ]
  },
  {
   "cell_type": "raw",
   "metadata": {},
   "source": [
    "name = 'homhots'\n",
    "hotshom, homeotest = netparam(name, filt, tau, nblay, nbclust, sigma, homeinv, jitter)\n",
    "print('model loaded')\n",
    "events_train = hotshom.running(homeotest = homeotest, nb_digit = nb_train, LR=True)"
   ]
  },
  {
   "cell_type": "raw",
   "metadata": {
    "execution": {
     "iopub.execute_input": "2021-02-18T02:44:55.725489Z",
     "iopub.status.busy": "2021-02-18T02:44:55.723941Z",
     "iopub.status.idle": "2021-02-19T00:51:06.671546Z",
     "shell.execute_reply": "2021-02-19T00:51:06.672356Z"
    }
   },
   "source": [
    "train = True\n",
    "tic()\n",
    "nb_evt = len(events_train[0])\n",
    "lr = LR(**opts_LR)\n",
    "for batch in range(ds):\n",
    "    events_train_b = []\n",
    "    for i in range(5):\n",
    "        events_train_b.append(events_train[i][batch*nb_evt//ds:(batch+1)*nb_evt//ds])\n",
    "    for i in range(5,len(events_train)):\n",
    "        events_train_b.append(events_train[i])\n",
    "    X_train, y_train = gather_data(events_train_b, verbose=True)\n",
    "    lr.fit(X_train, y_train)\n",
    "    print(f'Classification score for raw input is {lr.score(X_train, y_train):.3f} (train)')\n",
    "toc()\n",
    "f_name = path+hotshom.name+f'_LR_{nb_train}.pkl'\n",
    "with open(f_name, 'wb') as file:\n",
    "    pickle.dump(lr, file, pickle.HIGHEST_PROTOCOL)"
   ]
  },
  {
   "cell_type": "raw",
   "metadata": {},
   "source": [
    "train = False\n",
    "events_test = hotshom.running(homeotest = homeotest, nb_digit = nb_test, train=False, LR=True)\n",
    "\n",
    "tic()\n",
    "X_test, y_test = gather_data(events_test, verbose=True)\n",
    "print(f'Classification score for raw input is {model.score(X_test, y_test):.3f} (test)')\n",
    "toc()"
   ]
  },
  {
   "cell_type": "raw",
   "metadata": {},
   "source": [
    "f_name = path+hotshom.name+f'_LR_{nb_train}.pkl'\n",
    "with open(f_name, 'rb') as file:\n",
    "    model = pickle.load(file)"
   ]
  },
  {
   "cell_type": "raw",
   "metadata": {},
   "source": [
    "Y_pred = model.predict(X_test)"
   ]
  },
  {
   "cell_type": "raw",
   "metadata": {},
   "source": [
    "print(Y_pred.shape)"
   ]
  },
  {
   "cell_type": "raw",
   "metadata": {},
   "source": [
    "print(X_test.shape)"
   ]
  },
  {
   "cell_type": "raw",
   "metadata": {},
   "source": [
    "plt.scatter(range(len(y_test)),Y_pred==y_test)"
   ]
  },
  {
   "cell_type": "raw",
   "metadata": {},
   "source": [
    "print(np.unique(y_test))"
   ]
  },
  {
   "cell_type": "code",
   "execution_count": null,
   "metadata": {},
   "outputs": [],
   "source": []
  }
 ],
 "metadata": {
  "kernelspec": {
   "display_name": "Python 3",
   "language": "python",
   "name": "python3"
  },
  "language_info": {
   "codemirror_mode": {
    "name": "ipython",
    "version": 3
   },
   "file_extension": ".py",
   "mimetype": "text/x-python",
   "name": "python",
   "nbconvert_exporter": "python",
   "pygments_lexer": "ipython3",
   "version": "3.9.1"
  },
  "widgets": {
   "application/vnd.jupyter.widget-state+json": {
    "state": {
     "12a640cfe29c43f7bfb7e72b8a431eea": {
      "model_module": "@jupyter-widgets/controls",
      "model_module_version": "1.5.0",
      "model_name": "HBoxModel",
      "state": {
       "_dom_classes": [],
       "_model_module": "@jupyter-widgets/controls",
       "_model_module_version": "1.5.0",
       "_model_name": "HBoxModel",
       "_view_count": null,
       "_view_module": "@jupyter-widgets/controls",
       "_view_module_version": "1.5.0",
       "_view_name": "HBoxView",
       "box_style": "",
       "children": [
        "IPY_MODEL_2d8bce2730d142f988d63791b0535505",
        "IPY_MODEL_701ff48253f046c08ddf671ad81054a3",
        "IPY_MODEL_3d11fd32165543709733215540e5ed24"
       ],
       "layout": "IPY_MODEL_bde530c1a4424d22abc7c0813e3c92d9"
      }
     },
     "2d8bce2730d142f988d63791b0535505": {
      "model_module": "@jupyter-widgets/controls",
      "model_module_version": "1.5.0",
      "model_name": "HTMLModel",
      "state": {
       "_dom_classes": [],
       "_model_module": "@jupyter-widgets/controls",
       "_model_module_version": "1.5.0",
       "_model_name": "HTMLModel",
       "_view_count": null,
       "_view_module": "@jupyter-widgets/controls",
       "_view_module_version": "1.5.0",
       "_view_name": "HTMLView",
       "description": "",
       "description_tooltip": null,
       "layout": "IPY_MODEL_9ced8a9128f5459c96f5ecc001d4cd50",
       "placeholder": "​",
       "style": "IPY_MODEL_d9d497811884472f8c7609107995e1ef",
       "value": "100%"
      }
     },
     "3d11fd32165543709733215540e5ed24": {
      "model_module": "@jupyter-widgets/controls",
      "model_module_version": "1.5.0",
      "model_name": "HTMLModel",
      "state": {
       "_dom_classes": [],
       "_model_module": "@jupyter-widgets/controls",
       "_model_module_version": "1.5.0",
       "_model_name": "HTMLModel",
       "_view_count": null,
       "_view_module": "@jupyter-widgets/controls",
       "_view_module_version": "1.5.0",
       "_view_name": "HTMLView",
       "description": "",
       "description_tooltip": null,
       "layout": "IPY_MODEL_3e78019d108d491fbcb5d05bd1206a57",
       "placeholder": "​",
       "style": "IPY_MODEL_cd4480f7c4fa47aea306903c0883da69",
       "value": " 1000/1000 [43:01&lt;00:00,  2.74s/it]"
      }
     },
     "3e78019d108d491fbcb5d05bd1206a57": {
      "model_module": "@jupyter-widgets/base",
      "model_module_version": "1.2.0",
      "model_name": "LayoutModel",
      "state": {
       "_model_module": "@jupyter-widgets/base",
       "_model_module_version": "1.2.0",
       "_model_name": "LayoutModel",
       "_view_count": null,
       "_view_module": "@jupyter-widgets/base",
       "_view_module_version": "1.2.0",
       "_view_name": "LayoutView",
       "align_content": null,
       "align_items": null,
       "align_self": null,
       "border": null,
       "bottom": null,
       "display": null,
       "flex": null,
       "flex_flow": null,
       "grid_area": null,
       "grid_auto_columns": null,
       "grid_auto_flow": null,
       "grid_auto_rows": null,
       "grid_column": null,
       "grid_gap": null,
       "grid_row": null,
       "grid_template_areas": null,
       "grid_template_columns": null,
       "grid_template_rows": null,
       "height": null,
       "justify_content": null,
       "justify_items": null,
       "left": null,
       "margin": null,
       "max_height": null,
       "max_width": null,
       "min_height": null,
       "min_width": null,
       "object_fit": null,
       "object_position": null,
       "order": null,
       "overflow": null,
       "overflow_x": null,
       "overflow_y": null,
       "padding": null,
       "right": null,
       "top": null,
       "visibility": null,
       "width": null
      }
     },
     "701ff48253f046c08ddf671ad81054a3": {
      "model_module": "@jupyter-widgets/controls",
      "model_module_version": "1.5.0",
      "model_name": "FloatProgressModel",
      "state": {
       "_dom_classes": [],
       "_model_module": "@jupyter-widgets/controls",
       "_model_module_version": "1.5.0",
       "_model_name": "FloatProgressModel",
       "_view_count": null,
       "_view_module": "@jupyter-widgets/controls",
       "_view_module_version": "1.5.0",
       "_view_name": "ProgressView",
       "bar_style": "success",
       "description": "",
       "description_tooltip": null,
       "layout": "IPY_MODEL_d948449b66e248e4a650ba04cfa45825",
       "max": 1000.0,
       "min": 0.0,
       "orientation": "horizontal",
       "style": "IPY_MODEL_dfcd80c39cd54af5b6b09740eabb5303",
       "value": 1000.0
      }
     },
     "9ced8a9128f5459c96f5ecc001d4cd50": {
      "model_module": "@jupyter-widgets/base",
      "model_module_version": "1.2.0",
      "model_name": "LayoutModel",
      "state": {
       "_model_module": "@jupyter-widgets/base",
       "_model_module_version": "1.2.0",
       "_model_name": "LayoutModel",
       "_view_count": null,
       "_view_module": "@jupyter-widgets/base",
       "_view_module_version": "1.2.0",
       "_view_name": "LayoutView",
       "align_content": null,
       "align_items": null,
       "align_self": null,
       "border": null,
       "bottom": null,
       "display": null,
       "flex": null,
       "flex_flow": null,
       "grid_area": null,
       "grid_auto_columns": null,
       "grid_auto_flow": null,
       "grid_auto_rows": null,
       "grid_column": null,
       "grid_gap": null,
       "grid_row": null,
       "grid_template_areas": null,
       "grid_template_columns": null,
       "grid_template_rows": null,
       "height": null,
       "justify_content": null,
       "justify_items": null,
       "left": null,
       "margin": null,
       "max_height": null,
       "max_width": null,
       "min_height": null,
       "min_width": null,
       "object_fit": null,
       "object_position": null,
       "order": null,
       "overflow": null,
       "overflow_x": null,
       "overflow_y": null,
       "padding": null,
       "right": null,
       "top": null,
       "visibility": null,
       "width": null
      }
     },
     "bde530c1a4424d22abc7c0813e3c92d9": {
      "model_module": "@jupyter-widgets/base",
      "model_module_version": "1.2.0",
      "model_name": "LayoutModel",
      "state": {
       "_model_module": "@jupyter-widgets/base",
       "_model_module_version": "1.2.0",
       "_model_name": "LayoutModel",
       "_view_count": null,
       "_view_module": "@jupyter-widgets/base",
       "_view_module_version": "1.2.0",
       "_view_name": "LayoutView",
       "align_content": null,
       "align_items": null,
       "align_self": null,
       "border": null,
       "bottom": null,
       "display": null,
       "flex": null,
       "flex_flow": null,
       "grid_area": null,
       "grid_auto_columns": null,
       "grid_auto_flow": null,
       "grid_auto_rows": null,
       "grid_column": null,
       "grid_gap": null,
       "grid_row": null,
       "grid_template_areas": null,
       "grid_template_columns": null,
       "grid_template_rows": null,
       "height": null,
       "justify_content": null,
       "justify_items": null,
       "left": null,
       "margin": null,
       "max_height": null,
       "max_width": null,
       "min_height": null,
       "min_width": null,
       "object_fit": null,
       "object_position": null,
       "order": null,
       "overflow": null,
       "overflow_x": null,
       "overflow_y": null,
       "padding": null,
       "right": null,
       "top": null,
       "visibility": null,
       "width": null
      }
     },
     "cd4480f7c4fa47aea306903c0883da69": {
      "model_module": "@jupyter-widgets/controls",
      "model_module_version": "1.5.0",
      "model_name": "DescriptionStyleModel",
      "state": {
       "_model_module": "@jupyter-widgets/controls",
       "_model_module_version": "1.5.0",
       "_model_name": "DescriptionStyleModel",
       "_view_count": null,
       "_view_module": "@jupyter-widgets/base",
       "_view_module_version": "1.2.0",
       "_view_name": "StyleView",
       "description_width": ""
      }
     },
     "d948449b66e248e4a650ba04cfa45825": {
      "model_module": "@jupyter-widgets/base",
      "model_module_version": "1.2.0",
      "model_name": "LayoutModel",
      "state": {
       "_model_module": "@jupyter-widgets/base",
       "_model_module_version": "1.2.0",
       "_model_name": "LayoutModel",
       "_view_count": null,
       "_view_module": "@jupyter-widgets/base",
       "_view_module_version": "1.2.0",
       "_view_name": "LayoutView",
       "align_content": null,
       "align_items": null,
       "align_self": null,
       "border": null,
       "bottom": null,
       "display": null,
       "flex": null,
       "flex_flow": null,
       "grid_area": null,
       "grid_auto_columns": null,
       "grid_auto_flow": null,
       "grid_auto_rows": null,
       "grid_column": null,
       "grid_gap": null,
       "grid_row": null,
       "grid_template_areas": null,
       "grid_template_columns": null,
       "grid_template_rows": null,
       "height": null,
       "justify_content": null,
       "justify_items": null,
       "left": null,
       "margin": null,
       "max_height": null,
       "max_width": null,
       "min_height": null,
       "min_width": null,
       "object_fit": null,
       "object_position": null,
       "order": null,
       "overflow": null,
       "overflow_x": null,
       "overflow_y": null,
       "padding": null,
       "right": null,
       "top": null,
       "visibility": null,
       "width": null
      }
     },
     "d9d497811884472f8c7609107995e1ef": {
      "model_module": "@jupyter-widgets/controls",
      "model_module_version": "1.5.0",
      "model_name": "DescriptionStyleModel",
      "state": {
       "_model_module": "@jupyter-widgets/controls",
       "_model_module_version": "1.5.0",
       "_model_name": "DescriptionStyleModel",
       "_view_count": null,
       "_view_module": "@jupyter-widgets/base",
       "_view_module_version": "1.2.0",
       "_view_name": "StyleView",
       "description_width": ""
      }
     },
     "dfcd80c39cd54af5b6b09740eabb5303": {
      "model_module": "@jupyter-widgets/controls",
      "model_module_version": "1.5.0",
      "model_name": "ProgressStyleModel",
      "state": {
       "_model_module": "@jupyter-widgets/controls",
       "_model_module_version": "1.5.0",
       "_model_name": "ProgressStyleModel",
       "_view_count": null,
       "_view_module": "@jupyter-widgets/base",
       "_view_module_version": "1.2.0",
       "_view_name": "StyleView",
       "bar_color": null,
       "description_width": ""
      }
     }
    },
    "version_major": 2,
    "version_minor": 0
   }
  }
 },
 "nbformat": 4,
 "nbformat_minor": 4
}
