{
 "cells": [
  {
   "cell_type": "code",
   "execution_count": null,
   "metadata": {},
   "outputs": [],
   "source": [
    "%run 2020-11-19_NEW_HOTS_05_LogisticRegression.py"
   ]
  },
  {
   "cell_type": "code",
   "execution_count": null,
   "metadata": {},
   "outputs": [],
   "source": [
    "verbose=True"
   ]
  },
  {
   "cell_type": "markdown",
   "metadata": {},
   "source": [
    "### Performing logistic regression with or without homeostasis\n"
   ]
  },
  {
   "cell_type": "code",
   "execution_count": null,
   "metadata": {},
   "outputs": [],
   "source": [
    "for homeo in [False, True]:\n",
    "    print(40*'-')\n",
    "    print(f'{homeo=}')\n",
    "    print(40*'-')\n",
    "    events_train_o, events_test_o = get_events(timestr, tau=tau, homeo=homeo, verbose=verbose)\n",
    "\n",
    "    X, y = gather_data(events_train_o, labels_train, verbose=verbose)\n",
    "    X_train, X_test, y_train, y_test = train_test_split(X, y, test_size=0.33, random_state=42)\n",
    "    lr = LR(**opts_LR).fit(X_train, y_train)\n",
    "    print(f'Classification score for {homeo=} is {lr.score(X_train, y_train):.3f}')\n",
    "    print(f'Classification score for {homeo=} is {lr.score(X_test, y_test):.3f}')\n",
    "    X_test, y_test = gather_data(events_test_o, labels_test, verbose=verbose)\n",
    "    print(f'Classification score for {homeo=} is {lr.score(X_test, y_test):.3f}')"
   ]
  },
  {
   "cell_type": "code",
   "execution_count": null,
   "metadata": {},
   "outputs": [],
   "source": [
    "for homeo in [False, True]:\n",
    "    print(40*'-')\n",
    "    print(f'{homeo=}')\n",
    "    print(40*'-')\n",
    "    events_train_o, events_test_o = get_events(timestr, tau=tau, homeo=homeo, verbose=verbose)\n",
    "\n",
    "    X_train, y_train = gather_data(events_train_o, labels_train, verbose=verbose)\n",
    "    lr = LR(**opts_LR).fit(X_train, y_train)\n",
    "    print(f'Classification score for {homeo=} is {lr.score(X_train, y_train):.3f}')\n",
    "    \n",
    "    X_test, y_test = gather_data(events_test_o, labels_test, verbose=verbose)\n",
    "    print(f'Classification score for {homeo=} is {lr.score(X_test, y_test):.3f}')"
   ]
  },
  {
   "cell_type": "markdown",
   "metadata": {},
   "source": [
    "### Performing logistic regression with different solvers"
   ]
  },
  {
   "cell_type": "code",
   "execution_count": null,
   "metadata": {},
   "outputs": [],
   "source": [
    "for homeo in [False, True]:\n",
    "    print(40*'-')\n",
    "    print(f'{homeo=}')\n",
    "    print(40*'-')\n",
    "    for solver, penalty in zip(['newton-cg', 'lbfgs', 'liblinear', 'sag', 'saga'], ['l2', 'l2', 'l1', 'l2', 'l1']):\n",
    "        events_train_o, events_test_o = get_events(timestr, tau=tau, homeo=homeo, verbose=verbose)\n",
    "\n",
    "        X, y = gather_data(events_train_o, labels_train, verbose=verbose)\n",
    "        tic = time.time()\n",
    "        X_train, X_test, y_train, y_test = train_test_split(X, y, test_size=0.33, random_state=42)\n",
    "        lr = LR(solver=solver, penalty=penalty, **opts_LR).fit(X_train, y_train)\n",
    "        print(f'Fit done in {time.time() -tic:.3f} seconds for {solver=}')\n",
    "        print(f'Classification score for {homeo=} / {solver=} is {lr.score(X_train, y_train):.3f}')\n",
    "        print(f'Classification score for {homeo=} / {solver=} is {lr.score(X_test, y_test):.3f}')\n",
    "        X_test, y_test = gather_data(events_test_o, labels_test, verbose=verbose)\n",
    "        print(f'Classification score for {homeo=} / {solver=} is {lr.score(X_test, y_test):.3f}')"
   ]
  }
 ],
 "metadata": {
  "kernelspec": {
   "display_name": "hots",
   "language": "python",
   "name": "hots"
  },
  "language_info": {
   "codemirror_mode": {
    "name": "ipython",
    "version": 3
   },
   "file_extension": ".py",
   "mimetype": "text/x-python",
   "name": "python",
   "nbconvert_exporter": "python",
   "pygments_lexer": "ipython3",
   "version": "3.8.3"
  }
 },
 "nbformat": 4,
 "nbformat_minor": 4
}
