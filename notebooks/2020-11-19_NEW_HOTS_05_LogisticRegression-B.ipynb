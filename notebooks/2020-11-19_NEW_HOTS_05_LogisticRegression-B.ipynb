{
 "cells": [
  {
   "cell_type": "code",
   "execution_count": 1,
   "metadata": {},
   "outputs": [
    {
     "name": "stdout",
     "output_type": "stream",
     "text": [
      "/Users/laurentperrinet/quantic/science/HomeHots/HOTS_clone_laurent\n"
     ]
    }
   ],
   "source": [
    "%run 2020-11-19_NEW_HOTS_05_LogisticRegression.py"
   ]
  },
  {
   "cell_type": "code",
   "execution_count": 2,
   "metadata": {},
   "outputs": [
    {
     "data": {
      "text/plain": [
       "({'max_iter': 400, 'n_jobs': 32, 'class_weight': 'balanced', 'verbose': 4},\n",
       " 0.0009)"
      ]
     },
     "execution_count": 2,
     "metadata": {},
     "output_type": "execute_result"
    }
   ],
   "source": [
    "verbose=True"
   ]
  },
  {
   "cell_type": "code",
   "execution_count": null,
   "metadata": {},
   "outputs": [
    {
     "name": "stdout",
     "output_type": "stream",
     "text": [
      "creating the events in file Records/EXP_03_NMNIST/2020-11-03_hots_0.9_event_out_lagorce_homeo.pkl\n"
     ]
    }
   ],
   "source": [
    "#for homeo in [False, True]:\n",
    "for homeo in [True, False]:\n",
    "\n",
    "    events_train_o, events_test_o = get_events(timestr, tau=tau, homeo=homeo, verbose=verbose)\n",
    "\n",
    "    X, y = gather_data(events_train_o, labels_train)\n"
   ]
  },
  {
   "cell_type": "markdown",
   "metadata": {},
   "source": [
    "### Performing logistic regression with cross-validation\n",
    "\n",
    "https://scikit-learn.org/stable/modules/generated/sklearn.linear_model.LogisticRegressionCV.html\n"
   ]
  },
  {
   "cell_type": "code",
   "execution_count": null,
   "metadata": {},
   "outputs": [],
   "source": [
    "for homeo in [False, True]:\n",
    "    print(40*'-')\n",
    "    print(f'{homeo=}')\n",
    "    print(40*'-')\n",
    "    events_train_o, events_test_o = get_events(timestr, tau=tau, homeo=homeo, verbose=verbose)\n",
    "\n",
    "    for tau_cla in .15 * np.logspace(-1, 1, 7, base=4):\n",
    "        X, y = gather_data(events_train_o, labels_train, tau_cla=tau_cla, verbose=verbose)\n",
    "        X_train, X_test, y_train, y_test = train_test_split(X, y, test_size=0.33, random_state=42)\n",
    "        lr = LR(**opts_LR).fit(X_train, y_train)\n",
    "        print(f'Classification score for {tau_cla=:.3f} is {lr.score(X_train, y_train):.3f}')\n",
    "        print(f'Classification score for {tau_cla=:.3f} is {lr.score(X_test, y_test):.3f}')\n",
    "        X_test, y_test = gather_data(events_test_o, labels_test, tau_cla=tau_cla)\n",
    "        print(f'Classification score for {tau_cla=:.3f} is {lr.score(X_test, y_test):.3f}')"
   ]
  }
 ],
 "metadata": {
  "kernelspec": {
   "display_name": "hots",
   "language": "python",
   "name": "hots"
  },
  "language_info": {
   "codemirror_mode": {
    "name": "ipython",
    "version": 3
   },
   "file_extension": ".py",
   "mimetype": "text/x-python",
   "name": "python",
   "nbconvert_exporter": "python",
   "pygments_lexer": "ipython3",
   "version": "3.8.3"
  }
 },
 "nbformat": 4,
 "nbformat_minor": 4
}
