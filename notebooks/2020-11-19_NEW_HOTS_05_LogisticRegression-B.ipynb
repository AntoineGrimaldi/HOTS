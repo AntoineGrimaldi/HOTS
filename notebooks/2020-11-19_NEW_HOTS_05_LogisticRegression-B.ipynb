{
 "cells": [
  {
   "cell_type": "code",
   "execution_count": 1,
   "metadata": {},
   "outputs": [],
   "source": [
    "%run 2020-11-19_NEW_HOTS_05_LogisticRegression.py"
   ]
  },
  {
   "cell_type": "code",
   "execution_count": 2,
   "metadata": {},
   "outputs": [],
   "source": [
    "verbose=1"
   ]
  },
  {
   "cell_type": "markdown",
   "metadata": {},
   "source": [
    "### Performing logistic regression with cross-validation\n",
    "\n",
    "https://scikit-learn.org/stable/modules/generated/sklearn.linear_model.LogisticRegressionCV.html\n"
   ]
  },
  {
   "cell_type": "code",
   "execution_count": 3,
   "metadata": {},
   "outputs": [
    {
     "name": "stdout",
     "output_type": "stream",
     "text": [
      "----------------------------------------\n",
      "homeo=False\n",
      "----------------------------------------\n",
      "loading the events from file ../Records/EXP_03_NMNIST/2020-11-03_hots_0.9_ms_40_40_40_event_out_lagorce.pkl\n",
      "Number of events: 3414 - Number of features: 2312\n"
     ]
    },
    {
     "name": "stderr",
     "output_type": "stream",
     "text": [
      "[Parallel(n_jobs=-1)]: Using backend LokyBackend with 36 concurrent workers.\n",
      "[Parallel(n_jobs=-1)]: Done   5 out of   5 | elapsed:  2.5min finished\n"
     ]
    },
    {
     "name": "stdout",
     "output_type": "stream",
     "text": [
      "Classification score for tau_cla=0.037 is 0.998\n",
      "Number of events: 3404 - Number of features: 2312\n",
      "Classification score for tau_cla=0.037 is 0.463\n",
      "Number of events: 3414 - Number of features: 2312\n"
     ]
    },
    {
     "name": "stderr",
     "output_type": "stream",
     "text": [
      "[Parallel(n_jobs=-1)]: Using backend LokyBackend with 36 concurrent workers.\n",
      "[Parallel(n_jobs=-1)]: Done   5 out of   5 | elapsed:  3.3min finished\n"
     ]
    },
    {
     "name": "stdout",
     "output_type": "stream",
     "text": [
      "Classification score for tau_cla=0.060 is 0.997\n",
      "Number of events: 3404 - Number of features: 2312\n",
      "Classification score for tau_cla=0.060 is 0.465\n",
      "Number of events: 3414 - Number of features: 2312\n"
     ]
    },
    {
     "name": "stderr",
     "output_type": "stream",
     "text": [
      "[Parallel(n_jobs=-1)]: Using backend LokyBackend with 36 concurrent workers.\n",
      "[Parallel(n_jobs=-1)]: Done   5 out of   5 | elapsed:  3.5min finished\n"
     ]
    },
    {
     "name": "stdout",
     "output_type": "stream",
     "text": [
      "Classification score for tau_cla=0.094 is 0.996\n",
      "Number of events: 3404 - Number of features: 2312\n",
      "Classification score for tau_cla=0.094 is 0.461\n",
      "Number of events: 3414 - Number of features: 2312\n"
     ]
    },
    {
     "name": "stderr",
     "output_type": "stream",
     "text": [
      "[Parallel(n_jobs=-1)]: Using backend LokyBackend with 36 concurrent workers.\n",
      "[Parallel(n_jobs=-1)]: Done   5 out of   5 | elapsed:  4.4min finished\n"
     ]
    },
    {
     "name": "stdout",
     "output_type": "stream",
     "text": [
      "Classification score for tau_cla=0.150 is 1.000\n",
      "Number of events: 3404 - Number of features: 2312\n",
      "Classification score for tau_cla=0.150 is 0.460\n",
      "Number of events: 3414 - Number of features: 2312\n"
     ]
    },
    {
     "name": "stderr",
     "output_type": "stream",
     "text": [
      "[Parallel(n_jobs=-1)]: Using backend LokyBackend with 36 concurrent workers.\n",
      "[Parallel(n_jobs=-1)]: Done   5 out of   5 | elapsed:  3.9min finished\n"
     ]
    },
    {
     "name": "stdout",
     "output_type": "stream",
     "text": [
      "Classification score for tau_cla=0.238 is 0.995\n",
      "Number of events: 3404 - Number of features: 2312\n",
      "Classification score for tau_cla=0.238 is 0.447\n",
      "Number of events: 3414 - Number of features: 2312\n"
     ]
    },
    {
     "name": "stderr",
     "output_type": "stream",
     "text": [
      "[Parallel(n_jobs=-1)]: Using backend LokyBackend with 36 concurrent workers.\n",
      "[Parallel(n_jobs=-1)]: Done   5 out of   5 | elapsed:  4.4min finished\n"
     ]
    },
    {
     "name": "stdout",
     "output_type": "stream",
     "text": [
      "Classification score for tau_cla=0.378 is 0.993\n",
      "Number of events: 3404 - Number of features: 2312\n",
      "Classification score for tau_cla=0.378 is 0.415\n",
      "Number of events: 3414 - Number of features: 2312\n"
     ]
    },
    {
     "name": "stderr",
     "output_type": "stream",
     "text": [
      "[Parallel(n_jobs=-1)]: Using backend LokyBackend with 36 concurrent workers.\n",
      "[Parallel(n_jobs=-1)]: Done   5 out of   5 | elapsed:  5.1min finished\n"
     ]
    },
    {
     "name": "stdout",
     "output_type": "stream",
     "text": [
      "Classification score for tau_cla=0.600 is 0.997\n",
      "Number of events: 3404 - Number of features: 2312\n",
      "Classification score for tau_cla=0.600 is 0.368\n",
      "----------------------------------------\n",
      "homeo=True\n",
      "----------------------------------------\n",
      "loading the events from file ../Records/EXP_03_NMNIST/2020-11-03_hots_0.9_ms_40_40_40_event_out_lagorce_homeo.pkl\n",
      "Number of events: 3414 - Number of features: 2312\n"
     ]
    },
    {
     "name": "stderr",
     "output_type": "stream",
     "text": [
      "[Parallel(n_jobs=-1)]: Using backend LokyBackend with 36 concurrent workers.\n",
      "[Parallel(n_jobs=-1)]: Done   5 out of   5 | elapsed:  1.6min finished\n"
     ]
    },
    {
     "name": "stdout",
     "output_type": "stream",
     "text": [
      "Classification score for tau_cla=0.037 is 0.998\n",
      "Number of events: 3404 - Number of features: 2312\n",
      "Classification score for tau_cla=0.037 is 0.463\n",
      "Number of events: 3414 - Number of features: 2312\n"
     ]
    },
    {
     "name": "stderr",
     "output_type": "stream",
     "text": [
      "[Parallel(n_jobs=-1)]: Using backend LokyBackend with 36 concurrent workers.\n",
      "[Parallel(n_jobs=-1)]: Done   5 out of   5 | elapsed:  2.0min finished\n"
     ]
    },
    {
     "name": "stdout",
     "output_type": "stream",
     "text": [
      "Classification score for tau_cla=0.060 is 0.997\n",
      "Number of events: 3404 - Number of features: 2312\n",
      "Classification score for tau_cla=0.060 is 0.465\n",
      "Number of events: 3414 - Number of features: 2312\n"
     ]
    },
    {
     "name": "stderr",
     "output_type": "stream",
     "text": [
      "[Parallel(n_jobs=-1)]: Using backend LokyBackend with 36 concurrent workers.\n",
      "[Parallel(n_jobs=-1)]: Done   5 out of   5 | elapsed:  2.2min finished\n"
     ]
    },
    {
     "name": "stdout",
     "output_type": "stream",
     "text": [
      "Classification score for tau_cla=0.094 is 0.996\n",
      "Number of events: 3404 - Number of features: 2312\n",
      "Classification score for tau_cla=0.094 is 0.461\n",
      "Number of events: 3414 - Number of features: 2312\n"
     ]
    },
    {
     "name": "stderr",
     "output_type": "stream",
     "text": [
      "[Parallel(n_jobs=-1)]: Using backend LokyBackend with 36 concurrent workers.\n",
      "[Parallel(n_jobs=-1)]: Done   5 out of   5 | elapsed:  2.7min finished\n"
     ]
    },
    {
     "name": "stdout",
     "output_type": "stream",
     "text": [
      "Classification score for tau_cla=0.150 is 1.000\n",
      "Number of events: 3404 - Number of features: 2312\n",
      "Classification score for tau_cla=0.150 is 0.460\n",
      "Number of events: 3414 - Number of features: 2312\n"
     ]
    },
    {
     "name": "stderr",
     "output_type": "stream",
     "text": [
      "[Parallel(n_jobs=-1)]: Using backend LokyBackend with 36 concurrent workers.\n",
      "[Parallel(n_jobs=-1)]: Done   5 out of   5 | elapsed:  3.1min finished\n"
     ]
    },
    {
     "name": "stdout",
     "output_type": "stream",
     "text": [
      "Classification score for tau_cla=0.238 is 0.995\n",
      "Number of events: 3404 - Number of features: 2312\n",
      "Classification score for tau_cla=0.238 is 0.447\n",
      "Number of events: 3414 - Number of features: 2312\n"
     ]
    },
    {
     "name": "stderr",
     "output_type": "stream",
     "text": [
      "[Parallel(n_jobs=-1)]: Using backend LokyBackend with 36 concurrent workers.\n",
      "[Parallel(n_jobs=-1)]: Done   5 out of   5 | elapsed:  3.5min finished\n"
     ]
    },
    {
     "name": "stdout",
     "output_type": "stream",
     "text": [
      "Classification score for tau_cla=0.378 is 0.993\n",
      "Number of events: 3404 - Number of features: 2312\n",
      "Classification score for tau_cla=0.378 is 0.415\n",
      "Number of events: 3414 - Number of features: 2312\n"
     ]
    },
    {
     "name": "stderr",
     "output_type": "stream",
     "text": [
      "[Parallel(n_jobs=-1)]: Using backend LokyBackend with 36 concurrent workers.\n",
      "[Parallel(n_jobs=-1)]: Done   5 out of   5 | elapsed:  4.0min finished\n"
     ]
    },
    {
     "name": "stdout",
     "output_type": "stream",
     "text": [
      "Classification score for tau_cla=0.600 is 0.997\n",
      "Number of events: 3404 - Number of features: 2312\n",
      "Classification score for tau_cla=0.600 is 0.368\n"
     ]
    }
   ],
   "source": [
    "for homeo in [False, True]:\n",
    "    print(40*'-')\n",
    "    print(f'{homeo=}')\n",
    "    print(40*'-')\n",
    "    events_train_o, events_test_o, labels_train, labels_test = get_events(timestr, tau=tau, homeo=homeo, verbose=verbose)\n",
    "\n",
    "    for tau_cla in .15 * np.logspace(-1, 1, 7, base=4):\n",
    "\n",
    "        X_train, y_train = gather_data(events_train_o, labels_train, tau_cla=tau_cla, verbose=verbose)\n",
    "        lr = LR(**opts_LR, verbose=verbose).fit(X_train, y_train)\n",
    "        print(f'Classification score for {tau_cla=:.3f} is {lr.score(X_train, y_train):.3f}')\n",
    "        X_test, y_test = gather_data(events_test_o, labels_test, tau_cla=tau_cla, verbose=verbose)\n",
    "        print(f'Classification score for {tau_cla=:.3f} is {lr.score(X_test, y_test):.3f}')"
   ]
  }
 ],
 "metadata": {
  "kernelspec": {
   "display_name": "hots",
   "language": "python",
   "name": "hots"
  },
  "language_info": {
   "codemirror_mode": {
    "name": "ipython",
    "version": 3
   },
   "file_extension": ".py",
   "mimetype": "text/x-python",
   "name": "python",
   "nbconvert_exporter": "python",
   "pygments_lexer": "ipython3",
   "version": "3.8.3"
  }
 },
 "nbformat": 4,
 "nbformat_minor": 4
}
