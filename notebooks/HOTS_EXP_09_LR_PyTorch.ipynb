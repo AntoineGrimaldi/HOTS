{
 "cells": [
  {
   "cell_type": "code",
   "execution_count": 1,
   "metadata": {},
   "outputs": [
    {
     "name": "stdout",
     "output_type": "stream",
     "text": [
      "/home/antoine/homhots/HOTS/HOTS\n"
     ]
    }
   ],
   "source": [
    "#%load_ext autoreload\n",
    "#%autoreload 2\n",
    "%matplotlib inline\n",
    "%cd '../HOTS'"
   ]
  },
  {
   "cell_type": "code",
   "execution_count": 2,
   "metadata": {},
   "outputs": [],
   "source": [
    "import os\n",
    "import pickle\n",
    "import datetime\n",
    "from mix_Network import *\n",
    "\n",
    "dataset = 'nmnist'\n",
    "records_path = '../Records'\n",
    "timestr = datetime.datetime.now().date().isoformat()\n",
    "timestr = '2020-12-21'\n",
    "verbose = True\n",
    "\n",
    "%mkdir -p ../Records\n",
    "%mkdir -p ../Records/EXP_03_NMNIST\n",
    "\n",
    "homeo = True\n",
    "sigma = None\n",
    "pooling = False\n",
    "homeinv = False\n",
    "jitter = False\n",
    "tau = 5\n",
    "krnlinit = 'first'\n",
    "nblay = 3\n",
    "nbclust = 4\n",
    "\n",
    "ds = 75\n",
    "nb_train = 7500//ds\n",
    "nb_test = 2500//ds"
   ]
  },
  {
   "cell_type": "code",
   "execution_count": 3,
   "metadata": {},
   "outputs": [],
   "source": [
    "def get_nmnist(NbTrainingData, NbTestingData):\n",
    "    def loadev(nbdigit, loader, learningset):\n",
    "        timout = []\n",
    "        xout = []\n",
    "        yout = []\n",
    "        polout = []\n",
    "        labout = []\n",
    "        for i in range(NbTrainingData):\n",
    "            events, target = next(iter(loader))\n",
    "            for iev in range(events.shape[1]):\n",
    "                    timout.append(events[0][iev][learningset.ordering.find(\"t\")].item())\n",
    "                    xout.append(events[0][iev][learningset.ordering.find(\"x\")].item())\n",
    "                    yout.append(events[0][iev][learningset.ordering.find(\"y\")].item())\n",
    "                    polout.append(events[0][iev][learningset.ordering.find(\"p\")].item())\n",
    "                    labout.append(target.item())\n",
    "\n",
    "        eventsout = [xout,yout,timout,polout,labout,learningset.sensor_size,2]\n",
    "        return eventsout\n",
    "    \n",
    "    learningset = tonic.datasets.NMNIST(save_to='../Data/',\n",
    "                                    train=False,\n",
    "                                    transform=None)\n",
    "    loader = tonic.datasets.DataLoader(learningset, shuffle=True)\n",
    "    \n",
    "    events_train = loadev(NbTrainingData, loader, learningset)\n",
    "    events_test = loadev(NbTestingData, loader, learningset)\n",
    "    \n",
    "    return events_train, events_test\n",
    "\n",
    "#### Building matrix for logistic regression\n",
    "def gather_data(events_in,\n",
    "                tau_cla=150, # characteristic time of a digit\n",
    "                sample_events=50, sample_space = 1,\n",
    "                verbose=False, debug=False):\n",
    "    tau_cla *= 1e3 # to enter tau in ms\n",
    "    n_events = len(events_in[0])\n",
    "\n",
    "    c_int = lambda n, d : ((n - 1) // d) + 1\n",
    "    \n",
    "    data = np.zeros((c_int(events_in[-2][0], sample_space),\n",
    "                     c_int(events_in[-2][1], sample_space),\n",
    "                     events_in[-1])) #tmp data\n",
    "\n",
    "    X = np.zeros((c_int(n_events, sample_events), len(data.ravel())))\n",
    "    y = np.zeros((c_int(n_events, sample_events), ))\n",
    "\n",
    "    for i_event in range(1, n_events):\n",
    "        if events_in[2][i_event]<events_in[2][i_event-1]:\n",
    "            data = np.zeros((c_int(events_in[-2][0], sample_space),\n",
    "                     c_int(events_in[-2][1], sample_space),\n",
    "                     events_in[-1])) #tmp data \n",
    "\n",
    "        data *= np.exp(-(events_in[2][i_event]-events_in[2][i_event-1])/tau_cla)\n",
    "        \n",
    "        x_pos = events_in[0][i_event]//sample_space\n",
    "        y_pos = events_in[1][i_event]//sample_space\n",
    "        p = events_in[3][i_event]\n",
    "        data[int(x_pos), int(y_pos), int(p)] = 1.\n",
    "\n",
    "        if i_event % sample_events == sample_events//2 :\n",
    "            if debug:\n",
    "                print(f'DEBUG {i_event} {i_event//sample_events} ')\n",
    "                print(f'DEBUG {y[i_event//sample_events]}   ')\n",
    "                print(f'DEBUG  {events_in[-3][i_event]} ')\n",
    "            X[i_event//sample_events, :] = data.ravel()\n",
    "            y[i_event//sample_events] = events_in[-3][i_event]\n",
    "            \n",
    "    if verbose: print('Number of events: ' + str(X.shape[0])+' - Number of features: ' + str(X.shape[1]))\n",
    "    \n",
    "    y_out = np.zeros([y.shape[0],int(max(y)+1)])\n",
    "    for i in range(y.shape[0]):\n",
    "        y_out[i,int(y[i])]=1\n",
    "    \n",
    "    return X, y_out\n",
    "\n",
    "def get_events(tau, krnlinit, nblay, nbclust, homeo, records_path, timestr, dataset, sigma, homeinv, jitter, nb_train, nb_test):\n",
    "    hotshom = network(krnlinit=krnlinit, tau=tau, nblay=nblay, nbclust=nbclust, homeo=homeo, sigma=sigma, homeinv=homeinv, jitter=jitter)\n",
    "    arch = [hotshom.L[i].kernel.shape[1] for i in range(len(hotshom.L))]\n",
    "    fname = f'{records_path}/EXP_03_NMNIST/{timestr}_hots_{dataset}_{arch}_{tau}_{homeo}_{sigma}_{homeinv}_{jitter}'\n",
    "    print(fname)\n",
    "    if not os.path.isfile(fname+'_model.pkl'):\n",
    "        loaderhom, order = hotshom.learning1by1(dataset=dataset)\n",
    "        with open(fname+'_model.pkl', 'wb') as file:\n",
    "            pickle.dump([hotshom, loaderhom, order], file, pickle.HIGHEST_PROTOCOL)\n",
    "    else:\n",
    "        with open(fname+'_model.pkl', 'rb') as file:\n",
    "            hotshom, loaderhom, order = pickle.load(file)\n",
    "            \n",
    "    if not os.path.isfile(fname+f'_evout_{nb_train}_{nb_test}.pkl'):       \n",
    "        _, loaderhom, out_train = hotshom.running(loaderhom, order, nb_digit = nb_train, LR=True)\n",
    "        _, loaderhom, out_test = hotshom.running(loaderhom, order, nb_digit = nb_test, LR=True)\n",
    "        with open(fname+f'_evout_{nb_train}_{nb_test}.pkl', 'wb') as file:\n",
    "            pickle.dump([out_train, out_test], file, pickle.HIGHEST_PROTOCOL)\n",
    "    else:\n",
    "        with open(fname+f'_evout_{nb_train}_{nb_test}.pkl', 'rb') as file:\n",
    "            out_train, out_test = pickle.load(file)\n",
    "    return out_train, out_test\n",
    "\n",
    "\n",
    "# ### Performingxlogistic regression\n",
    "#\n",
    "# https://scikit-learn.org/stable/modules/generated/sklearn.linear_model.LogisticRegressionCV.html\n",
    "#\n",
    "\n",
    "# from sklearn.linear_model import LogisticRegression as LR\n",
    "from sklearn.linear_model import LogisticRegressionCV as LR\n",
    "# \n",
    "opts_LR = dict(max_iter=2000, # random_state=0,\n",
    "               n_jobs=-1, class_weight='balanced')\n",
    "#opts_LR['Cs'] = 5\n",
    "opts_LR['Cs'] = 32\n",
    "# TODO for a publication use 100 from 10^{-10} to 10\n",
    "\n",
    "from sklearn.model_selection import train_test_split\n",
    "\n",
    "def tic():\n",
    "    global ttic\n",
    "    ttic = time.time()\n",
    "def toc():\n",
    "    print(f'Done in {time.time() - ttic:.3f} s')"
   ]
  },
  {
   "cell_type": "code",
   "execution_count": 4,
   "metadata": {},
   "outputs": [],
   "source": [
    "import torch\n",
    "from torch.utils.data import TensorDataset, DataLoader\n",
    "torch.set_default_tensor_type(\"torch.DoubleTensor\") # -> torch.tensor([1.2, 3]).dtype = torch.float64\n",
    "criterion = torch.nn.NLLLoss(reduction=\"mean\") # loss divided by output size\n",
    "\n",
    "class LogisticRegressionModel(torch.nn.Module):\n",
    "    #torch.nn.Module -> Base class for all neural network modules\n",
    "    def __init__(self, N, n_classes, bias=True):\n",
    "        super(LogisticRegressionModel, self).__init__() \n",
    "        self.linear = torch.nn.Linear(N, n_classes, bias=bias)\n",
    "        self.nl = torch.nn.LogSoftmax(dim=1)\n",
    "\n",
    "    def forward(self, factors):\n",
    "        return self.nl(torch.squeeze(self.linear(factors),dim=1))"
   ]
  },
  {
   "cell_type": "code",
   "execution_count": 33,
   "metadata": {},
   "outputs": [],
   "source": [
    "learning_rate = 0.005\n",
    "beta1, beta2 = 0.9, 0.999\n",
    "betas = (beta1, beta2)\n",
    "num_epochs = 2 ** 9 + 1\n",
    "batch_size = 256\n",
    "n_classes=10\n",
    "amsgrad = False # gives similar results\n",
    "amsgrad = True  # gives similar results\n",
    "\n",
    "def fit_data(factors, y, \n",
    "            learning_rate=learning_rate,\n",
    "            batch_size=batch_size,  # gamma=gamma,\n",
    "            num_epochs=num_epochs,\n",
    "            betas=betas,\n",
    "            verbose=False, **kwargs\n",
    "        ):\n",
    "\n",
    "    X, labels = torch.Tensor(factors[:, None]), torch.Tensor(y[:, None])\n",
    "    loader = DataLoader(\n",
    "        TensorDataset(X, labels), batch_size=batch_size, shuffle=True\n",
    "    )\n",
    "\n",
    "    device = torch.device(\"cuda\" if torch.cuda.is_available() else \"cpu\")\n",
    "    print(f'device -> {device}')\n",
    "    \n",
    "    N_batch = factors.shape[0]\n",
    "    N = factors.shape[1]\n",
    "    n_classes = y.shape[1]\n",
    "    logistic_model = LogisticRegressionModel(N, n_classes)\n",
    "    logistic_model = logistic_model.to(device)\n",
    "    logistic_model.train()\n",
    "    optimizer = torch.optim.Adam(\n",
    "        logistic_model.parameters(), lr=learning_rate, betas=betas, amsgrad=amsgrad\n",
    "    )\n",
    "    for epoch in range(int(num_epochs)):\n",
    "        logistic_model.train()\n",
    "        losses = []\n",
    "        for X_, labels_ in loader:\n",
    "            X_, labels_ = X_.to(device), labels_.to(device)\n",
    "            outputs = logistic_model(X_)\n",
    "            target = torch.argmax(torch.squeeze(labels_,dim=1), 1)\n",
    "            loss = criterion(outputs, target)\n",
    "            optimizer.zero_grad()\n",
    "            loss.backward()\n",
    "            optimizer.step()\n",
    "            losses.append(loss.item())\n",
    "\n",
    "        if verbose and (epoch % (num_epochs // 32) == 0):\n",
    "            print(f\"Iteration: {epoch} - Loss: {np.mean(losses):.5f}\")\n",
    "            \n",
    "    logistic_model.eval()\n",
    "    X, labels = torch.Tensor(factors[:, None]), torch.Tensor(y[:, None])\n",
    "    X, labels = X.to(device), labels.to(device)\n",
    "    outputs = logistic_model(X)\n",
    "    target = torch.argmax(torch.squeeze(labels,dim=1), 1)\n",
    "    loss = criterion(outputs, target).item()\n",
    "    return logistic_model, loss\n",
    "\n",
    "def predict_data(factors, y, model,\n",
    "            batch_size=batch_size,  # gamma=gamma,\n",
    "            verbose=False, **kwargs\n",
    "        ):\n",
    "    batch_size = 1\n",
    "    X, labels = torch.Tensor(factors[:, None]), torch.Tensor(y[:, None])\n",
    "    loader = DataLoader(\n",
    "        TensorDataset(X, labels), batch_size=batch_size, shuffle=True\n",
    "    )\n",
    "\n",
    "    device = torch.device(\"cuda\" if torch.cuda.is_available() else \"cpu\")\n",
    "    print(f'device -> {device}')\n",
    "\n",
    "    logistic_model = model.to(device)\n",
    "    \n",
    "    losses = []\n",
    "    acc = 0\n",
    "    for X_, labels_ in loader:\n",
    "        X_, labels_ = X_.to(device), labels_.to(device)\n",
    "        output = logistic_model(X_)\n",
    "        target = torch.argmax(torch.squeeze(labels_,dim=1), 1)\n",
    "        loss = criterion(output, target)\n",
    "        losses.append(loss.item())\n",
    "        pred = torch.argmax(torch.tensor(output), dim=1)\n",
    "        if pred.item()==target.item():\n",
    "            acc+=1\n",
    "    accuracy = acc/y.shape[0]\n",
    "    return losses, accuracy"
   ]
  },
  {
   "cell_type": "code",
   "execution_count": 31,
   "metadata": {},
   "outputs": [
    {
     "name": "stdout",
     "output_type": "stream",
     "text": [
      "Using downloaded and verified file: ../Data/nmnist_test.zip\n",
      "Extracting ../Data/nmnist_test.zip to ../Data/\n",
      "Done in 21.079 s\n"
     ]
    }
   ],
   "source": [
    "tic()\n",
    "events_train, events_test = get_nmnist(nb_train, nb_test)\n",
    "toc()"
   ]
  },
  {
   "cell_type": "code",
   "execution_count": 7,
   "metadata": {},
   "outputs": [
    {
     "name": "stdout",
     "output_type": "stream",
     "text": [
      "Number of events: 8424 - Number of features: 2312\n",
      "Done in 1.940 s\n"
     ]
    }
   ],
   "source": [
    "tic()\n",
    "X_train, y_train = gather_data(events_train, verbose=verbose)\n",
    "toc()"
   ]
  },
  {
   "cell_type": "code",
   "execution_count": 8,
   "metadata": {},
   "outputs": [
    {
     "name": "stdout",
     "output_type": "stream",
     "text": [
      "device -> cuda\n",
      "Iteration: 0 - Loss: 0.59200\n",
      "Iteration: 16 - Loss: 0.00877\n",
      "Iteration: 32 - Loss: 0.00463\n",
      "Iteration: 48 - Loss: 0.00312\n",
      "Iteration: 64 - Loss: 0.00238\n",
      "Iteration: 80 - Loss: 0.00192\n",
      "Iteration: 96 - Loss: 0.00159\n",
      "Iteration: 112 - Loss: 0.00136\n",
      "Iteration: 128 - Loss: 0.00118\n",
      "Iteration: 144 - Loss: 0.00105\n",
      "Iteration: 160 - Loss: 0.00093\n",
      "Iteration: 176 - Loss: 0.00085\n",
      "Iteration: 192 - Loss: 0.00077\n",
      "Iteration: 208 - Loss: 0.00070\n",
      "Iteration: 224 - Loss: 0.00065\n",
      "Iteration: 240 - Loss: 0.00060\n",
      "Iteration: 256 - Loss: 0.00056\n",
      "Iteration: 272 - Loss: 0.00052\n",
      "Iteration: 288 - Loss: 0.00049\n",
      "Iteration: 304 - Loss: 0.00046\n",
      "Iteration: 320 - Loss: 0.00043\n",
      "Iteration: 336 - Loss: 0.00041\n",
      "Iteration: 352 - Loss: 0.00039\n",
      "Iteration: 368 - Loss: 0.00037\n",
      "Iteration: 384 - Loss: 0.00035\n",
      "Iteration: 400 - Loss: 0.00033\n",
      "Iteration: 416 - Loss: 0.00032\n",
      "Iteration: 432 - Loss: 0.00031\n",
      "Iteration: 448 - Loss: 0.00029\n",
      "Iteration: 464 - Loss: 0.00028\n",
      "Iteration: 480 - Loss: 0.00027\n",
      "Iteration: 496 - Loss: 0.00026\n",
      "Iteration: 512 - Loss: 0.00025\n",
      "Final loss = 0.0002514090867207038\n"
     ]
    }
   ],
   "source": [
    "N = X_train.shape[1]\n",
    "\n",
    "logistic_model = LogisticRegressionModel(N, n_classes)\n",
    "\n",
    "logistic_model, loss = fit_data(X_train, y_train, verbose=True)\n",
    "print(\"Final loss =\", loss)"
   ]
  },
  {
   "cell_type": "code",
   "execution_count": 34,
   "metadata": {},
   "outputs": [
    {
     "name": "stdout",
     "output_type": "stream",
     "text": [
      "Number of events: 8510 - Number of features: 2312\n",
      "device -> cuda\n"
     ]
    },
    {
     "name": "stderr",
     "output_type": "stream",
     "text": [
      "<ipython-input-33-a50d66b9e8e7>:82: UserWarning: To copy construct from a tensor, it is recommended to use sourceTensor.clone().detach() or sourceTensor.clone().detach().requires_grad_(True), rather than torch.tensor(sourceTensor).\n",
      "  pred = torch.argmax(torch.tensor(output), dim=1)\n"
     ]
    },
    {
     "name": "stdout",
     "output_type": "stream",
     "text": [
      "1.8336660537479885 0.6340775558166862\n"
     ]
    }
   ],
   "source": [
    "X_test, y_test = gather_data(events_test, verbose=verbose)\n",
    "loss, accuracy = predict_data(X_test, y_test, logistic_model)\n",
    "print(round(np.mean(loss),3), round(accuracy,2))"
   ]
  },
  {
   "cell_type": "code",
   "execution_count": 20,
   "metadata": {},
   "outputs": [
    {
     "name": "stdout",
     "output_type": "stream",
     "text": [
      "8377\n"
     ]
    },
    {
     "data": {
      "text/plain": [
       "[<matplotlib.lines.Line2D at 0x7f5dfad37eb0>]"
      ]
     },
     "execution_count": 20,
     "metadata": {},
     "output_type": "execute_result"
    },
    {
     "data": {
      "image/png": "[encoded data removed]",
      "text/plain": [
       "<Figure size 432x288 with 1 Axes>"
      ]
     },
     "metadata": {
      "needs_background": "light"
     },
     "output_type": "display_data"
    }
   ],
   "source": [
    "print(len(loss))\n",
    "plt.plot(range(X_test.shape[0]), loss)"
   ]
  },
  {
   "cell_type": "code",
   "execution_count": 35,
   "metadata": {},
   "outputs": [
    {
     "name": "stdout",
     "output_type": "stream",
     "text": [
      "../Records/EXP_03_NMNIST/2020-12-21_hots_nmnist_[4, 8, 16]_5_True_None_False_False\n",
      "Number of events: 7879 - Number of features: 18496\n",
      "device -> cuda\n",
      "Iteration: 0 - Loss: 0.22358\n",
      "Iteration: 16 - Loss: 0.00411\n",
      "Iteration: 32 - Loss: 0.00208\n",
      "Iteration: 48 - Loss: 0.00126\n",
      "Iteration: 64 - Loss: 0.00083\n",
      "Iteration: 80 - Loss: 0.00061\n",
      "Iteration: 96 - Loss: 0.00047\n",
      "Iteration: 112 - Loss: 0.00037\n",
      "Iteration: 128 - Loss: 0.00031\n",
      "Iteration: 144 - Loss: 0.00027\n",
      "Iteration: 160 - Loss: 0.00023\n",
      "Iteration: 176 - Loss: 0.00021\n",
      "Iteration: 192 - Loss: 0.00019\n",
      "Iteration: 208 - Loss: 0.00017\n",
      "Iteration: 224 - Loss: 0.00015\n",
      "Iteration: 240 - Loss: 0.00014\n",
      "Iteration: 256 - Loss: 0.00013\n",
      "Iteration: 272 - Loss: 0.00012\n",
      "Iteration: 288 - Loss: 0.00011\n",
      "Iteration: 304 - Loss: 0.00011\n",
      "Iteration: 320 - Loss: 0.00010\n",
      "Iteration: 336 - Loss: 0.00009\n",
      "Iteration: 352 - Loss: 0.00009\n",
      "Iteration: 368 - Loss: 0.00009\n",
      "Iteration: 384 - Loss: 0.00008\n",
      "Iteration: 400 - Loss: 0.00008\n",
      "Iteration: 416 - Loss: 0.00007\n",
      "Iteration: 432 - Loss: 0.00007\n",
      "Iteration: 448 - Loss: 0.00007\n",
      "Iteration: 464 - Loss: 0.00007\n",
      "Iteration: 480 - Loss: 0.00006\n",
      "Iteration: 496 - Loss: 0.00006\n",
      "Iteration: 512 - Loss: 0.00006\n",
      "Final loss = 5.925250879677615e-05\n"
     ]
    }
   ],
   "source": [
    "events_train_o, events_test_o = get_events(tau, krnlinit, nblay, nbclust, homeo, records_path, timestr, dataset, sigma, homeinv, jitter, nb_train, nb_test)\n",
    "X_train, y_train = gather_data(events_train_o, verbose=verbose)\n",
    "\n",
    "n_classes = y_train.shape[1]\n",
    "N = X_train.shape[1]\n",
    "\n",
    "logistic_model = LogisticRegressionModel(N, n_classes)\n",
    "\n",
    "logistic_model, loss = fit_data(X_train, y_train, verbose=True)\n",
    "print(\"Final loss =\", loss)"
   ]
  },
  {
   "cell_type": "code",
   "execution_count": 37,
   "metadata": {},
   "outputs": [
    {
     "name": "stdout",
     "output_type": "stream",
     "text": [
      "Number of events: 2765 - Number of features: 18496\n",
      "device -> cuda\n"
     ]
    },
    {
     "name": "stderr",
     "output_type": "stream",
     "text": [
      "<ipython-input-33-a50d66b9e8e7>:82: UserWarning: To copy construct from a tensor, it is recommended to use sourceTensor.clone().detach() or sourceTensor.clone().detach().requires_grad_(True), rather than torch.tensor(sourceTensor).\n",
      "  pred = torch.argmax(torch.tensor(output), dim=1)\n"
     ]
    },
    {
     "name": "stdout",
     "output_type": "stream",
     "text": [
      "1.214 0.7\n"
     ]
    }
   ],
   "source": [
    "X_test, y_test = gather_data(events_test_o, verbose=verbose)\n",
    "loss, accuracy = predict_data(X_test, y_test, logistic_model)\n",
    "print(round(np.mean(loss),3), round(accuracy,2))"
   ]
  },
  {
   "cell_type": "code",
   "execution_count": null,
   "metadata": {},
   "outputs": [],
   "source": []
  }
 ],
 "metadata": {
  "kernelspec": {
   "display_name": "Python 3",
   "language": "python",
   "name": "python3"
  },
  "language_info": {
   "codemirror_mode": {
    "name": "ipython",
    "version": 3
   },
   "file_extension": ".py",
   "mimetype": "text/x-python",
   "name": "python",
   "nbconvert_exporter": "python",
   "pygments_lexer": "ipython3",
   "version": "3.8.5"
  }
 },
 "nbformat": 4,
 "nbformat_minor": 4
}
