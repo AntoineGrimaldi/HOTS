{
 "cells": [
  {
   "cell_type": "markdown",
   "metadata": {},
   "source": [
    "# NEW HOTS 01 - Homeostasis"
   ]
  },
  {
   "cell_type": "code",
   "execution_count": 7,
   "metadata": {
    "collapsed": false,
    "jupyter": {
     "outputs_hidden": false
    }
   },
   "outputs": [
    {
     "name": "stdout",
     "output_type": "stream",
     "text": [
      "The autoreload extension is already loaded. To reload it, use:\n",
      "  %reload_ext autoreload\n",
      "/Users/joe/Documents/boulot/git/homhots/HOTS/HOTS\n"
     ]
    }
   ],
   "source": [
    "%load_ext autoreload\n",
    "%autoreload 2\n",
    "%matplotlib inline\n",
    "%cd '../HOTS'"
   ]
  },
  {
   "cell_type": "code",
   "execution_count": 8,
   "metadata": {
    "collapsed": false,
    "jupyter": {
     "outputs_hidden": false
    }
   },
   "outputs": [],
   "source": [
    "import numpy as np\n",
    "import matplotlib.pyplot as plt\n",
    "import cv2\n",
    "import time\n",
    "import os\n",
    "import pickle\n",
    "from mix_Network import *\n",
    "from Event import Event\n",
    "import ipywidgets"
   ]
  },
  {
   "cell_type": "markdown",
   "metadata": {},
   "source": [
    "# Test of homeostasis rule on Lagorce 2017 results"
   ]
  },
  {
   "cell_type": "code",
   "execution_count": null,
   "metadata": {},
   "outputs": [
    {
     "name": "stderr",
     "output_type": "stream",
     "text": [
      "100%|██████████| 223371/223371 [01:05<00:00, 3388.04it/s]\n",
      "100%|██████████| 223371/223371 [02:12<00:00, 1690.94it/s]\n",
      "  0%|          | 894/223371 [00:00<03:55, 943.99it/s] "
     ]
    }
   ],
   "source": [
    "homhots = network(algo='lagorce', krnlinit='first', tau=20, homeo=True)\n",
    "homhots.learninglagorce(diginit=True)"
   ]
  },
  {
   "cell_type": "code",
   "execution_count": null,
   "metadata": {},
   "outputs": [],
   "source": [
    "homhots.plotlayer()\n",
    "homhots.plotconv()"
   ]
  },
  {
   "cell_type": "code",
   "execution_count": null,
   "metadata": {},
   "outputs": [],
   "source": [
    "trainmap = homhots.traininglagorce()"
   ]
  },
  {
   "cell_type": "code",
   "execution_count": null,
   "metadata": {},
   "outputs": [],
   "source": [
    "testmap = homhots.testinglagorce(trainmap)"
   ]
  },
  {
   "cell_type": "code",
   "execution_count": null,
   "metadata": {},
   "outputs": [],
   "source": [
    "fname = \"../Records/EXP_01_LagorceKmeans/2020-12-01-mix_hots_homeo.pkl\"\n",
    "with open(fname, 'wb') as file:\n",
    "    pickle.dump([hots, trainmap, testmap], file, pickle.HIGHEST_PROTOCOL)"
   ]
  },
  {
   "cell_type": "markdown",
   "metadata": {},
   "source": [
    "# Random initialisation"
   ]
  },
  {
   "cell_type": "code",
   "execution_count": null,
   "metadata": {},
   "outputs": [],
   "source": [
    "fname = \"../Records/EXP_01_LagorceKmeans/2020-12-01-mix_hots_homeo_randominit.pkl\"\n",
    "if not os.path.isfile(fname):\n",
    "    homhotsrdn = network(algo='lagorce', krnlinit='rdn', tau=20, homeo=True)\n",
    "    homhotsrdn.learninglagorce()\n",
    "    homhotsrdn.plotlayer()\n",
    "    trainmaprdnhom = homhotsrdn.traininglagorce()\n",
    "    testmaprdnhom = homhotsrdn.testinglagorce(trainmaprdnhom)\n",
    "    with open(fname, 'wb') as file:\n",
    "        pickle.dump([homhotsrdn, trainmaprdnhom, testmaprdnhom], file, pickle.HIGHEST_PROTOCOL)\n",
    "else:\n",
    "    with open(fname, 'rb') as file:\n",
    "        homhotsrdn, trainmaprdnhom, testmaprdnhom = pickle.load(file)\n",
    "    homhotsrdn.plotlayer()"
   ]
  },
  {
   "cell_type": "code",
   "execution_count": null,
   "metadata": {},
   "outputs": [],
   "source": []
  }
 ],
 "metadata": {
  "kernelspec": {
   "display_name": "Python 3",
   "language": "python",
   "name": "python3"
  },
  "language_info": {
   "codemirror_mode": {
    "name": "ipython",
    "version": 3
   },
   "file_extension": ".py",
   "mimetype": "text/x-python",
   "name": "python",
   "nbconvert_exporter": "python",
   "pygments_lexer": "ipython3",
   "version": "3.7.9"
  }
 },
 "nbformat": 4,
 "nbformat_minor": 4
}
