{
 "cells": [
  {
   "cell_type": "markdown",
   "metadata": {},
   "source": [
    "# NEW HOTS 01 - Homeostasis"
   ]
  },
  {
   "cell_type": "code",
   "execution_count": 1,
   "metadata": {
    "collapsed": false,
    "jupyter": {
     "outputs_hidden": false
    }
   },
   "outputs": [
    {
     "name": "stdout",
     "output_type": "stream",
     "text": [
      "/Users/laurentperrinet/quantic/science/HomeHots/HOTS_clone_laurent/HOTS\n"
     ]
    }
   ],
   "source": [
    "#%load_ext autoreload\n",
    "#%autoreload 2\n",
    "%matplotlib inline\n",
    "%cd '../HOTS'"
   ]
  },
  {
   "cell_type": "code",
   "execution_count": 2,
   "metadata": {
    "collapsed": false,
    "jupyter": {
     "outputs_hidden": false
    }
   },
   "outputs": [],
   "source": [
    "import os\n",
    "import pickle\n",
    "from mix_Network import *"
   ]
  },
  {
   "cell_type": "markdown",
   "metadata": {},
   "source": [
    "# Test of homeostasis rule on Lagorce 2017 results"
   ]
  },
  {
   "cell_type": "code",
   "execution_count": null,
   "metadata": {},
   "outputs": [
    {
     "name": "stderr",
     "output_type": "stream",
     "text": [
      "100%|██████████| 223371/223371 [00:27<00:00, 8060.12it/s]\n",
      "100%|██████████| 223371/223371 [01:04<00:00, 3457.35it/s]\n",
      " 10%|▉         | 22270/223371 [00:15<02:13, 1502.97it/s]"
     ]
    }
   ],
   "source": [
    "homhots = network(algo='lagorce', krnlinit='first', tau=20, homeo=True)\n",
    "homhots.learninglagorce(diginit=True)"
   ]
  },
  {
   "cell_type": "code",
   "execution_count": null,
   "metadata": {},
   "outputs": [],
   "source": [
    "homhots.plotlayer()\n",
    "homhots.plotconv()"
   ]
  },
  {
   "cell_type": "code",
   "execution_count": null,
   "metadata": {},
   "outputs": [],
   "source": [
    "trainmap = homhots.traininglagorce()"
   ]
  },
  {
   "cell_type": "code",
   "execution_count": null,
   "metadata": {},
   "outputs": [],
   "source": [
    "testmap = homhots.testinglagorce(trainmap)"
   ]
  },
  {
   "cell_type": "code",
   "execution_count": null,
   "metadata": {},
   "outputs": [],
   "source": [
    "fname = \"../Records/EXP_01_LagorceKmeans/2020-12-01-mix_hots_homeo.pkl\"\n",
    "with open(fname, 'wb') as file:\n",
    "    pickle.dump([homhots, trainmap, testmap], file, pickle.HIGHEST_PROTOCOL)"
   ]
  },
  {
   "cell_type": "markdown",
   "metadata": {},
   "source": [
    "# Random initialisation"
   ]
  },
  {
   "cell_type": "code",
   "execution_count": null,
   "metadata": {},
   "outputs": [],
   "source": [
    "fname = \"../Records/EXP_01_LagorceKmeans/2020-12-01-mix_hots_homeo_randominit.pkl\"\n",
    "if not os.path.isfile(fname):\n",
    "    homhotsrdn = network(algo='lagorce', krnlinit='rdn', tau=20, homeo=True)\n",
    "    homhotsrdn.learninglagorce()\n",
    "    homhotsrdn.plotlayer()\n",
    "    trainmaprdnhom = homhotsrdn.traininglagorce()\n",
    "    testmaprdnhom = homhotsrdn.testinglagorce(trainmaprdnhom)\n",
    "    with open(fname, 'wb') as file:\n",
    "        pickle.dump([homhotsrdn, trainmaprdnhom, testmaprdnhom], file, pickle.HIGHEST_PROTOCOL)\n",
    "else:\n",
    "    with open(fname, 'rb') as file:\n",
    "        homhotsrdn, trainmaprdnhom, testmaprdnhom = pickle.load(file)\n",
    "    homhotsrdn.plotlayer()"
   ]
  },
  {
   "cell_type": "code",
   "execution_count": null,
   "metadata": {},
   "outputs": [],
   "source": []
  }
 ],
 "metadata": {
  "kernelspec": {
   "display_name": "hots",
   "language": "python",
   "name": "hots"
  },
  "language_info": {
   "codemirror_mode": {
    "name": "ipython",
    "version": 3
   },
   "file_extension": ".py",
   "mimetype": "text/x-python",
   "name": "python",
   "nbconvert_exporter": "python",
   "pygments_lexer": "ipython3",
   "version": "3.8.5"
  }
 },
 "nbformat": 4,
 "nbformat_minor": 4
}
