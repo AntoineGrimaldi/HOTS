{
 "cells": [
  {
   "cell_type": "code",
   "execution_count": 1,
   "metadata": {},
   "outputs": [
    {
     "name": "stdout",
     "output_type": "stream",
     "text": [
      "/Users/laurentperrinet/quantic/science/HomeHots/HOTS_clone_laurent\n"
     ]
    }
   ],
   "source": [
    "#%load_ext autoreload\n",
    "#%autoreload 2\n",
    "%matplotlib inline\n",
    "%cd '../'"
   ]
  },
  {
   "cell_type": "code",
   "execution_count": 2,
   "metadata": {},
   "outputs": [
    {
     "name": "stdout",
     "output_type": "stream",
     "text": [
      " Running this notebook directly =  True\n"
     ]
    }
   ],
   "source": [
    "# https://laurentperrinet.github.io/sciblog/posts/2020-08-09-nesting-jupyter-runs.html\n",
    "    \n",
    "#verb =  (__name__ == \"__main__\")\n",
    "def has_parent():\n",
    "    \"\"\"\n",
    "    https://stackoverflow.com/questions/48067529/ipython-run-magic-n-switch-not-working\n",
    "    \n",
    "    Return True if this notebook is being run by calling\n",
    "    %run in another notebook, False otherwise.\n",
    "    \"\"\"\n",
    "    try:\n",
    "        __file__\n",
    "        # __file__ has been defined, so this notebook is \n",
    "        # being run in a parent notebook\n",
    "        return True\n",
    "\n",
    "    except NameError:\n",
    "        # __file__ has not been defined, so this notebook is \n",
    "        # not being run in a parent notebook\n",
    "        return False\n",
    "def do_verb():\n",
    "    return not has_parent()\n",
    "\n",
    "\n",
    "do_it = do_verb()\n",
    "if do_it : print(' Running this notebook directly = ', do_it)    \n"
   ]
  },
  {
   "cell_type": "code",
   "execution_count": 3,
   "metadata": {},
   "outputs": [],
   "source": [
    "import numpy as np\n",
    "import matplotlib.pyplot as plt\n",
    "import os\n",
    "import time\n",
    "# \n",
    "# https://en.wikipedia.org/wiki/ISO_8601\n",
    "import datetime\n",
    "timestr = datetime.datetime.now().date().isoformat()\n",
    "timestr = '2020-11-03'\n",
    "tau = 9e-4\n",
    "\n",
    "from HOTS.Event import conv2eve\n",
    "from HOTS.Tools import SaveObject, LoadObject\n",
    "\n",
    "ds = 10\n",
    "ds = 1\n",
    "NbClusteringData = 2500//ds\n",
    "NbTrainingData = 5000//ds\n",
    "NbTestingData = 1500//ds"
   ]
  },
  {
   "cell_type": "code",
   "execution_count": 4,
   "metadata": {},
   "outputs": [],
   "source": [
    "def get_nmnist(timestr, NbTrainingData, NbTestingData, NbClusteringData, DataPath='Data/testsetnmnist.p', verbose=False):\n",
    "    fname_event_nmnist = f'Records/EXP_03_NMNIST/{timestr}_hots_event_nmnist.pkl'\n",
    "    # print(help(LoadNMNIST))\n",
    "    try:\n",
    "        dataset = LoadObject(fname_event_nmnist)\n",
    "        if verbose: print('loading the events from file', fname_event_nmnist)\n",
    "    except:\n",
    "        from HOTS.Event import LoadNMNIST\n",
    "        dataset = LoadNMNIST(NbTrainingData, NbTestingData, NbClusteringData, \n",
    "                             Path=DataPath, verbose=0)\n",
    "        SaveObject(dataset, fname_event_nmnist)\n",
    "        if verbose: print('saving the events to file', fname_event_nmnist)\n",
    "\n",
    "    events_train, events_test, event_cluster, labels_train, labels_test = dataset\n",
    "    return events_train, events_test, event_cluster, labels_train, labels_test\n"
   ]
  },
  {
   "cell_type": "code",
   "execution_count": 5,
   "metadata": {},
   "outputs": [],
   "source": [
    "def get_events(timestr, NbTrainingData=NbTrainingData, NbTestingData=NbTestingData, NbClusteringData=NbClusteringData, \n",
    "               tau=tau, N_layer=3, # -> tau=1ms, si on prend 10 ms on est à 1s pour la dernière couche et les vidéos font 0.3s en moyenne\n",
    "               homeo=True, homrun = False, verbose=False):\n",
    "    R = 2    \n",
    "    filthr = 2\n",
    "    nbkNN = 3\n",
    "    algo = 'lagorce'\n",
    "    decay = 'exponential'\n",
    "    krnlinit = 'rdn'\n",
    "    #nb_cluster = [4, 8, 16]\n",
    "    nb_cluster = [4*(2**i_layer) for i_layer in range(N_layer)]\n",
    "\n",
    "    fname_ = f'Records/EXP_03_NMNIST/{timestr}_hots_{tau*1000}'\n",
    "        \n",
    "    label = '_homeo' if homeo else ''\n",
    "    \n",
    "    fname_model = fname_ + 'ms_' + algo + label + '.pkl'\n",
    "    fname_event0_o = fname_ + '_event_out_' + algo + label + '.pkl'\n",
    "\n",
    "    if not os.path.isfile(fname_event0_o):            \n",
    "        if verbose: print('creating the events in file', fname_event0_o)\n",
    "        from HOTS.Event import Event, LoadNMNIST\n",
    "\n",
    "        events_train, events_test, event_cluster, labels_train, labels_test = get_nmnist(timestr, NbTrainingData, NbTestingData, NbClusteringData)\n",
    "        \n",
    "        from HOTS.Layer import ClusteringLayer\n",
    "        opts_layer = dict(verbose=0, ThrFilter=filthr, LearningAlgo=algo, kernel=decay, homeo=homeo, init=krnlinit)\n",
    "        layers = []\n",
    "        for i_layer in range(N_layer):\n",
    "            layers.append(ClusteringLayer(tau=(10**i_layer)*tau, R=(2**i_layer)*R, **opts_layer))\n",
    "        #L1 = ClusteringLayer(tau=tau, R=R, **opts_layer)\n",
    "        #L2 = ClusteringLayer(tau=10 * tau, R=2 * R, , **opts_layer)\n",
    "        #L3 = ClusteringLayer(tau=10 * 10 * tau, R=2 * 2 * R, **opts_layer)\n",
    "\n",
    "        from HOTS.Network import Network\n",
    "        Net = Network(layers)#[L1, L2, L3])    \n",
    "\n",
    "        if not os.path.isfile(fname_model):\n",
    "            if verbose: print('learning model', fname_model)\n",
    "            ClusterLayer, event_output = Net.TrainCluster(\n",
    "                    event=event_cluster, NbClusterList=nb_cluster, to_record=True, NbCycle=1\n",
    "                )\n",
    "            SaveObject(ClusterLayer, fname_model)\n",
    "        else: \n",
    "            if verbose: print('loading model from file', fname_model)\n",
    "\n",
    "            ClusterLayer, Classif0 = LoadObject(fname_model)\n",
    "\n",
    "        if verbose: print('run the events through the network')\n",
    "        \n",
    "        events_train_o = Net.RunNetwork(events_train, NbClusterList=ClusterLayer, homrun=homrun)\n",
    "        events_test_o = Net.RunNetwork(events_test, NbClusterList=ClusterLayer, homrun=homrun)\n",
    "        SaveObject([events_train, events_test], fname_event0_o)\n",
    "    else: \n",
    "        if verbose: print('loading the events from file', fname_event0_o)\n",
    "        events_train_o, events_test_o = LoadObject(fname_event0_o)\n",
    "        \n",
    "    return events_train_o, events_test_o\n"
   ]
  },
  {
   "cell_type": "markdown",
   "metadata": {},
   "source": [
    "### Building matrix for logistic regression"
   ]
  },
  {
   "cell_type": "code",
   "execution_count": 6,
   "metadata": {},
   "outputs": [],
   "source": [
    "def gather_data(events_in, labels_in, \n",
    "                tau_cla=.150, # characteristic time of a digit \n",
    "                sample_events=200, sample_space = 1,\n",
    "                verbose=False, debug=False):\n",
    "    \n",
    "    c_int = lambda n, d : ((n - 1) // d) + 1\n",
    "\n",
    "    n_events = events_in.time.shape[0]\n",
    "\n",
    "    data = np.zeros((c_int(events_in.ImageSize[0], sample_space), \n",
    "                     c_int(events_in.ImageSize[1], sample_space), \n",
    "                     len(events_in.ListPolarities))) #tmp data\n",
    "\n",
    "    X = np.zeros((c_int(n_events, sample_events), len(data.ravel())))\n",
    "    y = np.zeros((c_int(n_events, sample_events), ))\n",
    "\n",
    "    for i_event in range(1, n_events):\n",
    "        \n",
    "        data *= np.exp(-(events_in.time[i_event]-events_in.time[i_event-1])/tau_cla)\n",
    "\n",
    "        x_pos = events_in.address[i_event, 0]//sample_space\n",
    "        y_pos = events_in.address[i_event, 1]//sample_space\n",
    "        p = events_in.polarity[i_event]\n",
    "        data[x_pos, y_pos, p] = 1.\n",
    "\n",
    "        if i_event % sample_events == sample_events//2 :\n",
    "            if debug: \n",
    "                print(f'DEBUG {i_event=} {i_event//sample_events=} ')\n",
    "                print(f'DEBUG {y[i_event//sample_events]=}   ')\n",
    "                print(f'DEBUG  {labels_in[i_event]=} ')\n",
    "            X[i_event//sample_events, :] = data.ravel()\n",
    "            y[i_event//sample_events] = labels_in[i_event]\n",
    "            \n",
    "\n",
    "    if verbose: print('Number of events: ' + str(X.shape[0])+' - Number of features: ' + str(X.shape[1]))\n",
    "\n",
    "    return X, y\n"
   ]
  },
  {
   "cell_type": "markdown",
   "metadata": {},
   "source": [
    "### Performing logistic regression \n",
    "\n",
    "https://scikit-learn.org/stable/modules/generated/sklearn.linear_model.LogisticRegressionCV.html\n"
   ]
  },
  {
   "cell_type": "code",
   "execution_count": 7,
   "metadata": {},
   "outputs": [],
   "source": [
    "from sklearn.linear_model import LogisticRegression as LR\n",
    "# from sklearn.linear_model import LogisticRegressionCV as LR\n",
    "# from sklearn.model_selection import train_test_split\n",
    "\n",
    "opts_LR = dict(max_iter=400//ds, # random_state=0, \n",
    "               n_jobs=32, class_weight='balanced', verbose=2)\n",
    "#opts_LR['Cs'] = 5\n",
    "#opts_LR['Cs'] = 32\n"
   ]
  },
  {
   "cell_type": "markdown",
   "metadata": {},
   "source": [
    "### Performing logistic regression on raw input"
   ]
  },
  {
   "cell_type": "code",
   "execution_count": 8,
   "metadata": {},
   "outputs": [],
   "source": [
    "def tic():\n",
    "    global ttic\n",
    "    ttic = time.time()\n",
    "def toc():\n",
    "    print(f'Done in {time.time() - ttic:.3f} s')"
   ]
  },
  {
   "cell_type": "code",
   "execution_count": 9,
   "metadata": {},
   "outputs": [
    {
     "name": "stdout",
     "output_type": "stream",
     "text": [
      "loading the events from file Records/EXP_03_NMNIST/2020-11-03_hots_event_nmnist.pkl\n",
      "Done in 0.775 s\n",
      "[0 1]\n"
     ]
    }
   ],
   "source": [
    "if do_it : \n",
    "    tic()\n",
    "    dataset = get_nmnist(timestr, NbTrainingData, NbTestingData, NbClusteringData, verbose=True)\n",
    "    events_train, events_test, events_cluster, labels_train, labels_test = dataset\n",
    "    toc()\n",
    "    print(events_train.ListPolarities)"
   ]
  },
  {
   "cell_type": "code",
   "execution_count": 10,
   "metadata": {},
   "outputs": [
    {
     "name": "stdout",
     "output_type": "stream",
     "text": [
      "Done in 200.068 s\n",
      "Classification score for raw input is 0.925\n",
      "Done in 2226.524 s\n",
      "Classification score for raw input is 0.668\n",
      "Done in 42.422 s\n"
     ]
    }
   ],
   "source": [
    "if do_it : \n",
    "    #opts_LR = dict(random_state=0, max_iter=500, n_jobs=10, class_weight='balanced')\n",
    "    opt_gather = dict(sample_events=100, sample_space = 4, verbose=True)\n",
    "    opt_gather = dict()\n",
    "\n",
    "    tic()\n",
    "    X_train, y_train = gather_data(events_train, labels_train,  **opt_gather)\n",
    "    toc()\n",
    "\n",
    "    tic()\n",
    "    lr = LR(**opts_LR).fit(X_train, y_train)\n",
    "    print(f'Classification score for raw input is {lr.score(X_train, y_train):.3f}')\n",
    "    toc()\n",
    "\n",
    "    tic()\n",
    "    X_test, y_test = gather_data(events_test, labels_test,  **opt_gather)\n",
    "    print(f'Classification score for raw input is {lr.score(X_test, y_test):.3f}')\n",
    "    toc()\n",
    "    "
   ]
  },
  {
   "cell_type": "raw",
   "metadata": {},
   "source": [
    "### Performing (again) logistic regression on raw input"
   ]
  },
  {
   "cell_type": "raw",
   "metadata": {},
   "source": [
    "if do_it : \n",
    "    tic = time.time()\n",
    "    events_train_o, events_test_o = get_events(timestr, tau=tau, homeo=True, verbose=True)\n",
    "    print(f'Done in {time.time() - tic:.3f} s')\n",
    "\n",
    "    tic = time.time()\n",
    "    X_train, y_train = gather_data(events_train, labels_train,  **opt_gather)\n",
    "    print(f'Done in {time.time() - tic:.3f} s')\n",
    "\n",
    "    tic = time.time()\n",
    "    lr = LR(**opts_LR).fit(X_train, y_train)\n",
    "    print(f'Classification score for raw input is {lr.score(X_train, y_train):.3f}')\n",
    "    print(f'Done in {time.time() - tic:.3f} s')\n",
    "\n",
    "    tic = time.time()\n",
    "    X_test, y_test = gather_data(events_test, labels_test,  **opt_gather)\n",
    "    print(f'Done in {time.time() - tic:.3f} s')\n",
    "    print(f'Classification score for raw input is {lr.score(X_test, y_test):.3f}')\n"
   ]
  }
 ],
 "metadata": {
  "kernelspec": {
   "display_name": "hots",
   "language": "python",
   "name": "hots"
  },
  "language_info": {
   "codemirror_mode": {
    "name": "ipython",
    "version": 3
   },
   "file_extension": ".py",
   "mimetype": "text/x-python",
   "name": "python",
   "nbconvert_exporter": "python",
   "pygments_lexer": "ipython3",
   "version": "3.8.3"
  }
 },
 "nbformat": 4,
 "nbformat_minor": 4
}
