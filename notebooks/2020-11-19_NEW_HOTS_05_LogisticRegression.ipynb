{
 "cells": [
  {
   "cell_type": "code",
   "execution_count": 1,
   "metadata": {
    "execution": {
     "iopub.execute_input": "2020-11-19T16:01:21.572001Z",
     "iopub.status.busy": "2020-11-19T16:01:21.570743Z",
     "iopub.status.idle": "2020-11-19T16:01:22.591197Z",
     "shell.execute_reply": "2020-11-19T16:01:22.591723Z"
    }
   },
   "outputs": [
    {
     "name": "stdout",
     "output_type": "stream",
     "text": [
      "/Users/laurentperrinet/quantic/science/HomeHots/HOTS_clone_laurent\n"
     ]
    }
   ],
   "source": [
    "#%load_ext autoreload\n",
    "#%autoreload 2\n",
    "%matplotlib inline\n",
    "%cd '../'"
   ]
  },
  {
   "cell_type": "code",
   "execution_count": 2,
   "metadata": {
    "execution": {
     "iopub.execute_input": "2020-11-19T16:01:22.597692Z",
     "iopub.status.busy": "2020-11-19T16:01:22.597088Z",
     "iopub.status.idle": "2020-11-19T16:01:22.599007Z",
     "shell.execute_reply": "2020-11-19T16:01:22.599473Z"
    }
   },
   "outputs": [
    {
     "name": "stdout",
     "output_type": "stream",
     "text": [
      " Running this notebook directly =  True\n"
     ]
    }
   ],
   "source": [
    "# https://laurentperrinet.github.io/sciblog/posts/2020-08-09-nesting-jupyter-runs.html\n",
    "    \n",
    "#verb =  (__name__ == \"__main__\")\n",
    "def has_parent():\n",
    "    \"\"\"\n",
    "    https://stackoverflow.com/questions/48067529/ipython-run-magic-n-switch-not-working\n",
    "    \n",
    "    Return True if this notebook is being run by calling\n",
    "    %run in another notebook, False otherwise.\n",
    "    \"\"\"\n",
    "    try:\n",
    "        __file__\n",
    "        # __file__ has been defined, so this notebook is \n",
    "        # being run in a parent notebook\n",
    "        return True\n",
    "\n",
    "    except NameError:\n",
    "        # __file__ has not been defined, so this notebook is \n",
    "        # not being run in a parent notebook\n",
    "        return False\n",
    "def do_verb():\n",
    "    return not has_parent()\n",
    "\n",
    "\n",
    "do_it = do_verb()\n",
    "if do_it : print(' Running this notebook directly = ', do_it)    \n"
   ]
  },
  {
   "cell_type": "code",
   "execution_count": 3,
   "metadata": {
    "execution": {
     "iopub.execute_input": "2020-11-19T16:01:22.604668Z",
     "iopub.status.busy": "2020-11-19T16:01:22.604060Z",
     "iopub.status.idle": "2020-11-19T16:01:23.504162Z",
     "shell.execute_reply": "2020-11-19T16:01:23.504841Z"
    }
   },
   "outputs": [],
   "source": [
    "import numpy as np\n",
    "import matplotlib.pyplot as plt\n",
    "import os\n",
    "import time\n",
    "# \n",
    "# https://en.wikipedia.org/wiki/ISO_8601\n",
    "import datetime\n",
    "timestr = datetime.datetime.now().date().isoformat()\n",
    "timestr = '20201021'\n",
    "timestr = '2020-11-03'\n",
    "tau = 9e-4\n",
    "\n",
    "from HOTS.Event import conv2eve\n",
    "from HOTS.Tools import SaveObject, LoadObject\n",
    "\n",
    "ds = 10\n",
    "ds = 1\n",
    "NbClusteringData = 2500//ds\n",
    "NbTrainingData = 5000//ds\n",
    "NbTestingData = 1500//ds"
   ]
  },
  {
   "cell_type": "code",
   "execution_count": 4,
   "metadata": {
    "execution": {
     "iopub.execute_input": "2020-11-19T16:01:23.510743Z",
     "iopub.status.busy": "2020-11-19T16:01:23.510120Z",
     "iopub.status.idle": "2020-11-19T16:01:23.511933Z",
     "shell.execute_reply": "2020-11-19T16:01:23.512448Z"
    }
   },
   "outputs": [],
   "source": [
    "def get_nmnist(timestr, NbTrainingData, NbTestingData, NbClusteringData, DataPath='Data/testsetnmnist.p', verbose=False):\n",
    "    fname_event_nmnist = f'Records/EXP_03_NMNIST/{timestr}_hots_event_nmnist.pkl'\n",
    "    # print(help(LoadNMNIST))\n",
    "    try:\n",
    "        dataset = LoadObject(fname_event_nmnist)\n",
    "        if verbose: print('loading the events from file', fname_event_nmnist)\n",
    "    except:\n",
    "        from HOTS.Event import LoadNMNIST\n",
    "        dataset = LoadNMNIST(NbTrainingData, NbTestingData, NbClusteringData, \n",
    "                             Path=DataPath, verbose=0)\n",
    "        SaveObject(dataset, fname_event_nmnist)\n",
    "        if verbose: print('saving the events to file', fname_event_nmnist)\n",
    "\n",
    "    events_train, events_test, event_cluster, labels_train, labels_test = dataset\n",
    "    return events_train, events_test, event_cluster, labels_train, labels_test\n"
   ]
  },
  {
   "cell_type": "code",
   "execution_count": 5,
   "metadata": {
    "execution": {
     "iopub.execute_input": "2020-11-19T16:01:23.523178Z",
     "iopub.status.busy": "2020-11-19T16:01:23.522540Z",
     "iopub.status.idle": "2020-11-19T16:01:23.524265Z",
     "shell.execute_reply": "2020-11-19T16:01:23.524861Z"
    }
   },
   "outputs": [],
   "source": [
    "def get_events(timestr, NbTrainingData=NbTrainingData, NbTestingData=NbTestingData, NbClusteringData=NbClusteringData, \n",
    "               tau=tau, # -> tau=1ms, si on prend 10 ms on est à 1s pour la dernière couche et les vidéos font 0.3s en moyenne\n",
    "               homeo=True, homrun = False, verbose=False):\n",
    "    R = 2    \n",
    "    filthr = 2\n",
    "    nbkNN = 3\n",
    "    algo = 'lagorce'\n",
    "    decay = 'exponential'\n",
    "    krnlinit = 'rdn'\n",
    "    nb_cluster = [4, 8, 16]\n",
    "\n",
    "    fname_ = f'Records/EXP_03_NMNIST/{timestr}_hots_{tau*1000}'\n",
    "        \n",
    "    label = '_homeo' if homeo else ''\n",
    "    \n",
    "    fname_model = fname_ + 'ms_' + algo + label + '.pkl'\n",
    "    fname_event0_o = fname_ + '_event_out_' + algo + label + '.pkl'\n",
    "\n",
    "    if not os.path.isfile(fname_event0_o):            \n",
    "        if verbose: print('creating the events in file', fname_event0_o)\n",
    "        from HOTS.Event import Event, LoadNMNIST\n",
    "\n",
    "        events_train, events_test, event_cluster, labels_train, labels_test = get_nmnist(timestr, NbTrainingData, NbTestingData, NbClusteringData)\n",
    "        \n",
    "        from HOTS.Layer import ClusteringLayer\n",
    "        L1 = ClusteringLayer(tau=tau,R=R,verbose=0,ThrFilter=filthr,LearningAlgo=algo,kernel=decay,homeo=homeo,init=krnlinit)\n",
    "        L2 = ClusteringLayer(tau=10 * tau,R=2 * R,verbose=0,ThrFilter=filthr,LearningAlgo=algo,kernel=decay,homeo=homeo,init=krnlinit)\n",
    "        L3 = ClusteringLayer(tau=10 * 10 * tau,R=2 * 2 * R,verbose=0,ThrFilter=filthr,LearningAlgo=algo,kernel=decay,homeo=homeo,init=krnlinit)\n",
    "\n",
    "        from HOTS.Network import Network\n",
    "        Net = Network([L1, L2, L3])    \n",
    "\n",
    "        if not os.path.isfile(fname_model):\n",
    "            ClusterLayer, event_output = Net.TrainCluster(\n",
    "                    event=event_cluster, NbClusterList=nb_cluster, to_record=True, NbCycle=1\n",
    "                )\n",
    "            SaveObject(ClusterLayer, fname_model)\n",
    "        else: \n",
    "            if verbose: print('loading model from file', fname_model)\n",
    "\n",
    "            ClusterLayer, Classif0 = LoadObject(fname_model)\n",
    "\n",
    "        if verbose: print('run the events through the network')\n",
    "        \n",
    "        events_train_o = Net.RunNetwork(events_train, NbClusterList=ClusterLayer, homrun=homrun)\n",
    "        events_test_o = Net.RunNetwork(events_test, NbClusterList=ClusterLayer, homrun=homrun)\n",
    "        SaveObject([events_train, events_test], fname_event0_o)\n",
    "    else: \n",
    "        if verbose: print('loading the events from file', fname_event0_o)\n",
    "        events_train_o, events_test_o = LoadObject(fname_event0_o)\n",
    "        \n",
    "    return events_train_o, events_test_o\n"
   ]
  },
  {
   "cell_type": "markdown",
   "metadata": {},
   "source": [
    "### Building matrix for logistic regression"
   ]
  },
  {
   "cell_type": "code",
   "execution_count": 6,
   "metadata": {
    "execution": {
     "iopub.execute_input": "2020-11-19T16:01:23.533060Z",
     "iopub.status.busy": "2020-11-19T16:01:23.532421Z",
     "iopub.status.idle": "2020-11-19T16:01:23.534238Z",
     "shell.execute_reply": "2020-11-19T16:01:23.534816Z"
    }
   },
   "outputs": [],
   "source": [
    "def gather_data(events_in, labels_in, \n",
    "                tau_cla=.150, # characteristic time of a digit \n",
    "                sample_events=200, sample_space = 1,\n",
    "                verbose=False, debug=False):\n",
    "    \n",
    "    c_int = lambda n, d : ((n - 1) // d) + 1\n",
    "\n",
    "    n_events = events_in.time.shape[0]\n",
    "\n",
    "    data = np.zeros((c_int(events_in.ImageSize[0], sample_space), \n",
    "                     c_int(events_in.ImageSize[1], sample_space), \n",
    "                     len(events_in.ListPolarities))) #tmp data\n",
    "\n",
    "    X = np.zeros((c_int(n_events, sample_events), len(data.ravel())))\n",
    "    y = np.zeros((c_int(n_events, sample_events), ))\n",
    "\n",
    "    for i_event in range(1, n_events):\n",
    "        \n",
    "        data *= np.exp(-(events_in.time[i_event]-events_in.time[i_event-1])/tau_cla)\n",
    "\n",
    "        x_pos = events_in.address[i_event, 0]//sample_space\n",
    "        y_pos = events_in.address[i_event, 1]//sample_space\n",
    "        p = events_in.polarity[i_event]\n",
    "        data[x_pos, y_pos, p] = 1.\n",
    "\n",
    "        if i_event % sample_events == sample_events//2 :\n",
    "            if debug: \n",
    "                print(f'DEBUG {i_event=} {i_event//sample_events=} ')\n",
    "                print(f'DEBUG {y[i_event//sample_events]=}   ')\n",
    "                print(f'DEBUG  {labels_in[i_event]=} ')\n",
    "            X[i_event//sample_events, :] = data.ravel()\n",
    "            y[i_event//sample_events] = labels_in[i_event]\n",
    "            \n",
    "\n",
    "    if verbose: print('Number of events: ' + str(X.shape[0])+' - Number of features: ' + str(X.shape[1]))\n",
    "\n",
    "    return X, y\n"
   ]
  },
  {
   "cell_type": "markdown",
   "metadata": {},
   "source": [
    "### Performing logistic regression \n",
    "\n",
    "https://scikit-learn.org/stable/modules/generated/sklearn.linear_model.LogisticRegressionCV.html\n"
   ]
  },
  {
   "cell_type": "code",
   "execution_count": 7,
   "metadata": {
    "execution": {
     "iopub.execute_input": "2020-11-19T16:01:23.538429Z",
     "iopub.status.busy": "2020-11-19T16:01:23.537856Z",
     "iopub.status.idle": "2020-11-19T16:01:25.106647Z",
     "shell.execute_reply": "2020-11-19T16:01:25.107194Z"
    }
   },
   "outputs": [],
   "source": [
    "from sklearn.linear_model import LogisticRegression as LR\n",
    "# from sklearn.linear_model import LogisticRegressionCV as LR\n",
    "from sklearn.model_selection import train_test_split\n",
    "\n",
    "opts_LR = dict(max_iter=5000//ds, # random_state=0, \n",
    "               n_jobs=-1, class_weight='balanced')\n",
    "#opts_LR['Cs'] = 5\n",
    "#opts_LR['Cs'] = 32\n"
   ]
  },
  {
   "cell_type": "markdown",
   "metadata": {},
   "source": [
    "### Performing logistic regression on raw input"
   ]
  },
  {
   "cell_type": "code",
   "execution_count": 8,
   "metadata": {
    "execution": {
     "iopub.execute_input": "2020-11-19T16:01:25.111322Z",
     "iopub.status.busy": "2020-11-19T16:01:25.110634Z",
     "iopub.status.idle": "2020-11-19T16:01:25.112215Z",
     "shell.execute_reply": "2020-11-19T16:01:25.112697Z"
    }
   },
   "outputs": [],
   "source": [
    "def tic():\n",
    "    global tic\n",
    "    tic = time.time()\n",
    "def toc():\n",
    "    print(f'Done in {time.time() - tic:.3f} s')"
   ]
  },
  {
   "cell_type": "code",
   "execution_count": 9,
   "metadata": {
    "execution": {
     "iopub.execute_input": "2020-11-19T16:01:25.116326Z",
     "iopub.status.busy": "2020-11-19T16:01:25.115768Z",
     "iopub.status.idle": "2020-11-19T16:01:26.786938Z",
     "shell.execute_reply": "2020-11-19T16:01:26.787517Z"
    }
   },
   "outputs": [
    {
     "name": "stdout",
     "output_type": "stream",
     "text": [
      "loading the events from file Records/EXP_03_NMNIST/2020-11-03_hots_event_nmnist.pkl\n",
      "Done in 1.667 s\n",
      "[0 1]\n"
     ]
    }
   ],
   "source": [
    "if do_it : \n",
    "    tic()\n",
    "    dataset = get_nmnist(timestr, NbTrainingData, NbTestingData, NbClusteringData, verbose=True)\n",
    "    events_train, events_test, events_cluster, labels_train, labels_test = dataset\n",
    "    toc()\n",
    "    print(events_train.ListPolarities)"
   ]
  },
  {
   "cell_type": "code",
   "execution_count": 10,
   "metadata": {
    "execution": {
     "iopub.execute_input": "2020-11-19T16:01:26.792717Z",
     "iopub.status.busy": "2020-11-19T16:01:26.792114Z",
     "iopub.status.idle": "2020-11-19T16:01:26.970521Z",
     "shell.execute_reply": "2020-11-19T16:01:26.971099Z"
    }
   },
   "outputs": [
    {
     "ename": "TypeError",
     "evalue": "'float' object is not callable",
     "output_type": "error",
     "traceback": [
      "\u001b[0;31m---------------------------------------------------------------------------\u001b[0m",
      "\u001b[0;31mTypeError\u001b[0m                                 Traceback (most recent call last)",
      "\u001b[0;32m<ipython-input-1-11dbb40a5be8>\u001b[0m in \u001b[0;36m<module>\u001b[0;34m\u001b[0m\n\u001b[1;32m      3\u001b[0m     \u001b[0mopt_gather\u001b[0m \u001b[0;34m=\u001b[0m \u001b[0mdict\u001b[0m\u001b[0;34m(\u001b[0m\u001b[0msample_events\u001b[0m\u001b[0;34m=\u001b[0m\u001b[0;36m100\u001b[0m\u001b[0;34m,\u001b[0m \u001b[0msample_space\u001b[0m \u001b[0;34m=\u001b[0m \u001b[0;36m4\u001b[0m\u001b[0;34m,\u001b[0m \u001b[0mverbose\u001b[0m\u001b[0;34m=\u001b[0m\u001b[0;32mTrue\u001b[0m\u001b[0;34m)\u001b[0m\u001b[0;34m\u001b[0m\u001b[0;34m\u001b[0m\u001b[0m\n\u001b[1;32m      4\u001b[0m \u001b[0;34m\u001b[0m\u001b[0m\n\u001b[0;32m----> 5\u001b[0;31m     \u001b[0mtic\u001b[0m\u001b[0;34m(\u001b[0m\u001b[0;34m)\u001b[0m\u001b[0;34m\u001b[0m\u001b[0;34m\u001b[0m\u001b[0m\n\u001b[0m\u001b[1;32m      6\u001b[0m     \u001b[0mX_train\u001b[0m\u001b[0;34m,\u001b[0m \u001b[0my_train\u001b[0m \u001b[0;34m=\u001b[0m \u001b[0mgather_data\u001b[0m\u001b[0;34m(\u001b[0m\u001b[0mevents_train\u001b[0m\u001b[0;34m,\u001b[0m \u001b[0mlabels_train\u001b[0m\u001b[0;34m,\u001b[0m  \u001b[0;34m**\u001b[0m\u001b[0mopt_gather\u001b[0m\u001b[0;34m)\u001b[0m\u001b[0;34m\u001b[0m\u001b[0;34m\u001b[0m\u001b[0m\n\u001b[1;32m      7\u001b[0m     \u001b[0mtoc\u001b[0m\u001b[0;34m(\u001b[0m\u001b[0;34m)\u001b[0m\u001b[0;34m\u001b[0m\u001b[0;34m\u001b[0m\u001b[0m\n",
      "\u001b[0;31mTypeError\u001b[0m: 'float' object is not callable"
     ]
    }
   ],
   "source": [
    "if do_it : \n",
    "    opts_LR = dict(random_state=0, max_iter=500, n_jobs=10, class_weight='balanced')\n",
    "    opt_gather = dict(sample_events=100, sample_space = 4, verbose=True)\n",
    "\n",
    "    tic()\n",
    "    X_train, y_train = gather_data(events_train, labels_train,  **opt_gather)\n",
    "    toc()\n",
    "\n",
    "    tic()\n",
    "    lr = LR(**opts_LR).fit(X_train, y_train)\n",
    "    print(f'Classification score for raw input is {lr.score(X_train, y_train):.3f}')\n",
    "    toc()\n",
    "\n",
    "    tic()\n",
    "    X_test, y_test = gather_data(events_test, labels_test,  **opt_gather)\n",
    "    print(f'Classification score for raw input is {lr.score(X_test, y_test):.3f}')\n",
    "    toc()\n",
    "    "
   ]
  },
  {
   "cell_type": "raw",
   "metadata": {},
   "source": [
    "### Performing (again) logistic regression on raw input"
   ]
  },
  {
   "cell_type": "raw",
   "metadata": {},
   "source": [
    "if do_it : \n",
    "    tic = time.time()\n",
    "    events_train_o, events_test_o = get_events(timestr, tau=tau, homeo=True, verbose=True)\n",
    "    print(f'Done in {time.time() - tic:.3f} s')\n",
    "\n",
    "    tic = time.time()\n",
    "    X_train, y_train = gather_data(events_train, labels_train,  **opt_gather)\n",
    "    print(f'Done in {time.time() - tic:.3f} s')\n",
    "\n",
    "    tic = time.time()\n",
    "    lr = LR(**opts_LR).fit(X_train, y_train)\n",
    "    print(f'Classification score for raw input is {lr.score(X_train, y_train):.3f}')\n",
    "    print(f'Done in {time.time() - tic:.3f} s')\n",
    "\n",
    "    tic = time.time()\n",
    "    X_test, y_test = gather_data(events_test, labels_test,  **opt_gather)\n",
    "    print(f'Done in {time.time() - tic:.3f} s')\n",
    "    print(f'Classification score for raw input is {lr.score(X_test, y_test):.3f}')\n"
   ]
  }
 ],
 "metadata": {
  "kernelspec": {
   "display_name": "hots",
   "language": "python",
   "name": "hots"
  },
  "language_info": {
   "codemirror_mode": {
    "name": "ipython",
    "version": 3
   },
   "file_extension": ".py",
   "mimetype": "text/x-python",
   "name": "python",
   "nbconvert_exporter": "python",
   "pygments_lexer": "ipython3",
   "version": "3.8.3"
  }
 },
 "nbformat": 4,
 "nbformat_minor": 4
}
