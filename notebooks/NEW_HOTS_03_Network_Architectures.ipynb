{
 "cells": [
  {
   "cell_type": "markdown",
   "metadata": {},
   "source": [
    "# NEW HOTS 03 - Testing different architectures on N-MNIST"
   ]
  },
  {
   "cell_type": "code",
   "execution_count": 1,
   "metadata": {
    "collapsed": false,
    "jupyter": {
     "outputs_hidden": false
    }
   },
   "outputs": [
    {
     "name": "stdout",
     "output_type": "stream",
     "text": [
      "/Users/joe/Documents/boulot/git/homhots/HOTS/HOTS\n"
     ]
    }
   ],
   "source": [
    "%load_ext autoreload\n",
    "%autoreload 2\n",
    "%matplotlib inline\n",
    "%cd '../HOTS'"
   ]
  },
  {
   "cell_type": "code",
   "execution_count": 2,
   "metadata": {
    "collapsed": false,
    "jupyter": {
     "outputs_hidden": false
    }
   },
   "outputs": [],
   "source": [
    "import os\n",
    "import pickle\n",
    "from mix_Network import *\n",
    "dataset = 'nmnist'"
   ]
  },
  {
   "cell_type": "markdown",
   "metadata": {},
   "source": [
    "# 1. Hots with homeostasis (best results of nbk NEW HOTS 02)"
   ]
  },
  {
   "cell_type": "code",
   "execution_count": null,
   "metadata": {},
   "outputs": [
    {
     "name": "stdout",
     "output_type": "stream",
     "text": [
      "Using downloaded and verified file: ../Data/nmnist_test.zip\n",
      "Extracting ../Data/nmnist_test.zip to ../Data/\n"
     ]
    },
    {
     "name": "stderr",
     "output_type": "stream",
     "text": [
      "100%|██████████| 15/15 [00:25<00:00,  1.70s/it]\n",
      "100%|██████████| 15/15 [00:34<00:00,  2.30s/it]\n",
      "100%|██████████| 15/15 [01:06<00:00,  4.45s/it]\n",
      " 50%|█████     | 20/40 [01:13<01:13,  3.69s/it]"
     ]
    }
   ],
   "source": [
    "tau = 1\n",
    "homeo = True\n",
    "hotshom = network(krnlinit='first', tau=tau, homeo=homeo)\n",
    "arch = [hotshom.L[i].kernel.shape[1] for i in range(len(hotshom.L))]\n",
    "fname = \"../Records/EXP_01_LagorceKmeans/2020-12-03-mix_hots_\"+dataset+hotshom.L[-1].krnlinit+str(tau)+str(homeo)+str(arch)+'.pkl'\n",
    "if not os.path.isfile(fname):\n",
    "    loaderhom = hotshom.learning1by1(dataset=dataset)\n",
    "    trainmaphom, loaderhom = hotshom.training(loaderhom)\n",
    "    testmaphom, loaderhom = hotshom.testing(loaderhom, trainmaphom)\n",
    "    with open(fname, 'wb') as file:\n",
    "        pickle.dump([hotshom, trainmaphom, testmaphom], file, pickle.HIGHEST_PROTOCOL)\n",
    "else:\n",
    "    with open(fname, 'rb') as file:\n",
    "        hotshom, trainmaphom, testmaphom = pickle.load(file)\n",
    "        \n",
    "hotshom.plotlayer()\n",
    "print('bhatta -> ',accuracy(trainmaphom, testmaphom, 'bhatta'))"
   ]
  },
  {
   "cell_type": "markdown",
   "metadata": {},
   "source": [
    "## 1.1 Testing different tauz"
   ]
  },
  {
   "cell_type": "code",
   "execution_count": null,
   "metadata": {},
   "outputs": [],
   "source": [
    "homeo = True\n",
    "for tau in [0.1, 0.5, 1, 2, 5, 10]:\n",
    "    hotshom = network(krnlinit='first', tau=tau, homeo=homeo)\n",
    "    arch = [hotshom.L[i].kernel.shape[1] for i in range(len(hotshom.L))]\n",
    "    fname = \"../Records/EXP_01_LagorceKmeans/2020-12-03-mix_hots_\"+dataset+hotshom.L[-1].krnlinit+str(tau)+str(homeo)+str(arch)+'.pkl'\n",
    "    print(fname)\n",
    "    if not os.path.isfile(fname):\n",
    "        loaderhom = hotshom.learning1by1()\n",
    "        trainmaphom, loaderhom = hotshom.training(loaderhom)\n",
    "        testmaphom, loaderhom = hotshom.testing(loaderhom, trainmaphom)\n",
    "        with open(fname, 'wb') as file:\n",
    "            pickle.dump([hotshom, trainmaphom, testmaphom], file, pickle.HIGHEST_PROTOCOL)\n",
    "    else:\n",
    "        with open(fname, 'rb') as file:\n",
    "            hotshom, trainmaphom, testmaphom = pickle.load(file)\n",
    "        print(accuracy(trainmaphom, testmaphom, 'bhatta'))"
   ]
  },
  {
   "cell_type": "markdown",
   "metadata": {},
   "source": [
    "## 1.2 Testing different architectures"
   ]
  },
  {
   "cell_type": "code",
   "execution_count": null,
   "metadata": {},
   "outputs": [],
   "source": [
    "homeo = True\n",
    "tau = 5\n",
    "for nblayerz in [1, 2, 3]:\n",
    "    for nbclust in [4, 8, 16]:\n",
    "        hotshom = network(krnlinit='first', tau=tau, homeo=homeo, nblay=nblayerz, nbclust= nbclust)\n",
    "        arch = [hotshom.L[i].kernel.shape[1] for i in range(len(hotshom.L))]\n",
    "        fname = \"../Records/EXP_01_LagorceKmeans/2020-12-03-mix_hots_\"+dataset+hotshom.L[-1].krnlinit+str(tau)+str(homeo)+str(arch)+'.pkl'\n",
    "        print(fname)\n",
    "        if not os.path.isfile(fname):\n",
    "            loaderhom = hotshom.learning1by1()\n",
    "            trainmaphom, loaderhom = hotshom.training(loaderhom)\n",
    "            testmaphom, loaderhom = hotshom.testing(loaderhom, trainmaphom)\n",
    "            with open(fname, 'wb') as file:\n",
    "                pickle.dump([hotshom, trainmaphom, testmaphom], file, pickle.HIGHEST_PROTOCOL)\n",
    "        else:\n",
    "            with open(fname, 'rb') as file:\n",
    "                hotshom, trainmaphom, testmaphom = pickle.load(file)\n",
    "            print(accuracy(trainmaphom, testmaphom, 'bhatta'))"
   ]
  },
  {
   "cell_type": "markdown",
   "metadata": {},
   "source": [
    "# 2. Filtering all TS on the best results"
   ]
  },
  {
   "cell_type": "code",
   "execution_count": null,
   "metadata": {},
   "outputs": [],
   "source": [
    "homeo = True\n",
    "tau = 5\n",
    "nblayerz = 3\n",
    "nbclust =4\n",
    "\n",
    "hotshom = network(krnlinit='first', tau=tau, homeo=homeo, nblay=nblayerz, nbclust= nbclust)\n",
    "arch = [hotshom.L[i].kernel.shape[1] for i in range(len(hotshom.L))]\n",
    "fname = \"../Records/EXP_01_LagorceKmeans/2020-12-03-mix_hots_filtall_\"+dataset+hotshom.L[-1].krnlinit+str(tau)+str(homeo)+str(arch)+'.pkl'\n",
    "print(fname)\n",
    "if not os.path.isfile(fname):\n",
    "    loaderhom = hotshom.learning1by1(filtering='all')\n",
    "    trainmaphom, loaderhom = hotshom.training(loaderhom)\n",
    "    testmaphom, loaderhom = hotshom.testing(loaderhom, trainmaphom)\n",
    "    with open(fname, 'wb') as file:\n",
    "        pickle.dump([hotshom, trainmaphom, testmaphom], file, pickle.HIGHEST_PROTOCOL)\n",
    "else:\n",
    "    with open(fname, 'rb') as file:\n",
    "        hotshom, trainmaphom, testmaphom = pickle.load(file)\n",
    "    print(accuracy(trainmaphom, testmaphom, 'bhatta'))"
   ]
  },
  {
   "cell_type": "markdown",
   "metadata": {},
   "source": [
    "# 3. Stronger filter on the best results"
   ]
  },
  {
   "cell_type": "code",
   "execution_count": null,
   "metadata": {},
   "outputs": [],
   "source": [
    "homeo = True\n",
    "tau = 5\n",
    "nblayerz = 3\n",
    "nbclust =4\n",
    "\n",
    "hotshom = network(krnlinit='first', tau=tau, homeo=homeo, nblay=nblayerz, nbclust= nbclust, filt=5)\n",
    "arch = [hotshom.L[i].kernel.shape[1] for i in range(len(hotshom.L))]\n",
    "fname = \"../Records/EXP_01_LagorceKmeans/2020-12-03-mix_hots_filtallx5_\"+dataset+hotshom.L[-1].krnlinit+str(tau)+str(homeo)+str(arch)+'.pkl'\n",
    "print(fname)\n",
    "if not os.path.isfile(fname):\n",
    "    loaderhom = hotshom.learning1by1(filtering='all')\n",
    "    trainmaphom, loaderhom = hotshom.training(loaderhom)\n",
    "    testmaphom, loaderhom = hotshom.testing(loaderhom, trainmaphom)\n",
    "    with open(fname, 'wb') as file:\n",
    "        pickle.dump([hotshom, trainmaphom, testmaphom], file, pickle.HIGHEST_PROTOCOL)\n",
    "else:\n",
    "    with open(fname, 'rb') as file:\n",
    "        hotshom, trainmaphom, testmaphom = pickle.load(file)\n",
    "    print(accuracy(trainmaphom, testmaphom, 'bhatta'))"
   ]
  },
  {
   "cell_type": "markdown",
   "metadata": {},
   "source": [
    "# 4. No homeostasis on the best results"
   ]
  },
  {
   "cell_type": "code",
   "execution_count": null,
   "metadata": {},
   "outputs": [],
   "source": [
    "homeo = False\n",
    "tau = 5\n",
    "nblayerz = 3\n",
    "nbclust =4\n",
    "\n",
    "hotshom = network(krnlinit='first', tau=tau, homeo=homeo, nblay=nblayerz, nbclust= nbclust)\n",
    "arch = [hotshom.L[i].kernel.shape[1] for i in range(len(hotshom.L))]\n",
    "fname = \"../Records/EXP_01_LagorceKmeans/2020-12-03-mix_hots_\"+dataset+hotshom.L[-1].krnlinit+str(tau)+str(homeo)+str(arch)+'.pkl'\n",
    "print(fname)\n",
    "if not os.path.isfile(fname):\n",
    "    loaderhom = hotshom.learning1by1()\n",
    "    trainmaphom, loaderhom = hotshom.training(loaderhom)\n",
    "    testmaphom, loaderhom = hotshom.testing(loaderhom, trainmaphom)\n",
    "    with open(fname, 'wb') as file:\n",
    "        pickle.dump([hotshom, trainmaphom, testmaphom], file, pickle.HIGHEST_PROTOCOL)\n",
    "else:\n",
    "    with open(fname, 'rb') as file:\n",
    "        hotshom, trainmaphom, testmaphom = pickle.load(file)\n",
    "    print(accuracy(trainmaphom, testmaphom, 'bhatta'))"
   ]
  },
  {
   "cell_type": "markdown",
   "metadata": {},
   "source": [
    "# 5. Training all layers at the same time"
   ]
  },
  {
   "cell_type": "code",
   "execution_count": null,
   "metadata": {},
   "outputs": [],
   "source": [
    "homeo = False\n",
    "tau = 5\n",
    "nblayerz = 3\n",
    "nbclust =4\n",
    "\n",
    "hotshom = network(krnlinit='first', tau=tau, homeo=homeo, nblay=nblayerz, nbclust= nbclust)\n",
    "arch = [hotshom.L[i].kernel.shape[1] for i in range(len(hotshom.L))]\n",
    "fname = \"../Records/EXP_01_LagorceKmeans/2020-12-03-mix_hots_learnall_\"+dataset+hotshom.L[-1].krnlinit+str(tau)+str(homeo)+str(arch)+'.pkl'\n",
    "print(fname)\n",
    "if not os.path.isfile(fname):\n",
    "    loaderhom = hotshom.learningall()\n",
    "    trainmaphom, loaderhom = hotshom.training(loaderhom)\n",
    "    testmaphom, loaderhom = hotshom.testing(loaderhom, trainmaphom)\n",
    "    with open(fname, 'wb') as file:\n",
    "        pickle.dump([hotshom, trainmaphom, testmaphom], file, pickle.HIGHEST_PROTOCOL)\n",
    "else:\n",
    "    with open(fname, 'rb') as file:\n",
    "        hotshom, trainmaphom, testmaphom = pickle.load(file)\n",
    "    print(accuracy(trainmaphom, testmaphom, 'bhatta'))"
   ]
  },
  {
   "cell_type": "code",
   "execution_count": null,
   "metadata": {},
   "outputs": [],
   "source": [
    "homeo = True\n",
    "tau = 5\n",
    "nblayerz = 3\n",
    "nbclust =4\n",
    "\n",
    "hotshom = network(krnlinit='first', tau=tau, homeo=homeo, nblay=nblayerz, nbclust= nbclust)\n",
    "arch = [hotshom.L[i].kernel.shape[1] for i in range(len(hotshom.L))]\n",
    "fname = \"../Records/EXP_01_LagorceKmeans/2020-12-03-mix_hots_learnall_\"+dataset+hotshom.L[-1].krnlinit+str(tau)+str(homeo)+str(arch)+'.pkl'\n",
    "print(fname)\n",
    "if not os.path.isfile(fname):\n",
    "    loaderhom = hotshom.learningall()\n",
    "    trainmaphom, loaderhom = hotshom.training(loaderhom)\n",
    "    testmaphom, loaderhom = hotshom.testing(loaderhom, trainmaphom)\n",
    "    with open(fname, 'wb') as file:\n",
    "        pickle.dump([hotshom, trainmaphom, testmaphom], file, pickle.HIGHEST_PROTOCOL)\n",
    "else:\n",
    "    with open(fname, 'rb') as file:\n",
    "        hotshom, trainmaphom, testmaphom = pickle.load(file)\n",
    "    print(accuracy(trainmaphom, testmaphom, 'bhatta'))"
   ]
  },
  {
   "cell_type": "code",
   "execution_count": null,
   "metadata": {},
   "outputs": [],
   "source": [
    "homeo = True\n",
    "for tau in [0.1, 0.5, 1, 2, 5, 10, 20]:\n",
    "    hotshom = network(krnlinit='first', tau=tau, homeo=homeo)\n",
    "    arch = [hotshom.L[i].kernel.shape[1] for i in range(len(hotshom.L))]\n",
    "    fname = \"../Records/EXP_01_LagorceKmeans/2020-12-03-mix_hots_learnall_\"+dataset+hotshom.L[-1].krnlinit+str(tau)+str(homeo)+str(arch)+'.pkl'\n",
    "    print(fname)\n",
    "    if not os.path.isfile(fname):\n",
    "        loaderhom = hotshom.learningall()\n",
    "        trainmaphom, loaderhom = hotshom.training(loaderhom)\n",
    "        testmaphom, loaderhom = hotshom.testing(loaderhom, trainmaphom)\n",
    "        with open(fname, 'wb') as file:\n",
    "            pickle.dump([hotshom, trainmaphom, testmaphom], file, pickle.HIGHEST_PROTOCOL)\n",
    "    else:\n",
    "        with open(fname, 'rb') as file:\n",
    "            hotshom, trainmaphom, testmaphom = pickle.load(file)\n",
    "        print(accuracy(trainmaphom, testmaphom, 'bhatta'))"
   ]
  },
  {
   "cell_type": "markdown",
   "metadata": {},
   "source": [
    "# 6. Training on more videos"
   ]
  },
  {
   "cell_type": "code",
   "execution_count": null,
   "metadata": {},
   "outputs": [],
   "source": [
    "tau = 5\n",
    "homeo = True\n",
    "hotshom = network(krnlinit='first', tau=tau, homeo=homeo)\n",
    "arch = [hotshom.L[i].kernel.shape[1] for i in range(len(hotshom.L))]\n",
    "fname = \"../Records/EXP_01_LagorceKmeans/2020-12-03-mix_hots_200_\"+dataset+hotshom.L[-1].krnlinit+str(tau)+str(homeo)+str(arch)+'.pkl'\n",
    "if not os.path.isfile(fname):\n",
    "    loaderhom = hotshom.learning1by1()\n",
    "    trainmaphom, loaderhom = hotshom.training(loaderhom, nb_digit = 200)\n",
    "    testmaphom, loaderhom = hotshom.testing(loaderhom, trainmaphom)\n",
    "    with open(fname, 'wb') as file:\n",
    "        pickle.dump([hotshom, trainmaphom, testmaphom], file, pickle.HIGHEST_PROTOCOL)\n",
    "else:\n",
    "    with open(fname, 'rb') as file:\n",
    "        hotshom, trainmaphom, testmaphom = pickle.load(file)\n",
    "hotshom.plotlayer()\n",
    "accuracy(trainmaphom, testmaphom, 'bhatta')"
   ]
  },
  {
   "cell_type": "code",
   "execution_count": null,
   "metadata": {},
   "outputs": [],
   "source": []
  },
  {
   "cell_type": "code",
   "execution_count": null,
   "metadata": {},
   "outputs": [],
   "source": []
  }
 ],
 "metadata": {
  "kernelspec": {
   "display_name": "Python 3",
   "language": "python",
   "name": "python3"
  },
  "language_info": {
   "codemirror_mode": {
    "name": "ipython",
    "version": 3
   },
   "file_extension": ".py",
   "mimetype": "text/x-python",
   "name": "python",
   "nbconvert_exporter": "python",
   "pygments_lexer": "ipython3",
   "version": "3.7.9"
  }
 },
 "nbformat": 4,
 "nbformat_minor": 4
}
