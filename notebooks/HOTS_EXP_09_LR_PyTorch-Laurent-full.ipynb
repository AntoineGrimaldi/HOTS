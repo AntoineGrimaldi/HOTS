{
 "cells": [
  {
   "cell_type": "code",
   "execution_count": 1,
   "metadata": {
    "execution": {
     "iopub.execute_input": "2021-02-05T10:50:27.821782Z",
     "iopub.status.busy": "2021-02-05T10:50:27.819081Z",
     "iopub.status.idle": "2021-02-05T10:50:28.140697Z",
     "shell.execute_reply": "2021-02-05T10:50:28.141408Z"
    }
   },
   "outputs": [
    {
     "name": "stdout",
     "output_type": "stream",
     "text": [
      "/home/laurent/quantic/science/HomeHots/HOTS_clone_laurent/HOTS\n"
     ]
    }
   ],
   "source": [
    "#%load_ext autoreload\n",
    "#%autoreload 2\n",
    "%matplotlib inline\n",
    "%cd '../HOTS'"
   ]
  },
  {
   "cell_type": "code",
   "execution_count": 2,
   "metadata": {
    "execution": {
     "iopub.execute_input": "2021-02-05T10:50:28.148267Z",
     "iopub.status.busy": "2021-02-05T10:50:28.147846Z",
     "iopub.status.idle": "2021-02-05T10:50:29.491930Z",
     "shell.execute_reply": "2021-02-05T10:50:29.491083Z"
    }
   },
   "outputs": [],
   "source": [
    "import os\n",
    "import pickle\n",
    "import datetime\n",
    "from mix_Network import *\n",
    "\n",
    "dataset = 'nmnist'\n",
    "records_path = '../Records'\n",
    "timestr = datetime.datetime.now().date().isoformat()\n",
    "timestr = '2020-12-21'\n",
    "verbose = True\n",
    "\n",
    "%mkdir -p ../Records\n",
    "%mkdir -p ../Records/EXP_03_NMNIST\n",
    "\n",
    "homeo = True\n",
    "sigma = None\n",
    "pooling = False\n",
    "homeinv = False\n",
    "jitter = False\n",
    "tau = 5\n",
    "krnlinit = 'first'\n",
    "nblay = 3\n",
    "nbclust = 4\n",
    "\n",
    "ds = 5\n",
    "nb_train = 7500//ds\n",
    "nb_test = 2500//ds"
   ]
  },
  {
   "cell_type": "code",
   "execution_count": 3,
   "metadata": {
    "execution": {
     "iopub.execute_input": "2021-02-05T10:50:29.520962Z",
     "iopub.status.busy": "2021-02-05T10:50:29.518589Z",
     "iopub.status.idle": "2021-02-05T10:50:29.523938Z",
     "shell.execute_reply": "2021-02-05T10:50:29.524694Z"
    }
   },
   "outputs": [],
   "source": [
    "def get_nmnist(NbTrainingData, NbTestingData):\n",
    "    def loadev(nbdigit, loader, learningset):\n",
    "        timout = []\n",
    "        xout = []\n",
    "        yout = []\n",
    "        polout = []\n",
    "        labout = []\n",
    "        for i in range(NbTrainingData):\n",
    "            events, target = next(iter(loader))\n",
    "            for iev in range(events.shape[1]):\n",
    "                    timout.append(events[0][iev][learningset.ordering.find(\"t\")].item())\n",
    "                    xout.append(events[0][iev][learningset.ordering.find(\"x\")].item())\n",
    "                    yout.append(events[0][iev][learningset.ordering.find(\"y\")].item())\n",
    "                    polout.append(events[0][iev][learningset.ordering.find(\"p\")].item())\n",
    "                    labout.append(target.item())\n",
    "\n",
    "        eventsout = [xout,yout,timout,polout,labout,learningset.sensor_size,2]\n",
    "        return eventsout\n",
    "    \n",
    "    learningset = tonic.datasets.NMNIST(save_to='../Data/',\n",
    "                                    train=False,\n",
    "                                    transform=None)\n",
    "    loader = tonic.datasets.DataLoader(learningset, shuffle=True)\n",
    "    \n",
    "    events_train = loadev(NbTrainingData, loader, learningset)\n",
    "    events_test = loadev(NbTestingData, loader, learningset)\n",
    "    \n",
    "    return events_train, events_test\n",
    "\n",
    "#### Building matrix for logistic regression\n",
    "def gather_data(events_in,\n",
    "                tau_cla=150, # characteristic time of a digit\n",
    "                sample_events=50, sample_space = 1,\n",
    "                verbose=False, debug=False):\n",
    "    tau_cla *= 1e3 # to enter tau in ms\n",
    "    n_events = len(events_in[0])\n",
    "\n",
    "    c_int = lambda n, d : ((n - 1) // d) + 1\n",
    "    \n",
    "    data = np.zeros((c_int(events_in[-2][0], sample_space),\n",
    "                     c_int(events_in[-2][1], sample_space),\n",
    "                     events_in[-1])) #tmp data\n",
    "\n",
    "    X = np.zeros((c_int(n_events, sample_events), len(data.ravel())))\n",
    "    y = np.zeros((c_int(n_events, sample_events), ))\n",
    "\n",
    "    for i_event in range(1, n_events):\n",
    "        if events_in[2][i_event]<events_in[2][i_event-1]:\n",
    "            data = np.zeros((c_int(events_in[-2][0], sample_space),\n",
    "                     c_int(events_in[-2][1], sample_space),\n",
    "                     events_in[-1])) #tmp data \n",
    "\n",
    "        data *= np.exp(-(events_in[2][i_event]-events_in[2][i_event-1])/tau_cla)\n",
    "        \n",
    "        x_pos = events_in[0][i_event]//sample_space\n",
    "        y_pos = events_in[1][i_event]//sample_space\n",
    "        p = events_in[3][i_event]\n",
    "        data[int(x_pos), int(y_pos), int(p)] = 1.\n",
    "\n",
    "        if i_event % sample_events == sample_events//2 :\n",
    "            if debug:\n",
    "                print(f'DEBUG {i_event} {i_event//sample_events} ')\n",
    "                print(f'DEBUG {y[i_event//sample_events]}   ')\n",
    "                print(f'DEBUG  {events_in[-3][i_event]} ')\n",
    "            X[i_event//sample_events, :] = data.ravel()\n",
    "            y[i_event//sample_events] = events_in[-3][i_event]\n",
    "            \n",
    "    if verbose: print('Number of events: ' + str(X.shape[0])+' - Number of features: ' + str(X.shape[1]))\n",
    "    \n",
    "    # one hot encoding\n",
    "    #y_out = np.zeros([y.shape[0],int(max(y)+1)])\n",
    "    #for i in range(y.shape[0]):\n",
    "    #    y_out[i,int(y[i])]=1\n",
    "    \n",
    "    return X, y#_out\n",
    "\n",
    "def get_events(tau, krnlinit, nblay, nbclust, homeo, records_path, timestr, dataset, sigma, homeinv, jitter, nb_train, nb_test):\n",
    "    hotshom = network(krnlinit=krnlinit, tau=tau, nblay=nblay, nbclust=nbclust, homeo=homeo, sigma=sigma, homeinv=homeinv, jitter=jitter)\n",
    "    arch = [hotshom.L[i].kernel.shape[1] for i in range(len(hotshom.L))]\n",
    "    fname = f'{records_path}/EXP_03_NMNIST/{timestr}_hots_{dataset}_{arch}_{tau}_{homeo}_{sigma}_{homeinv}_{jitter}'\n",
    "    print(fname)\n",
    "    if not os.path.isfile(fname+'_model.pkl'):\n",
    "        loaderhom, order = hotshom.learning1by1(dataset=dataset)\n",
    "        with open(fname+'_model.pkl', 'wb') as file:\n",
    "            pickle.dump([hotshom, loaderhom, order], file, pickle.HIGHEST_PROTOCOL)\n",
    "    else:\n",
    "        with open(fname+'_model.pkl', 'rb') as file:\n",
    "            hotshom, loaderhom, order = pickle.load(file)\n",
    "            \n",
    "    if not os.path.isfile(fname+f'_evout_{nb_train}_{nb_test}.pkl'):       \n",
    "        _, loaderhom, out_train = hotshom.running(loaderhom, order, nb_digit = nb_train, LR=True)\n",
    "        _, loaderhom, out_test = hotshom.running(loaderhom, order, nb_digit = nb_test, LR=True)\n",
    "        with open(fname+f'_evout_{nb_train}_{nb_test}.pkl', 'wb') as file:\n",
    "            pickle.dump([out_train, out_test], file, pickle.HIGHEST_PROTOCOL)\n",
    "    else:\n",
    "        with open(fname+f'_evout_{nb_train}_{nb_test}.pkl', 'rb') as file:\n",
    "            out_train, out_test = pickle.load(file)\n",
    "    return out_train, out_test\n",
    "\n",
    "\n",
    "# ### Performing logistic regression\n",
    "#\n",
    "# https://scikit-learn.org/stable/modules/generated/sklearn.linear_model.LogisticRegressionCV.html\n",
    "#\n",
    "\n",
    "# from sklearn.linear_model import LogisticRegression as LR\n",
    "#from sklearn.linear_model import LogisticRegressionCV as LR\n",
    "# \n",
    "opts_LR = dict(max_iter=2000, # random_state=0,\n",
    "               n_jobs=-1, class_weight='balanced')\n",
    "#opts_LR['Cs'] = 5\n",
    "opts_LR['Cs'] = 32\n",
    "# TODO for a publication use 100 from 10^{-10} to 10\n",
    "\n",
    "#from sklearn.model_selection import train_test_split\n",
    "\n",
    "def tic():\n",
    "    global ttic\n",
    "    ttic = time.time()\n",
    "def toc():\n",
    "    print(f'Done in {time.time() - ttic:.3f} s')"
   ]
  },
  {
   "cell_type": "code",
   "execution_count": 4,
   "metadata": {
    "execution": {
     "iopub.execute_input": "2021-02-05T10:50:29.531200Z",
     "iopub.status.busy": "2021-02-05T10:50:29.530175Z",
     "iopub.status.idle": "2021-02-05T10:50:29.535048Z",
     "shell.execute_reply": "2021-02-05T10:50:29.534214Z"
    }
   },
   "outputs": [],
   "source": [
    "import torch\n",
    "from torch.utils.data import TensorDataset, DataLoader\n",
    "torch.set_default_tensor_type(\"torch.DoubleTensor\") # -> torch.tensor([1.2, 3]).dtype = torch.float64\n",
    "criterion = torch.nn.NLLLoss(reduction=\"mean\") # loss divided by output size\n",
    "# https://sebastianraschka.com/faq/docs/pytorch-crossentropy.html\n",
    "class LogisticRegressionModel(torch.nn.Module):\n",
    "    #torch.nn.Module -> Base class for all neural network modules\n",
    "    def __init__(self, N, n_classes, bias=True):\n",
    "        super(LogisticRegressionModel, self).__init__() \n",
    "        self.linear = torch.nn.Linear(N, n_classes, bias=bias)\n",
    "        self.nl = torch.nn.LogSoftmax(dim=1)\n",
    "\n",
    "    def forward(self, factors):\n",
    "        return self.nl(self.linear(factors))"
   ]
  },
  {
   "cell_type": "code",
   "execution_count": 5,
   "metadata": {
    "execution": {
     "iopub.execute_input": "2021-02-05T10:50:29.545349Z",
     "iopub.status.busy": "2021-02-05T10:50:29.543797Z",
     "iopub.status.idle": "2021-02-05T10:50:29.546439Z",
     "shell.execute_reply": "2021-02-05T10:50:29.547245Z"
    }
   },
   "outputs": [],
   "source": [
    "learning_rate = 0.005\n",
    "beta1, beta2 = 0.9, 0.999\n",
    "betas = (beta1, beta2)\n",
    "num_epochs = 2 ** 9 + 1\n",
    "batch_size = 256\n",
    "n_classes=10\n",
    "amsgrad = False # gives similar results\n",
    "amsgrad = True  # gives similar results\n",
    "\n",
    "def fit_data(factors, y, \n",
    "            learning_rate=learning_rate,\n",
    "            batch_size=batch_size,  # gamma=gamma,\n",
    "            num_epochs=num_epochs,\n",
    "            betas=betas,\n",
    "            verbose=False, **kwargs\n",
    "        ):\n",
    "\n",
    "    # print(factors.shape, y.shape)\n",
    "    X, labels = torch.Tensor(factors), torch.Tensor(y).to(torch.long)\n",
    "    # print(X.shape, labels.shape)\n",
    "    loader = DataLoader(\n",
    "        TensorDataset(X, labels), batch_size=batch_size, shuffle=True\n",
    "    )\n",
    "\n",
    "    device = torch.device(\"cuda\" if torch.cuda.is_available() else \"cpu\")\n",
    "    print(f'device -> {device}')\n",
    "    \n",
    "    N_batch = factors.shape[0]\n",
    "    N = factors.shape[1]\n",
    "    n_classes = 10 # y.shape[1]\n",
    "    logistic_model = LogisticRegressionModel(N, n_classes)\n",
    "    logistic_model = logistic_model.to(device)\n",
    "    logistic_model.train()\n",
    "    optimizer = torch.optim.Adam(\n",
    "        logistic_model.parameters(), lr=learning_rate, betas=betas, amsgrad=amsgrad\n",
    "    )\n",
    "    for epoch in range(int(num_epochs)):\n",
    "        logistic_model.train()\n",
    "        losses = []\n",
    "        for X_, labels_ in loader:\n",
    "            X_, labels_ = X_.to(device), labels_.to(device)\n",
    "            outputs = logistic_model(X_)\n",
    "            #target = torch.argmax(torch.squeeze(labels_,dim=1), 1)\n",
    "            loss = criterion(outputs, labels_)\n",
    "            optimizer.zero_grad()\n",
    "            loss.backward()\n",
    "            optimizer.step()\n",
    "            losses.append(loss.item())\n",
    "\n",
    "        if verbose and (epoch % (num_epochs // 32) == 0):\n",
    "            print(f\"Iteration: {epoch} - Loss: {np.mean(losses):.5f}\")\n",
    "            \n",
    "    return logistic_model, losses"
   ]
  },
  {
   "cell_type": "code",
   "execution_count": 6,
   "metadata": {
    "execution": {
     "iopub.execute_input": "2021-02-05T10:50:29.552200Z",
     "iopub.status.busy": "2021-02-05T10:50:29.551121Z",
     "iopub.status.idle": "2021-02-05T10:55:23.662492Z",
     "shell.execute_reply": "2021-02-05T10:55:23.663325Z"
    }
   },
   "outputs": [
    {
     "name": "stdout",
     "output_type": "stream",
     "text": [
      "Using downloaded and verified file: ../Data/nmnist_test.zip\n",
      "Extracting ../Data/nmnist_test.zip to ../Data/\n",
      "Done in 294.104 s\n"
     ]
    }
   ],
   "source": [
    "tic()\n",
    "events_train, events_test = get_nmnist(nb_train, nb_test)\n",
    "toc()"
   ]
  },
  {
   "cell_type": "code",
   "execution_count": 7,
   "metadata": {
    "execution": {
     "iopub.execute_input": "2021-02-05T10:55:23.669220Z",
     "iopub.status.busy": "2021-02-05T10:55:23.667967Z",
     "iopub.status.idle": "2021-02-05T10:55:53.261499Z",
     "shell.execute_reply": "2021-02-05T10:55:53.260870Z"
    }
   },
   "outputs": [
    {
     "name": "stdout",
     "output_type": "stream",
     "text": [
      "Number of events: 125828 - Number of features: 2312\n",
      "Done in 29.583 s\n"
     ]
    }
   ],
   "source": [
    "tic()\n",
    "X_train, y_train = gather_data(events_train, verbose=verbose)\n",
    "toc()"
   ]
  },
  {
   "cell_type": "code",
   "execution_count": 8,
   "metadata": {
    "execution": {
     "iopub.execute_input": "2021-02-05T10:55:53.268462Z",
     "iopub.status.busy": "2021-02-05T10:55:53.267714Z",
     "iopub.status.idle": "2021-02-05T10:55:53.276359Z",
     "shell.execute_reply": "2021-02-05T10:55:53.277019Z"
    }
   },
   "outputs": [
    {
     "data": {
      "text/plain": [
       "array([7., 7., 7., ..., 6., 6., 6.])"
      ]
     },
     "execution_count": 1,
     "metadata": {},
     "output_type": "execute_result"
    }
   ],
   "source": [
    "y_train"
   ]
  },
  {
   "cell_type": "code",
   "execution_count": 9,
   "metadata": {
    "execution": {
     "iopub.execute_input": "2021-02-05T10:55:53.282658Z",
     "iopub.status.busy": "2021-02-05T10:55:53.281996Z",
     "iopub.status.idle": "2021-02-05T11:15:13.452229Z",
     "shell.execute_reply": "2021-02-05T11:15:13.452555Z"
    }
   },
   "outputs": [
    {
     "name": "stdout",
     "output_type": "stream",
     "text": [
      "device -> cuda\n",
      "Iteration: 0 - Loss: 0.30670\n",
      "Iteration: 16 - Loss: 0.01301\n",
      "Iteration: 32 - Loss: 0.00834\n",
      "Iteration: 48 - Loss: 0.00636\n",
      "Iteration: 64 - Loss: 0.00522\n",
      "Iteration: 80 - Loss: 0.00445\n",
      "Iteration: 96 - Loss: 0.00390\n",
      "Iteration: 112 - Loss: 0.00349\n",
      "Iteration: 128 - Loss: 0.00316\n",
      "Iteration: 144 - Loss: 0.00290\n",
      "Iteration: 160 - Loss: 0.00267\n",
      "Iteration: 176 - Loss: 0.00248\n",
      "Iteration: 192 - Loss: 0.00232\n",
      "Iteration: 208 - Loss: 0.00219\n",
      "Iteration: 224 - Loss: 0.00206\n",
      "Iteration: 240 - Loss: 0.00195\n",
      "Iteration: 256 - Loss: 0.00185\n",
      "Iteration: 272 - Loss: 0.00177\n",
      "Iteration: 288 - Loss: 0.00169\n",
      "Iteration: 304 - Loss: 0.00161\n",
      "Iteration: 320 - Loss: 0.00156\n",
      "Iteration: 336 - Loss: 0.00149\n",
      "Iteration: 352 - Loss: 0.00143\n",
      "Iteration: 368 - Loss: 0.00138\n",
      "Iteration: 384 - Loss: 0.00133\n",
      "Iteration: 400 - Loss: 0.00129\n",
      "Iteration: 416 - Loss: 0.00125\n",
      "Iteration: 432 - Loss: 0.00121\n",
      "Iteration: 448 - Loss: 0.00117\n",
      "Iteration: 464 - Loss: 0.00114\n",
      "Iteration: 480 - Loss: 0.00111\n",
      "Iteration: 496 - Loss: 0.00108\n",
      "Iteration: 512 - Loss: 0.00105\n"
     ]
    }
   ],
   "source": [
    "N = X_train.shape[1]\n",
    "\n",
    "logistic_model = LogisticRegressionModel(N, n_classes)\n",
    "\n",
    "logistic_model, losses = fit_data(X_train, y_train, verbose=True)\n",
    "# print(\"Final mean loss =\", np.mean(losses))"
   ]
  },
  {
   "cell_type": "code",
   "execution_count": 10,
   "metadata": {
    "execution": {
     "iopub.execute_input": "2021-02-05T11:15:13.460029Z",
     "iopub.status.busy": "2021-02-05T11:15:13.459509Z",
     "iopub.status.idle": "2021-02-05T11:15:13.462424Z",
     "shell.execute_reply": "2021-02-05T11:15:13.462841Z"
    }
   },
   "outputs": [],
   "source": [
    "def predict_data(factors, y, model,\n",
    "            batch_size=batch_size,  # gamma=gamma,\n",
    "            verbose=False, **kwargs\n",
    "        ):\n",
    "    X = torch.Tensor(factors)\n",
    "    device = torch.device(\"cuda\" if torch.cuda.is_available() else \"cpu\")\n",
    "    print(f'device -> {device}')\n",
    "\n",
    "    logistic_model = model.to(device)\n",
    "    \n",
    "    X = X.to(device)\n",
    "    outputs = logistic_model(X)\n",
    "\n",
    "    pred_target = torch.argmax(outputs, dim=1)\n",
    "    \n",
    "    return pred_target"
   ]
  },
  {
   "cell_type": "code",
   "execution_count": 11,
   "metadata": {
    "execution": {
     "iopub.execute_input": "2021-02-05T11:15:13.468218Z",
     "iopub.status.busy": "2021-02-05T11:15:13.467293Z",
     "iopub.status.idle": "2021-02-05T11:15:43.547073Z",
     "shell.execute_reply": "2021-02-05T11:15:43.546562Z"
    }
   },
   "outputs": [
    {
     "name": "stdout",
     "output_type": "stream",
     "text": [
      "Number of events: 126801 - Number of features: 2312\n",
      "device -> cuda\n"
     ]
    }
   ],
   "source": [
    "X_test, y_test = gather_data(events_test, verbose=verbose)\n",
    "pred_target = predict_data(X_test, y_test, logistic_model)"
   ]
  },
  {
   "cell_type": "code",
   "execution_count": 12,
   "metadata": {
    "execution": {
     "iopub.execute_input": "2021-02-05T11:15:43.552364Z",
     "iopub.status.busy": "2021-02-05T11:15:43.551981Z",
     "iopub.status.idle": "2021-02-05T11:15:43.557679Z",
     "shell.execute_reply": "2021-02-05T11:15:43.558089Z"
    }
   },
   "outputs": [
    {
     "data": {
      "text/plain": [
       "array([7., 7., 7., ..., 3., 3., 3.])"
      ]
     },
     "execution_count": 1,
     "metadata": {},
     "output_type": "execute_result"
    }
   ],
   "source": [
    "y_test\n"
   ]
  },
  {
   "cell_type": "code",
   "execution_count": 13,
   "metadata": {
    "execution": {
     "iopub.execute_input": "2021-02-05T11:15:43.563067Z",
     "iopub.status.busy": "2021-02-05T11:15:43.562552Z",
     "iopub.status.idle": "2021-02-05T11:15:43.624595Z",
     "shell.execute_reply": "2021-02-05T11:15:43.624920Z"
    }
   },
   "outputs": [
    {
     "data": {
      "text/plain": [
       "tensor([7, 7, 7,  ..., 3, 3, 3], device='cuda:0')"
      ]
     },
     "execution_count": 1,
     "metadata": {},
     "output_type": "execute_result"
    }
   ],
   "source": [
    "pred_target"
   ]
  },
  {
   "cell_type": "code",
   "execution_count": 14,
   "metadata": {
    "execution": {
     "iopub.execute_input": "2021-02-05T11:15:43.632156Z",
     "iopub.status.busy": "2021-02-05T11:15:43.631754Z",
     "iopub.status.idle": "2021-02-05T11:15:43.749297Z",
     "shell.execute_reply": "2021-02-05T11:15:43.749636Z"
    }
   },
   "outputs": [
    {
     "ename": "TypeError",
     "evalue": "can't convert cuda:0 device type tensor to numpy. Use Tensor.cpu() to copy the tensor to host memory first.",
     "output_type": "error",
     "traceback": [
      "\u001b[0;31m---------------------------------------------------------------------------\u001b[0m",
      "\u001b[0;31mTypeError\u001b[0m                                 Traceback (most recent call last)",
      "\u001b[0;32m<ipython-input-1-b158a9744a6a>\u001b[0m in \u001b[0;36m<module>\u001b[0;34m\u001b[0m\n\u001b[0;32m----> 1\u001b[0;31m \u001b[0mpred_target\u001b[0m\u001b[0;34m.\u001b[0m\u001b[0mdetach\u001b[0m\u001b[0;34m(\u001b[0m\u001b[0;34m)\u001b[0m\u001b[0;34m.\u001b[0m\u001b[0mnumpy\u001b[0m\u001b[0;34m(\u001b[0m\u001b[0;34m)\u001b[0m\u001b[0;34m\u001b[0m\u001b[0;34m\u001b[0m\u001b[0m\n\u001b[0m",
      "\u001b[0;31mTypeError\u001b[0m: can't convert cuda:0 device type tensor to numpy. Use Tensor.cpu() to copy the tensor to host memory first."
     ]
    }
   ],
   "source": [
    "pred_target.detach().numpy() "
   ]
  },
  {
   "cell_type": "code",
   "execution_count": 15,
   "metadata": {
    "execution": {
     "iopub.execute_input": "2021-02-05T11:15:43.754236Z",
     "iopub.status.busy": "2021-02-05T11:15:43.753845Z",
     "iopub.status.idle": "2021-02-05T11:15:43.766727Z",
     "shell.execute_reply": "2021-02-05T11:15:43.767182Z"
    }
   },
   "outputs": [
    {
     "ename": "TypeError",
     "evalue": "can't convert cuda:0 device type tensor to numpy. Use Tensor.cpu() to copy the tensor to host memory first.",
     "output_type": "error",
     "traceback": [
      "\u001b[0;31m---------------------------------------------------------------------------\u001b[0m",
      "\u001b[0;31mTypeError\u001b[0m                                 Traceback (most recent call last)",
      "\u001b[0;32m<ipython-input-1-f22f9e07a300>\u001b[0m in \u001b[0;36m<module>\u001b[0;34m\u001b[0m\n\u001b[0;32m----> 1\u001b[0;31m \u001b[0mpred_target\u001b[0m\u001b[0;34m.\u001b[0m\u001b[0mdetach\u001b[0m\u001b[0;34m(\u001b[0m\u001b[0;34m)\u001b[0m\u001b[0;34m.\u001b[0m\u001b[0mnumpy\u001b[0m\u001b[0;34m(\u001b[0m\u001b[0;34m)\u001b[0m \u001b[0;34m==\u001b[0m \u001b[0my_test\u001b[0m\u001b[0;34m\u001b[0m\u001b[0;34m\u001b[0m\u001b[0m\n\u001b[0m",
      "\u001b[0;31mTypeError\u001b[0m: can't convert cuda:0 device type tensor to numpy. Use Tensor.cpu() to copy the tensor to host memory first."
     ]
    }
   ],
   "source": [
    "pred_target.detach().numpy() == y_test"
   ]
  },
  {
   "cell_type": "code",
   "execution_count": 16,
   "metadata": {
    "execution": {
     "iopub.execute_input": "2021-02-05T11:15:43.772624Z",
     "iopub.status.busy": "2021-02-05T11:15:43.771781Z",
     "iopub.status.idle": "2021-02-05T11:15:43.784303Z",
     "shell.execute_reply": "2021-02-05T11:15:43.785077Z"
    }
   },
   "outputs": [
    {
     "ename": "TypeError",
     "evalue": "can't convert cuda:0 device type tensor to numpy. Use Tensor.cpu() to copy the tensor to host memory first.",
     "output_type": "error",
     "traceback": [
      "\u001b[0;31m---------------------------------------------------------------------------\u001b[0m",
      "\u001b[0;31mTypeError\u001b[0m                                 Traceback (most recent call last)",
      "\u001b[0;32m<ipython-input-1-dbfb54a1f967>\u001b[0m in \u001b[0;36m<module>\u001b[0;34m\u001b[0m\n\u001b[0;32m----> 1\u001b[0;31m \u001b[0mnp\u001b[0m\u001b[0;34m.\u001b[0m\u001b[0mmean\u001b[0m\u001b[0;34m(\u001b[0m\u001b[0mpred_target\u001b[0m\u001b[0;34m.\u001b[0m\u001b[0mdetach\u001b[0m\u001b[0;34m(\u001b[0m\u001b[0;34m)\u001b[0m\u001b[0;34m.\u001b[0m\u001b[0mnumpy\u001b[0m\u001b[0;34m(\u001b[0m\u001b[0;34m)\u001b[0m \u001b[0;34m==\u001b[0m \u001b[0my_test\u001b[0m\u001b[0;34m)\u001b[0m\u001b[0;34m\u001b[0m\u001b[0;34m\u001b[0m\u001b[0m\n\u001b[0m",
      "\u001b[0;31mTypeError\u001b[0m: can't convert cuda:0 device type tensor to numpy. Use Tensor.cpu() to copy the tensor to host memory first."
     ]
    }
   ],
   "source": [
    "np.mean(pred_target.detach().numpy() == y_test)"
   ]
  },
  {
   "cell_type": "raw",
   "metadata": {},
   "source": [
    "print(len(loss))\n",
    "plt.plot(range(X_test.shape[0]), loss)"
   ]
  },
  {
   "cell_type": "raw",
   "metadata": {},
   "source": [
    "def accuracy(out, yb):\n",
    "    print(torch.tensor(out))\n",
    "    preds = torch.argmax(torch.tensor(out), dim=1)\n",
    "    return (preds == yb).float().mean()"
   ]
  },
  {
   "cell_type": "raw",
   "metadata": {},
   "source": [
    "accuracy(loss,y_test)"
   ]
  },
  {
   "cell_type": "code",
   "execution_count": 17,
   "metadata": {
    "execution": {
     "iopub.execute_input": "2021-02-05T11:15:43.791829Z",
     "iopub.status.busy": "2021-02-05T11:15:43.790834Z",
     "iopub.status.idle": "2021-02-05T11:15:43.805060Z",
     "shell.execute_reply": "2021-02-05T11:15:43.805886Z"
    }
   },
   "outputs": [
    {
     "ename": "TypeError",
     "evalue": "can't convert cuda:0 device type tensor to numpy. Use Tensor.cpu() to copy the tensor to host memory first.",
     "output_type": "error",
     "traceback": [
      "\u001b[0;31m---------------------------------------------------------------------------\u001b[0m",
      "\u001b[0;31mTypeError\u001b[0m                                 Traceback (most recent call last)",
      "\u001b[0;32m<ipython-input-1-e2dafaf86722>\u001b[0m in \u001b[0;36m<module>\u001b[0;34m\u001b[0m\n\u001b[0;32m----> 1\u001b[0;31m \u001b[0mprint\u001b[0m\u001b[0;34m(\u001b[0m\u001b[0;34mf'Accuracy = {np.mean(pred_target.detach().numpy() == y_test)*100:.1f}%'\u001b[0m\u001b[0;34m)\u001b[0m\u001b[0;34m\u001b[0m\u001b[0;34m\u001b[0m\u001b[0m\n\u001b[0m",
      "\u001b[0;31mTypeError\u001b[0m: can't convert cuda:0 device type tensor to numpy. Use Tensor.cpu() to copy the tensor to host memory first."
     ]
    }
   ],
   "source": [
    "print(f'Accuracy = {np.mean(pred_target.detach().numpy() == y_test)*100:.1f}%')"
   ]
  },
  {
   "cell_type": "code",
   "execution_count": 18,
   "metadata": {
    "execution": {
     "iopub.execute_input": "2021-02-05T11:15:43.815133Z",
     "iopub.status.busy": "2021-02-05T11:15:43.813626Z",
     "iopub.status.idle": "2021-02-05T11:15:43.900627Z",
     "shell.execute_reply": "2021-02-05T11:15:43.901758Z"
    }
   },
   "outputs": [
    {
     "name": "stdout",
     "output_type": "stream",
     "text": [
      "../Records/EXP_03_NMNIST/2020-12-21_hots_nmnist_[4, 8, 16]_5_True_None_False_False\n"
     ]
    },
    {
     "data": {
      "application/vnd.jupyter.widget-view+json": {
       "model_id": "3019b01afa6c4740a0590a02af38719c",
       "version_major": 2,
       "version_minor": 0
      },
      "text/plain": [
       "HBox(children=(HTML(value=''), FloatProgress(value=0.0, max=1500.0), HTML(value='')))"
      ]
     },
     "metadata": {},
     "output_type": "display_data"
    },
    {
     "ename": "AttributeError",
     "evalue": "'TimeSurface' object has no attribute 'decay'",
     "output_type": "error",
     "traceback": [
      "\u001b[0;31m---------------------------------------------------------------------------\u001b[0m",
      "\u001b[0;31mAttributeError\u001b[0m                            Traceback (most recent call last)",
      "\u001b[0;32m<ipython-input-1-f9cd688c0d7b>\u001b[0m in \u001b[0;36m<module>\u001b[0;34m\u001b[0m\n\u001b[0;32m----> 1\u001b[0;31m \u001b[0mevents_train_o\u001b[0m\u001b[0;34m,\u001b[0m \u001b[0mevents_test_o\u001b[0m \u001b[0;34m=\u001b[0m \u001b[0mget_events\u001b[0m\u001b[0;34m(\u001b[0m\u001b[0mtau\u001b[0m\u001b[0;34m,\u001b[0m \u001b[0mkrnlinit\u001b[0m\u001b[0;34m,\u001b[0m \u001b[0mnblay\u001b[0m\u001b[0;34m,\u001b[0m \u001b[0mnbclust\u001b[0m\u001b[0;34m,\u001b[0m \u001b[0mhomeo\u001b[0m\u001b[0;34m,\u001b[0m \u001b[0mrecords_path\u001b[0m\u001b[0;34m,\u001b[0m \u001b[0mtimestr\u001b[0m\u001b[0;34m,\u001b[0m \u001b[0mdataset\u001b[0m\u001b[0;34m,\u001b[0m \u001b[0msigma\u001b[0m\u001b[0;34m,\u001b[0m \u001b[0mhomeinv\u001b[0m\u001b[0;34m,\u001b[0m \u001b[0mjitter\u001b[0m\u001b[0;34m,\u001b[0m \u001b[0mnb_train\u001b[0m\u001b[0;34m,\u001b[0m \u001b[0mnb_test\u001b[0m\u001b[0;34m)\u001b[0m\u001b[0;34m\u001b[0m\u001b[0;34m\u001b[0m\u001b[0m\n\u001b[0m\u001b[1;32m      2\u001b[0m \u001b[0mX_train\u001b[0m\u001b[0;34m,\u001b[0m \u001b[0my_train\u001b[0m \u001b[0;34m=\u001b[0m \u001b[0mgather_data\u001b[0m\u001b[0;34m(\u001b[0m\u001b[0mevents_train_o\u001b[0m\u001b[0;34m,\u001b[0m \u001b[0mverbose\u001b[0m\u001b[0;34m=\u001b[0m\u001b[0mverbose\u001b[0m\u001b[0;34m)\u001b[0m\u001b[0;34m\u001b[0m\u001b[0;34m\u001b[0m\u001b[0m\n",
      "\u001b[0;32m<ipython-input-1-5d4709a8fc46>\u001b[0m in \u001b[0;36mget_events\u001b[0;34m(tau, krnlinit, nblay, nbclust, homeo, records_path, timestr, dataset, sigma, homeinv, jitter, nb_train, nb_test)\u001b[0m\n\u001b[1;32m     89\u001b[0m \u001b[0;34m\u001b[0m\u001b[0m\n\u001b[1;32m     90\u001b[0m     \u001b[0;32mif\u001b[0m \u001b[0;32mnot\u001b[0m \u001b[0mos\u001b[0m\u001b[0;34m.\u001b[0m\u001b[0mpath\u001b[0m\u001b[0;34m.\u001b[0m\u001b[0misfile\u001b[0m\u001b[0;34m(\u001b[0m\u001b[0mfname\u001b[0m\u001b[0;34m+\u001b[0m\u001b[0;34mf'_evout_{nb_train}_{nb_test}.pkl'\u001b[0m\u001b[0;34m)\u001b[0m\u001b[0;34m:\u001b[0m\u001b[0;34m\u001b[0m\u001b[0;34m\u001b[0m\u001b[0m\n\u001b[0;32m---> 91\u001b[0;31m         \u001b[0m_\u001b[0m\u001b[0;34m,\u001b[0m \u001b[0mloaderhom\u001b[0m\u001b[0;34m,\u001b[0m \u001b[0mout_train\u001b[0m \u001b[0;34m=\u001b[0m \u001b[0mhotshom\u001b[0m\u001b[0;34m.\u001b[0m\u001b[0mrunning\u001b[0m\u001b[0;34m(\u001b[0m\u001b[0mloaderhom\u001b[0m\u001b[0;34m,\u001b[0m \u001b[0morder\u001b[0m\u001b[0;34m,\u001b[0m \u001b[0mnb_digit\u001b[0m \u001b[0;34m=\u001b[0m \u001b[0mnb_train\u001b[0m\u001b[0;34m,\u001b[0m \u001b[0mLR\u001b[0m\u001b[0;34m=\u001b[0m\u001b[0;32mTrue\u001b[0m\u001b[0;34m)\u001b[0m\u001b[0;34m\u001b[0m\u001b[0;34m\u001b[0m\u001b[0m\n\u001b[0m\u001b[1;32m     92\u001b[0m         \u001b[0m_\u001b[0m\u001b[0;34m,\u001b[0m \u001b[0mloaderhom\u001b[0m\u001b[0;34m,\u001b[0m \u001b[0mout_test\u001b[0m \u001b[0;34m=\u001b[0m \u001b[0mhotshom\u001b[0m\u001b[0;34m.\u001b[0m\u001b[0mrunning\u001b[0m\u001b[0;34m(\u001b[0m\u001b[0mloaderhom\u001b[0m\u001b[0;34m,\u001b[0m \u001b[0morder\u001b[0m\u001b[0;34m,\u001b[0m \u001b[0mnb_digit\u001b[0m \u001b[0;34m=\u001b[0m \u001b[0mnb_test\u001b[0m\u001b[0;34m,\u001b[0m \u001b[0mLR\u001b[0m\u001b[0;34m=\u001b[0m\u001b[0;32mTrue\u001b[0m\u001b[0;34m)\u001b[0m\u001b[0;34m\u001b[0m\u001b[0;34m\u001b[0m\u001b[0m\n\u001b[1;32m     93\u001b[0m         \u001b[0;32mwith\u001b[0m \u001b[0mopen\u001b[0m\u001b[0;34m(\u001b[0m\u001b[0mfname\u001b[0m\u001b[0;34m+\u001b[0m\u001b[0;34mf'_evout_{nb_train}_{nb_test}.pkl'\u001b[0m\u001b[0;34m,\u001b[0m \u001b[0;34m'wb'\u001b[0m\u001b[0;34m)\u001b[0m \u001b[0;32mas\u001b[0m \u001b[0mfile\u001b[0m\u001b[0;34m:\u001b[0m\u001b[0;34m\u001b[0m\u001b[0;34m\u001b[0m\u001b[0m\n",
      "\u001b[0;32m~/quantic/science/HomeHots/HOTS_clone_laurent/HOTS/mix_Network.py\u001b[0m in \u001b[0;36mrunning\u001b[0;34m(self, loader, ordering, LR, tau_cla, nb_digit, jitonic, dataset, to_record)\u001b[0m\n\u001b[1;32m    212\u001b[0m             \u001b[0mevents\u001b[0m\u001b[0;34m,\u001b[0m \u001b[0mtarget\u001b[0m \u001b[0;34m=\u001b[0m \u001b[0mnext\u001b[0m\u001b[0;34m(\u001b[0m\u001b[0miter\u001b[0m\u001b[0;34m(\u001b[0m\u001b[0mloader\u001b[0m\u001b[0;34m)\u001b[0m\u001b[0;34m)\u001b[0m\u001b[0;34m\u001b[0m\u001b[0;34m\u001b[0m\u001b[0m\n\u001b[1;32m    213\u001b[0m             \u001b[0;32mfor\u001b[0m \u001b[0miev\u001b[0m \u001b[0;32min\u001b[0m \u001b[0mrange\u001b[0m\u001b[0;34m(\u001b[0m\u001b[0mevents\u001b[0m\u001b[0;34m.\u001b[0m\u001b[0mshape\u001b[0m\u001b[0;34m[\u001b[0m\u001b[0;36m1\u001b[0m\u001b[0;34m]\u001b[0m\u001b[0;34m)\u001b[0m\u001b[0;34m:\u001b[0m\u001b[0;34m\u001b[0m\u001b[0;34m\u001b[0m\u001b[0m\n\u001b[0;32m--> 214\u001b[0;31m                 out, activout = self.run(events[0][iev][ordering.find(\"x\")].item(), \\\n\u001b[0m\u001b[1;32m    215\u001b[0m                                         \u001b[0mevents\u001b[0m\u001b[0;34m[\u001b[0m\u001b[0;36m0\u001b[0m\u001b[0;34m]\u001b[0m\u001b[0;34m[\u001b[0m\u001b[0miev\u001b[0m\u001b[0;34m]\u001b[0m\u001b[0;34m[\u001b[0m\u001b[0mordering\u001b[0m\u001b[0;34m.\u001b[0m\u001b[0mfind\u001b[0m\u001b[0;34m(\u001b[0m\u001b[0;34m\"y\"\u001b[0m\u001b[0;34m)\u001b[0m\u001b[0;34m]\u001b[0m\u001b[0;34m.\u001b[0m\u001b[0mitem\u001b[0m\u001b[0;34m(\u001b[0m\u001b[0;34m)\u001b[0m\u001b[0;34m,\u001b[0m\u001b[0;31m \u001b[0m\u001b[0;31m\\\u001b[0m\u001b[0;34m\u001b[0m\u001b[0;34m\u001b[0m\u001b[0m\n\u001b[1;32m    216\u001b[0m                                         \u001b[0mevents\u001b[0m\u001b[0;34m[\u001b[0m\u001b[0;36m0\u001b[0m\u001b[0;34m]\u001b[0m\u001b[0;34m[\u001b[0m\u001b[0miev\u001b[0m\u001b[0;34m]\u001b[0m\u001b[0;34m[\u001b[0m\u001b[0mordering\u001b[0m\u001b[0;34m.\u001b[0m\u001b[0mfind\u001b[0m\u001b[0;34m(\u001b[0m\u001b[0;34m\"t\"\u001b[0m\u001b[0;34m)\u001b[0m\u001b[0;34m]\u001b[0m\u001b[0;34m.\u001b[0m\u001b[0mitem\u001b[0m\u001b[0;34m(\u001b[0m\u001b[0;34m)\u001b[0m\u001b[0;34m,\u001b[0m\u001b[0;31m \u001b[0m\u001b[0;31m\\\u001b[0m\u001b[0;34m\u001b[0m\u001b[0;34m\u001b[0m\u001b[0m\n",
      "\u001b[0;32m~/quantic/science/HomeHots/HOTS_clone_laurent/HOTS/mix_Network.py\u001b[0m in \u001b[0;36mrun\u001b[0;34m(self, x, y, t, p, learn, to_record)\u001b[0m\n\u001b[1;32m    239\u001b[0m         \u001b[0mactivout\u001b[0m\u001b[0;34m=\u001b[0m\u001b[0;32mFalse\u001b[0m\u001b[0;34m\u001b[0m\u001b[0;34m\u001b[0m\u001b[0m\n\u001b[1;32m    240\u001b[0m         \u001b[0;32mwhile\u001b[0m \u001b[0mlay\u001b[0m\u001b[0;34m<\u001b[0m\u001b[0mlen\u001b[0m\u001b[0;34m(\u001b[0m\u001b[0mself\u001b[0m\u001b[0;34m.\u001b[0m\u001b[0mTS\u001b[0m\u001b[0;34m)\u001b[0m\u001b[0;34m:\u001b[0m\u001b[0;34m\u001b[0m\u001b[0;34m\u001b[0m\u001b[0m\n\u001b[0;32m--> 241\u001b[0;31m             \u001b[0mtimesurf\u001b[0m\u001b[0;34m,\u001b[0m \u001b[0mactiv\u001b[0m \u001b[0;34m=\u001b[0m \u001b[0mself\u001b[0m\u001b[0;34m.\u001b[0m\u001b[0mTS\u001b[0m\u001b[0;34m[\u001b[0m\u001b[0mlay\u001b[0m\u001b[0;34m]\u001b[0m\u001b[0;34m.\u001b[0m\u001b[0maddevent\u001b[0m\u001b[0;34m(\u001b[0m\u001b[0mx\u001b[0m\u001b[0;34m,\u001b[0m \u001b[0my\u001b[0m\u001b[0;34m,\u001b[0m \u001b[0mt\u001b[0m\u001b[0;34m,\u001b[0m \u001b[0mp\u001b[0m\u001b[0;34m)\u001b[0m\u001b[0;34m\u001b[0m\u001b[0;34m\u001b[0m\u001b[0m\n\u001b[0m\u001b[1;32m    242\u001b[0m             \u001b[0;32mif\u001b[0m \u001b[0mactiv\u001b[0m\u001b[0;34m:\u001b[0m\u001b[0;34m\u001b[0m\u001b[0;34m\u001b[0m\u001b[0m\n\u001b[1;32m    243\u001b[0m                 \u001b[0mp\u001b[0m\u001b[0;34m,\u001b[0m \u001b[0mdist\u001b[0m \u001b[0;34m=\u001b[0m \u001b[0mself\u001b[0m\u001b[0;34m.\u001b[0m\u001b[0mL\u001b[0m\u001b[0;34m[\u001b[0m\u001b[0mlay\u001b[0m\u001b[0;34m]\u001b[0m\u001b[0;34m.\u001b[0m\u001b[0mrun\u001b[0m\u001b[0;34m(\u001b[0m\u001b[0mtimesurf\u001b[0m\u001b[0;34m,\u001b[0m \u001b[0mlearn\u001b[0m\u001b[0;34m)\u001b[0m\u001b[0;34m\u001b[0m\u001b[0;34m\u001b[0m\u001b[0m\n",
      "\u001b[0;32m~/quantic/science/HomeHots/HOTS_clone_laurent/HOTS/mix_TimeSurface.py\u001b[0m in \u001b[0;36maddevent\u001b[0;34m(self, xev, yev, tev, pev)\u001b[0m\n\u001b[1;32m     79\u001b[0m             \u001b[0mself\u001b[0m\u001b[0;34m.\u001b[0m\u001b[0my\u001b[0m \u001b[0;34m=\u001b[0m \u001b[0myev\u001b[0m\u001b[0;34m\u001b[0m\u001b[0;34m\u001b[0m\u001b[0m\n\u001b[1;32m     80\u001b[0m             \u001b[0;31m# updating the spatiotemporal surface\u001b[0m\u001b[0;34m\u001b[0m\u001b[0;34m\u001b[0m\u001b[0;34m\u001b[0m\u001b[0m\n\u001b[0;32m---> 81\u001b[0;31m             \u001b[0;32mif\u001b[0m \u001b[0mself\u001b[0m\u001b[0;34m.\u001b[0m\u001b[0mdecay\u001b[0m \u001b[0;34m==\u001b[0m \u001b[0;34m'exponential'\u001b[0m\u001b[0;34m:\u001b[0m\u001b[0;34m\u001b[0m\u001b[0;34m\u001b[0m\u001b[0m\n\u001b[0m\u001b[1;32m     82\u001b[0m                 \u001b[0mself\u001b[0m\u001b[0;34m.\u001b[0m\u001b[0mspatpmat\u001b[0m \u001b[0;34m=\u001b[0m \u001b[0mself\u001b[0m\u001b[0;34m.\u001b[0m\u001b[0mspatpmat\u001b[0m\u001b[0;34m*\u001b[0m\u001b[0mnp\u001b[0m\u001b[0;34m.\u001b[0m\u001b[0mexp\u001b[0m\u001b[0;34m(\u001b[0m\u001b[0;34m-\u001b[0m\u001b[0;34m(\u001b[0m\u001b[0mfloat\u001b[0m\u001b[0;34m(\u001b[0m\u001b[0mtev\u001b[0m\u001b[0;34m-\u001b[0m\u001b[0mself\u001b[0m\u001b[0;34m.\u001b[0m\u001b[0mt\u001b[0m\u001b[0;34m)\u001b[0m\u001b[0;34m)\u001b[0m\u001b[0;34m/\u001b[0m\u001b[0mself\u001b[0m\u001b[0;34m.\u001b[0m\u001b[0mtau\u001b[0m\u001b[0;34m)\u001b[0m\u001b[0;34m\u001b[0m\u001b[0;34m\u001b[0m\u001b[0m\n\u001b[1;32m     83\u001b[0m                 \u001b[0;31m# making threshold for small elements\u001b[0m\u001b[0;34m\u001b[0m\u001b[0;34m\u001b[0m\u001b[0;34m\u001b[0m\u001b[0m\n",
      "\u001b[0;31mAttributeError\u001b[0m: 'TimeSurface' object has no attribute 'decay'"
     ]
    }
   ],
   "source": [
    "events_train_o, events_test_o = get_events(tau, krnlinit, nblay, nbclust, homeo, records_path, timestr, dataset, sigma, homeinv, jitter, nb_train, nb_test)\n",
    "X_train, y_train = gather_data(events_train_o, verbose=verbose)"
   ]
  },
  {
   "cell_type": "code",
   "execution_count": 19,
   "metadata": {
    "execution": {
     "iopub.execute_input": "2021-02-05T11:15:43.916487Z",
     "iopub.status.busy": "2021-02-05T11:15:43.915632Z",
     "iopub.status.idle": "2021-02-05T11:34:51.935690Z",
     "shell.execute_reply": "2021-02-05T11:34:51.934819Z"
    }
   },
   "outputs": [
    {
     "name": "stdout",
     "output_type": "stream",
     "text": [
      "device -> cuda\n",
      "Iteration: 0 - Loss: 0.30643\n",
      "Iteration: 16 - Loss: 0.01286\n",
      "Iteration: 32 - Loss: 0.00821\n",
      "Iteration: 48 - Loss: 0.00627\n",
      "Iteration: 64 - Loss: 0.00513\n",
      "Iteration: 80 - Loss: 0.00439\n",
      "Iteration: 96 - Loss: 0.00384\n",
      "Iteration: 112 - Loss: 0.00343\n",
      "Iteration: 128 - Loss: 0.00311\n",
      "Iteration: 144 - Loss: 0.00284\n",
      "Iteration: 160 - Loss: 0.00263\n",
      "Iteration: 176 - Loss: 0.00244\n",
      "Iteration: 192 - Loss: 0.00228\n",
      "Iteration: 208 - Loss: 0.00215\n",
      "Iteration: 224 - Loss: 0.00202\n",
      "Iteration: 240 - Loss: 0.00192\n",
      "Iteration: 256 - Loss: 0.00182\n",
      "Iteration: 272 - Loss: 0.00173\n",
      "Iteration: 288 - Loss: 0.00166\n",
      "Iteration: 304 - Loss: 0.00159\n",
      "Iteration: 320 - Loss: 0.00152\n",
      "Iteration: 336 - Loss: 0.00146\n",
      "Iteration: 352 - Loss: 0.00141\n",
      "Iteration: 368 - Loss: 0.00136\n",
      "Iteration: 384 - Loss: 0.00131\n",
      "Iteration: 400 - Loss: 0.00127\n",
      "Iteration: 416 - Loss: 0.00123\n",
      "Iteration: 432 - Loss: 0.00119\n",
      "Iteration: 448 - Loss: 0.00115\n",
      "Iteration: 464 - Loss: 0.00112\n",
      "Iteration: 480 - Loss: 0.00109\n",
      "Iteration: 496 - Loss: 0.00106\n",
      "Iteration: 512 - Loss: 0.00103\n",
      "Final loss = [0.0001661339754983468, 0.0012528926422505702, 0.0021204413003476858, 0.0006661489697646456, 0.0007851049327208022, 0.000238595454170066, 0.00024120219474308614, 0.00027464867463416933, 0.00019010610483491397, 0.0005234119560053667, 0.001031102997368984, 0.0004246364087636738, 0.0005851423981427724, 0.0010899321615488494, 0.006201220393064082, 0.0003088902201726864, 0.0009254992567739933, 0.0016226557563593436, 0.002074219155026953, 0.0003125497690298763, 0.00883647484989509, 0.0006846331711112267, 0.000313705377696647, 0.0002463175278334168, 0.00035187051641935585, 0.001951138370868708, 0.0013064757712700744, 0.0003385847185468254, 0.0005386493220748474, 0.0005222244317511181, 0.0007795506184198998, 0.0019705646257679142, 0.0006344141700029432, 0.00047470894015226036, 0.0005778105826386939, 0.0011210043144632383, 0.0004228453905328835, 0.0010756649532762182, 0.0016362223452386607, 0.00043827601050634615, 0.0005484718254542585, 0.0005402499167805859, 0.0002314356405853133, 0.0006251659916657981, 0.000303527810470727, 0.0005411271248597979, 0.00569617157598955, 0.00023379318222016026, 0.00030349942656918627, 0.0005598497842762971, 0.0018266787282153682, 0.0006600093782569265, 0.00039036583682442485, 0.0007289757084871973, 0.00040207251315194336, 0.0006873715037222891, 0.0005373837903917432, 0.0007549687505844329, 0.0004015637662820855, 0.0005212121705632958, 0.0004120497616131287, 0.0002656124910092924, 0.0007778130450540826, 0.0016557954917671195, 0.00032324246304215004, 0.00039267216294313956, 0.00038073571810267286, 0.0006003235198894946, 0.00017029412014765707, 0.0001595163467562706, 0.00030788909523026713, 0.00022022705660722756, 0.0010107744290442603, 0.0008426213684026644, 0.0011082372855628784, 0.00037682424730629404, 0.0005787311412701097, 0.00026199712157218264, 0.0005797950599849572, 0.0005676714926892434, 0.0004364235224475896, 0.000612859637365565, 0.000773213625787169, 0.00018466658326364685, 0.008818669469345468, 0.00038077331037223984, 0.0010035679345035888, 0.0003028253505447721, 0.0006541534781124993, 0.0006485543178611992, 0.0005124608047579714, 0.0027060680552525394, 0.0004191789516428229, 0.0009499618552313682, 0.00040888870101754387, 0.0005944198401818725, 0.0005792372420263955, 0.0006402504395376647, 0.00023467703428395575, 0.0005532191840511003, 0.0002559279395177177, 0.0003965495411186956, 0.00019001250250973351, 0.0007895647005903915, 0.0011096419357729589, 0.0003136327340086595, 0.0006698120553059186, 0.0017222192567255773, 0.001030965720603865, 0.0007323300652840153, 0.0032523668855499632, 0.00016214018131322275, 0.0005949675726076007, 0.001140941819305315, 0.0004078664359868799, 0.0009877828445190465, 0.00042016052415612333, 0.004838998022484493, 0.0004201704220659084, 0.001412471692805658, 0.0013150699610260527, 0.00032439008772473755, 0.0008155812296275355, 0.0005363613477134503, 0.0006765765272955335, 0.0010049147119702928, 0.00046249581088001585, 0.0004448180859691503, 0.0014461847739375053, 0.000699157033686668, 0.00028279166395906986, 0.0006956380774691986, 0.00068603344850631, 0.0002483384629469539, 0.00029519494136450564, 0.0002134288406004652, 0.00020091343614152033, 0.00041268047432976303, 0.0010749657499468216, 0.00038206113757544024, 0.0003314841779345315, 0.0002821381571584629, 0.0002073265764957176, 0.000690896468726634, 0.0006565909768069475, 0.0013697097497785522, 0.0003448753320271511, 0.004630791724412633, 0.0006110934748501236, 0.001873560932887051, 0.0006137228420532824, 0.00040607325529678595, 0.0004461842146549268, 0.00605861576397465, 0.0005025308568570279, 0.0007933204238856788, 0.0008352913769833443, 0.0003323419150241059, 0.00044301766778117495, 0.0009077066776876377, 0.00027826615766107776, 0.001885466374995394, 0.0006720042974605228, 0.001215340357828566, 0.0005451443147567068, 0.00036372902893934823, 0.0005697380818126834, 0.00043000065532689506, 0.00042037725266292746, 0.0007545261715855032, 0.0004864102128325014, 0.0009399919029777425, 0.0037491514892743147, 0.00048436748356553975, 0.0010834719525034792, 0.0005675175737436445, 0.0004607804771388303, 0.0002734755357626186, 0.004207687590984417, 0.0020263900739771828, 0.0017660662740072396, 0.0005690487126649425, 0.0003349785487775148, 0.005822645765437785, 0.0006791437958454946, 0.0004877914216444665, 0.0006640370054769881, 0.0003790140867610827, 0.00036134512739772654, 0.0006817192095482199, 0.0020079099519689, 0.0003789774288929678, 0.00038738653538251277, 0.0006849801796911345, 0.0005589657232097684, 0.0009068437727177054, 0.00042528453877114093, 0.0036593211929998527, 0.0003892852294805038, 0.00021261125309732557, 0.0007124603321822165, 0.0023368152197232608, 0.0004308890292813092, 0.0017722035791120625, 0.0017951779114017013, 0.0004813074531033246, 0.0002906950566184594, 0.0027150036409961963, 0.002121106838299017, 0.006390754704338595, 0.0002556656255437544, 0.0008389556142316514, 0.001678976923206966, 0.003934887662890426, 0.0010725984150107063, 0.0005478052376570374, 0.0003130634419016265, 0.00019623304579081664, 0.000621578865083418, 0.00036463582505367857, 0.0018034116877716326, 0.00034554212805554496, 0.000586652196345107, 0.0003226049310981408, 0.0008549790466151345, 0.0008688452806637505, 0.0008315497704272525, 0.0005715863439859462, 0.0010561575923458458, 0.0009766613854960589, 0.00040368574274038936, 0.0003219430098841999, 0.00043957187900664485, 0.000551436141570101, 0.003233956093293741, 0.0008044931129447015, 0.00038462867039895876, 0.0005591226872400385, 0.0009930965051840152, 0.0018155539896835859, 0.00037399885634288203, 0.004848519195335976, 0.0003620824415619126, 0.0002749899771837879, 0.0004555656342536517, 0.000394324059351637, 0.0005389519823428066, 0.0006044269832257104, 0.0006439162696680948, 0.00023658110548082487, 0.0007407698681802209, 0.001134760881765008, 0.001647840630984723, 0.0015299102973963844, 0.0009919905669002135, 0.0002040583557312824, 0.0003352315963329391, 0.003232888704107662, 0.0004803647026988924, 0.0016938372131679639, 0.0005630543469661611, 0.000626169699057188, 0.0002511698165149725, 0.000255819377882412, 0.0003055767264630428, 0.0018382852608297827, 0.0003386587572097767, 0.0010764061518375753, 0.0006706087551645553, 0.0003663504186379094, 0.00019043681582453514, 0.0005464442705902588, 0.0002716520634191305, 0.003988964231551347, 0.0002576879426627681, 0.0006225508631011634, 0.00022951975785730328, 0.0026377663734320294, 0.0010311564947035467, 0.0007968430038519601, 0.0011708867963891906, 0.002467433273213269, 0.0034211074776097873, 0.00025424636670025595, 0.0013931367827874938, 0.0004261542532554519, 0.0029908030662348212, 0.0009611306196229198, 0.00029277512806471053, 0.0005296513854776293, 0.0008585127708490456, 0.0005952349704890432, 0.0007467439399071062, 0.00036683704920115797, 0.000562148267082257, 0.0007926819436719531, 0.0005979289161481816, 0.0021020671036260214, 0.0011603980676277632, 0.00041852441035400374, 0.005399759390629603, 0.0003841740013328657, 0.0018265416389803236, 0.003232040420752323, 0.0002964300428460896, 0.0008307624021595264, 0.001556434742548849, 0.0009364399802425484, 0.0007747909109120028, 0.005495747105539775, 0.000890412397384264, 0.0006094047016231309, 0.00020831066683203137, 0.000533023636274106, 0.0005323662008319648, 0.0003902341945281008, 0.0010169883731418064, 0.00024330686350832226, 0.0008832677360788779, 0.003334499702370624, 0.000798357558478703, 0.0004264139200739479, 0.0008969098970995142, 0.0008335044934914275, 0.0008232866012239709, 0.0009771927951330184, 0.0010374957725423138, 0.0005787354084746155, 0.0001514387455410994, 0.0018586664182969703, 0.0005228573246736486, 0.0006181660943091, 0.0007115141086642879, 0.0007827325201648766, 0.0006616824429967066, 0.00048421639672642167, 0.0004172664785543242, 0.00887845113941181, 0.0008699162666083068, 0.0016515820788844968, 0.0006934148796370766, 0.0018124251449831371, 0.0005567692460559711, 0.0006750221887578461, 0.0011258031721798254, 0.00028699105596929854, 0.001365562822794186, 0.001359502203825174, 0.000429272376212315, 0.00039410057189303525, 0.0007397827223190433, 0.0008775005348243718, 0.00034512845815028783, 0.0011379474863007111, 0.002075237467032607, 0.0007400539904177443, 0.0008691017123162437, 0.0016275971090501738, 0.0012671164755631073, 0.0002861395177406004, 0.0005995939514114944, 0.0012645024185535872, 0.0017930095013261016, 0.0011292848498281759, 0.000974977808657984, 0.006202252537557595, 0.0002682245273448058, 0.0015546473553818539, 0.000595260244268911, 0.002124277335590281, 0.0005763280464570172, 0.00047980483461446957, 0.0004503975831939016, 0.0009320649417428175, 0.00025990257743605476, 0.0005171698093988833, 0.0004151074741922805, 0.0005277482931537582, 0.0012565705306792749, 0.000579086422980314, 0.000481952256006485, 0.0011440914131241918, 0.0006342583092593895, 0.0005858268131254862, 0.0004525469630242741, 0.0005153556821957859, 0.0019996010403532712, 0.0013597915706672584, 0.001582411304300722, 0.0008524458280837152, 0.0007609366214757613, 0.0009380797589594198, 0.00016171769809611452, 0.002065777074159424, 0.0010613497402692513, 0.000625928669583245, 0.0003946256253095397, 0.000605540103211298, 0.0012908596353963537, 0.0014278485206891149, 0.00017955126182738875, 0.0005878701508531793, 0.0004415883177549575, 0.0003516214766134278, 0.0037049995331363203, 0.001346839802378219, 0.004966144471154043, 0.0008519001085998762, 0.0004429433860840445, 0.0007532535241358718, 0.00040095825018481203, 0.0004356813124848901, 0.0005284543580372602, 0.0005634030871309349, 0.0005074418229767962, 0.001767378901263353, 0.00021060591872500072, 0.0004582925321804087, 0.00028612589075286587, 0.0003919741990913778, 0.0010312392346356059, 0.003035995573876557, 0.0005543377172670698, 0.0014339652066438428, 0.0005822082411920672, 0.005371301030754382, 0.0008065001622268158, 0.0006478569617234267, 0.002183277433800918, 0.0006112060211547815, 0.00021834015985991583, 0.0013618080063495896, 0.0004163660886035795, 0.0007407558688187443, 0.00039299889667067074, 0.0003340296527519289, 0.0006398359394134142, 0.0045067678481159985, 0.0009463738756798318, 0.00029791738727981203, 0.0013632035141546467, 0.0040509356450828165, 0.00022849704927445507, 0.0003367116595300392, 0.0003822691039530005, 0.0005524798054288427, 0.0033004257423827938, 0.0024611738732375123, 0.00023074885577633, 0.0013988100438792406, 0.001626639207356148, 0.0013754667504013813, 0.0003915608365271877, 0.0003465986893373766, 0.0008697010241135429, 0.0004342358954348897, 0.0010202722749694337, 0.0001703676906368171, 0.0012202919235144863, 0.0005349091443210294, 0.0013414511401240751, 0.0009437912714732783, 0.0004458829368726352, 0.0003377759708577638, 0.0007175149879389927, 0.0005722446657412491, 0.0004236956743727339, 0.00047049245346302406, 0.0003199046722581533, 0.0002451984227855078, 0.00027288892714937636, 0.00037566836292706563, 0.0011988171417088764, 0.0014349347161261706, 0.00038373520887644117, 0.0005450139436733377, 0.000587517332175975, 0.002981688847780239, 0.0009487359766454654, 0.00019557379663789602, 0.0013282520450215965, 0.002138390813952565, 0.0007064616268174083, 0.0007111646890779619, 0.0006048829574467492, 0.00022448785897150026, 0.001741065620536116, 0.00020712082859049804, 0.0018759133798564563, 0.0005421702964837176, 0.0004951818102059338, 0.00048730746171445755]\n"
     ]
    }
   ],
   "source": [
    "n_classes = 10\n",
    "N = X_train.shape[1]\n",
    "\n",
    "logistic_model = LogisticRegressionModel(N, n_classes)\n",
    "\n",
    "logistic_model, loss = fit_data(X_train, y_train, verbose=True)\n",
    "print(\"Final loss =\", loss)"
   ]
  },
  {
   "cell_type": "code",
   "execution_count": 20,
   "metadata": {
    "execution": {
     "iopub.execute_input": "2021-02-05T11:34:51.939367Z",
     "iopub.status.busy": "2021-02-05T11:34:51.938959Z",
     "iopub.status.idle": "2021-02-05T11:34:51.954501Z",
     "shell.execute_reply": "2021-02-05T11:34:51.955365Z"
    }
   },
   "outputs": [
    {
     "ename": "NameError",
     "evalue": "name 'events_test_o' is not defined",
     "output_type": "error",
     "traceback": [
      "\u001b[0;31m---------------------------------------------------------------------------\u001b[0m",
      "\u001b[0;31mNameError\u001b[0m                                 Traceback (most recent call last)",
      "\u001b[0;32m<ipython-input-1-621271eba3bb>\u001b[0m in \u001b[0;36m<module>\u001b[0;34m\u001b[0m\n\u001b[0;32m----> 1\u001b[0;31m \u001b[0mX_test\u001b[0m\u001b[0;34m,\u001b[0m \u001b[0my_test\u001b[0m \u001b[0;34m=\u001b[0m \u001b[0mgather_data\u001b[0m\u001b[0;34m(\u001b[0m\u001b[0mevents_test_o\u001b[0m\u001b[0;34m,\u001b[0m \u001b[0mverbose\u001b[0m\u001b[0;34m=\u001b[0m\u001b[0mverbose\u001b[0m\u001b[0;34m)\u001b[0m\u001b[0;34m\u001b[0m\u001b[0;34m\u001b[0m\u001b[0m\n\u001b[0m\u001b[1;32m      2\u001b[0m \u001b[0mpred_target\u001b[0m \u001b[0;34m=\u001b[0m \u001b[0mpredict_data\u001b[0m\u001b[0;34m(\u001b[0m\u001b[0mX_test\u001b[0m\u001b[0;34m,\u001b[0m \u001b[0my_test\u001b[0m\u001b[0;34m,\u001b[0m \u001b[0mlogistic_model\u001b[0m\u001b[0;34m)\u001b[0m\u001b[0;34m\u001b[0m\u001b[0;34m\u001b[0m\u001b[0m\n",
      "\u001b[0;31mNameError\u001b[0m: name 'events_test_o' is not defined"
     ]
    }
   ],
   "source": [
    "X_test, y_test = gather_data(events_test_o, verbose=verbose)\n",
    "pred_target = predict_data(X_test, y_test, logistic_model)"
   ]
  },
  {
   "cell_type": "code",
   "execution_count": null,
   "metadata": {},
   "outputs": [],
   "source": []
  }
 ],
 "metadata": {
  "kernelspec": {
   "display_name": "Python 3",
   "language": "python",
   "name": "python3"
  },
  "language_info": {
   "codemirror_mode": {
    "name": "ipython",
    "version": 3
   },
   "file_extension": ".py",
   "mimetype": "text/x-python",
   "name": "python",
   "nbconvert_exporter": "python",
   "pygments_lexer": "ipython3",
   "version": "3.8.5"
  },
  "widgets": {
   "application/vnd.jupyter.widget-state+json": {
    "state": {
     "0ec08679e4a04a02a9d1ac06d403779e": {
      "model_module": "@jupyter-widgets/base",
      "model_module_version": "1.2.0",
      "model_name": "LayoutModel",
      "state": {
       "_model_module": "@jupyter-widgets/base",
       "_model_module_version": "1.2.0",
       "_model_name": "LayoutModel",
       "_view_count": null,
       "_view_module": "@jupyter-widgets/base",
       "_view_module_version": "1.2.0",
       "_view_name": "LayoutView",
       "align_content": null,
       "align_items": null,
       "align_self": null,
       "border": null,
       "bottom": null,
       "display": null,
       "flex": null,
       "flex_flow": null,
       "grid_area": null,
       "grid_auto_columns": null,
       "grid_auto_flow": null,
       "grid_auto_rows": null,
       "grid_column": null,
       "grid_gap": null,
       "grid_row": null,
       "grid_template_areas": null,
       "grid_template_columns": null,
       "grid_template_rows": null,
       "height": null,
       "justify_content": null,
       "justify_items": null,
       "left": null,
       "margin": null,
       "max_height": null,
       "max_width": null,
       "min_height": null,
       "min_width": null,
       "object_fit": null,
       "object_position": null,
       "order": null,
       "overflow": null,
       "overflow_x": null,
       "overflow_y": null,
       "padding": null,
       "right": null,
       "top": null,
       "visibility": null,
       "width": null
      }
     },
     "3019b01afa6c4740a0590a02af38719c": {
      "model_module": "@jupyter-widgets/controls",
      "model_module_version": "1.5.0",
      "model_name": "HBoxModel",
      "state": {
       "_dom_classes": [],
       "_model_module": "@jupyter-widgets/controls",
       "_model_module_version": "1.5.0",
       "_model_name": "HBoxModel",
       "_view_count": null,
       "_view_module": "@jupyter-widgets/controls",
       "_view_module_version": "1.5.0",
       "_view_name": "HBoxView",
       "box_style": "",
       "children": [
        "IPY_MODEL_c5cb0d6b4c0e47c7ab131c9b17f39edb",
        "IPY_MODEL_46520796144c47c09b7981eb96f34b92",
        "IPY_MODEL_62b309a2938949d98b371e699ed2a01c"
       ],
       "layout": "IPY_MODEL_8fb106ff95ef4707acc39e07e3485129"
      }
     },
     "46520796144c47c09b7981eb96f34b92": {
      "model_module": "@jupyter-widgets/controls",
      "model_module_version": "1.5.0",
      "model_name": "FloatProgressModel",
      "state": {
       "_dom_classes": [],
       "_model_module": "@jupyter-widgets/controls",
       "_model_module_version": "1.5.0",
       "_model_name": "FloatProgressModel",
       "_view_count": null,
       "_view_module": "@jupyter-widgets/controls",
       "_view_module_version": "1.5.0",
       "_view_name": "ProgressView",
       "bar_style": "",
       "description": "",
       "description_tooltip": null,
       "layout": "IPY_MODEL_a9c9998fbe2e404f92bccd94eaeb9db1",
       "max": 1500.0,
       "min": 0.0,
       "orientation": "horizontal",
       "style": "IPY_MODEL_beb101d842bb4d84a68388ca355c310e",
       "value": 0.0
      }
     },
     "62b309a2938949d98b371e699ed2a01c": {
      "model_module": "@jupyter-widgets/controls",
      "model_module_version": "1.5.0",
      "model_name": "HTMLModel",
      "state": {
       "_dom_classes": [],
       "_model_module": "@jupyter-widgets/controls",
       "_model_module_version": "1.5.0",
       "_model_name": "HTMLModel",
       "_view_count": null,
       "_view_module": "@jupyter-widgets/controls",
       "_view_module_version": "1.5.0",
       "_view_name": "HTMLView",
       "description": "",
       "description_tooltip": null,
       "layout": "IPY_MODEL_6456cce9fa034e9587cd40b6f0dd9737",
       "placeholder": "​",
       "style": "IPY_MODEL_6db3c1ece5e54d34a20a251703ced95d",
       "value": " 0/1500 [00:00&lt;?, ?it/s]"
      }
     },
     "6456cce9fa034e9587cd40b6f0dd9737": {
      "model_module": "@jupyter-widgets/base",
      "model_module_version": "1.2.0",
      "model_name": "LayoutModel",
      "state": {
       "_model_module": "@jupyter-widgets/base",
       "_model_module_version": "1.2.0",
       "_model_name": "LayoutModel",
       "_view_count": null,
       "_view_module": "@jupyter-widgets/base",
       "_view_module_version": "1.2.0",
       "_view_name": "LayoutView",
       "align_content": null,
       "align_items": null,
       "align_self": null,
       "border": null,
       "bottom": null,
       "display": null,
       "flex": null,
       "flex_flow": null,
       "grid_area": null,
       "grid_auto_columns": null,
       "grid_auto_flow": null,
       "grid_auto_rows": null,
       "grid_column": null,
       "grid_gap": null,
       "grid_row": null,
       "grid_template_areas": null,
       "grid_template_columns": null,
       "grid_template_rows": null,
       "height": null,
       "justify_content": null,
       "justify_items": null,
       "left": null,
       "margin": null,
       "max_height": null,
       "max_width": null,
       "min_height": null,
       "min_width": null,
       "object_fit": null,
       "object_position": null,
       "order": null,
       "overflow": null,
       "overflow_x": null,
       "overflow_y": null,
       "padding": null,
       "right": null,
       "top": null,
       "visibility": null,
       "width": null
      }
     },
     "6db3c1ece5e54d34a20a251703ced95d": {
      "model_module": "@jupyter-widgets/controls",
      "model_module_version": "1.5.0",
      "model_name": "DescriptionStyleModel",
      "state": {
       "_model_module": "@jupyter-widgets/controls",
       "_model_module_version": "1.5.0",
       "_model_name": "DescriptionStyleModel",
       "_view_count": null,
       "_view_module": "@jupyter-widgets/base",
       "_view_module_version": "1.2.0",
       "_view_name": "StyleView",
       "description_width": ""
      }
     },
     "8fb106ff95ef4707acc39e07e3485129": {
      "model_module": "@jupyter-widgets/base",
      "model_module_version": "1.2.0",
      "model_name": "LayoutModel",
      "state": {
       "_model_module": "@jupyter-widgets/base",
       "_model_module_version": "1.2.0",
       "_model_name": "LayoutModel",
       "_view_count": null,
       "_view_module": "@jupyter-widgets/base",
       "_view_module_version": "1.2.0",
       "_view_name": "LayoutView",
       "align_content": null,
       "align_items": null,
       "align_self": null,
       "border": null,
       "bottom": null,
       "display": null,
       "flex": null,
       "flex_flow": null,
       "grid_area": null,
       "grid_auto_columns": null,
       "grid_auto_flow": null,
       "grid_auto_rows": null,
       "grid_column": null,
       "grid_gap": null,
       "grid_row": null,
       "grid_template_areas": null,
       "grid_template_columns": null,
       "grid_template_rows": null,
       "height": null,
       "justify_content": null,
       "justify_items": null,
       "left": null,
       "margin": null,
       "max_height": null,
       "max_width": null,
       "min_height": null,
       "min_width": null,
       "object_fit": null,
       "object_position": null,
       "order": null,
       "overflow": null,
       "overflow_x": null,
       "overflow_y": null,
       "padding": null,
       "right": null,
       "top": null,
       "visibility": null,
       "width": null
      }
     },
     "a9c9998fbe2e404f92bccd94eaeb9db1": {
      "model_module": "@jupyter-widgets/base",
      "model_module_version": "1.2.0",
      "model_name": "LayoutModel",
      "state": {
       "_model_module": "@jupyter-widgets/base",
       "_model_module_version": "1.2.0",
       "_model_name": "LayoutModel",
       "_view_count": null,
       "_view_module": "@jupyter-widgets/base",
       "_view_module_version": "1.2.0",
       "_view_name": "LayoutView",
       "align_content": null,
       "align_items": null,
       "align_self": null,
       "border": null,
       "bottom": null,
       "display": null,
       "flex": null,
       "flex_flow": null,
       "grid_area": null,
       "grid_auto_columns": null,
       "grid_auto_flow": null,
       "grid_auto_rows": null,
       "grid_column": null,
       "grid_gap": null,
       "grid_row": null,
       "grid_template_areas": null,
       "grid_template_columns": null,
       "grid_template_rows": null,
       "height": null,
       "justify_content": null,
       "justify_items": null,
       "left": null,
       "margin": null,
       "max_height": null,
       "max_width": null,
       "min_height": null,
       "min_width": null,
       "object_fit": null,
       "object_position": null,
       "order": null,
       "overflow": null,
       "overflow_x": null,
       "overflow_y": null,
       "padding": null,
       "right": null,
       "top": null,
       "visibility": null,
       "width": null
      }
     },
     "beb101d842bb4d84a68388ca355c310e": {
      "model_module": "@jupyter-widgets/controls",
      "model_module_version": "1.5.0",
      "model_name": "ProgressStyleModel",
      "state": {
       "_model_module": "@jupyter-widgets/controls",
       "_model_module_version": "1.5.0",
       "_model_name": "ProgressStyleModel",
       "_view_count": null,
       "_view_module": "@jupyter-widgets/base",
       "_view_module_version": "1.2.0",
       "_view_name": "StyleView",
       "bar_color": null,
       "description_width": ""
      }
     },
     "c5cb0d6b4c0e47c7ab131c9b17f39edb": {
      "model_module": "@jupyter-widgets/controls",
      "model_module_version": "1.5.0",
      "model_name": "HTMLModel",
      "state": {
       "_dom_classes": [],
       "_model_module": "@jupyter-widgets/controls",
       "_model_module_version": "1.5.0",
       "_model_name": "HTMLModel",
       "_view_count": null,
       "_view_module": "@jupyter-widgets/controls",
       "_view_module_version": "1.5.0",
       "_view_name": "HTMLView",
       "description": "",
       "description_tooltip": null,
       "layout": "IPY_MODEL_0ec08679e4a04a02a9d1ac06d403779e",
       "placeholder": "​",
       "style": "IPY_MODEL_c7a9023daa05466fb12b9df26400a388",
       "value": "  0%"
      }
     },
     "c7a9023daa05466fb12b9df26400a388": {
      "model_module": "@jupyter-widgets/controls",
      "model_module_version": "1.5.0",
      "model_name": "DescriptionStyleModel",
      "state": {
       "_model_module": "@jupyter-widgets/controls",
       "_model_module_version": "1.5.0",
       "_model_name": "DescriptionStyleModel",
       "_view_count": null,
       "_view_module": "@jupyter-widgets/base",
       "_view_module_version": "1.2.0",
       "_view_name": "StyleView",
       "description_width": ""
      }
     }
    },
    "version_major": 2,
    "version_minor": 0
   }
  }
 },
 "nbformat": 4,
 "nbformat_minor": 4
}
