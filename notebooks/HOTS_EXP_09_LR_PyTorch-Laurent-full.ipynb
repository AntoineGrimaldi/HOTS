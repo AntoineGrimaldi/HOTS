{
 "cells": [
  {
   "cell_type": "code",
<<<<<<< HEAD
   "execution_count": 1,
   "metadata": {
    "execution": {
     "iopub.execute_input": "2021-02-05T14:31:31.575582Z",
     "iopub.status.busy": "2021-02-05T14:31:31.573989Z",
     "iopub.status.idle": "2021-02-05T14:31:31.937278Z",
     "shell.execute_reply": "2021-02-05T14:31:31.937609Z"
    }
   },
=======
   "execution_count": 12,
   "metadata": {},
>>>>>>> 5d2ca3f3a9923f84bf2a1e761c8c3e5e5bbe7569
   "outputs": [
    {
     "name": "stdout",
     "output_type": "stream",
     "text": [
<<<<<<< HEAD
      "/home/laurent/quantic/science/HomeHots/HOTS_clone_laurent/HOTS\n"
=======
      "/home/antoine/homhots/HOTS/HOTS\n"
>>>>>>> 5d2ca3f3a9923f84bf2a1e761c8c3e5e5bbe7569
     ]
    }
   ],
   "source": [
    "#%load_ext autoreload\n",
    "#%autoreload 2\n",
    "%matplotlib inline\n",
    "%cd '../HOTS'"
   ]
  },
  {
   "cell_type": "code",
<<<<<<< HEAD
   "execution_count": 2,
   "metadata": {
    "execution": {
     "iopub.execute_input": "2021-02-05T14:31:31.952021Z",
     "iopub.status.busy": "2021-02-05T14:31:31.950902Z",
     "iopub.status.idle": "2021-02-05T14:31:33.773993Z",
     "shell.execute_reply": "2021-02-05T14:31:33.773166Z"
    }
   },
=======
   "execution_count": 13,
   "metadata": {},
>>>>>>> 5d2ca3f3a9923f84bf2a1e761c8c3e5e5bbe7569
   "outputs": [],
   "source": [
    "import os\n",
    "import pickle\n",
    "import datetime\n",
    "from mix_Network import *\n",
    "\n",
    "dataset = 'nmnist'\n",
    "records_path = '../Records'\n",
    "timestr = datetime.datetime.now().date().isoformat()\n",
    "timestr = '2021-01-27'\n",
    "verbose = True\n",
    "\n",
    "%mkdir -p ../Records\n",
    "%mkdir -p ../Records/EXP_03_NMNIST\n",
    "\n",
    "homeo = True\n",
    "sigma = None\n",
    "pooling = False\n",
    "homeinv = False\n",
    "jitter = False\n",
    "tau = 5\n",
    "krnlinit = 'first'\n",
    "nblay = 3\n",
    "nbclust = 4\n",
    "\n",
    "ds = 5\n",
    "nb_train = 7500//ds\n",
    "nb_test = 2500//ds"
   ]
  },
  {
   "cell_type": "code",
<<<<<<< HEAD
   "execution_count": 3,
   "metadata": {
    "execution": {
     "iopub.execute_input": "2021-02-05T14:31:33.806783Z",
     "iopub.status.busy": "2021-02-05T14:31:33.805663Z",
     "iopub.status.idle": "2021-02-05T14:31:33.807880Z",
     "shell.execute_reply": "2021-02-05T14:31:33.808663Z"
    }
   },
=======
   "execution_count": 14,
   "metadata": {},
>>>>>>> 5d2ca3f3a9923f84bf2a1e761c8c3e5e5bbe7569
   "outputs": [],
   "source": [
    "def get_nmnist(NbTrainingData, NbTestingData):\n",
    "    def loadev(nbdigit, loader, learningset):\n",
    "        timout = []\n",
    "        xout = []\n",
    "        yout = []\n",
    "        polout = []\n",
    "        labout = []\n",
    "        for i in range(NbTrainingData):\n",
    "            events, target = next(iter(loader))\n",
    "            for iev in range(events.shape[1]):\n",
    "                    timout.append(events[0][iev][learningset.ordering.find(\"t\")].item())\n",
    "                    xout.append(events[0][iev][learningset.ordering.find(\"x\")].item())\n",
    "                    yout.append(events[0][iev][learningset.ordering.find(\"y\")].item())\n",
    "                    polout.append(events[0][iev][learningset.ordering.find(\"p\")].item())\n",
    "                    labout.append(target.item())\n",
    "\n",
    "        eventsout = [xout,yout,timout,polout,labout,learningset.sensor_size,2]\n",
    "        return eventsout\n",
    "    \n",
    "    learningset = tonic.datasets.NMNIST(save_to='../Data/',\n",
    "                                    train=False,\n",
    "                                    transform=None)\n",
    "    loader = tonic.datasets.DataLoader(learningset, shuffle=True)\n",
    "    \n",
    "    events_train = loadev(NbTrainingData, loader, learningset)\n",
    "    events_test = loadev(NbTestingData, loader, learningset)\n",
    "    \n",
    "    return events_train, events_test\n",
    "\n",
    "#### Building matrix for logistic regression\n",
    "def gather_data(events_in,\n",
    "                tau_cla=150, # characteristic time of a digit\n",
    "                sample_events=50, sample_space = 1,\n",
    "                verbose=False, debug=False):\n",
    "    tau_cla *= 1e3 # to enter tau in ms\n",
    "    n_events = len(events_in[0])\n",
    "\n",
    "    c_int = lambda n, d : ((n - 1) // d) + 1\n",
    "    \n",
    "    data = np.zeros((c_int(events_in[-2][0], sample_space),\n",
    "                     c_int(events_in[-2][1], sample_space),\n",
    "                     events_in[-1])) #tmp data\n",
    "\n",
    "    X = np.zeros((c_int(n_events, sample_events), len(data.ravel())))\n",
    "    y = np.zeros((c_int(n_events, sample_events), ))\n",
    "\n",
    "    for i_event in range(1, n_events):\n",
    "        if events_in[2][i_event]<events_in[2][i_event-1]:\n",
    "            data = np.zeros((c_int(events_in[-2][0], sample_space),\n",
    "                     c_int(events_in[-2][1], sample_space),\n",
    "                     events_in[-1])) #tmp data \n",
    "\n",
    "        data *= np.exp(-(events_in[2][i_event]-events_in[2][i_event-1])/tau_cla)\n",
    "        \n",
    "        x_pos = events_in[0][i_event]//sample_space\n",
    "        y_pos = events_in[1][i_event]//sample_space\n",
    "        p = events_in[3][i_event]\n",
    "        data[int(x_pos), int(y_pos), int(p)] = 1.\n",
    "\n",
    "        if i_event % sample_events == sample_events//2 :\n",
    "            if debug:\n",
    "                print(f'DEBUG {i_event} {i_event//sample_events} ')\n",
    "                print(f'DEBUG {y[i_event//sample_events]}   ')\n",
    "                print(f'DEBUG  {events_in[-3][i_event]} ')\n",
    "            X[i_event//sample_events, :] = data.ravel()\n",
    "            y[i_event//sample_events] = events_in[-3][i_event]\n",
    "            \n",
    "    if verbose: print('Number of events: ' + str(X.shape[0])+' - Number of features: ' + str(X.shape[1]))\n",
    "    \n",
    "    # one hot encoding\n",
    "    #y_out = np.zeros([y.shape[0],int(max(y)+1)])\n",
    "    #for i in range(y.shape[0]):\n",
    "    #    y_out[i,int(y[i])]=1\n",
    "    \n",
    "    return X, y#_out\n",
    "\n",
    "def get_events(tau, krnlinit, nblay, nbclust, homeo, records_path, timestr, dataset, sigma, homeinv, jitter, nb_train, nb_test):\n",
    "    hotshom = network(krnlinit=krnlinit, tau=tau, nblay=nblay, nbclust=nbclust, homeo=homeo, sigma=sigma, homeinv=homeinv, jitter=jitter)\n",
    "    arch = [hotshom.L[i].kernel.shape[1] for i in range(len(hotshom.L))]\n",
    "    fname = f'{records_path}/EXP_03_NMNIST/{timestr}_hots_{dataset}_{arch}_{tau}_{homeo}_{sigma}_{homeinv}_{jitter}'\n",
    "    print(fname)\n",
    "    if not os.path.isfile(fname+'_model.pkl'):\n",
    "        loaderhom, order = hotshom.learning1by1(dataset=dataset)\n",
    "        with open(fname+'_model.pkl', 'wb') as file:\n",
    "            pickle.dump([hotshom, loaderhom, order], file, pickle.HIGHEST_PROTOCOL)\n",
    "    else:\n",
    "        with open(fname+'_model.pkl', 'rb') as file:\n",
    "            hotshom, loaderhom, order = pickle.load(file)\n",
    "            \n",
    "    if not os.path.isfile(fname+f'_evout_{nb_train}_{nb_test}.pkl'):\n",
    "        _, loaderhom, out_train = hotshom.running(loaderhom, order, nb_digit = nb_train, LR=True)\n",
    "        _, loaderhom, out_test = hotshom.running(loaderhom, order, nb_digit = nb_test, LR=True)\n",
    "        with open(fname+f'_evout_{nb_train}_{nb_test}.pkl', 'wb') as file:\n",
    "            pickle.dump([out_train, out_test], file, pickle.HIGHEST_PROTOCOL)\n",
    "    else:\n",
    "        with open(fname+f'_evout_{nb_train}_{nb_test}.pkl', 'rb') as file:\n",
    "            out_train, out_test = pickle.load(file)\n",
    "    return out_train, out_test\n",
    "\n",
    "\n",
    "# ### Performing logistic regression\n",
    "#\n",
    "# https://scikit-learn.org/stable/modules/generated/sklearn.linear_model.LogisticRegressionCV.html\n",
    "#\n",
    "\n",
    "# from sklearn.linear_model import LogisticRegression as LR\n",
    "#from sklearn.linear_model import LogisticRegressionCV as LR\n",
    "# \n",
    "opts_LR = dict(max_iter=2000, # random_state=0,\n",
    "               n_jobs=-1, class_weight='balanced')\n",
    "#opts_LR['Cs'] = 5\n",
    "opts_LR['Cs'] = 32\n",
    "# TODO for a publication use 100 from 10^{-10} to 10\n",
    "\n",
    "#from sklearn.model_selection import train_test_split\n",
    "\n",
    "def tic():\n",
    "    global ttic\n",
    "    ttic = time.time()\n",
    "def toc():\n",
    "    print(f'Done in {time.time() - ttic:.3f} s')"
   ]
  },
  {
   "cell_type": "code",
<<<<<<< HEAD
   "execution_count": 4,
   "metadata": {
    "execution": {
     "iopub.execute_input": "2021-02-05T14:31:33.818934Z",
     "iopub.status.busy": "2021-02-05T14:31:33.817925Z",
     "iopub.status.idle": "2021-02-05T14:31:33.821052Z",
     "shell.execute_reply": "2021-02-05T14:31:33.820265Z"
    }
   },
=======
   "execution_count": 15,
   "metadata": {},
>>>>>>> 5d2ca3f3a9923f84bf2a1e761c8c3e5e5bbe7569
   "outputs": [],
   "source": [
    "import torch\n",
    "from torch.utils.data import TensorDataset, DataLoader\n",
    "torch.set_default_tensor_type(\"torch.DoubleTensor\") # -> torch.tensor([1.2, 3]).dtype = torch.float64\n",
    "criterion = torch.nn.NLLLoss(reduction=\"mean\") # loss divided by output size\n",
    "# https://sebastianraschka.com/faq/docs/pytorch-crossentropy.html\n",
    "class LogisticRegressionModel(torch.nn.Module):\n",
    "    #torch.nn.Module -> Base class for all neural network modules\n",
    "    def __init__(self, N, n_classes, bias=True):\n",
    "        super(LogisticRegressionModel, self).__init__() \n",
    "        self.linear = torch.nn.Linear(N, n_classes, bias=bias)\n",
    "        self.nl = torch.nn.LogSoftmax(dim=1)\n",
    "\n",
    "    def forward(self, factors):\n",
    "        return self.nl(self.linear(factors))"
   ]
  },
  {
   "cell_type": "code",
<<<<<<< HEAD
   "execution_count": 5,
   "metadata": {
    "execution": {
     "iopub.execute_input": "2021-02-05T14:31:33.833757Z",
     "iopub.status.busy": "2021-02-05T14:31:33.832742Z",
     "iopub.status.idle": "2021-02-05T14:31:33.835699Z",
     "shell.execute_reply": "2021-02-05T14:31:33.834853Z"
    }
   },
=======
   "execution_count": 16,
   "metadata": {},
>>>>>>> 5d2ca3f3a9923f84bf2a1e761c8c3e5e5bbe7569
   "outputs": [],
   "source": [
    "learning_rate = 0.005\n",
    "beta1, beta2 = 0.9, 0.999\n",
    "betas = (beta1, beta2)\n",
    "num_epochs = 2 ** 9 + 1\n",
    "batch_size = 256\n",
    "n_classes=10\n",
    "amsgrad = False # gives similar results\n",
    "amsgrad = True  # gives similar results\n",
    "\n",
    "def fit_data(factors, y, \n",
    "            learning_rate=learning_rate,\n",
    "            batch_size=batch_size,  # gamma=gamma,\n",
    "            num_epochs=num_epochs,\n",
    "            betas=betas,\n",
    "            verbose=False, **kwargs\n",
    "        ):\n",
    "\n",
    "    # print(factors.shape, y.shape)\n",
    "    X, labels = torch.Tensor(factors), torch.Tensor(y).to(torch.long)\n",
    "    # print(X.shape, labels.shape)\n",
    "    loader = DataLoader(\n",
    "        TensorDataset(X, labels), batch_size=batch_size, shuffle=True\n",
    "    )\n",
    "\n",
    "    device = torch.device(\"cuda\" if torch.cuda.is_available() else \"cpu\")\n",
    "    print(f'device -> {device}')\n",
    "    \n",
    "    N_batch = factors.shape[0]\n",
    "    N = factors.shape[1]\n",
    "    n_classes = 10 # y.shape[1]\n",
    "    logistic_model = LogisticRegressionModel(N, n_classes)\n",
    "    logistic_model = logistic_model.to(device)\n",
    "    logistic_model.train()\n",
    "    optimizer = torch.optim.Adam(\n",
    "        logistic_model.parameters(), lr=learning_rate, betas=betas, amsgrad=amsgrad\n",
    "    )\n",
    "    for epoch in range(int(num_epochs)):\n",
    "        logistic_model.train()\n",
    "        losses = []\n",
    "        for X_, labels_ in loader:\n",
    "            X_, labels_ = X_.to(device), labels_.to(device)\n",
    "            outputs = logistic_model(X_)\n",
    "            #target = torch.argmax(torch.squeeze(labels_,dim=1), 1)\n",
    "            loss = criterion(outputs, labels_)\n",
    "            optimizer.zero_grad()\n",
    "            loss.backward()\n",
    "            optimizer.step()\n",
    "            losses.append(loss.item())\n",
    "\n",
    "        if verbose and (epoch % (num_epochs // 32) == 0):\n",
    "            print(f\"Iteration: {epoch} - Loss: {np.mean(losses):.5f}\")\n",
    "            \n",
    "    return logistic_model, losses"
   ]
  },
  {
   "cell_type": "code",
<<<<<<< HEAD
   "execution_count": 6,
   "metadata": {
    "execution": {
     "iopub.execute_input": "2021-02-05T14:31:33.841952Z",
     "iopub.status.busy": "2021-02-05T14:31:33.840882Z",
     "iopub.status.idle": "2021-02-05T14:36:21.633168Z",
     "shell.execute_reply": "2021-02-05T14:36:21.633977Z"
    }
   },
=======
   "execution_count": 17,
   "metadata": {},
>>>>>>> 5d2ca3f3a9923f84bf2a1e761c8c3e5e5bbe7569
   "outputs": [
    {
     "name": "stdout",
     "output_type": "stream",
     "text": [
      "Using downloaded and verified file: ../Data/nmnist_test.zip\n",
      "Extracting ../Data/nmnist_test.zip to ../Data/\n",
<<<<<<< HEAD
      "Done in 287.785 s\n"
=======
      "Done in 258.125 s\n"
>>>>>>> 5d2ca3f3a9923f84bf2a1e761c8c3e5e5bbe7569
     ]
    }
   ],
   "source": [
    "tic()\n",
    "events_train, events_test = get_nmnist(nb_train, nb_test)\n",
    "toc()"
   ]
  },
  {
   "cell_type": "code",
<<<<<<< HEAD
   "execution_count": 7,
   "metadata": {
    "execution": {
     "iopub.execute_input": "2021-02-05T14:36:21.640258Z",
     "iopub.status.busy": "2021-02-05T14:36:21.638154Z",
     "iopub.status.idle": "2021-02-05T14:36:51.208420Z",
     "shell.execute_reply": "2021-02-05T14:36:51.207567Z"
    }
   },
=======
   "execution_count": 18,
   "metadata": {},
>>>>>>> 5d2ca3f3a9923f84bf2a1e761c8c3e5e5bbe7569
   "outputs": [
    {
     "name": "stdout",
     "output_type": "stream",
     "text": [
<<<<<<< HEAD
      "Number of events: 126378 - Number of features: 2312\n",
      "Done in 29.564 s\n"
=======
      "Number of events: 125744 - Number of features: 2312\n",
      "Done in 30.104 s\n"
>>>>>>> 5d2ca3f3a9923f84bf2a1e761c8c3e5e5bbe7569
     ]
    }
   ],
   "source": [
    "tic()\n",
    "X_train, y_train = gather_data(events_train, verbose=verbose)\n",
    "toc()"
   ]
  },
  {
   "cell_type": "code",
<<<<<<< HEAD
   "execution_count": 8,
   "metadata": {
    "execution": {
     "iopub.execute_input": "2021-02-05T14:36:51.214774Z",
     "iopub.status.busy": "2021-02-05T14:36:51.214264Z",
     "iopub.status.idle": "2021-02-05T14:36:51.218264Z",
     "shell.execute_reply": "2021-02-05T14:36:51.218672Z"
    }
   },
=======
   "execution_count": 19,
   "metadata": {},
>>>>>>> 5d2ca3f3a9923f84bf2a1e761c8c3e5e5bbe7569
   "outputs": [
    {
     "data": {
      "text/plain": [
<<<<<<< HEAD
       "array([2., 2., 2., ..., 7., 7., 7.])"
      ]
     },
     "execution_count": 1,
=======
       "array([8., 8., 8., ..., 7., 7., 7.])"
      ]
     },
     "execution_count": 19,
>>>>>>> 5d2ca3f3a9923f84bf2a1e761c8c3e5e5bbe7569
     "metadata": {},
     "output_type": "execute_result"
    }
   ],
   "source": [
    "y_train"
   ]
  },
  {
   "cell_type": "code",
<<<<<<< HEAD
   "execution_count": 9,
   "metadata": {
    "execution": {
     "iopub.execute_input": "2021-02-05T14:36:51.224055Z",
     "iopub.status.busy": "2021-02-05T14:36:51.223562Z",
     "iopub.status.idle": "2021-02-05T14:57:49.573147Z",
     "shell.execute_reply": "2021-02-05T14:57:49.573812Z"
    }
   },
=======
   "execution_count": null,
   "metadata": {},
>>>>>>> 5d2ca3f3a9923f84bf2a1e761c8c3e5e5bbe7569
   "outputs": [
    {
     "name": "stdout",
     "output_type": "stream",
     "text": [
      "device -> cuda\n",
<<<<<<< HEAD
      "Iteration: 0 - Loss: 0.31168\n",
      "Iteration: 16 - Loss: 0.01313\n",
      "Iteration: 32 - Loss: 0.00838\n",
      "Iteration: 48 - Loss: 0.00637\n",
      "Iteration: 64 - Loss: 0.00522\n",
      "Iteration: 80 - Loss: 0.00445\n",
      "Iteration: 96 - Loss: 0.00391\n",
      "Iteration: 112 - Loss: 0.00349\n",
      "Iteration: 128 - Loss: 0.00316\n",
      "Iteration: 144 - Loss: 0.00289\n",
      "Iteration: 160 - Loss: 0.00268\n",
      "Iteration: 176 - Loss: 0.00248\n",
      "Iteration: 192 - Loss: 0.00232\n",
      "Iteration: 208 - Loss: 0.00218\n",
      "Iteration: 224 - Loss: 0.00206\n",
      "Iteration: 240 - Loss: 0.00194\n",
      "Iteration: 256 - Loss: 0.00185\n",
      "Iteration: 272 - Loss: 0.00176\n",
      "Iteration: 288 - Loss: 0.00168\n",
      "Iteration: 304 - Loss: 0.00160\n",
      "Iteration: 320 - Loss: 0.00154\n",
      "Iteration: 336 - Loss: 0.00148\n",
      "Iteration: 352 - Loss: 0.00142\n",
      "Iteration: 368 - Loss: 0.00137\n",
      "Iteration: 384 - Loss: 0.00132\n",
      "Iteration: 400 - Loss: 0.00127\n",
      "Iteration: 416 - Loss: 0.00123\n",
      "Iteration: 432 - Loss: 0.00119\n",
      "Iteration: 448 - Loss: 0.00115\n",
      "Iteration: 464 - Loss: 0.00112\n",
      "Iteration: 480 - Loss: 0.00109\n",
      "Iteration: 496 - Loss: 0.00106\n",
      "Iteration: 512 - Loss: 0.00103\n"
=======
      "Iteration: 0 - Loss: 0.27480\n",
      "Iteration: 16 - Loss: 0.01175\n",
      "Iteration: 32 - Loss: 0.00758\n",
      "Iteration: 48 - Loss: 0.00582\n",
      "Iteration: 64 - Loss: 0.00479\n",
      "Iteration: 80 - Loss: 0.00411\n",
      "Iteration: 96 - Loss: 0.00362\n",
      "Iteration: 112 - Loss: 0.00324\n",
      "Iteration: 128 - Loss: 0.00294\n",
      "Iteration: 144 - Loss: 0.00270\n",
      "Iteration: 160 - Loss: 0.00253\n",
      "Iteration: 176 - Loss: 0.00233\n",
      "Iteration: 192 - Loss: 0.00223\n"
>>>>>>> 5d2ca3f3a9923f84bf2a1e761c8c3e5e5bbe7569
     ]
    }
   ],
   "source": [
    "N = X_train.shape[1]\n",
    "\n",
    "logistic_model = LogisticRegressionModel(N, n_classes)\n",
    "\n",
    "logistic_model, losses = fit_data(X_train, y_train, verbose=True)\n",
    "# print(\"Final mean loss =\", np.mean(losses))"
   ]
  },
  {
   "cell_type": "code",
   "execution_count": 10,
   "metadata": {
    "execution": {
     "iopub.execute_input": "2021-02-05T14:57:49.577022Z",
     "iopub.status.busy": "2021-02-05T14:57:49.576009Z",
     "iopub.status.idle": "2021-02-05T14:57:49.581117Z",
     "shell.execute_reply": "2021-02-05T14:57:49.581794Z"
    }
   },
   "outputs": [],
   "source": [
    "def predict_data(factors, y, model,\n",
    "            batch_size=batch_size,  # gamma=gamma,\n",
    "            verbose=False, **kwargs\n",
    "        ):\n",
    "    X = torch.Tensor(factors)\n",
    "    device = torch.device(\"cuda\" if torch.cuda.is_available() else \"cpu\")\n",
    "    print(f'device -> {device}')\n",
    "\n",
    "    logistic_model = model.to(device)\n",
    "    \n",
    "    X = X.to(device)\n",
    "    outputs = logistic_model(X)\n",
    "\n",
    "    pred_target = torch.argmax(outputs, dim=1)\n",
    "    \n",
    "    return pred_target"
   ]
  },
  {
   "cell_type": "code",
   "execution_count": 11,
   "metadata": {
    "execution": {
     "iopub.execute_input": "2021-02-05T14:57:49.584970Z",
     "iopub.status.busy": "2021-02-05T14:57:49.583972Z",
     "iopub.status.idle": "2021-02-05T14:58:19.455817Z",
     "shell.execute_reply": "2021-02-05T14:58:19.456458Z"
    }
   },
   "outputs": [
    {
     "name": "stdout",
     "output_type": "stream",
     "text": [
      "Number of events: 125420 - Number of features: 2312\n",
      "device -> cuda\n"
     ]
    }
   ],
   "source": [
    "X_test, y_test = gather_data(events_test, verbose=verbose)\n",
    "pred_target = predict_data(X_test, y_test, logistic_model)"
   ]
  },
  {
<<<<<<< HEAD
   "cell_type": "code",
   "execution_count": 12,
   "metadata": {
    "execution": {
     "iopub.execute_input": "2021-02-05T14:58:19.459578Z",
     "iopub.status.busy": "2021-02-05T14:58:19.458578Z",
     "iopub.status.idle": "2021-02-05T14:58:19.464421Z",
     "shell.execute_reply": "2021-02-05T14:58:19.465056Z"
    }
   },
   "outputs": [
    {
     "data": {
      "text/plain": [
       "array([1., 1., 1., ..., 3., 3., 3.])"
      ]
     },
     "execution_count": 1,
     "metadata": {},
     "output_type": "execute_result"
    }
   ],
=======
   "cell_type": "raw",
   "metadata": {},
>>>>>>> 5d2ca3f3a9923f84bf2a1e761c8c3e5e5bbe7569
   "source": [
    "y_test"
   ]
  },
  {
<<<<<<< HEAD
   "cell_type": "code",
   "execution_count": 13,
   "metadata": {
    "execution": {
     "iopub.execute_input": "2021-02-05T14:58:19.468424Z",
     "iopub.status.busy": "2021-02-05T14:58:19.467455Z",
     "iopub.status.idle": "2021-02-05T14:58:19.545574Z",
     "shell.execute_reply": "2021-02-05T14:58:19.546210Z"
    }
   },
   "outputs": [
    {
     "data": {
      "text/plain": [
       "tensor([1, 1, 1,  ..., 3, 3, 3], device='cuda:0')"
      ]
     },
     "execution_count": 1,
     "metadata": {},
     "output_type": "execute_result"
    }
   ],
=======
   "cell_type": "raw",
   "metadata": {},
>>>>>>> 5d2ca3f3a9923f84bf2a1e761c8c3e5e5bbe7569
   "source": [
    "pred_target"
   ]
  },
  {
<<<<<<< HEAD
   "cell_type": "code",
   "execution_count": 14,
   "metadata": {
    "execution": {
     "iopub.execute_input": "2021-02-05T14:58:19.549411Z",
     "iopub.status.busy": "2021-02-05T14:58:19.548428Z",
     "iopub.status.idle": "2021-02-05T14:58:19.555468Z",
     "shell.execute_reply": "2021-02-05T14:58:19.556121Z"
    }
   },
   "outputs": [
    {
     "data": {
      "text/plain": [
       "array([1, 1, 1, ..., 3, 3, 3])"
      ]
     },
     "execution_count": 1,
     "metadata": {},
     "output_type": "execute_result"
    }
   ],
=======
   "cell_type": "raw",
   "metadata": {},
>>>>>>> 5d2ca3f3a9923f84bf2a1e761c8c3e5e5bbe7569
   "source": [
    "pred_target.detach().cpu().numpy() "
   ]
  },
  {
<<<<<<< HEAD
   "cell_type": "code",
   "execution_count": 15,
   "metadata": {
    "execution": {
     "iopub.execute_input": "2021-02-05T14:58:19.559297Z",
     "iopub.status.busy": "2021-02-05T14:58:19.558370Z",
     "iopub.status.idle": "2021-02-05T14:58:19.565087Z",
     "shell.execute_reply": "2021-02-05T14:58:19.565741Z"
    }
   },
   "outputs": [
    {
     "data": {
      "text/plain": [
       "array([ True,  True,  True, ...,  True,  True,  True])"
      ]
     },
     "execution_count": 1,
     "metadata": {},
     "output_type": "execute_result"
    }
   ],
=======
   "cell_type": "raw",
   "metadata": {},
>>>>>>> 5d2ca3f3a9923f84bf2a1e761c8c3e5e5bbe7569
   "source": [
    "pred_target.detach().cpu().numpy() == y_test"
   ]
  },
  {
<<<<<<< HEAD
   "cell_type": "code",
   "execution_count": 16,
   "metadata": {
    "execution": {
     "iopub.execute_input": "2021-02-05T14:58:19.568843Z",
     "iopub.status.busy": "2021-02-05T14:58:19.567884Z",
     "iopub.status.idle": "2021-02-05T14:58:19.574588Z",
     "shell.execute_reply": "2021-02-05T14:58:19.575197Z"
    }
   },
   "outputs": [
    {
     "data": {
      "text/plain": [
       "0.7553978631797161"
      ]
     },
     "execution_count": 1,
     "metadata": {},
     "output_type": "execute_result"
    }
   ],
=======
   "cell_type": "raw",
   "metadata": {},
>>>>>>> 5d2ca3f3a9923f84bf2a1e761c8c3e5e5bbe7569
   "source": [
    "np.mean(pred_target.detach().cpu().numpy() == y_test)"
   ]
  },
  {
   "cell_type": "raw",
   "metadata": {},
   "source": [
    "print(len(loss))\n",
    "plt.plot(range(X_test.shape[0]), loss)"
   ]
  },
  {
   "cell_type": "raw",
   "metadata": {},
   "source": [
    "def accuracy(out, yb):\n",
    "    print(torch.tensor(out))\n",
    "    preds = torch.argmax(torch.tensor(out), dim=1)\n",
    "    return (preds == yb).float().mean()"
   ]
  },
  {
   "cell_type": "raw",
   "metadata": {},
   "source": [
    "accuracy(loss,y_test)"
   ]
  },
  {
   "cell_type": "code",
   "execution_count": 17,
   "metadata": {
    "execution": {
     "iopub.execute_input": "2021-02-05T14:58:19.578522Z",
     "iopub.status.busy": "2021-02-05T14:58:19.577577Z",
     "iopub.status.idle": "2021-02-05T14:58:19.585363Z",
     "shell.execute_reply": "2021-02-05T14:58:19.585966Z"
    }
   },
   "outputs": [
    {
     "name": "stdout",
     "output_type": "stream",
     "text": [
      "Accuracy = 75.5%\n"
     ]
    }
   ],
   "source": [
    "device = torch.device(\"cuda\" if torch.cuda.is_available() else \"cpu\")\n",
    "if device==torch.device(\"cuda\"):\n",
    "    pred = torch.Tensor.cpu(pred_target).numpy() \n",
    "else:\n",
    "    pred = pred_target.detach().numpy()"
   ]
  },
  {
   "cell_type": "code",
   "execution_count": null,
   "metadata": {},
   "outputs": [],
   "source": [
    "print(f'Accuracy = {np.mean(pred_target.detach().cpu().numpy() == y_test)*100:.1f}%')"
   ]
  },
  {
   "cell_type": "code",
   "execution_count": 18,
   "metadata": {
    "execution": {
     "iopub.execute_input": "2021-02-05T14:58:19.589060Z",
     "iopub.status.busy": "2021-02-05T14:58:19.588086Z",
     "iopub.status.idle": "2021-02-05T14:58:19.767366Z",
     "shell.execute_reply": "2021-02-05T14:58:19.768223Z"
    }
   },
   "outputs": [
    {
     "name": "stdout",
     "output_type": "stream",
     "text": [
      "../Records/EXP_03_NMNIST/2020-12-21_hots_nmnist_[4, 8, 16]_5_True_None_False_False\n"
     ]
    },
    {
     "data": {
      "application/vnd.jupyter.widget-view+json": {
       "model_id": "a339d84f769f4902bda1e949d440d214",
       "version_major": 2,
       "version_minor": 0
      },
      "text/plain": [
       "HBox(children=(HTML(value=''), FloatProgress(value=0.0, max=1500.0), HTML(value='')))"
      ]
     },
     "metadata": {},
     "output_type": "display_data"
    },
    {
     "ename": "AttributeError",
     "evalue": "'TimeSurface' object has no attribute 'decay'",
     "output_type": "error",
     "traceback": [
      "\u001b[0;31m---------------------------------------------------------------------------\u001b[0m",
      "\u001b[0;31mAttributeError\u001b[0m                            Traceback (most recent call last)",
      "\u001b[0;32m<ipython-input-1-f9cd688c0d7b>\u001b[0m in \u001b[0;36m<module>\u001b[0;34m\u001b[0m\n\u001b[0;32m----> 1\u001b[0;31m \u001b[0mevents_train_o\u001b[0m\u001b[0;34m,\u001b[0m \u001b[0mevents_test_o\u001b[0m \u001b[0;34m=\u001b[0m \u001b[0mget_events\u001b[0m\u001b[0;34m(\u001b[0m\u001b[0mtau\u001b[0m\u001b[0;34m,\u001b[0m \u001b[0mkrnlinit\u001b[0m\u001b[0;34m,\u001b[0m \u001b[0mnblay\u001b[0m\u001b[0;34m,\u001b[0m \u001b[0mnbclust\u001b[0m\u001b[0;34m,\u001b[0m \u001b[0mhomeo\u001b[0m\u001b[0;34m,\u001b[0m \u001b[0mrecords_path\u001b[0m\u001b[0;34m,\u001b[0m \u001b[0mtimestr\u001b[0m\u001b[0;34m,\u001b[0m \u001b[0mdataset\u001b[0m\u001b[0;34m,\u001b[0m \u001b[0msigma\u001b[0m\u001b[0;34m,\u001b[0m \u001b[0mhomeinv\u001b[0m\u001b[0;34m,\u001b[0m \u001b[0mjitter\u001b[0m\u001b[0;34m,\u001b[0m \u001b[0mnb_train\u001b[0m\u001b[0;34m,\u001b[0m \u001b[0mnb_test\u001b[0m\u001b[0;34m)\u001b[0m\u001b[0;34m\u001b[0m\u001b[0;34m\u001b[0m\u001b[0m\n\u001b[0m\u001b[1;32m      2\u001b[0m \u001b[0mX_train\u001b[0m\u001b[0;34m,\u001b[0m \u001b[0my_train\u001b[0m \u001b[0;34m=\u001b[0m \u001b[0mgather_data\u001b[0m\u001b[0;34m(\u001b[0m\u001b[0mevents_train_o\u001b[0m\u001b[0;34m,\u001b[0m \u001b[0mverbose\u001b[0m\u001b[0;34m=\u001b[0m\u001b[0mverbose\u001b[0m\u001b[0;34m)\u001b[0m\u001b[0;34m\u001b[0m\u001b[0;34m\u001b[0m\u001b[0m\n",
      "\u001b[0;32m<ipython-input-1-5d4709a8fc46>\u001b[0m in \u001b[0;36mget_events\u001b[0;34m(tau, krnlinit, nblay, nbclust, homeo, records_path, timestr, dataset, sigma, homeinv, jitter, nb_train, nb_test)\u001b[0m\n\u001b[1;32m     89\u001b[0m \u001b[0;34m\u001b[0m\u001b[0m\n\u001b[1;32m     90\u001b[0m     \u001b[0;32mif\u001b[0m \u001b[0;32mnot\u001b[0m \u001b[0mos\u001b[0m\u001b[0;34m.\u001b[0m\u001b[0mpath\u001b[0m\u001b[0;34m.\u001b[0m\u001b[0misfile\u001b[0m\u001b[0;34m(\u001b[0m\u001b[0mfname\u001b[0m\u001b[0;34m+\u001b[0m\u001b[0;34mf'_evout_{nb_train}_{nb_test}.pkl'\u001b[0m\u001b[0;34m)\u001b[0m\u001b[0;34m:\u001b[0m\u001b[0;34m\u001b[0m\u001b[0;34m\u001b[0m\u001b[0m\n\u001b[0;32m---> 91\u001b[0;31m         \u001b[0m_\u001b[0m\u001b[0;34m,\u001b[0m \u001b[0mloaderhom\u001b[0m\u001b[0;34m,\u001b[0m \u001b[0mout_train\u001b[0m \u001b[0;34m=\u001b[0m \u001b[0mhotshom\u001b[0m\u001b[0;34m.\u001b[0m\u001b[0mrunning\u001b[0m\u001b[0;34m(\u001b[0m\u001b[0mloaderhom\u001b[0m\u001b[0;34m,\u001b[0m \u001b[0morder\u001b[0m\u001b[0;34m,\u001b[0m \u001b[0mnb_digit\u001b[0m \u001b[0;34m=\u001b[0m \u001b[0mnb_train\u001b[0m\u001b[0;34m,\u001b[0m \u001b[0mLR\u001b[0m\u001b[0;34m=\u001b[0m\u001b[0;32mTrue\u001b[0m\u001b[0;34m)\u001b[0m\u001b[0;34m\u001b[0m\u001b[0;34m\u001b[0m\u001b[0m\n\u001b[0m\u001b[1;32m     92\u001b[0m         \u001b[0m_\u001b[0m\u001b[0;34m,\u001b[0m \u001b[0mloaderhom\u001b[0m\u001b[0;34m,\u001b[0m \u001b[0mout_test\u001b[0m \u001b[0;34m=\u001b[0m \u001b[0mhotshom\u001b[0m\u001b[0;34m.\u001b[0m\u001b[0mrunning\u001b[0m\u001b[0;34m(\u001b[0m\u001b[0mloaderhom\u001b[0m\u001b[0;34m,\u001b[0m \u001b[0morder\u001b[0m\u001b[0;34m,\u001b[0m \u001b[0mnb_digit\u001b[0m \u001b[0;34m=\u001b[0m \u001b[0mnb_test\u001b[0m\u001b[0;34m,\u001b[0m \u001b[0mLR\u001b[0m\u001b[0;34m=\u001b[0m\u001b[0;32mTrue\u001b[0m\u001b[0;34m)\u001b[0m\u001b[0;34m\u001b[0m\u001b[0;34m\u001b[0m\u001b[0m\n\u001b[1;32m     93\u001b[0m         \u001b[0;32mwith\u001b[0m \u001b[0mopen\u001b[0m\u001b[0;34m(\u001b[0m\u001b[0mfname\u001b[0m\u001b[0;34m+\u001b[0m\u001b[0;34mf'_evout_{nb_train}_{nb_test}.pkl'\u001b[0m\u001b[0;34m,\u001b[0m \u001b[0;34m'wb'\u001b[0m\u001b[0;34m)\u001b[0m \u001b[0;32mas\u001b[0m \u001b[0mfile\u001b[0m\u001b[0;34m:\u001b[0m\u001b[0;34m\u001b[0m\u001b[0;34m\u001b[0m\u001b[0m\n",
      "\u001b[0;32m~/quantic/science/HomeHots/HOTS_clone_laurent/HOTS/mix_Network.py\u001b[0m in \u001b[0;36mrunning\u001b[0;34m(self, loader, ordering, LR, tau_cla, nb_digit, jitonic, dataset, to_record)\u001b[0m\n\u001b[1;32m    212\u001b[0m             \u001b[0mevents\u001b[0m\u001b[0;34m,\u001b[0m \u001b[0mtarget\u001b[0m \u001b[0;34m=\u001b[0m \u001b[0mnext\u001b[0m\u001b[0;34m(\u001b[0m\u001b[0miter\u001b[0m\u001b[0;34m(\u001b[0m\u001b[0mloader\u001b[0m\u001b[0;34m)\u001b[0m\u001b[0;34m)\u001b[0m\u001b[0;34m\u001b[0m\u001b[0;34m\u001b[0m\u001b[0m\n\u001b[1;32m    213\u001b[0m             \u001b[0;32mfor\u001b[0m \u001b[0miev\u001b[0m \u001b[0;32min\u001b[0m \u001b[0mrange\u001b[0m\u001b[0;34m(\u001b[0m\u001b[0mevents\u001b[0m\u001b[0;34m.\u001b[0m\u001b[0mshape\u001b[0m\u001b[0;34m[\u001b[0m\u001b[0;36m1\u001b[0m\u001b[0;34m]\u001b[0m\u001b[0;34m)\u001b[0m\u001b[0;34m:\u001b[0m\u001b[0;34m\u001b[0m\u001b[0;34m\u001b[0m\u001b[0m\n\u001b[0;32m--> 214\u001b[0;31m                 out, activout = self.run(events[0][iev][ordering.find(\"x\")].item(), \\\n\u001b[0m\u001b[1;32m    215\u001b[0m                                         \u001b[0mevents\u001b[0m\u001b[0;34m[\u001b[0m\u001b[0;36m0\u001b[0m\u001b[0;34m]\u001b[0m\u001b[0;34m[\u001b[0m\u001b[0miev\u001b[0m\u001b[0;34m]\u001b[0m\u001b[0;34m[\u001b[0m\u001b[0mordering\u001b[0m\u001b[0;34m.\u001b[0m\u001b[0mfind\u001b[0m\u001b[0;34m(\u001b[0m\u001b[0;34m\"y\"\u001b[0m\u001b[0;34m)\u001b[0m\u001b[0;34m]\u001b[0m\u001b[0;34m.\u001b[0m\u001b[0mitem\u001b[0m\u001b[0;34m(\u001b[0m\u001b[0;34m)\u001b[0m\u001b[0;34m,\u001b[0m\u001b[0;31m \u001b[0m\u001b[0;31m\\\u001b[0m\u001b[0;34m\u001b[0m\u001b[0;34m\u001b[0m\u001b[0m\n\u001b[1;32m    216\u001b[0m                                         \u001b[0mevents\u001b[0m\u001b[0;34m[\u001b[0m\u001b[0;36m0\u001b[0m\u001b[0;34m]\u001b[0m\u001b[0;34m[\u001b[0m\u001b[0miev\u001b[0m\u001b[0;34m]\u001b[0m\u001b[0;34m[\u001b[0m\u001b[0mordering\u001b[0m\u001b[0;34m.\u001b[0m\u001b[0mfind\u001b[0m\u001b[0;34m(\u001b[0m\u001b[0;34m\"t\"\u001b[0m\u001b[0;34m)\u001b[0m\u001b[0;34m]\u001b[0m\u001b[0;34m.\u001b[0m\u001b[0mitem\u001b[0m\u001b[0;34m(\u001b[0m\u001b[0;34m)\u001b[0m\u001b[0;34m,\u001b[0m\u001b[0;31m \u001b[0m\u001b[0;31m\\\u001b[0m\u001b[0;34m\u001b[0m\u001b[0;34m\u001b[0m\u001b[0m\n",
      "\u001b[0;32m~/quantic/science/HomeHots/HOTS_clone_laurent/HOTS/mix_Network.py\u001b[0m in \u001b[0;36mrun\u001b[0;34m(self, x, y, t, p, learn, to_record)\u001b[0m\n\u001b[1;32m    239\u001b[0m         \u001b[0mactivout\u001b[0m\u001b[0;34m=\u001b[0m\u001b[0;32mFalse\u001b[0m\u001b[0;34m\u001b[0m\u001b[0;34m\u001b[0m\u001b[0m\n\u001b[1;32m    240\u001b[0m         \u001b[0;32mwhile\u001b[0m \u001b[0mlay\u001b[0m\u001b[0;34m<\u001b[0m\u001b[0mlen\u001b[0m\u001b[0;34m(\u001b[0m\u001b[0mself\u001b[0m\u001b[0;34m.\u001b[0m\u001b[0mTS\u001b[0m\u001b[0;34m)\u001b[0m\u001b[0;34m:\u001b[0m\u001b[0;34m\u001b[0m\u001b[0;34m\u001b[0m\u001b[0m\n\u001b[0;32m--> 241\u001b[0;31m             \u001b[0mtimesurf\u001b[0m\u001b[0;34m,\u001b[0m \u001b[0mactiv\u001b[0m \u001b[0;34m=\u001b[0m \u001b[0mself\u001b[0m\u001b[0;34m.\u001b[0m\u001b[0mTS\u001b[0m\u001b[0;34m[\u001b[0m\u001b[0mlay\u001b[0m\u001b[0;34m]\u001b[0m\u001b[0;34m.\u001b[0m\u001b[0maddevent\u001b[0m\u001b[0;34m(\u001b[0m\u001b[0mx\u001b[0m\u001b[0;34m,\u001b[0m \u001b[0my\u001b[0m\u001b[0;34m,\u001b[0m \u001b[0mt\u001b[0m\u001b[0;34m,\u001b[0m \u001b[0mp\u001b[0m\u001b[0;34m)\u001b[0m\u001b[0;34m\u001b[0m\u001b[0;34m\u001b[0m\u001b[0m\n\u001b[0m\u001b[1;32m    242\u001b[0m             \u001b[0;32mif\u001b[0m \u001b[0mactiv\u001b[0m\u001b[0;34m:\u001b[0m\u001b[0;34m\u001b[0m\u001b[0;34m\u001b[0m\u001b[0m\n\u001b[1;32m    243\u001b[0m                 \u001b[0mp\u001b[0m\u001b[0;34m,\u001b[0m \u001b[0mdist\u001b[0m \u001b[0;34m=\u001b[0m \u001b[0mself\u001b[0m\u001b[0;34m.\u001b[0m\u001b[0mL\u001b[0m\u001b[0;34m[\u001b[0m\u001b[0mlay\u001b[0m\u001b[0;34m]\u001b[0m\u001b[0;34m.\u001b[0m\u001b[0mrun\u001b[0m\u001b[0;34m(\u001b[0m\u001b[0mtimesurf\u001b[0m\u001b[0;34m,\u001b[0m \u001b[0mlearn\u001b[0m\u001b[0;34m)\u001b[0m\u001b[0;34m\u001b[0m\u001b[0;34m\u001b[0m\u001b[0m\n",
      "\u001b[0;32m~/quantic/science/HomeHots/HOTS_clone_laurent/HOTS/mix_TimeSurface.py\u001b[0m in \u001b[0;36maddevent\u001b[0;34m(self, xev, yev, tev, pev)\u001b[0m\n\u001b[1;32m     79\u001b[0m             \u001b[0mself\u001b[0m\u001b[0;34m.\u001b[0m\u001b[0my\u001b[0m \u001b[0;34m=\u001b[0m \u001b[0myev\u001b[0m\u001b[0;34m\u001b[0m\u001b[0;34m\u001b[0m\u001b[0m\n\u001b[1;32m     80\u001b[0m             \u001b[0;31m# updating the spatiotemporal surface\u001b[0m\u001b[0;34m\u001b[0m\u001b[0;34m\u001b[0m\u001b[0;34m\u001b[0m\u001b[0m\n\u001b[0;32m---> 81\u001b[0;31m             \u001b[0;32mif\u001b[0m \u001b[0mself\u001b[0m\u001b[0;34m.\u001b[0m\u001b[0mdecay\u001b[0m \u001b[0;34m==\u001b[0m \u001b[0;34m'exponential'\u001b[0m\u001b[0;34m:\u001b[0m\u001b[0;34m\u001b[0m\u001b[0;34m\u001b[0m\u001b[0m\n\u001b[0m\u001b[1;32m     82\u001b[0m                 \u001b[0mself\u001b[0m\u001b[0;34m.\u001b[0m\u001b[0mspatpmat\u001b[0m \u001b[0;34m=\u001b[0m \u001b[0mself\u001b[0m\u001b[0;34m.\u001b[0m\u001b[0mspatpmat\u001b[0m\u001b[0;34m*\u001b[0m\u001b[0mnp\u001b[0m\u001b[0;34m.\u001b[0m\u001b[0mexp\u001b[0m\u001b[0;34m(\u001b[0m\u001b[0;34m-\u001b[0m\u001b[0;34m(\u001b[0m\u001b[0mfloat\u001b[0m\u001b[0;34m(\u001b[0m\u001b[0mtev\u001b[0m\u001b[0;34m-\u001b[0m\u001b[0mself\u001b[0m\u001b[0;34m.\u001b[0m\u001b[0mt\u001b[0m\u001b[0;34m)\u001b[0m\u001b[0;34m)\u001b[0m\u001b[0;34m/\u001b[0m\u001b[0mself\u001b[0m\u001b[0;34m.\u001b[0m\u001b[0mtau\u001b[0m\u001b[0;34m)\u001b[0m\u001b[0;34m\u001b[0m\u001b[0;34m\u001b[0m\u001b[0m\n\u001b[1;32m     83\u001b[0m                 \u001b[0;31m# making threshold for small elements\u001b[0m\u001b[0;34m\u001b[0m\u001b[0;34m\u001b[0m\u001b[0;34m\u001b[0m\u001b[0m\n",
      "\u001b[0;31mAttributeError\u001b[0m: 'TimeSurface' object has no attribute 'decay'"
     ]
    }
   ],
   "source": [
    "events_train_o, events_test_o = get_events(tau, krnlinit, nblay, nbclust, homeo, records_path, timestr, dataset, sigma, homeinv, jitter, nb_train, nb_test)\n",
    "X_train, y_train = gather_data(events_train_o, verbose=verbose)"
   ]
  },
  {
   "cell_type": "code",
   "execution_count": 19,
   "metadata": {
    "execution": {
     "iopub.execute_input": "2021-02-05T14:58:19.771600Z",
     "iopub.status.busy": "2021-02-05T14:58:19.770530Z",
     "iopub.status.idle": "2021-02-05T15:17:57.627173Z",
     "shell.execute_reply": "2021-02-05T15:17:57.626294Z"
    }
   },
   "outputs": [
    {
     "name": "stdout",
     "output_type": "stream",
     "text": [
      "device -> cuda\n",
      "Iteration: 0 - Loss: 0.30271\n",
      "Iteration: 16 - Loss: 0.01280\n",
      "Iteration: 32 - Loss: 0.00815\n",
      "Iteration: 48 - Loss: 0.00618\n",
      "Iteration: 64 - Loss: 0.00506\n",
      "Iteration: 80 - Loss: 0.00431\n",
      "Iteration: 96 - Loss: 0.00377\n",
      "Iteration: 112 - Loss: 0.00337\n",
      "Iteration: 128 - Loss: 0.00305\n",
      "Iteration: 144 - Loss: 0.00279\n",
      "Iteration: 160 - Loss: 0.00257\n",
      "Iteration: 176 - Loss: 0.00239\n",
      "Iteration: 192 - Loss: 0.00223\n",
      "Iteration: 208 - Loss: 0.00210\n",
      "Iteration: 224 - Loss: 0.00197\n",
      "Iteration: 240 - Loss: 0.00187\n",
      "Iteration: 256 - Loss: 0.00177\n",
      "Iteration: 272 - Loss: 0.00169\n",
      "Iteration: 288 - Loss: 0.00161\n",
      "Iteration: 304 - Loss: 0.00154\n",
      "Iteration: 320 - Loss: 0.00148\n",
      "Iteration: 336 - Loss: 0.00142\n",
      "Iteration: 352 - Loss: 0.00136\n",
      "Iteration: 368 - Loss: 0.00131\n",
      "Iteration: 384 - Loss: 0.00127\n",
      "Iteration: 400 - Loss: 0.00122\n",
      "Iteration: 416 - Loss: 0.00118\n",
      "Iteration: 432 - Loss: 0.00115\n",
      "Iteration: 448 - Loss: 0.00111\n",
      "Iteration: 464 - Loss: 0.00107\n",
      "Iteration: 480 - Loss: 0.00104\n",
      "Iteration: 496 - Loss: 0.00101\n",
      "Iteration: 512 - Loss: 0.00098\n",
      "Final loss = [0.0005510747126099903, 0.0009380868653662061, 0.00039698942986596557, 0.0003131791677817967, 0.0019341603335458924, 0.000760491025427876, 0.0020339017503455997, 0.00030306079999739435, 0.0002958094773004237, 0.0011352011879643452, 0.0004459311824035628, 0.000285067779348144, 0.0001760882563044817, 0.0010090091498087324, 0.0003531225082844949, 0.0007646330742202765, 0.0007067752199038869, 0.0004120044212837864, 0.0007440469077369499, 0.0007087759299677982, 0.0012028248928841003, 0.0011416429352248618, 0.0011102599994561532, 0.0008054781628981875, 0.00055994493283355, 0.0002590473601798625, 0.0005385285702700412, 0.0001876639206282436, 0.00021899298928231635, 0.002367731468557837, 0.0008340696644523527, 0.0006297749551088642, 0.0007809899580363426, 0.0006164356701384957, 0.0005719885722758213, 0.0009209414968013364, 0.0006404557856552008, 0.0007318347190470134, 0.0006109664662158179, 0.000541726165001622, 0.00043875187968309907, 0.0001983019213388162, 0.0002589794790065069, 0.0004886340784366419, 0.00030655262765688364, 0.00042708908162249497, 0.00023696843889742353, 0.000415625812600882, 0.0006145187010117467, 0.0006648006487392879, 0.0013427706996495931, 0.00028391089005150034, 0.000595687195039366, 0.0006611254559793518, 0.000840238178280063, 0.00045682582881127135, 0.0006518863827481337, 0.002572693019383763, 0.0035220528746345778, 0.0008828706921318719, 0.0009846774023393727, 0.0005006825103398665, 0.0020514978334232794, 0.00034921676936053146, 0.001428041136532646, 0.002333201273659959, 0.0005173420717818841, 0.0004046438461571064, 0.0007439613966340159, 0.0009419694702222329, 0.00023684256634359463, 0.0020102952135161497, 0.0007632240422032158, 0.00044376352634506103, 0.00043663279843521806, 0.0002486851689772637, 0.00030097834835439923, 0.00018517841583909206, 0.000955189875223774, 0.000572972626140091, 0.0004559680650664331, 0.002860112802775554, 0.0017203175795158134, 0.0005812882346198066, 0.0002764071691480354, 0.0003526523729285868, 0.0008460173505372745, 0.0008210294427053585, 0.0005584933611057301, 0.000764648860574717, 0.002606079472447089, 0.0014600446563972397, 0.00013837421169253828, 0.00024745411108038115, 0.001033116613734854, 0.0008738771974929569, 0.000324419625255729, 0.0004900244268768273, 0.000313821094398608, 0.0010326725048381423, 0.0004113019521054929, 0.0006021702036711103, 0.0008137976496904765, 0.0027121674788852376, 0.0054675841202849376, 0.0005042147535744679, 0.0006311972768082106, 0.007497601715962055, 0.00022914959290007582, 0.0003472523663246047, 0.00020647913104748772, 0.0004815765408497214, 0.0015672514197833769, 0.0006868612559517421, 0.004403936062644472, 0.00888494741484045, 0.0026940140636454793, 0.0006418257262758065, 0.0005364081996108216, 0.0008081811239618066, 0.0004585634257992447, 0.0005451659126736186, 0.00162359086933738, 0.00037646736047648163, 0.000629211541101316, 0.00098123589544251, 0.0009264394430666977, 0.00035763634247968246, 0.0003394150249591709, 0.0003716034450257308, 0.0005523386825753978, 0.00036235417925296155, 0.00030800074771076473, 0.0005440029059070776, 0.0033132954005813103, 0.0003262182325707929, 0.0007847715783803111, 0.0008171565239900843, 0.0006921003415510021, 0.0007199055484242964, 0.000598159345141635, 0.0006677986706214174, 0.000341019945657191, 0.004267643873660448, 0.0003678083016986391, 0.001203881997224538, 0.0019288655240335283, 0.00039530148156641015, 0.0006745366151906263, 0.0005903406760694689, 0.0007078353810544256, 0.00036166098290639774, 0.0010713360718938984, 0.0035788248646494085, 0.000451117695867725, 0.00031608075322812294, 0.00040756624309009194, 0.0002654907398266821, 0.0005317430148218718, 0.00028698620847229095, 0.003078885502553482, 0.0003725837934613688, 0.00021497575029084414, 0.00028669423345637445, 0.001610282831227987, 0.0007339269997903986, 0.0011964829890629364, 0.0003234486121653614, 0.00027450417962569194, 0.00025790047168886666, 0.0011130883667224627, 0.0006887667828981864, 0.0007981028408753228, 0.0008103615460289969, 0.0015072318225402425, 0.0003939040186158865, 0.0015905786749575294, 0.00036030508309249187, 0.0008780931754935512, 0.00046995818410053335, 0.0006585272884865404, 0.00035680518043230345, 0.0005899902780010569, 0.0071940491548375665, 0.0005116402816605107, 0.00042390254542327743, 0.0014196467977903623, 0.0043057254843163, 0.0002385754445593632, 0.00045678624977612127, 0.0012623157700508466, 0.0003730357658422226, 0.0007371482250457652, 0.0009169793225913182, 0.0019103079206011576, 0.0003916962008943248, 0.004166364602190135, 0.00035690681462353073, 0.00217017594469436, 0.001569450185044728, 0.0007966589101919087, 0.00025596964320349924, 0.0013205038279053753, 0.0008168210444013202, 0.000601902900682505, 0.0007812885981948812, 0.0008327171190894209, 0.0013799232778016336, 0.0003792256541848071, 0.0009749009724435519, 0.00045350004435532363, 0.0011540628335531865, 0.0008982408355058103, 0.000702621969799501, 0.0005095427643815186, 0.0010419014183029865, 0.0006686335853910933, 0.0018126842495709118, 0.0012600187852095939, 0.00019780641390272483, 0.0019532551557141244, 0.00019909621780146854, 0.00032044223462769297, 0.00023975046811637067, 0.0012698791119137962, 0.0007338253423613039, 0.002829946780492272, 0.0015205740874585042, 0.0015895701872393564, 0.00019398850230596375, 0.0005103961426722272, 0.0002697746287876095, 0.000527716500798757, 0.0004932016026636298, 0.00022530069661285028, 0.0006397731878264175, 0.00021573114928418623, 0.0005939796211724666, 0.00023564636197014106, 0.00016676138086379935, 0.00045529792925282005, 0.00031335532752440123, 0.00038441831979446194, 0.0013296583117459336, 0.000498910758096871, 0.0005177634971619801, 0.0003307263921734522, 0.0031898051524489436, 0.0010094101675989105, 0.0006412854046098512, 0.000649525157790481, 0.0005975132959475364, 0.0012577624985001961, 0.0004471051657885325, 0.0020197354492397725, 0.0005835976620985464, 0.003436712157359058, 0.0005038447120900821, 0.00047286621348514006, 0.00028561625234975344, 0.000722098670905122, 0.0006720275045342223, 0.0007670888071908212, 0.0018931807013469032, 0.00046236080765893554, 0.0006228490097206358, 0.0005717669787468898, 0.000709850225488009, 0.0006227095097307543, 0.0008507223040961101, 0.0006182839387171705, 0.0010400709358058733, 0.0006459491285523326, 0.0005055188479755892, 0.0004409758135371553, 0.0005752530170217197, 0.00025108047804419075, 0.0007454328690199043, 0.0004011052158964027, 0.00030285333096994563, 0.00030124141824819817, 0.0006470863320998089, 0.0008027868850452187, 0.0008173364179848545, 0.002744232512789202, 0.00018356594383829027, 0.00018504606937733476, 0.0008907412272172532, 0.00029785366251246486, 0.00017425119122952895, 0.0014618221851938546, 0.0030231530837346882, 0.0007526635489052454, 0.00036382629592042996, 0.0014816620112722864, 0.0003673839036816769, 0.0005248087218056487, 0.0005327506106609628, 0.0010307431443644566, 0.00044915150213899505, 0.0057284313735708366, 0.0010063348248284078, 0.0031845099456675524, 0.0008250807155812515, 0.0008870931702726202, 0.00041960546504348265, 0.0006941262244892055, 0.000350121535262724, 0.0019080447222223809, 0.0007466315791274221, 0.0004169169904070243, 0.0032350776257139614, 0.0002906907271623966, 0.0014831619201612683, 0.0005559104393075771, 0.0009206479592483275, 0.001208683684310073, 0.000824966398084206, 0.0003987628253893698, 0.00045317499454502813, 0.0002662681324215653, 0.00036920068145873127, 0.0004009172455234873, 0.0024342579655393026, 0.007038912519505419, 0.0013408312773066154, 0.0005934330179653518, 0.001010362306023158, 0.004601480679314851, 0.0005309459442882772, 0.0066283845856741, 0.00028604913307675987, 0.0004947336718157385, 0.0004615751622513942, 0.00036293383963373506, 0.001028221604044669, 0.0014024256611713524, 0.00033115157774027583, 0.0006138185250815192, 0.0010764771081355883, 0.00044852130994553675, 0.0036698998439933708, 0.0002541987061073745, 0.0003673375162068123, 0.006611628116933027, 0.000747621289153374, 0.0015817303808746122, 0.0001753326425501706, 0.004878248368450603, 0.0010126215102951705, 0.0004748830006730356, 0.0017234199361777721, 0.000735482831646692, 0.00035156340989120664, 0.00027637951931745394, 0.0004946019331375283, 0.0003956257593655091, 0.0005914837290794927, 0.000871360025300685, 0.00045939684990535317, 0.0010838313247780833, 0.0007065949715608681, 0.0003162713796679975, 0.0005251020283597367, 0.0006185842580317956, 0.0007866311591456752, 0.00036141302925432394, 0.0006864405303373266, 0.0006066940893323714, 0.0004469948785455941, 0.00023416049235922015, 0.0008159202170235476, 0.0006116481624986526, 0.0011570107198897639, 0.0006815239327645667, 0.0006757822554083931, 0.00016455010622052032, 0.000532927653278215, 0.0020791618877007358, 0.0014724270058251393, 0.0005087395431076593, 0.00027330125868934674, 0.00046052117143941066, 0.0007965903377033872, 0.00026281066174769536, 0.0003802478973594997, 0.0007265086612187415, 0.0008309969570373219, 0.00043678109182718596, 0.0007944529462984375, 0.0014964505134942828, 0.0003428866789945411, 0.0008487902925781688, 0.00034063213685709716, 0.0014594900333884254, 0.0003730658416815687, 0.00024021783339853379, 0.00023767954186802655, 0.0002803900477026601, 0.0005725019850511309, 0.0008243474829972457, 0.00044637936419038537, 0.0008930437278495574, 0.0005673400016668155, 0.0007970757886414805, 0.0002971874474089036, 0.0008655857512769584, 0.0014444706931377345, 0.00023186034392936138, 0.00050029485868193, 0.0051464043795341405, 0.0003023089349912135, 0.00027839778916710243, 0.0005764233826923147, 0.000851110827746511, 0.0015129233432119263, 0.0031379813674625775, 0.00021387149483866012, 0.0006974337564402231, 0.0012431943054998038, 0.00040143108051924595, 0.0007041793606241713, 0.0003664612971132117, 0.000653662865893136, 0.00028383299539721266, 0.00039791731777167824, 0.0015186230590605477, 0.0008521832528922969, 0.005384772083295945, 0.0037845861312252984, 0.0004995076804047249, 0.0008928843628648202, 0.001122167393558741, 0.000690235635782661, 0.0005436967629790988, 0.0009068545419125154, 0.0007272500754454844, 0.001243543829056387, 0.0003352469657563208, 0.0005799157909550021, 0.00114853567008881, 0.0004354052638108075, 0.00042226576904724327, 0.0011335067682149095, 0.0028960299143412373, 0.0012083786480053492, 0.000774484571353693, 0.00033446564015985686, 0.0003721930687064505, 0.0004495603922812191, 0.0012198962414278487, 0.00020825640763269044, 0.0003092726010265439, 0.0006837656076530115, 0.0007887792934099499, 0.001454261009216452, 0.00046117739064141836, 0.00045303573472824294, 0.0008238264664922149, 0.0010299533572292652, 0.0010811231060997165, 0.00035443567100800307, 0.0011786342126737048, 0.0002566885127897891, 0.0005280315223642723, 0.00026417098847188663, 0.0003139431617321783, 0.000409346537942257, 0.0005869562433514643, 0.0005874433333438541, 0.0007727859749112048, 0.0005360667968169284, 0.00031556688027275853, 0.0007745709892051126, 0.0007359079286409798, 0.0022848078333992947, 0.000758199570430271, 0.0012776363976143817, 0.00031405589591222244, 0.0006632072319953177, 0.0004299364491054869, 0.004760511552596082, 0.0013553446695504666, 0.0005428286024919863, 0.001049381536715871, 0.0007818878280355601, 0.00014979998149775283, 0.0002871635964889769, 0.004455039216587884, 0.0007515585125754284, 0.005434091363180165, 0.0002569757365722488, 0.0016002092498509975, 0.00028739037498653027]\n"
     ]
    }
   ],
   "source": [
    "n_classes = 10\n",
    "N = X_train.shape[1]\n",
    "\n",
    "logistic_model = LogisticRegressionModel(N, n_classes)\n",
    "\n",
    "logistic_model, loss = fit_data(X_train, y_train, verbose=True)\n",
    "print(\"Final loss =\", loss)"
   ]
  },
  {
   "cell_type": "code",
   "execution_count": 20,
   "metadata": {
    "execution": {
     "iopub.execute_input": "2021-02-05T15:17:57.631586Z",
     "iopub.status.busy": "2021-02-05T15:17:57.630769Z",
     "iopub.status.idle": "2021-02-05T15:17:57.644408Z",
     "shell.execute_reply": "2021-02-05T15:17:57.644906Z"
    }
   },
   "outputs": [
    {
     "ename": "NameError",
     "evalue": "name 'events_test_o' is not defined",
     "output_type": "error",
     "traceback": [
      "\u001b[0;31m---------------------------------------------------------------------------\u001b[0m",
      "\u001b[0;31mNameError\u001b[0m                                 Traceback (most recent call last)",
      "\u001b[0;32m<ipython-input-1-621271eba3bb>\u001b[0m in \u001b[0;36m<module>\u001b[0;34m\u001b[0m\n\u001b[0;32m----> 1\u001b[0;31m \u001b[0mX_test\u001b[0m\u001b[0;34m,\u001b[0m \u001b[0my_test\u001b[0m \u001b[0;34m=\u001b[0m \u001b[0mgather_data\u001b[0m\u001b[0;34m(\u001b[0m\u001b[0mevents_test_o\u001b[0m\u001b[0;34m,\u001b[0m \u001b[0mverbose\u001b[0m\u001b[0;34m=\u001b[0m\u001b[0mverbose\u001b[0m\u001b[0;34m)\u001b[0m\u001b[0;34m\u001b[0m\u001b[0;34m\u001b[0m\u001b[0m\n\u001b[0m\u001b[1;32m      2\u001b[0m \u001b[0mpred_target\u001b[0m \u001b[0;34m=\u001b[0m \u001b[0mpredict_data\u001b[0m\u001b[0;34m(\u001b[0m\u001b[0mX_test\u001b[0m\u001b[0;34m,\u001b[0m \u001b[0my_test\u001b[0m\u001b[0;34m,\u001b[0m \u001b[0mlogistic_model\u001b[0m\u001b[0;34m)\u001b[0m\u001b[0;34m\u001b[0m\u001b[0;34m\u001b[0m\u001b[0m\n",
      "\u001b[0;31mNameError\u001b[0m: name 'events_test_o' is not defined"
     ]
    }
   ],
   "source": [
    "X_test, y_test = gather_data(events_test_o, verbose=verbose)\n",
    "pred_target = predict_data(X_test, y_test, logistic_model)"
   ]
  },
  {
   "cell_type": "code",
   "execution_count": null,
   "metadata": {},
   "outputs": [],
   "source": [
    "device = torch.device(\"cuda\" if torch.cuda.is_available() else \"cpu\")\n",
    "if device==torch.device(\"cuda\"):\n",
    "    pred = torch.Tensor.cpu(pred_target).numpy() \n",
    "else:\n",
    "    pred = pred_target.detach().numpy()"
   ]
  },
  {
   "cell_type": "code",
   "execution_count": null,
   "metadata": {},
   "outputs": [],
   "source": [
    "print(f'Accuracy = {np.mean(pred_target.detach().cpu().numpy() == y_test)*100:.1f}%')"
   ]
  }
 ],
 "metadata": {
  "kernelspec": {
   "display_name": "Python 3",
   "language": "python",
   "name": "python3"
  },
  "language_info": {
   "codemirror_mode": {
    "name": "ipython",
    "version": 3
   },
   "file_extension": ".py",
   "mimetype": "text/x-python",
   "name": "python",
   "nbconvert_exporter": "python",
   "pygments_lexer": "ipython3",
   "version": "3.8.5"
  },
  "widgets": {
   "application/vnd.jupyter.widget-state+json": {
    "state": {
     "0810c2e210394672b83a116a4e2eea4c": {
      "model_module": "@jupyter-widgets/controls",
      "model_module_version": "1.5.0",
      "model_name": "DescriptionStyleModel",
      "state": {
       "_model_module": "@jupyter-widgets/controls",
       "_model_module_version": "1.5.0",
       "_model_name": "DescriptionStyleModel",
       "_view_count": null,
       "_view_module": "@jupyter-widgets/base",
       "_view_module_version": "1.2.0",
       "_view_name": "StyleView",
       "description_width": ""
      }
     },
     "3003e72a29434428acd552fc78583f19": {
      "model_module": "@jupyter-widgets/controls",
      "model_module_version": "1.5.0",
      "model_name": "ProgressStyleModel",
      "state": {
       "_model_module": "@jupyter-widgets/controls",
       "_model_module_version": "1.5.0",
       "_model_name": "ProgressStyleModel",
       "_view_count": null,
       "_view_module": "@jupyter-widgets/base",
       "_view_module_version": "1.2.0",
       "_view_name": "StyleView",
       "bar_color": null,
       "description_width": ""
      }
     },
     "4c0a3fe62ea14fdb83fa951a54c27f69": {
      "model_module": "@jupyter-widgets/base",
      "model_module_version": "1.2.0",
      "model_name": "LayoutModel",
      "state": {
       "_model_module": "@jupyter-widgets/base",
       "_model_module_version": "1.2.0",
       "_model_name": "LayoutModel",
       "_view_count": null,
       "_view_module": "@jupyter-widgets/base",
       "_view_module_version": "1.2.0",
       "_view_name": "LayoutView",
       "align_content": null,
       "align_items": null,
       "align_self": null,
       "border": null,
       "bottom": null,
       "display": null,
       "flex": null,
       "flex_flow": null,
       "grid_area": null,
       "grid_auto_columns": null,
       "grid_auto_flow": null,
       "grid_auto_rows": null,
       "grid_column": null,
       "grid_gap": null,
       "grid_row": null,
       "grid_template_areas": null,
       "grid_template_columns": null,
       "grid_template_rows": null,
       "height": null,
       "justify_content": null,
       "justify_items": null,
       "left": null,
       "margin": null,
       "max_height": null,
       "max_width": null,
       "min_height": null,
       "min_width": null,
       "object_fit": null,
       "object_position": null,
       "order": null,
       "overflow": null,
       "overflow_x": null,
       "overflow_y": null,
       "padding": null,
       "right": null,
       "top": null,
       "visibility": null,
       "width": null
      }
     },
     "60a67c12219148cdafd9ac3bd106b545": {
      "model_module": "@jupyter-widgets/base",
      "model_module_version": "1.2.0",
      "model_name": "LayoutModel",
      "state": {
       "_model_module": "@jupyter-widgets/base",
       "_model_module_version": "1.2.0",
       "_model_name": "LayoutModel",
       "_view_count": null,
       "_view_module": "@jupyter-widgets/base",
       "_view_module_version": "1.2.0",
       "_view_name": "LayoutView",
       "align_content": null,
       "align_items": null,
       "align_self": null,
       "border": null,
       "bottom": null,
       "display": null,
       "flex": null,
       "flex_flow": null,
       "grid_area": null,
       "grid_auto_columns": null,
       "grid_auto_flow": null,
       "grid_auto_rows": null,
       "grid_column": null,
       "grid_gap": null,
       "grid_row": null,
       "grid_template_areas": null,
       "grid_template_columns": null,
       "grid_template_rows": null,
       "height": null,
       "justify_content": null,
       "justify_items": null,
       "left": null,
       "margin": null,
       "max_height": null,
       "max_width": null,
       "min_height": null,
       "min_width": null,
       "object_fit": null,
       "object_position": null,
       "order": null,
       "overflow": null,
       "overflow_x": null,
       "overflow_y": null,
       "padding": null,
       "right": null,
       "top": null,
       "visibility": null,
       "width": null
      }
     },
     "6602e9d177174fd2a99d185a4f8011cd": {
      "model_module": "@jupyter-widgets/base",
      "model_module_version": "1.2.0",
      "model_name": "LayoutModel",
      "state": {
       "_model_module": "@jupyter-widgets/base",
       "_model_module_version": "1.2.0",
       "_model_name": "LayoutModel",
       "_view_count": null,
       "_view_module": "@jupyter-widgets/base",
       "_view_module_version": "1.2.0",
       "_view_name": "LayoutView",
       "align_content": null,
       "align_items": null,
       "align_self": null,
       "border": null,
       "bottom": null,
       "display": null,
       "flex": null,
       "flex_flow": null,
       "grid_area": null,
       "grid_auto_columns": null,
       "grid_auto_flow": null,
       "grid_auto_rows": null,
       "grid_column": null,
       "grid_gap": null,
       "grid_row": null,
       "grid_template_areas": null,
       "grid_template_columns": null,
       "grid_template_rows": null,
       "height": null,
       "justify_content": null,
       "justify_items": null,
       "left": null,
       "margin": null,
       "max_height": null,
       "max_width": null,
       "min_height": null,
       "min_width": null,
       "object_fit": null,
       "object_position": null,
       "order": null,
       "overflow": null,
       "overflow_x": null,
       "overflow_y": null,
       "padding": null,
       "right": null,
       "top": null,
       "visibility": null,
       "width": null
      }
     },
     "6f6a94670b2c4dcd869fc19ed39e5ef9": {
      "model_module": "@jupyter-widgets/controls",
      "model_module_version": "1.5.0",
      "model_name": "DescriptionStyleModel",
      "state": {
       "_model_module": "@jupyter-widgets/controls",
       "_model_module_version": "1.5.0",
       "_model_name": "DescriptionStyleModel",
       "_view_count": null,
       "_view_module": "@jupyter-widgets/base",
       "_view_module_version": "1.2.0",
       "_view_name": "StyleView",
       "description_width": ""
      }
     },
     "8968056f35f347c3a94b89781828b672": {
      "model_module": "@jupyter-widgets/base",
      "model_module_version": "1.2.0",
      "model_name": "LayoutModel",
      "state": {
       "_model_module": "@jupyter-widgets/base",
       "_model_module_version": "1.2.0",
       "_model_name": "LayoutModel",
       "_view_count": null,
       "_view_module": "@jupyter-widgets/base",
       "_view_module_version": "1.2.0",
       "_view_name": "LayoutView",
       "align_content": null,
       "align_items": null,
       "align_self": null,
       "border": null,
       "bottom": null,
       "display": null,
       "flex": null,
       "flex_flow": null,
       "grid_area": null,
       "grid_auto_columns": null,
       "grid_auto_flow": null,
       "grid_auto_rows": null,
       "grid_column": null,
       "grid_gap": null,
       "grid_row": null,
       "grid_template_areas": null,
       "grid_template_columns": null,
       "grid_template_rows": null,
       "height": null,
       "justify_content": null,
       "justify_items": null,
       "left": null,
       "margin": null,
       "max_height": null,
       "max_width": null,
       "min_height": null,
       "min_width": null,
       "object_fit": null,
       "object_position": null,
       "order": null,
       "overflow": null,
       "overflow_x": null,
       "overflow_y": null,
       "padding": null,
       "right": null,
       "top": null,
       "visibility": null,
       "width": null
      }
     },
     "8c55ea3c6f824c0db609d7208f0d064c": {
      "model_module": "@jupyter-widgets/controls",
      "model_module_version": "1.5.0",
      "model_name": "FloatProgressModel",
      "state": {
       "_dom_classes": [],
       "_model_module": "@jupyter-widgets/controls",
       "_model_module_version": "1.5.0",
       "_model_name": "FloatProgressModel",
       "_view_count": null,
       "_view_module": "@jupyter-widgets/controls",
       "_view_module_version": "1.5.0",
       "_view_name": "ProgressView",
       "bar_style": "",
       "description": "",
       "description_tooltip": null,
       "layout": "IPY_MODEL_4c0a3fe62ea14fdb83fa951a54c27f69",
       "max": 1500.0,
       "min": 0.0,
       "orientation": "horizontal",
       "style": "IPY_MODEL_3003e72a29434428acd552fc78583f19",
       "value": 0.0
      }
     },
     "93832fc85ddc4b5f8d30e331ad3e499e": {
      "model_module": "@jupyter-widgets/controls",
      "model_module_version": "1.5.0",
      "model_name": "HTMLModel",
      "state": {
       "_dom_classes": [],
       "_model_module": "@jupyter-widgets/controls",
       "_model_module_version": "1.5.0",
       "_model_name": "HTMLModel",
       "_view_count": null,
       "_view_module": "@jupyter-widgets/controls",
       "_view_module_version": "1.5.0",
       "_view_name": "HTMLView",
       "description": "",
       "description_tooltip": null,
       "layout": "IPY_MODEL_8968056f35f347c3a94b89781828b672",
       "placeholder": "​",
       "style": "IPY_MODEL_6f6a94670b2c4dcd869fc19ed39e5ef9",
       "value": " 0/1500 [00:00&lt;?, ?it/s]"
      }
     },
     "a339d84f769f4902bda1e949d440d214": {
      "model_module": "@jupyter-widgets/controls",
      "model_module_version": "1.5.0",
      "model_name": "HBoxModel",
      "state": {
       "_dom_classes": [],
       "_model_module": "@jupyter-widgets/controls",
       "_model_module_version": "1.5.0",
       "_model_name": "HBoxModel",
       "_view_count": null,
       "_view_module": "@jupyter-widgets/controls",
       "_view_module_version": "1.5.0",
       "_view_name": "HBoxView",
       "box_style": "",
       "children": [
        "IPY_MODEL_f9c43049e89a42c48b55ab3808f3cbfe",
        "IPY_MODEL_8c55ea3c6f824c0db609d7208f0d064c",
        "IPY_MODEL_93832fc85ddc4b5f8d30e331ad3e499e"
       ],
       "layout": "IPY_MODEL_60a67c12219148cdafd9ac3bd106b545"
      }
     },
     "f9c43049e89a42c48b55ab3808f3cbfe": {
      "model_module": "@jupyter-widgets/controls",
      "model_module_version": "1.5.0",
      "model_name": "HTMLModel",
      "state": {
       "_dom_classes": [],
       "_model_module": "@jupyter-widgets/controls",
       "_model_module_version": "1.5.0",
       "_model_name": "HTMLModel",
       "_view_count": null,
       "_view_module": "@jupyter-widgets/controls",
       "_view_module_version": "1.5.0",
       "_view_name": "HTMLView",
       "description": "",
       "description_tooltip": null,
       "layout": "IPY_MODEL_6602e9d177174fd2a99d185a4f8011cd",
       "placeholder": "​",
       "style": "IPY_MODEL_0810c2e210394672b83a116a4e2eea4c",
       "value": "  0%"
      }
     }
    },
    "version_major": 2,
    "version_minor": 0
   }
  }
 },
 "nbformat": 4,
 "nbformat_minor": 4
}
