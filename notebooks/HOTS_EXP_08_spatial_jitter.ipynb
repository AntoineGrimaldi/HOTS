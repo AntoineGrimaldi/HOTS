{
 "cells": [
  {
   "cell_type": "code",
   "execution_count": 1,
   "metadata": {
    "execution": {
     "iopub.execute_input": "2021-02-17T18:33:24.090374Z",
     "iopub.status.busy": "2021-02-17T18:33:24.089235Z",
     "iopub.status.idle": "2021-02-17T18:33:24.325251Z",
     "shell.execute_reply": "2021-02-17T18:33:24.325581Z"
    },
    "local_metadata": {
     "execution": {
      "iopub.execute_input": "2021-02-05T15:04:25.510820Z",
      "iopub.status.busy": "2021-02-05T15:04:25.509647Z",
      "iopub.status.idle": "2021-02-05T15:04:25.952205Z",
      "shell.execute_reply": "2021-02-05T15:04:25.952554Z"
     }
    },
    "remote_metadata": {}
   },
   "outputs": [
    {
     "name": "stdout",
     "output_type": "stream",
     "text": [
      "/home/antoine/homhots/HOTS/HOTS\n"
     ]
    }
   ],
   "source": [
    "%load_ext autoreload\n",
    "%autoreload 2\n",
    "%matplotlib inline\n",
    "%cd '../HOTS'"
   ]
  },
  {
   "cell_type": "code",
   "execution_count": 2,
   "metadata": {
    "execution": {
     "iopub.execute_input": "2021-02-17T18:33:24.341385Z",
     "iopub.status.busy": "2021-02-17T18:33:24.340366Z",
     "iopub.status.idle": "2021-02-17T18:33:24.352550Z",
     "shell.execute_reply": "2021-02-17T18:33:24.353102Z"
    },
    "local_metadata": {
     "execution": {
      "iopub.execute_input": "2021-02-05T15:04:25.966422Z",
      "iopub.status.busy": "2021-02-05T15:04:25.965230Z",
      "iopub.status.idle": "2021-02-05T15:04:27.542208Z",
      "shell.execute_reply": "2021-02-05T15:04:27.542555Z"
     }
    },
    "remote_metadata": {}
   },
   "outputs": [
    {
     "ename": "SyntaxError",
     "evalue": "invalid syntax (<ipython-input-1-16ec62baf9ee>, line 26)",
     "output_type": "error",
     "traceback": [
      "\u001b[0;36m  File \u001b[0;32m\"<ipython-input-1-16ec62baf9ee>\"\u001b[0;36m, line \u001b[0;32m26\u001b[0m\n\u001b[0;31m    <<<<<<< local\u001b[0m\n\u001b[0m    ^\u001b[0m\n\u001b[0;31mSyntaxError\u001b[0m\u001b[0;31m:\u001b[0m invalid syntax\n"
     ]
    }
   ],
   "source": [
    "import os\n",
    "import pickle\n",
    "import datetime\n",
    "from mix_Network import *\n",
    "\n",
    "dataset = 'nmnist'\n",
    "records_path = '../Records'\n",
    "timestr = datetime.datetime.now().date().isoformat()\n",
    "timestr = '2021-01-27'\n",
    "\n",
    "%mkdir -p ../Records\n",
    "%mkdir -p ../Records/EXP_03_NMNIST\n",
    "\n",
    "homeo = True\n",
    "sigma = None\n",
    "pooling = False\n",
    "homeinv = False\n",
    "jitonic = [None,None] #[temporal, spatial]\n",
    "jitter = False\n",
    "tau = 5\n",
    "nb_train = 5000\n",
    "nb_test = 100\n",
    "krnlinit = 'rdn'\n",
    "nblay = 3\n",
    "nbclust = 4\n",
    "<<<<<<< local\n",
    "filt = 2\n",
    "=======\n",
    "filt = 2\n",
    "spajit = np.arange(0,20,0.5)\n",
    "timjit = np.arange(0,50000, 1000)\n",
    ">>>>>>> remote"
   ]
  },
  {
   "cell_type": "code",
   "execution_count": 3,
   "metadata": {
    "execution": {
     "iopub.execute_input": "2021-02-17T18:33:24.359705Z",
     "iopub.status.busy": "2021-02-17T18:33:24.358696Z",
     "iopub.status.idle": "2021-02-17T18:33:24.414701Z",
     "shell.execute_reply": "2021-02-17T18:33:24.415432Z"
    }
   },
   "outputs": [
    {
     "ename": "NameError",
     "evalue": "name 'network' is not defined",
     "output_type": "error",
     "traceback": [
      "\u001b[0;31m---------------------------------------------------------------------------\u001b[0m",
      "\u001b[0;31mNameError\u001b[0m                                 Traceback (most recent call last)",
      "\u001b[0;32m<ipython-input-1-a16feb126b69>\u001b[0m in \u001b[0;36m<module>\u001b[0;34m\u001b[0m\n\u001b[0;32m----> 1\u001b[0;31m \u001b[0mhotshom\u001b[0m \u001b[0;34m=\u001b[0m \u001b[0mnetwork\u001b[0m\u001b[0;34m(\u001b[0m\u001b[0mkrnlinit\u001b[0m\u001b[0;34m=\u001b[0m\u001b[0mkrnlinit\u001b[0m\u001b[0;34m,\u001b[0m \u001b[0mfilt\u001b[0m\u001b[0;34m=\u001b[0m\u001b[0mfilt\u001b[0m\u001b[0;34m,\u001b[0m \u001b[0mtau\u001b[0m\u001b[0;34m=\u001b[0m\u001b[0mtau\u001b[0m\u001b[0;34m,\u001b[0m \u001b[0mnblay\u001b[0m\u001b[0;34m=\u001b[0m\u001b[0mnblay\u001b[0m\u001b[0;34m,\u001b[0m \u001b[0mnbclust\u001b[0m\u001b[0;34m=\u001b[0m\u001b[0mnbclust\u001b[0m\u001b[0;34m,\u001b[0m \u001b[0mhomeo\u001b[0m\u001b[0;34m=\u001b[0m\u001b[0mhomeo\u001b[0m\u001b[0;34m,\u001b[0m \u001b[0msigma\u001b[0m\u001b[0;34m=\u001b[0m\u001b[0msigma\u001b[0m\u001b[0;34m,\u001b[0m \u001b[0mhomeinv\u001b[0m\u001b[0;34m=\u001b[0m\u001b[0mhomeinv\u001b[0m\u001b[0;34m,\u001b[0m \u001b[0mjitter\u001b[0m\u001b[0;34m=\u001b[0m\u001b[0mjitter\u001b[0m\u001b[0;34m)\u001b[0m\u001b[0;34m\u001b[0m\u001b[0;34m\u001b[0m\u001b[0m\n\u001b[0m\u001b[1;32m      2\u001b[0m \u001b[0mhotshom\u001b[0m \u001b[0;34m=\u001b[0m \u001b[0mhotshom\u001b[0m\u001b[0;34m.\u001b[0m\u001b[0mlearningall\u001b[0m\u001b[0;34m(\u001b[0m\u001b[0mdataset\u001b[0m\u001b[0;34m=\u001b[0m\u001b[0mdataset\u001b[0m\u001b[0;34m)\u001b[0m\u001b[0;34m\u001b[0m\u001b[0;34m\u001b[0m\u001b[0m\n\u001b[1;32m      3\u001b[0m \u001b[0mhotshom\u001b[0m\u001b[0;34m.\u001b[0m\u001b[0mplotlayer\u001b[0m\u001b[0;34m(\u001b[0m\u001b[0;34m)\u001b[0m\u001b[0;34m\u001b[0m\u001b[0;34m\u001b[0m\u001b[0m\n",
      "\u001b[0;31mNameError\u001b[0m: name 'network' is not defined"
     ]
    }
   ],
   "source": [
    "hotshom = network(krnlinit=krnlinit, filt=filt, tau=tau, nblay=nblay, nbclust=nbclust, homeo=homeo, sigma=sigma, homeinv=homeinv, jitter=jitter)\n",
    "hotshom = hotshom.learningall(dataset=dataset)\n",
    "hotshom.plotlayer()"
   ]
  },
  {
   "cell_type": "code",
   "execution_count": 4,
   "metadata": {
    "execution": {
     "iopub.execute_input": "2021-02-17T18:33:24.421513Z",
     "iopub.status.busy": "2021-02-17T18:33:24.420559Z",
     "iopub.status.idle": "2021-02-17T18:33:24.438649Z",
     "shell.execute_reply": "2021-02-17T18:33:24.439514Z"
    }
   },
   "outputs": [
    {
     "ename": "NameError",
     "evalue": "name 'hotshom' is not defined",
     "output_type": "error",
     "traceback": [
      "\u001b[0;31m---------------------------------------------------------------------------\u001b[0m",
      "\u001b[0;31mNameError\u001b[0m                                 Traceback (most recent call last)",
      "\u001b[0;32m<ipython-input-1-3e3b822eef42>\u001b[0m in \u001b[0;36m<module>\u001b[0;34m\u001b[0m\n\u001b[0;32m----> 1\u001b[0;31m \u001b[0mtrainmap\u001b[0m \u001b[0;34m=\u001b[0m \u001b[0mhotshom\u001b[0m\u001b[0;34m.\u001b[0m\u001b[0mrunning\u001b[0m\u001b[0;34m(\u001b[0m\u001b[0mnb_digit\u001b[0m \u001b[0;34m=\u001b[0m \u001b[0mnb_train\u001b[0m\u001b[0;34m)\u001b[0m\u001b[0;34m\u001b[0m\u001b[0;34m\u001b[0m\u001b[0m\n\u001b[0m",
      "\u001b[0;31mNameError\u001b[0m: name 'hotshom' is not defined"
     ]
    }
   ],
   "source": [
    "trainmap = hotshom.running(nb_digit = nb_train)"
   ]
  },
  {
   "cell_type": "markdown",
   "metadata": {},
   "source": [
    "# Spatial Jitter only on the classification"
   ]
  },
  {
   "cell_type": "markdown",
   "metadata": {},
   "source": [
    "<span style=\"color:red\">**<<<<<<< local**</span>"
   ]
  },
  {
   "cell_type": "code",
   "execution_count": 5,
   "metadata": {
    "execution": {
     "iopub.execute_input": "2021-02-17T18:33:24.484375Z",
     "iopub.status.busy": "2021-02-17T18:33:24.483151Z",
     "iopub.status.idle": "2021-02-17T18:33:24.490680Z",
     "shell.execute_reply": "2021-02-17T18:33:24.491503Z"
    }
   },
   "outputs": [],
   "source": [
    "def makehisto(filt, tau, krnlinit, nblay, nbclust, homeo, records_path, timestr, dataset, sigma, homeinv, jitter, nb_train, nb_test, jitonic):\n",
    "    if pooling:\n",
    "        hotshom = poolingnetwork(krnlinit=krnlinit, filt=filt, tau=tau, nblay=nblay, nbclust=nbclust, homeo=homeo, sigma=sigma, homeinv=homeinv, jitter=jitter)\n",
    "    else:\n",
    "        hotshom = network(krnlinit=krnlinit, filt=filt, tau=tau, nblay=nblay, nbclust=nbclust, homeo=homeo, sigma=sigma, homeinv=homeinv, jitter=jitter)\n",
    "    arch = [hotshom.L[i].kernel.shape[1] for i in range(len(hotshom.L))]\n",
    "    fname = f'{records_path}/EXP_03_NMNIST/{timestr}_hots_{dataset}_{arch}_{krnlinit}_{tau}_{homeo}_{sigma}_{homeinv}_{jitter}_{jitonic}'\n",
    "    fname_model = f'{records_path}/EXP_03_NMNIST/{timestr}_hots_{dataset}_{arch}_{krnlinit}_{tau}_{homeo}_{sigma}_{homeinv}_{jitter}_model.pkl'\n",
    "    print(fname_model)\n",
    "    if not os.path.isfile(fname_model):\n",
    "        loaderhom, order = hotshom.learningall(dataset=dataset)\n",
    "        with open(fname_model, 'wb') as file:\n",
    "            pickle.dump([hotshom, loaderhom, order], file, pickle.HIGHEST_PROTOCOL)\n",
    "    else:\n",
    "        with open(fname_model, 'rb') as file:\n",
    "            hotshom, loaderhom, order = pickle.load(file)\n",
    "    hotshom.plotlayer()\n",
    "    for homeo in [False,True]:\n",
    "        for i in range(len(hotshom.L)):\n",
    "            hotshom.L[i].homeo=homeo\n",
    "        if not os.path.isfile(fname+f'_histo_{nb_train}_{nb_test}_{homeo}.pkl'):       \n",
    "            trainmaphom, loaderhom, _ = hotshom.running(loaderhom, order, nb_digit = nb_train, jitonic=jitonic)\n",
    "            testmaphom, loaderhom, _ = hotshom.running(loaderhom, order, nb_digit = nb_test, jitonic=jitonic)\n",
    "            with open(fname+f'_histo_{nb_train}_{nb_test}_{homeo}.pkl', 'wb') as file:\n",
    "                pickle.dump([trainmaphom, testmaphom], file, pickle.HIGHEST_PROTOCOL)\n",
    "        else:\n",
    "            with open(fname+f'_histo_{nb_train}_{nb_test}_{homeo}.pkl', 'rb') as file:\n",
    "                trainmaphom, testmaphom = pickle.load(file)\n",
    "        histoscore(trainmaphom,testmaphom)\n",
    "    return hotshom, loaderhom, order, trainmaphom, testmaphom"
   ]
  },
  {
   "cell_type": "code",
   "execution_count": 6,
   "metadata": {
    "execution": {
     "iopub.execute_input": "2021-02-17T18:33:24.496596Z",
     "iopub.status.busy": "2021-02-17T18:33:24.495415Z",
     "iopub.status.idle": "2021-02-17T18:33:24.505561Z",
     "shell.execute_reply": "2021-02-17T18:33:24.506465Z"
    }
   },
   "outputs": [
    {
     "ename": "NameError",
     "evalue": "name 'np' is not defined",
     "output_type": "error",
     "traceback": [
      "\u001b[0;31m---------------------------------------------------------------------------\u001b[0m",
      "\u001b[0;31mNameError\u001b[0m                                 Traceback (most recent call last)",
      "\u001b[0;32m<ipython-input-1-393be7488498>\u001b[0m in \u001b[0;36m<module>\u001b[0;34m\u001b[0m\n\u001b[0;32m----> 1\u001b[0;31m \u001b[0;32mfor\u001b[0m \u001b[0mi\u001b[0m \u001b[0;32min\u001b[0m \u001b[0mnp\u001b[0m\u001b[0;34m.\u001b[0m\u001b[0marange\u001b[0m\u001b[0;34m(\u001b[0m\u001b[0;36m0\u001b[0m\u001b[0;34m,\u001b[0m\u001b[0;36m10\u001b[0m\u001b[0;34m,\u001b[0m\u001b[0;36m0.5\u001b[0m\u001b[0;34m)\u001b[0m\u001b[0;34m:\u001b[0m\u001b[0;34m\u001b[0m\u001b[0;34m\u001b[0m\u001b[0m\n\u001b[0m\u001b[1;32m      2\u001b[0m     \u001b[0mi\u001b[0m \u001b[0;34m=\u001b[0m \u001b[0mround\u001b[0m\u001b[0;34m(\u001b[0m\u001b[0mi\u001b[0m\u001b[0;34m,\u001b[0m\u001b[0;36m1\u001b[0m\u001b[0;34m)\u001b[0m\u001b[0;34m\u001b[0m\u001b[0;34m\u001b[0m\u001b[0m\n\u001b[1;32m      3\u001b[0m     \u001b[0mjitonic\u001b[0m \u001b[0;34m=\u001b[0m \u001b[0;34m[\u001b[0m\u001b[0;32mNone\u001b[0m\u001b[0;34m,\u001b[0m\u001b[0mi\u001b[0m\u001b[0;34m]\u001b[0m\u001b[0;34m\u001b[0m\u001b[0;34m\u001b[0m\u001b[0m\n\u001b[1;32m      4\u001b[0m     \u001b[0mmakehisto\u001b[0m\u001b[0;34m(\u001b[0m\u001b[0mfilt\u001b[0m\u001b[0;34m,\u001b[0m \u001b[0mtau\u001b[0m\u001b[0;34m,\u001b[0m \u001b[0mkrnlinit\u001b[0m\u001b[0;34m,\u001b[0m \u001b[0mnblay\u001b[0m\u001b[0;34m,\u001b[0m \u001b[0mnbclust\u001b[0m\u001b[0;34m,\u001b[0m \u001b[0mhomeo\u001b[0m\u001b[0;34m,\u001b[0m \u001b[0mrecords_path\u001b[0m\u001b[0;34m,\u001b[0m \u001b[0mtimestr\u001b[0m\u001b[0;34m,\u001b[0m \u001b[0mdataset\u001b[0m\u001b[0;34m,\u001b[0m \u001b[0msigma\u001b[0m\u001b[0;34m,\u001b[0m \u001b[0mhomeinv\u001b[0m\u001b[0;34m,\u001b[0m \u001b[0mjitter\u001b[0m\u001b[0;34m,\u001b[0m \u001b[0mnb_train\u001b[0m\u001b[0;34m,\u001b[0m \u001b[0mnb_test\u001b[0m\u001b[0;34m,\u001b[0m \u001b[0mjitonic\u001b[0m\u001b[0;34m)\u001b[0m\u001b[0;34m;\u001b[0m\u001b[0;34m\u001b[0m\u001b[0;34m\u001b[0m\u001b[0m\n",
      "\u001b[0;31mNameError\u001b[0m: name 'np' is not defined"
     ]
    }
   ],
   "source": [
    "for i in np.arange(0,10,0.5):\n",
    "    i = round(i,1)\n",
    "    jitonic = [None,i]\n",
    "    makehisto(filt, tau, krnlinit, nblay, nbclust, homeo, records_path, timestr, dataset, sigma, homeinv, jitter, nb_train, nb_test, jitonic);"
   ]
  },
  {
   "cell_type": "code",
   "execution_count": 7,
   "metadata": {
    "execution": {
     "iopub.execute_input": "2021-02-17T18:33:24.511284Z",
     "iopub.status.busy": "2021-02-17T18:33:24.510282Z",
     "iopub.status.idle": "2021-02-17T18:33:24.519626Z",
     "shell.execute_reply": "2021-02-17T18:33:24.520521Z"
    }
   },
   "outputs": [
    {
     "ename": "NameError",
     "evalue": "name 'np' is not defined",
     "output_type": "error",
     "traceback": [
      "\u001b[0;31m---------------------------------------------------------------------------\u001b[0m",
      "\u001b[0;31mNameError\u001b[0m                                 Traceback (most recent call last)",
      "\u001b[0;32m<ipython-input-1-7826eab9d1f7>\u001b[0m in \u001b[0;36m<module>\u001b[0;34m\u001b[0m\n\u001b[0;32m----> 1\u001b[0;31m \u001b[0;32mfor\u001b[0m \u001b[0mi\u001b[0m \u001b[0;32min\u001b[0m \u001b[0mnp\u001b[0m\u001b[0;34m.\u001b[0m\u001b[0marange\u001b[0m\u001b[0;34m(\u001b[0m\u001b[0;36m0\u001b[0m\u001b[0;34m,\u001b[0m\u001b[0;36m3000\u001b[0m\u001b[0;34m,\u001b[0m\u001b[0;36m500\u001b[0m\u001b[0;34m)\u001b[0m\u001b[0;34m:\u001b[0m\u001b[0;34m\u001b[0m\u001b[0;34m\u001b[0m\u001b[0m\n\u001b[0m\u001b[1;32m      2\u001b[0m     \u001b[0mi\u001b[0m \u001b[0;34m=\u001b[0m \u001b[0mround\u001b[0m\u001b[0;34m(\u001b[0m\u001b[0mi\u001b[0m\u001b[0;34m,\u001b[0m\u001b[0;36m1\u001b[0m\u001b[0;34m)\u001b[0m\u001b[0;34m\u001b[0m\u001b[0;34m\u001b[0m\u001b[0m\n\u001b[1;32m      3\u001b[0m     \u001b[0mjitonic\u001b[0m \u001b[0;34m=\u001b[0m \u001b[0;34m[\u001b[0m\u001b[0mi\u001b[0m\u001b[0;34m,\u001b[0m\u001b[0;32mNone\u001b[0m\u001b[0;34m]\u001b[0m\u001b[0;34m\u001b[0m\u001b[0;34m\u001b[0m\u001b[0m\n\u001b[1;32m      4\u001b[0m     \u001b[0mmakehisto\u001b[0m\u001b[0;34m(\u001b[0m\u001b[0mfilt\u001b[0m\u001b[0;34m,\u001b[0m \u001b[0mtau\u001b[0m\u001b[0;34m,\u001b[0m \u001b[0mkrnlinit\u001b[0m\u001b[0;34m,\u001b[0m \u001b[0mnblay\u001b[0m\u001b[0;34m,\u001b[0m \u001b[0mnbclust\u001b[0m\u001b[0;34m,\u001b[0m \u001b[0mhomeo\u001b[0m\u001b[0;34m,\u001b[0m \u001b[0mrecords_path\u001b[0m\u001b[0;34m,\u001b[0m \u001b[0mtimestr\u001b[0m\u001b[0;34m,\u001b[0m \u001b[0mdataset\u001b[0m\u001b[0;34m,\u001b[0m \u001b[0msigma\u001b[0m\u001b[0;34m,\u001b[0m \u001b[0mhomeinv\u001b[0m\u001b[0;34m,\u001b[0m \u001b[0mjitter\u001b[0m\u001b[0;34m,\u001b[0m \u001b[0mnb_train\u001b[0m\u001b[0;34m,\u001b[0m \u001b[0mnb_test\u001b[0m\u001b[0;34m,\u001b[0m \u001b[0mjitonic\u001b[0m\u001b[0;34m)\u001b[0m\u001b[0;34m;\u001b[0m\u001b[0;34m\u001b[0m\u001b[0;34m\u001b[0m\u001b[0m\n",
      "\u001b[0;31mNameError\u001b[0m: name 'np' is not defined"
     ]
    }
   ],
   "source": [
    "for i in np.arange(0,3000,500):\n",
    "    i = round(i,1)\n",
    "    jitonic = [i,None]\n",
    "    makehisto(filt, tau, krnlinit, nblay, nbclust, homeo, records_path, timestr, dataset, sigma, homeinv, jitter, nb_train, nb_test, jitonic);"
   ]
  },
  {
   "cell_type": "markdown",
   "metadata": {},
   "source": [
    "<span style=\"color:red\">**=======**</span>"
   ]
  },
  {
   "cell_type": "code",
   "execution_count": 8,
   "metadata": {
    "execution": {
     "iopub.execute_input": "2021-02-17T18:33:24.525160Z",
     "iopub.status.busy": "2021-02-17T18:33:24.524193Z",
     "iopub.status.idle": "2021-02-17T18:33:24.540750Z",
     "shell.execute_reply": "2021-02-17T18:33:24.541315Z"
    }
   },
   "outputs": [
    {
     "ename": "NameError",
     "evalue": "name 'spajit' is not defined",
     "output_type": "error",
     "traceback": [
      "\u001b[0;31m---------------------------------------------------------------------------\u001b[0m",
      "\u001b[0;31mNameError\u001b[0m                                 Traceback (most recent call last)",
      "\u001b[0;32m<ipython-input-1-c8245a563fee>\u001b[0m in \u001b[0;36m<module>\u001b[0;34m\u001b[0m\n\u001b[0;32m----> 1\u001b[0;31m \u001b[0;32mfor\u001b[0m \u001b[0mi\u001b[0m \u001b[0;32min\u001b[0m \u001b[0mspajit\u001b[0m\u001b[0;34m:\u001b[0m\u001b[0;34m\u001b[0m\u001b[0;34m\u001b[0m\u001b[0m\n\u001b[0m\u001b[1;32m      2\u001b[0m     \u001b[0mi\u001b[0m \u001b[0;34m=\u001b[0m \u001b[0mround\u001b[0m\u001b[0;34m(\u001b[0m\u001b[0mi\u001b[0m\u001b[0;34m,\u001b[0m\u001b[0;36m1\u001b[0m\u001b[0;34m)\u001b[0m\u001b[0;34m\u001b[0m\u001b[0;34m\u001b[0m\u001b[0m\n\u001b[1;32m      3\u001b[0m     \u001b[0mjitonic\u001b[0m \u001b[0;34m=\u001b[0m \u001b[0;34m[\u001b[0m\u001b[0;32mNone\u001b[0m\u001b[0;34m,\u001b[0m\u001b[0mi\u001b[0m\u001b[0;34m]\u001b[0m\u001b[0;34m\u001b[0m\u001b[0;34m\u001b[0m\u001b[0m\n\u001b[1;32m      4\u001b[0m     \u001b[0mtestmap\u001b[0m \u001b[0;34m=\u001b[0m \u001b[0mhotshom\u001b[0m\u001b[0;34m.\u001b[0m\u001b[0mrunning\u001b[0m\u001b[0;34m(\u001b[0m\u001b[0mtrain\u001b[0m\u001b[0;34m=\u001b[0m\u001b[0;32mFalse\u001b[0m\u001b[0;34m,\u001b[0m \u001b[0mnb_digit\u001b[0m\u001b[0;34m=\u001b[0m\u001b[0mnb_test\u001b[0m\u001b[0;34m,\u001b[0m \u001b[0mjitonic\u001b[0m\u001b[0;34m=\u001b[0m\u001b[0mjitonic\u001b[0m\u001b[0;34m)\u001b[0m\u001b[0;34m\u001b[0m\u001b[0;34m\u001b[0m\u001b[0m\n",
      "\u001b[0;31mNameError\u001b[0m: name 'spajit' is not defined"
     ]
    }
   ],
   "source": [
    "for i in spajit:\n",
    "    i = round(i,1)\n",
    "    jitonic = [None,i]\n",
    "    testmap = hotshom.running(train=False, nb_digit=nb_test, jitonic=jitonic)"
   ]
  },
  {
   "cell_type": "markdown",
   "metadata": {},
   "source": [
    "# Temporal Jitter only on the classification"
   ]
  },
  {
   "cell_type": "raw",
   "metadata": {},
   "source": [
    "for i in timjit:\n",
    "    i = round(i,1)\n",
    "    jitonic = [i,None]\n",
    "    testmap = hotshom.running(train=False, nb_digit=nb_test, jitonic=jitonic)"
   ]
  },
  {
   "cell_type": "markdown",
   "metadata": {},
   "source": [
    "# Testing without homeostasis"
   ]
  },
  {
   "cell_type": "raw",
   "metadata": {},
   "source": [
    "for i in timjit:\n",
    "    i = round(i,1)\n",
    "    jitonic = [i,None]\n",
    "    trainmaphom = hotshom.running(train=False, nb_digit=nb_test, jitonic=jitonic)"
   ]
  },
  {
   "cell_type": "code",
   "execution_count": 9,
   "metadata": {
    "execution": {
     "iopub.execute_input": "2021-02-17T18:33:24.546395Z",
     "iopub.status.busy": "2021-02-17T18:33:24.545747Z",
     "iopub.status.idle": "2021-02-17T18:33:24.560695Z",
     "shell.execute_reply": "2021-02-17T18:33:24.561581Z"
    }
   },
   "outputs": [
    {
     "ename": "NameError",
     "evalue": "name 'spajit' is not defined",
     "output_type": "error",
     "traceback": [
      "\u001b[0;31m---------------------------------------------------------------------------\u001b[0m",
      "\u001b[0;31mNameError\u001b[0m                                 Traceback (most recent call last)",
      "\u001b[0;32m<ipython-input-1-578d33ce09a0>\u001b[0m in \u001b[0;36m<module>\u001b[0;34m\u001b[0m\n\u001b[0;32m----> 1\u001b[0;31m \u001b[0;32mfor\u001b[0m \u001b[0mi\u001b[0m \u001b[0;32min\u001b[0m \u001b[0mspajit\u001b[0m\u001b[0;34m:\u001b[0m\u001b[0;34m\u001b[0m\u001b[0;34m\u001b[0m\u001b[0m\n\u001b[0m\u001b[1;32m      2\u001b[0m     \u001b[0mi\u001b[0m \u001b[0;34m=\u001b[0m \u001b[0mround\u001b[0m\u001b[0;34m(\u001b[0m\u001b[0mi\u001b[0m\u001b[0;34m,\u001b[0m\u001b[0;36m1\u001b[0m\u001b[0;34m)\u001b[0m\u001b[0;34m\u001b[0m\u001b[0;34m\u001b[0m\u001b[0m\n\u001b[1;32m      3\u001b[0m     \u001b[0mjitonic\u001b[0m \u001b[0;34m=\u001b[0m \u001b[0;34m[\u001b[0m\u001b[0;32mNone\u001b[0m\u001b[0;34m,\u001b[0m\u001b[0mi\u001b[0m\u001b[0;34m]\u001b[0m\u001b[0;34m\u001b[0m\u001b[0;34m\u001b[0m\u001b[0m\n\u001b[1;32m      4\u001b[0m     \u001b[0mtestmap\u001b[0m \u001b[0;34m=\u001b[0m \u001b[0mhotshom\u001b[0m\u001b[0;34m.\u001b[0m\u001b[0mrunning\u001b[0m\u001b[0;34m(\u001b[0m\u001b[0mhomeotest\u001b[0m\u001b[0;34m=\u001b[0m\u001b[0;32mFalse\u001b[0m\u001b[0;34m,\u001b[0m \u001b[0mtrain\u001b[0m\u001b[0;34m=\u001b[0m\u001b[0;32mFalse\u001b[0m\u001b[0;34m,\u001b[0m \u001b[0mnb_digit\u001b[0m\u001b[0;34m=\u001b[0m\u001b[0mnb_test\u001b[0m\u001b[0;34m,\u001b[0m \u001b[0mjitonic\u001b[0m\u001b[0;34m=\u001b[0m\u001b[0mjitonic\u001b[0m\u001b[0;34m)\u001b[0m\u001b[0;34m\u001b[0m\u001b[0;34m\u001b[0m\u001b[0m\n",
      "\u001b[0;31mNameError\u001b[0m: name 'spajit' is not defined"
     ]
    }
   ],
   "source": [
    "for i in spajit:\n",
    "    i = round(i,1)\n",
    "    jitonic = [None,i]\n",
    "    testmap = hotshom.running(homeotest=False, train=False, nb_digit=nb_test, jitonic=jitonic)"
   ]
  },
  {
   "cell_type": "raw",
   "metadata": {},
   "source": [
    "def makehisto(filt, tau, krnlinit, nblay, nbclust, homeo, records_path, timestr, dataset, sigma, homeinv, jitter, nb_train, nb_test, jitonic):\n",
    "    if pooling:\n",
    "        hotshom = poolingnetwork(krnlinit=krnlinit, filt=filt, tau=tau, nblay=nblay, nbclust=nbclust, homeo=homeo, sigma=sigma, homeinv=homeinv, jitter=jitter)\n",
    "    else:\n",
    "        hotshom = network(krnlinit=krnlinit, filt=filt, tau=tau, nblay=nblay, nbclust=nbclust, homeo=homeo, sigma=sigma, homeinv=homeinv, jitter=jitter)\n",
    "    arch = [hotshom.L[i].kernel.shape[1] for i in range(len(hotshom.L))]\n",
    "    fname = f'{records_path}/EXP_03_NMNIST/{timestr}_hots_{dataset}_{arch}_{krnlinit}_{tau}_{homeo}_{sigma}_{homeinv}_{jitter}_{jitonic}'\n",
    "    fname_model = f'{records_path}/EXP_03_NMNIST/{timestr}_hots_{dataset}_{arch}_{krnlinit}_{tau}_{homeo}_{sigma}_{homeinv}_{jitter}_model.pkl'\n",
    "    print(fname_model)\n",
    "    if not os.path.isfile(fname_model):\n",
    "        hotshom.learningall(dataset=dataset)\n",
    "        with open(fname_model, 'wb') as file:\n",
    "            pickle.dump(hotshom, file, pickle.HIGHEST_PROTOCOL)\n",
    "    else:\n",
    "        with open(fname_model, 'rb') as file:\n",
    "            hotshom,_,_ = pickle.load(file)\n",
    "    hotshom.plotlayer()\n",
    "    for homeo in [False,True]:\n",
    "        for i in range(len(hotshom.L)):\n",
    "            hotshom.L[i].homeo=homeo\n",
    "        if not os.path.isfile(fname+f'_histo_{nb_train}_{nb_test}_{homeo}.pkl'):       \n",
    "            trainmaphom,_, _ = hotshom.running(nb_digit = nb_train, jitonic=[None, None])\n",
    "            testmaphom, _,_ = hotshom.running(nb_digit = nb_test, jitonic=jitonic)\n",
    "            with open(fname+f'_histo_{nb_train}_{nb_test}_{homeo}.pkl', 'wb') as file:\n",
    "                pickle.dump([trainmaphom, testmaphom], file, pickle.HIGHEST_PROTOCOL)\n",
    "        else:\n",
    "            with open(fname+f'_histo_{nb_train}_{nb_test}_{homeo}.pkl', 'rb') as file:\n",
    "                trainmaphom, testmaphom = pickle.load(file)\n",
    "        histoscore(trainmaphom,testmaphom)\n",
    "    return hotshom, loaderhom, order, trainmaphom, testmaphom"
   ]
  },
  {
   "cell_type": "code",
   "execution_count": null,
   "metadata": {},
   "outputs": [],
   "source": []
  },
  {
   "cell_type": "raw",
   "metadata": {
    "execution": {
     "iopub.execute_input": "2021-02-05T15:04:27.573239Z",
     "iopub.status.busy": "2021-02-05T15:04:27.572564Z",
     "iopub.status.idle": "2021-02-05T15:09:14.369063Z",
     "shell.execute_reply": "2021-02-05T15:09:14.369698Z"
    }
   },
   "source": [
    "for i in np.arange(10,20,0.5):\n",
    "    i = round(i,1)\n",
    "    jitonic = [None,i]\n",
    "    makehisto(filt, tau, krnlinit, nblay, nbclust, homeo, records_path, timestr, dataset, sigma, homeinv, jitter, nb_train, nb_test, jitonic);"
   ]
  },
  {
   "cell_type": "raw",
   "metadata": {
    "execution": {
     "iopub.execute_input": "2021-02-10T14:22:46.870495Z",
     "iopub.status.busy": "2021-02-10T14:22:46.869833Z",
     "iopub.status.idle": "2021-02-10T14:22:46.972837Z",
     "shell.execute_reply": "2021-02-10T14:22:46.972482Z"
    }
   },
   "source": [
    "for i in np.arange(6200,10000,500):\n",
    "    i = round(i,1)\n",
    "    jitonic = [i,None]\n",
    "    makehisto(filt, tau, krnlinit, nblay, nbclust, homeo, records_path, timestr, dataset, sigma, homeinv, jitter, nb_train, nb_test, jitonic);"
   ]
  },
  {
   "cell_type": "markdown",
   "metadata": {},
   "source": [
    "<span style=\"color:red\">**>>>>>>> remote**</span>"
   ]
  },
  {
   "cell_type": "code",
   "execution_count": null,
   "metadata": {},
   "outputs": [],
   "source": []
  }
 ],
 "metadata": {
  "kernelspec": {
   "display_name": "Python 3",
   "language": "python",
   "name": "python3"
  },
  "language_info": {
   "codemirror_mode": {
    "name": "ipython",
    "version": 3
   },
   "file_extension": ".py",
   "mimetype": "text/x-python",
   "name": "python",
   "nbconvert_exporter": "python",
   "pygments_lexer": "ipython3",
   "version": "3.8.5"
  },
  "nbdime-conflicts": {
   "local_diff": [
    {
     "key": "widgets",
     "op": "add",
     "value": {
      "application/vnd.jupyter.widget-state+json": {
       "state": {
        "0ab9c49d1a3941519e9c5310d8ce65d9": {
         "model_module": "@jupyter-widgets/controls",
         "model_module_version": "1.5.0",
         "model_name": "HTMLModel",
         "state": {
          "_dom_classes": [],
          "_model_module": "@jupyter-widgets/controls",
          "_model_module_version": "1.5.0",
          "_model_name": "HTMLModel",
          "_view_count": null,
          "_view_module": "@jupyter-widgets/controls",
          "_view_module_version": "1.5.0",
          "_view_name": "HTMLView",
          "description": "",
          "description_tooltip": null,
          "layout": "IPY_MODEL_534525e8cc1748dfab3550222683ee46",
          "placeholder": "​",
          "style": "IPY_MODEL_c60131ab4ee5470783469abbf506914f",
          "value": " 0/500 [00:00&lt;?, ?it/s]"
         }
        },
        "37f73cb66dce42aaa098ac1693394338": {
         "model_module": "@jupyter-widgets/controls",
         "model_module_version": "1.5.0",
         "model_name": "HTMLModel",
         "state": {
          "_dom_classes": [],
          "_model_module": "@jupyter-widgets/controls",
          "_model_module_version": "1.5.0",
          "_model_name": "HTMLModel",
          "_view_count": null,
          "_view_module": "@jupyter-widgets/controls",
          "_view_module_version": "1.5.0",
          "_view_name": "HTMLView",
          "description": "",
          "description_tooltip": null,
          "layout": "IPY_MODEL_aeb9ee2889194f5cb3fcd41fda698258",
          "placeholder": "​",
          "style": "IPY_MODEL_f6841444ff55464e924f03dd088dd054",
          "value": "  0%"
         }
        },
        "534525e8cc1748dfab3550222683ee46": {
         "model_module": "@jupyter-widgets/base",
         "model_module_version": "1.2.0",
         "model_name": "LayoutModel",
         "state": {
          "_model_module": "@jupyter-widgets/base",
          "_model_module_version": "1.2.0",
          "_model_name": "LayoutModel",
          "_view_count": null,
          "_view_module": "@jupyter-widgets/base",
          "_view_module_version": "1.2.0",
          "_view_name": "LayoutView",
          "align_content": null,
          "align_items": null,
          "align_self": null,
          "border": null,
          "bottom": null,
          "display": null,
          "flex": null,
          "flex_flow": null,
          "grid_area": null,
          "grid_auto_columns": null,
          "grid_auto_flow": null,
          "grid_auto_rows": null,
          "grid_column": null,
          "grid_gap": null,
          "grid_row": null,
          "grid_template_areas": null,
          "grid_template_columns": null,
          "grid_template_rows": null,
          "height": null,
          "justify_content": null,
          "justify_items": null,
          "left": null,
          "margin": null,
          "max_height": null,
          "max_width": null,
          "min_height": null,
          "min_width": null,
          "object_fit": null,
          "object_position": null,
          "order": null,
          "overflow": null,
          "overflow_x": null,
          "overflow_y": null,
          "padding": null,
          "right": null,
          "top": null,
          "visibility": null,
          "width": null
         }
        },
        "5995cf58da724fa597bb120f142b98fd": {
         "model_module": "@jupyter-widgets/base",
         "model_module_version": "1.2.0",
         "model_name": "LayoutModel",
         "state": {
          "_model_module": "@jupyter-widgets/base",
          "_model_module_version": "1.2.0",
          "_model_name": "LayoutModel",
          "_view_count": null,
          "_view_module": "@jupyter-widgets/base",
          "_view_module_version": "1.2.0",
          "_view_name": "LayoutView",
          "align_content": null,
          "align_items": null,
          "align_self": null,
          "border": null,
          "bottom": null,
          "display": null,
          "flex": null,
          "flex_flow": null,
          "grid_area": null,
          "grid_auto_columns": null,
          "grid_auto_flow": null,
          "grid_auto_rows": null,
          "grid_column": null,
          "grid_gap": null,
          "grid_row": null,
          "grid_template_areas": null,
          "grid_template_columns": null,
          "grid_template_rows": null,
          "height": null,
          "justify_content": null,
          "justify_items": null,
          "left": null,
          "margin": null,
          "max_height": null,
          "max_width": null,
          "min_height": null,
          "min_width": null,
          "object_fit": null,
          "object_position": null,
          "order": null,
          "overflow": null,
          "overflow_x": null,
          "overflow_y": null,
          "padding": null,
          "right": null,
          "top": null,
          "visibility": null,
          "width": null
         }
        },
        "722a1aba82df4bf884cc39eb96275f2a": {
         "model_module": "@jupyter-widgets/controls",
         "model_module_version": "1.5.0",
         "model_name": "FloatProgressModel",
         "state": {
          "_dom_classes": [],
          "_model_module": "@jupyter-widgets/controls",
          "_model_module_version": "1.5.0",
          "_model_name": "FloatProgressModel",
          "_view_count": null,
          "_view_module": "@jupyter-widgets/controls",
          "_view_module_version": "1.5.0",
          "_view_name": "ProgressView",
          "bar_style": "",
          "description": "",
          "description_tooltip": null,
          "layout": "IPY_MODEL_5995cf58da724fa597bb120f142b98fd",
          "max": 500,
          "min": 0,
          "orientation": "horizontal",
          "style": "IPY_MODEL_7497efa30c3446e2b8923a6411be835e",
          "value": 0
         }
        },
        "7497efa30c3446e2b8923a6411be835e": {
         "model_module": "@jupyter-widgets/controls",
         "model_module_version": "1.5.0",
         "model_name": "ProgressStyleModel",
         "state": {
          "_model_module": "@jupyter-widgets/controls",
          "_model_module_version": "1.5.0",
          "_model_name": "ProgressStyleModel",
          "_view_count": null,
          "_view_module": "@jupyter-widgets/base",
          "_view_module_version": "1.2.0",
          "_view_name": "StyleView",
          "bar_color": null,
          "description_width": ""
         }
        },
        "83952f6c725e4cd5948808e6293ba86f": {
         "model_module": "@jupyter-widgets/controls",
         "model_module_version": "1.5.0",
         "model_name": "HBoxModel",
         "state": {
          "_dom_classes": [],
          "_model_module": "@jupyter-widgets/controls",
          "_model_module_version": "1.5.0",
          "_model_name": "HBoxModel",
          "_view_count": null,
          "_view_module": "@jupyter-widgets/controls",
          "_view_module_version": "1.5.0",
          "_view_name": "HBoxView",
          "box_style": "",
          "children": [
           "IPY_MODEL_37f73cb66dce42aaa098ac1693394338",
           "IPY_MODEL_722a1aba82df4bf884cc39eb96275f2a",
           "IPY_MODEL_0ab9c49d1a3941519e9c5310d8ce65d9"
          ],
          "layout": "IPY_MODEL_d7b826931c0a4e8badf9abcbab295de9"
         }
        },
        "aeb9ee2889194f5cb3fcd41fda698258": {
         "model_module": "@jupyter-widgets/base",
         "model_module_version": "1.2.0",
         "model_name": "LayoutModel",
         "state": {
          "_model_module": "@jupyter-widgets/base",
          "_model_module_version": "1.2.0",
          "_model_name": "LayoutModel",
          "_view_count": null,
          "_view_module": "@jupyter-widgets/base",
          "_view_module_version": "1.2.0",
          "_view_name": "LayoutView",
          "align_content": null,
          "align_items": null,
          "align_self": null,
          "border": null,
          "bottom": null,
          "display": null,
          "flex": null,
          "flex_flow": null,
          "grid_area": null,
          "grid_auto_columns": null,
          "grid_auto_flow": null,
          "grid_auto_rows": null,
          "grid_column": null,
          "grid_gap": null,
          "grid_row": null,
          "grid_template_areas": null,
          "grid_template_columns": null,
          "grid_template_rows": null,
          "height": null,
          "justify_content": null,
          "justify_items": null,
          "left": null,
          "margin": null,
          "max_height": null,
          "max_width": null,
          "min_height": null,
          "min_width": null,
          "object_fit": null,
          "object_position": null,
          "order": null,
          "overflow": null,
          "overflow_x": null,
          "overflow_y": null,
          "padding": null,
          "right": null,
          "top": null,
          "visibility": null,
          "width": null
         }
        },
        "c60131ab4ee5470783469abbf506914f": {
         "model_module": "@jupyter-widgets/controls",
         "model_module_version": "1.5.0",
         "model_name": "DescriptionStyleModel",
         "state": {
          "_model_module": "@jupyter-widgets/controls",
          "_model_module_version": "1.5.0",
          "_model_name": "DescriptionStyleModel",
          "_view_count": null,
          "_view_module": "@jupyter-widgets/base",
          "_view_module_version": "1.2.0",
          "_view_name": "StyleView",
          "description_width": ""
         }
        },
        "d7b826931c0a4e8badf9abcbab295de9": {
         "model_module": "@jupyter-widgets/base",
         "model_module_version": "1.2.0",
         "model_name": "LayoutModel",
         "state": {
          "_model_module": "@jupyter-widgets/base",
          "_model_module_version": "1.2.0",
          "_model_name": "LayoutModel",
          "_view_count": null,
          "_view_module": "@jupyter-widgets/base",
          "_view_module_version": "1.2.0",
          "_view_name": "LayoutView",
          "align_content": null,
          "align_items": null,
          "align_self": null,
          "border": null,
          "bottom": null,
          "display": null,
          "flex": null,
          "flex_flow": null,
          "grid_area": null,
          "grid_auto_columns": null,
          "grid_auto_flow": null,
          "grid_auto_rows": null,
          "grid_column": null,
          "grid_gap": null,
          "grid_row": null,
          "grid_template_areas": null,
          "grid_template_columns": null,
          "grid_template_rows": null,
          "height": null,
          "justify_content": null,
          "justify_items": null,
          "left": null,
          "margin": null,
          "max_height": null,
          "max_width": null,
          "min_height": null,
          "min_width": null,
          "object_fit": null,
          "object_position": null,
          "order": null,
          "overflow": null,
          "overflow_x": null,
          "overflow_y": null,
          "padding": null,
          "right": null,
          "top": null,
          "visibility": null,
          "width": null
         }
        },
        "f6841444ff55464e924f03dd088dd054": {
         "model_module": "@jupyter-widgets/controls",
         "model_module_version": "1.5.0",
         "model_name": "DescriptionStyleModel",
         "state": {
          "_model_module": "@jupyter-widgets/controls",
          "_model_module_version": "1.5.0",
          "_model_name": "DescriptionStyleModel",
          "_view_count": null,
          "_view_module": "@jupyter-widgets/base",
          "_view_module_version": "1.2.0",
          "_view_name": "StyleView",
          "description_width": ""
         }
        }
       },
       "version_major": 2,
       "version_minor": 0
      }
     }
    }
   ],
   "remote_diff": [
    {
     "key": "widgets",
     "op": "add",
     "value": {
      "application/vnd.jupyter.widget-state+json": {
       "state": {
        "4e63530ed5b14450bb5aa9a1d9c9f08d": {
         "model_module": "@jupyter-widgets/controls",
         "model_module_version": "1.5.0",
         "model_name": "DescriptionStyleModel",
         "state": {
          "_model_module": "@jupyter-widgets/controls",
          "_model_module_version": "1.5.0",
          "_model_name": "DescriptionStyleModel",
          "_view_count": null,
          "_view_module": "@jupyter-widgets/base",
          "_view_module_version": "1.2.0",
          "_view_name": "StyleView",
          "description_width": ""
         }
        },
        "7faa854c2c164ab4ad12f8ecab1d4de3": {
         "model_module": "@jupyter-widgets/controls",
         "model_module_version": "1.5.0",
         "model_name": "FloatProgressModel",
         "state": {
          "_dom_classes": [],
          "_model_module": "@jupyter-widgets/controls",
          "_model_module_version": "1.5.0",
          "_model_name": "FloatProgressModel",
          "_view_count": null,
          "_view_module": "@jupyter-widgets/controls",
          "_view_module_version": "1.5.0",
          "_view_name": "ProgressView",
          "bar_style": "success",
          "description": "",
          "description_tooltip": null,
          "layout": "IPY_MODEL_8f8fbbe276db4f71bb4fba3179c93c65",
          "max": 5000,
          "min": 0,
          "orientation": "horizontal",
          "style": "IPY_MODEL_dda34d7032584a24832accc47e829c20",
          "value": 5000
         }
        },
        "8f8fbbe276db4f71bb4fba3179c93c65": {
         "model_module": "@jupyter-widgets/base",
         "model_module_version": "1.2.0",
         "model_name": "LayoutModel",
         "state": {
          "_model_module": "@jupyter-widgets/base",
          "_model_module_version": "1.2.0",
          "_model_name": "LayoutModel",
          "_view_count": null,
          "_view_module": "@jupyter-widgets/base",
          "_view_module_version": "1.2.0",
          "_view_name": "LayoutView",
          "align_content": null,
          "align_items": null,
          "align_self": null,
          "border": null,
          "bottom": null,
          "display": null,
          "flex": null,
          "flex_flow": null,
          "grid_area": null,
          "grid_auto_columns": null,
          "grid_auto_flow": null,
          "grid_auto_rows": null,
          "grid_column": null,
          "grid_gap": null,
          "grid_row": null,
          "grid_template_areas": null,
          "grid_template_columns": null,
          "grid_template_rows": null,
          "height": null,
          "justify_content": null,
          "justify_items": null,
          "left": null,
          "margin": null,
          "max_height": null,
          "max_width": null,
          "min_height": null,
          "min_width": null,
          "object_fit": null,
          "object_position": null,
          "order": null,
          "overflow": null,
          "overflow_x": null,
          "overflow_y": null,
          "padding": null,
          "right": null,
          "top": null,
          "visibility": null,
          "width": null
         }
        },
        "a93cf1270dd2474d8860ad9427703389": {
         "model_module": "@jupyter-widgets/controls",
         "model_module_version": "1.5.0",
         "model_name": "HTMLModel",
         "state": {
          "_dom_classes": [],
          "_model_module": "@jupyter-widgets/controls",
          "_model_module_version": "1.5.0",
          "_model_name": "HTMLModel",
          "_view_count": null,
          "_view_module": "@jupyter-widgets/controls",
          "_view_module_version": "1.5.0",
          "_view_name": "HTMLView",
          "description": "",
          "description_tooltip": null,
          "layout": "IPY_MODEL_e96280d5fb614a7f9e9c39532f1f1199",
          "placeholder": "​",
          "style": "IPY_MODEL_c52d4e5efdbc421ab3444d0f2539b1e8",
          "value": "100%"
         }
        },
        "ae576566202941549f7c50afa7739f0c": {
         "model_module": "@jupyter-widgets/base",
         "model_module_version": "1.2.0",
         "model_name": "LayoutModel",
         "state": {
          "_model_module": "@jupyter-widgets/base",
          "_model_module_version": "1.2.0",
          "_model_name": "LayoutModel",
          "_view_count": null,
          "_view_module": "@jupyter-widgets/base",
          "_view_module_version": "1.2.0",
          "_view_name": "LayoutView",
          "align_content": null,
          "align_items": null,
          "align_self": null,
          "border": null,
          "bottom": null,
          "display": null,
          "flex": null,
          "flex_flow": null,
          "grid_area": null,
          "grid_auto_columns": null,
          "grid_auto_flow": null,
          "grid_auto_rows": null,
          "grid_column": null,
          "grid_gap": null,
          "grid_row": null,
          "grid_template_areas": null,
          "grid_template_columns": null,
          "grid_template_rows": null,
          "height": null,
          "justify_content": null,
          "justify_items": null,
          "left": null,
          "margin": null,
          "max_height": null,
          "max_width": null,
          "min_height": null,
          "min_width": null,
          "object_fit": null,
          "object_position": null,
          "order": null,
          "overflow": null,
          "overflow_x": null,
          "overflow_y": null,
          "padding": null,
          "right": null,
          "top": null,
          "visibility": null,
          "width": null
         }
        },
        "b35ff202fa2e42428e87b9eb6245da08": {
         "model_module": "@jupyter-widgets/controls",
         "model_module_version": "1.5.0",
         "model_name": "HBoxModel",
         "state": {
          "_dom_classes": [],
          "_model_module": "@jupyter-widgets/controls",
          "_model_module_version": "1.5.0",
          "_model_name": "HBoxModel",
          "_view_count": null,
          "_view_module": "@jupyter-widgets/controls",
          "_view_module_version": "1.5.0",
          "_view_name": "HBoxView",
          "box_style": "",
          "children": [
           "IPY_MODEL_a93cf1270dd2474d8860ad9427703389",
           "IPY_MODEL_7faa854c2c164ab4ad12f8ecab1d4de3",
           "IPY_MODEL_e3870201a5644923a1de6c242f1f4cb8"
          ],
          "layout": "IPY_MODEL_dcf92bae009747a19dc490f476392b0a"
         }
        },
        "c52d4e5efdbc421ab3444d0f2539b1e8": {
         "model_module": "@jupyter-widgets/controls",
         "model_module_version": "1.5.0",
         "model_name": "DescriptionStyleModel",
         "state": {
          "_model_module": "@jupyter-widgets/controls",
          "_model_module_version": "1.5.0",
          "_model_name": "DescriptionStyleModel",
          "_view_count": null,
          "_view_module": "@jupyter-widgets/base",
          "_view_module_version": "1.2.0",
          "_view_name": "StyleView",
          "description_width": ""
         }
        },
        "dcf92bae009747a19dc490f476392b0a": {
         "model_module": "@jupyter-widgets/base",
         "model_module_version": "1.2.0",
         "model_name": "LayoutModel",
         "state": {
          "_model_module": "@jupyter-widgets/base",
          "_model_module_version": "1.2.0",
          "_model_name": "LayoutModel",
          "_view_count": null,
          "_view_module": "@jupyter-widgets/base",
          "_view_module_version": "1.2.0",
          "_view_name": "LayoutView",
          "align_content": null,
          "align_items": null,
          "align_self": null,
          "border": null,
          "bottom": null,
          "display": null,
          "flex": null,
          "flex_flow": null,
          "grid_area": null,
          "grid_auto_columns": null,
          "grid_auto_flow": null,
          "grid_auto_rows": null,
          "grid_column": null,
          "grid_gap": null,
          "grid_row": null,
          "grid_template_areas": null,
          "grid_template_columns": null,
          "grid_template_rows": null,
          "height": null,
          "justify_content": null,
          "justify_items": null,
          "left": null,
          "margin": null,
          "max_height": null,
          "max_width": null,
          "min_height": null,
          "min_width": null,
          "object_fit": null,
          "object_position": null,
          "order": null,
          "overflow": null,
          "overflow_x": null,
          "overflow_y": null,
          "padding": null,
          "right": null,
          "top": null,
          "visibility": null,
          "width": null
         }
        },
        "dda34d7032584a24832accc47e829c20": {
         "model_module": "@jupyter-widgets/controls",
         "model_module_version": "1.5.0",
         "model_name": "ProgressStyleModel",
         "state": {
          "_model_module": "@jupyter-widgets/controls",
          "_model_module_version": "1.5.0",
          "_model_name": "ProgressStyleModel",
          "_view_count": null,
          "_view_module": "@jupyter-widgets/base",
          "_view_module_version": "1.2.0",
          "_view_name": "StyleView",
          "bar_color": null,
          "description_width": ""
         }
        },
        "e3870201a5644923a1de6c242f1f4cb8": {
         "model_module": "@jupyter-widgets/controls",
         "model_module_version": "1.5.0",
         "model_name": "HTMLModel",
         "state": {
          "_dom_classes": [],
          "_model_module": "@jupyter-widgets/controls",
          "_model_module_version": "1.5.0",
          "_model_name": "HTMLModel",
          "_view_count": null,
          "_view_module": "@jupyter-widgets/controls",
          "_view_module_version": "1.5.0",
          "_view_name": "HTMLView",
          "description": "",
          "description_tooltip": null,
          "layout": "IPY_MODEL_ae576566202941549f7c50afa7739f0c",
          "placeholder": "​",
          "style": "IPY_MODEL_4e63530ed5b14450bb5aa9a1d9c9f08d",
          "value": " 5000/5000 [3:41:26&lt;00:00,  2.60s/it]"
         }
        },
        "e96280d5fb614a7f9e9c39532f1f1199": {
         "model_module": "@jupyter-widgets/base",
         "model_module_version": "1.2.0",
         "model_name": "LayoutModel",
         "state": {
          "_model_module": "@jupyter-widgets/base",
          "_model_module_version": "1.2.0",
          "_model_name": "LayoutModel",
          "_view_count": null,
          "_view_module": "@jupyter-widgets/base",
          "_view_module_version": "1.2.0",
          "_view_name": "LayoutView",
          "align_content": null,
          "align_items": null,
          "align_self": null,
          "border": null,
          "bottom": null,
          "display": null,
          "flex": null,
          "flex_flow": null,
          "grid_area": null,
          "grid_auto_columns": null,
          "grid_auto_flow": null,
          "grid_auto_rows": null,
          "grid_column": null,
          "grid_gap": null,
          "grid_row": null,
          "grid_template_areas": null,
          "grid_template_columns": null,
          "grid_template_rows": null,
          "height": null,
          "justify_content": null,
          "justify_items": null,
          "left": null,
          "margin": null,
          "max_height": null,
          "max_width": null,
          "min_height": null,
          "min_width": null,
          "object_fit": null,
          "object_position": null,
          "order": null,
          "overflow": null,
          "overflow_x": null,
          "overflow_y": null,
          "padding": null,
          "right": null,
          "top": null,
          "visibility": null,
          "width": null
         }
        }
       },
       "version_major": 2,
       "version_minor": 0
      }
     }
    }
   ]
  }
 },
 "nbformat": 4,
 "nbformat_minor": 4
}
