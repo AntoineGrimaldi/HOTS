{
 "cells": [
  {
   "cell_type": "code",
   "execution_count": 1,
   "metadata": {},
   "outputs": [
    {
     "name": "stdout",
     "output_type": "stream",
     "text": [
      "/Users/laurentperrinet/quantic/science/HomeHots/HOTS_clone_laurent\n"
     ]
    }
   ],
   "source": [
    "#%load_ext autoreload\n",
    "#%autoreload 2\n",
    "%matplotlib inline\n",
    "%cd '../'"
   ]
  },
  {
   "cell_type": "code",
   "execution_count": 2,
   "metadata": {},
   "outputs": [],
   "source": [
    "import numpy as np\n",
    "import matplotlib.pyplot as plt\n",
    "import os\n",
    "import time\n",
    "# timestr = '20201021'\n",
    "import datetime\n",
    "# https://en.wikipedia.org/wiki/ISO_8601\n",
    "timestr = datetime.datetime.now().date().isoformat()"
   ]
  },
  {
   "cell_type": "markdown",
   "metadata": {},
   "source": [
    "### Building matrix for logistic regression"
   ]
  },
  {
   "cell_type": "code",
   "execution_count": 3,
   "metadata": {},
   "outputs": [
    {
     "name": "stdout",
     "output_type": "stream",
     "text": [
      "-rw-r--r--  1 laurentperrinet  wheel    67M Nov  5 15:00 /tmp/20201021_hots_event0_o-sub.p\n",
      "-rw-r--r--  1 laurentperrinet  wheel   187M Nov  5 15:24 /tmp/20201021_hots_event0_o.p\n",
      "-rw-r--r--  1 laurentperrinet  wheel   351M Nov  5 15:26 /tmp/20201021_hots_vectorzLR_subsample_X.npy\n",
      "-rw-r--r--  1 laurentperrinet  wheel    78K Nov  5 15:26 /tmp/20201021_hots_vectorzLR_subsample_y.npy\n",
      "-rw-r--r--  1 laurentperrinet  wheel   2.8G Nov  5 15:28 /tmp/20201021_hots_vectorzLR-full_X.npy\n",
      "-rw-r--r--  1 laurentperrinet  wheel   161K Nov  5 15:28 /tmp/20201021_hots_vectorzLR-full_y.npy\n"
     ]
    }
   ],
   "source": [
    "%ls -ltrh /tmp/2*"
   ]
  },
  {
   "cell_type": "raw",
   "metadata": {},
   "source": [
    "%rm /tmp/20201021_hots_event0_o.p"
   ]
  },
  {
   "cell_type": "raw",
   "metadata": {},
   "source": [
    "%rm /tmp/2*npy"
   ]
  },
  {
   "cell_type": "code",
   "execution_count": 4,
   "metadata": {},
   "outputs": [],
   "source": [
    "tau = 9e-4 # -> tau=1ms, si on prend 10 ms on est à 1s pour la dernière couche et les vidéos font 0.3s en moyenne\n",
    "R = 2\n",
    "filthr = 2\n",
    "nbkNN = 3\n",
    "algo = 'lagorce'\n",
    "decay = 'exponential'\n",
    "hom = True\n",
    "krnlinit = 'rdn'\n",
    "nb_cluster = [4, 8, 16]\n",
    "ImageSize = (34, 34)\n",
    "DataPath = 'Data/testsetnmnist.p'\n",
    "\n",
    "NbClusteringData = 2500\n",
    "NbTrainingData = 5000\n",
    "NbTestingData = 1500\n",
    "\n",
    "#timestr = time.strftime(\"%Y%m%d\")\n",
    "#fname = 'Records/EXP_03_NMNIST/'+timestr+'_hots_vectorzLR.pkl'\n",
    "fname = '/tmp/'+timestr+'_hots_vectorzLR-full'"
   ]
  },
  {
   "cell_type": "code",
   "execution_count": null,
   "metadata": {},
   "outputs": [
    {
     "name": "stdout",
     "output_type": "stream",
     "text": [
      "Records/EXP_03_NMNIST/2020-11-05_hots_0.9ms_lagorce.pkl\n",
      "[]\n"
     ]
    }
   ],
   "source": [
    "c_int = lambda n, d : ((n - 1) // d) + 1\n",
    "\n",
    "for hom in [False, True]:\n",
    "\n",
    "    if hom==True:\n",
    "        fname_model = 'Records/EXP_03_NMNIST/'+timestr+'_hots_'+str(tau*1000)+'ms_'+algo+'_homeo.pkl'\n",
    "        fname_event0_o = 'Records/EXP_03_NMNIST/'+timestr+'_hots_event0_o_homeo.p'\n",
    "    else:\n",
    "        fname_model = 'Records/EXP_03_NMNIST/'+timestr+'_hots_'+str(tau*1000)+'ms_'+algo+'.pkl'\n",
    "        fname_event0_o = 'Records/EXP_03_NMNIST/'+timestr+'_hots_event0_o.p'\n",
    "\n",
    "    print(fname_model)\n",
    "    \n",
    "    import pickle\n",
    "    from HOTS.ToolsMonitor import GenerateActivationMap, DisplayActivationMap\n",
    "    from HOTS.Event import Event, SimpleAlphabet, LoadNMNIST\n",
    "    from HOTS.STS import STS\n",
    "    from HOTS.Layer import ClusteringLayer\n",
    "    from HOTS.ToolsMonitor import (\n",
    "        DisplayImage,\n",
    "        DisplaySurface3D,\n",
    "        DisplaySurface2D,\n",
    "        DisplayConvergence,\n",
    "    )\n",
    "    from HOTS.Tools import SaveObject, LoadObject\n",
    "    from HOTS.Network import Network\n",
    "    from HOTS.Event import conv2eve\n",
    "\n",
    "    event_tr, event_te, event_cl, label_tr, label_te = LoadNMNIST(\n",
    "    NbTrainingData, NbTestingData, NbClusteringData, OneOfEach=False, Path=DataPath, OutOnePolarity=False, ListPolarities=None, verbose=0)\n",
    "\n",
    "    L1 = ClusteringLayer(tau=tau,R=R,verbose=0,ThrFilter=filthr,LearningAlgo=algo,kernel=decay,homeo=hom,init=krnlinit)\n",
    "    L2 = ClusteringLayer(tau=10 * tau,R=2 * R,verbose=0,ThrFilter=filthr,LearningAlgo=algo,kernel=decay,homeo=hom,init=krnlinit)\n",
    "    L3 = ClusteringLayer(tau=10 * 10 * tau,R=2 * 2 * R,verbose=0,ThrFilter=filthr,LearningAlgo=algo,kernel=decay,homeo=hom,init=krnlinit)\n",
    "    Net = Network([L1, L2, L3])    \n",
    "    \n",
    "    if not os.path.isfile(fname_model):\n",
    "        ClusterLayer, event_output = Net.TrainCluster(\n",
    "                event=event_cl, NbClusterList=nb_cluster, to_record=True, NbCycle=1\n",
    "            )\n",
    "        SaveObject(ClusterLayer, fname_model)\n",
    "    else: \n",
    "        ClusterLayer, Classif0 = LoadObject(fname_model)\n",
    "\n",
    "    if not os.path.isfile(fname_event0_o):            \n",
    "        print('run the events through the network')\n",
    "        homrun = False\n",
    "        event0_o_tr2 = Net.RunNetwork(event_tr, NbClusterList=ClusterLayer, homrun=homrun)\n",
    "        event0_o_te2 = Net.RunNetwork(event_te, NbClusterList=ClusterLayer, homrun=homrun)\n",
    "        SaveObject([event0_o_tr2, event0_o_te2], fname_event0_o)\n",
    "    else: \n",
    "        event0_o_tr2, event0_o_te2 = LoadObject(fname_event0_o)\n",
    "    "
   ]
  },
  {
   "cell_type": "code",
   "execution_count": null,
   "metadata": {},
   "outputs": [],
   "source": [
    "def gather_data(events, tau_cla = .300, # characteristic time of a digit \n",
    "                sample_events = 200,    sample_space = 1):\n",
    "    n_events = events.time.shape[0]\n",
    "\n",
    "    data = np.zeros((c_int(events.ImageSize[0], sample_space), c_int(events.ImageSize[1], sample_space), len(events.ListPolarities))) #tmp data\n",
    "\n",
    "\n",
    "    data_len = len(data.ravel())\n",
    "    X = np.zeros((c_int(n_events, sample_events), data_len))\n",
    "    y = np.zeros((c_int(n_events, sample_events), ))\n",
    "\n",
    "    t_absolute = 0\n",
    "    t_old = 0\n",
    "    i_label_tr = 0\n",
    "    for i in range(1, n_events-1):\n",
    "        if i == events.ChangeIdx[i_label_tr]:\n",
    "            i_label_tr += 1\n",
    "            t_absolute += events.time[i]\n",
    "\n",
    "        t_new = t_absolute + events.time[i]\n",
    "        data *= np.exp(-(t_new-t_old)/tau_cla)\n",
    "        t_old = t_new\n",
    "\n",
    "        data[events.address[i, 0]//sample_space, \n",
    "             events.address[i,1]//sample_space, \n",
    "             events.polarity[i]] = 1.\n",
    "\n",
    "        if i % sample_events == 0:\n",
    "            # print(f'{i=} {n_events=} {n_events//sample_events=}')\n",
    "            X[i//sample_events, :] = data.ravel()\n",
    "            y[i//sample_events] = label_tr[i_label_tr]\n",
    "\n",
    "    print('Number of events: '+str(X.shape[0])+' - Number of features: '+str(X.shape[1]))\n",
    "\n",
    "    return X, y\n"
   ]
  },
  {
   "cell_type": "markdown",
   "metadata": {},
   "source": [
    "### Performing logistic regression with cross-validation\n",
    "\n",
    "https://scikit-learn.org/stable/modules/generated/sklearn.linear_model.LogisticRegressionCV.html\n"
   ]
  },
  {
   "cell_type": "code",
   "execution_count": null,
   "metadata": {},
   "outputs": [],
   "source": [
    "from sklearn.linear_model import LogisticRegressionCV\n",
    "from sklearn.model_selection import train_test_split\n",
    "\n",
    "\n",
    "def classify(X, y):\n",
    "    X_train, X_test, y_train, y_test = train_test_split(X, y, test_size=0.33, random_state=42)\n",
    "\n",
    "    lr = LogisticRegressionCV(random_state=0, max_iter=10000).fit(X_train, y_train)\n",
    "\n",
    "    return lr.score(X_test, y_test)\n",
    "\n",
    "for sample_space in [4, 2, 1]:\n",
    "    X, y = gather_data(event0_o_tr2, sample_space=sample_space)\n",
    "    print(f'Classification score for {sample_space=} is {classify(X, y):.3f}')"
   ]
  },
  {
   "cell_type": "code",
   "execution_count": null,
   "metadata": {},
   "outputs": [],
   "source": [
    "for homeo in [False, True]:\n",
    "    if homeo:\n",
    "        fname_event0_o = 'Records/EXP_03_NMNIST/'+timestr+'_hots_event0_o_homeo.p'\n",
    "    else:\n",
    "        fname_event0_o = 'Records/EXP_03_NMNIST/'+timestr+'_hots_event0_o.p'\n",
    "    event0_o_tr2, event0_o_te2 = LoadObject(fname_event0_o)\n",
    "\n",
    "    X_train, y_train = gather_data(event0_o_tr2)\n",
    "    lr = LogisticRegressionCV(random_state=0, max_iter=10000).fit(X_train, y_train)\n",
    "    X_test, y_test = gather_data(event0_o_te2)\n",
    "    print(f'Classification score for {homeo=} is {lr.score(X_test, y_test):.3f}')    \n",
    "\n",
    "\n",
    "    for tau_cla in .3 * np.logspace(-1, 1, 7, base=4):\n",
    "        X_train, y_train = gather_data(event0_o_tr2, tau_cla=tau_cla)\n",
    "        lr = LogisticRegressionCV(random_state=0, max_iter=10000).fit(X_train, y_train)\n",
    "        X_test, y_test = gather_data(event0_o_te2, tau_cla=tau_cla)\n",
    "        print(f'Classification score for {tau_cla=} is {lr.score(X_test, y_test):.3f}')\n",
    "\n",
    "    for sample_space in [4, 2, 1]:\n",
    "        X_train, y_train = gather_data(event0_o_tr2, sample_space=sample_space)\n",
    "        lr = LogisticRegressionCV(random_state=0, max_iter=10000).fit(X_train, y_train)\n",
    "        X_test, y_test = gather_data(event0_o_te2, sample_space=sample_space)\n",
    "        print(f'Classification score for {sample_space=} is {lr.score(X_test, y_test):.3f}')\n",
    "\n",
    "\n",
    "    for sample_events in [1000, 500, 200, 100, 50]:\n",
    "        X_train, y_train = gather_data(event0_o_tr2, sample_events=sample_events)\n",
    "        lr = LogisticRegressionCV(random_state=0, max_iter=10000).fit(X_train, y_train)\n",
    "        X_test, y_test = gather_data(event0_o_te2, sample_events=sample_events)\n",
    "        print(f'Classification score for {sample_events=} is {lr.score(X_test, y_test):.3f}')"
   ]
  }
 ],
 "metadata": {
  "kernelspec": {
   "display_name": "Python 3",
   "language": "python",
   "name": "python3"
  },
  "language_info": {
   "codemirror_mode": {
    "name": "ipython",
    "version": 3
   },
   "file_extension": ".py",
   "mimetype": "text/x-python",
   "name": "python",
   "nbconvert_exporter": "python",
   "pygments_lexer": "ipython3",
   "version": "3.9.0"
  }
 },
 "nbformat": 4,
 "nbformat_minor": 4
}
