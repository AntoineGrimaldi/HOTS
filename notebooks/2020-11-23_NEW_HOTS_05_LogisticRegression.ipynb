{
 "cells": [
  {
   "cell_type": "code",
   "execution_count": 1,
   "metadata": {},
   "outputs": [],
   "source": [
    "#%load_ext autoreload\n",
    "#%autoreload 2\n",
    "%matplotlib inline\n"
   ]
  },
  {
   "cell_type": "code",
   "execution_count": 2,
   "metadata": {},
   "outputs": [],
   "source": [
    "import numpy as np\n",
    "import matplotlib.pyplot as plt\n",
    "import os\n",
    "import time\n",
    "#\n",
    "# https://en.wikipedia.org/wiki/ISO_8601\n",
    "import datetime\n",
    "timestr = datetime.datetime.now().date().isoformat()\n",
    "timestr = '2020-11-23'\n",
    "tau = 9e-4\n",
    "\n",
    "import sys\n",
    "sys.path.append('..')\n",
    "from HOTS.Event import conv2eve\n",
    "from HOTS.Tools import SaveObject, LoadObject\n",
    "\n",
    "ds = 10\n",
    "ds = 20\n",
    "NbClusteringData = 1600//ds\n",
    "NbTrainingData = 1600//ds\n",
    "NbTestingData = 1600//ds\n",
    "\n",
    "records_path = '../Records'\n",
    "\n",
    "def get_nmnist(timestr, NbTrainingData, NbTestingData, NbClusteringData, DataPath='../Data/testsetnmnist.p', verbose=False):\n",
    "    fname_event_nmnist = f'{records_path}/EXP_03_NMNIST/{timestr}_{NbTrainingData}_{NbTestingData}_{NbClusteringData}_hots_event_nmnist.pkl'\n",
    "    # print(help(LoadNMNIST))\n",
    "    try:\n",
    "        dataset = LoadObject(fname_event_nmnist)\n",
    "        if verbose: print('loading the events from file', fname_event_nmnist)\n",
    "    except:\n",
    "        from HOTS.Event import LoadNMNIST\n",
    "        dataset = LoadNMNIST(NbTrainingData, NbTestingData, NbClusteringData,\n",
    "                             Path=DataPath, verbose=0)\n",
    "        SaveObject(dataset, fname_event_nmnist)\n",
    "        if verbose: print('saving the events to file', fname_event_nmnist)\n",
    "\n",
    "    events_train, events_test, event_cluster, labels_train, labels_test = dataset\n",
    "    return events_train, events_test, event_cluster, labels_train, labels_test\n",
    "\n",
    "def get_events(timestr, NbTrainingData=NbTrainingData, NbTestingData=NbTestingData, NbClusteringData=NbClusteringData,\n",
    "               tau=tau, N_layer=3, # -> tau=1ms, si on prend 10 ms on est à 1s pour la dernière couche et les vidéos font 0.3s en moyenne\n",
    "               homeo=True, homrun = False, verbose=False):\n",
    "    R = 2\n",
    "    filthr = 2\n",
    "    nbkNN = 3\n",
    "    algo = 'lagorce'\n",
    "    decay = 'exponential'\n",
    "    krnlinit = 'rdn'\n",
    "    #nb_cluster = [4, 8, 16]\n",
    "    nb_cluster = [4*(2**i_layer) for i_layer in range(N_layer)]\n",
    "\n",
    "    fname_ = f'{records_path}/EXP_03_NMNIST/{timestr}_hots_{tau*1000}_ms_{NbTrainingData}_{NbTestingData}_{NbClusteringData}'\n",
    "\n",
    "    label = '_homeo' if homeo else ''\n",
    "\n",
    "    fname_model = fname_ + '_model_' + algo + label + '.pkl'\n",
    "    fname_event0_o = fname_ + '_event_out_' + algo + label + '.pkl'\n",
    "\n",
    "    events_train, events_test, event_cluster, labels_train, labels_test = get_nmnist(timestr, NbTrainingData, NbTestingData, NbClusteringData)\n",
    "    \n",
    "    if not os.path.isfile(fname_event0_o):\n",
    "        if verbose: print('creating the events in file', fname_event0_o)\n",
    "        from HOTS.Event import Event\n",
    "\n",
    "\n",
    "        from HOTS.Layer import ClusteringLayer\n",
    "        opts_layer = dict(verbose=0, ThrFilter=filthr, LearningAlgo=algo, kernel=decay, homeo=homeo, init=krnlinit)\n",
    "        layers = []\n",
    "        for i_layer in range(N_layer):\n",
    "            layers.append(ClusteringLayer(tau=(10**i_layer)*tau, R=(2**i_layer)*R, **opts_layer))\n",
    "\n",
    "        from HOTS.Network import Network\n",
    "        Net = Network(layers)#[L1, L2, L3])\n",
    "\n",
    "        print(f'{os.getcwd()=}')\n",
    "        print(f'{os.path.isfile(fname_model)=}')\n",
    "        if not os.path.isfile(fname_model):\n",
    "            if verbose: print('learning model', fname_model)\n",
    "            ClusterLayer, event_output = Net.TrainCluster(\n",
    "                    event=event_cluster, NbClusterList=nb_cluster, to_record=True, NbCycle=1\n",
    "                )\n",
    "            SaveObject(ClusterLayer, fname_model)\n",
    "        else:\n",
    "            if verbose: print('loading model from file', fname_model)\n",
    "\n",
    "            ClusterLayer, Classif0 = LoadObject(fname_model)\n",
    "\n",
    "        if verbose: print('run the events through the network')\n",
    "\n",
    "        events_train_o = Net.RunNetwork(events_train, NbClusterList=ClusterLayer, homrun=homrun)\n",
    "        events_test_o = Net.RunNetwork(events_test, NbClusterList=ClusterLayer, homrun=homrun)\n",
    "        SaveObject([events_train, events_test], fname_event0_o)\n",
    "    else:\n",
    "        if verbose: print('loading the events from file', fname_event0_o)\n",
    "        events_train_o, events_test_o = LoadObject(fname_event0_o)\n",
    "\n",
    "    return events_train_o, events_test_o, labels_train, labels_test\n",
    "\n",
    "\n",
    "# ### Building matrix for logistic regression\n",
    "\n",
    "def gather_data(events_in, labels_in,\n",
    "                tau_cla=.150, # characteristic time of a digit\n",
    "                sample_events=50, sample_space = 1, do_cumulative=False,\n",
    "                verbose=False, debug=False):\n",
    "\n",
    "    n_events = events_in.time.shape[0]\n",
    "\n",
    "    c_int = lambda n, d : ((n - 1) // d) + 1\n",
    "    data = np.zeros((c_int(events_in.ImageSize[0], sample_space),\n",
    "                     c_int(events_in.ImageSize[1], sample_space),\n",
    "                     len(events_in.ListPolarities))) #tmp data\n",
    "\n",
    "    X = np.zeros((c_int(n_events, sample_events), len(data.ravel())))\n",
    "    y = np.zeros((c_int(n_events, sample_events), ))\n",
    "\n",
    "    for i_event in range(1, n_events):\n",
    "\n",
    "        data *= np.exp(-(events_in.time[i_event]-events_in.time[i_event-1])/tau_cla)\n",
    "\n",
    "        x_pos = events_in.address[i_event, 0]//sample_space\n",
    "        y_pos = events_in.address[i_event, 1]//sample_space\n",
    "        p = events_in.polarity[i_event]\n",
    "        if do_cumulative:\n",
    "            data[x_pos, y_pos, p] = 1.\n",
    "        else:\n",
    "            data[x_pos, y_pos, p] += 1.\n",
    "\n",
    "        if i_event % sample_events == sample_events//2 :\n",
    "            if debug:\n",
    "                print(f'DEBUG {i_event=} {i_event//sample_events=} ')\n",
    "                print(f'DEBUG {y[i_event//sample_events]=}   ')\n",
    "                print(f'DEBUG  {labels_in[i_event]=} ')\n",
    "            X[i_event//sample_events, :] = data.ravel()\n",
    "            y[i_event//sample_events] = labels_in[i_event]\n",
    "\n",
    "\n",
    "    if verbose: print('Number of events: ' + str(X.shape[0])+' - Number of features: ' + str(X.shape[1]))\n",
    "\n",
    "    return X, y\n",
    "\n",
    "\n",
    "# ### Performing logistic regression\n",
    "#\n",
    "# https://scikit-learn.org/stable/modules/generated/sklearn.linear_model.LogisticRegressionCV.html\n",
    "#\n",
    "\n",
    "\n",
    "# from sklearn.linear_model import LogisticRegression as LR\n",
    "from sklearn.linear_model import LogisticRegressionCV as LR\n",
    "# \n",
    "opts_LR = dict(max_iter=2000, # random_state=0,\n",
    "               n_jobs=-1, class_weight='balanced')\n",
    "#opts_LR['Cs'] = 5\n",
    "opts_LR['Cs'] = 32\n",
    "from sklearn.model_selection import train_test_split\n",
    "\n",
    "\n",
    "# ### Performing logistic regression on raw input\n",
    "\n",
    "# In[8]:\n",
    "\n",
    "\n",
    "def tic():\n",
    "    global ttic\n",
    "    ttic = time.time()\n",
    "def toc():\n",
    "    print(f'Done in {time.time() - ttic:.3f} s')\n"
   ]
  },
  {
   "cell_type": "code",
   "execution_count": 3,
   "metadata": {},
   "outputs": [],
   "source": [
    "verbose=False"
   ]
  },
  {
   "cell_type": "markdown",
   "metadata": {},
   "source": [
    "### Performing logistic regression on raw input spikes\n"
   ]
  },
  {
   "cell_type": "code",
   "execution_count": 4,
   "metadata": {},
   "outputs": [
    {
     "name": "stdout",
     "output_type": "stream",
     "text": [
      "loading the events from file ../Records/EXP_03_NMNIST/2020-11-23_80_80_80_hots_event_nmnist.pkl\n",
      "Done in 0.029 s\n"
     ]
    }
   ],
   "source": [
    "tic()\n",
    "dataset = get_nmnist(timestr, NbTrainingData, NbTestingData, NbClusteringData, verbose=True)\n",
    "events_train, events_test, events_cluster, labels_train, labels_test = dataset\n",
    "toc()"
   ]
  },
  {
   "cell_type": "code",
   "execution_count": 5,
   "metadata": {},
   "outputs": [
    {
     "name": "stdout",
     "output_type": "stream",
     "text": [
      "Done in 2.842 s\n"
     ]
    }
   ],
   "source": [
    "tic()\n",
    "X_train, y_train = gather_data(events_train, labels_train, verbose=verbose)\n",
    "toc()"
   ]
  },
  {
   "cell_type": "code",
   "execution_count": 6,
   "metadata": {},
   "outputs": [
    {
     "name": "stdout",
     "output_type": "stream",
     "text": [
      "Classification score for raw input is 0.988 (train)\n",
      "Done in 992.828 s\n"
     ]
    }
   ],
   "source": [
    "tic()\n",
    "lr = LR(**opts_LR).fit(X_train, y_train)\n",
    "print(f'Classification score for raw input is {lr.score(X_train, y_train):.3f} (train)')\n",
    "toc()"
   ]
  },
  {
   "cell_type": "code",
   "execution_count": 7,
   "metadata": {},
   "outputs": [
    {
     "name": "stdout",
     "output_type": "stream",
     "text": [
      "Classification score for raw input is 0.574 (test)\n",
      "Done in 2.455 s\n"
     ]
    }
   ],
   "source": [
    "tic()\n",
    "X_test, y_test = gather_data(events_test, labels_test, verbose=verbose)\n",
    "print(f'Classification score for raw input is {lr.score(X_test, y_test):.3f} (test)')\n",
    "toc()"
   ]
  },
  {
   "cell_type": "markdown",
   "metadata": {},
   "source": [
    "### Performing logistic regression with or without homeostasis\n"
   ]
  },
  {
   "cell_type": "code",
   "execution_count": 8,
   "metadata": {},
   "outputs": [
    {
     "name": "stdout",
     "output_type": "stream",
     "text": [
      "----------------------------------------\n",
      "homeo=True\n",
      "----------------------------------------\n",
      "Classification score for homeo=True is 0.988 (train)\n",
      "Classification score for homeo=True is 0.574 (test)\n",
      "----------------------------------------\n",
      "homeo=False\n",
      "----------------------------------------\n",
      "Classification score for homeo=False is 0.988 (train)\n",
      "Classification score for homeo=False is 0.574 (test)\n"
     ]
    }
   ],
   "source": [
    "for homeo in [True, False, ]:\n",
    "    print(40*'-')\n",
    "    print(f'{homeo=}')\n",
    "    print(40*'-')\n",
    "    events_train_o, events_test_o, labels_train, labels_test = get_events(timestr, tau=tau, homeo=homeo, verbose=verbose)\n",
    "\n",
    "    X_train, y_train = gather_data(events_train_o, labels_train, verbose=verbose)\n",
    "    lr = LR(**opts_LR, verbose=verbose).fit(X_train, y_train)\n",
    "    print(f'Classification score for {homeo=} is {lr.score(X_train, y_train):.3f} (train)')\n",
    "    \n",
    "    X_test, y_test = gather_data(events_test_o, labels_test, verbose=verbose)\n",
    "    print(f'Classification score for {homeo=} is {lr.score(X_test, y_test):.3f} (test)')"
   ]
  },
  {
   "cell_type": "markdown",
   "metadata": {},
   "source": [
    "### Performing logistic regression using a cumulative synaptic input\n",
    "\n",
    "This makes it more similar to a histogram\n"
   ]
  },
  {
   "cell_type": "code",
   "execution_count": 9,
   "metadata": {},
   "outputs": [
    {
     "name": "stdout",
     "output_type": "stream",
     "text": [
      "----------------------------------------\n",
      "homeo=True\n",
      "----------------------------------------\n",
      "Classification score for homeo=True is 0.998 (train)\n",
      "Classification score for homeo=True is 0.269 (test)\n",
      "----------------------------------------\n",
      "homeo=False\n",
      "----------------------------------------\n",
      "Classification score for homeo=False is 0.998 (train)\n",
      "Classification score for homeo=False is 0.269 (test)\n"
     ]
    }
   ],
   "source": [
    "for homeo in [True, False, ]:\n",
    "    print(40*'-')\n",
    "    print(f'{homeo=}')\n",
    "    print(40*'-')\n",
    "    events_train_o, events_test_o, labels_train, labels_test = get_events(timestr, tau=tau, homeo=homeo, verbose=verbose)\n",
    "\n",
    "    X_train, y_train = gather_data(events_train_o, labels_train, do_cumulative=True, verbose=verbose)\n",
    "    lr = LR(**opts_LR, verbose=verbose).fit(X_train, y_train)\n",
    "    print(f'Classification score for {homeo=} is {lr.score(X_train, y_train):.3f} (train)')\n",
    "    \n",
    "    X_test, y_test = gather_data(events_test_o, labels_test, verbose=verbose)\n",
    "    print(f'Classification score for {homeo=} is {lr.score(X_test, y_test):.3f} (test)')"
   ]
  },
  {
   "cell_type": "markdown",
   "metadata": {},
   "source": [
    "### Performing logistic regression with different solvers"
   ]
  },
  {
   "cell_type": "code",
   "execution_count": 10,
   "metadata": {},
   "outputs": [
    {
     "name": "stdout",
     "output_type": "stream",
     "text": [
      "----------------------------------------\n",
      "homeo=False\n",
      "----------------------------------------\n",
      "Classification score for homeo=False is 0.988 (train)\n",
      "Fit done in 978.314 seconds for solver='newton-cg'\n",
      "Classification score for homeo=False / solver='newton-cg' is 0.573 (test)\n",
      "Classification score for homeo=False is 0.988 (train)\n",
      "Fit done in 854.962 seconds for solver='lbfgs'\n",
      "Classification score for homeo=False / solver='lbfgs' is 0.574 (test)\n"
     ]
    },
    {
     "name": "stderr",
     "output_type": "stream",
     "text": [
      "/usr/local/anaconda3/lib/python3.8/site-packages/joblib/externals/loky/process_executor.py:688: UserWarning: A worker stopped while some jobs were given to the executor. This can be caused by a too short worker timeout or by a memory leak.\n",
      "  warnings.warn(\n"
     ]
    },
    {
     "name": "stdout",
     "output_type": "stream",
     "text": [
      "Classification score for homeo=False is 0.999 (train)\n",
      "Fit done in 154.603 seconds for solver='liblinear'\n",
      "Classification score for homeo=False / solver='liblinear' is 0.443 (test)\n",
      "Classification score for homeo=False is 0.987 (train)\n",
      "Fit done in 3173.017 seconds for solver='sag'\n",
      "Classification score for homeo=False / solver='sag' is 0.578 (test)\n",
      "Classification score for homeo=False is 0.982 (train)\n",
      "Fit done in 7848.863 seconds for solver='saga'\n",
      "Classification score for homeo=False / solver='saga' is 0.534 (test)\n",
      "----------------------------------------\n",
      "homeo=True\n",
      "----------------------------------------\n",
      "Classification score for homeo=True is 0.988 (train)\n",
      "Fit done in 924.326 seconds for solver='newton-cg'\n",
      "Classification score for homeo=True / solver='newton-cg' is 0.573 (test)\n",
      "Classification score for homeo=True is 0.988 (train)\n",
      "Fit done in 755.166 seconds for solver='lbfgs'\n",
      "Classification score for homeo=True / solver='lbfgs' is 0.574 (test)\n"
     ]
    },
    {
     "name": "stderr",
     "output_type": "stream",
     "text": [
      "/usr/local/anaconda3/lib/python3.8/site-packages/joblib/externals/loky/process_executor.py:688: UserWarning: A worker stopped while some jobs were given to the executor. This can be caused by a too short worker timeout or by a memory leak.\n",
      "  warnings.warn(\n"
     ]
    },
    {
     "name": "stdout",
     "output_type": "stream",
     "text": [
      "Classification score for homeo=True is 1.000 (train)\n",
      "Fit done in 141.457 seconds for solver='liblinear'\n",
      "Classification score for homeo=True / solver='liblinear' is 0.436 (test)\n",
      "Classification score for homeo=True is 0.987 (train)\n",
      "Fit done in 2924.991 seconds for solver='sag'\n",
      "Classification score for homeo=True / solver='sag' is 0.578 (test)\n",
      "Classification score for homeo=True is 0.982 (train)\n",
      "Fit done in 8143.520 seconds for solver='saga'\n",
      "Classification score for homeo=True / solver='saga' is 0.534 (test)\n"
     ]
    }
   ],
   "source": [
    "for homeo in [False, True]:\n",
    "    print(40*'-')\n",
    "    print(f'{homeo=}')\n",
    "    print(40*'-')\n",
    "    for solver, penalty in zip(['newton-cg', 'lbfgs', 'liblinear', 'sag', 'saga'], ['l2', 'l2', 'l1', 'l2', 'l1']):\n",
    "        events_train_o, events_test_o, labels_train, labels_test = get_events(timestr, tau=tau, homeo=homeo, verbose=verbose)\n",
    "\n",
    "        tic = time.time()\n",
    "        X_train, y_train = gather_data(events_train_o, labels_train, verbose=verbose)\n",
    "        lr = LR(solver=solver, penalty=penalty, verbose=verbose, **opts_LR).fit(X_train, y_train)\n",
    "        print(f'Classification score for {homeo=} is {lr.score(X_train, y_train):.3f} (train)')\n",
    "        print(f'Fit done in {time.time() -tic:.3f} seconds for {solver=}')\n",
    "        X_test, y_test = gather_data(events_test_o, labels_test, verbose=verbose)\n",
    "        print(f'Classification score for {homeo=} / {solver=} is {lr.score(X_test, y_test):.3f} (test)')"
   ]
  },
  {
   "cell_type": "code",
   "execution_count": 11,
   "metadata": {},
   "outputs": [
    {
     "name": "stdout",
     "output_type": "stream",
     "text": [
      "----------------------------------------\n",
      "homeo=False\n",
      "----------------------------------------\n",
      "Classification score for tau_cla=0.037 is 0.968 (train)\n",
      "Classification score for tau_cla=0.037 is 0.574 (test)\n",
      "Classification score for tau_cla=0.060 is 0.980 (train)\n",
      "Classification score for tau_cla=0.060 is 0.589 (test)\n",
      "Classification score for tau_cla=0.094 is 0.984 (train)\n",
      "Classification score for tau_cla=0.094 is 0.589 (test)\n",
      "Classification score for tau_cla=0.150 is 0.988 (train)\n",
      "Classification score for tau_cla=0.150 is 0.574 (test)\n",
      "Classification score for tau_cla=0.238 is 0.986 (train)\n",
      "Classification score for tau_cla=0.238 is 0.542 (test)\n",
      "Classification score for tau_cla=0.378 is 0.987 (train)\n",
      "Classification score for tau_cla=0.378 is 0.479 (test)\n",
      "Classification score for tau_cla=0.600 is 0.993 (train)\n",
      "Classification score for tau_cla=0.600 is 0.402 (test)\n",
      "----------------------------------------\n",
      "homeo=True\n",
      "----------------------------------------\n",
      "Classification score for tau_cla=0.037 is 0.968 (train)\n",
      "Classification score for tau_cla=0.037 is 0.574 (test)\n",
      "Classification score for tau_cla=0.060 is 0.980 (train)\n",
      "Classification score for tau_cla=0.060 is 0.589 (test)\n",
      "Classification score for tau_cla=0.094 is 0.984 (train)\n",
      "Classification score for tau_cla=0.094 is 0.589 (test)\n",
      "Classification score for tau_cla=0.150 is 0.988 (train)\n",
      "Classification score for tau_cla=0.150 is 0.574 (test)\n",
      "Classification score for tau_cla=0.238 is 0.986 (train)\n",
      "Classification score for tau_cla=0.238 is 0.542 (test)\n",
      "Classification score for tau_cla=0.378 is 0.987 (train)\n",
      "Classification score for tau_cla=0.378 is 0.479 (test)\n",
      "Classification score for tau_cla=0.600 is 0.993 (train)\n",
      "Classification score for tau_cla=0.600 is 0.402 (test)\n"
     ]
    }
   ],
   "source": [
    "for homeo in [False, True]:\n",
    "    print(40*'-')\n",
    "    print(f'{homeo=}')\n",
    "    print(40*'-')\n",
    "    events_train_o, events_test_o, labels_train, labels_test = get_events(timestr, tau=tau, homeo=homeo, verbose=verbose)\n",
    "\n",
    "    for tau_cla in .15 * np.logspace(-1, 1, 7, base=4):\n",
    "\n",
    "        X_train, y_train = gather_data(events_train_o, labels_train, tau_cla=tau_cla, verbose=verbose)\n",
    "        lr = LR(**opts_LR, verbose=verbose).fit(X_train, y_train)\n",
    "        print(f'Classification score for {tau_cla=:.3f} is {lr.score(X_train, y_train):.3f} (train)')\n",
    "        X_test, y_test = gather_data(events_test_o, labels_test, tau_cla=tau_cla, verbose=verbose)\n",
    "        print(f'Classification score for {tau_cla=:.3f} is {lr.score(X_test, y_test):.3f} (test)')"
   ]
  },
  {
   "cell_type": "code",
   "execution_count": 12,
   "metadata": {},
   "outputs": [
    {
     "name": "stdout",
     "output_type": "stream",
     "text": [
      "----------------------------------------\n",
      "homeo=False\n",
      "----------------------------------------\n",
      "Classification score for sample_space=4 is 0.973 (train)\n",
      "Classification score for sample_space=4 is 0.517 (test)\n",
      "Classification score for sample_space=2 is 0.985 (train)\n",
      "Classification score for sample_space=2 is 0.540 (test)\n",
      "Classification score for sample_space=1 is 0.988 (train)\n",
      "Classification score for sample_space=1 is 0.574 (test)\n",
      "----------------------------------------\n",
      "homeo=True\n",
      "----------------------------------------\n",
      "Classification score for sample_space=4 is 0.973 (train)\n",
      "Classification score for sample_space=4 is 0.517 (test)\n",
      "Classification score for sample_space=2 is 0.985 (train)\n",
      "Classification score for sample_space=2 is 0.540 (test)\n",
      "Classification score for sample_space=1 is 0.988 (train)\n",
      "Classification score for sample_space=1 is 0.574 (test)\n"
     ]
    }
   ],
   "source": [
    "for homeo in [False, True]:\n",
    "    print(40*'-')\n",
    "    print(f'{homeo=}')\n",
    "    print(40*'-')\n",
    "    events_train_o, events_test_o, labels_train, labels_test = get_events(timestr, tau=tau, homeo=homeo, verbose=verbose)\n",
    "\n",
    "    for sample_space in [4, 2, 1]:\n",
    "        X_train, y_train = gather_data(events_train_o, labels_train, sample_space=sample_space, verbose=verbose)\n",
    "        lr = LR(**opts_LR, verbose=verbose).fit(X_train, y_train)\n",
    "        print(f'Classification score for {sample_space=} is {lr.score(X_train, y_train):.3f} (train)')\n",
    "        X_test, y_test = gather_data(events_test_o, labels_test, sample_space=sample_space, verbose=verbose)\n",
    "        print(f'Classification score for {sample_space=} is {lr.score(X_test, y_test):.3f} (test)')\n"
   ]
  },
  {
   "cell_type": "code",
   "execution_count": 13,
   "metadata": {},
   "outputs": [
    {
     "name": "stdout",
     "output_type": "stream",
     "text": [
      "----------------------------------------\n",
      "homeo=False\n",
      "----------------------------------------\n",
      "Classification score for homeo=False & tau_=0.000010 is 0.988 (train)\n",
      "Classification score for homeo=False & tau_=0.000010 is 0.574 (test)\n",
      "Classification score for homeo=False & tau_=0.000100 is 0.988 (train)\n",
      "Classification score for homeo=False & tau_=0.000100 is 0.574 (test)\n",
      "Classification score for homeo=False & tau_=0.000200 is 0.988 (train)\n",
      "Classification score for homeo=False & tau_=0.000200 is 0.574 (test)\n",
      "Classification score for homeo=False & tau_=0.000300 is 0.988 (train)\n",
      "Classification score for homeo=False & tau_=0.000300 is 0.574 (test)\n",
      "Classification score for homeo=False & tau_=0.000400 is 0.988 (train)\n",
      "Classification score for homeo=False & tau_=0.000400 is 0.574 (test)\n",
      "Classification score for homeo=False & tau_=0.000500 is 0.988 (train)\n",
      "Classification score for homeo=False & tau_=0.000500 is 0.574 (test)\n",
      "Classification score for homeo=False & tau_=0.000600 is 0.988 (train)\n",
      "Classification score for homeo=False & tau_=0.000600 is 0.574 (test)\n",
      "Classification score for homeo=False & tau_=0.000700 is 0.988 (train)\n",
      "Classification score for homeo=False & tau_=0.000700 is 0.574 (test)\n",
      "Classification score for homeo=False & tau_=0.000800 is 0.988 (train)\n",
      "Classification score for homeo=False & tau_=0.000800 is 0.574 (test)\n",
      "Classification score for homeo=False & tau_=0.000900 is 0.988 (train)\n",
      "Classification score for homeo=False & tau_=0.000900 is 0.574 (test)\n",
      "Classification score for homeo=False & tau_=0.001000 is 0.988 (train)\n",
      "Classification score for homeo=False & tau_=0.001000 is 0.574 (test)\n",
      "Classification score for homeo=False & tau_=0.002000 is 0.988 (train)\n",
      "Classification score for homeo=False & tau_=0.002000 is 0.574 (test)\n",
      "Classification score for homeo=False & tau_=0.002500 is 0.988 (train)\n",
      "Classification score for homeo=False & tau_=0.002500 is 0.574 (test)\n",
      "Classification score for homeo=False & tau_=0.003000 is 0.988 (train)\n",
      "Classification score for homeo=False & tau_=0.003000 is 0.574 (test)\n",
      "Classification score for homeo=False & tau_=0.004000 is 0.988 (train)\n",
      "Classification score for homeo=False & tau_=0.004000 is 0.574 (test)\n",
      "Classification score for homeo=False & tau_=0.005000 is 0.988 (train)\n",
      "Classification score for homeo=False & tau_=0.005000 is 0.574 (test)\n",
      "Classification score for homeo=False & tau_=0.010000 is 0.988 (train)\n",
      "Classification score for homeo=False & tau_=0.010000 is 0.574 (test)\n",
      "Classification score for homeo=False & tau_=0.020000 is 0.988 (train)\n",
      "Classification score for homeo=False & tau_=0.020000 is 0.574 (test)\n",
      "----------------------------------------\n",
      "homeo=True\n",
      "----------------------------------------\n",
      "Classification score for homeo=True & tau_=0.000010 is 0.988 (train)\n",
      "Classification score for homeo=True & tau_=0.000010 is 0.574 (test)\n",
      "Classification score for homeo=True & tau_=0.000100 is 0.988 (train)\n",
      "Classification score for homeo=True & tau_=0.000100 is 0.574 (test)\n",
      "Classification score for homeo=True & tau_=0.000200 is 0.988 (train)\n",
      "Classification score for homeo=True & tau_=0.000200 is 0.574 (test)\n",
      "Classification score for homeo=True & tau_=0.000300 is 0.988 (train)\n",
      "Classification score for homeo=True & tau_=0.000300 is 0.574 (test)\n",
      "Classification score for homeo=True & tau_=0.000400 is 0.988 (train)\n",
      "Classification score for homeo=True & tau_=0.000400 is 0.574 (test)\n",
      "Classification score for homeo=True & tau_=0.000500 is 0.988 (train)\n",
      "Classification score for homeo=True & tau_=0.000500 is 0.574 (test)\n",
      "Classification score for homeo=True & tau_=0.000600 is 0.988 (train)\n",
      "Classification score for homeo=True & tau_=0.000600 is 0.574 (test)\n",
      "Classification score for homeo=True & tau_=0.000700 is 0.988 (train)\n",
      "Classification score for homeo=True & tau_=0.000700 is 0.574 (test)\n",
      "Classification score for homeo=True & tau_=0.000800 is 0.988 (train)\n",
      "Classification score for homeo=True & tau_=0.000800 is 0.574 (test)\n",
      "Classification score for homeo=True & tau_=0.000900 is 0.988 (train)\n",
      "Classification score for homeo=True & tau_=0.000900 is 0.574 (test)\n",
      "Classification score for homeo=True & tau_=0.001000 is 0.988 (train)\n",
      "Classification score for homeo=True & tau_=0.001000 is 0.574 (test)\n",
      "Classification score for homeo=True & tau_=0.002000 is 0.988 (train)\n",
      "Classification score for homeo=True & tau_=0.002000 is 0.574 (test)\n",
      "Classification score for homeo=True & tau_=0.002500 is 0.988 (train)\n",
      "Classification score for homeo=True & tau_=0.002500 is 0.574 (test)\n",
      "Classification score for homeo=True & tau_=0.003000 is 0.988 (train)\n",
      "Classification score for homeo=True & tau_=0.003000 is 0.574 (test)\n",
      "Classification score for homeo=True & tau_=0.004000 is 0.988 (train)\n",
      "Classification score for homeo=True & tau_=0.004000 is 0.574 (test)\n",
      "Classification score for homeo=True & tau_=0.005000 is 0.988 (train)\n",
      "Classification score for homeo=True & tau_=0.005000 is 0.574 (test)\n",
      "Classification score for homeo=True & tau_=0.010000 is 0.988 (train)\n",
      "Classification score for homeo=True & tau_=0.010000 is 0.574 (test)\n",
      "Classification score for homeo=True & tau_=0.020000 is 0.988 (train)\n",
      "Classification score for homeo=True & tau_=0.020000 is 0.574 (test)\n"
     ]
    }
   ],
   "source": [
    "tauz = np.array([1e-5, 1e-4, 2e-4 ,3e-4, 4e-4, 5e-4, 6e-4, 7e-4,\n",
    "                 8e-4, 9e-4, 1e-3, 2e-3, 2.5e-3, 3e-3, 4e-3, 5e-3, \n",
    "                 1e-2, 2e-2])\n",
    "for homeo in [False, True]:\n",
    "    print(40*'-')\n",
    "    print(f'{homeo=}')\n",
    "    print(40*'-')\n",
    "    for tau_ in tauz:\n",
    "        events_train_o, events_test_o, labels_train, labels_test = get_events(timestr, tau=tau_, homeo=homeo, verbose=verbose)\n",
    "        \n",
    "        X_train, y_train = gather_data(events_train_o, labels_train, verbose=verbose)\n",
    "        lr = LR(**opts_LR, verbose=verbose).fit(X_train, y_train)\n",
    "        print(f'Classification score for {homeo=} & {tau_=:.6f} is {lr.score(X_train, y_train):.3f} (train)')\n",
    "        X_test, y_test = gather_data(events_test_o, labels_test, verbose=verbose)\n",
    "        print(f'Classification score for {homeo=} & {tau_=:.6f} is {lr.score(X_test, y_test):.3f} (test)')\n"
   ]
  }
 ],
 "metadata": {
  "kernelspec": {
   "display_name": "hots",
   "language": "python",
   "name": "hots"
  },
  "language_info": {
   "codemirror_mode": {
    "name": "ipython",
    "version": 3
   },
   "file_extension": ".py",
   "mimetype": "text/x-python",
   "name": "python",
   "nbconvert_exporter": "python",
   "pygments_lexer": "ipython3",
   "version": "3.8.5"
  }
 },
 "nbformat": 4,
 "nbformat_minor": 4
}
