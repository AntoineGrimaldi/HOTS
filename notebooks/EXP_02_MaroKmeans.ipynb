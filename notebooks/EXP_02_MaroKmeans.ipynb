{
 "cells": [
  {
   "cell_type": "markdown",
   "metadata": {},
   "source": [
    "# Different Configuration Using Maro's Kmeans"
   ]
  },
  {
   "cell_type": "markdown",
   "metadata": {},
   "source": [
    "This Notebook aimed at replicating Maro's work in the parper Mid-air Gesture Recognition Using Event-Based Vision Sensor"
   ]
  },
  {
   "cell_type": "code",
   "execution_count": 1,
   "metadata": {
    "collapsed": false,
    "jupyter": {
     "outputs_hidden": false
    }
   },
   "outputs": [
    {
     "name": "stderr",
     "output_type": "stream",
     "text": [
      "\n",
      "Bad key \"text.kerning_factor\" on line 4 in\n",
      "/usr/local/lib/python3.8/site-packages/matplotlib/mpl-data/stylelib/_classic_test_patch.mplstyle.\n",
      "You probably need to get an updated matplotlibrc file from\n",
      "http://github.com/matplotlib/matplotlib/blob/master/matplotlibrc.template\n",
      "or from the matplotlib source distribution\n"
     ]
    }
   ],
   "source": [
    "%load_ext autoreload\n",
    "%autoreload 2\n",
    "%matplotlib inline"
   ]
  },
  {
   "cell_type": "code",
   "execution_count": 2,
   "metadata": {
    "collapsed": false,
    "jupyter": {
     "outputs_hidden": false
    }
   },
   "outputs": [],
   "source": [
    "import numpy as np\n",
    "import matplotlib.pyplot as plt\n",
    "\n",
    "import os\n",
    "from HOTS.Monitor import GenerateAM, DisplayAM\n",
    "from HOTS.Event import Event, SimpleAlphabet\n",
    "from HOTS.STS import STS\n",
    "from HOTS.Layer import ClusteringLayer\n",
    "from HOTS.Monitor import (\n",
    "    DisplayImage,\n",
    "    DisplaySurface3D,\n",
    "    DisplaySurface2D,\n",
    "    DisplayConvergence,\n",
    ")\n",
    "from HOTS.Tools import SaveObject, LoadObject\n",
    "from HOTS.Classifier import Classifier\n",
    "from HOTS.Network import Network\n",
    "from HOTS.KmeansMaro import KmeansMaro"
   ]
  },
  {
   "cell_type": "markdown",
   "metadata": {},
   "source": [
    "# 1. Defining Common parameter"
   ]
  },
  {
   "cell_type": "code",
   "execution_count": 3,
   "metadata": {},
   "outputs": [],
   "source": [
    "tau = 0.02\n",
    "R = 2\n",
    "nb_cluster = [4, 8, 16]\n",
    "ImageSize = (32, 32)\n",
    "DataPath = \"../data/alphabet_ExtractedStabilized.mat\"\n",
    "LabelPath = \"../data/alphabet_label.pkl\""
   ]
  },
  {
   "cell_type": "markdown",
   "metadata": {},
   "source": [
    "# 3. Experiment with one polarity in input  "
   ]
  },
  {
   "cell_type": "markdown",
   "metadata": {},
   "source": [
    "## 3.1. Exp1 :  Maro Kmeans + Linear Kernel +  NoiseFilter(=2)  +  1 Polarity in Input + 3 Cycles"
   ]
  },
  {
   "cell_type": "code",
   "execution_count": 4,
   "metadata": {
    "collapsed": false,
    "jupyter": {
     "outputs_hidden": false
    }
   },
   "outputs": [],
   "source": [
    "event_tr, event_te, event_cl, label_tr, label_te = SimpleAlphabet(\n",
    "    NbTrainingData=36,\n",
    "    NbTestingData=40,\n",
    "    Path=DataPath,\n",
    "    LabelPath=LabelPath,\n",
    "    ClusteringData=[1, 32, 19, 22, 29],\n",
    "    OutOnePolarity=True,\n",
    "    verbose=0,\n",
    ")"
   ]
  },
  {
   "cell_type": "code",
   "execution_count": 5,
   "metadata": {
    "collapsed": false,
    "jupyter": {
     "outputs_hidden": false
    }
   },
   "outputs": [
    {
     "ename": "FileNotFoundError",
     "evalue": "[Errno 2] No such file or directory: '../Records/EXP_02_MaroKmeans/Exp01_2020-04-17.pkl'",
     "output_type": "error",
     "traceback": [
      "\u001b[0;31m---------------------------------------------------------------------------\u001b[0m",
      "\u001b[0;31mFileNotFoundError\u001b[0m                         Traceback (most recent call last)",
      "\u001b[0;32m<ipython-input-5-68e74caafeb2>\u001b[0m in \u001b[0;36m<module>\u001b[0;34m\u001b[0m\n\u001b[1;32m     39\u001b[0m     )\n\u001b[1;32m     40\u001b[0m \u001b[0;34m\u001b[0m\u001b[0m\n\u001b[0;32m---> 41\u001b[0;31m     \u001b[0mSaveObject\u001b[0m\u001b[0;34m(\u001b[0m\u001b[0;34m[\u001b[0m\u001b[0mClusterLayer\u001b[0m\u001b[0;34m,\u001b[0m \u001b[0mClassif0\u001b[0m\u001b[0;34m]\u001b[0m\u001b[0;34m,\u001b[0m \u001b[0mfname\u001b[0m\u001b[0;34m)\u001b[0m\u001b[0;34m\u001b[0m\u001b[0;34m\u001b[0m\u001b[0m\n\u001b[0m\u001b[1;32m     42\u001b[0m \u001b[0;32melse\u001b[0m\u001b[0;34m:\u001b[0m\u001b[0;34m\u001b[0m\u001b[0;34m\u001b[0m\u001b[0m\n\u001b[1;32m     43\u001b[0m     \u001b[0mClusterLayer\u001b[0m\u001b[0;34m,\u001b[0m \u001b[0mClassif0\u001b[0m \u001b[0;34m=\u001b[0m \u001b[0mLoadObject\u001b[0m\u001b[0;34m(\u001b[0m\u001b[0mfname\u001b[0m\u001b[0;34m)\u001b[0m\u001b[0;34m\u001b[0m\u001b[0;34m\u001b[0m\u001b[0m\n",
      "\u001b[0;32m~/quantic/science/SpikeAI/2020---Online-Feature-Detection-/HOTS_clone_laurent/HOTS/Tools.py\u001b[0m in \u001b[0;36mSaveObject\u001b[0;34m(obj, filename)\u001b[0m\n\u001b[1;32m     63\u001b[0m \u001b[0;34m\u001b[0m\u001b[0m\n\u001b[1;32m     64\u001b[0m \u001b[0;32mdef\u001b[0m \u001b[0mSaveObject\u001b[0m\u001b[0;34m(\u001b[0m\u001b[0mobj\u001b[0m\u001b[0;34m,\u001b[0m \u001b[0mfilename\u001b[0m\u001b[0;34m)\u001b[0m\u001b[0;34m:\u001b[0m\u001b[0;34m\u001b[0m\u001b[0;34m\u001b[0m\u001b[0m\n\u001b[0;32m---> 65\u001b[0;31m     \u001b[0;32mwith\u001b[0m \u001b[0mopen\u001b[0m\u001b[0;34m(\u001b[0m\u001b[0mfilename\u001b[0m\u001b[0;34m,\u001b[0m \u001b[0;34m'wb'\u001b[0m\u001b[0;34m)\u001b[0m \u001b[0;32mas\u001b[0m \u001b[0mfile\u001b[0m\u001b[0;34m:\u001b[0m\u001b[0;34m\u001b[0m\u001b[0;34m\u001b[0m\u001b[0m\n\u001b[0m\u001b[1;32m     66\u001b[0m         \u001b[0mpickle\u001b[0m\u001b[0;34m.\u001b[0m\u001b[0mdump\u001b[0m\u001b[0;34m(\u001b[0m\u001b[0mobj\u001b[0m\u001b[0;34m,\u001b[0m \u001b[0mfile\u001b[0m\u001b[0;34m,\u001b[0m \u001b[0mpickle\u001b[0m\u001b[0;34m.\u001b[0m\u001b[0mHIGHEST_PROTOCOL\u001b[0m\u001b[0;34m)\u001b[0m\u001b[0;34m\u001b[0m\u001b[0;34m\u001b[0m\u001b[0m\n\u001b[1;32m     67\u001b[0m \u001b[0;34m\u001b[0m\u001b[0m\n",
      "\u001b[0;31mFileNotFoundError\u001b[0m: [Errno 2] No such file or directory: '../Records/EXP_02_MaroKmeans/Exp01_2020-04-17.pkl'"
     ]
    }
   ],
   "source": [
    "event_tr, event_te, event_cl, label_tr, label_te = SimpleAlphabet(\n",
    "    NbTrainingData=36,\n",
    "    NbTestingData=40,\n",
    "    Path=DataPath,\n",
    "    LabelPath=LabelPath,\n",
    "    ClusteringData=[1, 32, 19, 22, 29],\n",
    "    OutOnePolarity=True,\n",
    "    verbose=0,\n",
    ")\n",
    "## Defining the network\n",
    "L1 = ClusteringLayer(\n",
    "    tau=tau, R=R, verbose=0, ThrFilter=2, LearningAlgo=\"maro\", kernel=\"linear\"\n",
    ")\n",
    "L2 = ClusteringLayer(\n",
    "    tau=10 * tau, R=2 * R, verbose=0, ThrFilter=2, LearningAlgo=\"maro\", kernel=\"linear\"\n",
    ")\n",
    "L3 = ClusteringLayer(\n",
    "    tau=10 * 10 * tau,\n",
    "    R=2 * 2 * R,\n",
    "    verbose=0,\n",
    "    ThrFilter=2,\n",
    "    LearningAlgo=\"maro\",\n",
    "    kernel=\"linear\",\n",
    ")\n",
    "Net = Network([L1, L2, L3])\n",
    "\n",
    "fname = \"../Records/EXP_02_MaroKmeans/Exp01_2020-04-17.pkl\"\n",
    "if not os.path.isfile(fname):\n",
    "    #### Training The Cluster on 5 images\n",
    "    ClusterLayer, event_output = Net.TrainCluster(\n",
    "        event=event_cl, NbClusterList=nb_cluster, to_record=True, NbCycle=3\n",
    "    )\n",
    "    ## Generating histogram for training samples\n",
    "    event0_o_tr = Net.RunNetwork(event_tr, NbClusterList=ClusterLayer)\n",
    "    ## Generating histogram for the test samples\n",
    "    event0_o_te = Net.RunNetwork(event_te, NbClusterList=ClusterLayer)\n",
    "    Classif0 = Classifier(\n",
    "        event0_o_tr, event0_o_te, TrainingLabel=label_tr, GroundTruth=label_te\n",
    "    )\n",
    "\n",
    "    SaveObject([ClusterLayer, Classif0], fname)\n",
    "else:\n",
    "    ClusterLayer, Classif0 = LoadObject(fname)\n",
    "\n",
    "prediction, accuracy, method = Classif0.HistogramDistance(to_print=True)\n"
   ]
  },
  {
   "cell_type": "code",
   "execution_count": null,
   "metadata": {
    "collapsed": false,
    "jupyter": {
     "outputs_hidden": false
    }
   },
   "outputs": [],
   "source": [
    "DisplaySurface2D(ClusterLayer[0].prototype, nb_polarities=1)\n",
    "DisplaySurface2D(ClusterLayer[1].prototype, nb_polarities=4)\n",
    "DisplaySurface2D(ClusterLayer[2].prototype, nb_polarities=8)\n",
    "event_to_show = Event(ImageSize=(32, 32), ListPolarities=[-1, 1], OutOnePolarity=True)\n",
    "event_to_show.LoadFromMat(\"../data/alphabet_ExtractedStabilized.mat\", image_number=22)\n",
    "Net.RunNetwork(event_to_show, NbClusterList=ClusterLayer)\n",
    "mapL1 = GenerateAM(Net.Layers[0].output, ClusterLayer[0])\n",
    "DisplayAM(mapL1, scale=2)\n",
    "mapL2 = GenerateAM(Net.Layers[1].output, ClusterLayer[1])\n",
    "DisplayAM(mapL2, scale=2)\n",
    "mapL3 = GenerateAM(Net.Layers[2].output, ClusterLayer[2])\n",
    "DisplayAM(mapL3, scale=2)\n",
    "\n",
    "DisplayConvergence(ClusterLayer, to_display=[\"error\", \"histo\"])"
   ]
  },
  {
   "cell_type": "markdown",
   "metadata": {},
   "source": [
    "The classification is highly varying with the number of training cycle (event at convergence). This may be cause by the noise on the convergence curve. An hypothesis, could be that the learning coefficient may be too high to reach to a stable convergence"
   ]
  },
  {
   "cell_type": "markdown",
   "metadata": {},
   "source": [
    "## 3.2. Exp2 : Maro Kmeans + Exp Kernel + NoiseFilter(=2) +  1 Polarity in Input + 3 Cycles"
   ]
  },
  {
   "cell_type": "code",
   "execution_count": null,
   "metadata": {
    "collapsed": false,
    "jupyter": {
     "outputs_hidden": false
    }
   },
   "outputs": [],
   "source": [
    "event_tr, event_te, event_cl, label_tr, label_te = SimpleAlphabet(\n",
    "    NbTrainingData=36,\n",
    "    NbTestingData=40,\n",
    "    Path=DataPath,\n",
    "    LabelPath=LabelPath,\n",
    "    ClusteringData=[1, 32, 19, 22, 29],\n",
    "    OutOnePolarity=True,\n",
    "    verbose=0,\n",
    ")\n",
    "## Defining the network\n",
    "L1 = ClusteringLayer(\n",
    "    tau=tau, R=R, verbose=0, ThrFilter=2, LearningAlgo=\"maro\", kernel=\"exponential\"\n",
    ")\n",
    "L2 = ClusteringLayer(\n",
    "    tau=10 * tau,\n",
    "    R=2 * R,\n",
    "    verbose=0,\n",
    "    ThrFilter=2,\n",
    "    LearningAlgo=\"maro\",\n",
    "    kernel=\"exponential\",\n",
    ")\n",
    "L3 = ClusteringLayer(\n",
    "    tau=10 * 10 * tau,\n",
    "    R=2 * 2 * R,\n",
    "    verbose=0,\n",
    "    ThrFilter=2,\n",
    "    LearningAlgo=\"maro\",\n",
    "    kernel=\"exponential\",\n",
    ")\n",
    "Net = Network([L1, L2, L3])\n",
    "\n",
    "fname = \"../Records/EXP_02_MaroKmeans/Exp02_2020-04-17.pkl\"\n",
    "if not os.path.isfile(fname):\n",
    "    #### Training The Cluster on 5 images\n",
    "    ClusterLayer, event_output = Net.TrainCluster(\n",
    "        event=event_cl, NbClusterList=nb_cluster, to_record=True, NbCycle=3\n",
    "    )\n",
    "\n",
    "    ## Generating histogram for training samples\n",
    "    event0_o_tr = Net.RunNetwork(event_tr, NbClusterList=ClusterLayer)\n",
    "\n",
    "    ## Generating histogram for the test samples\n",
    "    event0_o_te = Net.RunNetwork(event_te, NbClusterList=ClusterLayer)\n",
    "\n",
    "    Classif0 = Classifier(\n",
    "        event0_o_tr, event0_o_te, TrainingLabel=label_tr, GroundTruth=label_te\n",
    "    )\n",
    "    SaveObject([ClusterLayer, Classif0], fname)\n",
    "else:\n",
    "    ClusterLayer, Classif0 = LoadObject(fname)\n",
    "prediction, accuracy, method = Classif0.HistogramDistance(to_print=True)"
   ]
  },
  {
   "cell_type": "code",
   "execution_count": null,
   "metadata": {
    "collapsed": false,
    "jupyter": {
     "outputs_hidden": false
    }
   },
   "outputs": [],
   "source": [
    "DisplaySurface2D(ClusterLayer[0].prototype, nb_polarities=1)\n",
    "DisplaySurface2D(ClusterLayer[1].prototype, nb_polarities=4)\n",
    "DisplaySurface2D(ClusterLayer[2].prototype, nb_polarities=8)\n",
    "event_to_show = Event(ImageSize=(32, 32), ListPolarities=[-1, 1], OutOnePolarity=True)\n",
    "event_to_show.LoadFromMat(\"../data/alphabet_ExtractedStabilized.mat\", image_number=22)\n",
    "Net.RunNetwork(event_to_show, NbClusterList=ClusterLayer)\n",
    "mapL1 = GenerateAM(Net.Layers[0].output, ClusterLayer[0])\n",
    "DisplayAM(mapL1, scale=2)\n",
    "mapL2 = GenerateAM(Net.Layers[1].output, ClusterLayer[1])\n",
    "DisplayAM(mapL2, scale=2)\n",
    "mapL3 = GenerateAM(Net.Layers[2].output, ClusterLayer[2])\n",
    "DisplayAM(mapL3, scale=2)\n",
    "\n",
    "DisplayConvergence(ClusterLayer, to_display=[\"error\", \"histo\"])"
   ]
  },
  {
   "cell_type": "code",
   "execution_count": null,
   "metadata": {
    "collapsed": false,
    "jupyter": {
     "outputs_hidden": false
    }
   },
   "outputs": [],
   "source": []
  },
  {
   "cell_type": "markdown",
   "metadata": {},
   "source": [
    "# 4. Experiment with 2 polarities in Input "
   ]
  },
  {
   "cell_type": "markdown",
   "metadata": {},
   "source": [
    "## 4.1. Exp3 : Maro Kmeans + Linear Kernel + NoiseFilter(=2) + 2 Polarity in Input + 3 Cycles\n"
   ]
  },
  {
   "cell_type": "code",
   "execution_count": null,
   "metadata": {
    "collapsed": false,
    "jupyter": {
     "outputs_hidden": false
    }
   },
   "outputs": [],
   "source": [
    "event_tr, event_te, event_cl, label_tr, label_te = SimpleAlphabet(\n",
    "    NbTrainingData=36,\n",
    "    NbTestingData=40,\n",
    "    Path=DataPath,\n",
    "    LabelPath=LabelPath,\n",
    "    ClusteringData=[1, 32, 19, 22, 29],\n",
    "    OutOnePolarity=False,\n",
    "    verbose=0,\n",
    ")\n",
    "\n",
    "\n",
    "## Defining the network\n",
    "L1 = ClusteringLayer(\n",
    "    tau=tau, R=R, verbose=0, ThrFilter=2, LearningAlgo=\"maro\", kernel=\"linear\"\n",
    ")\n",
    "L2 = ClusteringLayer(\n",
    "    tau=10 * tau, R=2 * R, verbose=0, ThrFilter=2, LearningAlgo=\"maro\", kernel=\"linear\"\n",
    ")\n",
    "L3 = ClusteringLayer(\n",
    "    tau=10 * 10 * tau,\n",
    "    R=2 * 2 * R,\n",
    "    verbose=0,\n",
    "    ThrFilter=2,\n",
    "    LearningAlgo=\"maro\",\n",
    "    kernel=\"linear\",\n",
    ")\n",
    "Net = Network([L1, L2, L3])\n",
    "\n",
    "\n",
    "fname = \"../Records/EXP_02_MaroKmeans/Exp03_2020-04-17.pkl\"\n",
    "if not os.path.isfile(fname):\n",
    "    #### Training The Cluster on 5 images\n",
    "    ClusterLayer, event_output = Net.TrainCluster(\n",
    "        event=event_cl, NbClusterList=nb_cluster, to_record=True, NbCycle=3\n",
    "    )\n",
    "    ## Generating histogram for training samples\n",
    "    event0_o_tr = Net.RunNetwork(event_tr, NbClusterList=ClusterLayer)\n",
    "    ## Generating histogram for the test samples\n",
    "    event0_o_te = Net.RunNetwork(event_te, NbClusterList=ClusterLayer)\n",
    "    Classif0 = Classifier(\n",
    "        event0_o_tr, event0_o_te, TrainingLabel=label_tr, GroundTruth=label_te\n",
    "    )\n",
    "    SaveObject([ClusterLayer, Classif0], fname)\n",
    "else:\n",
    "    ClusterLayer, Classif0 = LoadObject(fname)\n",
    "prediction, accuracy, method = Classif0.HistogramDistance(to_print=True)"
   ]
  },
  {
   "cell_type": "code",
   "execution_count": null,
   "metadata": {
    "collapsed": false,
    "jupyter": {
     "outputs_hidden": false
    }
   },
   "outputs": [],
   "source": [
    "DisplaySurface2D(ClusterLayer[0].prototype, nb_polarities=2)\n",
    "DisplaySurface2D(ClusterLayer[1].prototype, nb_polarities=4)\n",
    "DisplaySurface2D(ClusterLayer[2].prototype, nb_polarities=8)\n",
    "event_to_show = Event(ImageSize=(32, 32), ListPolarities=[-1, 1], OutOnePolarity=False)\n",
    "event_to_show.LoadFromMat(\"../data/alphabet_ExtractedStabilized.mat\", image_number=22)\n",
    "Net.RunNetwork(event_to_show, NbClusterList=ClusterLayer)\n",
    "mapL1 = GenerateAM(Net.Layers[0].output, ClusterLayer[0])\n",
    "DisplayAM(mapL1, scale=2)\n",
    "mapL2 = GenerateAM(Net.Layers[1].output, ClusterLayer[1])\n",
    "DisplayAM(mapL2, scale=2)\n",
    "mapL3 = GenerateAM(Net.Layers[2].output, ClusterLayer[2])\n",
    "DisplayAM(mapL3, scale=2)\n",
    "\n",
    "DisplayConvergence(ClusterLayer, to_display=[\"error\", \"histo\"])"
   ]
  },
  {
   "cell_type": "markdown",
   "metadata": {},
   "source": []
  },
  {
   "cell_type": "code",
   "execution_count": null,
   "metadata": {
    "collapsed": false,
    "jupyter": {
     "outputs_hidden": false
    }
   },
   "outputs": [],
   "source": []
  },
  {
   "cell_type": "markdown",
   "metadata": {},
   "source": [
    "## 4.2 Exp4 : Maro Kmeans + Exp Kernel + NoiseFilter(=2) + 2 Polarity in Input + 3 Cycles"
   ]
  },
  {
   "cell_type": "code",
   "execution_count": null,
   "metadata": {
    "collapsed": false,
    "jupyter": {
     "outputs_hidden": false
    }
   },
   "outputs": [],
   "source": [
    "event_tr, event_te, event_cl, label_tr, label_te = SimpleAlphabet(\n",
    "    NbTrainingData=36,\n",
    "    NbTestingData=40,\n",
    "    Path=DataPath,\n",
    "    LabelPath=LabelPath,\n",
    "    ClusteringData=[1, 32, 19, 22, 29],\n",
    "    OutOnePolarity=False,\n",
    "    verbose=0,\n",
    ")\n",
    "## Defining the network\n",
    "L1 = ClusteringLayer(\n",
    "    tau=tau, R=R, verbose=0, ThrFilter=2, LearningAlgo=\"maro\", kernel=\"exponential\"\n",
    ")\n",
    "L2 = ClusteringLayer(\n",
    "    tau=10 * tau,\n",
    "    R=2 * R,\n",
    "    verbose=0,\n",
    "    ThrFilter=2,\n",
    "    LearningAlgo=\"maro\",\n",
    "    kernel=\"exponential\",\n",
    ")\n",
    "L3 = ClusteringLayer(\n",
    "    tau=10 * 10 * tau,\n",
    "    R=2 * 2 * R,\n",
    "    verbose=0,\n",
    "    ThrFilter=2,\n",
    "    LearningAlgo=\"maro\",\n",
    "    kernel=\"exponential\",\n",
    ")\n",
    "Net = Network([L1, L2, L3])\n",
    "\n",
    "fname = \"../Records/EXP_02_MaroKmeans/Exp04_2020-04-17.pkl\"\n",
    "if not os.path.isfile(fname):\n",
    "    #### Training The Cluster on 5 images\n",
    "    ClusterLayer, event_output = Net.TrainCluster(\n",
    "        event=event_cl, NbClusterList=nb_cluster, to_record=True, NbCycle=3\n",
    "    )\n",
    "\n",
    "    ## Generating histogram for training samples\n",
    "    event0_o_tr = Net.RunNetwork(event_tr, NbClusterList=ClusterLayer)\n",
    "\n",
    "    ## Generating histogram for the test samples\n",
    "    event0_o_te = Net.RunNetwork(event_te, NbClusterList=ClusterLayer)\n",
    "\n",
    "    Classif0 = Classifier(\n",
    "        event0_o_tr, event0_o_te, TrainingLabel=label_tr, GroundTruth=label_te\n",
    "    )\n",
    "    SaveObject([ClusterLayer, Classif0], fname)\n",
    "else:\n",
    "    ClusterLayer, Classif0 = LoadObject(fname)\n",
    "prediction, accuracy, method = Classif0.HistogramDistance(to_print=True)"
   ]
  },
  {
   "cell_type": "code",
   "execution_count": null,
   "metadata": {
    "collapsed": false,
    "jupyter": {
     "outputs_hidden": false
    }
   },
   "outputs": [],
   "source": [
    "DisplaySurface2D(ClusterLayer[0].prototype, nb_polarities=2)\n",
    "DisplaySurface2D(ClusterLayer[1].prototype, nb_polarities=4)\n",
    "DisplaySurface2D(ClusterLayer[2].prototype, nb_polarities=8)\n",
    "event_to_show = Event(ImageSize=(32, 32), ListPolarities=[-1, 1], OutOnePolarity=False)\n",
    "event_to_show.LoadFromMat(\"../data/alphabet_ExtractedStabilized.mat\", image_number=22)\n",
    "Net.RunNetwork(event_to_show, NbClusterList=ClusterLayer)\n",
    "mapL1 = GenerateAM(Net.Layers[0].output, ClusterLayer[0])\n",
    "DisplayAM(mapL1, scale=2)\n",
    "mapL2 = GenerateAM(Net.Layers[1].output, ClusterLayer[1])\n",
    "DisplayAM(mapL2, scale=2)\n",
    "mapL3 = GenerateAM(Net.Layers[2].output, ClusterLayer[2])\n",
    "DisplayAM(mapL3, scale=2)\n",
    "\n",
    "DisplayConvergence(ClusterLayer, to_display=[\"error\", \"histo\"])"
   ]
  }
 ],
 "metadata": {
  "kernelspec": {
   "display_name": "Python 3",
   "language": "python",
   "name": "python3"
  },
  "language_info": {
   "codemirror_mode": {
    "name": "ipython",
    "version": 3
   },
   "file_extension": ".py",
   "mimetype": "text/x-python",
   "name": "python",
   "nbconvert_exporter": "python",
   "pygments_lexer": "ipython3",
   "version": "3.8.5"
  }
 },
 "nbformat": 4,
 "nbformat_minor": 4
}
