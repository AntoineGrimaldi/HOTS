{
 "cells": [
  {
   "cell_type": "code",
   "execution_count": 1,
   "metadata": {
    "collapsed": false,
    "jupyter": {
     "outputs_hidden": false
    }
   },
   "outputs": [
    {
     "name": "stderr",
     "output_type": "stream",
     "text": [
      "\n",
      "Bad key \"text.kerning_factor\" on line 4 in\n",
      "/usr/local/lib/python3.8/site-packages/matplotlib/mpl-data/stylelib/_classic_test_patch.mplstyle.\n",
      "You probably need to get an updated matplotlibrc file from\n",
      "http://github.com/matplotlib/matplotlib/blob/master/matplotlibrc.template\n",
      "or from the matplotlib source distribution\n"
     ]
    }
   ],
   "source": [
    "%load_ext autoreload\n",
    "%autoreload 2\n",
    "%matplotlib inline"
   ]
  },
  {
   "cell_type": "code",
   "execution_count": 2,
   "metadata": {
    "collapsed": false,
    "jupyter": {
     "outputs_hidden": false
    }
   },
   "outputs": [],
   "source": [
    "import numpy as np\n",
    "import matplotlib.pyplot as plt\n",
    "import HOTS.Tool_libUnpackAtis as ua\n",
    "import HOTS.Tools_libDataHelper as dh\n",
    "from HOTS.GestExp import GestExp, MonitorHisto\n",
    "from HOTS.GestExp import save_object, load_object, Classify\n",
    "from HOTS.ToolsMonitor import DisplaySurface2D\n"
   ]
  },
  {
   "cell_type": "code",
   "execution_count": 3,
   "metadata": {
    "collapsed": false,
    "jupyter": {
     "outputs_hidden": false
    }
   },
   "outputs": [],
   "source": [
    "settingsFile = \"/Users/boutin.v/Documents/DataBase/GEST/newlayer_digit.hotsnetwork\"\n",
    "#specs = dh.superLoadHOTSNetworkSettingsFromFile(settingsFile, True)\n",
    "#dbspecs = dh.superReadDB(specs.db_file, specs.db_path)\n",
    "\n",
    "\n",
    "records_path = '../Records/EXP_04_GestureMaro/'"
   ]
  },
  {
   "cell_type": "markdown",
   "metadata": {},
   "source": [
    "## 1 polarity, 5*5 patches, 14 dico"
   ]
  },
  {
   "cell_type": "code",
   "execution_count": 4,
   "metadata": {
    "collapsed": false,
    "jupyter": {
     "outputs_hidden": false
    }
   },
   "outputs": [
    {
     "ename": "ModuleNotFoundError",
     "evalue": "No module named 'HOTS.libDataHelper'",
     "output_type": "error",
     "traceback": [
      "\u001b[0;31m---------------------------------------------------------------------------\u001b[0m",
      "\u001b[0;31mModuleNotFoundError\u001b[0m                       Traceback (most recent call last)",
      "\u001b[0;32m<ipython-input-4-bd140a8045e9>\u001b[0m in \u001b[0;36m<module>\u001b[0;34m\u001b[0m\n\u001b[1;32m     11\u001b[0m     \u001b[0msave_object\u001b[0m\u001b[0;34m(\u001b[0m\u001b[0mExp0\u001b[0m\u001b[0;34m,\u001b[0m\u001b[0mrecords_path\u001b[0m \u001b[0;34m+\u001b[0m \u001b[0;34m'Exp1_2017_12_16.pkl'\u001b[0m\u001b[0;34m)\u001b[0m\u001b[0;34m\u001b[0m\u001b[0;34m\u001b[0m\u001b[0m\n\u001b[1;32m     12\u001b[0m \u001b[0;32melse\u001b[0m \u001b[0;34m:\u001b[0m\u001b[0;34m\u001b[0m\u001b[0;34m\u001b[0m\u001b[0m\n\u001b[0;32m---> 13\u001b[0;31m     \u001b[0mExp0\u001b[0m \u001b[0;34m=\u001b[0m \u001b[0mload_object\u001b[0m\u001b[0;34m(\u001b[0m\u001b[0mrecords_path\u001b[0m \u001b[0;34m+\u001b[0m \u001b[0;34m'Exp1_2017_12_16.pkl'\u001b[0m\u001b[0;34m)\u001b[0m\u001b[0;34m\u001b[0m\u001b[0;34m\u001b[0m\u001b[0m\n\u001b[0m",
      "\u001b[0;32m~/quantic/science/SpikeAI/2020---Online-Feature-Detection-/HOTS_clone_laurent/HOTS/GestExp.py\u001b[0m in \u001b[0;36mload_object\u001b[0;34m(filename)\u001b[0m\n\u001b[1;32m    313\u001b[0m \u001b[0;32mdef\u001b[0m \u001b[0mload_object\u001b[0m\u001b[0;34m(\u001b[0m\u001b[0mfilename\u001b[0m\u001b[0;34m)\u001b[0m\u001b[0;34m:\u001b[0m\u001b[0;34m\u001b[0m\u001b[0;34m\u001b[0m\u001b[0m\n\u001b[1;32m    314\u001b[0m     \u001b[0;32mwith\u001b[0m \u001b[0mopen\u001b[0m\u001b[0;34m(\u001b[0m\u001b[0mfilename\u001b[0m\u001b[0;34m,\u001b[0m \u001b[0;34m'rb'\u001b[0m\u001b[0;34m)\u001b[0m \u001b[0;32mas\u001b[0m \u001b[0mfile\u001b[0m\u001b[0;34m:\u001b[0m\u001b[0;34m\u001b[0m\u001b[0;34m\u001b[0m\u001b[0m\n\u001b[0;32m--> 315\u001b[0;31m         \u001b[0mExp\u001b[0m \u001b[0;34m=\u001b[0m \u001b[0mpickle\u001b[0m\u001b[0;34m.\u001b[0m\u001b[0mload\u001b[0m\u001b[0;34m(\u001b[0m\u001b[0mfile\u001b[0m\u001b[0;34m)\u001b[0m\u001b[0;34m\u001b[0m\u001b[0;34m\u001b[0m\u001b[0m\n\u001b[0m\u001b[1;32m    316\u001b[0m     \u001b[0;32mreturn\u001b[0m \u001b[0mExp\u001b[0m\u001b[0;34m\u001b[0m\u001b[0;34m\u001b[0m\u001b[0m\n\u001b[1;32m    317\u001b[0m \u001b[0;34m\u001b[0m\u001b[0m\n",
      "\u001b[0;31mModuleNotFoundError\u001b[0m: No module named 'HOTS.libDataHelper'"
     ]
    }
   ],
   "source": [
    "\n",
    "Records = False\n",
    "nb_dico = 14\n",
    "R = 2\n",
    "tau = 0.03\n",
    "\n",
    "if Records == True:\n",
    "    Exp0 = GestExp(settingsFile,nb_dico=nb_dico,R=R,tau=tau,verbose=1)\n",
    "    Prototype = Exp0.learnMaro(nb_file=250)\n",
    "    training_data = Exp0.GenerateHistogramMaro(train=True,nb_file=200)\n",
    "    testing_data = Exp0.GenerateHistogramMaro(train=False)\n",
    "    save_object(Exp0,records_path + 'Exp1_2017_12_16.pkl')\n",
    "else : \n",
    "    Exp0 = load_object(records_path + 'Exp1_2017_12_16.pkl')\n"
   ]
  },
  {
   "cell_type": "code",
   "execution_count": null,
   "metadata": {
    "collapsed": false,
    "jupyter": {
     "outputs_hidden": false
    }
   },
   "outputs": [],
   "source": [
    "accuracy = Classify(Exp0.training_data,Exp0.testing_data)\n",
    "print('classification accuracy : {0:.2f} %'.format(accuracy*100))\n",
    "DisplaySurface2D(Exp0.Prototype,nb_polarities=1)\n",
    "MonitorHisto(Exp0.total_activation)"
   ]
  },
  {
   "cell_type": "code",
   "execution_count": null,
   "metadata": {
    "collapsed": false,
    "jupyter": {
     "outputs_hidden": false
    }
   },
   "outputs": [],
   "source": [
    "\n",
    "Records = False\n",
    "nb_dico = 14\n",
    "R = 2\n",
    "tau = 0.03\n",
    "\n",
    "if Records == True:\n",
    "    Exp0 = GestExp(settingsFile,nb_dico=nb_dico,R=R,tau=tau,verbose=1)\n",
    "    Prototype = Exp0.learnMaro(nb_file=500)\n",
    "    training_data = Exp0.GenerateHistogramMaro(train=True,nb_file=500)\n",
    "    testing_data = Exp0.GenerateHistogramMaro(train=False)\n",
    "    save_object(Exp0,records_path + 'Exp2_2017_12_16.pkl')\n",
    "else : \n",
    "    Exp0 = load_object(records_path + 'Exp2_2017_12_16.pkl')\n",
    "\n"
   ]
  },
  {
   "cell_type": "code",
   "execution_count": null,
   "metadata": {
    "collapsed": false,
    "jupyter": {
     "outputs_hidden": false
    }
   },
   "outputs": [],
   "source": [
    "accuracy = Classify(Exp0.training_data,Exp0.testing_data)\n",
    "print('classification accuracy : {0:.2f} %'.format(accuracy*100))\n",
    "DisplaySurface2D(Exp0.Prototype,nb_polarities=1)\n",
    "MonitorHisto(Exp0.total_activation)"
   ]
  },
  {
   "cell_type": "code",
   "execution_count": null,
   "metadata": {
    "collapsed": false,
    "jupyter": {
     "outputs_hidden": false
    }
   },
   "outputs": [],
   "source": [
    "\n",
    "Records = True\n",
    "nb_dico = 14\n",
    "R = 2\n",
    "tau = 0.03\n",
    "\n",
    "if Records == True:\n",
    "    Exp0 = GestExp(settingsFile,nb_dico=nb_dico,R=R,tau=tau,verbose=1)\n",
    "    Prototype = Exp0.learnHomeo2(nb_file=100,eta_homeo=0.5)\n",
    "    training_data = Exp0.GenerateHistogramMaro(train=True,nb_file=100)\n",
    "    testing_data = Exp0.GenerateHistogramMaro(train=False)\n",
    "    #save_object(Exp0,records_path + 'Exp3_2017_12_16.pkl')\n",
    "else : \n",
    "    Exp0 = load_object(records_path + 'Exp3_2017_12_16.pkl')\n",
    "\n",
    "\n"
   ]
  },
  {
   "cell_type": "code",
   "execution_count": null,
   "metadata": {
    "collapsed": false,
    "jupyter": {
     "outputs_hidden": false
    }
   },
   "outputs": [],
   "source": [
    "accuracy = Classify(Exp0.training_data,Exp0.testing_data)\n",
    "print('classification accuracy : {0:.2f} %'.format(accuracy*100))\n",
    "DisplaySurface2D(Exp0.Prototype,nb_polarities=1)\n",
    "MonitorHisto(Exp0.total_activation)"
   ]
  },
  {
   "cell_type": "code",
   "execution_count": null,
   "metadata": {
    "collapsed": false,
    "jupyter": {
     "outputs_hidden": false
    }
   },
   "outputs": [],
   "source": [
    "stop_here"
   ]
  },
  {
   "cell_type": "code",
   "execution_count": null,
   "metadata": {
    "collapsed": false,
    "jupyter": {
     "outputs_hidden": false
    }
   },
   "outputs": [],
   "source": [
    "Modulation = np.random.rand(14)\n",
    "print(Modulation.shape)\n",
    "Surface = np.ones((14,25))\n",
    "print(Surface.shape)\n",
    "Proto = np.random.rand(14,25)\n",
    "print(Proto.shape)\n",
    "a = np.linalg.norm(Modulation[:,None]*(Surface-Proto),ord=2,axis=1)"
   ]
  },
  {
   "cell_type": "code",
   "execution_count": null,
   "metadata": {
    "collapsed": false,
    "jupyter": {
     "outputs_hidden": false
    }
   },
   "outputs": [],
   "source": [
    "'''\n",
    "activation = nb_activation + nb_activ\n",
    "target = torch.mean(activation)#(nb_image*l0_sparseness)//nb_dico\n",
    "tau = - (torch.max(activation)-target)/np.log(0.2)\n",
    "#tau = -(nb_image*l0_sparseness-target)/np.log(0.2)\n",
    "mu = 0.3\n",
    "#modulation_exp = (1-mu)*Modulation + mu*(5*torch.exp(-(nb_activation-target)/tau))\n",
    "modulation_exp = torch.exp( (1-mu)*torch.log(Modulation) - mu*((activation-target)/tau))\n",
    "#print(modulation_exp)\n",
    "#print(modulation_exp.size())\n",
    "mean_res = torch.mean(res)\n",
    "tau = - torch.max(activation)/np.log(0.5)\n",
    "'''"
   ]
  },
  {
   "cell_type": "code",
   "execution_count": null,
   "metadata": {
    "collapsed": false,
    "jupyter": {
     "outputs_hidden": false
    }
   },
   "outputs": [],
   "source": []
  },
  {
   "cell_type": "code",
   "execution_count": null,
   "metadata": {
    "collapsed": false,
    "jupyter": {
     "outputs_hidden": false
    }
   },
   "outputs": [],
   "source": [
    "Prototype1,res,nb_proto  = learn1(dbspecs,nb_file=50,verbose=1)\n"
   ]
  },
  {
   "cell_type": "code",
   "execution_count": null,
   "metadata": {
    "collapsed": false,
    "jupyter": {
     "outputs_hidden": false
    }
   },
   "outputs": [],
   "source": [
    "DisplaySurface2D(Prototype1,nb_polarities=1)\n",
    "MonitorHisto(nb_proto)"
   ]
  },
  {
   "cell_type": "code",
   "execution_count": null,
   "metadata": {
    "collapsed": false,
    "jupyter": {
     "outputs_hidden": false
    }
   },
   "outputs": [],
   "source": [
    "plt.plot(res)"
   ]
  },
  {
   "cell_type": "code",
   "execution_count": null,
   "metadata": {},
   "outputs": [],
   "source": [
    "    def GenerateHistogram(dico, database, train=True, nb_file=None):\n",
    "        SpTe_Layer1 = STS(tau=0.03, R=2, initial_time=1)\n",
    "        if train == True and nb_file==None:\n",
    "            nb_file = np.sum(np.array(database.dblabels) == 1)\n",
    "        if train == False and nb_file==None:\n",
    "            nb_file = np.sum(np.array(database.dblabels) == 2)\n",
    "        if train== True:\n",
    "            mode = 1\n",
    "            if self.verbose!=0:\n",
    "                print('coding on training db')\n",
    "        else :\n",
    "            if self.verbose!=0:\n",
    "                print('coding on testing db')\n",
    "            mode = 2\n",
    "        nb_dico = dico.shape[0]\n",
    "        all_histo = np.zeros((nb_file,nb_dico))\n",
    "        labels = np.zeros(nb_file)\n",
    "        idx_train = 1\n",
    "        for idf, dblabel in enumerate(database.dblabels):\n",
    "            if dblabel == mode :\n",
    "                if (self.verbose!=0) and (idx_train % 10 == 0):\n",
    "                    print('coded file {0}/{1}'.format(idx_train, nb_file))\n",
    "\n",
    "                histo = np.zeros(nb_dico).astype(int)\n",
    "\n",
    "                filepath = database.path + database.filenames[idf]\n",
    "                event = LoadGestureDB(filepath, OutOnePolarity=True)\n",
    "                Surface_Layer1 = SpTe_Layer1.create(event = event,kernel='linear')\n",
    "                filt = np.sum(Surface_Layer1, axis = 1) > 2*R\n",
    "                Surface_Layer2 = Surface_Layer1[filt,:]\n",
    "\n",
    "                for idx, Si in enumerate(Surface_Layer2):\n",
    "                    #Distance_to_proto = np.linalg.norm(Si - self.Prototype,ord=2,axis=1)\n",
    "                    #closest_proto_idx = np.argmin(Distance_to_proto)\n",
    "                    \n",
    "                    histo[closest_proto_idx] += 1\n",
    "\n",
    "                all_histo[idx_train-1,:] = histo/np.sum(histo)\n",
    "                labels[idx_train-1] = self.dbspecs.labelids[idf]\n",
    "                if idx_train == nb_file:\n",
    "                    break\n",
    "                idx_train+=1\n",
    "        return (all_histo,labels)"
   ]
  },
  {
   "cell_type": "code",
   "execution_count": null,
   "metadata": {
    "collapsed": false,
    "jupyter": {
     "outputs_hidden": false
    }
   },
   "outputs": [],
   "source": [
    "def GenerateHistogram1(dico, database, train=True, nb_file=None, verbose=0):\n",
    "    if train == True and nb_file==None:\n",
    "        nb_file = np.sum(np.array(database.dblabels) == 1)\n",
    "    if train == False and nb_file==None:\n",
    "        nb_file = np.sum(np.array(database.dblabels) == 2)\n",
    "    if train== True:\n",
    "        mode = 1\n",
    "        if verbose!=0:\n",
    "            print('coding on training db')\n",
    "    else :\n",
    "        if verbose!=0:\n",
    "            print('coding on testing db')\n",
    "        mode = 2\n",
    "        \n",
    "    nb_dico = dico.shape[0]\n",
    "    all_histo = np.zeros((nb_file,nb_dico))\n",
    "    labels = np.zeros(nb_file)\n",
    "    idx_train = 1\n",
    "    for idf, dblabel in enumerate(database.dblabels):\n",
    "        if dblabel == mode :\n",
    "            if (verbose!=0) and (idx_train % 10 == 0):\n",
    "                print('coded file {0}/{1}'.format(idx_train, nb_file))\n",
    "            \n",
    "            histo = np.zeros(nb_dico).astype(int)\n",
    "\n",
    "            filepath = database.path + database.filenames[idf]\n",
    "            event = LoadGestureDB(filepath, OutOnePolarity=True)\n",
    "            Surface_Layer1 = SpTe_Layer1.create(event = event,kernel='linear')\n",
    "            filt = np.sum(Surface_Layer1, axis = 1) > 2*R\n",
    "            Surface_Layer2 = Surface_Layer1[filt,:] \n",
    "            corr = Surface_Layer2 @ dico.T\n",
    "            for idx, Si in enumerate(Surface_Layer2):\n",
    "                c = corr[idx, :].copy()\n",
    "                closest_proto_idx = np.argmax(c)\n",
    "                #Distance_to_proto = np.linalg.norm(Si - Prototype1,ord=2,axis=1)\n",
    "                #closest_proto_idx = np.argmin(Distance_to_proto)\n",
    "                histo[closest_proto_idx] += 1\n",
    "\n",
    "            all_histo[idx_train-1,:] = histo/np.sum(histo)\n",
    "            labels[idx_train-1] = database.labelids[idf]\n",
    "            if idx_train == nb_file:\n",
    "                break\n",
    "            idx_train+=1\n",
    "    return (all_histo,labels)"
   ]
  }
 ],
 "metadata": {
  "kernelspec": {
   "display_name": "Python 3",
   "language": "python",
   "name": "python3"
  },
  "language_info": {
   "codemirror_mode": {
    "name": "ipython",
    "version": 3
   },
   "file_extension": ".py",
   "mimetype": "text/x-python",
   "name": "python",
   "nbconvert_exporter": "python",
   "pygments_lexer": "ipython3",
   "version": "3.8.5"
  }
 },
 "nbformat": 4,
 "nbformat_minor": 4
}
