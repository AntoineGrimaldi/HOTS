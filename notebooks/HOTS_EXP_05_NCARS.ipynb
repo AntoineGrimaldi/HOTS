{
 "cells": [
  {
   "cell_type": "code",
   "execution_count": 1,
   "metadata": {
    "execution": {
     "iopub.execute_input": "2021-01-06T18:16:20.063046Z",
     "iopub.status.busy": "2021-01-06T18:16:20.062230Z",
     "iopub.status.idle": "2021-01-06T18:16:20.343944Z",
     "shell.execute_reply": "2021-01-06T18:16:20.344691Z"
    }
   },
   "outputs": [
    {
     "name": "stdout",
     "output_type": "stream",
     "text": [
      "/home/antoine/hots/HOTS/HOTS\n"
     ]
    }
   ],
   "source": [
    "%load_ext autoreload\n",
    "%autoreload 2\n",
    "%matplotlib inline\n",
    "%cd '../HOTS'"
   ]
  },
  {
   "cell_type": "code",
   "execution_count": 2,
   "metadata": {
    "execution": {
     "iopub.execute_input": "2021-01-06T18:16:20.353118Z",
     "iopub.status.busy": "2021-01-06T18:16:20.351575Z",
     "iopub.status.idle": "2021-01-06T18:16:21.523931Z",
     "shell.execute_reply": "2021-01-06T18:16:21.525131Z"
    }
   },
   "outputs": [],
   "source": [
    "import os\n",
    "import pickle\n",
    "import datetime\n",
    "from mix_Network import *\n",
    "\n",
    "dataset = 'gesture'\n",
    "records_path = '../Records'\n",
    "timestr = datetime.datetime.now().date().isoformat()\n",
    "timestr = '2021-01-06'\n",
    "\n",
    "\n",
    "%mkdir -p ../Records\n",
    "%mkdir -p ../Records/EXP_03_NMNIST\n",
    "\n",
    "homeo = True\n",
    "sigma = 1\n",
    "pooling = False\n",
    "homeinv = False\n",
    "jitter = False\n",
    "tau = 5\n",
    "nb_train = 500\n",
    "nb_test = 100\n",
    "krnlinit = 'rdn'\n",
    "nblay = 3\n",
    "nbclust = 8\n",
    "filt = 2"
   ]
  },
  {
   "cell_type": "code",
   "execution_count": 3,
   "metadata": {
    "execution": {
     "iopub.execute_input": "2021-01-06T18:16:21.537113Z",
     "iopub.status.busy": "2021-01-06T18:16:21.535372Z",
     "iopub.status.idle": "2021-01-06T18:16:21.551920Z",
     "shell.execute_reply": "2021-01-06T18:16:21.553094Z"
    }
   },
   "outputs": [],
   "source": [
    "def makehisto(filt, tau, krnlinit, nblay, nbclust, homeo, records_path, timestr, dataset, sigma, homeinv, jitter, nb_train, nb_test):\n",
    "    if pooling:\n",
    "        hotshom = poolingnetwork(krnlinit=krnlinit, filt=filt, tau=tau, nblay=nblay, nbclust=nbclust, homeo=homeo, sigma=sigma, homeinv=homeinv, jitter=jitter)\n",
    "    else:\n",
    "        hotshom = network(krnlinit=krnlinit, filt=filt, tau=tau, nblay=nblay, nbclust=nbclust, homeo=homeo, sigma=sigma, homeinv=homeinv, jitter=jitter)\n",
    "    arch = [hotshom.L[i].kernel.shape[1] for i in range(len(hotshom.L))]\n",
    "    fname = f'{records_path}/EXP_03_NMNIST/{timestr}_hots_{dataset}_{arch}_{krnlinit}_{tau}_{homeo}_{sigma}_{homeinv}_{jitter}'\n",
    "    print(fname)\n",
    "    if not os.path.isfile(fname+'_model.pkl'):\n",
    "        loaderhom, order = hotshom.learningall(dataset=dataset)\n",
    "        with open(fname+'_model.pkl', 'wb') as file:\n",
    "            pickle.dump([hotshom, loaderhom, order], file, pickle.HIGHEST_PROTOCOL)\n",
    "    else:\n",
    "        with open(fname+'_model.pkl', 'rb') as file:\n",
    "            hotshom, loaderhom, order = pickle.load(file)\n",
    "    hotshom.plotlayer()  \n",
    "    if not os.path.isfile(fname+f'_histo_{nb_train}_{nb_test}.pkl'):       \n",
    "        trainmaphom, loaderhom, _ = hotshom.running(loaderhom, order, nb_digit = nb_train)\n",
    "        testmaphom, loaderhom, _ = hotshom.running(loaderhom, order, nb_digit = nb_test)\n",
    "        with open(fname+f'_histo_{nb_train}_{nb_test}.pkl', 'wb') as file:\n",
    "            pickle.dump([trainmaphom, testmaphom], file, pickle.HIGHEST_PROTOCOL)\n",
    "    else:\n",
    "        with open(fname+f'_histo_{nb_train}_{nb_test}.pkl', 'rb') as file:\n",
    "            trainmaphom, testmaphom = pickle.load(file)\n",
    "    histoscore(trainmaphom,testmaphom)\n",
    "    return hotshom, loaderhom, order, trainmaphom, testmaphom"
   ]
  },
  {
   "cell_type": "code",
   "execution_count": 4,
   "metadata": {
    "execution": {
     "iopub.execute_input": "2021-01-06T18:16:21.559565Z",
     "iopub.status.busy": "2021-01-06T18:16:21.558000Z",
     "iopub.status.idle": "2021-01-06T18:16:21.644937Z",
     "shell.execute_reply": "2021-01-06T18:16:21.644550Z"
    }
   },
   "outputs": [
    {
     "ename": "TypeError",
     "evalue": "makehisto() missing 1 required positional argument: 'nb_test'",
     "output_type": "error",
     "traceback": [
      "\u001b[0;31m---------------------------------------------------------------------------\u001b[0m",
      "\u001b[0;31mTypeError\u001b[0m                                 Traceback (most recent call last)",
      "\u001b[0;32m<ipython-input-1-8f9930cb4ce0>\u001b[0m in \u001b[0;36m<module>\u001b[0;34m\u001b[0m\n\u001b[0;32m----> 1\u001b[0;31m \u001b[0mmakehisto\u001b[0m\u001b[0;34m(\u001b[0m\u001b[0mtau\u001b[0m\u001b[0;34m,\u001b[0m \u001b[0mkrnlinit\u001b[0m\u001b[0;34m,\u001b[0m \u001b[0mnblay\u001b[0m\u001b[0;34m,\u001b[0m \u001b[0mnbclust\u001b[0m\u001b[0;34m,\u001b[0m \u001b[0mhomeo\u001b[0m\u001b[0;34m,\u001b[0m \u001b[0mrecords_path\u001b[0m\u001b[0;34m,\u001b[0m \u001b[0mtimestr\u001b[0m\u001b[0;34m,\u001b[0m \u001b[0mdataset\u001b[0m\u001b[0;34m,\u001b[0m \u001b[0msigma\u001b[0m\u001b[0;34m,\u001b[0m \u001b[0mhomeinv\u001b[0m\u001b[0;34m,\u001b[0m \u001b[0mjitter\u001b[0m\u001b[0;34m,\u001b[0m \u001b[0mnb_train\u001b[0m\u001b[0;34m,\u001b[0m \u001b[0mnb_test\u001b[0m\u001b[0;34m)\u001b[0m\u001b[0;34m;\u001b[0m\u001b[0;34m\u001b[0m\u001b[0;34m\u001b[0m\u001b[0m\n\u001b[0m",
      "\u001b[0;31mTypeError\u001b[0m: makehisto() missing 1 required positional argument: 'nb_test'"
     ]
    }
   ],
   "source": [
    "makehisto(tau, krnlinit, nblay, nbclust, homeo, records_path, timestr, dataset, sigma, homeinv, jitter, nb_train, nb_test);"
   ]
  },
  {
   "cell_type": "code",
   "execution_count": 5,
   "metadata": {
    "execution": {
     "iopub.execute_input": "2021-01-06T18:16:21.650401Z",
     "iopub.status.busy": "2021-01-06T18:16:21.648914Z",
     "iopub.status.idle": "2021-01-06T18:16:21.668017Z",
     "shell.execute_reply": "2021-01-06T18:16:21.669257Z"
    }
   },
   "outputs": [
    {
     "ename": "TypeError",
     "evalue": "makehisto() missing 1 required positional argument: 'nb_test'",
     "output_type": "error",
     "traceback": [
      "\u001b[0;31m---------------------------------------------------------------------------\u001b[0m",
      "\u001b[0;31mTypeError\u001b[0m                                 Traceback (most recent call last)",
      "\u001b[0;32m<ipython-input-1-43dea0f98a30>\u001b[0m in \u001b[0;36m<module>\u001b[0;34m\u001b[0m\n\u001b[1;32m      1\u001b[0m \u001b[0;32mfor\u001b[0m \u001b[0mdataset\u001b[0m \u001b[0;32min\u001b[0m \u001b[0;34m[\u001b[0m\u001b[0;34m'ncaltech'\u001b[0m\u001b[0;34m,\u001b[0m \u001b[0;34m'cars'\u001b[0m\u001b[0;34m,\u001b[0m \u001b[0;34m'poker'\u001b[0m\u001b[0;34m]\u001b[0m\u001b[0;34m:\u001b[0m\u001b[0;34m\u001b[0m\u001b[0;34m\u001b[0m\u001b[0m\n\u001b[0;32m----> 2\u001b[0;31m     \u001b[0mmakehisto\u001b[0m\u001b[0;34m(\u001b[0m\u001b[0mtau\u001b[0m\u001b[0;34m,\u001b[0m \u001b[0mkrnlinit\u001b[0m\u001b[0;34m,\u001b[0m \u001b[0mnblay\u001b[0m\u001b[0;34m,\u001b[0m \u001b[0mnbclust\u001b[0m\u001b[0;34m,\u001b[0m \u001b[0mhomeo\u001b[0m\u001b[0;34m,\u001b[0m \u001b[0mrecords_path\u001b[0m\u001b[0;34m,\u001b[0m \u001b[0mtimestr\u001b[0m\u001b[0;34m,\u001b[0m \u001b[0mdataset\u001b[0m\u001b[0;34m,\u001b[0m \u001b[0msigma\u001b[0m\u001b[0;34m,\u001b[0m \u001b[0mhomeinv\u001b[0m\u001b[0;34m,\u001b[0m \u001b[0mjitter\u001b[0m\u001b[0;34m,\u001b[0m \u001b[0mnb_train\u001b[0m\u001b[0;34m,\u001b[0m \u001b[0mnb_test\u001b[0m\u001b[0;34m)\u001b[0m\u001b[0;34m;\u001b[0m\u001b[0;34m\u001b[0m\u001b[0;34m\u001b[0m\u001b[0m\n\u001b[0m",
      "\u001b[0;31mTypeError\u001b[0m: makehisto() missing 1 required positional argument: 'nb_test'"
     ]
    }
   ],
   "source": [
    "for dataset in ['ncaltech', 'cars', 'poker']:\n",
    "    makehisto(tau, krnlinit, nblay, nbclust, homeo, records_path, timestr, dataset, sigma, homeinv, jitter, nb_train, nb_test);"
   ]
  },
  {
   "cell_type": "code",
   "execution_count": null,
   "metadata": {},
   "outputs": [],
   "source": []
  }
 ],
 "metadata": {
  "kernelspec": {
   "display_name": "Python 3",
   "language": "python",
   "name": "python3"
  },
  "language_info": {
   "codemirror_mode": {
    "name": "ipython",
    "version": 3
   },
   "file_extension": ".py",
   "mimetype": "text/x-python",
   "name": "python",
   "nbconvert_exporter": "python",
   "pygments_lexer": "ipython3",
   "version": "3.8.5"
  }
 },
 "nbformat": 4,
 "nbformat_minor": 4
}
