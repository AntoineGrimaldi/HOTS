{
 "cells": [
  {
   "cell_type": "code",
   "execution_count": 1,
   "metadata": {
    "execution": {
     "iopub.execute_input": "2020-11-10T14:28:15.351312Z",
     "iopub.status.busy": "2020-11-10T14:28:15.350743Z",
     "iopub.status.idle": "2020-11-10T14:28:16.743917Z",
     "shell.execute_reply": "2020-11-10T14:28:16.744335Z"
    }
   },
   "outputs": [
    {
     "name": "stdout",
     "output_type": "stream",
     "text": [
      "/Users/laurentperrinet/quantic/science/HomeHots/HOTS_clone_laurent\n"
     ]
    }
   ],
   "source": [
    "%run 2020-11-06_NEW_HOTS_05_LogisticRegression.ipynb"
   ]
  },
  {
   "cell_type": "markdown",
   "metadata": {},
   "source": [
    "### Performing logistic regression with cross-validation\n",
    "\n",
    "https://scikit-learn.org/stable/modules/generated/sklearn.linear_model.LogisticRegressionCV.html\n"
   ]
  },
  {
   "cell_type": "code",
   "execution_count": 2,
   "metadata": {
    "execution": {
     "iopub.execute_input": "2020-11-10T14:28:16.750806Z",
     "iopub.status.busy": "2020-11-10T14:28:16.750253Z",
     "iopub.status.idle": "2020-11-10T14:28:16.942218Z",
     "shell.execute_reply": "2020-11-10T14:28:16.942651Z"
    }
   },
   "outputs": [
    {
     "ename": "TypeError",
     "evalue": "get_events() got an unexpected keyword argument 'hom'",
     "output_type": "error",
     "traceback": [
      "\u001b[0;31m---------------------------------------------------------------------------\u001b[0m",
      "\u001b[0;31mTypeError\u001b[0m                                 Traceback (most recent call last)",
      "\u001b[0;32m<ipython-input-1-65994747f568>\u001b[0m in \u001b[0;36m<module>\u001b[0;34m\u001b[0m\n\u001b[1;32m      7\u001b[0m             \u001b[0mfname_event0_o\u001b[0m \u001b[0;34m=\u001b[0m \u001b[0;34m'Records/EXP_03_NMNIST/'\u001b[0m\u001b[0;34m+\u001b[0m\u001b[0mtimestr\u001b[0m\u001b[0;34m+\u001b[0m\u001b[0;34m'_hots_event0_o.p'\u001b[0m\u001b[0;34m\u001b[0m\u001b[0;34m\u001b[0m\u001b[0m\n\u001b[1;32m      8\u001b[0m \u001b[0;34m\u001b[0m\u001b[0m\n\u001b[0;32m----> 9\u001b[0;31m         \u001b[0mevents_train_o\u001b[0m\u001b[0;34m,\u001b[0m \u001b[0mevents_test_o\u001b[0m \u001b[0;34m=\u001b[0m \u001b[0mget_events\u001b[0m\u001b[0;34m(\u001b[0m\u001b[0mtimestr\u001b[0m\u001b[0;34m,\u001b[0m \u001b[0mtau\u001b[0m\u001b[0;34m=\u001b[0m\u001b[0mtau\u001b[0m\u001b[0;34m,\u001b[0m \u001b[0mhom\u001b[0m\u001b[0;34m=\u001b[0m\u001b[0mhomeo\u001b[0m\u001b[0;34m)\u001b[0m\u001b[0;34m\u001b[0m\u001b[0;34m\u001b[0m\u001b[0m\n\u001b[0m\u001b[1;32m     10\u001b[0m \u001b[0;34m\u001b[0m\u001b[0m\n\u001b[1;32m     11\u001b[0m         \u001b[0mX\u001b[0m\u001b[0;34m,\u001b[0m \u001b[0my\u001b[0m \u001b[0;34m=\u001b[0m \u001b[0mgather_data\u001b[0m\u001b[0;34m(\u001b[0m\u001b[0mevents_train_o\u001b[0m\u001b[0;34m,\u001b[0m \u001b[0mlabels_train\u001b[0m\u001b[0;34m)\u001b[0m\u001b[0;34m\u001b[0m\u001b[0;34m\u001b[0m\u001b[0m\n",
      "\u001b[0;31mTypeError\u001b[0m: get_events() got an unexpected keyword argument 'hom'"
     ]
    }
   ],
   "source": [
    "tauz = np.array([1e-5,1e-4,2e-4,3e-4,4e-4,5e-4,6e-4,7e-4,8e-4,9e-4,1e-3,1.5e-3,2e-3,2.5e-3,3e-3,4e-3,5e-3,1e-2,2e-2])\n",
    "for homeo in [False, True]:\n",
    "    for tau in tauz:\n",
    "        if homeo:\n",
    "            fname_event0_o = 'Records/EXP_03_NMNIST/'+timestr+'_hots_event0_o_homeo.p'\n",
    "        else:\n",
    "            fname_event0_o = 'Records/EXP_03_NMNIST/'+timestr+'_hots_event0_o.p'\n",
    "\n",
    "        events_train_o, events_test_o = get_events(timestr, tau=tau, hom=homeo)\n",
    "        \n",
    "        X, y = gather_data(events_train_o, labels_train)\n",
    "        X_train, X_test, y_train, y_test = train_test_split(X, y, test_size=0.33, random_state=42)\n",
    "        lr = LR(**opts_LR).fit(X_train, y_train)\n",
    "        print(f'Classification score for {homeo=} & {tau=:.3f} is {lr.score(X_train, y_train):.3f}')\n",
    "        print(f'Classification score for {homeo=} & {tau=:.3f} is {lr.score(X_test, y_test):.3f}')\n",
    "        X_test, y_test = gather_data(events_test_o, labels_test)\n",
    "        print(f'Classification score for {homeo=} & {tau=:.3f} is {lr.score(X_test, y_test):.3f}')\n"
   ]
  }
 ],
 "metadata": {
  "kernelspec": {
   "display_name": "Python 3",
   "language": "python",
   "name": "python3"
  },
  "language_info": {
   "codemirror_mode": {
    "name": "ipython",
    "version": 3
   },
   "file_extension": ".py",
   "mimetype": "text/x-python",
   "name": "python",
   "nbconvert_exporter": "python",
   "pygments_lexer": "ipython3",
   "version": "3.9.0"
  }
 },
 "nbformat": 4,
 "nbformat_minor": 4
}
