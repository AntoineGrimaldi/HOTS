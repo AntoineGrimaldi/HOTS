{
 "cells": [
  {
   "cell_type": "code",
   "execution_count": null,
   "metadata": {},
   "outputs": [],
   "source": [
    "%run 2020-11-06_NEW_HOTS_05_LogisticRegression.ipynb"
   ]
  },
  {
   "cell_type": "markdown",
   "metadata": {},
   "source": [
    "### Performing logistic regression with cross-validation\n",
    "\n",
    "https://scikit-learn.org/stable/modules/generated/sklearn.linear_model.LogisticRegressionCV.html\n"
   ]
  },
  {
   "cell_type": "code",
   "execution_count": null,
   "metadata": {},
   "outputs": [],
   "source": [
    "tauz = np.array([1e-5,1e-4,2e-4,3e-4,4e-4,5e-4,6e-4,7e-4,8e-4,9e-4,1e-3,1.5e-3,2e-3,2.5e-3,3e-3,4e-3,5e-3,1e-2,2e-2])\n",
    "for homeo in [False, True]:\n",
    "    print(40*'-')\n",
    "    print(f'{homeo=})\n",
    "    print(40*'-')\n",
    "    for tau_ in tauz:\n",
    "        events_train_o, events_test_o = get_events(timestr, tau=tau_, homeo=homeo)\n",
    "        \n",
    "        X, y = gather_data(events_train_o, labels_train)\n",
    "        X_train, X_test, y_train, y_test = train_test_split(X, y, test_size=0.33, random_state=42)\n",
    "        lr = LR(**opts_LR).fit(X_train, y_train)\n",
    "        print(f'Classification score for {homeo=} & {tau_=:.3f} is {lr.score(X_train, y_train):.3f}')\n",
    "        print(f'Classification score for {homeo=} & {tau_=:.3f} is {lr.score(X_test, y_test):.3f}')\n",
    "        X_test, y_test = gather_data(events_test_o, labels_test)\n",
    "        print(f'Classification score for {homeo=} & {tau_=:.3f} is {lr.score(X_test, y_test):.3f}')\n"
   ]
  }
 ],
 "metadata": {
  "kernelspec": {
   "display_name": "Python 3",
   "language": "python",
   "name": "python3"
  },
  "language_info": {
   "codemirror_mode": {
    "name": "ipython",
    "version": 3
   },
   "file_extension": ".py",
   "mimetype": "text/x-python",
   "name": "python",
   "nbconvert_exporter": "python",
   "pygments_lexer": "ipython3",
   "version": "3.9.0"
  }
 },
 "nbformat": 4,
 "nbformat_minor": 4
}
