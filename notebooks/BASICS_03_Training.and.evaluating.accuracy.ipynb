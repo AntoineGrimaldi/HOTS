{
 "cells": [
  {
   "cell_type": "code",
   "execution_count": 1,
   "metadata": {
    "collapsed": false,
    "jupyter": {
     "outputs_hidden": false
    }
   },
   "outputs": [
    {
     "name": "stdout",
     "output_type": "stream",
     "text": [
      "/Users/joe/Documents/boulot/git/homhots/HOTS\n"
     ]
    }
   ],
   "source": [
    "%load_ext autoreload\n",
    "%autoreload 2\n",
    "%matplotlib inline\n",
    "%cd '../'"
   ]
  },
  {
   "cell_type": "code",
   "execution_count": 2,
   "metadata": {
    "collapsed": false,
    "jupyter": {
     "outputs_hidden": false
    }
   },
   "outputs": [],
   "source": [
    "import numpy as np\n",
    "import matplotlib.pyplot as plt\n",
    "\n",
    "from HOTS.Event import Event, SimpleAlphabet\n",
    "from HOTS.Layer import ClusteringLayer, FilterNHBD\n",
    "from HOTS.ToolsMonitor import DisplayImage, DisplayHisto\n",
    "from HOTS.Tools import SaveObject, LoadObject, GenerateHistogram\n",
    "from HOTS.Classifier import Classifier\n",
    "from HOTS.Network import Network\n",
    "from HOTS.ToolsMonitor import DisplaySurface2D"
   ]
  },
  {
   "cell_type": "code",
   "execution_count": 3,
   "metadata": {},
   "outputs": [],
   "source": [
    "tau = 0.02\n",
    "R = 2\n",
    "nb_cluster = [4, 8, 16]\n",
    "ImageSize = (32, 32)"
   ]
  },
  {
   "cell_type": "markdown",
   "metadata": {},
   "source": [
    "This notebook show classification on Simple Alphabet database"
   ]
  },
  {
   "cell_type": "markdown",
   "metadata": {},
   "source": [
    "# Load Clustering, Training and Testing data"
   ]
  },
  {
   "cell_type": "code",
   "execution_count": 4,
   "metadata": {
    "collapsed": false,
    "jupyter": {
     "outputs_hidden": false
    }
   },
   "outputs": [],
   "source": [
    "event_tr, event_te, event_cl, label_tr, label_te = SimpleAlphabet(\n",
    "    NbTrainingData=36,\n",
    "    NbTestingData=40,\n",
    "    ClusteringData=[1, 32, 19, 22, 29],\n",
    "    OutOnePolarity=False,\n",
    "    verbose=0,\n",
    "    Path=\"Data/alphabet_ExtractedStabilized.mat\",\n",
    "    LabelPath=\"Data/alphabet_label.pkl\",\n",
    ")"
   ]
  },
  {
   "cell_type": "markdown",
   "metadata": {},
   "source": [
    "# Defining the Network "
   ]
  },
  {
   "cell_type": "code",
   "execution_count": 5,
   "metadata": {},
   "outputs": [],
   "source": [
    "InputFilter = FilterNHBD(threshold=15, neighbourhood=2)\n",
    "\n",
    "L1 = ClusteringLayer(\n",
    "    tau=tau,\n",
    "    R=R,\n",
    "    verbose=1,\n",
    "    ThrFilter=0,\n",
    "    LearningAlgo=\"lagorce\",\n",
    "    kernel=\"exponential\",\n",
    "    eta=None,\n",
    "    eta_homeo=None,\n",
    "    sigma=None,\n",
    ")\n",
    "\n",
    "L2 = ClusteringLayer(\n",
    "    tau=10 * tau,\n",
    "    R=2 * R,\n",
    "    verbose=1,\n",
    "    ThrFilter=0,\n",
    "    LearningAlgo=\"lagorce\",\n",
    "    kernel=\"exponential\",\n",
    "    eta=None,\n",
    "    eta_homeo=None,\n",
    "    sigma=None,\n",
    ")\n",
    "\n",
    "L3 = ClusteringLayer(\n",
    "    tau=10 * 10 * tau,\n",
    "    R=2 * 2 * R,\n",
    "    verbose=1,\n",
    "    ThrFilter=0,\n",
    "    LearningAlgo=\"lagorce\",\n",
    "    kernel=\"exponential\",\n",
    "    eta=None,\n",
    "    eta_homeo=None,\n",
    "    sigma=None,\n",
    ")\n",
    "\n",
    "Net = Network([InputFilter, L1, L2, L3])"
   ]
  },
  {
   "cell_type": "markdown",
   "metadata": {},
   "source": [
    "# Training the Cluster on 5 images"
   ]
  },
  {
   "cell_type": "code",
   "execution_count": 6,
   "metadata": {
    "collapsed": false,
    "jupyter": {
     "outputs_hidden": false
    }
   },
   "outputs": [
    {
     "name": "stdout",
     "output_type": "stream",
     "text": [
      "Generation of SpatioTemporal Surface in ------ 6.89 s\n",
      "Clustering SpatioTemporal Surface in ------ 2.78 s\n",
      "Generation of SpatioTemporal Surface in ------ 5.26 s\n",
      "Clustering SpatioTemporal Surface in ------ 3.48 s\n",
      "Generation of SpatioTemporal Surface in ------ 9.74 s\n",
      "Clustering SpatioTemporal Surface in ------ 10.75 s\n"
     ]
    }
   ],
   "source": [
    "ClusterLayer, event_output = Net.TrainCluster(\n",
    "    event=event_cl, NbClusterList=nb_cluster, to_record=False, NbCycle=1\n",
    ")"
   ]
  },
  {
   "cell_type": "markdown",
   "metadata": {},
   "source": [
    "# Running the Network on training samples"
   ]
  },
  {
   "cell_type": "code",
   "execution_count": 7,
   "metadata": {
    "collapsed": false,
    "jupyter": {
     "outputs_hidden": false
    }
   },
   "outputs": [
    {
     "name": "stdout",
     "output_type": "stream",
     "text": [
      "Generation of SpatioTemporal Surface in ------ 15.12 s\n",
      "Generation of SpatioTemporal Surface in ------ 19.26 s\n",
      "Generation of SpatioTemporal Surface in ------ 58.01 s\n"
     ]
    }
   ],
   "source": [
    "event_o_tr = Net.RunNetwork(\n",
    "    event_tr, NbClusterList=ClusterLayer, homrun=False, \n",
    ")"
   ]
  },
  {
   "cell_type": "markdown",
   "metadata": {},
   "source": [
    "# Runing the Network on testing samples"
   ]
  },
  {
   "cell_type": "code",
   "execution_count": 8,
   "metadata": {
    "collapsed": false,
    "jupyter": {
     "outputs_hidden": false
    }
   },
   "outputs": [
    {
     "name": "stdout",
     "output_type": "stream",
     "text": [
      "Generation of SpatioTemporal Surface in ------ 18.76 s\n",
      "Generation of SpatioTemporal Surface in ------ 22.54 s\n",
      "Generation of SpatioTemporal Surface in ------ 46.86 s\n"
     ]
    }
   ],
   "source": [
    "event_o_te = Net.RunNetwork(event_te, NbClusterList=ClusterLayer, homrun=False)"
   ]
  },
  {
   "cell_type": "markdown",
   "metadata": {},
   "source": [
    "# Classifying"
   ]
  },
  {
   "cell_type": "code",
   "execution_count": 9,
   "metadata": {
    "collapsed": false,
    "jupyter": {
     "outputs_hidden": false
    }
   },
   "outputs": [
    {
     "name": "stdout",
     "output_type": "stream",
     "text": [
      "battacha:92.5% ### normalized:90.0% ### euclidian:95.0% ### \n"
     ]
    }
   ],
   "source": [
    "Classif0 = Classifier(\n",
    "    event_o_tr, event_o_te, TrainingLabel=label_tr, GroundTruth=label_te\n",
    ")\n",
    "prediction, accuracy, method = Classif0.HistogramDistance(to_print=True)"
   ]
  },
  {
   "cell_type": "code",
   "execution_count": null,
   "metadata": {},
   "outputs": [],
   "source": []
  },
  {
   "cell_type": "code",
   "execution_count": null,
   "metadata": {},
   "outputs": [],
   "source": []
  },
  {
   "cell_type": "code",
   "execution_count": null,
   "metadata": {},
   "outputs": [],
   "source": []
  },
  {
   "cell_type": "code",
   "execution_count": null,
   "metadata": {},
   "outputs": [],
   "source": []
  }
 ],
 "metadata": {
  "kernelspec": {
   "display_name": "Python 3",
   "language": "python",
   "name": "python3"
  },
  "language_info": {
   "codemirror_mode": {
    "name": "ipython",
    "version": 3
   },
   "file_extension": ".py",
   "mimetype": "text/x-python",
   "name": "python",
   "nbconvert_exporter": "python",
   "pygments_lexer": "ipython3",
   "version": "3.7.6"
  },
  "toc-autonumbering": true
 },
 "nbformat": 4,
 "nbformat_minor": 4
}
