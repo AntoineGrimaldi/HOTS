{
 "cells": [
  {
   "cell_type": "code",
   "execution_count": 1,
   "metadata": {
    "collapsed": false,
    "jupyter": {
     "outputs_hidden": false
    }
   },
   "outputs": [
    {
     "name": "stdout",
     "output_type": "stream",
     "text": [
      "/Users/joe/Documents/boulot/git/homhots/HOTS/HOTS\n"
     ]
    }
   ],
   "source": [
    "%load_ext autoreload\n",
    "%autoreload 2\n",
    "%matplotlib inline\n",
    "%cd '../HOTS'"
   ]
  },
  {
   "cell_type": "code",
   "execution_count": 2,
   "metadata": {
    "collapsed": false,
    "jupyter": {
     "outputs_hidden": false
    }
   },
   "outputs": [],
   "source": [
    "import numpy as np\n",
    "import matplotlib.pyplot as plt\n",
    "import cv2\n",
    "import time\n",
    "import os\n",
    "import pickle\n",
    "from mix_Network import *\n",
    "from Event import Event\n",
    "from Tools import LoadObject, EuclidianNorm, NormalizedNorm, BattachaNorm"
   ]
  },
  {
   "cell_type": "markdown",
   "metadata": {},
   "source": [
    "# Defining the network and training"
   ]
  },
  {
   "cell_type": "code",
   "execution_count": null,
   "metadata": {},
   "outputs": [
    {
     "name": "stderr",
     "output_type": "stream",
     "text": [
      "100%|██████████| 223371/223371 [00:40<00:00, 5485.98it/s]\n",
      " 43%|████▎     | 97044/223371 [00:35<00:51, 2461.15it/s]"
     ]
    }
   ],
   "source": [
    "hots = network(algo='lagorce', krnlinit='first', tau=0.00002)\n",
    "hots.learninglagorce(diginit=True)"
   ]
  },
  {
   "cell_type": "code",
   "execution_count": null,
   "metadata": {},
   "outputs": [],
   "source": [
    "hots.plotlayer()"
   ]
  },
  {
   "cell_type": "markdown",
   "metadata": {},
   "source": [
    "# Running the Network on training samples"
   ]
  },
  {
   "cell_type": "code",
   "execution_count": null,
   "metadata": {
    "collapsed": false,
    "jupyter": {
     "outputs_hidden": false
    }
   },
   "outputs": [],
   "source": [
    "trainmap = hots.traininglagorce()"
   ]
  },
  {
   "cell_type": "markdown",
   "metadata": {},
   "source": [
    "# Runing the Network on testing samples"
   ]
  },
  {
   "cell_type": "code",
   "execution_count": null,
   "metadata": {
    "collapsed": false,
    "jupyter": {
     "outputs_hidden": false
    }
   },
   "outputs": [],
   "source": [
    "testmap = hots.testinglagorce()"
   ]
  },
  {
   "cell_type": "markdown",
   "metadata": {},
   "source": [
    "# Classifying"
   ]
  },
  {
   "cell_type": "code",
   "execution_count": null,
   "metadata": {
    "collapsed": false,
    "jupyter": {
     "outputs_hidden": false
    }
   },
   "outputs": [],
   "source": [
    "def EuclidianNorm(hist1,hist2):\n",
    "    return np.linalg.norm(hist1-hist2)\n",
    "\n",
    "def NormalizedNorm(hist1,hist2):\n",
    "    hist1/=np.sum(hist1)\n",
    "    hist2/=np.sum(hist2)\n",
    "    return np.linalg.norm(hist1-hist2)/(np.linalg.norm(hist1)*np.linalg.norm(hist2))\n",
    "\n",
    "def BattachaNorm(hist1, hist2):\n",
    "    hist1/=np.sum(hist1)\n",
    "    hist2/=np.sum(hist2)\n",
    "    return -np.log(np.sum(np.sqrt(hist1*hist2)))\n",
    "\n",
    "def accuracy(trainmap,testmap,measure):\n",
    "    accuracy=0\n",
    "\n",
    "    for i in range(len(testmap)):\n",
    "        dist = np.zeros([len(trainmap)])\n",
    "        for k in range(len(trainmap)):\n",
    "            if measure=='bhatta':\n",
    "                dist[k] = BattachaNorm(testmap[i][1],trainmap[k][1])\n",
    "            elif measure=='eucli':\n",
    "                dist[k] = EuclidianNorm(testmap[i][1],trainmap[k][1])\n",
    "            elif measure=='norm':\n",
    "                dist[k] = NormalizedNorm(testmap[i][1],trainmap[k][1])\n",
    "        if testmap[i][0]==trainmap[np.argmin(dist)][0]:\n",
    "            accuracy+=1\n",
    "    return accuracy"
   ]
  },
  {
   "cell_type": "code",
   "execution_count": null,
   "metadata": {},
   "outputs": [],
   "source": [
    "score1=accuracy(trainmap,testmap,'bhatta')\n",
    "score2=accuracy(trainmap,testmap,'eucli')\n",
    "score3=accuracy(trainmap,testmap,'norm')\n",
    "print('bhatta:'+str(score1/0.4)+'% - '+'eucli:'+str(score2/0.4)+'% - '+'norm:'+str(score3/0.4)+'%')"
   ]
  },
  {
   "cell_type": "code",
   "execution_count": null,
   "metadata": {},
   "outputs": [],
   "source": [
    "fname = \"../Records/EXP_01_LagorceKmeans/2020-11-26-mix_hots_validation.pkl\"\n",
    "with open(fname, 'wb') as file:\n",
    "    pickle.dump([hots, trainmap, testmap], file, pickle.HIGHEST_PROTOCOL)"
   ]
  },
  {
   "cell_type": "code",
   "execution_count": null,
   "metadata": {},
   "outputs": [],
   "source": []
  }
 ],
 "metadata": {
  "kernelspec": {
   "display_name": "Python 3",
   "language": "python",
   "name": "python3"
  },
  "language_info": {
   "codemirror_mode": {
    "name": "ipython",
    "version": 3
   },
   "file_extension": ".py",
   "mimetype": "text/x-python",
   "name": "python",
   "nbconvert_exporter": "python",
   "pygments_lexer": "ipython3",
   "version": "3.7.6"
  },
  "toc-autonumbering": true
 },
 "nbformat": 4,
 "nbformat_minor": 4
}
