{
 "cells": [
  {
   "cell_type": "code",
   "execution_count": 1,
   "metadata": {
    "collapsed": false,
    "jupyter": {
     "outputs_hidden": false
    }
   },
   "outputs": [
    {
     "name": "stderr",
     "output_type": "stream",
     "text": [
      "\n",
      "Bad key \"text.kerning_factor\" on line 4 in\n",
      "/usr/local/lib/python3.8/site-packages/matplotlib/mpl-data/stylelib/_classic_test_patch.mplstyle.\n",
      "You probably need to get an updated matplotlibrc file from\n",
      "http://github.com/matplotlib/matplotlib/blob/master/matplotlibrc.template\n",
      "or from the matplotlib source distribution\n"
     ]
    }
   ],
   "source": [
    "%load_ext autoreload\n",
    "%autoreload 2\n",
    "%matplotlib inline"
   ]
  },
  {
   "cell_type": "code",
   "execution_count": 2,
   "metadata": {
    "collapsed": false,
    "jupyter": {
     "outputs_hidden": false
    }
   },
   "outputs": [
    {
     "ename": "ModuleNotFoundError",
     "evalue": "No module named 'HOTS.ToolsMonitor'",
     "output_type": "error",
     "traceback": [
      "\u001b[0;31m---------------------------------------------------------------------------\u001b[0m",
      "\u001b[0;31mModuleNotFoundError\u001b[0m                       Traceback (most recent call last)",
      "\u001b[0;32m<ipython-input-2-e9be49dd9f3e>\u001b[0m in \u001b[0;36m<module>\u001b[0;34m\u001b[0m\n\u001b[1;32m      4\u001b[0m \u001b[0;32mfrom\u001b[0m \u001b[0mHOTS\u001b[0m\u001b[0;34m.\u001b[0m\u001b[0mEvent\u001b[0m \u001b[0;32mimport\u001b[0m \u001b[0mEvent\u001b[0m\u001b[0;34m,\u001b[0m \u001b[0mSimpleAlphabet\u001b[0m\u001b[0;34m\u001b[0m\u001b[0;34m\u001b[0m\u001b[0m\n\u001b[1;32m      5\u001b[0m \u001b[0;32mfrom\u001b[0m \u001b[0mHOTS\u001b[0m\u001b[0;34m.\u001b[0m\u001b[0mLayer\u001b[0m \u001b[0;32mimport\u001b[0m \u001b[0mClusteringLayer\u001b[0m\u001b[0;34m,\u001b[0m \u001b[0mFilterNHBD\u001b[0m\u001b[0;34m\u001b[0m\u001b[0;34m\u001b[0m\u001b[0m\n\u001b[0;32m----> 6\u001b[0;31m \u001b[0;32mfrom\u001b[0m \u001b[0mHOTS\u001b[0m\u001b[0;34m.\u001b[0m\u001b[0mToolsMonitor\u001b[0m \u001b[0;32mimport\u001b[0m \u001b[0mDisplayImage\u001b[0m\u001b[0;34m,\u001b[0m \u001b[0mDisplayHisto\u001b[0m\u001b[0;34m\u001b[0m\u001b[0;34m\u001b[0m\u001b[0m\n\u001b[0m\u001b[1;32m      7\u001b[0m \u001b[0;32mfrom\u001b[0m \u001b[0mHOTS\u001b[0m\u001b[0;34m.\u001b[0m\u001b[0mTools\u001b[0m \u001b[0;32mimport\u001b[0m \u001b[0mSaveObject\u001b[0m\u001b[0;34m,\u001b[0m \u001b[0mLoadObject\u001b[0m\u001b[0;34m,\u001b[0m \u001b[0mGenerateHistogram\u001b[0m\u001b[0;34m\u001b[0m\u001b[0;34m\u001b[0m\u001b[0m\n\u001b[1;32m      8\u001b[0m \u001b[0;32mfrom\u001b[0m \u001b[0mHOTS\u001b[0m\u001b[0;34m.\u001b[0m\u001b[0mClassifier\u001b[0m \u001b[0;32mimport\u001b[0m \u001b[0mClassifier\u001b[0m\u001b[0;34m\u001b[0m\u001b[0;34m\u001b[0m\u001b[0m\n",
      "\u001b[0;31mModuleNotFoundError\u001b[0m: No module named 'HOTS.ToolsMonitor'"
     ]
    }
   ],
   "source": [
    "import numpy as np\n",
    "import matplotlib.pyplot as plt\n",
    "\n",
    "from HOTS.Event import Event, SimpleAlphabet\n",
    "from HOTS.Layer import ClusteringLayer, FilterNHBD\n",
    "from HOTS.ToolsMonitor import DisplayImage, DisplayHisto\n",
    "from HOTS.Tools import SaveObject, LoadObject, GenerateHistogram\n",
    "from HOTS.Classifier import Classifier\n",
    "from HOTS.Network import Network\n",
    "from HOTS.ToolsMonitor import DisplaySurface2D"
   ]
  },
  {
   "cell_type": "code",
   "execution_count": null,
   "metadata": {},
   "outputs": [],
   "source": [
    "tau = 0.02\n",
    "R = 2\n",
    "nb_cluster = [4, 8, 16]\n",
    "ImageSize = (32, 32)"
   ]
  },
  {
   "cell_type": "markdown",
   "metadata": {},
   "source": [
    "This notebook show classification on Simple Alphabet database"
   ]
  },
  {
   "cell_type": "markdown",
   "metadata": {},
   "source": [
    "# Load Clustering, Training and Testing data"
   ]
  },
  {
   "cell_type": "code",
   "execution_count": null,
   "metadata": {
    "collapsed": false,
    "jupyter": {
     "outputs_hidden": false
    }
   },
   "outputs": [],
   "source": [
    "event_tr, event_te, event_cl, label_tr, label_te = SimpleAlphabet(\n",
    "    NbTrainingData=36,\n",
    "    NbTestingData=40,\n",
    "    ClusteringData=[1, 32, 19, 22, 29],\n",
    "    OutOnePolarity=False,\n",
    "    verbose=0,\n",
    "    Path=\"../data/alphabet_ExtractedStabilized.mat\",\n",
    "    LabelPath=\"../data/alphabet_label.pkl\",\n",
    ")"
   ]
  },
  {
   "cell_type": "markdown",
   "metadata": {},
   "source": [
    "# Defining the Network "
   ]
  },
  {
   "cell_type": "code",
   "execution_count": null,
   "metadata": {},
   "outputs": [],
   "source": [
    "InputFilter = FilterNHBD(threshold=15, neighbourhood=2)\n",
    "L1 = ClusteringLayer(\n",
    "    tau=tau,\n",
    "    R=R,\n",
    "    verbose=1,\n",
    "    ThrFilter=0,\n",
    "    LearningAlgo=\"lagorce\",\n",
    "    kernel=\"exponential\",\n",
    "    eta=None,\n",
    "    eta_homeo=None,\n",
    "    sigma=None,\n",
    ")\n",
    "L2 = ClusteringLayer(\n",
    "    tau=10 * tau,\n",
    "    R=2 * R,\n",
    "    verbose=1,\n",
    "    ThrFilter=0,\n",
    "    LearningAlgo=\"lagorce\",\n",
    "    kernel=\"exponential\",\n",
    "    eta=None,\n",
    "    eta_homeo=None,\n",
    "    sigma=None,\n",
    ")\n",
    "L3 = ClusteringLayer(\n",
    "    tau=10 * 10 * tau,\n",
    "    R=2 * 2 * R,\n",
    "    verbose=1,\n",
    "    ThrFilter=0,\n",
    "    LearningAlgo=\"lagorce\",\n",
    "    kernel=\"exponential\",\n",
    "    eta=None,\n",
    "    eta_homeo=None,\n",
    "    sigma=None,\n",
    ")\n",
    "Net = Network([InputFilter, L1, L2, L3])"
   ]
  },
  {
   "cell_type": "markdown",
   "metadata": {},
   "source": [
    "# Training the Cluster on 5 images"
   ]
  },
  {
   "cell_type": "code",
   "execution_count": null,
   "metadata": {
    "collapsed": false,
    "jupyter": {
     "outputs_hidden": false
    }
   },
   "outputs": [],
   "source": [
    "ClusterLayer, event_output = Net.TrainCluster(\n",
    "    event=event_cl, NbClusterList=nb_cluster, to_record=False, NbCycle=1\n",
    ")"
   ]
  },
  {
   "cell_type": "markdown",
   "metadata": {},
   "source": [
    "# Running the Network on training samples"
   ]
  },
  {
   "cell_type": "code",
   "execution_count": null,
   "metadata": {
    "collapsed": false,
    "jupyter": {
     "outputs_hidden": false
    }
   },
   "outputs": [],
   "source": [
    "event_o_tr = Net.RunNetwork(\n",
    "    event_tr, NbClusterList=ClusterLayer\n",
    ")  "
   ]
  },
  {
   "cell_type": "markdown",
   "metadata": {},
   "source": [
    "# Runing the Network on testing samples"
   ]
  },
  {
   "cell_type": "code",
   "execution_count": null,
   "metadata": {
    "collapsed": false,
    "jupyter": {
     "outputs_hidden": false
    }
   },
   "outputs": [],
   "source": [
    "event_o_te = Net.RunNetwork(event_te, NbClusterList=ClusterLayer)"
   ]
  },
  {
   "cell_type": "markdown",
   "metadata": {},
   "source": [
    "# Classifying"
   ]
  },
  {
   "cell_type": "code",
   "execution_count": null,
   "metadata": {
    "collapsed": false,
    "jupyter": {
     "outputs_hidden": false
    }
   },
   "outputs": [],
   "source": [
    "Classif0 = Classifier(\n",
    "    event_o_tr, event_o_te, TrainingLabel=label_tr, GroundTruth=label_te\n",
    ")\n",
    "prediction, accuracy, method = Classif0.HistogramDistance(to_print=True)"
   ]
  }
 ],
 "metadata": {
  "kernelspec": {
   "display_name": "Python 3",
   "language": "python",
   "name": "python3"
  },
  "language_info": {
   "codemirror_mode": {
    "name": "ipython",
    "version": 3
   },
   "file_extension": ".py",
   "mimetype": "text/x-python",
   "name": "python",
   "nbconvert_exporter": "python",
   "pygments_lexer": "ipython3",
   "version": "3.8.5"
  },
  "toc-autonumbering": true
 },
 "nbformat": 4,
 "nbformat_minor": 4
}
