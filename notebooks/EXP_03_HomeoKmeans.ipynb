{
 "cells": [
  {
   "cell_type": "markdown",
   "metadata": {},
   "source": [
    "# Different Configuration using Homeostasis with Kmeans"
   ]
  },
  {
   "cell_type": "code",
   "execution_count": 1,
   "metadata": {
    "collapsed": false,
    "jupyter": {
     "outputs_hidden": false
    }
   },
   "outputs": [
    {
     "name": "stderr",
     "output_type": "stream",
     "text": [
      "\n",
      "Bad key \"text.kerning_factor\" on line 4 in\n",
      "/usr/local/lib/python3.8/site-packages/matplotlib/mpl-data/stylelib/_classic_test_patch.mplstyle.\n",
      "You probably need to get an updated matplotlibrc file from\n",
      "http://github.com/matplotlib/matplotlib/blob/master/matplotlibrc.template\n",
      "or from the matplotlib source distribution\n"
     ]
    }
   ],
   "source": [
    "%load_ext autoreload\n",
    "%autoreload 2\n",
    "%matplotlib inline"
   ]
  },
  {
   "cell_type": "code",
   "execution_count": 2,
   "metadata": {
    "collapsed": false,
    "jupyter": {
     "outputs_hidden": false
    }
   },
   "outputs": [],
   "source": [
    "import numpy as np\n",
    "import matplotlib.pyplot as plt\n",
    "\n",
    "import os\n",
    "from HOTS.ToolsMonitor import GenerateActivationMap, DisplayActivationMap\n",
    "from HOTS.Event import Event, SimpleAlphabet\n",
    "from HOTS.STS import STS\n",
    "from HOTS.Layer import ClusteringLayer\n",
    "from HOTS.ToolsMonitor import (\n",
    "    DisplayImage,\n",
    "    DisplaySurface3D,\n",
    "    DisplaySurface2D,\n",
    "    DisplayConvergence,\n",
    ")\n",
    "from HOTS.Tools import SaveObject, LoadObject\n",
    "from HOTS.Classifier import Classifier\n",
    "from HOTS.Network import Network\n",
    "from HOTS.KmeansHomeo import KmeansHomeo"
   ]
  },
  {
   "cell_type": "markdown",
   "metadata": {},
   "source": [
    "# Defining Common parameter"
   ]
  },
  {
   "cell_type": "code",
   "execution_count": null,
   "metadata": {},
   "outputs": [],
   "source": []
  },
  {
   "cell_type": "code",
   "execution_count": null,
   "metadata": {},
   "outputs": [],
   "source": []
  },
  {
   "cell_type": "code",
   "execution_count": 3,
   "metadata": {},
   "outputs": [],
   "source": [
    "tau = 0.02\n",
    "R = 2\n",
    "nb_cluster = [4, 8, 16]\n",
    "eta_list = [1e-5, 1e-5, 1e-5]\n",
    "eta_homeo_list = [1e-3, 1e-3, 1e-3]\n",
    "C_list = [6, 18, 40]\n",
    "ImageSize = (32, 32)\n",
    "DataPath = \"../data/alphabet_ExtractedStabilized.mat\"\n",
    "LabelPath = \"../data/alphabet_label.pkl\""
   ]
  },
  {
   "cell_type": "markdown",
   "metadata": {},
   "source": [
    "# StepbyStep Training"
   ]
  },
  {
   "cell_type": "code",
   "execution_count": 4,
   "metadata": {
    "collapsed": false,
    "jupyter": {
     "outputs_hidden": false
    }
   },
   "outputs": [
    {
     "data": {
      "text/plain": [
       "\"\\nimage_list = [1, 32, 19, 22, 29]\\nevent0 = Event(ImageSize=(32,32),OutOnePolarity=False)\\n\\nevent0.LoadFromMat('../data/alphabet_ExtractedStabilized.mat',image_number=image_list)\\n\\n## Layer1\\n\\n    SpTe_Layer1= STS(tau=tau, R=R,verbose=0)\\nSurface_Layer1 = SpTe_Layer1.create(event = event0,kernel='linear')\\n\\nClusterLayer1 = KmeansHomeo(nb_cluster = nb_cluster[0], eta=eta_list[0], eta_homeo=eta_homeo_list[0],\\n                            C=C_list[0], to_record=True, verbose=0)\\nPrototype1 = ClusterLayer1.fit(SpTe_Layer1,NbCycle=3,record_num_batches=10000)\\nevent2,_ = ClusterLayer1.predict(Surface=SpTe_Layer1.Surface,event = event0)\\n## Layer2\\nSpTe_Layer2= STS(tau=10*tau, R=2*R,verbose=0)\\nSurface_Layer2 = SpTe_Layer2.create(event = event2,kernel='linear')\\nClusterLayer2 = KmeansHomeo(nb_cluster = nb_cluster[1], eta=eta_list[1], eta_homeo=eta_homeo_list[1],\\n                            C=C_list[1],to_record=True, verbose=0)\\nPrototype2 = ClusterLayer2.fit(SpTe_Layer2,NbCycle=3,record_num_batches=10000)\\nevent3,_ = ClusterLayer2.predict(Surface=SpTe_Layer2.Surface,event = event2)\\n\\n## Layer3\\nSpTe_Layer3= STS(tau=10*10*tau, R=2*2*R,verbose=0)\\nSurface_Layer3 = SpTe_Layer3.create(event = event3,kernel='linear')\\nClusterLayer3 = KmeansHomeo(nb_cluster = nb_cluster[2], eta=eta_list[2], eta_homeo=eta_homeo_list[2],\\n                            C=C_list[2],to_record=True, verbose=0)\\nPrototype3 = ClusterLayer3.fit(SpTe_Layer3,NbCycle=3,record_num_batches=10000)\\nevent4,_ = ClusterLayer3.predict(Surface=SpTe_Layer3.Surface,event = event3)\\n\""
      ]
     },
     "execution_count": 4,
     "metadata": {},
     "output_type": "execute_result"
    }
   ],
   "source": [
    "\"\"\"\n",
    "image_list = [1, 32, 19, 22, 29]\n",
    "event0 = Event(ImageSize=(32,32),OutOnePolarity=False)\n",
    "\n",
    "event0.LoadFromMat('../data/alphabet_ExtractedStabilized.mat',image_number=image_list)\n",
    "\n",
    "## Layer1\n",
    "\n",
    "    SpTe_Layer1= STS(tau=tau, R=R,verbose=0)\n",
    "Surface_Layer1 = SpTe_Layer1.create(event = event0,kernel='linear')\n",
    "\n",
    "ClusterLayer1 = KmeansHomeo(nb_cluster = nb_cluster[0], eta=eta_list[0], eta_homeo=eta_homeo_list[0],\n",
    "                            C=C_list[0], to_record=True, verbose=0)\n",
    "Prototype1 = ClusterLayer1.fit(SpTe_Layer1,NbCycle=3,record_num_batches=10000)\n",
    "event2,_ = ClusterLayer1.predict(Surface=SpTe_Layer1.Surface,event = event0)\n",
    "## Layer2\n",
    "SpTe_Layer2= STS(tau=10*tau, R=2*R,verbose=0)\n",
    "Surface_Layer2 = SpTe_Layer2.create(event = event2,kernel='linear')\n",
    "ClusterLayer2 = KmeansHomeo(nb_cluster = nb_cluster[1], eta=eta_list[1], eta_homeo=eta_homeo_list[1],\n",
    "                            C=C_list[1],to_record=True, verbose=0)\n",
    "Prototype2 = ClusterLayer2.fit(SpTe_Layer2,NbCycle=3,record_num_batches=10000)\n",
    "event3,_ = ClusterLayer2.predict(Surface=SpTe_Layer2.Surface,event = event2)\n",
    "\n",
    "## Layer3\n",
    "SpTe_Layer3= STS(tau=10*10*tau, R=2*2*R,verbose=0)\n",
    "Surface_Layer3 = SpTe_Layer3.create(event = event3,kernel='linear')\n",
    "ClusterLayer3 = KmeansHomeo(nb_cluster = nb_cluster[2], eta=eta_list[2], eta_homeo=eta_homeo_list[2],\n",
    "                            C=C_list[2],to_record=True, verbose=0)\n",
    "Prototype3 = ClusterLayer3.fit(SpTe_Layer3,NbCycle=3,record_num_batches=10000)\n",
    "event4,_ = ClusterLayer3.predict(Surface=SpTe_Layer3.Surface,event = event3)\n",
    "\"\"\""
   ]
  },
  {
   "cell_type": "code",
   "execution_count": 5,
   "metadata": {
    "collapsed": false,
    "jupyter": {
     "outputs_hidden": false
    }
   },
   "outputs": [],
   "source": [
    "# DisplaySurface2D(ClusterLayer1.prototype,nb_polarities=2)\n",
    "# DisplaySurface2D(ClusterLayer2.prototype, nb_polarities=4)\n",
    "# DisplaySurface2D(ClusterLayer3.prototype, nb_polarities=8)\n",
    "# DisplayConvergence([ClusterLayer1,ClusterLayer2,ClusterLayer3],to_display=['error','histo'])"
   ]
  },
  {
   "cell_type": "markdown",
   "metadata": {},
   "source": [
    "# Experiment with one polarity in input  "
   ]
  },
  {
   "cell_type": "markdown",
   "metadata": {},
   "source": [
    "## Exp1 :  Homeo Kmeans + Linear Kernel +  NoiseFilter(=2)  +  1 Polarity in Input + 3 Cycles"
   ]
  },
  {
   "cell_type": "code",
   "execution_count": null,
   "metadata": {
    "collapsed": false,
    "jupyter": {
     "outputs_hidden": false
    }
   },
   "outputs": [],
   "source": []
  },
  {
   "cell_type": "code",
   "execution_count": 6,
   "metadata": {},
   "outputs": [],
   "source": [
    "%mkdir -p ../Records/EXP_03_HomeoKmeans"
   ]
  },
  {
   "cell_type": "code",
   "execution_count": 7,
   "metadata": {
    "collapsed": false,
    "jupyter": {
     "outputs_hidden": false
    }
   },
   "outputs": [
    {
     "ename": "IndexError",
     "evalue": "index 50 is out of bounds for axis 0 with size 0",
     "output_type": "error",
     "traceback": [
      "\u001b[0;31m---------------------------------------------------------------------------\u001b[0m",
      "\u001b[0;31mIndexError\u001b[0m                                Traceback (most recent call last)",
      "\u001b[0;32m<ipython-input-7-1a609e45ef94>\u001b[0m in \u001b[0;36m<module>\u001b[0;34m\u001b[0m\n\u001b[1;32m     47\u001b[0m \u001b[0;32mif\u001b[0m \u001b[0;32mnot\u001b[0m \u001b[0mos\u001b[0m\u001b[0;34m.\u001b[0m\u001b[0mpath\u001b[0m\u001b[0;34m.\u001b[0m\u001b[0misfile\u001b[0m\u001b[0;34m(\u001b[0m\u001b[0mfname\u001b[0m\u001b[0;34m)\u001b[0m\u001b[0;34m:\u001b[0m\u001b[0;34m\u001b[0m\u001b[0;34m\u001b[0m\u001b[0m\n\u001b[1;32m     48\u001b[0m     \u001b[0;31m#### Training The Cluster on 5 images\u001b[0m\u001b[0;34m\u001b[0m\u001b[0;34m\u001b[0m\u001b[0;34m\u001b[0m\u001b[0m\n\u001b[0;32m---> 49\u001b[0;31m     ClusterLayer, event_output = Net.TrainCluster(\n\u001b[0m\u001b[1;32m     50\u001b[0m         \u001b[0mevent\u001b[0m\u001b[0;34m=\u001b[0m\u001b[0mevent_cl\u001b[0m\u001b[0;34m,\u001b[0m \u001b[0mNbClusterList\u001b[0m\u001b[0;34m=\u001b[0m\u001b[0mnb_cluster\u001b[0m\u001b[0;34m,\u001b[0m \u001b[0mto_record\u001b[0m\u001b[0;34m=\u001b[0m\u001b[0;32mTrue\u001b[0m\u001b[0;34m,\u001b[0m \u001b[0mNbCycle\u001b[0m\u001b[0;34m=\u001b[0m\u001b[0;36m3\u001b[0m\u001b[0;34m\u001b[0m\u001b[0;34m\u001b[0m\u001b[0m\n\u001b[1;32m     51\u001b[0m     )\n",
      "\u001b[0;32m~/quantic/science/SpikeAI/2020---Online-Feature-Detection-/HOTS_clone_laurent/HOTS/Network.py\u001b[0m in \u001b[0;36mTrainCluster\u001b[0;34m(self, event, NbClusterList, to_record, NbCycle)\u001b[0m\n\u001b[1;32m     35\u001b[0m                 \u001b[0mevent_o\u001b[0m \u001b[0;34m=\u001b[0m \u001b[0meach_Layer\u001b[0m\u001b[0;34m.\u001b[0m\u001b[0mRunLayer\u001b[0m\u001b[0;34m(\u001b[0m\u001b[0mevent_i\u001b[0m\u001b[0;34m)\u001b[0m\u001b[0;34m\u001b[0m\u001b[0;34m\u001b[0m\u001b[0m\n\u001b[1;32m     36\u001b[0m             \u001b[0;32melif\u001b[0m \u001b[0meach_Layer\u001b[0m\u001b[0;34m.\u001b[0m\u001b[0mtype\u001b[0m \u001b[0;34m==\u001b[0m \u001b[0;34m'Layer'\u001b[0m\u001b[0;34m:\u001b[0m\u001b[0;34m\u001b[0m\u001b[0;34m\u001b[0m\u001b[0m\n\u001b[0;32m---> 37\u001b[0;31m                 \u001b[0mevent_o\u001b[0m\u001b[0;34m,\u001b[0m \u001b[0mCluster\u001b[0m \u001b[0;34m=\u001b[0m \u001b[0meach_Layer\u001b[0m\u001b[0;34m.\u001b[0m\u001b[0mTrainLayer\u001b[0m\u001b[0;34m(\u001b[0m\u001b[0mevent_i\u001b[0m\u001b[0;34m,\u001b[0m \u001b[0mNbClusterList\u001b[0m\u001b[0;34m[\u001b[0m\u001b[0midx_Layer\u001b[0m\u001b[0;34m]\u001b[0m\u001b[0;34m,\u001b[0m \u001b[0mto_record\u001b[0m\u001b[0;34m=\u001b[0m\u001b[0mto_record\u001b[0m\u001b[0;34m,\u001b[0m \u001b[0mNbCycle\u001b[0m\u001b[0;34m=\u001b[0m\u001b[0mNbCycle\u001b[0m\u001b[0;34m)\u001b[0m\u001b[0;34m\u001b[0m\u001b[0;34m\u001b[0m\u001b[0m\n\u001b[0m\u001b[1;32m     38\u001b[0m                 \u001b[0mClusterList\u001b[0m\u001b[0;34m.\u001b[0m\u001b[0mappend\u001b[0m\u001b[0;34m(\u001b[0m\u001b[0mCluster\u001b[0m\u001b[0;34m)\u001b[0m\u001b[0;34m\u001b[0m\u001b[0;34m\u001b[0m\u001b[0m\n\u001b[1;32m     39\u001b[0m                 \u001b[0midx_Layer\u001b[0m \u001b[0;34m=\u001b[0m \u001b[0midx_Layer\u001b[0m \u001b[0;34m+\u001b[0m \u001b[0;36m1\u001b[0m\u001b[0;34m\u001b[0m\u001b[0;34m\u001b[0m\u001b[0m\n",
      "\u001b[0;32m~/quantic/science/SpikeAI/2020---Online-Feature-Detection-/HOTS_clone_laurent/HOTS/Layer.py\u001b[0m in \u001b[0;36mTrainLayer\u001b[0;34m(self, event, nb_cluster, to_record, NbCycle)\u001b[0m\n\u001b[1;32m    171\u001b[0m \u001b[0;34m\u001b[0m\u001b[0m\n\u001b[1;32m    172\u001b[0m         \u001b[0mself\u001b[0m\u001b[0;34m.\u001b[0m\u001b[0mClusterLayer\u001b[0m\u001b[0;34m.\u001b[0m\u001b[0mnb_cluster\u001b[0m\u001b[0;34m,\u001b[0m \u001b[0mself\u001b[0m\u001b[0;34m.\u001b[0m\u001b[0mClusterLayer\u001b[0m\u001b[0;34m.\u001b[0m\u001b[0mto_record\u001b[0m \u001b[0;34m=\u001b[0m \u001b[0mnb_cluster\u001b[0m\u001b[0;34m,\u001b[0m \u001b[0mto_record\u001b[0m\u001b[0;34m\u001b[0m\u001b[0;34m\u001b[0m\u001b[0m\n\u001b[0;32m--> 173\u001b[0;31m         \u001b[0mPrototype\u001b[0m \u001b[0;34m=\u001b[0m \u001b[0mself\u001b[0m\u001b[0;34m.\u001b[0m\u001b[0mClusterLayer\u001b[0m\u001b[0;34m.\u001b[0m\u001b[0mfit\u001b[0m\u001b[0;34m(\u001b[0m\u001b[0mself\u001b[0m\u001b[0;34m.\u001b[0m\u001b[0mSpTe_Layer\u001b[0m\u001b[0;34m,\u001b[0m \u001b[0mNbCycle\u001b[0m\u001b[0;34m=\u001b[0m\u001b[0mNbCycle\u001b[0m\u001b[0;34m)\u001b[0m\u001b[0;34m\u001b[0m\u001b[0;34m\u001b[0m\u001b[0m\n\u001b[0m\u001b[1;32m    174\u001b[0m         self.output, _ = self.ClusterLayer.predict(\n\u001b[1;32m    175\u001b[0m             Surface=self.SpTe_Layer.Surface, event=event_filtered)\n",
      "\u001b[0;32m~/quantic/science/SpikeAI/2020---Online-Feature-Detection-/HOTS_clone_laurent/HOTS/KmeansHomeo.py\u001b[0m in \u001b[0;36mfit\u001b[0;34m(self, STS, batch_size, NbCycle, record_num_batches)\u001b[0m\n\u001b[1;32m     97\u001b[0m                     \u001b[0mc\u001b[0m \u001b[0;34m=\u001b[0m \u001b[0mcorr\u001b[0m\u001b[0;34m[\u001b[0m\u001b[0mi_sample\u001b[0m\u001b[0;34m,\u001b[0m \u001b[0;34m:\u001b[0m\u001b[0;34m]\u001b[0m\u001b[0;34m.\u001b[0m\u001b[0mcopy\u001b[0m\u001b[0;34m(\u001b[0m\u001b[0;34m)\u001b[0m\u001b[0;34m\u001b[0m\u001b[0;34m\u001b[0m\u001b[0m\n\u001b[1;32m     98\u001b[0m                     \u001b[0;31m#ind = np.argmax(c)\u001b[0m\u001b[0;34m\u001b[0m\u001b[0;34m\u001b[0m\u001b[0;34m\u001b[0m\u001b[0m\n\u001b[0;32m---> 99\u001b[0;31m                     ind = np.argmax(self.quantile(\n\u001b[0m\u001b[1;32m    100\u001b[0m                         self.P_cum, self.rescaling(c), stick))\n\u001b[1;32m    101\u001b[0m                     \u001b[0msparse_code\u001b[0m\u001b[0;34m[\u001b[0m\u001b[0mi_sample\u001b[0m\u001b[0;34m,\u001b[0m \u001b[0mind\u001b[0m\u001b[0;34m]\u001b[0m \u001b[0;34m=\u001b[0m \u001b[0mc\u001b[0m\u001b[0;34m[\u001b[0m\u001b[0mind\u001b[0m\u001b[0;34m]\u001b[0m\u001b[0;34m\u001b[0m\u001b[0;34m\u001b[0m\u001b[0m\n",
      "\u001b[0;32m~/quantic/science/SpikeAI/2020---Online-Feature-Detection-/HOTS_clone_laurent/HOTS/KmeansHomeo.py\u001b[0m in \u001b[0;36mquantile\u001b[0;34m(self, Pcum, p_c, stick)\u001b[0m\n\u001b[1;32m    266\u001b[0m             \u001b[0;34m+\u001b[0m \u001b[0mquantized\u001b[0m \u001b[0mvalue\u001b[0m \u001b[0mof\u001b[0m \u001b[0mthe\u001b[0m \u001b[0mcumulative\u001b[0m \u001b[0mprobability\u001b[0m \u001b[0mdistribution\u001b[0m\u001b[0;34m\u001b[0m\u001b[0;34m\u001b[0m\u001b[0m\n\u001b[1;32m    267\u001b[0m         '''\n\u001b[0;32m--> 268\u001b[0;31m         \u001b[0;32mreturn\u001b[0m \u001b[0mPcum\u001b[0m\u001b[0;34m.\u001b[0m\u001b[0mravel\u001b[0m\u001b[0;34m(\u001b[0m\u001b[0;34m)\u001b[0m\u001b[0;34m[\u001b[0m\u001b[0;34m(\u001b[0m\u001b[0mp_c\u001b[0m\u001b[0;34m*\u001b[0m\u001b[0mPcum\u001b[0m\u001b[0;34m.\u001b[0m\u001b[0mshape\u001b[0m\u001b[0;34m[\u001b[0m\u001b[0;36m1\u001b[0m\u001b[0;34m]\u001b[0m \u001b[0;34m-\u001b[0m \u001b[0;34m(\u001b[0m\u001b[0mp_c\u001b[0m \u001b[0;34m==\u001b[0m \u001b[0;36m1\u001b[0m\u001b[0;34m)\u001b[0m\u001b[0;34m)\u001b[0m\u001b[0;34m.\u001b[0m\u001b[0mastype\u001b[0m\u001b[0;34m(\u001b[0m\u001b[0mnp\u001b[0m\u001b[0;34m.\u001b[0m\u001b[0mint\u001b[0m\u001b[0;34m)\u001b[0m \u001b[0;34m+\u001b[0m \u001b[0mstick\u001b[0m\u001b[0;34m]\u001b[0m\u001b[0;34m\u001b[0m\u001b[0;34m\u001b[0m\u001b[0m\n\u001b[0m",
      "\u001b[0;31mIndexError\u001b[0m: index 50 is out of bounds for axis 0 with size 0"
     ]
    }
   ],
   "source": [
    "event_tr, event_te, event_cl, label_tr, label_te = SimpleAlphabet(\n",
    "    NbTrainingData=36,\n",
    "    NbTestingData=40,\n",
    "    Path=DataPath,\n",
    "    LabelPath=LabelPath,\n",
    "    ClusteringData=[1, 32, 19, 22, 29],\n",
    "    OutOnePolarity=True,\n",
    "    verbose=0,\n",
    ")\n",
    "## Defining the network\n",
    "L1 = ClusteringLayer(\n",
    "    tau=tau,\n",
    "    R=R,\n",
    "    verbose=0,\n",
    "    ThrFilter=2,\n",
    "    LearningAlgo=\"homeo\",\n",
    "    kernel=\"linear\",\n",
    "    eta=eta_list[0],\n",
    "    eta_homeo=eta_homeo_list[0],\n",
    "    C=C_list[0],\n",
    ")\n",
    "L2 = ClusteringLayer(\n",
    "    tau=10 * tau,\n",
    "    R=2 * R,\n",
    "    verbose=0,\n",
    "    ThrFilter=2,\n",
    "    LearningAlgo=\"homeo\",\n",
    "    kernel=\"linear\",\n",
    "    eta=eta_list[1],\n",
    "    eta_homeo=eta_homeo_list[1],\n",
    "    C=C_list[1],\n",
    ")\n",
    "L3 = ClusteringLayer(\n",
    "    tau=10 * 10 * tau,\n",
    "    R=2 * 2 * R,\n",
    "    verbose=0,\n",
    "    ThrFilter=2,\n",
    "    LearningAlgo=\"homeo\",\n",
    "    kernel=\"linear\",\n",
    "    eta=eta_list[2],\n",
    "    eta_homeo=eta_homeo_list[2],\n",
    "    C=C_list[2],\n",
    ")\n",
    "Net = Network([L1, L2, L3])\n",
    "\n",
    "fname = \"../Records/EXP_03_HomeoKmeans/Exp01_2020-04-17.pkl\"\n",
    "if not os.path.isfile(fname):\n",
    "    #### Training The Cluster on 5 images\n",
    "    ClusterLayer, event_output = Net.TrainCluster(\n",
    "        event=event_cl, NbClusterList=nb_cluster, to_record=True, NbCycle=3\n",
    "    )\n",
    "    ## Generating histogram for training samples\n",
    "    event0_o_tr = Net.RunNetwork(event_tr, NbClusterList=ClusterLayer)\n",
    "    ## Generating histogram for the test samples\n",
    "    event0_o_te = Net.RunNetwork(event_te, NbClusterList=ClusterLayer)\n",
    "    Classif0 = Classifier(\n",
    "        event0_o_tr, event0_o_te, TrainingLabel=label_tr, GroundTruth=label_te\n",
    "    )\n",
    "    SaveObject([ClusterLayer, Classif0], fname)\n",
    "else:\n",
    "    ClusterLayer, Classif0 = LoadObject(fname)\n",
    "prediction, accuracy, method = Classif0.HistogramDistance(to_print=True)"
   ]
  },
  {
   "cell_type": "code",
   "execution_count": 8,
   "metadata": {
    "collapsed": false,
    "jupyter": {
     "outputs_hidden": false
    }
   },
   "outputs": [
    {
     "ename": "NameError",
     "evalue": "name 'ClusterLayer' is not defined",
     "output_type": "error",
     "traceback": [
      "\u001b[0;31m---------------------------------------------------------------------------\u001b[0m",
      "\u001b[0;31mNameError\u001b[0m                                 Traceback (most recent call last)",
      "\u001b[0;32m<ipython-input-8-2a62febaa590>\u001b[0m in \u001b[0;36m<module>\u001b[0;34m\u001b[0m\n\u001b[0;32m----> 1\u001b[0;31m \u001b[0mDisplaySurface2D\u001b[0m\u001b[0;34m(\u001b[0m\u001b[0mClusterLayer\u001b[0m\u001b[0;34m[\u001b[0m\u001b[0;36m0\u001b[0m\u001b[0;34m]\u001b[0m\u001b[0;34m.\u001b[0m\u001b[0mprototype\u001b[0m\u001b[0;34m,\u001b[0m \u001b[0mnb_polarities\u001b[0m\u001b[0;34m=\u001b[0m\u001b[0;36m1\u001b[0m\u001b[0;34m)\u001b[0m\u001b[0;34m\u001b[0m\u001b[0;34m\u001b[0m\u001b[0m\n\u001b[0m\u001b[1;32m      2\u001b[0m \u001b[0mDisplaySurface2D\u001b[0m\u001b[0;34m(\u001b[0m\u001b[0mClusterLayer\u001b[0m\u001b[0;34m[\u001b[0m\u001b[0;36m1\u001b[0m\u001b[0;34m]\u001b[0m\u001b[0;34m.\u001b[0m\u001b[0mprototype\u001b[0m\u001b[0;34m,\u001b[0m \u001b[0mnb_polarities\u001b[0m\u001b[0;34m=\u001b[0m\u001b[0;36m4\u001b[0m\u001b[0;34m)\u001b[0m\u001b[0;34m\u001b[0m\u001b[0;34m\u001b[0m\u001b[0m\n\u001b[1;32m      3\u001b[0m \u001b[0mDisplaySurface2D\u001b[0m\u001b[0;34m(\u001b[0m\u001b[0mClusterLayer\u001b[0m\u001b[0;34m[\u001b[0m\u001b[0;36m2\u001b[0m\u001b[0;34m]\u001b[0m\u001b[0;34m.\u001b[0m\u001b[0mprototype\u001b[0m\u001b[0;34m,\u001b[0m \u001b[0mnb_polarities\u001b[0m\u001b[0;34m=\u001b[0m\u001b[0;36m8\u001b[0m\u001b[0;34m)\u001b[0m\u001b[0;34m\u001b[0m\u001b[0;34m\u001b[0m\u001b[0m\n\u001b[1;32m      4\u001b[0m \u001b[0mevent_to_show\u001b[0m \u001b[0;34m=\u001b[0m \u001b[0mEvent\u001b[0m\u001b[0;34m(\u001b[0m\u001b[0mImageSize\u001b[0m\u001b[0;34m=\u001b[0m\u001b[0;34m(\u001b[0m\u001b[0;36m32\u001b[0m\u001b[0;34m,\u001b[0m \u001b[0;36m32\u001b[0m\u001b[0;34m)\u001b[0m\u001b[0;34m,\u001b[0m \u001b[0mListPolarities\u001b[0m\u001b[0;34m=\u001b[0m\u001b[0;34m[\u001b[0m\u001b[0;34m-\u001b[0m\u001b[0;36m1\u001b[0m\u001b[0;34m,\u001b[0m \u001b[0;36m1\u001b[0m\u001b[0;34m]\u001b[0m\u001b[0;34m,\u001b[0m \u001b[0mOutOnePolarity\u001b[0m\u001b[0;34m=\u001b[0m\u001b[0;32mTrue\u001b[0m\u001b[0;34m)\u001b[0m\u001b[0;34m\u001b[0m\u001b[0;34m\u001b[0m\u001b[0m\n\u001b[1;32m      5\u001b[0m \u001b[0mevent_to_show\u001b[0m\u001b[0;34m.\u001b[0m\u001b[0mLoadFromMat\u001b[0m\u001b[0;34m(\u001b[0m\u001b[0;34m\"../data/alphabet_ExtractedStabilized.mat\"\u001b[0m\u001b[0;34m,\u001b[0m \u001b[0mimage_number\u001b[0m\u001b[0;34m=\u001b[0m\u001b[0;36m22\u001b[0m\u001b[0;34m)\u001b[0m\u001b[0;34m\u001b[0m\u001b[0;34m\u001b[0m\u001b[0m\n",
      "\u001b[0;31mNameError\u001b[0m: name 'ClusterLayer' is not defined"
     ]
    }
   ],
   "source": [
    "DisplaySurface2D(ClusterLayer[0].prototype, nb_polarities=1)\n",
    "DisplaySurface2D(ClusterLayer[1].prototype, nb_polarities=4)\n",
    "DisplaySurface2D(ClusterLayer[2].prototype, nb_polarities=8)\n",
    "event_to_show = Event(ImageSize=(32, 32), ListPolarities=[-1, 1], OutOnePolarity=True)\n",
    "event_to_show.LoadFromMat(\"../data/alphabet_ExtractedStabilized.mat\", image_number=22)\n",
    "Net.RunNetwork(event_to_show, NbClusterList=ClusterLayer)\n",
    "mapL1 = GenerateActivationMap(Net.Layers[0].output, ClusterLayer[0])\n",
    "DisplayActivationMap(mapL1, scale=2)\n",
    "mapL2 = GenerateActivationMap(Net.Layers[1].output, ClusterLayer[1])\n",
    "DisplayActivationMap(mapL2, scale=2)\n",
    "mapL3 = GenerateActivationMap(Net.Layers[2].output, ClusterLayer[2])\n",
    "DisplayActivationMap(mapL3, scale=2)\n",
    "\n",
    "DisplayConvergence(ClusterLayer, to_display=[\"error\", \"histo\"])"
   ]
  },
  {
   "cell_type": "markdown",
   "metadata": {},
   "source": [
    "## Exp2 : Homeo Kmeans + Exp Kernel + NoiseFilter(=2) +  1 Polarity in Input + 3 Cycles"
   ]
  },
  {
   "cell_type": "code",
   "execution_count": 9,
   "metadata": {
    "collapsed": false,
    "jupyter": {
     "outputs_hidden": false
    }
   },
   "outputs": [
    {
     "ename": "IndexError",
     "evalue": "index 34 is out of bounds for axis 0 with size 0",
     "output_type": "error",
     "traceback": [
      "\u001b[0;31m---------------------------------------------------------------------------\u001b[0m",
      "\u001b[0;31mIndexError\u001b[0m                                Traceback (most recent call last)",
      "\u001b[0;32m<ipython-input-9-c4177869b14e>\u001b[0m in \u001b[0;36m<module>\u001b[0;34m\u001b[0m\n\u001b[1;32m     47\u001b[0m \u001b[0;32mif\u001b[0m \u001b[0;32mnot\u001b[0m \u001b[0mos\u001b[0m\u001b[0;34m.\u001b[0m\u001b[0mpath\u001b[0m\u001b[0;34m.\u001b[0m\u001b[0misfile\u001b[0m\u001b[0;34m(\u001b[0m\u001b[0mfname\u001b[0m\u001b[0;34m)\u001b[0m\u001b[0;34m:\u001b[0m\u001b[0;34m\u001b[0m\u001b[0;34m\u001b[0m\u001b[0m\n\u001b[1;32m     48\u001b[0m     \u001b[0;31m#### Training The Cluster on 5 images\u001b[0m\u001b[0;34m\u001b[0m\u001b[0;34m\u001b[0m\u001b[0;34m\u001b[0m\u001b[0m\n\u001b[0;32m---> 49\u001b[0;31m     ClusterLayer, event_output = Net.TrainCluster(\n\u001b[0m\u001b[1;32m     50\u001b[0m         \u001b[0mevent\u001b[0m\u001b[0;34m=\u001b[0m\u001b[0mevent_cl\u001b[0m\u001b[0;34m,\u001b[0m \u001b[0mNbClusterList\u001b[0m\u001b[0;34m=\u001b[0m\u001b[0mnb_cluster\u001b[0m\u001b[0;34m,\u001b[0m \u001b[0mto_record\u001b[0m\u001b[0;34m=\u001b[0m\u001b[0;32mTrue\u001b[0m\u001b[0;34m,\u001b[0m \u001b[0mNbCycle\u001b[0m\u001b[0;34m=\u001b[0m\u001b[0;36m3\u001b[0m\u001b[0;34m\u001b[0m\u001b[0;34m\u001b[0m\u001b[0m\n\u001b[1;32m     51\u001b[0m     )\n",
      "\u001b[0;32m~/quantic/science/SpikeAI/2020---Online-Feature-Detection-/HOTS_clone_laurent/HOTS/Network.py\u001b[0m in \u001b[0;36mTrainCluster\u001b[0;34m(self, event, NbClusterList, to_record, NbCycle)\u001b[0m\n\u001b[1;32m     35\u001b[0m                 \u001b[0mevent_o\u001b[0m \u001b[0;34m=\u001b[0m \u001b[0meach_Layer\u001b[0m\u001b[0;34m.\u001b[0m\u001b[0mRunLayer\u001b[0m\u001b[0;34m(\u001b[0m\u001b[0mevent_i\u001b[0m\u001b[0;34m)\u001b[0m\u001b[0;34m\u001b[0m\u001b[0;34m\u001b[0m\u001b[0m\n\u001b[1;32m     36\u001b[0m             \u001b[0;32melif\u001b[0m \u001b[0meach_Layer\u001b[0m\u001b[0;34m.\u001b[0m\u001b[0mtype\u001b[0m \u001b[0;34m==\u001b[0m \u001b[0;34m'Layer'\u001b[0m\u001b[0;34m:\u001b[0m\u001b[0;34m\u001b[0m\u001b[0;34m\u001b[0m\u001b[0m\n\u001b[0;32m---> 37\u001b[0;31m                 \u001b[0mevent_o\u001b[0m\u001b[0;34m,\u001b[0m \u001b[0mCluster\u001b[0m \u001b[0;34m=\u001b[0m \u001b[0meach_Layer\u001b[0m\u001b[0;34m.\u001b[0m\u001b[0mTrainLayer\u001b[0m\u001b[0;34m(\u001b[0m\u001b[0mevent_i\u001b[0m\u001b[0;34m,\u001b[0m \u001b[0mNbClusterList\u001b[0m\u001b[0;34m[\u001b[0m\u001b[0midx_Layer\u001b[0m\u001b[0;34m]\u001b[0m\u001b[0;34m,\u001b[0m \u001b[0mto_record\u001b[0m\u001b[0;34m=\u001b[0m\u001b[0mto_record\u001b[0m\u001b[0;34m,\u001b[0m \u001b[0mNbCycle\u001b[0m\u001b[0;34m=\u001b[0m\u001b[0mNbCycle\u001b[0m\u001b[0;34m)\u001b[0m\u001b[0;34m\u001b[0m\u001b[0;34m\u001b[0m\u001b[0m\n\u001b[0m\u001b[1;32m     38\u001b[0m                 \u001b[0mClusterList\u001b[0m\u001b[0;34m.\u001b[0m\u001b[0mappend\u001b[0m\u001b[0;34m(\u001b[0m\u001b[0mCluster\u001b[0m\u001b[0;34m)\u001b[0m\u001b[0;34m\u001b[0m\u001b[0;34m\u001b[0m\u001b[0m\n\u001b[1;32m     39\u001b[0m                 \u001b[0midx_Layer\u001b[0m \u001b[0;34m=\u001b[0m \u001b[0midx_Layer\u001b[0m \u001b[0;34m+\u001b[0m \u001b[0;36m1\u001b[0m\u001b[0;34m\u001b[0m\u001b[0;34m\u001b[0m\u001b[0m\n",
      "\u001b[0;32m~/quantic/science/SpikeAI/2020---Online-Feature-Detection-/HOTS_clone_laurent/HOTS/Layer.py\u001b[0m in \u001b[0;36mTrainLayer\u001b[0;34m(self, event, nb_cluster, to_record, NbCycle)\u001b[0m\n\u001b[1;32m    171\u001b[0m \u001b[0;34m\u001b[0m\u001b[0m\n\u001b[1;32m    172\u001b[0m         \u001b[0mself\u001b[0m\u001b[0;34m.\u001b[0m\u001b[0mClusterLayer\u001b[0m\u001b[0;34m.\u001b[0m\u001b[0mnb_cluster\u001b[0m\u001b[0;34m,\u001b[0m \u001b[0mself\u001b[0m\u001b[0;34m.\u001b[0m\u001b[0mClusterLayer\u001b[0m\u001b[0;34m.\u001b[0m\u001b[0mto_record\u001b[0m \u001b[0;34m=\u001b[0m \u001b[0mnb_cluster\u001b[0m\u001b[0;34m,\u001b[0m \u001b[0mto_record\u001b[0m\u001b[0;34m\u001b[0m\u001b[0;34m\u001b[0m\u001b[0m\n\u001b[0;32m--> 173\u001b[0;31m         \u001b[0mPrototype\u001b[0m \u001b[0;34m=\u001b[0m \u001b[0mself\u001b[0m\u001b[0;34m.\u001b[0m\u001b[0mClusterLayer\u001b[0m\u001b[0;34m.\u001b[0m\u001b[0mfit\u001b[0m\u001b[0;34m(\u001b[0m\u001b[0mself\u001b[0m\u001b[0;34m.\u001b[0m\u001b[0mSpTe_Layer\u001b[0m\u001b[0;34m,\u001b[0m \u001b[0mNbCycle\u001b[0m\u001b[0;34m=\u001b[0m\u001b[0mNbCycle\u001b[0m\u001b[0;34m)\u001b[0m\u001b[0;34m\u001b[0m\u001b[0;34m\u001b[0m\u001b[0m\n\u001b[0m\u001b[1;32m    174\u001b[0m         self.output, _ = self.ClusterLayer.predict(\n\u001b[1;32m    175\u001b[0m             Surface=self.SpTe_Layer.Surface, event=event_filtered)\n",
      "\u001b[0;32m~/quantic/science/SpikeAI/2020---Online-Feature-Detection-/HOTS_clone_laurent/HOTS/KmeansHomeo.py\u001b[0m in \u001b[0;36mfit\u001b[0;34m(self, STS, batch_size, NbCycle, record_num_batches)\u001b[0m\n\u001b[1;32m     97\u001b[0m                     \u001b[0mc\u001b[0m \u001b[0;34m=\u001b[0m \u001b[0mcorr\u001b[0m\u001b[0;34m[\u001b[0m\u001b[0mi_sample\u001b[0m\u001b[0;34m,\u001b[0m \u001b[0;34m:\u001b[0m\u001b[0;34m]\u001b[0m\u001b[0;34m.\u001b[0m\u001b[0mcopy\u001b[0m\u001b[0;34m(\u001b[0m\u001b[0;34m)\u001b[0m\u001b[0;34m\u001b[0m\u001b[0;34m\u001b[0m\u001b[0m\n\u001b[1;32m     98\u001b[0m                     \u001b[0;31m#ind = np.argmax(c)\u001b[0m\u001b[0;34m\u001b[0m\u001b[0;34m\u001b[0m\u001b[0;34m\u001b[0m\u001b[0m\n\u001b[0;32m---> 99\u001b[0;31m                     ind = np.argmax(self.quantile(\n\u001b[0m\u001b[1;32m    100\u001b[0m                         self.P_cum, self.rescaling(c), stick))\n\u001b[1;32m    101\u001b[0m                     \u001b[0msparse_code\u001b[0m\u001b[0;34m[\u001b[0m\u001b[0mi_sample\u001b[0m\u001b[0;34m,\u001b[0m \u001b[0mind\u001b[0m\u001b[0;34m]\u001b[0m \u001b[0;34m=\u001b[0m \u001b[0mc\u001b[0m\u001b[0;34m[\u001b[0m\u001b[0mind\u001b[0m\u001b[0;34m]\u001b[0m\u001b[0;34m\u001b[0m\u001b[0;34m\u001b[0m\u001b[0m\n",
      "\u001b[0;32m~/quantic/science/SpikeAI/2020---Online-Feature-Detection-/HOTS_clone_laurent/HOTS/KmeansHomeo.py\u001b[0m in \u001b[0;36mquantile\u001b[0;34m(self, Pcum, p_c, stick)\u001b[0m\n\u001b[1;32m    266\u001b[0m             \u001b[0;34m+\u001b[0m \u001b[0mquantized\u001b[0m \u001b[0mvalue\u001b[0m \u001b[0mof\u001b[0m \u001b[0mthe\u001b[0m \u001b[0mcumulative\u001b[0m \u001b[0mprobability\u001b[0m \u001b[0mdistribution\u001b[0m\u001b[0;34m\u001b[0m\u001b[0;34m\u001b[0m\u001b[0m\n\u001b[1;32m    267\u001b[0m         '''\n\u001b[0;32m--> 268\u001b[0;31m         \u001b[0;32mreturn\u001b[0m \u001b[0mPcum\u001b[0m\u001b[0;34m.\u001b[0m\u001b[0mravel\u001b[0m\u001b[0;34m(\u001b[0m\u001b[0;34m)\u001b[0m\u001b[0;34m[\u001b[0m\u001b[0;34m(\u001b[0m\u001b[0mp_c\u001b[0m\u001b[0;34m*\u001b[0m\u001b[0mPcum\u001b[0m\u001b[0;34m.\u001b[0m\u001b[0mshape\u001b[0m\u001b[0;34m[\u001b[0m\u001b[0;36m1\u001b[0m\u001b[0;34m]\u001b[0m \u001b[0;34m-\u001b[0m \u001b[0;34m(\u001b[0m\u001b[0mp_c\u001b[0m \u001b[0;34m==\u001b[0m \u001b[0;36m1\u001b[0m\u001b[0;34m)\u001b[0m\u001b[0;34m)\u001b[0m\u001b[0;34m.\u001b[0m\u001b[0mastype\u001b[0m\u001b[0;34m(\u001b[0m\u001b[0mnp\u001b[0m\u001b[0;34m.\u001b[0m\u001b[0mint\u001b[0m\u001b[0;34m)\u001b[0m \u001b[0;34m+\u001b[0m \u001b[0mstick\u001b[0m\u001b[0;34m]\u001b[0m\u001b[0;34m\u001b[0m\u001b[0;34m\u001b[0m\u001b[0m\n\u001b[0m",
      "\u001b[0;31mIndexError\u001b[0m: index 34 is out of bounds for axis 0 with size 0"
     ]
    }
   ],
   "source": [
    "event_tr, event_te, event_cl, label_tr, label_te = SimpleAlphabet(\n",
    "    NbTrainingData=36,\n",
    "    NbTestingData=40,\n",
    "    Path=DataPath,\n",
    "    LabelPath=LabelPath,\n",
    "    ClusteringData=[1, 32, 19, 22, 29],\n",
    "    OutOnePolarity=True,\n",
    "    verbose=0,\n",
    ")\n",
    "## Defining the network\n",
    "L1 = ClusteringLayer(\n",
    "    tau=tau,\n",
    "    R=R,\n",
    "    verbose=0,\n",
    "    ThrFilter=2,\n",
    "    LearningAlgo=\"homeo\",\n",
    "    kernel=\"exponential\",\n",
    "    eta=eta_list[0],\n",
    "    eta_homeo=eta_homeo_list[0],\n",
    "    C=C_list[0],\n",
    ")\n",
    "L2 = ClusteringLayer(\n",
    "    tau=10 * tau,\n",
    "    R=2 * R,\n",
    "    verbose=0,\n",
    "    ThrFilter=2,\n",
    "    LearningAlgo=\"homeo\",\n",
    "    kernel=\"exponential\",\n",
    "    eta=eta_list[1],\n",
    "    eta_homeo=eta_homeo_list[1],\n",
    "    C=C_list[1],\n",
    ")\n",
    "L3 = ClusteringLayer(\n",
    "    tau=10 * 10 * tau,\n",
    "    R=2 * 2 * R,\n",
    "    verbose=0,\n",
    "    ThrFilter=2,\n",
    "    LearningAlgo=\"homeo\",\n",
    "    kernel=\"exponential\",\n",
    "    eta=eta_list[2],\n",
    "    eta_homeo=eta_homeo_list[2],\n",
    "    C=C_list[2],\n",
    ")\n",
    "Net = Network([L1, L2, L3])\n",
    "\n",
    "fname = \"../Records/EXP_03_HomeoKmeans/Exp02_2020-04-17.pkl\"\n",
    "if not os.path.isfile(fname):\n",
    "    #### Training The Cluster on 5 images\n",
    "    ClusterLayer, event_output = Net.TrainCluster(\n",
    "        event=event_cl, NbClusterList=nb_cluster, to_record=True, NbCycle=3\n",
    "    )\n",
    "    ## Generating histogram for training samples\n",
    "    event0_o_tr = Net.RunNetwork(event_tr, NbClusterList=ClusterLayer)\n",
    "    ## Generating histogram for the test samples\n",
    "    event0_o_te = Net.RunNetwork(event_te, NbClusterList=ClusterLayer)\n",
    "    Classif0 = Classifier(\n",
    "        event0_o_tr, event0_o_te, TrainingLabel=label_tr, GroundTruth=label_te\n",
    "    )\n",
    "    SaveObject([ClusterLayer, Classif0], fname)\n",
    "else:\n",
    "    ClusterLayer, Classif0 = LoadObject(fname)\n",
    "prediction, accuracy, method = Classif0.HistogramDistance(to_print=True)"
   ]
  },
  {
   "cell_type": "code",
   "execution_count": null,
   "metadata": {
    "collapsed": false,
    "jupyter": {
     "outputs_hidden": false
    }
   },
   "outputs": [],
   "source": [
    "DisplaySurface2D(ClusterLayer[0].prototype, nb_polarities=1)\n",
    "DisplaySurface2D(ClusterLayer[1].prototype, nb_polarities=4)\n",
    "DisplaySurface2D(ClusterLayer[2].prototype, nb_polarities=8)\n",
    "event_to_show = Event(ImageSize=(32, 32), ListPolarities=[-1, 1], OutOnePolarity=True)\n",
    "event_to_show.LoadFromMat(\"../data/alphabet_ExtractedStabilized.mat\", image_number=22)\n",
    "Net.RunNetwork(event_to_show, NbClusterList=ClusterLayer)\n",
    "mapL1 = GenerateActivationMap(Net.Layers[0].output, ClusterLayer[0])\n",
    "DisplayActivationMap(mapL1, scale=2)\n",
    "mapL2 = GenerateActivationMap(Net.Layers[1].output, ClusterLayer[1])\n",
    "DisplayActivationMap(mapL2, scale=2)\n",
    "mapL3 = GenerateActivationMap(Net.Layers[2].output, ClusterLayer[2])\n",
    "DisplayActivationMap(mapL3, scale=2)\n",
    "\n",
    "DisplayConvergence(ClusterLayer, to_display=[\"error\", \"histo\"])"
   ]
  },
  {
   "cell_type": "code",
   "execution_count": null,
   "metadata": {
    "collapsed": false,
    "jupyter": {
     "outputs_hidden": false
    }
   },
   "outputs": [],
   "source": []
  },
  {
   "cell_type": "markdown",
   "metadata": {},
   "source": [
    "# Experiment with 2 polarities in Input "
   ]
  },
  {
   "cell_type": "markdown",
   "metadata": {},
   "source": [
    "## Exp3 : Homeo Kmeans + Linear Kernel + NoiseFilter(=2) + 2 Polarity in Input + 3 Cycles"
   ]
  },
  {
   "cell_type": "code",
   "execution_count": null,
   "metadata": {
    "collapsed": false,
    "jupyter": {
     "outputs_hidden": false
    }
   },
   "outputs": [],
   "source": [
    "event_tr, event_te, event_cl, label_tr, label_te = SimpleAlphabet(\n",
    "    NbTrainingData=36,\n",
    "    NbTestingData=40,\n",
    "    Path=DataPath,\n",
    "    LabelPath=LabelPath,\n",
    "    ClusteringData=[1, 32, 19, 22, 29],\n",
    "    OutOnePolarity=False,\n",
    "    verbose=0,\n",
    ")\n",
    "## Defining the network\n",
    "L1 = ClusteringLayer(\n",
    "    tau=tau,\n",
    "    R=R,\n",
    "    verbose=0,\n",
    "    ThrFilter=2,\n",
    "    LearningAlgo=\"homeo\",\n",
    "    kernel=\"linear\",\n",
    "    eta=eta_list[0],\n",
    "    eta_homeo=eta_homeo_list[0],\n",
    "    C=C_list[0],\n",
    ")\n",
    "L2 = ClusteringLayer(\n",
    "    tau=10 * tau,\n",
    "    R=2 * R,\n",
    "    verbose=0,\n",
    "    ThrFilter=2,\n",
    "    LearningAlgo=\"homeo\",\n",
    "    kernel=\"linear\",\n",
    "    eta=eta_list[1],\n",
    "    eta_homeo=eta_homeo_list[1],\n",
    "    C=C_list[1],\n",
    ")\n",
    "L3 = ClusteringLayer(\n",
    "    tau=10 * 10 * tau,\n",
    "    R=2 * 2 * R,\n",
    "    verbose=0,\n",
    "    ThrFilter=2,\n",
    "    LearningAlgo=\"homeo\",\n",
    "    kernel=\"linear\",\n",
    "    eta=eta_list[2],\n",
    "    eta_homeo=eta_homeo_list[2],\n",
    "    C=C_list[2],\n",
    ")\n",
    "Net = Network([L1, L2, L3])\n",
    "\n",
    "fname = \"../Records/EXP_03_HomeoKmeans/Exp03_2020-04-17.pkl\"\n",
    "if not os.path.isfile(fname):\n",
    "    #### Training The Cluster on 5 images\n",
    "    ClusterLayer, event_output = Net.TrainCluster(\n",
    "        event=event_cl, NbClusterList=nb_cluster, to_record=True, NbCycle=3\n",
    "    )\n",
    "    ## Generating histogram for training samples\n",
    "    event0_o_tr = Net.RunNetwork(event_tr, NbClusterList=ClusterLayer)\n",
    "    ## Generating histogram for the test samples\n",
    "    event0_o_te = Net.RunNetwork(event_te, NbClusterList=ClusterLayer)\n",
    "    Classif0 = Classifier(\n",
    "        event0_o_tr, event0_o_te, TrainingLabel=label_tr, GroundTruth=label_te\n",
    "    )\n",
    "    SaveObject([ClusterLayer, Classif0], fname)\n",
    "else:\n",
    "    ClusterLayer, Classif0 = LoadObject(fname)\n",
    "prediction, accuracy, method = Classif0.HistogramDistance(to_print=True)"
   ]
  },
  {
   "cell_type": "code",
   "execution_count": null,
   "metadata": {
    "collapsed": false,
    "jupyter": {
     "outputs_hidden": false
    }
   },
   "outputs": [],
   "source": [
    "DisplaySurface2D(ClusterLayer[0].prototype, nb_polarities=2)\n",
    "DisplaySurface2D(ClusterLayer[1].prototype, nb_polarities=4)\n",
    "DisplaySurface2D(ClusterLayer[2].prototype, nb_polarities=8)\n",
    "event_to_show = Event(ImageSize=(32, 32), ListPolarities=[-1, 1], OutOnePolarity=False)\n",
    "event_to_show.LoadFromMat(\"../data/alphabet_ExtractedStabilized.mat\", image_number=22)\n",
    "Net.RunNetwork(event_to_show, NbClusterList=ClusterLayer)\n",
    "mapL1 = GenerateActivationMap(Net.Layers[0].output, ClusterLayer[0])\n",
    "DisplayActivationMap(mapL1, scale=2)\n",
    "mapL2 = GenerateActivationMap(Net.Layers[1].output, ClusterLayer[1])\n",
    "DisplayActivationMap(mapL2, scale=2)\n",
    "mapL3 = GenerateActivationMap(Net.Layers[2].output, ClusterLayer[2])\n",
    "DisplayActivationMap(mapL3, scale=2)\n",
    "\n",
    "DisplayConvergence(ClusterLayer, to_display=[\"error\", \"histo\"])"
   ]
  },
  {
   "cell_type": "code",
   "execution_count": null,
   "metadata": {
    "collapsed": false,
    "jupyter": {
     "outputs_hidden": false
    }
   },
   "outputs": [],
   "source": []
  },
  {
   "cell_type": "markdown",
   "metadata": {},
   "source": [
    "## Exp4 : Maro Kmeans + Exp Kernel + NoiseFilter(=2) + 2 Polarity in Input + 3 Cycles"
   ]
  },
  {
   "cell_type": "code",
   "execution_count": null,
   "metadata": {
    "collapsed": false,
    "jupyter": {
     "outputs_hidden": false
    }
   },
   "outputs": [],
   "source": [
    "save_exp = False\n",
    "event_tr, event_te, event_cl, label_tr, label_te = SimpleAlphabet(\n",
    "    NbTrainingData=36,\n",
    "    NbTestingData=40,\n",
    "    Path=DataPath,\n",
    "    LabelPath=LabelPath,\n",
    "    ClusteringData=[1, 32, 19, 22, 29],\n",
    "    OutOnePolarity=False,\n",
    "    verbose=0,\n",
    ")\n",
    "## Defining the network\n",
    "L1 = ClusteringLayer(\n",
    "    tau=tau,\n",
    "    R=R,\n",
    "    verbose=0,\n",
    "    ThrFilter=2,\n",
    "    LearningAlgo=\"homeo\",\n",
    "    kernel=\"exponential\",\n",
    "    eta=eta_list[0],\n",
    "    eta_homeo=eta_homeo_list[0],\n",
    "    C=C_list[0],\n",
    ")\n",
    "L2 = ClusteringLayer(\n",
    "    tau=10 * tau,\n",
    "    R=2 * R,\n",
    "    verbose=0,\n",
    "    ThrFilter=2,\n",
    "    LearningAlgo=\"homeo\",\n",
    "    kernel=\"exponential\",\n",
    "    eta=eta_list[1],\n",
    "    eta_homeo=eta_homeo_list[1],\n",
    "    C=C_list[1],\n",
    ")\n",
    "L3 = ClusteringLayer(\n",
    "    tau=10 * 10 * tau,\n",
    "    R=2 * 2 * R,\n",
    "    verbose=0,\n",
    "    ThrFilter=2,\n",
    "    LearningAlgo=\"homeo\",\n",
    "    kernel=\"exponential\",\n",
    "    eta=eta_list[2],\n",
    "    eta_homeo=eta_homeo_list[2],\n",
    "    C=C_list[2],\n",
    ")\n",
    "Net = Network([L1, L2, L3])\n",
    "\n",
    "fname = \"../Records/EXP_03_HomeoKmeans/Exp04_2020-04-17.pkl\"\n",
    "if not os.path.isfile(fname):\n",
    "    #### Training The Cluster on 5 images\n",
    "    ClusterLayer, event_output = Net.TrainCluster(\n",
    "        event=event_cl, NbClusterList=nb_cluster, to_record=True, NbCycle=3\n",
    "    )\n",
    "    ## Generating histogram for training samples\n",
    "    event0_o_tr = Net.RunNetwork(event_tr, NbClusterList=ClusterLayer)\n",
    "    ## Generating histogram for the test samples\n",
    "    event0_o_te = Net.RunNetwork(event_te, NbClusterList=ClusterLayer)\n",
    "    Classif0 = Classifier(\n",
    "        event0_o_tr, event0_o_te, TrainingLabel=label_tr, GroundTruth=label_te\n",
    "    )\n",
    "    SaveObject([ClusterLayer, Classif0], fname)\n",
    "else:\n",
    "    ClusterLayer, Classif0 = LoadObject(fname)\n",
    "prediction, accuracy, method = Classif0.HistogramDistance(to_print=True)"
   ]
  },
  {
   "cell_type": "code",
   "execution_count": null,
   "metadata": {
    "collapsed": false,
    "jupyter": {
     "outputs_hidden": false
    }
   },
   "outputs": [],
   "source": [
    "DisplaySurface2D(ClusterLayer[0].prototype, nb_polarities=2)\n",
    "DisplaySurface2D(ClusterLayer[1].prototype, nb_polarities=4)\n",
    "DisplaySurface2D(ClusterLayer[2].prototype, nb_polarities=8)\n",
    "event_to_show = Event(ImageSize=(32, 32), ListPolarities=[-1, 1], OutOnePolarity=False)\n",
    "event_to_show.LoadFromMat(\"../data/alphabet_ExtractedStabilized.mat\", image_number=22)\n",
    "Net.RunNetwork(event_to_show, NbClusterList=ClusterLayer)\n",
    "mapL1 = GenerateActivationMap(Net.Layers[0].output, ClusterLayer[0])\n",
    "DisplayActivationMap(mapL1, scale=2)\n",
    "mapL2 = GenerateActivationMap(Net.Layers[1].output, ClusterLayer[1])\n",
    "DisplayActivationMap(mapL2, scale=2)\n",
    "mapL3 = GenerateActivationMap(Net.Layers[2].output, ClusterLayer[2])\n",
    "DisplayActivationMap(mapL3, scale=2)\n",
    "\n",
    "DisplayConvergence(ClusterLayer, to_display=[\"error\", \"histo\"])"
   ]
  },
  {
   "cell_type": "code",
   "execution_count": null,
   "metadata": {},
   "outputs": [],
   "source": []
  },
  {
   "cell_type": "code",
   "execution_count": null,
   "metadata": {},
   "outputs": [],
   "source": []
  },
  {
   "cell_type": "code",
   "execution_count": null,
   "metadata": {},
   "outputs": [],
   "source": []
  }
 ],
 "metadata": {
  "kernelspec": {
   "display_name": "Python 3",
   "language": "python",
   "name": "python3"
  },
  "language_info": {
   "codemirror_mode": {
    "name": "ipython",
    "version": 3
   },
   "file_extension": ".py",
   "mimetype": "text/x-python",
   "name": "python",
   "nbconvert_exporter": "python",
   "pygments_lexer": "ipython3",
   "version": "3.8.5"
  }
 },
 "nbformat": 4,
 "nbformat_minor": 4
}
