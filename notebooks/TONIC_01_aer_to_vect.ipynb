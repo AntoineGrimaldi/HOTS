{
 "cells": [
  {
   "cell_type": "code",
   "execution_count": null,
   "metadata": {},
   "outputs": [
    {
     "name": "stdout",
     "output_type": "stream",
     "text": [
      "The autoreload extension is already loaded. To reload it, use:\n",
      "  %reload_ext autoreload\n",
      "/Users/joe/Documents/boulot/git/homhots/HOTS/HOTS\n"
     ]
    }
   ],
   "source": [
    "%load_ext autoreload\n",
    "%autoreload 2\n",
    "%matplotlib inline\n",
    "%cd '../HOTS'"
   ]
  },
  {
   "cell_type": "code",
   "execution_count": null,
   "metadata": {},
   "outputs": [],
   "source": [
    "import torch\n",
    "import matplotlib.pyplot as plt\n",
    "import numpy as np"
   ]
  },
  {
   "cell_type": "code",
   "execution_count": null,
   "metadata": {},
   "outputs": [],
   "source": [
    "def makeve():\n",
    "    x = torch.randint(0,34,[4000])\n",
    "    y = torch.randint(0,34,[4000])\n",
    "    p = torch.randint(0,1,[4000])\n",
    "    t, ind = torch.randint(0,3000,[10000]).sort()\n",
    "    t = torch.unique(t)\n",
    "    n_events = len(t)\n",
    "    x, y, p = x[:n_events, None], y[:n_events, None], p[:n_events, None]\n",
    "\n",
    "    events = torch.cat([x,y,t[:, None],p],dim=1)\n",
    "    x_index, y_index, t_index, p_index = 0, 1, 2, 3\n",
    "<<<<<<< local\n",
    "    print(events.shape)\n",
    "=======\n",
    ">>>>>>> remote\n",
    "    return events, n_events, x_index, y_index, t_index, p_index"
   ]
  },
  {
   "cell_type": "code",
   "execution_count": null,
   "metadata": {},
   "outputs": [
    {
     "name": "stderr",
     "output_type": "stream",
     "text": [
      "<<<<<<< local <modified: >\n"
     ]
    },
    {
     "name": "stdout",
     "output_type": "stream",
     "text": [
      "Using downloaded and verified file: ../Data/nmnist_test.zip\n",
      "Extracting ../Data/nmnist_test.zip to ../Data/\n",
      "torch.Size([4627, 4]) xytp\n"
     ]
    },
    {
     "name": "stderr",
     "output_type": "stream",
     "text": [
      "=======\n"
     ]
    },
    {
     "name": "stdout",
     "output_type": "stream",
     "text": [
      "Using downloaded and verified file: ../Data/nmnist_test.zip\n",
      "Extracting ../Data/nmnist_test.zip to ../Data/\n",
      "torch.Size([2908, 4]) xytp\n"
     ]
    },
    {
     "name": "stderr",
     "output_type": "stream",
     "text": [
      ">>>>>>> remote <modified: >\n"
     ]
    }
   ],
   "source": [
    "import tonic\n",
    "\n",
    "eventset = tonic.datasets.NMNIST(save_to='../Data/',\n",
    "                                train=False,\n",
    "                                transform=None)\n",
    "loader = tonic.datasets.DataLoader(eventset, shuffle=True)\n",
    "\n",
    "eventonic, target = next(iter(loader))\n",
    "print(torch.squeeze(eventonic).shape, eventset.ordering)"
   ]
  },
  {
   "cell_type": "markdown",
   "metadata": {},
   "source": [
    "# Parameters"
   ]
  },
  {
   "cell_type": "code",
   "execution_count": 82,
   "metadata": {},
   "outputs": [],
   "source": [
    "sample_space = 1\n",
    "sample_events = 1\n",
    "sensor_size = [34,34]\n",
    "N_p = 2\n",
    "tau = torch.tensor(1500)"
   ]
  },
  {
   "cell_type": "code",
   "execution_count": 97,
   "metadata": {},
   "outputs": [],
   "source": [
    "<<<<<<< REMOTE CELL DELETED >>>>>>>\n",
    "sample_space = 1\n",
    "sample_events = 1\n",
    "sensor_size = [34,34]\n",
    "N_p = 2\n",
    "n_events = n_events\n",
    "tau = torch.tensor(1500)\n",
    "\n",
    "x_index, y_index, t_index, p_index = 0, 1, 2, 3\n",
    "\n",
    "switch_id = [0,1,3,2]"
   ]
  },
  {
   "cell_type": "markdown",
   "metadata": {},
   "source": [
    "# With simple loop from get_data()"
   ]
  },
  {
   "cell_type": "code",
   "execution_count": 83,
   "metadata": {},
   "outputs": [
    {
     "name": "stdout",
     "output_type": "stream",
     "text": [
      "torch.Size([2891, 4])\n",
      "tensor([[   4,   12,    0,    0],\n",
      "        [  14,    3,    1,    0],\n",
      "        [  25,   11,    2,    0],\n",
      "        ...,\n",
      "        [  27,   28, 2997,    0],\n",
      "        [  27,   14, 2998,    0],\n",
      "        [   7,    6, 2999,    0]])\n"
     ]
    }
   ],
   "source": [
    "events, n_events, x_index, y_index, t_index, p_index = makeve()\n",
    "print(events)"
   ]
  },
  {
   "cell_type": "code",
   "execution_count": null,
   "metadata": {},
   "outputs": [
    {
     "name": "stderr",
     "output_type": "stream",
     "text": [
      "<<<<<<< local <modified: >\n"
     ]
    },
    {
     "name": "stdout",
     "output_type": "stream",
     "text": [
      "399 ms ± 53.2 ms per loop (mean ± std. dev. of 7 runs, 1 loop each)\n"
     ]
    },
    {
     "name": "stderr",
     "output_type": "stream",
     "text": [
      "=======\n"
     ]
    },
    {
     "name": "stdout",
     "output_type": "stream",
     "text": [
      "279 ms ± 4.8 ms per loop (mean ± std. dev. of 7 runs, 1 loop each)\n"
     ]
    },
    {
     "name": "stderr",
     "output_type": "stream",
     "text": [
      ">>>>>>> remote <modified: >\n"
     ]
    }
   ],
   "source": [
    "%%timeit\n",
    "events, n_events, x_index, y_index, t_index, p_index = makeve()\n",
    "\n",
    "c_int = lambda n, d : ((n - 1) // d) + 1\n",
    "\n",
    "data = torch.zeros((c_int(sensor_size[0],sample_space),\n",
    "                     c_int(sensor_size[1],sample_space),\n",
    "                     N_p))\n",
    "\n",
    "X = np.zeros((c_int(n_events, sample_events), len(torch.flatten(data))))\n",
    "    #y = np.zeros((c_int(n_events, sample_events), ))\n",
    "for i_event in range(1, n_events):\n",
    "    data *= torch.exp(-(events[i_event,t_index]-events[i_event-1,t_index])/tau)\n",
    "\n",
    "    x_pos = events[i_event,x_index]//sample_space\n",
    "    y_pos = events[i_event,y_index]//sample_space\n",
    "    p = events[i_event,p_index]\n",
    "    data[int(x_pos), int(y_pos), int(p)] = 1.\n",
    "\n",
    "    if i_event % sample_events == sample_events//2:\n",
    "        X[i_event//sample_events, :] = torch.flatten(data)"
   ]
  },
  {
   "cell_type": "code",
   "execution_count": null,
   "metadata": {},
   "outputs": [],
   "source": [
    "c_int = lambda n, d : ((n - 1) // d) + 1\n",
    "\n",
    "data = torch.zeros((c_int(sensor_size[0],sample_space),\n",
    "                     c_int(sensor_size[1],sample_space),\n",
    "                     N_p))\n",
    "\n",
    "X = np.zeros((c_int(n_events, sample_events), len(torch.flatten(data))))\n",
    "    #y = np.zeros((c_int(n_events, sample_events), ))\n",
    "for i_event in range(1, n_events):\n",
    "    data *= torch.exp(-(events[i_event,t_index]-events[i_event-1,t_index])/tau)\n",
    "\n",
    "    x_pos = events[i_event,x_index]//sample_space\n",
    "    y_pos = events[i_event,y_index]//sample_space\n",
    "    p = events[i_event,p_index]\n",
    "    data[int(x_pos), int(y_pos), int(p)] = 1.\n",
    "\n",
    "    if i_event % sample_events == sample_events//2:\n",
    "        X[i_event//sample_events, :] = torch.flatten(data)"
   ]
  },
  {
   "cell_type": "code",
   "execution_count": null,
   "metadata": {},
   "outputs": [
    {
     "name": "stderr",
     "output_type": "stream",
     "text": [
      "<<<<<<< local <modified: >\n"
     ]
    },
    {
     "name": "stdout",
     "output_type": "stream",
     "text": [
      "(2884, 2312) torch.Size([2884, 4])\n"
     ]
    },
    {
     "name": "stderr",
     "output_type": "stream",
     "text": [
      "=======\n"
     ]
    },
    {
     "name": "stdout",
     "output_type": "stream",
     "text": [
      "(2891, 2312) torch.Size([2891, 4])\n"
     ]
    },
    {
     "name": "stderr",
     "output_type": "stream",
     "text": [
      ">>>>>>> remote <modified: >\n"
     ]
    },
    {
     "name": "stderr",
     "output_type": "stream",
     "text": [
      "<<<<<<< local <modified: text/plain>\n"
     ]
    },
    {
     "data": {
      "text/plain": [
       "<matplotlib.image.AxesImage at 0x15bbedaf0>"
      ]
     },
     "execution_count": 99,
     "metadata": {},
     "output_type": "execute_result"
    },
    {
     "name": "stderr",
     "output_type": "stream",
     "text": [
      "=======\n"
     ]
    },
    {
     "data": {
      "text/plain": [
       "<matplotlib.image.AxesImage at 0x7f96bd333130>"
      ]
     },
     "execution_count": 86,
     "metadata": {},
     "output_type": "execute_result"
    },
    {
     "name": "stderr",
     "output_type": "stream",
     "text": [
      ">>>>>>> remote <modified: text/plain>\n"
     ]
    },
    {
     "name": "stderr",
     "output_type": "stream",
     "text": [
      "<<<<<<< local\n"
     ]
    },
    {
     "data": {
      "image/png": "[encoded data removed]",
      "text/plain": [
       "<Figure size 432x288 with 1 Axes>"
      ]
     },
     "metadata": {
      "needs_background": "light"
     },
     "output_type": "display_data"
    },
    {
     "name": "stderr",
     "output_type": "stream",
     "text": [
      "=======\n"
     ]
    },
    {
     "data": {
      "image/png": "[encoded data removed]",
      "text/plain": [
       "<Figure size 432x288 with 1 Axes>"
      ]
     },
     "metadata": {
      "needs_background": "light"
     },
     "output_type": "display_data"
    },
    {
     "name": "stderr",
     "output_type": "stream",
     "text": [
      ">>>>>>> remote\n"
     ]
    }
   ],
   "source": [
    "print(X.shape,events.shape)\n",
    "plt.imshow(X)"
   ]
  },
  {
   "cell_type": "markdown",
   "metadata": {},
   "source": [
    "<span style=\"color:red\">**<<<<<<< local**</span>"
   ]
  },
  {
   "cell_type": "code",
   "execution_count": 112,
   "metadata": {},
   "outputs": [
    {
     "name": "stdout",
     "output_type": "stream",
     "text": [
      "torch.Size([2882, 4])\n",
      "tensor([   0,    1,    2,  ..., 2997, 2998, 2999])\n"
     ]
    }
   ],
   "source": [
    "events, n_events, x_index, y_index, t_index, p_index = makeve()\n",
    "print(events[:,t_index])"
   ]
  },
  {
   "cell_type": "raw",
   "metadata": {},
   "source": [
    "if t_index==2:\n",
    "    events = events[:,switch_id]\n",
    "    t_index=3\n",
    "    p_index=2\n",
    "print(events)"
   ]
  },
  {
   "cell_type": "code",
   "execution_count": 113,
   "metadata": {},
   "outputs": [
    {
     "name": "stdout",
     "output_type": "stream",
     "text": [
      "tensor([   0,    1,    2,  ..., 2997, 2998, 2999]) tensor([[  14,    3,    0,    0],\n",
      "        [  16,   15,    0,    1],\n",
      "        [   6,   15,    0,    2],\n",
      "        ...,\n",
      "        [  30,    4,    0, 2879],\n",
      "        [  27,   13,    0, 2880],\n",
      "        [  21,   31,    0, 2881]])\n"
     ]
    }
   ],
   "source": [
    "t = events[:,t_index].clone().detach()\n",
    "events[:,2] = events[:,p_index]\n",
    "events[:,3] = torch.arange(0,events.shape[0])\n",
    "print(t, events)"
   ]
  },
  {
   "cell_type": "code",
   "execution_count": 115,
   "metadata": {},
   "outputs": [
    {
     "name": "stdout",
     "output_type": "stream",
     "text": [
      "torch.Size([2312, 2882])\n"
     ]
    },
    {
     "data": {
      "image/png": "[encoded data removed]",
      "text/plain": [
       "<Figure size 432x288 with 1 Axes>"
      ]
     },
     "metadata": {
      "needs_background": "light"
     },
     "output_type": "display_data"
    }
   ],
   "source": [
    "E = torch.ones(n_events)\n",
    "R = torch.sparse.FloatTensor(events.T, E, torch.Size([34, 34, 2, n_events])).to_dense()\n",
    "R = torch.flatten(R,0,2)\n",
    "plt.imshow(R)\n",
    "print(R.shape)"
   ]
  },
  {
   "cell_type": "code",
   "execution_count": 116,
   "metadata": {},
   "outputs": [
    {
     "name": "stdout",
     "output_type": "stream",
     "text": [
      "torch.Size([1000, 1000])\n"
     ]
    }
   ],
   "source": [
    "t_pos = 1000\n",
    "A = torch.zeros([n_events,n_events])\n",
    "T = torch.ones([t_pos,t_pos])\n",
    "T = torch.triu(T)\n",
    "print(T.shape)\n",
    "A[-t_pos:,-t_pos:] = T"
   ]
  },
  {
   "cell_type": "code",
   "execution_count": 123,
   "metadata": {},
   "outputs": [
    {
     "ename": "RuntimeError",
     "evalue": "expected scalar type Float but found Long",
     "output_type": "error",
     "traceback": [
      "\u001b[0;31m---------------------------------------------------------------------------\u001b[0m",
      "\u001b[0;31mRuntimeError\u001b[0m                              Traceback (most recent call last)",
      "\u001b[0;32m<ipython-input-123-25d6ae8491f3>\u001b[0m in \u001b[0;36m<module>\u001b[0;34m\u001b[0m\n\u001b[1;32m      1\u001b[0m \u001b[0mA\u001b[0m\u001b[0;34m.\u001b[0m\u001b[0mtype\u001b[0m\u001b[0;34m(\u001b[0m\u001b[0;34m)\u001b[0m\u001b[0;34m\u001b[0m\u001b[0;34m\u001b[0m\u001b[0m\n\u001b[0;32m----> 2\u001b[0;31m \u001b[0mprint\u001b[0m\u001b[0;34m(\u001b[0m\u001b[0mtorch\u001b[0m\u001b[0;34m.\u001b[0m\u001b[0mmatmul\u001b[0m\u001b[0;34m(\u001b[0m\u001b[0mA\u001b[0m\u001b[0;34m,\u001b[0m\u001b[0mt\u001b[0m\u001b[0;34m)\u001b[0m\u001b[0;34m)\u001b[0m\u001b[0;34m\u001b[0m\u001b[0;34m\u001b[0m\u001b[0m\n\u001b[0m",
      "\u001b[0;31mRuntimeError\u001b[0m: expected scalar type Float but found Long"
     ]
    }
   ],
   "source": [
    "print(torch.matmul(A,t))"
   ]
  },
  {
   "cell_type": "code",
   "execution_count": 118,
   "metadata": {},
   "outputs": [
    {
     "name": "stdout",
     "output_type": "stream",
     "text": [
      "torch.Size([2882]) tensor(2882.)\n"
     ]
    }
   ],
   "source": [
    "print(E.shape, torch.sum(R))"
   ]
  },
  {
   "cell_type": "markdown",
   "metadata": {},
   "source": [
    "<span style=\"color:red\">**=======**</span>"
   ]
  },
  {
   "cell_type": "code",
   "execution_count": null,
   "metadata": {},
   "outputs": [],
   "source": [
    "events, n_events, x_index, y_index, t_index, p_index = makeve()\n",
    "print(events)"
   ]
  },
  {
   "cell_type": "code",
   "execution_count": 94,
   "metadata": {},
   "outputs": [
    {
     "name": "stdout",
     "output_type": "stream",
     "text": [
      "429 ms ± 8.58 ms per loop (mean ± std. dev. of 7 runs, 1 loop each)\n"
     ]
    }
   ],
   "source": [
    "%%timeit\n",
    "events, n_events, x_index, y_index, t_index, p_index = makeve()\n",
    "t = events[:,t_index].clone().detach()\n",
    "events[:,2] = events[:,p_index].clone().detach()\n",
    "events[:,3] = torch.arange(0,events.shape[0])\n",
    "p_index = 2\n",
    "\n",
    "E = torch.ones(n_events)\n",
    "R = torch.sparse.FloatTensor(events.T, E, torch.Size([34, 34, 2, n_events])).to_dense()\n",
    "for i in range(len(t)):\n",
    "    t_pos = t[i]\n",
    "    dt = t_pos-t\n",
    "    s = np.exp(dt/tau)\n",
    "    s[s>1]=0\n",
    "    #print(R.shape,events[i,p_index],p_index)\n",
    "    R[events[i,x_index],events[i,y_index],events[i,p_index],:]+=s # /!\\ de cette manière on cumule les évènements\n",
    "R = torch.flatten(R,0,2)"
   ]
  },
  {
   "cell_type": "code",
   "execution_count": 88,
   "metadata": {},
   "outputs": [
    {
     "name": "stdout",
     "output_type": "stream",
     "text": [
      "tensor(2372080.5000) 2887\n"
     ]
    }
   ],
   "source": [
    "print(torch.sum(R),len(t))"
   ]
  },
  {
   "cell_type": "markdown",
   "metadata": {},
   "source": [
    "<span style=\"color:red\">**>>>>>>> remote**</span>"
   ]
  },
  {
   "cell_type": "code",
   "execution_count": 89,
   "metadata": {},
   "outputs": [
    {
     "data": {
      "text/plain": [
       "<matplotlib.image.AxesImage at 0x7f96bd4f2a00>"
      ]
     },
     "execution_count": 89,
     "metadata": {},
     "output_type": "execute_result"
    },
    {
     "data": {
      "image/png": "[encoded data removed]",
      "text/plain": [
       "<Figure size 432x288 with 1 Axes>"
      ]
     },
     "metadata": {
      "needs_background": "light"
     },
     "output_type": "display_data"
    }
   ],
   "source": [
    "plt.imshow(R)"
   ]
  },
  {
   "cell_type": "code",
   "execution_count": 28,
   "metadata": {},
   "outputs": [],
   "source": [
    "i = 10\n",
    "M,N = R.shape\n",
    "t_pos = t[i]"
   ]
  },
  {
   "cell_type": "code",
   "execution_count": 44,
   "metadata": {},
   "outputs": [
    {
     "name": "stdout",
     "output_type": "stream",
     "text": [
      "tensor([   11,    10,     9,  ..., -2986, -2987, -2988])\n",
      "tensor(1.)\n"
     ]
    }
   ],
   "source": [
    "dt = t_pos-t\n",
    "s = np.exp(dt/tau)\n",
    "s[s>1]=0"
   ]
  },
  {
   "cell_type": "code",
   "execution_count": 32,
   "metadata": {},
   "outputs": [
    {
     "name": "stdout",
     "output_type": "stream",
     "text": [
      "tensor([[   2,   24,    0,    0],\n",
      "        [  18,   23,    0,    1],\n",
      "        [  19,   19,    0,    2],\n",
      "        ...,\n",
      "        [   9,   17,    0, 2900],\n",
      "        [  31,   30,    0, 2901],\n",
      "        [   6,    0,    0, 2902]])\n"
     ]
    }
   ],
   "source": [
    "R[]"
   ]
  },
  {
   "cell_type": "code",
   "execution_count": 37,
   "metadata": {},
   "outputs": [
    {
     "name": "stdout",
     "output_type": "stream",
     "text": [
      "2312 2903 (2893, 2893) (10, 10)\n"
     ]
    },
    {
     "ename": "ValueError",
     "evalue": "all the input array dimensions for the concatenation axis must match exactly, but along dimension 1, the array at index 0 has size 10 and the array at index 1 has size 2893",
     "output_type": "error",
     "traceback": [
      "\u001b[0;31m---------------------------------------------------------------------------\u001b[0m",
      "\u001b[0;31mValueError\u001b[0m                                Traceback (most recent call last)",
      "\u001b[0;32m<ipython-input-37-8273fe7bae68>\u001b[0m in \u001b[0;36m<module>\u001b[0;34m\u001b[0m\n\u001b[1;32m      6\u001b[0m \u001b[0mprint\u001b[0m\u001b[0;34m(\u001b[0m\u001b[0mM\u001b[0m\u001b[0;34m,\u001b[0m\u001b[0mN\u001b[0m\u001b[0;34m,\u001b[0m\u001b[0ma\u001b[0m\u001b[0;34m.\u001b[0m\u001b[0mshape\u001b[0m\u001b[0;34m,\u001b[0m \u001b[0mb\u001b[0m\u001b[0;34m.\u001b[0m\u001b[0mshape\u001b[0m\u001b[0;34m)\u001b[0m\u001b[0;34m\u001b[0m\u001b[0;34m\u001b[0m\u001b[0m\n\u001b[1;32m      7\u001b[0m \u001b[0mA\u001b[0m \u001b[0;34m=\u001b[0m \u001b[0mnp\u001b[0m\u001b[0;34m.\u001b[0m\u001b[0mconcatenate\u001b[0m\u001b[0;34m(\u001b[0m\u001b[0;34m[\u001b[0m\u001b[0mb\u001b[0m\u001b[0;34m,\u001b[0m\u001b[0mb\u001b[0m\u001b[0;34m]\u001b[0m\u001b[0;34m)\u001b[0m\u001b[0;34m\u001b[0m\u001b[0;34m\u001b[0m\u001b[0m\n\u001b[0;32m----> 8\u001b[0;31m \u001b[0mB\u001b[0m \u001b[0;34m=\u001b[0m \u001b[0mnp\u001b[0m\u001b[0;34m.\u001b[0m\u001b[0mconcatenate\u001b[0m\u001b[0;34m(\u001b[0m\u001b[0;34m[\u001b[0m\u001b[0mb\u001b[0m\u001b[0;34m,\u001b[0m\u001b[0ma\u001b[0m\u001b[0;34m]\u001b[0m\u001b[0;34m)\u001b[0m\u001b[0;34m\u001b[0m\u001b[0;34m\u001b[0m\u001b[0m\n\u001b[0m\u001b[1;32m      9\u001b[0m \u001b[0mC\u001b[0m \u001b[0;34m=\u001b[0m \u001b[0mnp\u001b[0m\u001b[0;34m.\u001b[0m\u001b[0mconcatenate\u001b[0m\u001b[0;34m(\u001b[0m\u001b[0;34m[\u001b[0m\u001b[0mA\u001b[0m\u001b[0;34m.\u001b[0m\u001b[0mT\u001b[0m\u001b[0;34m,\u001b[0m\u001b[0mB\u001b[0m\u001b[0;34m.\u001b[0m\u001b[0mT\u001b[0m\u001b[0;34m]\u001b[0m\u001b[0;34m)\u001b[0m\u001b[0;34m\u001b[0m\u001b[0;34m\u001b[0m\u001b[0m\n\u001b[1;32m     10\u001b[0m \u001b[0mprint\u001b[0m\u001b[0;34m(\u001b[0m\u001b[0mC\u001b[0m\u001b[0;34m)\u001b[0m\u001b[0;34m\u001b[0m\u001b[0;34m\u001b[0m\u001b[0m\n",
      "\u001b[0;32m<__array_function__ internals>\u001b[0m in \u001b[0;36mconcatenate\u001b[0;34m(*args, **kwargs)\u001b[0m\n",
      "\u001b[0;31mValueError\u001b[0m: all the input array dimensions for the concatenation axis must match exactly, but along dimension 1, the array at index 0 has size 10 and the array at index 1 has size 2893"
     ]
    }
   ],
   "source": [
    "M,N = R.shape\n",
    "t_pos = t[i]\n",
    "a = np.ones([N-i,N-i])\n",
    "a = np.triu(a)\n",
    "b = np.zeros([i,i])\n",
    "print(M,N,a.shape, b.shape)\n",
    "A = np.concatenate([b,b])\n",
    "B = np.concatenate([b,a])\n",
    "C = np.concatenate([A.T,B.T])\n",
    "print(C)\n",
    "#print(np.triu(a))"
   ]
  },
  {
   "cell_type": "code",
   "execution_count": null,
   "metadata": {},
   "outputs": [],
   "source": []
  },
  {
   "cell_type": "code",
   "execution_count": 114,
   "metadata": {},
   "outputs": [
    {
     "data": {
      "text/plain": [
       "7524"
      ]
     },
     "execution_count": 114,
     "metadata": {},
     "output_type": "execute_result"
    }
   ],
   "source": []
  },
  {
   "cell_type": "code",
   "execution_count": 14,
   "metadata": {},
   "outputs": [],
   "source": [
    "t = np.array([1,10,11,20,25,30,30])\n",
    "t2 = np.array([1,1,10,11,20,25,30])"
   ]
  },
  {
   "cell_type": "code",
   "execution_count": 16,
   "metadata": {},
   "outputs": [
    {
     "name": "stdout",
     "output_type": "stream",
     "text": [
      "[0 9 1 9 5 5]\n"
     ]
    }
   ],
   "source": [
    "dt = t-t2\n",
    "print(dt[:-1])"
   ]
  },
  {
   "cell_type": "code",
   "execution_count": 20,
   "metadata": {},
   "outputs": [
    {
     "name": "stdout",
     "output_type": "stream",
     "text": [
      "[1.00000000e+00 1.23409804e-04 3.67879441e-01 1.23409804e-04\n",
      " 6.73794700e-03 6.73794700e-03]\n"
     ]
    }
   ],
   "source": [
    "dt2 = dt[:-1]\n",
    "s = np.exp(-dt2)\n",
    "print(s)"
   ]
  },
  {
   "cell_type": "code",
   "execution_count": 30,
   "metadata": {},
   "outputs": [
    {
     "name": "stdout",
     "output_type": "stream",
     "text": [
      "[[0. 0. 0. 0. 0. 0.]\n",
      " [0. 0. 0. 0. 0. 0.]\n",
      " [0. 0. 0. 0. 0. 0.]\n",
      " [0. 0. 0. 1. 0. 0.]\n",
      " [0. 0. 0. 1. 1. 0.]\n",
      " [0. 0. 0. 1. 1. 1.]]\n"
     ]
    }
   ],
   "source": [
    "M,N = 6,6\n",
    "t_pos = 3\n",
    "a = np.ones([M-t_pos,N-t_pos])\n",
    "a = np.triu(a)\n",
    "b = np.zeros([t_pos,t_pos])\n",
    "A = np.concatenate([b,b])\n",
    "B = np.concatenate([b,a])\n",
    "C = np.concatenate([A.T,B.T])\n",
    "print(C)\n",
    "#print(np.triu(a))"
   ]
  },
  {
   "cell_type": "code",
   "execution_count": 31,
   "metadata": {},
   "outputs": [
    {
     "data": {
      "text/plain": [
       "array([ 0.,  0.,  0.,  9., 14., 19.])"
      ]
     },
     "execution_count": 31,
     "metadata": {},
     "output_type": "execute_result"
    }
   ],
   "source": [
    "C@dt2"
   ]
  },
  {
   "cell_type": "code",
   "execution_count": null,
   "metadata": {},
   "outputs": [],
   "source": []
  }
 ],
 "metadata": {
  "kernelspec": {
   "display_name": "Python 3",
   "language": "python",
   "name": "python3"
  },
  "language_info": {
   "codemirror_mode": {
    "name": "ipython",
    "version": 3
   },
   "file_extension": ".py",
   "mimetype": "text/x-python",
   "name": "python",
   "nbconvert_exporter": "python",
   "pygments_lexer": "ipython3",
   "version": "3.8.5"
  }
 },
 "nbformat": 4,
 "nbformat_minor": 4
}
