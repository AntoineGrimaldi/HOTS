{
 "cells": [
  {
   "cell_type": "code",
   "execution_count": 1,
   "metadata": {},
   "outputs": [],
   "source": [
    "%run 2020-11-19_NEW_HOTS_05_LogisticRegression.py"
   ]
  },
  {
   "cell_type": "code",
   "execution_count": 2,
   "metadata": {},
   "outputs": [],
   "source": [
    "verbose=True"
   ]
  },
  {
   "cell_type": "markdown",
   "metadata": {},
   "source": [
    "### Performing logistic regression with cross-validation\n",
    "\n",
    "https://scikit-learn.org/stable/modules/generated/sklearn.linear_model.LogisticRegressionCV.html\n"
   ]
  },
  {
   "cell_type": "code",
   "execution_count": 3,
   "metadata": {},
   "outputs": [
    {
     "name": "stdout",
     "output_type": "stream",
     "text": [
      "----------------------------------------\n",
      "homeo=False\n",
      "----------------------------------------\n",
      "loading the events from file ../Records/EXP_03_NMNIST/2020-11-03_hots_0.01_ms_40_40_40_event_out_lagorce.pkl\n",
      "Number of events: 3414 - Number of features: 2312\n"
     ]
    },
    {
     "name": "stderr",
     "output_type": "stream",
     "text": [
      "[Parallel(n_jobs=-1)]: Using backend LokyBackend with 36 concurrent workers.\n",
      "[Parallel(n_jobs=-1)]: Done   5 out of   5 | elapsed:  4.7min finished\n"
     ]
    },
    {
     "name": "stdout",
     "output_type": "stream",
     "text": [
      "Classification score for homeo=False & tau_=0.000 is 1.000\n",
      "Number of events: 3404 - Number of features: 2312\n",
      "Classification score for homeo=False & tau_=0.000 is 0.460\n",
      "loading the events from file ../Records/EXP_03_NMNIST/2020-11-03_hots_0.1_ms_40_40_40_event_out_lagorce.pkl\n",
      "Number of events: 3414 - Number of features: 2312\n"
     ]
    },
    {
     "name": "stderr",
     "output_type": "stream",
     "text": [
      "[Parallel(n_jobs=-1)]: Using backend LokyBackend with 36 concurrent workers.\n",
      "[Parallel(n_jobs=-1)]: Done   5 out of   5 | elapsed:  4.5min finished\n"
     ]
    },
    {
     "name": "stdout",
     "output_type": "stream",
     "text": [
      "Classification score for homeo=False & tau_=0.000 is 1.000\n",
      "Number of events: 3404 - Number of features: 2312\n",
      "Classification score for homeo=False & tau_=0.000 is 0.460\n",
      "loading the events from file ../Records/EXP_03_NMNIST/2020-11-03_hots_0.2_ms_40_40_40_event_out_lagorce.pkl\n",
      "Number of events: 3414 - Number of features: 2312\n"
     ]
    },
    {
     "name": "stderr",
     "output_type": "stream",
     "text": [
      "[Parallel(n_jobs=-1)]: Using backend LokyBackend with 36 concurrent workers.\n",
      "[Parallel(n_jobs=-1)]: Done   5 out of   5 | elapsed:  4.0min finished\n"
     ]
    },
    {
     "name": "stdout",
     "output_type": "stream",
     "text": [
      "Classification score for homeo=False & tau_=0.000 is 1.000\n",
      "Number of events: 3404 - Number of features: 2312\n",
      "Classification score for homeo=False & tau_=0.000 is 0.460\n",
      "loading the events from file ../Records/EXP_03_NMNIST/2020-11-03_hots_0.3_ms_40_40_40_event_out_lagorce.pkl\n",
      "Number of events: 3414 - Number of features: 2312\n"
     ]
    },
    {
     "name": "stderr",
     "output_type": "stream",
     "text": [
      "[Parallel(n_jobs=-1)]: Using backend LokyBackend with 36 concurrent workers.\n",
      "[Parallel(n_jobs=-1)]: Done   5 out of   5 | elapsed:  3.4min finished\n"
     ]
    },
    {
     "name": "stdout",
     "output_type": "stream",
     "text": [
      "Classification score for homeo=False & tau_=0.000 is 1.000\n",
      "Number of events: 3404 - Number of features: 2312\n",
      "Classification score for homeo=False & tau_=0.000 is 0.460\n",
      "loading the events from file ../Records/EXP_03_NMNIST/2020-11-03_hots_0.4_ms_40_40_40_event_out_lagorce.pkl\n",
      "Number of events: 3414 - Number of features: 2312\n"
     ]
    },
    {
     "name": "stderr",
     "output_type": "stream",
     "text": [
      "[Parallel(n_jobs=-1)]: Using backend LokyBackend with 36 concurrent workers.\n",
      "[Parallel(n_jobs=-1)]: Done   5 out of   5 | elapsed:  3.6min finished\n"
     ]
    },
    {
     "name": "stdout",
     "output_type": "stream",
     "text": [
      "Classification score for homeo=False & tau_=0.000 is 1.000\n",
      "Number of events: 3404 - Number of features: 2312\n",
      "Classification score for homeo=False & tau_=0.000 is 0.460\n",
      "loading the events from file ../Records/EXP_03_NMNIST/2020-11-03_hots_0.5_ms_40_40_40_event_out_lagorce.pkl\n",
      "Number of events: 3414 - Number of features: 2312\n"
     ]
    },
    {
     "name": "stderr",
     "output_type": "stream",
     "text": [
      "[Parallel(n_jobs=-1)]: Using backend LokyBackend with 36 concurrent workers.\n",
      "[Parallel(n_jobs=-1)]: Done   5 out of   5 | elapsed:  3.8min finished\n"
     ]
    },
    {
     "name": "stdout",
     "output_type": "stream",
     "text": [
      "Classification score for homeo=False & tau_=0.001 is 1.000\n",
      "Number of events: 3404 - Number of features: 2312\n",
      "Classification score for homeo=False & tau_=0.001 is 0.460\n",
      "loading the events from file ../Records/EXP_03_NMNIST/2020-11-03_hots_0.6_ms_40_40_40_event_out_lagorce.pkl\n",
      "Number of events: 3414 - Number of features: 2312\n"
     ]
    },
    {
     "name": "stderr",
     "output_type": "stream",
     "text": [
      "[Parallel(n_jobs=-1)]: Using backend LokyBackend with 36 concurrent workers.\n",
      "[Parallel(n_jobs=-1)]: Done   5 out of   5 | elapsed:  2.8min finished\n"
     ]
    },
    {
     "name": "stdout",
     "output_type": "stream",
     "text": [
      "Classification score for homeo=False & tau_=0.001 is 1.000\n",
      "Number of events: 3404 - Number of features: 2312\n",
      "Classification score for homeo=False & tau_=0.001 is 0.460\n",
      "loading the events from file ../Records/EXP_03_NMNIST/2020-11-03_hots_0.7_ms_40_40_40_event_out_lagorce.pkl\n",
      "Number of events: 3414 - Number of features: 2312\n"
     ]
    },
    {
     "name": "stderr",
     "output_type": "stream",
     "text": [
      "[Parallel(n_jobs=-1)]: Using backend LokyBackend with 36 concurrent workers.\n",
      "[Parallel(n_jobs=-1)]: Done   5 out of   5 | elapsed:  2.8min finished\n"
     ]
    },
    {
     "name": "stdout",
     "output_type": "stream",
     "text": [
      "Classification score for homeo=False & tau_=0.001 is 1.000\n",
      "Number of events: 3404 - Number of features: 2312\n",
      "Classification score for homeo=False & tau_=0.001 is 0.460\n",
      "loading the events from file ../Records/EXP_03_NMNIST/2020-11-03_hots_0.8_ms_40_40_40_event_out_lagorce.pkl\n",
      "Number of events: 3414 - Number of features: 2312\n"
     ]
    },
    {
     "name": "stderr",
     "output_type": "stream",
     "text": [
      "[Parallel(n_jobs=-1)]: Using backend LokyBackend with 36 concurrent workers.\n",
      "[Parallel(n_jobs=-1)]: Done   5 out of   5 | elapsed:  2.8min finished\n"
     ]
    },
    {
     "name": "stdout",
     "output_type": "stream",
     "text": [
      "Classification score for homeo=False & tau_=0.001 is 1.000\n",
      "Number of events: 3404 - Number of features: 2312\n",
      "Classification score for homeo=False & tau_=0.001 is 0.460\n",
      "loading the events from file ../Records/EXP_03_NMNIST/2020-11-03_hots_0.9_ms_40_40_40_event_out_lagorce.pkl\n",
      "Number of events: 3414 - Number of features: 2312\n"
     ]
    },
    {
     "name": "stderr",
     "output_type": "stream",
     "text": [
      "[Parallel(n_jobs=-1)]: Using backend LokyBackend with 36 concurrent workers.\n",
      "[Parallel(n_jobs=-1)]: Done   5 out of   5 | elapsed:  2.7min finished\n"
     ]
    },
    {
     "name": "stdout",
     "output_type": "stream",
     "text": [
      "Classification score for homeo=False & tau_=0.001 is 1.000\n",
      "Number of events: 3404 - Number of features: 2312\n",
      "Classification score for homeo=False & tau_=0.001 is 0.460\n",
      "loading the events from file ../Records/EXP_03_NMNIST/2020-11-03_hots_1.0_ms_40_40_40_event_out_lagorce.pkl\n",
      "Number of events: 3414 - Number of features: 2312\n"
     ]
    },
    {
     "name": "stderr",
     "output_type": "stream",
     "text": [
      "[Parallel(n_jobs=-1)]: Using backend LokyBackend with 36 concurrent workers.\n",
      "[Parallel(n_jobs=-1)]: Done   5 out of   5 | elapsed:  2.7min finished\n"
     ]
    },
    {
     "name": "stdout",
     "output_type": "stream",
     "text": [
      "Classification score for homeo=False & tau_=0.001 is 1.000\n",
      "Number of events: 3404 - Number of features: 2312\n",
      "Classification score for homeo=False & tau_=0.001 is 0.460\n",
      "loading the events from file ../Records/EXP_03_NMNIST/2020-11-03_hots_1.5_ms_40_40_40_event_out_lagorce.pkl\n",
      "Number of events: 3414 - Number of features: 2312\n"
     ]
    },
    {
     "name": "stderr",
     "output_type": "stream",
     "text": [
      "[Parallel(n_jobs=-1)]: Using backend LokyBackend with 36 concurrent workers.\n",
      "[Parallel(n_jobs=-1)]: Done   5 out of   5 | elapsed:  2.7min finished\n"
     ]
    },
    {
     "name": "stdout",
     "output_type": "stream",
     "text": [
      "Classification score for homeo=False & tau_=0.002 is 1.000\n",
      "Number of events: 3404 - Number of features: 2312\n",
      "Classification score for homeo=False & tau_=0.002 is 0.460\n",
      "loading the events from file ../Records/EXP_03_NMNIST/2020-11-03_hots_2.0_ms_40_40_40_event_out_lagorce.pkl\n",
      "Number of events: 3414 - Number of features: 2312\n"
     ]
    },
    {
     "name": "stderr",
     "output_type": "stream",
     "text": [
      "[Parallel(n_jobs=-1)]: Using backend LokyBackend with 36 concurrent workers.\n",
      "[Parallel(n_jobs=-1)]: Done   5 out of   5 | elapsed:  2.9min finished\n"
     ]
    },
    {
     "name": "stdout",
     "output_type": "stream",
     "text": [
      "Classification score for homeo=False & tau_=0.002 is 1.000\n",
      "Number of events: 3404 - Number of features: 2312\n",
      "Classification score for homeo=False & tau_=0.002 is 0.460\n",
      "loading the events from file ../Records/EXP_03_NMNIST/2020-11-03_hots_2.5_ms_40_40_40_event_out_lagorce.pkl\n",
      "Number of events: 3414 - Number of features: 2312\n"
     ]
    },
    {
     "name": "stderr",
     "output_type": "stream",
     "text": [
      "[Parallel(n_jobs=-1)]: Using backend LokyBackend with 36 concurrent workers.\n",
      "[Parallel(n_jobs=-1)]: Done   5 out of   5 | elapsed:  2.1min finished\n"
     ]
    },
    {
     "name": "stdout",
     "output_type": "stream",
     "text": [
      "Classification score for homeo=False & tau_=0.003 is 1.000\n",
      "Number of events: 3404 - Number of features: 2312\n",
      "Classification score for homeo=False & tau_=0.003 is 0.460\n",
      "loading the events from file ../Records/EXP_03_NMNIST/2020-11-03_hots_3.0_ms_40_40_40_event_out_lagorce.pkl\n",
      "Number of events: 3414 - Number of features: 2312\n"
     ]
    },
    {
     "name": "stderr",
     "output_type": "stream",
     "text": [
      "[Parallel(n_jobs=-1)]: Using backend LokyBackend with 36 concurrent workers.\n",
      "[Parallel(n_jobs=-1)]: Done   5 out of   5 | elapsed:  2.0min finished\n"
     ]
    },
    {
     "name": "stdout",
     "output_type": "stream",
     "text": [
      "Classification score for homeo=False & tau_=0.003 is 1.000\n",
      "Number of events: 3404 - Number of features: 2312\n",
      "Classification score for homeo=False & tau_=0.003 is 0.460\n",
      "loading the events from file ../Records/EXP_03_NMNIST/2020-11-03_hots_4.0_ms_40_40_40_event_out_lagorce.pkl\n",
      "Number of events: 3414 - Number of features: 2312\n"
     ]
    },
    {
     "name": "stderr",
     "output_type": "stream",
     "text": [
      "[Parallel(n_jobs=-1)]: Using backend LokyBackend with 36 concurrent workers.\n",
      "[Parallel(n_jobs=-1)]: Done   5 out of   5 | elapsed:  1.9min finished\n"
     ]
    },
    {
     "name": "stdout",
     "output_type": "stream",
     "text": [
      "Classification score for homeo=False & tau_=0.004 is 1.000\n",
      "Number of events: 3404 - Number of features: 2312\n",
      "Classification score for homeo=False & tau_=0.004 is 0.460\n",
      "loading the events from file ../Records/EXP_03_NMNIST/2020-11-03_hots_5.0_ms_40_40_40_event_out_lagorce.pkl\n",
      "Number of events: 3414 - Number of features: 2312\n"
     ]
    },
    {
     "name": "stderr",
     "output_type": "stream",
     "text": [
      "[Parallel(n_jobs=-1)]: Using backend LokyBackend with 36 concurrent workers.\n",
      "[Parallel(n_jobs=-1)]: Done   5 out of   5 | elapsed:  1.9min finished\n"
     ]
    },
    {
     "name": "stdout",
     "output_type": "stream",
     "text": [
      "Classification score for homeo=False & tau_=0.005 is 1.000\n",
      "Number of events: 3404 - Number of features: 2312\n",
      "Classification score for homeo=False & tau_=0.005 is 0.460\n",
      "loading the events from file ../Records/EXP_03_NMNIST/2020-11-03_hots_10.0_ms_40_40_40_event_out_lagorce.pkl\n",
      "Number of events: 3414 - Number of features: 2312\n"
     ]
    },
    {
     "name": "stderr",
     "output_type": "stream",
     "text": [
      "[Parallel(n_jobs=-1)]: Using backend LokyBackend with 36 concurrent workers.\n",
      "[Parallel(n_jobs=-1)]: Done   5 out of   5 | elapsed:  1.9min finished\n"
     ]
    },
    {
     "name": "stdout",
     "output_type": "stream",
     "text": [
      "Classification score for homeo=False & tau_=0.010 is 1.000\n",
      "Number of events: 3404 - Number of features: 2312\n",
      "Classification score for homeo=False & tau_=0.010 is 0.460\n",
      "loading the events from file ../Records/EXP_03_NMNIST/2020-11-03_hots_20.0_ms_40_40_40_event_out_lagorce.pkl\n",
      "Number of events: 3414 - Number of features: 2312\n"
     ]
    },
    {
     "name": "stderr",
     "output_type": "stream",
     "text": [
      "[Parallel(n_jobs=-1)]: Using backend LokyBackend with 36 concurrent workers.\n",
      "[Parallel(n_jobs=-1)]: Done   5 out of   5 | elapsed:  1.9min finished\n"
     ]
    },
    {
     "name": "stdout",
     "output_type": "stream",
     "text": [
      "Classification score for homeo=False & tau_=0.020 is 1.000\n",
      "Number of events: 3404 - Number of features: 2312\n",
      "Classification score for homeo=False & tau_=0.020 is 0.460\n",
      "----------------------------------------\n",
      "homeo=True\n",
      "----------------------------------------\n",
      "loading the events from file ../Records/EXP_03_NMNIST/2020-11-03_hots_0.01_ms_40_40_40_event_out_lagorce_homeo.pkl\n",
      "Number of events: 3414 - Number of features: 2312\n"
     ]
    },
    {
     "name": "stderr",
     "output_type": "stream",
     "text": [
      "[Parallel(n_jobs=-1)]: Using backend LokyBackend with 36 concurrent workers.\n",
      "[Parallel(n_jobs=-1)]: Done   5 out of   5 | elapsed:  1.9min finished\n"
     ]
    },
    {
     "name": "stdout",
     "output_type": "stream",
     "text": [
      "Classification score for homeo=True & tau_=0.000 is 1.000\n",
      "Number of events: 3404 - Number of features: 2312\n",
      "Classification score for homeo=True & tau_=0.000 is 0.460\n",
      "loading the events from file ../Records/EXP_03_NMNIST/2020-11-03_hots_0.1_ms_40_40_40_event_out_lagorce_homeo.pkl\n",
      "Number of events: 3414 - Number of features: 2312\n"
     ]
    },
    {
     "name": "stderr",
     "output_type": "stream",
     "text": [
      "[Parallel(n_jobs=-1)]: Using backend LokyBackend with 36 concurrent workers.\n",
      "[Parallel(n_jobs=-1)]: Done   5 out of   5 | elapsed:  1.9min finished\n"
     ]
    },
    {
     "name": "stdout",
     "output_type": "stream",
     "text": [
      "Classification score for homeo=True & tau_=0.000 is 1.000\n",
      "Number of events: 3404 - Number of features: 2312\n",
      "Classification score for homeo=True & tau_=0.000 is 0.460\n",
      "loading the events from file ../Records/EXP_03_NMNIST/2020-11-03_hots_0.2_ms_40_40_40_event_out_lagorce_homeo.pkl\n",
      "Number of events: 3414 - Number of features: 2312\n"
     ]
    },
    {
     "name": "stderr",
     "output_type": "stream",
     "text": [
      "[Parallel(n_jobs=-1)]: Using backend LokyBackend with 36 concurrent workers.\n",
      "[Parallel(n_jobs=-1)]: Done   5 out of   5 | elapsed:  1.8min finished\n"
     ]
    },
    {
     "name": "stdout",
     "output_type": "stream",
     "text": [
      "Classification score for homeo=True & tau_=0.000 is 1.000\n",
      "Number of events: 3404 - Number of features: 2312\n",
      "Classification score for homeo=True & tau_=0.000 is 0.460\n",
      "loading the events from file ../Records/EXP_03_NMNIST/2020-11-03_hots_0.3_ms_40_40_40_event_out_lagorce_homeo.pkl\n",
      "Number of events: 3414 - Number of features: 2312\n"
     ]
    },
    {
     "name": "stderr",
     "output_type": "stream",
     "text": [
      "[Parallel(n_jobs=-1)]: Using backend LokyBackend with 36 concurrent workers.\n",
      "[Parallel(n_jobs=-1)]: Done   5 out of   5 | elapsed:  1.9min finished\n"
     ]
    },
    {
     "name": "stdout",
     "output_type": "stream",
     "text": [
      "Classification score for homeo=True & tau_=0.000 is 1.000\n",
      "Number of events: 3404 - Number of features: 2312\n",
      "Classification score for homeo=True & tau_=0.000 is 0.460\n",
      "loading the events from file ../Records/EXP_03_NMNIST/2020-11-03_hots_0.4_ms_40_40_40_event_out_lagorce_homeo.pkl\n",
      "Number of events: 3414 - Number of features: 2312\n"
     ]
    },
    {
     "name": "stderr",
     "output_type": "stream",
     "text": [
      "[Parallel(n_jobs=-1)]: Using backend LokyBackend with 36 concurrent workers.\n",
      "[Parallel(n_jobs=-1)]: Done   5 out of   5 | elapsed:  1.9min finished\n"
     ]
    },
    {
     "name": "stdout",
     "output_type": "stream",
     "text": [
      "Classification score for homeo=True & tau_=0.000 is 1.000\n",
      "Number of events: 3404 - Number of features: 2312\n",
      "Classification score for homeo=True & tau_=0.000 is 0.460\n",
      "loading the events from file ../Records/EXP_03_NMNIST/2020-11-03_hots_0.5_ms_40_40_40_event_out_lagorce_homeo.pkl\n",
      "Number of events: 3414 - Number of features: 2312\n"
     ]
    },
    {
     "name": "stderr",
     "output_type": "stream",
     "text": [
      "[Parallel(n_jobs=-1)]: Using backend LokyBackend with 36 concurrent workers.\n",
      "[Parallel(n_jobs=-1)]: Done   5 out of   5 | elapsed:  1.9min finished\n"
     ]
    },
    {
     "name": "stdout",
     "output_type": "stream",
     "text": [
      "Classification score for homeo=True & tau_=0.001 is 1.000\n",
      "Number of events: 3404 - Number of features: 2312\n",
      "Classification score for homeo=True & tau_=0.001 is 0.460\n",
      "loading the events from file ../Records/EXP_03_NMNIST/2020-11-03_hots_0.6_ms_40_40_40_event_out_lagorce_homeo.pkl\n",
      "Number of events: 3414 - Number of features: 2312\n"
     ]
    },
    {
     "name": "stderr",
     "output_type": "stream",
     "text": [
      "[Parallel(n_jobs=-1)]: Using backend LokyBackend with 36 concurrent workers.\n",
      "[Parallel(n_jobs=-1)]: Done   5 out of   5 | elapsed:  1.9min finished\n"
     ]
    },
    {
     "name": "stdout",
     "output_type": "stream",
     "text": [
      "Classification score for homeo=True & tau_=0.001 is 1.000\n",
      "Number of events: 3404 - Number of features: 2312\n",
      "Classification score for homeo=True & tau_=0.001 is 0.460\n",
      "loading the events from file ../Records/EXP_03_NMNIST/2020-11-03_hots_0.7_ms_40_40_40_event_out_lagorce_homeo.pkl\n",
      "Number of events: 3414 - Number of features: 2312\n"
     ]
    },
    {
     "name": "stderr",
     "output_type": "stream",
     "text": [
      "[Parallel(n_jobs=-1)]: Using backend LokyBackend with 36 concurrent workers.\n",
      "[Parallel(n_jobs=-1)]: Done   5 out of   5 | elapsed:  1.9min finished\n"
     ]
    },
    {
     "name": "stdout",
     "output_type": "stream",
     "text": [
      "Classification score for homeo=True & tau_=0.001 is 1.000\n",
      "Number of events: 3404 - Number of features: 2312\n",
      "Classification score for homeo=True & tau_=0.001 is 0.460\n",
      "loading the events from file ../Records/EXP_03_NMNIST/2020-11-03_hots_0.8_ms_40_40_40_event_out_lagorce_homeo.pkl\n",
      "Number of events: 3414 - Number of features: 2312\n"
     ]
    },
    {
     "name": "stderr",
     "output_type": "stream",
     "text": [
      "[Parallel(n_jobs=-1)]: Using backend LokyBackend with 36 concurrent workers.\n",
      "[Parallel(n_jobs=-1)]: Done   5 out of   5 | elapsed:  1.8min finished\n"
     ]
    },
    {
     "name": "stdout",
     "output_type": "stream",
     "text": [
      "Classification score for homeo=True & tau_=0.001 is 1.000\n",
      "Number of events: 3404 - Number of features: 2312\n",
      "Classification score for homeo=True & tau_=0.001 is 0.460\n",
      "loading the events from file ../Records/EXP_03_NMNIST/2020-11-03_hots_0.9_ms_40_40_40_event_out_lagorce_homeo.pkl\n",
      "Number of events: 3414 - Number of features: 2312\n"
     ]
    },
    {
     "name": "stderr",
     "output_type": "stream",
     "text": [
      "[Parallel(n_jobs=-1)]: Using backend LokyBackend with 36 concurrent workers.\n",
      "[Parallel(n_jobs=-1)]: Done   5 out of   5 | elapsed:  1.8min finished\n"
     ]
    },
    {
     "name": "stdout",
     "output_type": "stream",
     "text": [
      "Classification score for homeo=True & tau_=0.001 is 1.000\n",
      "Number of events: 3404 - Number of features: 2312\n",
      "Classification score for homeo=True & tau_=0.001 is 0.460\n",
      "loading the events from file ../Records/EXP_03_NMNIST/2020-11-03_hots_1.0_ms_40_40_40_event_out_lagorce_homeo.pkl\n",
      "Number of events: 3414 - Number of features: 2312\n"
     ]
    },
    {
     "name": "stderr",
     "output_type": "stream",
     "text": [
      "[Parallel(n_jobs=-1)]: Using backend LokyBackend with 36 concurrent workers.\n",
      "[Parallel(n_jobs=-1)]: Done   5 out of   5 | elapsed:  1.8min finished\n"
     ]
    },
    {
     "name": "stdout",
     "output_type": "stream",
     "text": [
      "Classification score for homeo=True & tau_=0.001 is 1.000\n",
      "Number of events: 3404 - Number of features: 2312\n",
      "Classification score for homeo=True & tau_=0.001 is 0.460\n",
      "loading the events from file ../Records/EXP_03_NMNIST/2020-11-03_hots_1.5_ms_40_40_40_event_out_lagorce_homeo.pkl\n",
      "Number of events: 3414 - Number of features: 2312\n"
     ]
    },
    {
     "name": "stderr",
     "output_type": "stream",
     "text": [
      "[Parallel(n_jobs=-1)]: Using backend LokyBackend with 36 concurrent workers.\n",
      "[Parallel(n_jobs=-1)]: Done   5 out of   5 | elapsed:  1.8min finished\n"
     ]
    },
    {
     "name": "stdout",
     "output_type": "stream",
     "text": [
      "Classification score for homeo=True & tau_=0.002 is 1.000\n",
      "Number of events: 3404 - Number of features: 2312\n",
      "Classification score for homeo=True & tau_=0.002 is 0.460\n",
      "loading the events from file ../Records/EXP_03_NMNIST/2020-11-03_hots_2.0_ms_40_40_40_event_out_lagorce_homeo.pkl\n",
      "Number of events: 3414 - Number of features: 2312\n"
     ]
    },
    {
     "name": "stderr",
     "output_type": "stream",
     "text": [
      "[Parallel(n_jobs=-1)]: Using backend LokyBackend with 36 concurrent workers.\n",
      "[Parallel(n_jobs=-1)]: Done   5 out of   5 | elapsed:  1.8min finished\n"
     ]
    },
    {
     "name": "stdout",
     "output_type": "stream",
     "text": [
      "Classification score for homeo=True & tau_=0.002 is 1.000\n",
      "Number of events: 3404 - Number of features: 2312\n",
      "Classification score for homeo=True & tau_=0.002 is 0.460\n",
      "loading the events from file ../Records/EXP_03_NMNIST/2020-11-03_hots_2.5_ms_40_40_40_event_out_lagorce_homeo.pkl\n",
      "Number of events: 3414 - Number of features: 2312\n"
     ]
    },
    {
     "name": "stderr",
     "output_type": "stream",
     "text": [
      "[Parallel(n_jobs=-1)]: Using backend LokyBackend with 36 concurrent workers.\n",
      "[Parallel(n_jobs=-1)]: Done   5 out of   5 | elapsed:  1.8min finished\n"
     ]
    },
    {
     "name": "stdout",
     "output_type": "stream",
     "text": [
      "Classification score for homeo=True & tau_=0.003 is 1.000\n",
      "Number of events: 3404 - Number of features: 2312\n",
      "Classification score for homeo=True & tau_=0.003 is 0.460\n",
      "loading the events from file ../Records/EXP_03_NMNIST/2020-11-03_hots_3.0_ms_40_40_40_event_out_lagorce_homeo.pkl\n",
      "Number of events: 3414 - Number of features: 2312\n"
     ]
    },
    {
     "name": "stderr",
     "output_type": "stream",
     "text": [
      "[Parallel(n_jobs=-1)]: Using backend LokyBackend with 36 concurrent workers.\n",
      "[Parallel(n_jobs=-1)]: Done   5 out of   5 | elapsed:  1.8min finished\n"
     ]
    },
    {
     "name": "stdout",
     "output_type": "stream",
     "text": [
      "Classification score for homeo=True & tau_=0.003 is 1.000\n",
      "Number of events: 3404 - Number of features: 2312\n",
      "Classification score for homeo=True & tau_=0.003 is 0.460\n",
      "loading the events from file ../Records/EXP_03_NMNIST/2020-11-03_hots_4.0_ms_40_40_40_event_out_lagorce_homeo.pkl\n",
      "Number of events: 3414 - Number of features: 2312\n"
     ]
    },
    {
     "name": "stderr",
     "output_type": "stream",
     "text": [
      "[Parallel(n_jobs=-1)]: Using backend LokyBackend with 36 concurrent workers.\n",
      "[Parallel(n_jobs=-1)]: Done   5 out of   5 | elapsed:  1.8min finished\n"
     ]
    },
    {
     "name": "stdout",
     "output_type": "stream",
     "text": [
      "Classification score for homeo=True & tau_=0.004 is 1.000\n",
      "Number of events: 3404 - Number of features: 2312\n",
      "Classification score for homeo=True & tau_=0.004 is 0.460\n",
      "loading the events from file ../Records/EXP_03_NMNIST/2020-11-03_hots_5.0_ms_40_40_40_event_out_lagorce_homeo.pkl\n",
      "Number of events: 3414 - Number of features: 2312\n"
     ]
    },
    {
     "name": "stderr",
     "output_type": "stream",
     "text": [
      "[Parallel(n_jobs=-1)]: Using backend LokyBackend with 36 concurrent workers.\n",
      "[Parallel(n_jobs=-1)]: Done   5 out of   5 | elapsed:  1.8min finished\n"
     ]
    },
    {
     "name": "stdout",
     "output_type": "stream",
     "text": [
      "Classification score for homeo=True & tau_=0.005 is 1.000\n",
      "Number of events: 3404 - Number of features: 2312\n",
      "Classification score for homeo=True & tau_=0.005 is 0.460\n",
      "loading the events from file ../Records/EXP_03_NMNIST/2020-11-03_hots_10.0_ms_40_40_40_event_out_lagorce_homeo.pkl\n",
      "Number of events: 3414 - Number of features: 2312\n"
     ]
    },
    {
     "name": "stderr",
     "output_type": "stream",
     "text": [
      "[Parallel(n_jobs=-1)]: Using backend LokyBackend with 36 concurrent workers.\n",
      "[Parallel(n_jobs=-1)]: Done   5 out of   5 | elapsed:  1.9min finished\n"
     ]
    },
    {
     "name": "stdout",
     "output_type": "stream",
     "text": [
      "Classification score for homeo=True & tau_=0.010 is 1.000\n",
      "Number of events: 3404 - Number of features: 2312\n",
      "Classification score for homeo=True & tau_=0.010 is 0.460\n",
      "creating the events in file ../Records/EXP_03_NMNIST/2020-11-03_hots_20.0_ms_40_40_40_event_out_lagorce_homeo.pkl\n",
      "os.getcwd()='/Users/laurentperrinet/quantic/science/HomeHots/HOTS_clone_laurent/notebooks'\n",
      "os.path.isfile(fname_model)=False\n",
      "learning model ../Records/EXP_03_NMNIST/2020-11-03_hots_20.0_ms_40_40_40_model_lagorce_homeo.pkl\n",
      "run the events through the network\n",
      "Number of events: 3411 - Number of features: 18496\n"
     ]
    },
    {
     "name": "stderr",
     "output_type": "stream",
     "text": [
      "[Parallel(n_jobs=-1)]: Using backend LokyBackend with 36 concurrent workers.\n",
      "[Parallel(n_jobs=-1)]: Done   5 out of   5 | elapsed: 15.5min finished\n"
     ]
    },
    {
     "name": "stdout",
     "output_type": "stream",
     "text": [
      "Classification score for homeo=True & tau_=0.020 is 1.000\n",
      "Number of events: 3401 - Number of features: 18496\n",
      "Classification score for homeo=True & tau_=0.020 is 0.408\n"
     ]
    }
   ],
   "source": [
    "tauz = np.array([1e-5,1e-4,2e-4,3e-4,4e-4,5e-4,6e-4,7e-4,8e-4,9e-4,1e-3,1.5e-3,2e-3,2.5e-3,3e-3,4e-3,5e-3,1e-2,2e-2])\n",
    "for homeo in [False, True]:\n",
    "    print(40*'-')\n",
    "    print(f'{homeo=}')\n",
    "    print(40*'-')\n",
    "    for tau_ in tauz:\n",
    "        events_train_o, events_test_o, labels_train, labels_test = get_events(timestr, tau=tau_, homeo=homeo, verbose=verbose)\n",
    "        \n",
    "        X_train, y_train = gather_data(events_train_o, labels_train, verbose=verbose)\n",
    "        lr = LR(**opts_LR, verbose=verbose).fit(X_train, y_train)\n",
    "        print(f'Classification score for {homeo=} & {tau_=:.6f} is {lr.score(X_train, y_train):.3f}')\n",
    "        X_test, y_test = gather_data(events_test_o, labels_test, verbose=verbose)\n",
    "        print(f'Classification score for {homeo=} & {tau_=:.6f} is {lr.score(X_test, y_test):.3f}')\n"
   ]
  }
 ],
 "metadata": {
  "kernelspec": {
   "display_name": "hots",
   "language": "python",
   "name": "hots"
  },
  "language_info": {
   "codemirror_mode": {
    "name": "ipython",
    "version": 3
   },
   "file_extension": ".py",
   "mimetype": "text/x-python",
   "name": "python",
   "nbconvert_exporter": "python",
   "pygments_lexer": "ipython3",
   "version": "3.8.3"
  }
 },
 "nbformat": 4,
 "nbformat_minor": 4
}
