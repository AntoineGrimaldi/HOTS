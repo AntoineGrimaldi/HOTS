{
 "cells": [
  {
   "cell_type": "code",
   "execution_count": 1,
   "metadata": {
    "execution": {
     "iopub.execute_input": "2020-11-12T10:07:10.044673Z",
     "iopub.status.busy": "2020-11-12T10:07:10.044157Z",
     "iopub.status.idle": "2020-11-12T10:07:11.753736Z",
     "shell.execute_reply": "2020-11-12T10:07:11.754189Z"
    }
   },
   "outputs": [
    {
     "name": "stdout",
     "output_type": "stream",
     "text": [
      "/Users/laurentperrinet/quantic/science/HomeHots/HOTS_clone_laurent\n"
     ]
    }
   ],
   "source": [
    "%run 2020-11-06_NEW_HOTS_05_LogisticRegression.ipynb"
   ]
  },
  {
   "cell_type": "code",
   "execution_count": 2,
   "metadata": {
    "execution": {
     "iopub.execute_input": "2020-11-12T10:07:11.757976Z",
     "iopub.status.busy": "2020-11-12T10:07:11.757427Z",
     "iopub.status.idle": "2020-11-12T10:08:37.983263Z",
     "shell.execute_reply": "2020-11-12T10:08:37.983722Z"
    }
   },
   "outputs": [
    {
     "name": "stdout",
     "output_type": "stream",
     "text": [
      "loading the events from file Records/EXP_03_NMNIST/20201021_hots_0.9_event0_o.pkl\n",
      "Number of events: 20535 - Number of features: 18496\n",
      "loading the events from file Records/EXP_03_NMNIST/20201021_hots_0.9_event0_o_homeo.pkl\n",
      "Number of events: 20023 - Number of features: 18496\n"
     ]
    }
   ],
   "source": [
    "for homeo in [False, True]:\n",
    "\n",
    "    events_train_o, events_test_o = get_events(timestr, tau=tau, homeo=homeo, verb=True)\n",
    "\n",
    "    X, y = gather_data(events_train_o, labels_train)\n"
   ]
  },
  {
   "cell_type": "markdown",
   "metadata": {},
   "source": [
    "### Performing logistic regression with cross-validation\n",
    "\n",
    "https://scikit-learn.org/stable/modules/generated/sklearn.linear_model.LogisticRegressionCV.html\n"
   ]
  },
  {
   "cell_type": "code",
   "execution_count": 3,
   "metadata": {
    "execution": {
     "iopub.execute_input": "2020-11-12T10:08:37.990073Z",
     "iopub.status.busy": "2020-11-12T10:08:37.989529Z",
     "iopub.status.idle": "2020-11-12T15:47:14.211249Z",
     "shell.execute_reply": "2020-11-12T15:47:14.211705Z"
    }
   },
   "outputs": [
    {
     "name": "stdout",
     "output_type": "stream",
     "text": [
      "Number of events: 20535 - Number of features: 18496\n",
      "Classification score for tau_cla=0.075 is 1.000\n",
      "Classification score for tau_cla=0.075 is 0.972\n",
      "Number of events: 10114 - Number of features: 18496\n",
      "Classification score for tau_cla=0.075 is 0.102\n",
      "Number of events: 20535 - Number of features: 18496\n",
      "Classification score for tau_cla=0.119 is 1.000\n",
      "Classification score for tau_cla=0.119 is 0.984\n",
      "Number of events: 10114 - Number of features: 18496\n",
      "Classification score for tau_cla=0.119 is 0.105\n",
      "Number of events: 20535 - Number of features: 18496\n",
      "Classification score for tau_cla=0.189 is 1.000\n",
      "Classification score for tau_cla=0.189 is 0.978\n",
      "Number of events: 10114 - Number of features: 18496\n",
      "Classification score for tau_cla=0.189 is 0.102\n",
      "Number of events: 20535 - Number of features: 18496\n",
      "Classification score for tau_cla=0.300 is 1.000\n",
      "Classification score for tau_cla=0.300 is 0.976\n",
      "Number of events: 10114 - Number of features: 18496\n",
      "Classification score for tau_cla=0.300 is 0.109\n",
      "Number of events: 20535 - Number of features: 18496\n",
      "Classification score for tau_cla=0.476 is 1.000\n",
      "Classification score for tau_cla=0.476 is 0.974\n",
      "Number of events: 10114 - Number of features: 18496\n",
      "Classification score for tau_cla=0.476 is 0.116\n",
      "Number of events: 20535 - Number of features: 18496\n",
      "Classification score for tau_cla=0.756 is 1.000\n",
      "Classification score for tau_cla=0.756 is 0.975\n",
      "Number of events: 10114 - Number of features: 18496\n",
      "Classification score for tau_cla=0.756 is 0.108\n",
      "Number of events: 20535 - Number of features: 18496\n",
      "Classification score for tau_cla=1.200 is 1.000\n",
      "Classification score for tau_cla=1.200 is 0.975\n",
      "Number of events: 10114 - Number of features: 18496\n",
      "Classification score for tau_cla=1.200 is 0.100\n",
      "Number of events: 20023 - Number of features: 18496\n",
      "Classification score for tau_cla=0.075 is 1.000\n",
      "Classification score for tau_cla=0.075 is 0.974\n",
      "Number of events: 10113 - Number of features: 18496\n",
      "Classification score for tau_cla=0.075 is 0.086\n",
      "Number of events: 20023 - Number of features: 18496\n",
      "Classification score for tau_cla=0.119 is 1.000\n",
      "Classification score for tau_cla=0.119 is 0.988\n",
      "Number of events: 10113 - Number of features: 18496\n",
      "Classification score for tau_cla=0.119 is 0.083\n",
      "Number of events: 20023 - Number of features: 18496\n",
      "Classification score for tau_cla=0.189 is 1.000\n",
      "Classification score for tau_cla=0.189 is 0.982\n",
      "Number of events: 10113 - Number of features: 18496\n",
      "Classification score for tau_cla=0.189 is 0.081\n",
      "Number of events: 20023 - Number of features: 18496\n",
      "Classification score for tau_cla=0.300 is 1.000\n",
      "Classification score for tau_cla=0.300 is 0.978\n",
      "Number of events: 10113 - Number of features: 18496\n",
      "Classification score for tau_cla=0.300 is 0.089\n",
      "Number of events: 20023 - Number of features: 18496\n",
      "Classification score for tau_cla=0.476 is 1.000\n",
      "Classification score for tau_cla=0.476 is 0.978\n",
      "Number of events: 10113 - Number of features: 18496\n",
      "Classification score for tau_cla=0.476 is 0.098\n",
      "Number of events: 20023 - Number of features: 18496\n",
      "Classification score for tau_cla=0.756 is 1.000\n",
      "Classification score for tau_cla=0.756 is 0.977\n",
      "Number of events: 10113 - Number of features: 18496\n",
      "Classification score for tau_cla=0.756 is 0.109\n",
      "Number of events: 20023 - Number of features: 18496\n",
      "Classification score for tau_cla=1.200 is 1.000\n",
      "Classification score for tau_cla=1.200 is 0.978\n",
      "Number of events: 10113 - Number of features: 18496\n",
      "Classification score for tau_cla=1.200 is 0.115\n"
     ]
    }
   ],
   "source": [
    "for homeo in [False, True]:\n",
    "    events_train_o, events_test_o = get_events(timestr, tau=tau, homeo=homeo)\n",
    "\n",
    "    for tau_cla in .3 * np.logspace(-1, 1, 7, base=4):\n",
    "        X, y = gather_data(events_train_o, labels_train, tau_cla=tau_cla)\n",
    "        X_train, X_test, y_train, y_test = train_test_split(X, y, test_size=0.33, random_state=42)\n",
    "        lr = LR(**opts_LR).fit(X_train, y_train)\n",
    "        print(f'Classification score for {tau_cla=:.3f} is {lr.score(X_train, y_train):.3f}')\n",
    "        print(f'Classification score for {tau_cla=:.3f} is {lr.score(X_test, y_test):.3f}')\n",
    "        X_test, y_test = gather_data(events_test_o, labels_test, tau_cla=tau_cla)\n",
    "        print(f'Classification score for {tau_cla=:.3f} is {lr.score(X_test, y_test):.3f}')\n"
   ]
  },
  {
   "cell_type": "code",
   "execution_count": null,
   "metadata": {},
   "outputs": [],
   "source": []
  }
 ],
 "metadata": {
  "kernelspec": {
   "display_name": "Python 3",
   "language": "python",
   "name": "python3"
  },
  "language_info": {
   "codemirror_mode": {
    "name": "ipython",
    "version": 3
   },
   "file_extension": ".py",
   "mimetype": "text/x-python",
   "name": "python",
   "nbconvert_exporter": "python",
   "pygments_lexer": "ipython3",
   "version": "3.9.0"
  }
 },
 "nbformat": 4,
 "nbformat_minor": 4
}
