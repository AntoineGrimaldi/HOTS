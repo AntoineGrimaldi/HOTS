{
 "cells": [
  {
   "cell_type": "code",
   "execution_count": 1,
   "metadata": {
    "execution": {
     "iopub.execute_input": "2020-11-18T21:39:53.351161Z",
     "iopub.status.busy": "2020-11-18T21:39:53.350599Z",
     "iopub.status.idle": "2020-11-18T21:39:55.209028Z",
     "shell.execute_reply": "2020-11-18T21:39:55.209528Z"
    }
   },
   "outputs": [
    {
     "name": "stdout",
     "output_type": "stream",
     "text": [
      "/Users/laurentperrinet/quantic/science/HomeHots/HOTS_clone_laurent\n"
     ]
    }
   ],
   "source": [
    "%run 2020-11-06_NEW_HOTS_05_LogisticRegression.ipynb"
   ]
  },
  {
   "cell_type": "code",
   "execution_count": 2,
   "metadata": {
    "execution": {
     "iopub.execute_input": "2020-11-18T21:39:55.213047Z",
     "iopub.status.busy": "2020-11-18T21:39:55.212600Z",
     "iopub.status.idle": "2020-11-18T21:42:44.892082Z",
     "shell.execute_reply": "2020-11-18T21:42:44.892589Z"
    }
   },
   "outputs": [
    {
     "name": "stdout",
     "output_type": "stream",
     "text": [
      "loading the events from file Records/EXP_03_NMNIST/20201021_hots_0.9_event0_o.pkl\n",
      "loading the events from file Records/EXP_03_NMNIST/20201021_hots_0.9_event0_o_homeo.pkl\n"
     ]
    }
   ],
   "source": [
    "for homeo in [False, True]:\n",
    "\n",
    "    events_train_o, events_test_o = get_events(timestr, tau=tau, homeo=homeo, verb=True)\n",
    "\n",
    "    X, y = gather_data(events_train_o, labels_train)\n"
   ]
  },
  {
   "cell_type": "markdown",
   "metadata": {},
   "source": [
    "### Performing logistic regression with cross-validation\n",
    "\n",
    "https://scikit-learn.org/stable/modules/generated/sklearn.linear_model.LogisticRegressionCV.html\n"
   ]
  },
  {
   "cell_type": "code",
   "execution_count": 3,
   "metadata": {
    "execution": {
     "iopub.execute_input": "2020-11-18T21:42:44.897746Z",
     "iopub.status.busy": "2020-11-18T21:42:44.897306Z",
     "iopub.status.idle": "2020-11-19T03:10:52.458298Z",
     "shell.execute_reply": "2020-11-19T03:10:52.458785Z"
    }
   },
   "outputs": [],
   "source": [
    "for homeo in [False, True]:\n",
    "    print(40*'-')\n",
    "    print(f'{homeo=}')\n",
    "    print(40*'-')\n",
    "    events_train_o, events_test_o = get_events(timestr, tau=tau, homeo=homeo)\n",
    "\n",
    "    for tau_cla in .15 * np.logspace(-1, 1, 7, base=4):\n",
    "        X, y = gather_data(events_train_o, labels_train, tau_cla=tau_cla)\n",
    "        X_train, X_test, y_train, y_test = train_test_split(X, y, test_size=0.33, random_state=42)\n",
    "        lr = LR(**opts_LR).fit(X_train, y_train)\n",
    "        print(f'Classification score for {tau_cla=:.3f} is {lr.score(X_train, y_train):.3f}')\n",
    "        print(f'Classification score for {tau_cla=:.3f} is {lr.score(X_test, y_test):.3f}')\n",
    "        X_test, y_test = gather_data(events_test_o, labels_test, tau_cla=tau_cla)\n",
    "        print(f'Classification score for {tau_cla=:.3f} is {lr.score(X_test, y_test):.3f}')"
   ]
  }
 ],
 "metadata": {
  "kernelspec": {
   "display_name": "Python 3",
   "language": "python",
   "name": "python3"
  },
  "language_info": {
   "codemirror_mode": {
    "name": "ipython",
    "version": 3
   },
   "file_extension": ".py",
   "mimetype": "text/x-python",
   "name": "python",
   "nbconvert_exporter": "python",
   "pygments_lexer": "ipython3",
   "version": "3.9.0"
  }
 },
 "nbformat": 4,
 "nbformat_minor": 4
}
