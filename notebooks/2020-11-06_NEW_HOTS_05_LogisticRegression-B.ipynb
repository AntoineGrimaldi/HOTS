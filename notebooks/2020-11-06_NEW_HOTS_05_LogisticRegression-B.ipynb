{
 "cells": [
  {
   "cell_type": "code",
   "execution_count": 1,
   "metadata": {
    "execution": {
     "iopub.execute_input": "2020-11-13T15:58:21.981942Z",
     "iopub.status.busy": "2020-11-13T15:58:21.981485Z",
     "iopub.status.idle": "2020-11-13T15:58:25.329495Z",
     "shell.execute_reply": "2020-11-13T15:58:25.330016Z"
    }
   },
   "outputs": [
    {
     "name": "stdout",
     "output_type": "stream",
     "text": [
      "/Users/laurentperrinet/quantic/science/HomeHots/HOTS_clone_laurent\n"
     ]
    }
   ],
   "source": [
    "%run 2020-11-06_NEW_HOTS_05_LogisticRegression.ipynb"
   ]
  },
  {
   "cell_type": "code",
   "execution_count": 2,
   "metadata": {
    "execution": {
     "iopub.execute_input": "2020-11-13T15:58:25.333405Z",
     "iopub.status.busy": "2020-11-13T15:58:25.332982Z",
     "iopub.status.idle": "2020-11-13T16:01:30.095574Z",
     "shell.execute_reply": "2020-11-13T16:01:30.096085Z"
    }
   },
   "outputs": [
    {
     "name": "stdout",
     "output_type": "stream",
     "text": [
      "loading the events from file Records/EXP_03_NMNIST/20201021_hots_0.9_event0_o.pkl\n",
      "loading the events from file Records/EXP_03_NMNIST/20201021_hots_0.9_event0_o_homeo.pkl\n"
     ]
    }
   ],
   "source": [
    "for homeo in [False, True]:\n",
    "\n",
    "    events_train_o, events_test_o = get_events(timestr, tau=tau, homeo=homeo, verb=True)\n",
    "\n",
    "    X, y = gather_data(events_train_o, labels_train)\n"
   ]
  },
  {
   "cell_type": "markdown",
   "metadata": {},
   "source": [
    "### Performing logistic regression with cross-validation\n",
    "\n",
    "https://scikit-learn.org/stable/modules/generated/sklearn.linear_model.LogisticRegressionCV.html\n"
   ]
  },
  {
   "cell_type": "code",
   "execution_count": 3,
   "metadata": {
    "execution": {
     "iopub.execute_input": "2020-11-13T16:01:30.100270Z",
     "iopub.status.busy": "2020-11-13T16:01:30.099798Z",
     "iopub.status.idle": "2020-11-13T16:01:30.102332Z",
     "shell.execute_reply": "2020-11-13T16:01:30.102871Z"
    }
   },
   "outputs": [
    {
     "ename": "SyntaxError",
     "evalue": "EOL while scanning string literal (<ipython-input-1-d3a988149a6b>, line 3)",
     "output_type": "error",
     "traceback": [
      "\u001b[0;36m  File \u001b[0;32m\"<ipython-input-1-d3a988149a6b>\"\u001b[0;36m, line \u001b[0;32m3\u001b[0m\n\u001b[0;31m    print(f'{homeo=})\u001b[0m\n\u001b[0m                     ^\u001b[0m\n\u001b[0;31mSyntaxError\u001b[0m\u001b[0;31m:\u001b[0m EOL while scanning string literal\n"
     ]
    }
   ],
   "source": [
    "for homeo in [False, True]:\n",
    "    print(40*'-')\n",
    "    print(f'{homeo=})\n",
    "    print(40*'-')\n",
    "    events_train_o, events_test_o = get_events(timestr, tau=tau, homeo=homeo)\n",
    "\n",
    "    for tau_cla in .3 * np.logspace(-1, 1, 7, base=4):\n",
    "        X, y = gather_data(events_train_o, labels_train, tau_cla=tau_cla)\n",
    "        X_train, X_test, y_train, y_test = train_test_split(X, y, test_size=0.33, random_state=42)\n",
    "        lr = LR(**opts_LR).fit(X_train, y_train)\n",
    "        print(f'Classification score for {tau_cla=:.3f} is {lr.score(X_train, y_train):.3f}')\n",
    "        print(f'Classification score for {tau_cla=:.3f} is {lr.score(X_test, y_test):.3f}')\n",
    "        X_test, y_test = gather_data(events_test_o, labels_test, tau_cla=tau_cla)\n",
    "        print(f'Classification score for {tau_cla=:.3f} is {lr.score(X_test, y_test):.3f}')\n"
   ]
  }
 ],
 "metadata": {
  "kernelspec": {
   "display_name": "Python 3",
   "language": "python",
   "name": "python3"
  },
  "language_info": {
   "codemirror_mode": {
    "name": "ipython",
    "version": 3
   },
   "file_extension": ".py",
   "mimetype": "text/x-python",
   "name": "python",
   "nbconvert_exporter": "python",
   "pygments_lexer": "ipython3",
   "version": "3.9.0"
  }
 },
 "nbformat": 4,
 "nbformat_minor": 4
}
