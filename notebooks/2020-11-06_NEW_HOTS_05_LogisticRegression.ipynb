{
 "cells": [
  {
   "cell_type": "code",
   "execution_count": 1,
   "metadata": {},
   "outputs": [
    {
     "name": "stdout",
     "output_type": "stream",
     "text": [
      "/Users/laurentperrinet/quantic/science/HomeHots/HOTS_clone_laurent\n"
     ]
    }
   ],
   "source": [
    "#%load_ext autoreload\n",
    "#%autoreload 2\n",
    "%matplotlib inline\n",
    "%cd '../'"
   ]
  },
  {
   "cell_type": "code",
   "execution_count": 2,
   "metadata": {},
   "outputs": [],
   "source": [
    "import numpy as np\n",
    "import matplotlib.pyplot as plt\n",
    "import os\n",
    "import time\n",
    "# \n",
    "# https://en.wikipedia.org/wiki/ISO_8601\n",
    "import datetime\n",
    "timestr = datetime.datetime.now().date().isoformat()\n",
    "timestr = '20201021'\n",
    "tau = 9e-4\n",
    "\n",
    "from HOTS.Event import conv2eve\n",
    "from HOTS.Tools import SaveObject,LoadObject\n",
    "DataPath = 'Data/testsetnmnist.p'\n",
    "NbClusteringData = 2500\n",
    "NbTrainingData = 5000\n",
    "NbTestingData = 1500\n",
    "\n",
    "fname_event_nmnist = 'Records/EXP_03_NMNIST/'+timestr+'_hots_event_nmnist.p'\n",
    "try:\n",
    "    dataset = LoadObject(fname_event_nmnist)\n",
    "except:\n",
    "    from HOTS.Event import LoadNMNIST\n",
    "    dataset = LoadNMNIST(NbTrainingData, NbTestingData, NbClusteringData, \n",
    "                         Path=DataPath, OneOfEach=False, \n",
    "                         OutOnePolarity=False, ListPolarities=None, verbose=0)\n",
    "    SaveObject(dataset, fname_event_nmnist)\n",
    "\n",
    "events_train, events_test, event_cl, labels_train, labels_test = dataset\n"
   ]
  },
  {
   "cell_type": "code",
   "execution_count": 3,
   "metadata": {},
   "outputs": [],
   "source": [
    "def get_events(timestr, \n",
    "               tau=tau, # -> tau=1ms, si on prend 10 ms on est à 1s pour la dernière couche et les vidéos font 0.3s en moyenne\n",
    "               hom=True, verb=False):\n",
    "    R = 2    \n",
    "    filthr = 2\n",
    "    nbkNN = 3\n",
    "    algo = 'lagorce'\n",
    "    decay = 'exponential'\n",
    "    hom = True\n",
    "    krnlinit = 'rdn'\n",
    "    nb_cluster = [4, 8, 16]\n",
    "\n",
    "    if hom==True:\n",
    "        fname_model = 'Records/EXP_03_NMNIST/'+timestr+'_hots_'+str(tau*1000)+'ms_'+algo+'_homeo.pkl'\n",
    "        fname_event0_o = 'Records/EXP_03_NMNIST/'+timestr+'_hots_'+str(tau*1000)+'_event0_o_homeo.pkl'\n",
    "    else:\n",
    "        fname_model = 'Records/EXP_03_NMNIST/'+timestr+'_hots_'+str(tau*1000)+'ms_'+algo+'.pkl'\n",
    "        fname_event0_o = 'Records/EXP_03_NMNIST/'+timestr+'_hots_'+str(tau*1000)+'_event0_o.pkl'\n",
    "\n",
    "    if not os.path.isfile(fname_event0_o):            \n",
    "        print('creating the events in file', fname_event0_o)\n",
    "        from HOTS.ToolsMonitor import GenerateActivationMap, DisplayActivationMap\n",
    "        from HOTS.Event import Event, SimpleAlphabet, LoadNMNIST\n",
    "        from HOTS.STS import STS\n",
    "        from HOTS.Layer import ClusteringLayer\n",
    "        from HOTS.ToolsMonitor import (\n",
    "            DisplayImage,\n",
    "            DisplaySurface3D,\n",
    "            DisplaySurface2D,\n",
    "            DisplayConvergence,\n",
    "        )\n",
    "        from HOTS.Tools import SaveObject, LoadObject\n",
    "        from HOTS.Network import Network\n",
    "        from HOTS.Event import conv2eve\n",
    "\n",
    "        event_tr, event_te, event_cl, label_tr, label_te = LoadNMNIST(\n",
    "        NbTrainingData, NbTestingData, NbClusteringData, OneOfEach=False, Path=DataPath, OutOnePolarity=False, ListPolarities=None, verbose=0)\n",
    "\n",
    "        L1 = ClusteringLayer(tau=tau,R=R,verbose=0,ThrFilter=filthr,LearningAlgo=algo,kernel=decay,homeo=hom,init=krnlinit)\n",
    "        L2 = ClusteringLayer(tau=10 * tau,R=2 * R,verbose=0,ThrFilter=filthr,LearningAlgo=algo,kernel=decay,homeo=hom,init=krnlinit)\n",
    "        L3 = ClusteringLayer(tau=10 * 10 * tau,R=2 * 2 * R,verbose=0,ThrFilter=filthr,LearningAlgo=algo,kernel=decay,homeo=hom,init=krnlinit)\n",
    "        Net = Network([L1, L2, L3])    \n",
    "\n",
    "        if not os.path.isfile(fname_model):\n",
    "            ClusterLayer, event_output = Net.TrainCluster(\n",
    "                    event=event_cl, NbClusterList=nb_cluster, to_record=True, NbCycle=1\n",
    "                )\n",
    "            SaveObject(ClusterLayer, fname_model)\n",
    "        else: \n",
    "            print('loading model from file', fname_model)\n",
    "\n",
    "            ClusterLayer, Classif0 = LoadObject(fname_model)\n",
    "\n",
    "        print('run the events through the network')\n",
    "        homrun = False\n",
    "        events_train_o = Net.RunNetwork(event_tr, NbClusterList=ClusterLayer, homrun=homrun)\n",
    "        events_test_o = Net.RunNetwork(event_te, NbClusterList=ClusterLayer, homrun=homrun)\n",
    "        SaveObject([events_train, events_test], fname_event0_o)\n",
    "    else: \n",
    "        if verb: print('loading the events from file', fname_event0_o)\n",
    "        events_train_o, events_test_o = LoadObject(fname_event0_o)\n",
    "        \n",
    "    return events_train_o, events_test_o\n"
   ]
  },
  {
   "cell_type": "code",
   "execution_count": null,
   "metadata": {},
   "outputs": [
    {
     "name": "stdout",
     "output_type": "stream",
     "text": [
      "creating the events in file Records/EXP_03_NMNIST/20201021_hots_0.9_event0_o_homeo.pkl\n",
      "[]\n",
      "loading model from file Records/EXP_03_NMNIST/20201021_hots_0.9ms_lagorce_homeo.pkl\n",
      "run the events through the network\n"
     ]
    }
   ],
   "source": [
    "#X_train, y_train = gather_data(events_train, labels_train)\n",
    "events_train_o, events_test_o = get_events(timestr, tau=tau, hom=True, verb=True, )"
   ]
  },
  {
   "cell_type": "markdown",
   "metadata": {},
   "source": [
    "### Building matrix for logistic regression"
   ]
  },
  {
   "cell_type": "code",
   "execution_count": null,
   "metadata": {},
   "outputs": [],
   "source": [
    "def gather_data(events, labels, \n",
    "                tau_cla = .300, # characteristic time of a digit \n",
    "                sample_events = 200,    sample_space = 1,\n",
    "                verbose=False):\n",
    "    c_int = lambda n, d : ((n - 1) // d) + 1\n",
    "\n",
    "    n_events = events.time.shape[0]\n",
    "\n",
    "    data = np.zeros((c_int(events.ImageSize[0], sample_space), \n",
    "                     c_int(events.ImageSize[1], sample_space), \n",
    "                     len(events.ListPolarities))) #tmp data\n",
    "\n",
    "    X = np.zeros((c_int(n_events, sample_events), len(data.ravel())))\n",
    "    y = np.zeros((c_int(n_events, sample_events), ))\n",
    "\n",
    "    t_absolute = 0\n",
    "    t_old = 0\n",
    "    i_labels = 0\n",
    "    for i in range(1, n_events):\n",
    "        if i == events.ChangeIdx[i_labels]:\n",
    "            i_labels += 1\n",
    "            t_absolute += events.time[i]\n",
    "        t_new = t_absolute + events.time[i]\n",
    "        \n",
    "        data *= np.exp(-(t_new-t_old)/tau_cla)\n",
    "        \n",
    "        t_old = t_new\n",
    "\n",
    "        data[events.address[i, 0]//sample_space, \n",
    "             events.address[i, 1]//sample_space, \n",
    "             events.polarity[i]] = 1.\n",
    "\n",
    "        if i % sample_events == 0:\n",
    "            if verbose: print(f'{i=} {n_events=} {n_events//sample_events=}')\n",
    "            X[i//sample_events, :] = data.ravel()\n",
    "            y[i//sample_events] = labels[i_labels]\n",
    "\n",
    "    print('Number of events: ' + str(X.shape[0])+' - Number of features: ' + str(X.shape[1]))\n",
    "\n",
    "    return X, y\n"
   ]
  },
  {
   "cell_type": "code",
   "execution_count": null,
   "metadata": {},
   "outputs": [],
   "source": [
    "from sklearn.linear_model import LogisticRegression as LR\n",
    "# from sklearn.linear_model import LogisticRegressionCV as LR\n",
    "from sklearn.model_selection import train_test_split\n",
    "\n",
    "opts_LR = dict(random_state=0, max_iter=5000, n_jobs=32, class_weight='balanced')\n",
    "#opts_LR['Cs'] = 5\n",
    "#opts_LR['Cs'] = 32\n",
    "\n",
    "# directly from the input\n",
    "# X_train, y_train = gather_data(events_train, labels_train)\n",
    "# lr = LogisticRegressionCV(**opts_LR).fit(X_train, y_train)\n",
    "# X_test, y_test = gather_data(events_test, labels_test)\n",
    "# print(f'Classification score for dataset is {lr.score(X_test, y_test):.3f}')"
   ]
  },
  {
   "cell_type": "code",
   "execution_count": null,
   "metadata": {},
   "outputs": [],
   "source": [
    "# events_train, event_test, event_cl, labels_train, labels_test = dataset\n",
    "\n",
    "X, y = gather_data(events_train, labels_train)\n",
    "X_train, X_test, y_train, y_test = train_test_split(X, y, test_size=0.33, random_state=42)\n",
    "lr = LR(**opts_LR).fit(X_train, y_train)\n",
    "print(f'Classification score for raw input is {lr.score(X_train, y_train):.3f}')\n",
    "print(f'Classification score for raw input is {lr.score(X_test, y_test):.3f}')\n",
    "\n"
   ]
  },
  {
   "cell_type": "code",
   "execution_count": null,
   "metadata": {},
   "outputs": [],
   "source": []
  },
  {
   "cell_type": "code",
   "execution_count": null,
   "metadata": {},
   "outputs": [],
   "source": [
    "# events_train, event_test, event_cl, labels_train, labels_test = dataset\n",
    "\n",
    "X_train, y_train = gather_data(events_train, labels_train)\n",
    "lr = LR(**opts_LR).fit(X_train, y_train)\n",
    "print(f'Classification score for raw input is {lr.score(X_train, y_train):.3f}')\n",
    "X_test, y_test = gather_data(events_test, labels_test)\n",
    "print(f'Classification score for raw input is {lr.score(X_test, y_test):.3f}')\n",
    "\n"
   ]
  },
  {
   "cell_type": "code",
   "execution_count": null,
   "metadata": {},
   "outputs": [],
   "source": []
  }
 ],
 "metadata": {
  "kernelspec": {
   "display_name": "Python 3",
   "language": "python",
   "name": "python3"
  },
  "language_info": {
   "codemirror_mode": {
    "name": "ipython",
    "version": 3
   },
   "file_extension": ".py",
   "mimetype": "text/x-python",
   "name": "python",
   "nbconvert_exporter": "python",
   "pygments_lexer": "ipython3",
   "version": "3.9.0"
  }
 },
 "nbformat": 4,
 "nbformat_minor": 4
}
