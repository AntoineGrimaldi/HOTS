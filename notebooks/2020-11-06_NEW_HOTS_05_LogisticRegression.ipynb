{
 "cells": [
  {
   "cell_type": "code",
   "execution_count": 1,
   "metadata": {},
   "outputs": [
    {
     "name": "stdout",
     "output_type": "stream",
     "text": [
      "/Users/laurentperrinet/quantic/science/HomeHots/HOTS_clone_laurent\n"
     ]
    }
   ],
   "source": [
    "#%load_ext autoreload\n",
    "#%autoreload 2\n",
    "%matplotlib inline\n",
    "%cd '../'"
   ]
  },
  {
   "cell_type": "code",
   "execution_count": 2,
   "metadata": {},
   "outputs": [
    {
     "name": "stdout",
     "output_type": "stream",
     "text": [
      " Running this notebook directly =  True\n"
     ]
    }
   ],
   "source": [
    "# https://laurentperrinet.github.io/sciblog/posts/2020-08-09-nesting-jupyter-runs.html\n",
    "    \n",
    "#verb =  (__name__ == \"__main__\")\n",
    "def has_parent():\n",
    "    \"\"\"\n",
    "    https://stackoverflow.com/questions/48067529/ipython-run-magic-n-switch-not-working\n",
    "    \n",
    "    Return True if this notebook is being run by calling\n",
    "    %run in another notebook, False otherwise.\n",
    "    \"\"\"\n",
    "    try:\n",
    "        __file__\n",
    "        # __file__ has been defined, so this notebook is \n",
    "        # being run in a parent notebook\n",
    "        return True\n",
    "\n",
    "    except NameError:\n",
    "        # __file__ has not been defined, so this notebook is \n",
    "        # not being run in a parent notebook\n",
    "        return False\n",
    "def do_verb():\n",
    "    return not has_parent()\n",
    "\n",
    "\n",
    "do_it = do_verb()\n",
    "if do_it : print(' Running this notebook directly = ', do_it)    \n"
   ]
  },
  {
   "cell_type": "code",
   "execution_count": 3,
   "metadata": {},
   "outputs": [],
   "source": [
    "import numpy as np\n",
    "import matplotlib.pyplot as plt\n",
    "import os\n",
    "import time\n",
    "# \n",
    "# https://en.wikipedia.org/wiki/ISO_8601\n",
    "import datetime\n",
    "timestr = datetime.datetime.now().date().isoformat()\n",
    "timestr = '20201021'\n",
    "timestr = '2020-11-03'\n",
    "tau = 9e-4\n",
    "\n",
    "from HOTS.Event import conv2eve\n",
    "from HOTS.Tools import SaveObject, LoadObject\n",
    "\n",
    "ds = 10\n",
    "ds = 1\n",
    "NbClusteringData = 2500//ds\n",
    "NbTrainingData = 5000//ds\n",
    "NbTestingData = 1500//ds"
   ]
  },
  {
   "cell_type": "code",
   "execution_count": 4,
   "metadata": {},
   "outputs": [],
   "source": [
    "def get_nmnist(timestr, NbTrainingData, NbTestingData, NbClusteringData, DataPath='Data/testsetnmnist.p', verbose=False):\n",
    "    fname_event_nmnist = f'Records/EXP_03_NMNIST/{timestr}_hots_event_nmnist.pkl'\n",
    "    # print(help(LoadNMNIST))\n",
    "    try:\n",
    "        dataset = LoadObject(fname_event_nmnist)\n",
    "        if verbose: print('loading the events from file', fname_event_nmnist)\n",
    "    except:\n",
    "        from HOTS.Event import LoadNMNIST\n",
    "        dataset = LoadNMNIST(NbTrainingData, NbTestingData, NbClusteringData, \n",
    "                             Path=DataPath, verbose=0)\n",
    "        SaveObject(dataset, fname_event_nmnist)\n",
    "        if verbose: print('saving the events to file', fname_event_nmnist)\n",
    "\n",
    "    events_train, events_test, event_cluster, labels_train, labels_test = dataset\n",
    "    return events_train, events_test, event_cluster, labels_train, labels_test\n"
   ]
  },
  {
   "cell_type": "code",
   "execution_count": 5,
   "metadata": {},
   "outputs": [],
   "source": [
    "def get_events(timestr, NbTrainingData=NbTrainingData, NbTestingData=NbTestingData, NbClusteringData=NbClusteringData, \n",
    "               tau=tau, # -> tau=1ms, si on prend 10 ms on est à 1s pour la dernière couche et les vidéos font 0.3s en moyenne\n",
    "               homeo=True, verbose=False):\n",
    "    R = 2    \n",
    "    filthr = 2\n",
    "    nbkNN = 3\n",
    "    algo = 'lagorce'\n",
    "    decay = 'exponential'\n",
    "    krnlinit = 'rdn'\n",
    "    nb_cluster = [4, 8, 16]\n",
    "\n",
    "    fname_ = f'Records/EXP_03_NMNIST/{timestr}_hots_{tau*1000}'\n",
    "        \n",
    "    label = '_homeo' if homeo else ''\n",
    "    \n",
    "    fname_model = fname_ + 'ms_' + algo + label + '.pkl'\n",
    "    fname_event0_o = fname_ + '_event_o' + algo + label + '.pkl'\n",
    "\n",
    "    if not os.path.isfile(fname_event0_o):            \n",
    "        if verbose: print('creating the events in file', fname_event0_o)\n",
    "        from HOTS.ToolsMonitor import GenerateActivationMap, DisplayActivationMap\n",
    "        from HOTS.Event import Event, SimpleAlphabet, LoadNMNIST\n",
    "        from HOTS.STS import STS\n",
    "        from HOTS.Layer import ClusteringLayer\n",
    "        from HOTS.ToolsMonitor import (\n",
    "            DisplayImage,\n",
    "            DisplaySurface3D,\n",
    "            DisplaySurface2D,\n",
    "            DisplayConvergence,\n",
    "        )\n",
    "        from HOTS.Network import Network\n",
    "        from HOTS.Event import conv2eve\n",
    "\n",
    "        events_train, events_test, event_cluster, labels_train, labels_test = get_nmnist(timestr, NbTrainingData, NbTestingData, NbClusteringData)\n",
    "        \n",
    "        L1 = ClusteringLayer(tau=tau,R=R,verbose=0,ThrFilter=filthr,LearningAlgo=algo,kernel=decay,homeo=homeo,init=krnlinit)\n",
    "        L2 = ClusteringLayer(tau=10 * tau,R=2 * R,verbose=0,ThrFilter=filthr,LearningAlgo=algo,kernel=decay,homeo=homeo,init=krnlinit)\n",
    "        L3 = ClusteringLayer(tau=10 * 10 * tau,R=2 * 2 * R,verbose=0,ThrFilter=filthr,LearningAlgo=algo,kernel=decay,homeo=homeo,init=krnlinit)\n",
    "        Net = Network([L1, L2, L3])    \n",
    "\n",
    "\n",
    "        if not os.path.isfile(fname_model):\n",
    "            ClusterLayer, event_output = Net.TrainCluster(\n",
    "                    event=event_cluster, NbClusterList=nb_cluster, to_record=True, NbCycle=1\n",
    "                )\n",
    "            SaveObject(ClusterLayer, fname_model)\n",
    "        else: \n",
    "            if verbose: print('loading model from file', fname_model)\n",
    "\n",
    "            ClusterLayer, Classif0 = LoadObject(fname_model)\n",
    "\n",
    "        if verbose: print('run the events through the network')\n",
    "        homrun = False\n",
    "        events_train_o = Net.RunNetwork(events_train, NbClusterList=ClusterLayer, homrun=homrun)\n",
    "        events_test_o = Net.RunNetwork(events_test, NbClusterList=ClusterLayer, homrun=homrun)\n",
    "        SaveObject([events_train, events_test], fname_event0_o)\n",
    "    else: \n",
    "        if verbose: print('loading the events from file', fname_event0_o)\n",
    "        events_train_o, events_test_o = LoadObject(fname_event0_o)\n",
    "        \n",
    "    return events_train_o, events_test_o\n"
   ]
  },
  {
   "cell_type": "markdown",
   "metadata": {},
   "source": [
    "### Building matrix for logistic regression"
   ]
  },
  {
   "cell_type": "code",
   "execution_count": 6,
   "metadata": {},
   "outputs": [],
   "source": [
    "def gather_data(events_in, labels_in, \n",
    "                tau_cla=.150, # characteristic time of a digit \n",
    "                sample_events=200, sample_space = 1,\n",
    "                verbose=False, debug=False):\n",
    "    \n",
    "    c_int = lambda n, d : ((n - 1) // d) + 1\n",
    "\n",
    "    n_events = events_in.time.shape[0]\n",
    "\n",
    "    data = np.zeros((c_int(events_in.ImageSize[0], sample_space), \n",
    "                     c_int(events_in.ImageSize[1], sample_space), \n",
    "                     len(events_in.ListPolarities))) #tmp data\n",
    "\n",
    "    X = np.zeros((c_int(n_events, sample_events), len(data.ravel())))\n",
    "    y = np.zeros((c_int(n_events, sample_events), ))\n",
    "\n",
    "    #t_absolute = 0\n",
    "    #t_old = 0\n",
    "    #i_labels = 0\n",
    "    for i_event in range(1, n_events):\n",
    "        #if i == events_in.ChangeIdx[i_labels]:\n",
    "            #i_labels += 1\n",
    "            #t_absolute += events_in.time[i]\n",
    "        #t_new = t_absolute + events_in.time[i]\n",
    "        #t_new = events_in.time[i]\n",
    "        \n",
    "        d = np.exp(-(events_in.time[i_event]-events_in.time[i_event-1])/tau_cla)\n",
    "        data *= d \n",
    "        if debug: assert(d <= 1) # is inferior to 1\n",
    "        \n",
    "        #t_old = t_new\n",
    "\n",
    "        x_pos = events_in.address[i_event, 0]//sample_space\n",
    "        y_pos = events_in.address[i_event, 1]//sample_space\n",
    "        p = events_in.polarity[i_event]\n",
    "        data[x_pos, y_pos, p] = 1.\n",
    "\n",
    "        if i_event % sample_events == sample_events//2 :\n",
    "            if debug: \n",
    "                print(f'DEBUG {i_event=} {i_event//sample_events=} ')\n",
    "                print(f'DEBUG {y[i_event//sample_events]=}   ')\n",
    "                print(f'DEBUG  {labels_in[i_event]=} ')\n",
    "            X[i_event//sample_events, :] = data.ravel()\n",
    "            y[i_event//sample_events] = labels_in[i_event]\n",
    "            \n",
    "\n",
    "    if verbose: print('Number of events: ' + str(X.shape[0])+' - Number of features: ' + str(X.shape[1]))\n",
    "\n",
    "    return X, y\n"
   ]
  },
  {
   "cell_type": "code",
   "execution_count": 7,
   "metadata": {},
   "outputs": [],
   "source": [
    "from sklearn.linear_model import LogisticRegression as LR\n",
    "# from sklearn.linear_model import LogisticRegressionCV as LR\n",
    "from sklearn.model_selection import train_test_split\n",
    "\n",
    "opts_LR = dict(random_state=0, max_iter=5000, n_jobs=-1, class_weight='balanced')\n",
    "#opts_LR['Cs'] = 5\n",
    "#opts_LR['Cs'] = 32\n"
   ]
  },
  {
   "cell_type": "code",
   "execution_count": 8,
   "metadata": {},
   "outputs": [
    {
     "name": "stdout",
     "output_type": "stream",
     "text": [
      "loading the events from file Records/EXP_03_NMNIST/2020-11-03_hots_event_nmnist.pkl\n",
      "Done in 0.705\n",
      "[0 1]\n"
     ]
    }
   ],
   "source": [
    "if do_it : \n",
    "    tic = time.time()\n",
    "    dataset = get_nmnist(timestr, NbTrainingData, NbTestingData, NbClusteringData, verbose=True)\n",
    "    events_train, events_test, events_cluster, labels_train, labels_test = dataset\n",
    "    print(f'Done in {time.time() - tic:.3f}')\n",
    "    print(events_train.ListPolarities)"
   ]
  },
  {
   "cell_type": "code",
   "execution_count": 9,
   "metadata": {},
   "outputs": [
    {
     "data": {
      "text/plain": [
       "array([0, 1, 2, 3, 4, 5, 6, 7, 8, 9])"
      ]
     },
     "execution_count": 9,
     "metadata": {},
     "output_type": "execute_result"
    }
   ],
   "source": [
    "np.unique(labels_train)"
   ]
  },
  {
   "cell_type": "code",
   "execution_count": 10,
   "metadata": {},
   "outputs": [
    {
     "data": {
      "text/plain": [
       "[<matplotlib.lines.Line2D at 0x7f8fb8a11af0>]"
      ]
     },
     "execution_count": 10,
     "metadata": {},
     "output_type": "execute_result"
    },
    {
     "data": {
      "image/png": "[encoded data removed]",
      "text/plain": [
       "<Figure size 432x288 with 1 Axes>"
      ]
     },
     "metadata": {
      "needs_background": "light"
     },
     "output_type": "display_data"
    }
   ],
   "source": [
    "plt.plot(labels_train[:50000:100])"
   ]
  },
  {
   "cell_type": "code",
   "execution_count": 11,
   "metadata": {},
   "outputs": [
    {
     "data": {
      "text/plain": [
       "[<matplotlib.lines.Line2D at 0x7f8f400d9f10>]"
      ]
     },
     "execution_count": 11,
     "metadata": {},
     "output_type": "execute_result"
    },
    {
     "data": {
      "image/png": "[encoded data removed]",
      "text/plain": [
       "<Figure size 432x288 with 1 Axes>"
      ]
     },
     "metadata": {
      "needs_background": "light"
     },
     "output_type": "display_data"
    }
   ],
   "source": [
    "plt.plot(events_train.time[:50000:100])"
   ]
  },
  {
   "cell_type": "code",
   "execution_count": 12,
   "metadata": {},
   "outputs": [
    {
     "data": {
      "text/plain": [
       "array([0, 1, 2, 3, 4, 5, 6, 7, 8, 9])"
      ]
     },
     "execution_count": 12,
     "metadata": {},
     "output_type": "execute_result"
    }
   ],
   "source": [
    "np.unique(labels_test)"
   ]
  },
  {
   "cell_type": "code",
   "execution_count": 13,
   "metadata": {},
   "outputs": [
    {
     "data": {
      "text/plain": [
       "[<matplotlib.lines.Line2D at 0x7f8fe8296a60>]"
      ]
     },
     "execution_count": 13,
     "metadata": {},
     "output_type": "execute_result"
    },
    {
     "data": {
      "image/png": "[encoded data removed]",
      "text/plain": [
       "<Figure size 432x288 with 1 Axes>"
      ]
     },
     "metadata": {
      "needs_background": "light"
     },
     "output_type": "display_data"
    }
   ],
   "source": [
    "plt.plot(labels_test[:50000:100])"
   ]
  },
  {
   "cell_type": "code",
   "execution_count": 14,
   "metadata": {},
   "outputs": [
    {
     "data": {
      "text/plain": [
       "(20951770, (209518,))"
      ]
     },
     "execution_count": 14,
     "metadata": {},
     "output_type": "execute_result"
    }
   ],
   "source": [
    "c_int = lambda n, d : ((n - 1) // d) + 1\n",
    "sample_events=100\n",
    "n_events = events_train.time.shape[0]\n",
    "y = np.zeros((c_int(n_events, sample_events), ))\n",
    "n_events, y.shape"
   ]
  },
  {
   "cell_type": "code",
   "execution_count": 15,
   "metadata": {},
   "outputs": [],
   "source": [
    "from joblib import parallel_backend\n"
   ]
  },
  {
   "cell_type": "code",
   "execution_count": null,
   "metadata": {},
   "outputs": [],
   "source": []
  },
  {
   "cell_type": "code",
   "execution_count": 16,
   "metadata": {},
   "outputs": [
    {
     "name": "stdout",
     "output_type": "stream",
     "text": [
      "Number of events: 209518 - Number of features: 162\n",
      "Done in 126.879\n"
     ]
    }
   ],
   "source": [
    "if do_it : \n",
    "    opts_LR = dict(random_state=0, max_iter=500, n_jobs=10, class_weight='balanced')\n",
    "    opt_gather = dict(sample_events=100, sample_space = 4, verbose=True)\n",
    "\n",
    "    tic = time.time()\n",
    "    X_train, y_train = gather_data(events_train, labels_train,  **opt_gather)\n",
    "    print(f'Done in {time.time() - tic:.3f}')"
   ]
  },
  {
   "cell_type": "code",
   "execution_count": 17,
   "metadata": {},
   "outputs": [
    {
     "name": "stdout",
     "output_type": "stream",
     "text": [
      "Classification score for raw input is 0.681\n",
      "Done in 254.382\n",
      "Number of events: 63381 - Number of features: 162\n",
      "Classification score for raw input is 0.646\n",
      "Done in 39.606\n"
     ]
    }
   ],
   "source": [
    "if do_it : \n",
    "    tic = time.time()\n",
    "    with parallel_backend('loky'):\n",
    "        lr = LR(**opts_LR).fit(X_train, y_train)\n",
    "    print(f'Classification score for raw input is {lr.score(X_train, y_train):.3f}')\n",
    "    print(f'Done in {time.time() - tic:.3f}')\n",
    "\n",
    "    tic = time.time()\n",
    "    X_test, y_test = gather_data(events_test, labels_test,  **opt_gather)\n",
    "    print(f'Classification score for raw input is {lr.score(X_test, y_test):.3f}')\n",
    "    print(f'Done in {time.time() - tic:.3f}')\n",
    "    "
   ]
  },
  {
   "cell_type": "code",
   "execution_count": 18,
   "metadata": {},
   "outputs": [
    {
     "data": {
      "text/plain": [
       "array([4., 4., 4., 4., 4., 4., 4., 4., 4., 4., 4., 4., 4., 4., 4., 4., 4.,\n",
       "       4., 4., 4., 4., 4., 4., 4., 4., 4., 4., 4., 4., 4., 4., 4., 4., 4.,\n",
       "       4., 4., 4., 4., 4., 4., 4., 4., 4., 4., 4., 4., 4., 4., 4., 4., 4.,\n",
       "       4., 7., 7., 7., 7., 7., 7., 7., 7., 7., 7., 7., 7., 7., 7., 7., 7.,\n",
       "       7., 7., 7., 7., 7., 7., 7., 7., 7., 7., 7., 7., 7., 7., 7., 7., 7.,\n",
       "       0., 0., 0., 0., 0., 0., 0., 0., 0., 0., 0., 0., 0., 0., 0.])"
      ]
     },
     "execution_count": 18,
     "metadata": {},
     "output_type": "execute_result"
    }
   ],
   "source": [
    "y_train[:100]"
   ]
  },
  {
   "cell_type": "code",
   "execution_count": 19,
   "metadata": {},
   "outputs": [
    {
     "data": {
      "text/plain": [
       "array([0., 1., 2., 3., 4., 5., 6., 7., 8., 9.])"
      ]
     },
     "execution_count": 19,
     "metadata": {},
     "output_type": "execute_result"
    }
   ],
   "source": [
    "np.unique(y_train)"
   ]
  },
  {
   "cell_type": "code",
   "execution_count": 20,
   "metadata": {},
   "outputs": [],
   "source": [
    "y_pred = lr.predict(X_test)"
   ]
  },
  {
   "cell_type": "code",
   "execution_count": 21,
   "metadata": {},
   "outputs": [
    {
     "data": {
      "text/plain": [
       "(array([0., 1., 2., 3., 4., 5., 6., 7., 8., 9.]),\n",
       " array([0., 1., 2., 3., 4., 5., 6., 7., 8., 9.]),\n",
       " array([0., 1., 2., 3., 4., 5., 6., 7., 8., 9.]))"
      ]
     },
     "execution_count": 21,
     "metadata": {},
     "output_type": "execute_result"
    }
   ],
   "source": [
    "np.unique(y_train), np.unique(y_test), np.unique(y_pred)"
   ]
  },
  {
   "cell_type": "code",
   "execution_count": 22,
   "metadata": {},
   "outputs": [],
   "source": [
    "import pickle\n",
    "EVE = pickle.load(open('Data/testsetnmnist.p', \"rb\" ))"
   ]
  },
  {
   "cell_type": "code",
   "execution_count": 23,
   "metadata": {},
   "outputs": [
    {
     "data": {
      "text/plain": [
       "10000"
      ]
     },
     "execution_count": 23,
     "metadata": {},
     "output_type": "execute_result"
    }
   ],
   "source": [
    "len(EVE)"
   ]
  },
  {
   "cell_type": "code",
   "execution_count": 24,
   "metadata": {},
   "outputs": [],
   "source": [
    "e0 = EVE[0]"
   ]
  },
  {
   "cell_type": "code",
   "execution_count": 25,
   "metadata": {},
   "outputs": [
    {
     "data": {
      "text/plain": [
       "(0, array([   581,   1703,   2625, ..., 307025, 307397, 308529], dtype=int32))"
      ]
     },
     "execution_count": 25,
     "metadata": {},
     "output_type": "execute_result"
    }
   ],
   "source": [
    "e0.l, e0.t"
   ]
  },
  {
   "cell_type": "code",
   "execution_count": 26,
   "metadata": {},
   "outputs": [
    {
     "data": {
      "text/plain": [
       "array([0, 1, 2, 3, 4, 5, 6, 7, 8, 9])"
      ]
     },
     "execution_count": 26,
     "metadata": {},
     "output_type": "execute_result"
    }
   ],
   "source": [
    "labels = []\n",
    "for e_i in EVE:\n",
    "    labels.append(e_i.l)\n",
    "np.unique(labels)"
   ]
  },
  {
   "cell_type": "code",
   "execution_count": 27,
   "metadata": {},
   "outputs": [
    {
     "data": {
      "text/plain": [
       "[<matplotlib.lines.Line2D at 0x7f8fd83344c0>]"
      ]
     },
     "execution_count": 27,
     "metadata": {},
     "output_type": "execute_result"
    },
    {
     "data": {
      "image/png": "[encoded data removed]",
      "text/plain": [
       "<Figure size 432x288 with 1 Axes>"
      ]
     },
     "metadata": {
      "needs_background": "light"
     },
     "output_type": "display_data"
    }
   ],
   "source": [
    "plt.plot(y_train)"
   ]
  },
  {
   "cell_type": "code",
   "execution_count": 28,
   "metadata": {},
   "outputs": [],
   "source": [
    "import random"
   ]
  },
  {
   "cell_type": "code",
   "execution_count": 29,
   "metadata": {},
   "outputs": [
    {
     "data": {
      "text/plain": [
       "\u001b[0;31mSignature:\u001b[0m \u001b[0mrandom\u001b[0m\u001b[0;34m.\u001b[0m\u001b[0msample\u001b[0m\u001b[0;34m(\u001b[0m\u001b[0mpopulation\u001b[0m\u001b[0;34m,\u001b[0m \u001b[0mk\u001b[0m\u001b[0;34m)\u001b[0m\u001b[0;34m\u001b[0m\u001b[0;34m\u001b[0m\u001b[0m\n",
       "\u001b[0;31mDocstring:\u001b[0m\n",
       "Chooses k unique random elements from a population sequence or set.\n",
       "\n",
       "Returns a new list containing elements from the population while\n",
       "leaving the original population unchanged.  The resulting list is\n",
       "in selection order so that all sub-slices will also be valid random\n",
       "samples.  This allows raffle winners (the sample) to be partitioned\n",
       "into grand prize and second place winners (the subslices).\n",
       "\n",
       "Members of the population need not be hashable or unique.  If the\n",
       "population contains repeats, then each occurrence is a possible\n",
       "selection in the sample.\n",
       "\n",
       "To choose a sample in a range of integers, use range as an argument.\n",
       "This is especially fast and space efficient for sampling from a\n",
       "large population:   sample(range(10000000), 60)\n",
       "\u001b[0;31mFile:\u001b[0m      /usr/local/anaconda3/lib/python3.8/random.py\n",
       "\u001b[0;31mType:\u001b[0m      method\n"
      ]
     },
     "metadata": {},
     "output_type": "display_data"
    }
   ],
   "source": [
    "random.sample?"
   ]
  },
  {
   "cell_type": "code",
   "execution_count": 30,
   "metadata": {},
   "outputs": [
    {
     "data": {
      "text/plain": [
       "\u001b[0;31mDocstring:\u001b[0m\n",
       "permutation(x)\n",
       "\n",
       "Randomly permute a sequence, or return a permuted range.\n",
       "\n",
       "If `x` is a multi-dimensional array, it is only shuffled along its\n",
       "first index.\n",
       "\n",
       ".. note::\n",
       "    New code should use the ``permutation`` method of a ``default_rng()``\n",
       "    instance instead; see `random-quick-start`.\n",
       "\n",
       "Parameters\n",
       "----------\n",
       "x : int or array_like\n",
       "    If `x` is an integer, randomly permute ``np.arange(x)``.\n",
       "    If `x` is an array, make a copy and shuffle the elements\n",
       "    randomly.\n",
       "\n",
       "Returns\n",
       "-------\n",
       "out : ndarray\n",
       "    Permuted sequence or array range.\n",
       "\n",
       "See Also\n",
       "--------\n",
       "Generator.permutation: which should be used for new code.\n",
       "\n",
       "Examples\n",
       "--------\n",
       ">>> np.random.permutation(10)\n",
       "array([1, 7, 4, 3, 0, 9, 2, 5, 8, 6]) # random\n",
       "\n",
       ">>> np.random.permutation([1, 4, 9, 12, 15])\n",
       "array([15,  1,  9,  4, 12]) # random\n",
       "\n",
       ">>> arr = np.arange(9).reshape((3, 3))\n",
       ">>> np.random.permutation(arr)\n",
       "array([[6, 7, 8], # random\n",
       "       [0, 1, 2],\n",
       "       [3, 4, 5]])\n",
       "\u001b[0;31mType:\u001b[0m      builtin_function_or_method\n"
      ]
     },
     "metadata": {},
     "output_type": "display_data"
    }
   ],
   "source": [
    "np.random.permutation?"
   ]
  },
  {
   "cell_type": "code",
   "execution_count": 31,
   "metadata": {},
   "outputs": [
    {
     "data": {
      "text/plain": [
       "(10, 2, 2)"
      ]
     },
     "execution_count": 31,
     "metadata": {},
     "output_type": "execute_result"
    }
   ],
   "source": [
    "from sklearn.metrics import multilabel_confusion_matrix\n",
    "\n",
    "multilabel_confusion_matrix(y_test, y_pred).shape"
   ]
  },
  {
   "cell_type": "code",
   "execution_count": null,
   "metadata": {},
   "outputs": [
    {
     "name": "stdout",
     "output_type": "stream",
     "text": [
      "creating the events in file Records/EXP_03_NMNIST/2020-11-03_hots_0.9_event_olagorce_homeo.pkl\n"
     ]
    }
   ],
   "source": [
    "if do_it : \n",
    "    tic = time.time()\n",
    "    events_train_o, events_test_o = get_events(timestr, tau=tau, homeo=True, verbose=True)\n",
    "    print(f'Done in {time.time() - tic:.3f}')\n",
    "\n",
    "    tic = time.time()\n",
    "    X_train, y_train = gather_data(events_train, labels_train,  **opt_gather)\n",
    "    print(f'Done in {time.time() - tic:.3f}')\n",
    "\n",
    "    tic = time.time()\n",
    "    lr = LR(**opts_LR).fit(X_train, y_train)\n",
    "    print(f'Classification score for raw input is {lr.score(X_train, y_train):.3f}')\n",
    "    print(f'Done in {time.time() - tic:.3f}')\n",
    "\n",
    "    tic = time.time()\n",
    "    X_test, y_test = gather_data(events_test, labels_test,  **opt_gather)\n",
    "    print(f'Done in {time.time() - tic:.3f}')\n",
    "    print(f'Classification score for raw input is {lr.score(X_test, y_test):.3f}')\n"
   ]
  },
  {
   "cell_type": "code",
   "execution_count": null,
   "metadata": {},
   "outputs": [],
   "source": []
  },
  {
   "cell_type": "code",
   "execution_count": null,
   "metadata": {},
   "outputs": [],
   "source": [
    "if do_it : \n",
    "    tic = time.time()\n",
    "    dataset = get_nmnist(timestr, NbTrainingData, NbTestingData, NbClusteringData, verbose=True)\n",
    "    events_train, event_test, event_cluster, labels_train, labels_test = dataset\n",
    "    print(f'Done in {time.time() - tic:.3f}')\n"
   ]
  },
  {
   "cell_type": "code",
   "execution_count": null,
   "metadata": {},
   "outputs": [],
   "source": [
    "if do_it : \n",
    "    \n",
    "    tic = time.time()\n",
    "    X_train, y_train = gather_data(events_train, labels_train, **opt_gather)\n",
    "    print(f'Done in {time.time() - tic:.3f}')\n",
    "\n",
    "    tic = time.time()\n",
    "    lr = LR(**opts_LR).fit(X_train, y_train)\n",
    "    print(f'Done in {time.time() - tic:.3f}')\n",
    "    print(f'Classification score for raw input is {lr.score(X_train, y_train):.3f}')\n",
    "\n",
    "    tic = time.time()\n",
    "    X_test, y_test = gather_data(events_test, labels_test,  **opt_gather)\n",
    "    print(f'Done in {time.time() - tic:.3f}')\n",
    "\n",
    "    print(f'Classification score for raw input is {lr.score(X_test, y_test):.3f}')"
   ]
  },
  {
   "cell_type": "code",
   "execution_count": null,
   "metadata": {},
   "outputs": [],
   "source": [
    "if do_it : \n",
    "    tic = time.time()\n",
    "    events_train_o, events_test_o = get_events(timestr, tau=tau, homeo=True, verbose=True)\n",
    "    print(f'Done in {time.time() - tic:.3f}')\n",
    "\n",
    "    tic = time.time()\n",
    "    X_train, y_train = gather_data(events_train, labels_train, **opt_gather)\n",
    "    print(f'Done in {time.time() - tic:.3f}')\n",
    "\n",
    "    tic = time.time()\n",
    "    lr = LR(**opts_LR).fit(X_train, y_train)\n",
    "    print(f'Classification score for raw input is {lr.score(X_train, y_train):.3f}')\n",
    "    print(f'Done in {time.time() - tic:.3f}')\n",
    "\n",
    "    tic = time.time()\n",
    "    X_test, y_test = gather_data(events_test, labels_test, **opt_gather)\n",
    "    print(f'Done in {time.time() - tic:.3f}')\n",
    "    print(f'Classification score for raw input is {lr.score(X_test, y_test):.3f}')\n"
   ]
  },
  {
   "cell_type": "code",
   "execution_count": null,
   "metadata": {},
   "outputs": [],
   "source": []
  }
 ],
 "metadata": {
  "kernelspec": {
   "display_name": "hots",
   "language": "python",
   "name": "hots"
  },
  "language_info": {
   "codemirror_mode": {
    "name": "ipython",
    "version": 3
   },
   "file_extension": ".py",
   "mimetype": "text/x-python",
   "name": "python",
   "nbconvert_exporter": "python",
   "pygments_lexer": "ipython3",
   "version": "3.8.3"
  }
 },
 "nbformat": 4,
 "nbformat_minor": 4
}
