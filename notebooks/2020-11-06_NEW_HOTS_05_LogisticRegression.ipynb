{
 "cells": [
  {
   "cell_type": "code",
   "execution_count": 1,
   "metadata": {},
   "outputs": [
    {
     "name": "stdout",
     "output_type": "stream",
     "text": [
      "/Users/laurentperrinet/quantic/science/HomeHots/HOTS_clone_laurent\n"
     ]
    }
   ],
   "source": [
    "#%load_ext autoreload\n",
    "#%autoreload 2\n",
    "%matplotlib inline\n",
    "%cd '../'"
   ]
  },
  {
   "cell_type": "code",
   "execution_count": 2,
   "metadata": {},
   "outputs": [
    {
     "name": "stdout",
     "output_type": "stream",
     "text": [
      "\\ Running this notebook directly =  True\n"
     ]
    }
   ],
   "source": [
    "\n",
    "# https://laurentperrinet.github.io/sciblog/posts/2020-08-09-nesting-jupyter-runs.html\n",
    "    \n",
    "#verb =  (__name__ == \"__main__\")\n",
    "def has_parent():\n",
    "    \"\"\"\n",
    "    https://stackoverflow.com/questions/48067529/ipython-run-magic-n-switch-not-working\n",
    "    \n",
    "    Return True if this notebook is being run by calling\n",
    "    %run in another notebook, False otherwise.\n",
    "    \"\"\"\n",
    "    try:\n",
    "        __file__\n",
    "        # __file__ has been defined, so this notebook is \n",
    "        # being run in a parent notebook\n",
    "        return True\n",
    "\n",
    "    except NameError:\n",
    "        # __file__ has not been defined, so this notebook is \n",
    "        # not being run in a parent notebook\n",
    "        return False\n",
    "def do_verb():\n",
    "    return not has_parent()\n",
    "\n",
    "\n",
    "do_it = do_verb()\n",
    "if do_it : print('\\ Running this notebook directly = ', do_it)    \n"
   ]
  },
  {
   "cell_type": "code",
   "execution_count": 3,
   "metadata": {},
   "outputs": [],
   "source": [
    "import numpy as np\n",
    "import matplotlib.pyplot as plt\n",
    "import os\n",
    "import time\n",
    "# \n",
    "# https://en.wikipedia.org/wiki/ISO_8601\n",
    "import datetime\n",
    "timestr = datetime.datetime.now().date().isoformat()\n",
    "timestr = '20201021'\n",
    "timestr = '2020-11-03'\n",
    "tau = 9e-4\n",
    "\n",
    "from HOTS.Event import conv2eve\n",
    "from HOTS.Tools import SaveObject, LoadObject\n",
    "NbClusteringData = 2500\n",
    "NbTrainingData = 5000\n",
    "NbTestingData = 1500"
   ]
  },
  {
   "cell_type": "code",
   "execution_count": 4,
   "metadata": {},
   "outputs": [],
   "source": [
    "def get_nmnist(timestr, NbTrainingData, NbTestingData, NbClusteringData, DataPath='Data/testsetnmnist.p'):\n",
    "    fname_event_nmnist = f'Records/EXP_03_NMNIST/{timestr}_hots_event_nmnist.pkl'\n",
    "    # print(help(LoadNMNIST))\n",
    "    try:\n",
    "        dataset = LoadObject(fname_event_nmnist)\n",
    "        if verbose: print('loading the events from file', fname_event_nmnist)\n",
    "    except:\n",
    "        from HOTS.Event import LoadNMNIST\n",
    "        dataset = LoadNMNIST(NbTrainingData, NbTestingData, NbClusteringData, \n",
    "                             Path=DataPath, verbose=0)\n",
    "        SaveObject(dataset, fname_event_nmnist)\n",
    "        if verbose: print('saving the events to file', fname_event_nmnist)\n",
    "\n",
    "    events_train, events_test, event_cluster, labels_train, labels_test = dataset\n",
    "    return events_train, events_test, event_cluster, labels_train, labels_test\n"
   ]
  },
  {
   "cell_type": "code",
   "execution_count": 5,
   "metadata": {},
   "outputs": [],
   "source": [
    "def get_events(timestr, NbTrainingData, NbTestingData, NbClusteringData, \n",
    "               tau=tau, # -> tau=1ms, si on prend 10 ms on est à 1s pour la dernière couche et les vidéos font 0.3s en moyenne\n",
    "               homeo=True, verbose=False):\n",
    "    R = 2    \n",
    "    filthr = 2\n",
    "    nbkNN = 3\n",
    "    algo = 'lagorce'\n",
    "    decay = 'exponential'\n",
    "    krnlinit = 'rdn'\n",
    "    nb_cluster = [4, 8, 16]\n",
    "\n",
    "    if homeo:\n",
    "        fname_model = 'Records/EXP_03_NMNIST/'+timestr+'_hots_'+str(tau*1000)+'ms_'+algo+'_homeo.pkl'\n",
    "        fname_event0_o = 'Records/EXP_03_NMNIST/'+timestr+'_hots_'+str(tau*1000)+'_event0_o_homeo.pkl'\n",
    "    else:\n",
    "        fname_model = 'Records/EXP_03_NMNIST/'+timestr+'_hots_'+str(tau*1000)+'ms_'+algo+'.pkl'\n",
    "        fname_event0_o = 'Records/EXP_03_NMNIST/'+timestr+'_hots_'+str(tau*1000)+'_event0_o.pkl'\n",
    "\n",
    "    if not os.path.isfile(fname_event0_o):            \n",
    "        if verbose: print('creating the events in file', fname_event0_o)\n",
    "        from HOTS.ToolsMonitor import GenerateActivationMap, DisplayActivationMap\n",
    "        from HOTS.Event import Event, SimpleAlphabet, LoadNMNIST\n",
    "        from HOTS.STS import STS\n",
    "        from HOTS.Layer import ClusteringLayer\n",
    "        from HOTS.ToolsMonitor import (\n",
    "            DisplayImage,\n",
    "            DisplaySurface3D,\n",
    "            DisplaySurface2D,\n",
    "            DisplayConvergence,\n",
    "        )\n",
    "        from HOTS.Network import Network\n",
    "        from HOTS.Event import conv2eve\n",
    "\n",
    "        events_train, events_test, event_cluster, labels_train, labels_test = get_nmnist(timestr, NbTrainingData, NbTestingData, NbClusteringData)\n",
    "        \n",
    "        L1 = ClusteringLayer(tau=tau,R=R,verbose=0,ThrFilter=filthr,LearningAlgo=algo,kernel=decay,homeo=homeo,init=krnlinit)\n",
    "        L2 = ClusteringLayer(tau=10 * tau,R=2 * R,verbose=0,ThrFilter=filthr,LearningAlgo=algo,kernel=decay,homeo=homeo,init=krnlinit)\n",
    "        L3 = ClusteringLayer(tau=10 * 10 * tau,R=2 * 2 * R,verbose=0,ThrFilter=filthr,LearningAlgo=algo,kernel=decay,homeo=homeo,init=krnlinit)\n",
    "        Net = Network([L1, L2, L3])    \n",
    "\n",
    "\n",
    "        if not os.path.isfile(fname_model):\n",
    "            ClusterLayer, event_output = Net.TrainCluster(\n",
    "                    event=event_cluster, NbClusterList=nb_cluster, to_record=True, NbCycle=1\n",
    "                )\n",
    "            SaveObject(ClusterLayer, fname_model)\n",
    "        else: \n",
    "            if verbose: print('loading model from file', fname_model)\n",
    "\n",
    "            ClusterLayer, Classif0 = LoadObject(fname_model)\n",
    "\n",
    "        if verbose: print('run the events through the network')\n",
    "        homrun = False\n",
    "        events_train_o = Net.RunNetwork(events_train, NbClusterList=ClusterLayer, homrun=homrun)\n",
    "        events_test_o = Net.RunNetwork(events_test, NbClusterList=ClusterLayer, homrun=homrun)\n",
    "        SaveObject([events_train, events_test], fname_event0_o)\n",
    "    else: \n",
    "        if verbose: print('loading the events from file', fname_event0_o)\n",
    "        events_train_o, events_test_o = LoadObject(fname_event0_o)\n",
    "        \n",
    "    return events_train_o, events_test_o\n"
   ]
  },
  {
   "cell_type": "markdown",
   "metadata": {},
   "source": [
    "### Building matrix for logistic regression"
   ]
  },
  {
   "cell_type": "code",
   "execution_count": 6,
   "metadata": {},
   "outputs": [],
   "source": [
    "def gather_data(events_in, labels, \n",
    "                tau_cla=.150, # characteristic time of a digit \n",
    "                sample_events=200, sample_space = 1,\n",
    "                verbose=False):\n",
    "    c_int = lambda n, d : ((n - 1) // d) + 1\n",
    "\n",
    "    n_events = events_in.time.shape[0]\n",
    "\n",
    "    data = np.zeros((c_int(events_in.ImageSize[0], sample_space), \n",
    "                     c_int(events_in.ImageSize[1], sample_space), \n",
    "                     len(events_in.ListPolarities))) #tmp data\n",
    "\n",
    "    X = np.zeros((c_int(n_events, sample_events), len(data.ravel())))\n",
    "    y = np.zeros((c_int(n_events, sample_events), ))\n",
    "\n",
    "    t_absolute = 0\n",
    "    t_old = 0\n",
    "    i_labels = 0\n",
    "    for i in range(1, n_events):\n",
    "        if i == events_in.ChangeIdx[i_labels]:\n",
    "            i_labels += 1\n",
    "            t_absolute += events_in.time[i]\n",
    "        t_new = t_absolute + events_in.time[i]\n",
    "        \n",
    "        data *= np.exp(-(t_new-t_old)/tau_cla)\n",
    "        \n",
    "        t_old = t_new\n",
    "\n",
    "        data[events_in.address[i, 0]//sample_space, \n",
    "             events_in.address[i, 1]//sample_space, \n",
    "             events_in.polarity[i]] = 1.\n",
    "\n",
    "        if i % sample_events == 0:\n",
    "            #if verbose: print(f'{i=} {n_events=} {n_events//sample_events=}')\n",
    "            X[i//sample_events, :] = data.ravel()\n",
    "            y[i//sample_events] = labels[i_labels]\n",
    "\n",
    "    if verbose: print('Number of events: ' + str(X.shape[0])+' - Number of features: ' + str(X.shape[1]))\n",
    "\n",
    "    return X, y\n"
   ]
  },
  {
   "cell_type": "code",
   "execution_count": 7,
   "metadata": {},
   "outputs": [],
   "source": [
    "from sklearn.linear_model import LogisticRegression as LR\n",
    "# from sklearn.linear_model import LogisticRegressionCV as LR\n",
    "from sklearn.model_selection import train_test_split\n",
    "\n",
    "opts_LR = dict(random_state=0, max_iter=5000, n_jobs=-1, class_weight='balanced')\n",
    "#opts_LR['Cs'] = 5\n",
    "#opts_LR['Cs'] = 32\n"
   ]
  },
  {
   "cell_type": "code",
   "execution_count": null,
   "metadata": {},
   "outputs": [],
   "source": []
  },
  {
   "cell_type": "code",
   "execution_count": 8,
   "metadata": {},
   "outputs": [
    {
     "name": "stdout",
     "output_type": "stream",
     "text": [
      "Done in 124.789\n"
     ]
    }
   ],
   "source": [
    "if do_it : \n",
    "    tic = time.time()\n",
    "    dataset = get_nmnist(timestr, NbTrainingData, NbTestingData, NbClusteringData, verbose=True)\n",
    "    events_train, event_test, event_cluster, labels_train, labels_test = dataset\n",
    "    print(f'Done in {time.time() - tic:.3f}')\n"
   ]
  },
  {
   "cell_type": "code",
   "execution_count": 9,
   "metadata": {},
   "outputs": [
    {
     "data": {
      "text/plain": [
       "array([0.00068 , 0.003483, 0.008972, ..., 0.302477, 0.305744, 0.308378])"
      ]
     },
     "execution_count": 9,
     "metadata": {},
     "output_type": "execute_result"
    }
   ],
   "source": [
    "events_train.ListPolarities\n",
    "events_train.time"
   ]
  },
  {
   "cell_type": "code",
   "execution_count": null,
   "metadata": {},
   "outputs": [
    {
     "name": "stdout",
     "output_type": "stream",
     "text": [
      "Number of events: 104930 - Number of features: 2312\n",
      "Done in 111.195\n"
     ]
    }
   ],
   "source": [
    "if do_it : \n",
    "    opts_LR = dict(random_state=0, max_iter=500, n_jobs=-1, class_weight='balanced')\n",
    "\n",
    "    tic = time.time()\n",
    "    X_train, y_train = gather_data(events_train, labels_train, verbose=True)\n",
    "    print(f'Done in {time.time() - tic:.3f}')\n",
    "\n",
    "    tic = time.time()\n",
    "    lr = LR(**opts_LR).fit(X_train, y_train)\n",
    "    print(f'Done in {time.time() - tic:.3f}')\n",
    "    print(f'Classification score for raw input is {lr.score(X_train, y_train):.3f}')\n",
    "\n",
    "    tic = time.time()\n",
    "    X_test, y_test = gather_data(events_test, labels_test, verbose=True)\n",
    "    print(f'Done in {time.time() - tic:.3f}')\n",
    "\n",
    "    print(f'Classification score for raw input is {lr.score(X_test, y_test):.3f}')"
   ]
  },
  {
   "cell_type": "code",
   "execution_count": null,
   "metadata": {},
   "outputs": [],
   "source": [
    "if do_it : \n",
    "    tic = time.time()\n",
    "    events_train_o, events_test_o = get_events(timestr, tau=tau, homeo=True, verbose=True)\n",
    "    print(f'Done in {time.time() - tic:.3f}')\n",
    "\n",
    "    tic = time.time()\n",
    "    X_train, y_train = gather_data(events_train, labels_train, verbose=True)\n",
    "    print(f'Done in {time.time() - tic:.3f}')\n",
    "\n",
    "    tic = time.time()\n",
    "    lr = LR(**opts_LR).fit(X_train, y_train)\n",
    "    print(f'Classification score for raw input is {lr.score(X_train, y_train):.3f}')\n",
    "    print(f'Done in {time.time() - tic:.3f}')\n",
    "\n",
    "    tic = time.time()\n",
    "    X_test, y_test = gather_data(events_test, labels_test, verbose=True)\n",
    "    print(f'Done in {time.time() - tic:.3f}')\n",
    "    print(f'Classification score for raw input is {lr.score(X_test, y_test):.3f}')\n"
   ]
  },
  {
   "cell_type": "code",
   "execution_count": null,
   "metadata": {},
   "outputs": [],
   "source": []
  },
  {
   "cell_type": "code",
   "execution_count": null,
   "metadata": {},
   "outputs": [],
   "source": []
  },
  {
   "cell_type": "code",
   "execution_count": null,
   "metadata": {},
   "outputs": [],
   "source": [
    "if do_it : \n",
    "    tic = time.time()\n",
    "    dataset = get_nmnist(timestr, NbTrainingData, NbTestingData, NbClusteringData)\n",
    "    events_train, event_test, event_cluster, labels_train, labels_test = dataset\n",
    "    print(f'Done in {time.time() - tic:.3f}')\n"
   ]
  },
  {
   "cell_type": "code",
   "execution_count": null,
   "metadata": {},
   "outputs": [],
   "source": [
    "if do_it : \n",
    "    opts_LR = dict(random_state=0, max_iter=500, n_jobs=-1, class_weight='balanced')\n",
    "\n",
    "    tic = time.time()\n",
    "    X_train, y_train = gather_data(events_train, labels_train, verbose=True)\n",
    "    print(f'Done in {time.time() - tic:.3f}')\n",
    "\n",
    "    tic = time.time()\n",
    "    lr = LR(**opts_LR).fit(X_train, y_train)\n",
    "    print(f'Done in {time.time() - tic:.3f}')\n",
    "    print(f'Classification score for raw input is {lr.score(X_train, y_train):.3f}')\n",
    "\n",
    "    tic = time.time()\n",
    "    X_test, y_test = gather_data(events_test, labels_test, verbose=True)\n",
    "    print(f'Done in {time.time() - tic:.3f}')\n",
    "\n",
    "    print(f'Classification score for raw input is {lr.score(X_test, y_test):.3f}')"
   ]
  },
  {
   "cell_type": "code",
   "execution_count": null,
   "metadata": {},
   "outputs": [],
   "source": [
    "if do_it : \n",
    "    tic = time.time()\n",
    "    events_train_o, events_test_o = get_events(timestr, tau=tau, homeo=True, verbose=True)\n",
    "    print(f'Done in {time.time() - tic:.3f}')\n",
    "\n",
    "    tic = time.time()\n",
    "    X_train, y_train = gather_data(events_train, labels_train, verbose=True)\n",
    "    print(f'Done in {time.time() - tic:.3f}')\n",
    "\n",
    "    tic = time.time()\n",
    "    lr = LR(**opts_LR).fit(X_train, y_train)\n",
    "    print(f'Classification score for raw input is {lr.score(X_train, y_train):.3f}')\n",
    "    print(f'Done in {time.time() - tic:.3f}')\n",
    "\n",
    "    tic = time.time()\n",
    "    X_test, y_test = gather_data(events_test, labels_test, verbose=True)\n",
    "    print(f'Done in {time.time() - tic:.3f}')\n",
    "    print(f'Classification score for raw input is {lr.score(X_test, y_test):.3f}')\n"
   ]
  },
  {
   "cell_type": "code",
   "execution_count": null,
   "metadata": {},
   "outputs": [],
   "source": []
  }
 ],
 "metadata": {
  "kernelspec": {
   "display_name": "hots",
   "language": "python",
   "name": "hots"
  },
  "language_info": {
   "codemirror_mode": {
    "name": "ipython",
    "version": 3
   },
   "file_extension": ".py",
   "mimetype": "text/x-python",
   "name": "python",
   "nbconvert_exporter": "python",
   "pygments_lexer": "ipython3",
   "version": "3.8.5"
  }
 },
 "nbformat": 4,
 "nbformat_minor": 4
}
