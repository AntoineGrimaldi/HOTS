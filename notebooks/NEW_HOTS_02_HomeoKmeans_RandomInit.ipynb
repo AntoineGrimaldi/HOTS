{
 "cells": [
  {
   "cell_type": "markdown",
   "metadata": {},
   "source": [
    "# Different configurations using homeostasis with Kmeans and random initialisation of the prototypes"
   ]
  },
  {
   "cell_type": "code",
   "execution_count": 1,
   "metadata": {
    "collapsed": false,
    "jupyter": {
     "outputs_hidden": false
    }
   },
   "outputs": [
    {
     "name": "stdout",
     "output_type": "stream",
     "text": [
      "/Users/laurentperrinet/quantic/science/HomeHots/HOTS_clone_laurent\n"
     ]
    }
   ],
   "source": [
    "#%load_ext autoreload\n",
    "#%autoreload 2\n",
    "%matplotlib inline\n",
    "%cd '../'"
   ]
  },
  {
   "cell_type": "code",
   "execution_count": 2,
   "metadata": {
    "collapsed": false,
    "jupyter": {
     "outputs_hidden": false
    }
   },
   "outputs": [],
   "source": [
    "import numpy as np\n",
    "import matplotlib.pyplot as plt\n",
    "\n",
    "import os\n",
    "from HOTS.ToolsMonitor import GenerateActivationMap, DisplayActivationMap\n",
    "from HOTS.Event import Event, SimpleAlphabet\n",
    "from HOTS.STS import STS\n",
    "from HOTS.Layer import ClusteringLayer\n",
    "from HOTS.ToolsMonitor import (\n",
    "    DisplayImage,\n",
    "    DisplaySurface3D,\n",
    "    DisplaySurface2D,\n",
    "    DisplayConvergence,\n",
    ")\n",
    "from HOTS.Tools import SaveObject, LoadObject\n",
    "from HOTS.Classifier import Classifier\n",
    "from HOTS.Network import Network\n",
    "from HOTS.KmeansLagorce import KmeansLagorce\n",
    "from HOTS.KmeansMaro import KmeansMaro\n",
    "\n",
    "tau = 0.02\n",
    "R = 2\n",
    "nb_cluster = [4, 8, 16]\n",
    "ImageSize = (32, 32)\n",
    "DataPath = \"Data/alphabet_ExtractedStabilized.mat\"\n",
    "LabelPath = \"Data/alphabet_label.pkl\""
   ]
  },
  {
   "cell_type": "markdown",
   "metadata": {},
   "source": [
    "# Test of homeostasis rule for best results of Lagorce \n",
    "\n",
    "## WITHOUT HOMEO - Exp3 : Lagorce Kmeans + Linear Kernel + NoiseFilter(=2) + 2 Polarity in Input + 3 Cycles"
   ]
  },
  {
   "cell_type": "code",
   "execution_count": 3,
   "metadata": {},
   "outputs": [
    {
     "name": "stdout",
     "output_type": "stream",
     "text": [
      "battacha:97.5% ### normalized:97.5% ### euclidian:97.5% ### \n"
     ]
    }
   ],
   "source": [
    "event_tr, event_te, event_cl, label_tr, label_te = SimpleAlphabet(\n",
    "    NbTrainingData=36,\n",
    "    NbTestingData=40,\n",
    "    Path=DataPath,\n",
    "    LabelPath=LabelPath,\n",
    "    ClusteringData=[1, 32, 19, 22, 29],\n",
    "    OutOnePolarity=False,\n",
    "    verbose=0,\n",
    ")\n",
    "## Defining the network\n",
    "L1 = ClusteringLayer(\n",
    "    tau=tau, R=R, verbose=0, ThrFilter=2, LearningAlgo=\"lagorce\", kernel=\"linear\"\n",
    ")\n",
    "L2 = ClusteringLayer(\n",
    "    tau=10 * tau,\n",
    "    R=2 * R,\n",
    "    verbose=0,\n",
    "    ThrFilter=2,\n",
    "    LearningAlgo=\"lagorce\",\n",
    "    kernel=\"linear\"\n",
    ")\n",
    "L3 = ClusteringLayer(\n",
    "    tau=10 * 10 * tau,\n",
    "    R=2 * 2 * R,\n",
    "    verbose=0,\n",
    "    ThrFilter=2,\n",
    "    LearningAlgo=\"lagorce\",\n",
    "    kernel=\"linear\"\n",
    ")\n",
    "Net = Network([L1, L2, L3])\n",
    "\n",
    "\n",
    "fname = \"Records/EXP_01_LagorceKmeans/Exp03_2020-04-17.pkl\"\n",
    "if not os.path.isfile(fname):\n",
    "    #### Training The Cluster on 5 images\n",
    "    ClusterLayer, event_output = Net.TrainCluster(\n",
    "        event=event_cl, NbClusterList=nb_cluster, to_record=True, NbCycle=3\n",
    "    )\n",
    "    ## Generating histogram for training samples\n",
    "    event0_o_tr = Net.RunNetwork(event_tr, NbClusterList=ClusterLayer)\n",
    "    ## Generating histogram for the test samples\n",
    "    event0_o_te = Net.RunNetwork(event_te, NbClusterList=ClusterLayer)\n",
    "    Classif0 = Classifier(\n",
    "        event0_o_tr, event0_o_te, TrainingLabel=label_tr, GroundTruth=label_te\n",
    "    )\n",
    "    prediction, accuracy, method = Classif0.HistogramDistance(to_print=True)\n",
    "    SaveObject([ClusterLayer, Classif0], fname)\n",
    "else:\n",
    "    ClusterLayer, Classif0 = LoadObject(fname)\n",
    "    prediction, accuracy, method = Classif0.HistogramDistance(to_print=True)\n",
    "    "
   ]
  },
  {
   "cell_type": "code",
   "execution_count": 4,
   "metadata": {},
   "outputs": [
    {
     "ename": "TypeError",
     "evalue": "RunNetwork() missing 1 required positional argument: 'homrun'",
     "output_type": "error",
     "traceback": [
      "\u001b[0;31m---------------------------------------------------------------------------\u001b[0m",
      "\u001b[0;31mTypeError\u001b[0m                                 Traceback (most recent call last)",
      "\u001b[0;32m<ipython-input-4-3058f7529e7a>\u001b[0m in \u001b[0;36m<module>\u001b[0;34m\u001b[0m\n\u001b[1;32m      4\u001b[0m \u001b[0mevent_to_show\u001b[0m \u001b[0;34m=\u001b[0m \u001b[0mEvent\u001b[0m\u001b[0;34m(\u001b[0m\u001b[0mImageSize\u001b[0m\u001b[0;34m=\u001b[0m\u001b[0;34m(\u001b[0m\u001b[0;36m32\u001b[0m\u001b[0;34m,\u001b[0m \u001b[0;36m32\u001b[0m\u001b[0;34m)\u001b[0m\u001b[0;34m,\u001b[0m \u001b[0mListPolarities\u001b[0m\u001b[0;34m=\u001b[0m\u001b[0;34m[\u001b[0m\u001b[0;34m-\u001b[0m\u001b[0;36m1\u001b[0m\u001b[0;34m,\u001b[0m \u001b[0;36m1\u001b[0m\u001b[0;34m]\u001b[0m\u001b[0;34m,\u001b[0m \u001b[0mOutOnePolarity\u001b[0m\u001b[0;34m=\u001b[0m\u001b[0;32mFalse\u001b[0m\u001b[0;34m)\u001b[0m\u001b[0;34m\u001b[0m\u001b[0;34m\u001b[0m\u001b[0m\n\u001b[1;32m      5\u001b[0m \u001b[0mevent_to_show\u001b[0m\u001b[0;34m.\u001b[0m\u001b[0mLoadFromMat\u001b[0m\u001b[0;34m(\u001b[0m\u001b[0;34m\"Data/alphabet_ExtractedStabilized.mat\"\u001b[0m\u001b[0;34m,\u001b[0m \u001b[0mimage_number\u001b[0m\u001b[0;34m=\u001b[0m\u001b[0;36m22\u001b[0m\u001b[0;34m)\u001b[0m\u001b[0;34m\u001b[0m\u001b[0;34m\u001b[0m\u001b[0m\n\u001b[0;32m----> 6\u001b[0;31m \u001b[0mNet\u001b[0m\u001b[0;34m.\u001b[0m\u001b[0mRunNetwork\u001b[0m\u001b[0;34m(\u001b[0m\u001b[0mevent_to_show\u001b[0m\u001b[0;34m,\u001b[0m \u001b[0mNbClusterList\u001b[0m\u001b[0;34m=\u001b[0m\u001b[0mClusterLayer\u001b[0m\u001b[0;34m)\u001b[0m\u001b[0;34m\u001b[0m\u001b[0;34m\u001b[0m\u001b[0m\n\u001b[0m\u001b[1;32m      7\u001b[0m \u001b[0mmapL1\u001b[0m \u001b[0;34m=\u001b[0m \u001b[0mGenerateActivationMap\u001b[0m\u001b[0;34m(\u001b[0m\u001b[0mNet\u001b[0m\u001b[0;34m.\u001b[0m\u001b[0mLayers\u001b[0m\u001b[0;34m[\u001b[0m\u001b[0;36m0\u001b[0m\u001b[0;34m]\u001b[0m\u001b[0;34m.\u001b[0m\u001b[0moutput\u001b[0m\u001b[0;34m,\u001b[0m \u001b[0mClusterLayer\u001b[0m\u001b[0;34m[\u001b[0m\u001b[0;36m0\u001b[0m\u001b[0;34m]\u001b[0m\u001b[0;34m)\u001b[0m\u001b[0;34m\u001b[0m\u001b[0;34m\u001b[0m\u001b[0m\n\u001b[1;32m      8\u001b[0m \u001b[0mDisplayActivationMap\u001b[0m\u001b[0;34m(\u001b[0m\u001b[0mmapL1\u001b[0m\u001b[0;34m,\u001b[0m \u001b[0mscale\u001b[0m\u001b[0;34m=\u001b[0m\u001b[0;36m2\u001b[0m\u001b[0;34m)\u001b[0m\u001b[0;34m\u001b[0m\u001b[0;34m\u001b[0m\u001b[0m\n",
      "\u001b[0;31mTypeError\u001b[0m: RunNetwork() missing 1 required positional argument: 'homrun'"
     ]
    },
    {
     "data": {
      "image/png": "[encoded data removed]",
      "text/plain": [
       "<Figure size 172.8x86.4 with 8 Axes>"
      ]
     },
     "metadata": {},
     "output_type": "display_data"
    },
    {
     "data": {
      "image/png": "[encoded data removed]",
      "text/plain": [
       "<Figure size 345.6x172.8 with 32 Axes>"
      ]
     },
     "metadata": {},
     "output_type": "display_data"
    },
    {
     "data": {
      "image/png": "[encoded data removed]",
      "text/plain": [
       "<Figure size 691.2x345.6 with 128 Axes>"
      ]
     },
     "metadata": {},
     "output_type": "display_data"
    }
   ],
   "source": [
    "DisplaySurface2D(ClusterLayer[0].prototype, nb_polarities=2)\n",
    "DisplaySurface2D(ClusterLayer[1].prototype, nb_polarities=4)\n",
    "DisplaySurface2D(ClusterLayer[2].prototype, nb_polarities=8)\n",
    "event_to_show = Event(ImageSize=(32, 32), ListPolarities=[-1, 1], OutOnePolarity=False)\n",
    "event_to_show.LoadFromMat(\"Data/alphabet_ExtractedStabilized.mat\", image_number=22)\n",
    "Net.RunNetwork(event_to_show, NbClusterList=ClusterLayer)\n",
    "mapL1 = GenerateActivationMap(Net.Layers[0].output, ClusterLayer[0])\n",
    "DisplayActivationMap(mapL1, scale=2)\n",
    "mapL2 = GenerateActivationMap(Net.Layers[1].output, ClusterLayer[1])\n",
    "DisplayActivationMap(mapL2, scale=2)\n",
    "mapL3 = GenerateActivationMap(Net.Layers[2].output, ClusterLayer[2])\n",
    "DisplayActivationMap(mapL3, scale=2)\n",
    "\n",
    "DisplayConvergence(ClusterLayer, to_display=[\"error\", \"histo\"])"
   ]
  },
  {
   "cell_type": "markdown",
   "metadata": {},
   "source": [
    "## WITH HOMEO - Exp3 : Lagorce Kmeans + Linear Kernel + NoiseFilter(=2) + 2 Polarity in Input + 3 Cycles"
   ]
  },
  {
   "cell_type": "code",
   "execution_count": null,
   "metadata": {},
   "outputs": [],
   "source": [
    "event_tr, event_te, event_cl, label_tr, label_te = SimpleAlphabet(\n",
    "    NbTrainingData=36,\n",
    "    NbTestingData=40,\n",
    "    Path=DataPath,\n",
    "    LabelPath=LabelPath,\n",
    "    ClusteringData=[1, 32, 19, 22, 29],\n",
    "    OutOnePolarity=False,\n",
    "    verbose=0,\n",
    ")\n",
    "## Defining the network\n",
    "L1 = ClusteringLayer(\n",
    "    tau=tau, R=R, verbose=0, ThrFilter=2, LearningAlgo=\"lagorce\", kernel=\"linear\", homeo = True\n",
    ")\n",
    "L2 = ClusteringLayer(\n",
    "    tau=10 * tau,\n",
    "    R=2 * R,\n",
    "    verbose=0,\n",
    "    ThrFilter=2,\n",
    "    LearningAlgo=\"lagorce\",\n",
    "    kernel=\"linear\", homeo = True\n",
    ")\n",
    "L3 = ClusteringLayer(\n",
    "    tau=10 * 10 * tau,\n",
    "    R=2 * 2 * R,\n",
    "    verbose=0,\n",
    "    ThrFilter=2,\n",
    "    LearningAlgo=\"lagorce\",\n",
    "    kernel=\"linear\", homeo = True\n",
    ")\n",
    "Net = Network([L1, L2, L3])\n",
    "\n",
    "\n",
    "fname = \"Records/EXP_01_LagorceKmeans/Exp03_2020-10-09_homeo.pkl\"\n",
    "if not os.path.isfile(fname):\n",
    "    #### Training The Cluster on 5 images\n",
    "    ClusterLayer, event_output = Net.TrainCluster(\n",
    "        event=event_cl, NbClusterList=nb_cluster, to_record=True, NbCycle=3\n",
    "    )\n",
    "    ## Generating histogram for training samples\n",
    "    event0_o_tr = Net.RunNetwork(event_tr, NbClusterList=ClusterLayer)\n",
    "    ## Generating histogram for the test samples\n",
    "    event0_o_te = Net.RunNetwork(event_te, NbClusterList=ClusterLayer)\n",
    "    Classif0 = Classifier(\n",
    "        event0_o_tr, event0_o_te, TrainingLabel=label_tr, GroundTruth=label_te\n",
    "    )\n",
    "    prediction, accuracy, method = Classif0.HistogramDistance(to_print=True)\n",
    "    SaveObject([ClusterLayer, Classif0], fname)\n",
    "else:\n",
    "    ClusterLayer, Classif0 = LoadObject(fname)\n",
    "    prediction, accuracy, method = Classif0.HistogramDistance(to_print=True)\n",
    "    "
   ]
  },
  {
   "cell_type": "code",
   "execution_count": null,
   "metadata": {},
   "outputs": [],
   "source": [
    "DisplaySurface2D(ClusterLayer[0].prototype, nb_polarities=2)\n",
    "DisplaySurface2D(ClusterLayer[1].prototype, nb_polarities=4)\n",
    "DisplaySurface2D(ClusterLayer[2].prototype, nb_polarities=8)\n",
    "event_to_show = Event(ImageSize=(32, 32), ListPolarities=[-1, 1], OutOnePolarity=False)\n",
    "event_to_show.LoadFromMat(\"Data/alphabet_ExtractedStabilized.mat\", image_number=22)\n",
    "Net.RunNetwork(event_to_show, NbClusterList=ClusterLayer)\n",
    "mapL1 = GenerateActivationMap(Net.Layers[0].output, ClusterLayer[0])\n",
    "DisplayActivationMap(mapL1, scale=2)\n",
    "mapL2 = GenerateActivationMap(Net.Layers[1].output, ClusterLayer[1])\n",
    "DisplayActivationMap(mapL2, scale=2)\n",
    "mapL3 = GenerateActivationMap(Net.Layers[2].output, ClusterLayer[2])\n",
    "DisplayActivationMap(mapL3, scale=2)\n",
    "\n",
    "DisplayConvergence(ClusterLayer, to_display=[\"error\", \"histo\"])"
   ]
  },
  {
   "cell_type": "markdown",
   "metadata": {},
   "source": [
    "# Test of homeostasis rule for best results of Maro \n",
    "\n",
    "## WITHOUT HOMEO - Exp3 : Maro Kmeans + Linear Kernel + NoiseFilter(=2) + 2 Polarity in Input + 3 Cycles"
   ]
  },
  {
   "cell_type": "code",
   "execution_count": null,
   "metadata": {
    "collapsed": false,
    "jupyter": {
     "outputs_hidden": false
    }
   },
   "outputs": [],
   "source": [
    "event_tr, event_te, event_cl, label_tr, label_te = SimpleAlphabet(\n",
    "    NbTrainingData=36,\n",
    "    NbTestingData=40,\n",
    "    Path=DataPath,\n",
    "    LabelPath=LabelPath,\n",
    "    ClusteringData=[1, 32, 19, 22, 29],\n",
    "    OutOnePolarity=False,\n",
    "    verbose=0,\n",
    ")\n",
    "## Defining the network\n",
    "L1 = ClusteringLayer(\n",
    "    tau=tau, R=R, verbose=0, ThrFilter=2, LearningAlgo=\"maro\", kernel=\"linear\", #homeo=True\n",
    ")\n",
    "L2 = ClusteringLayer(\n",
    "    tau=10 * tau, R=2 * R, verbose=0, ThrFilter=2, LearningAlgo=\"maro\", kernel=\"linear\", #homeo=True\n",
    ")\n",
    "L3 = ClusteringLayer(\n",
    "    tau=10 * 10 * tau,\n",
    "    R=2 * 2 * R,\n",
    "    verbose=0,\n",
    "    ThrFilter=2,\n",
    "    LearningAlgo=\"maro\",\n",
    "    kernel=\"linear\",\n",
    "    #homeo=True\n",
    ")\n",
    "Net = Network([L1, L2, L3])\n",
    "\n",
    "\n",
    "fname = \"Records/EXP_02_MaroKmeans/Exp03_2020-04-17.pkl\"\n",
    "if not os.path.isfile(fname):\n",
    "    #### Training The Cluster on 5 images\n",
    "    ClusterLayer, event_output = Net.TrainCluster(\n",
    "        event=event_cl, NbClusterList=nb_cluster, to_record=True, NbCycle=3\n",
    "    )\n",
    "    ## Generating histogram for training samples\n",
    "    event0_o_tr = Net.RunNetwork(event_tr, NbClusterList=ClusterLayer)\n",
    "    ## Generating histogram for the test samples\n",
    "    event0_o_te = Net.RunNetwork(event_te, NbClusterList=ClusterLayer)\n",
    "    Classif0 = Classifier(\n",
    "        event0_o_tr, event0_o_te, TrainingLabel=label_tr, GroundTruth=label_te\n",
    "    )\n",
    "    SaveObject([ClusterLayer, Classif0], fname)\n",
    "else:\n",
    "    ClusterLayer, Classif0 = LoadObject(fname)\n",
    "prediction, accuracy, method = Classif0.HistogramDistance(to_print=True)"
   ]
  },
  {
   "cell_type": "code",
   "execution_count": null,
   "metadata": {
    "collapsed": false,
    "jupyter": {
     "outputs_hidden": false
    }
   },
   "outputs": [],
   "source": [
    "DisplaySurface2D(ClusterLayer[0].prototype, nb_polarities=2)\n",
    "DisplaySurface2D(ClusterLayer[1].prototype, nb_polarities=4)\n",
    "DisplaySurface2D(ClusterLayer[2].prototype, nb_polarities=8)\n",
    "event_to_show = Event(ImageSize=(32, 32), ListPolarities=[-1, 1], OutOnePolarity=False)\n",
    "event_to_show.LoadFromMat(\"Data/alphabet_ExtractedStabilized.mat\", image_number=22)\n",
    "Net.RunNetwork(event_to_show, NbClusterList=ClusterLayer)\n",
    "mapL1 = GenerateActivationMap(Net.Layers[0].output, ClusterLayer[0])\n",
    "DisplayActivationMap(mapL1, scale=2)\n",
    "mapL2 = GenerateActivationMap(Net.Layers[1].output, ClusterLayer[1])\n",
    "DisplayActivationMap(mapL2, scale=2)\n",
    "mapL3 = GenerateActivationMap(Net.Layers[2].output, ClusterLayer[2])\n",
    "DisplayActivationMap(mapL3, scale=2)\n",
    "\n",
    "DisplayConvergence(ClusterLayer, to_display=[\"error\", \"histo\"])"
   ]
  },
  {
   "cell_type": "markdown",
   "metadata": {},
   "source": [
    "## WITH HOMEO - Exp3 : Maro Kmeans + Linear Kernel + NoiseFilter(=2) + 2 Polarity in Input + 3 Cycles"
   ]
  },
  {
   "cell_type": "code",
   "execution_count": null,
   "metadata": {
    "collapsed": false,
    "jupyter": {
     "outputs_hidden": false
    }
   },
   "outputs": [],
   "source": [
    "event_tr, event_te, event_cl, label_tr, label_te = SimpleAlphabet(\n",
    "    NbTrainingData=36,\n",
    "    NbTestingData=40,\n",
    "    Path=DataPath,\n",
    "    LabelPath=LabelPath,\n",
    "    ClusteringData=[1, 32, 19, 22, 29],\n",
    "    OutOnePolarity=False,\n",
    "    verbose=0,\n",
    ")\n",
    "## Defining the network\n",
    "L1 = ClusteringLayer(\n",
    "    tau=tau, R=R, verbose=0, ThrFilter=2, LearningAlgo=\"maro\", kernel=\"linear\", homeo=True\n",
    ")\n",
    "L2 = ClusteringLayer(\n",
    "    tau=10 * tau, R=2 * R, verbose=0, ThrFilter=2, LearningAlgo=\"maro\", kernel=\"linear\", homeo=True\n",
    ")\n",
    "L3 = ClusteringLayer(\n",
    "    tau=10 * 10 * tau,\n",
    "    R=2 * 2 * R,\n",
    "    verbose=0,\n",
    "    ThrFilter=2,\n",
    "    LearningAlgo=\"maro\",\n",
    "    kernel=\"linear\",\n",
    "    homeo=True\n",
    ")\n",
    "Net = Network([L1, L2, L3])\n",
    "\n",
    "\n",
    "fname = \"Records/EXP_02_MaroKmeans/Exp03_2020-10-09_homeo.pkl\"\n",
    "if not os.path.isfile(fname):\n",
    "    #### Training The Cluster on 5 images\n",
    "    ClusterLayer, event_output = Net.TrainCluster(\n",
    "        event=event_cl, NbClusterList=nb_cluster, to_record=True, NbCycle=3\n",
    "    )\n",
    "    ## Generating histogram for training samples\n",
    "    event0_o_tr = Net.RunNetwork(event_tr, NbClusterList=ClusterLayer)\n",
    "    ## Generating histogram for the test samples\n",
    "    event0_o_te = Net.RunNetwork(event_te, NbClusterList=ClusterLayer)\n",
    "    Classif0 = Classifier(\n",
    "        event0_o_tr, event0_o_te, TrainingLabel=label_tr, GroundTruth=label_te\n",
    "    )\n",
    "    SaveObject([ClusterLayer, Classif0], fname)\n",
    "else:\n",
    "    ClusterLayer, Classif0 = LoadObject(fname)\n",
    "prediction, accuracy, method = Classif0.HistogramDistance(to_print=True)"
   ]
  },
  {
   "cell_type": "code",
   "execution_count": null,
   "metadata": {
    "collapsed": false,
    "jupyter": {
     "outputs_hidden": false
    }
   },
   "outputs": [],
   "source": [
    "DisplaySurface2D(ClusterLayer[0].prototype, nb_polarities=2)\n",
    "DisplaySurface2D(ClusterLayer[1].prototype, nb_polarities=4)\n",
    "DisplaySurface2D(ClusterLayer[2].prototype, nb_polarities=8)\n",
    "event_to_show = Event(ImageSize=(32, 32), ListPolarities=[-1, 1], OutOnePolarity=False)\n",
    "event_to_show.LoadFromMat(\"Data/alphabet_ExtractedStabilized.mat\", image_number=22)\n",
    "Net.RunNetwork(event_to_show, NbClusterList=ClusterLayer)\n",
    "mapL1 = GenerateActivationMap(Net.Layers[0].output, ClusterLayer[0])\n",
    "DisplayActivationMap(mapL1, scale=2)\n",
    "mapL2 = GenerateActivationMap(Net.Layers[1].output, ClusterLayer[1])\n",
    "DisplayActivationMap(mapL2, scale=2)\n",
    "mapL3 = GenerateActivationMap(Net.Layers[2].output, ClusterLayer[2])\n",
    "DisplayActivationMap(mapL3, scale=2)\n",
    "\n",
    "DisplayConvergence(ClusterLayer, to_display=[\"error\", \"histo\"])"
   ]
  },
  {
   "cell_type": "markdown",
   "metadata": {},
   "source": [
    "## WITHOUT HOMEO - Exp2 : Maro Kmeans + Exp Kernel + NoiseFilter(=2) + 1 Polarity in Input + 3 Cycles"
   ]
  },
  {
   "cell_type": "code",
   "execution_count": null,
   "metadata": {},
   "outputs": [],
   "source": [
    "event_tr, event_te, event_cl, label_tr, label_te = SimpleAlphabet(\n",
    "    NbTrainingData=36,\n",
    "    NbTestingData=40,\n",
    "    Path=DataPath,\n",
    "    LabelPath=LabelPath,\n",
    "    ClusteringData=[1, 32, 19, 22, 29],\n",
    "    OutOnePolarity=True,\n",
    "    verbose=0,\n",
    ")\n",
    "## Defining the network\n",
    "L1 = ClusteringLayer(\n",
    "    tau=tau, R=R, verbose=0, ThrFilter=2, LearningAlgo=\"maro\", kernel=\"exponential\",\n",
    ")\n",
    "L2 = ClusteringLayer(\n",
    "    tau=10 * tau,\n",
    "    R=2 * R,\n",
    "    verbose=0,\n",
    "    ThrFilter=2,\n",
    "    LearningAlgo=\"maro\",\n",
    "    kernel=\"exponential\",\n",
    ")\n",
    "L3 = ClusteringLayer(\n",
    "    tau=10 * 10 * tau,\n",
    "    R=2 * 2 * R,\n",
    "    verbose=0,\n",
    "    ThrFilter=2,\n",
    "    LearningAlgo=\"maro\",\n",
    "    kernel=\"exponential\",\n",
    ")\n",
    "Net = Network([L1, L2, L3])\n",
    "\n",
    "fname = \"Records/EXP_02_MaroKmeans/Exp02_2020-04-17.pkl\"\n",
    "if not os.path.isfile(fname):\n",
    "    #### Training The Cluster on 5 images\n",
    "    ClusterLayer, event_output = Net.TrainCluster(\n",
    "        event=event_cl, NbClusterList=nb_cluster, to_record=True, NbCycle=3\n",
    "    )\n",
    "\n",
    "    ## Generating histogram for training samples\n",
    "    event0_o_tr = Net.RunNetwork(event_tr, NbClusterList=ClusterLayer)\n",
    "\n",
    "    ## Generating histogram for the test samples\n",
    "    event0_o_te = Net.RunNetwork(event_te, NbClusterList=ClusterLayer)\n",
    "\n",
    "    Classif0 = Classifier(\n",
    "        event0_o_tr, event0_o_te, TrainingLabel=label_tr, GroundTruth=label_te\n",
    "    )\n",
    "    SaveObject([ClusterLayer, Classif0], fname)\n",
    "else:\n",
    "    ClusterLayer, Classif0 = LoadObject(fname)\n",
    "prediction, accuracy, method = Classif0.HistogramDistance(to_print=True)"
   ]
  },
  {
   "cell_type": "code",
   "execution_count": null,
   "metadata": {},
   "outputs": [],
   "source": [
    "DisplaySurface2D(ClusterLayer[0].prototype, nb_polarities=1)\n",
    "DisplaySurface2D(ClusterLayer[1].prototype, nb_polarities=4)\n",
    "DisplaySurface2D(ClusterLayer[2].prototype, nb_polarities=8)\n",
    "event_to_show = Event(ImageSize=(32, 32), ListPolarities=[-1, 1], OutOnePolarity=True)\n",
    "event_to_show.LoadFromMat(\"Data/alphabet_ExtractedStabilized.mat\", image_number=22)\n",
    "Net.RunNetwork(event_to_show, NbClusterList=ClusterLayer)\n",
    "mapL1 = GenerateActivationMap(Net.Layers[0].output, ClusterLayer[0])\n",
    "DisplayActivationMap(mapL1, scale=2)\n",
    "mapL2 = GenerateActivationMap(Net.Layers[1].output, ClusterLayer[1])\n",
    "DisplayActivationMap(mapL2, scale=2)\n",
    "mapL3 = GenerateActivationMap(Net.Layers[2].output, ClusterLayer[2])\n",
    "DisplayActivationMap(mapL3, scale=2)\n",
    "\n",
    "DisplayConvergence(ClusterLayer, to_display=[\"error\", \"histo\"])"
   ]
  },
  {
   "cell_type": "markdown",
   "metadata": {},
   "source": [
    "## WITH HOMEO - Exp2 : Maro Kmeans + Exp Kernel + NoiseFilter(=2) + 1 Polarity in Input + 3 Cycles"
   ]
  },
  {
   "cell_type": "code",
   "execution_count": null,
   "metadata": {},
   "outputs": [],
   "source": [
    "event_tr, event_te, event_cl, label_tr, label_te = SimpleAlphabet(\n",
    "    NbTrainingData=36,\n",
    "    NbTestingData=40,\n",
    "    Path=DataPath,\n",
    "    LabelPath=LabelPath,\n",
    "    ClusteringData=[1, 32, 19, 22, 29],\n",
    "    OutOnePolarity=True,\n",
    "    verbose=0,\n",
    ")\n",
    "## Defining the network\n",
    "L1 = ClusteringLayer(\n",
    "    tau=tau, R=R, verbose=0, ThrFilter=2, LearningAlgo=\"maro\", kernel=\"exponential\", homeo = True\n",
    ")\n",
    "L2 = ClusteringLayer(\n",
    "    tau=10 * tau,\n",
    "    R=2 * R,\n",
    "    verbose=0,\n",
    "    ThrFilter=2,\n",
    "    LearningAlgo=\"maro\",\n",
    "    kernel=\"exponential\",\n",
    "    homeo = True\n",
    ")\n",
    "L3 = ClusteringLayer(\n",
    "    tau=10 * 10 * tau,\n",
    "    R=2 * 2 * R,\n",
    "    verbose=0,\n",
    "    ThrFilter=2,\n",
    "    LearningAlgo=\"maro\",\n",
    "    kernel=\"exponential\",\n",
    "    homeo = True\n",
    ")\n",
    "Net = Network([L1, L2, L3])\n",
    "\n",
    "fname = \"Records/EXP_02_MaroKmeans/Exp02_2020-10-09_homeo.pkl\"\n",
    "if not os.path.isfile(fname):\n",
    "    #### Training The Cluster on 5 images\n",
    "    ClusterLayer, event_output = Net.TrainCluster(\n",
    "        event=event_cl, NbClusterList=nb_cluster, to_record=True, NbCycle=3\n",
    "    )\n",
    "\n",
    "    ## Generating histogram for training samples\n",
    "    event0_o_tr = Net.RunNetwork(event_tr, NbClusterList=ClusterLayer)\n",
    "\n",
    "    ## Generating histogram for the test samples\n",
    "    event0_o_te = Net.RunNetwork(event_te, NbClusterList=ClusterLayer)\n",
    "\n",
    "    Classif0 = Classifier(\n",
    "        event0_o_tr, event0_o_te, TrainingLabel=label_tr, GroundTruth=label_te\n",
    "    )\n",
    "    SaveObject([ClusterLayer, Classif0], fname)\n",
    "else:\n",
    "    ClusterLayer, Classif0 = LoadObject(fname)\n",
    "prediction, accuracy, method = Classif0.HistogramDistance(to_print=True)"
   ]
  },
  {
   "cell_type": "code",
   "execution_count": null,
   "metadata": {},
   "outputs": [],
   "source": [
    "DisplaySurface2D(ClusterLayer[0].prototype, nb_polarities=1)\n",
    "DisplaySurface2D(ClusterLayer[1].prototype, nb_polarities=4)\n",
    "DisplaySurface2D(ClusterLayer[2].prototype, nb_polarities=8)\n",
    "event_to_show = Event(ImageSize=(32, 32), ListPolarities=[-1, 1], OutOnePolarity=True)\n",
    "event_to_show.LoadFromMat(\"Data/alphabet_ExtractedStabilized.mat\", image_number=22)\n",
    "Net.RunNetwork(event_to_show, NbClusterList=ClusterLayer)\n",
    "mapL1 = GenerateActivationMap(Net.Layers[0].output, ClusterLayer[0])\n",
    "DisplayActivationMap(mapL1, scale=2)\n",
    "mapL2 = GenerateActivationMap(Net.Layers[1].output, ClusterLayer[1])\n",
    "DisplayActivationMap(mapL2, scale=2)\n",
    "mapL3 = GenerateActivationMap(Net.Layers[2].output, ClusterLayer[2])\n",
    "DisplayActivationMap(mapL3, scale=2)\n",
    "\n",
    "DisplayConvergence(ClusterLayer, to_display=[\"error\", \"histo\"])"
   ]
  }
 ],
 "metadata": {
  "kernelspec": {
   "display_name": "Python 3",
   "language": "python",
   "name": "python3"
  },
  "language_info": {
   "codemirror_mode": {
    "name": "ipython",
    "version": 3
   },
   "file_extension": ".py",
   "mimetype": "text/x-python",
   "name": "python",
   "nbconvert_exporter": "python",
   "pygments_lexer": "ipython3",
   "version": "3.8.6"
  }
 },
 "nbformat": 4,
 "nbformat_minor": 4
}
