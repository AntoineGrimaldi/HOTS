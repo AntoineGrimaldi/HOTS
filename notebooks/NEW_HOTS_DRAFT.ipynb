{
 "cells": [
  {
   "cell_type": "code",
   "execution_count": 1,
   "metadata": {},
   "outputs": [
    {
     "name": "stdout",
     "output_type": "stream",
     "text": [
      "/Users/joe/Documents/boulot/git/homhots/HOTS\n"
     ]
    }
   ],
   "source": [
    "%load_ext autoreload\n",
    "%autoreload 2\n",
    "%matplotlib inline\n",
    "%cd '../'"
   ]
  },
  {
   "cell_type": "code",
   "execution_count": 2,
   "metadata": {},
   "outputs": [
    {
     "name": "stdout",
     "output_type": "stream",
     "text": [
      "[]\n"
     ]
    }
   ],
   "source": [
    "import numpy as np\n",
    "import matplotlib.pyplot as plt\n",
    "import pickle\n",
    "import os\n",
    "import time\n",
    "\n",
    "from HOTS.ToolsMonitor import GenerateActivationMap, DisplayActivationMap\n",
    "from HOTS.Event import Event, SimpleAlphabet, LoadNMNIST\n",
    "from HOTS.STS import STS\n",
    "from HOTS.Layer import ClusteringLayer\n",
    "from HOTS.ToolsMonitor import (\n",
    "    DisplayImage,\n",
    "    DisplaySurface3D,\n",
    "    DisplaySurface2D,\n",
    "    DisplayConvergence,\n",
    "    DisplayLayerKernels,\n",
    ")\n",
    "from HOTS.Tools import SaveObject, LoadObject\n",
    "from HOTS.Classifier import Classifier\n",
    "from HOTS.Network import Network\n",
    "from HOTS.KmeansLagorce import KmeansLagorce\n",
    "from HOTS.KmeansMaro import KmeansMaro\n",
    "from HOTS.conv2eve import conv2eve\n",
    "\n",
    "tau = 9e-4 # -> tau=1ms, si on prend 10 ms on est à 1s pour la dernière couche et les vidéos font 0.3s en moyenne\n",
    "R = 2\n",
    "filthr = 2\n",
    "nbkNN = 3\n",
    "algo = 'lagorce'\n",
    "decay = 'exponential'\n",
    "hom = True\n",
    "krnlinit='rdn'\n",
    "nb_cluster = [4, 8, 16]\n",
    "ImageSize = (34, 34)\n",
    "DataPath = 'Data/testsetnmnist.p'\n",
    "\n",
    "NbClusteringData = 15\n",
    "NbTrainingData = 40\n",
    "NbTestingData = 40\n",
    "_1ofich = False\n",
    "\n",
    "event_tr, event_te, event_cl, label_tr, label_te = LoadNMNIST(\n",
    "NbTrainingData, NbTestingData, NbClusteringData, OneOfEach=_1ofich, Path=DataPath, OutOnePolarity=False, ListPolarities=None, verbose=0)"
   ]
  },
  {
   "cell_type": "code",
   "execution_count": 15,
   "metadata": {},
   "outputs": [
    {
     "name": "stdout",
     "output_type": "stream",
     "text": [
      "Records/EXP_03_NMNIST/20201021_hots_0.9ms_lagorce.pkl\n",
      "4 2 5 (4, 50)\n"
     ]
    },
    {
     "ename": "ValueError",
     "evalue": "cannot reshape array of size 200 into shape (5,5)",
     "output_type": "error",
     "traceback": [
      "\u001b[0;31m---------------------------------------------------------------------------\u001b[0m",
      "\u001b[0;31mValueError\u001b[0m                                Traceback (most recent call last)",
      "\u001b[0;32m<ipython-input-15-e1b654ad450a>\u001b[0m in \u001b[0;36m<module>\u001b[0;34m\u001b[0m\n\u001b[1;32m     22\u001b[0m     \u001b[0mClusterLayer\u001b[0m\u001b[0;34m,\u001b[0m \u001b[0mClassif0\u001b[0m \u001b[0;34m=\u001b[0m \u001b[0mLoadObject\u001b[0m\u001b[0;34m(\u001b[0m\u001b[0mfname\u001b[0m\u001b[0;34m)\u001b[0m\u001b[0;34m\u001b[0m\u001b[0;34m\u001b[0m\u001b[0m\n\u001b[1;32m     23\u001b[0m \u001b[0;34m\u001b[0m\u001b[0m\n\u001b[0;32m---> 24\u001b[0;31m \u001b[0mDisplayLayerKernels\u001b[0m\u001b[0;34m(\u001b[0m\u001b[0mClusterLayer\u001b[0m\u001b[0;34m)\u001b[0m\u001b[0;34m\u001b[0m\u001b[0;34m\u001b[0m\u001b[0m\n\u001b[0m\u001b[1;32m     25\u001b[0m \u001b[0;34m\u001b[0m\u001b[0m\n\u001b[1;32m     26\u001b[0m \u001b[0;31m#DisplaySurface2D(ClusterLayer[0].prototype, nb_polarities=2)\u001b[0m\u001b[0;34m\u001b[0m\u001b[0;34m\u001b[0m\u001b[0;34m\u001b[0m\u001b[0m\n",
      "\u001b[0;32m~/Documents/boulot/git/homhots/HOTS/HOTS/ToolsMonitor.py\u001b[0m in \u001b[0;36mDisplayLayerKernels\u001b[0;34m(ClusterLayer)\u001b[0m\n\u001b[1;32m    334\u001b[0m         \u001b[0mprint\u001b[0m\u001b[0;34m(\u001b[0m\u001b[0mnb_center\u001b[0m\u001b[0;34m,\u001b[0m \u001b[0mnb_polarities\u001b[0m\u001b[0;34m,\u001b[0m \u001b[0mdim\u001b[0m\u001b[0;34m,\u001b[0m \u001b[0meach_Layer\u001b[0m\u001b[0;34m.\u001b[0m\u001b[0mprototype\u001b[0m\u001b[0;34m.\u001b[0m\u001b[0mshape\u001b[0m\u001b[0;34m)\u001b[0m\u001b[0;34m\u001b[0m\u001b[0;34m\u001b[0m\u001b[0m\n\u001b[1;32m    335\u001b[0m         \u001b[0max2\u001b[0m \u001b[0;34m=\u001b[0m \u001b[0mfig\u001b[0m\u001b[0;34m.\u001b[0m\u001b[0madd_subplot\u001b[0m\u001b[0;34m(\u001b[0m\u001b[0mgs\u001b[0m\u001b[0;34m[\u001b[0m\u001b[0;36m1\u001b[0m\u001b[0;34m,\u001b[0m\u001b[0midx\u001b[0m\u001b[0;34m]\u001b[0m\u001b[0;34m)\u001b[0m\u001b[0;34m\u001b[0m\u001b[0;34m\u001b[0m\u001b[0m\n\u001b[0;32m--> 336\u001b[0;31m         \u001b[0max2\u001b[0m\u001b[0;34m.\u001b[0m\u001b[0mimshow\u001b[0m\u001b[0;34m(\u001b[0m\u001b[0meach_Layer\u001b[0m\u001b[0;34m.\u001b[0m\u001b[0mprototype\u001b[0m\u001b[0;34m.\u001b[0m\u001b[0mreshape\u001b[0m\u001b[0;34m(\u001b[0m\u001b[0;34m(\u001b[0m\u001b[0mdim\u001b[0m\u001b[0;34m,\u001b[0m\u001b[0mdim\u001b[0m\u001b[0;34m)\u001b[0m\u001b[0;34m)\u001b[0m\u001b[0;34m,\u001b[0m \u001b[0mcmap\u001b[0m\u001b[0;34m=\u001b[0m\u001b[0mplt\u001b[0m\u001b[0;34m.\u001b[0m\u001b[0mcm\u001b[0m\u001b[0;34m.\u001b[0m\u001b[0mplasma\u001b[0m\u001b[0;34m,\u001b[0m \u001b[0minterpolation\u001b[0m\u001b[0;34m=\u001b[0m\u001b[0;34m'nearest'\u001b[0m\u001b[0;34m)\u001b[0m\u001b[0;34m\u001b[0m\u001b[0;34m\u001b[0m\u001b[0m\n\u001b[0m\u001b[1;32m    337\u001b[0m \u001b[0;34m\u001b[0m\u001b[0m\n\u001b[1;32m    338\u001b[0m         \u001b[0mlocation\u001b[0m \u001b[0;34m+=\u001b[0m \u001b[0;36m1\u001b[0m\u001b[0;34m\u001b[0m\u001b[0;34m\u001b[0m\u001b[0m\n",
      "\u001b[0;31mValueError\u001b[0m: cannot reshape array of size 200 into shape (5,5)"
     ]
    },
    {
     "data": {
      "image/png": "[encoded data removed]",
      "text/plain": [
       "<Figure size 720x216 with 2 Axes>"
      ]
     },
     "metadata": {
      "needs_background": "light"
     },
     "output_type": "display_data"
    }
   ],
   "source": [
    "#timestr = time.strftime(\"%Y%m%d\")\n",
    "hom = False\n",
    "homrun = False\n",
    "timestr = '20201021'\n",
    "if hom==True:\n",
    "    fname = 'Records/EXP_03_NMNIST/'+timestr+'_hots_'+str(tau*1000)+'ms_'+algo+'_homeo.pkl'\n",
    "else:\n",
    "    fname = 'Records/EXP_03_NMNIST/'+timestr+'_hots_'+str(tau*1000)+'ms_'+algo+'.pkl'\n",
    "print(fname)\n",
    "\n",
    "L1 = ClusteringLayer(tau=tau,R=R,verbose=0,ThrFilter=filthr,LearningAlgo=algo,kernel=decay,homeo=hom,init=krnlinit)\n",
    "L2 = ClusteringLayer(tau=10 * tau,R=2 * R,verbose=0,ThrFilter=filthr,LearningAlgo=algo,kernel=decay,homeo=hom,init=krnlinit)\n",
    "L3 = ClusteringLayer(tau=10 * 10 * tau,R=2 * 2 * R,verbose=0,ThrFilter=filthr,LearningAlgo=algo,kernel=decay,homeo=hom,init=krnlinit)\n",
    "Net = Network([L1, L2, L3])\n",
    "\n",
    "if not os.path.isfile(fname):\n",
    "    ClusterLayer, event_output = Net.TrainCluster(\n",
    "            event=event_cl, NbClusterList=nb_cluster, to_record=True, NbCycle=1\n",
    "        )\n",
    "    SaveObject(ClusterLayer, fname)\n",
    "else: \n",
    "    ClusterLayer, Classif0 = LoadObject(fname)\n",
    "    \n",
    "DisplayLayerKernels(ClusterLayer)\n",
    "    \n",
    "#DisplaySurface2D(ClusterLayer[0].prototype, nb_polarities=2)\n",
    "#DisplaySurface2D(ClusterLayer[1].prototype, nb_polarities=4)\n",
    "#DisplaySurface2D(ClusterLayer[2].prototype, nb_polarities=8)\n",
    "#DisplayConvergence(ClusterLayer, to_display=[\"error\", \"histo\"])"
   ]
  },
  {
   "cell_type": "code",
   "execution_count": 4,
   "metadata": {},
   "outputs": [],
   "source": [
    "homrun = False\n",
    "event0_o_tr, event0_olz_tr = Net.RunNetwork2(event_tr, NbClusterList=ClusterLayer, homrun=homrun)\n",
    "        ## Generating histogram for the test samples\n",
    "event0_o_te, event0_olz_te = Net.RunNetwork2(event_te, NbClusterList=ClusterLayer, homrun=homrun)"
   ]
  },
  {
   "cell_type": "code",
   "execution_count": 5,
   "metadata": {},
   "outputs": [
    {
     "name": "stdout",
     "output_type": "stream",
     "text": [
      "battacha:35.0% ### normalized:35.0% ### euclidian:27.500000000000004% ### \n"
     ]
    }
   ],
   "source": [
    "#For the first layer\n",
    "\n",
    "Classif0 = Classifier(\n",
    "            event0_olz_tr[0], event0_olz_te[0], TrainingLabel=label_tr, GroundTruth=label_te\n",
    "        )\n",
    "prediction, accuracy, method = Classif0.HistogramDistance(knn=nbkNN, to_print=True)"
   ]
  },
  {
   "cell_type": "code",
   "execution_count": 6,
   "metadata": {},
   "outputs": [
    {
     "name": "stdout",
     "output_type": "stream",
     "text": [
      "battacha:35.0% ### normalized:35.0% ### euclidian:27.500000000000004% ### \n"
     ]
    }
   ],
   "source": [
    "#For the second layer\n",
    "\n",
    "Classif0 = Classifier(\n",
    "            event0_olz_tr[1], event0_olz_te[1], TrainingLabel=label_tr, GroundTruth=label_te\n",
    "        )\n",
    "prediction, accuracy, method = Classif0.HistogramDistance(knn=nbkNN, to_print=True)"
   ]
  },
  {
   "cell_type": "code",
   "execution_count": 7,
   "metadata": {},
   "outputs": [
    {
     "name": "stdout",
     "output_type": "stream",
     "text": [
      "battacha:42.5% ### normalized:47.5% ### euclidian:42.5% ### \n"
     ]
    }
   ],
   "source": [
    "#For the second layer\n",
    "\n",
    "Classif0 = Classifier(\n",
    "            event0_olz_tr[2], event0_olz_te[2], TrainingLabel=label_tr, GroundTruth=label_te\n",
    "        )\n",
    "prediction, accuracy, method = Classif0.HistogramDistance(knn=nbkNN, to_print=True)"
   ]
  },
  {
   "cell_type": "code",
   "execution_count": null,
   "metadata": {},
   "outputs": [],
   "source": []
  }
 ],
 "metadata": {
  "kernelspec": {
   "display_name": "Python 3",
   "language": "python",
   "name": "python3"
  },
  "language_info": {
   "codemirror_mode": {
    "name": "ipython",
    "version": 3
   },
   "file_extension": ".py",
   "mimetype": "text/x-python",
   "name": "python",
   "nbconvert_exporter": "python",
   "pygments_lexer": "ipython3",
   "version": "3.7.6"
  }
 },
 "nbformat": 4,
 "nbformat_minor": 4
}
