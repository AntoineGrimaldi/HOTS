{
 "cells": [
  {
   "cell_type": "code",
   "execution_count": 1,
   "metadata": {
    "execution": {
     "iopub.execute_input": "2020-11-19T04:30:35.522375Z",
     "iopub.status.busy": "2020-11-19T04:30:35.521827Z",
     "iopub.status.idle": "2020-11-19T04:30:37.347460Z",
     "shell.execute_reply": "2020-11-19T04:30:37.347966Z"
    }
   },
   "outputs": [
    {
     "name": "stdout",
     "output_type": "stream",
     "text": [
      "/Users/laurentperrinet/quantic/science/HomeHots/HOTS_clone_laurent\n"
     ]
    }
   ],
   "source": [
    "%run 2020-11-06_NEW_HOTS_05_LogisticRegression.ipynb"
   ]
  },
  {
   "cell_type": "markdown",
   "metadata": {},
   "source": [
    "### Performing logistic regression with cross-validation\n",
    "\n",
    "https://scikit-learn.org/stable/modules/generated/sklearn.linear_model.LogisticRegressionCV.html\n"
   ]
  },
  {
   "cell_type": "code",
   "execution_count": 2,
   "metadata": {
    "execution": {
     "iopub.execute_input": "2020-11-19T04:30:37.353148Z",
     "iopub.status.busy": "2020-11-19T04:30:37.352632Z",
     "iopub.status.idle": "2020-11-19T11:24:30.632867Z",
     "shell.execute_reply": "2020-11-19T11:24:30.634478Z"
    }
   },
   "outputs": [
    {
     "name": "stdout",
     "output_type": "stream",
     "text": [
      "----------------------------------------\n",
      "homeo=False\n",
      "----------------------------------------\n",
      "Classification score for sample_events=1000 is 1.000\n",
      "Classification score for sample_events=1000 is 0.687\n",
      "Classification score for sample_events=1000 is 0.111\n",
      "Classification score for sample_events=500 is 1.000\n",
      "Classification score for sample_events=500 is 0.910\n",
      "Classification score for sample_events=500 is 0.111\n",
      "Classification score for sample_events=200 is 1.000\n",
      "Classification score for sample_events=200 is 0.982\n",
      "Classification score for sample_events=200 is 0.102\n",
      "Classification score for sample_events=100 is 1.000\n",
      "Classification score for sample_events=100 is 0.994\n",
      "Classification score for sample_events=100 is 0.103\n",
      "Classification score for sample_events=50 is 1.000\n",
      "Classification score for sample_events=50 is 0.998\n",
      "Classification score for sample_events=50 is 0.102\n",
      "----------------------------------------\n",
      "homeo=True\n",
      "----------------------------------------\n",
      "Classification score for sample_events=1000 is 1.000\n",
      "Classification score for sample_events=1000 is 0.703\n",
      "Classification score for sample_events=1000 is 0.079\n",
      "Classification score for sample_events=500 is 1.000\n",
      "Classification score for sample_events=500 is 0.919\n",
      "Classification score for sample_events=500 is 0.077\n",
      "Classification score for sample_events=200 is 1.000\n",
      "Classification score for sample_events=200 is 0.984\n",
      "Classification score for sample_events=200 is 0.080\n",
      "Classification score for sample_events=100 is 1.000\n",
      "Classification score for sample_events=100 is 0.993\n",
      "Classification score for sample_events=100 is 0.086\n",
      "Classification score for sample_events=50 is 1.000\n",
      "Classification score for sample_events=50 is 0.997\n",
      "Classification score for sample_events=50 is 0.084\n"
     ]
    }
   ],
   "source": [
    "for homeo in [False, True]:\n",
    "    print(40*'-')\n",
    "    print(f'{homeo=}')\n",
    "    print(40*'-')\n",
    "    events_train_o, events_test_o = get_events(timestr, tau=tau, homeo=homeo)\n",
    "\n",
    "    for sample_events in [1000, 500, 200, 100, 50]:\n",
    "        X, y = gather_data(events_train_o, labels_train, sample_events=sample_events)\n",
    "        X_train, X_test, y_train, y_test = train_test_split(X, y, test_size=0.33, random_state=42)\n",
    "        lr = LR(**opts_LR).fit(X_train, y_train)\n",
    "        print(f'Classification score for {sample_events=} is {lr.score(X_train, y_train):.3f}')\n",
    "        print(f'Classification score for {sample_events=} is {lr.score(X_test, y_test):.3f}')\n",
    "        X_test, y_test = gather_data(events_test_o, labels_test, sample_events=sample_events)\n",
    "        print(f'Classification score for {sample_events=} is {lr.score(X_test, y_test):.3f}')"
   ]
  }
 ],
 "metadata": {
  "kernelspec": {
   "display_name": "Python 3",
   "language": "python",
   "name": "python3"
  },
  "language_info": {
   "codemirror_mode": {
    "name": "ipython",
    "version": 3
   },
   "file_extension": ".py",
   "mimetype": "text/x-python",
   "name": "python",
   "nbconvert_exporter": "python",
   "pygments_lexer": "ipython3",
   "version": "3.9.0"
  }
 },
 "nbformat": 4,
 "nbformat_minor": 4
}
