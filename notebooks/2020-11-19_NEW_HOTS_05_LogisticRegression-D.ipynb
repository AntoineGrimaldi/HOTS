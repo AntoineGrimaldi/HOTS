{
 "cells": [
  {
   "cell_type": "code",
   "execution_count": 1,
   "metadata": {},
   "outputs": [],
   "source": [
    "%run 2020-11-19_NEW_HOTS_05_LogisticRegression.py"
   ]
  },
  {
   "cell_type": "code",
   "execution_count": 2,
   "metadata": {},
   "outputs": [],
   "source": [
    "verbose=True"
   ]
  },
  {
   "cell_type": "markdown",
   "metadata": {},
   "source": [
    "### Performing logistic regression with cross-validation\n",
    "\n",
    "https://scikit-learn.org/stable/modules/generated/sklearn.linear_model.LogisticRegressionCV.html\n"
   ]
  },
  {
   "cell_type": "code",
   "execution_count": 3,
   "metadata": {},
   "outputs": [
    {
     "name": "stdout",
     "output_type": "stream",
     "text": [
      "----------------------------------------\n",
      "homeo=False\n",
      "----------------------------------------\n",
      "loading the events from file ../Records/EXP_03_NMNIST/2020-11-03_hots_0.9_ms_40_40_40_event_out_lagorce.pkl\n",
      "Number of events: 854 - Number of features: 2312\n"
     ]
    },
    {
     "name": "stderr",
     "output_type": "stream",
     "text": [
      "[Parallel(n_jobs=32)]: Using backend LokyBackend with 32 concurrent workers.\n",
      "[Parallel(n_jobs=32)]: Done   2 out of   5 | elapsed:   56.3s remaining:  1.4min\n",
      "[Parallel(n_jobs=32)]: Done   5 out of   5 | elapsed:   59.7s remaining:    0.0s\n",
      "[Parallel(n_jobs=32)]: Done   5 out of   5 | elapsed:   59.7s finished\n"
     ]
    },
    {
     "name": "stdout",
     "output_type": "stream",
     "text": [
      "Classification score for sample_events=1000 is 1.000\n",
      "Number of events: 171 - Number of features: 2312\n",
      "Classification score for sample_events=1000 is 0.450\n",
      "Number of events: 854 - Number of features: 2312\n"
     ]
    },
    {
     "name": "stderr",
     "output_type": "stream",
     "text": [
      "[Parallel(n_jobs=32)]: Using backend LokyBackend with 32 concurrent workers.\n",
      "[Parallel(n_jobs=32)]: Done   2 out of   5 | elapsed:   54.8s remaining:  1.4min\n",
      "[Parallel(n_jobs=32)]: Done   5 out of   5 | elapsed:   57.9s remaining:    0.0s\n",
      "[Parallel(n_jobs=32)]: Done   5 out of   5 | elapsed:   57.9s finished\n"
     ]
    },
    {
     "name": "stdout",
     "output_type": "stream",
     "text": [
      "Classification score for sample_events=500 is 1.000\n",
      "Number of events: 341 - Number of features: 2312\n",
      "Classification score for sample_events=500 is 0.452\n",
      "Number of events: 854 - Number of features: 2312\n"
     ]
    },
    {
     "name": "stderr",
     "output_type": "stream",
     "text": [
      "[Parallel(n_jobs=32)]: Using backend LokyBackend with 32 concurrent workers.\n",
      "[Parallel(n_jobs=32)]: Done   2 out of   5 | elapsed:   42.5s remaining:  1.1min\n",
      "[Parallel(n_jobs=32)]: Done   5 out of   5 | elapsed:   45.2s remaining:    0.0s\n",
      "[Parallel(n_jobs=32)]: Done   5 out of   5 | elapsed:   45.2s finished\n"
     ]
    },
    {
     "name": "stdout",
     "output_type": "stream",
     "text": [
      "Classification score for sample_events=200 is 1.000\n",
      "Number of events: 851 - Number of features: 2312\n",
      "Classification score for sample_events=200 is 0.447\n",
      "Number of events: 854 - Number of features: 2312\n"
     ]
    },
    {
     "name": "stderr",
     "output_type": "stream",
     "text": [
      "[Parallel(n_jobs=32)]: Using backend LokyBackend with 32 concurrent workers.\n",
      "[Parallel(n_jobs=32)]: Done   2 out of   5 | elapsed:   43.3s remaining:  1.1min\n",
      "[Parallel(n_jobs=32)]: Done   5 out of   5 | elapsed:   46.7s remaining:    0.0s\n",
      "[Parallel(n_jobs=32)]: Done   5 out of   5 | elapsed:   46.7s finished\n"
     ]
    },
    {
     "name": "stdout",
     "output_type": "stream",
     "text": [
      "Classification score for sample_events=100 is 1.000\n",
      "Number of events: 1702 - Number of features: 2312\n",
      "Classification score for sample_events=100 is 0.451\n",
      "Number of events: 854 - Number of features: 2312\n"
     ]
    },
    {
     "name": "stderr",
     "output_type": "stream",
     "text": [
      "[Parallel(n_jobs=32)]: Using backend LokyBackend with 32 concurrent workers.\n",
      "[Parallel(n_jobs=32)]: Done   2 out of   5 | elapsed:   46.3s remaining:  1.2min\n",
      "[Parallel(n_jobs=32)]: Done   5 out of   5 | elapsed:   49.3s remaining:    0.0s\n",
      "[Parallel(n_jobs=32)]: Done   5 out of   5 | elapsed:   49.3s finished\n"
     ]
    },
    {
     "name": "stdout",
     "output_type": "stream",
     "text": [
      "Classification score for sample_events=50 is 1.000\n",
      "Number of events: 3404 - Number of features: 2312\n",
      "Classification score for sample_events=50 is 0.448\n",
      "----------------------------------------\n",
      "homeo=True\n",
      "----------------------------------------\n",
      "loading the events from file ../Records/EXP_03_NMNIST/2020-11-03_hots_0.9_ms_40_40_40_event_out_lagorce_homeo.pkl\n",
      "Number of events: 854 - Number of features: 2312\n"
     ]
    },
    {
     "name": "stderr",
     "output_type": "stream",
     "text": [
      "[Parallel(n_jobs=32)]: Using backend LokyBackend with 32 concurrent workers.\n",
      "[Parallel(n_jobs=32)]: Done   2 out of   5 | elapsed:   46.3s remaining:  1.2min\n",
      "[Parallel(n_jobs=32)]: Done   5 out of   5 | elapsed:   49.5s remaining:    0.0s\n",
      "[Parallel(n_jobs=32)]: Done   5 out of   5 | elapsed:   49.5s finished\n"
     ]
    },
    {
     "name": "stdout",
     "output_type": "stream",
     "text": [
      "Classification score for sample_events=1000 is 1.000\n",
      "Number of events: 171 - Number of features: 2312\n",
      "Classification score for sample_events=1000 is 0.450\n",
      "Number of events: 854 - Number of features: 2312\n"
     ]
    },
    {
     "name": "stderr",
     "output_type": "stream",
     "text": [
      "[Parallel(n_jobs=32)]: Using backend LokyBackend with 32 concurrent workers.\n",
      "[Parallel(n_jobs=32)]: Done   2 out of   5 | elapsed:  1.1min remaining:  1.6min\n",
      "[Parallel(n_jobs=32)]: Done   5 out of   5 | elapsed:  1.1min remaining:    0.0s\n",
      "[Parallel(n_jobs=32)]: Done   5 out of   5 | elapsed:  1.1min finished\n"
     ]
    },
    {
     "name": "stdout",
     "output_type": "stream",
     "text": [
      "Classification score for sample_events=500 is 1.000\n",
      "Number of events: 341 - Number of features: 2312\n",
      "Classification score for sample_events=500 is 0.452\n",
      "Number of events: 854 - Number of features: 2312\n"
     ]
    },
    {
     "name": "stderr",
     "output_type": "stream",
     "text": [
      "[Parallel(n_jobs=32)]: Using backend LokyBackend with 32 concurrent workers.\n",
      "[Parallel(n_jobs=32)]: Done   2 out of   5 | elapsed:  1.1min remaining:  1.7min\n",
      "[Parallel(n_jobs=32)]: Done   5 out of   5 | elapsed:  1.2min remaining:    0.0s\n",
      "[Parallel(n_jobs=32)]: Done   5 out of   5 | elapsed:  1.2min finished\n"
     ]
    },
    {
     "name": "stdout",
     "output_type": "stream",
     "text": [
      "Classification score for sample_events=200 is 1.000\n",
      "Number of events: 851 - Number of features: 2312\n",
      "Classification score for sample_events=200 is 0.447\n",
      "Number of events: 854 - Number of features: 2312\n"
     ]
    },
    {
     "name": "stderr",
     "output_type": "stream",
     "text": [
      "[Parallel(n_jobs=32)]: Using backend LokyBackend with 32 concurrent workers.\n",
      "[Parallel(n_jobs=32)]: Done   2 out of   5 | elapsed:  1.1min remaining:  1.7min\n",
      "[Parallel(n_jobs=32)]: Done   5 out of   5 | elapsed:  1.2min remaining:    0.0s\n",
      "[Parallel(n_jobs=32)]: Done   5 out of   5 | elapsed:  1.2min finished\n"
     ]
    },
    {
     "name": "stdout",
     "output_type": "stream",
     "text": [
      "Classification score for sample_events=100 is 1.000\n",
      "Number of events: 1702 - Number of features: 2312\n",
      "Classification score for sample_events=100 is 0.451\n",
      "Number of events: 854 - Number of features: 2312\n"
     ]
    },
    {
     "name": "stderr",
     "output_type": "stream",
     "text": [
      "[Parallel(n_jobs=32)]: Using backend LokyBackend with 32 concurrent workers.\n",
      "[Parallel(n_jobs=32)]: Done   2 out of   5 | elapsed:  1.1min remaining:  1.6min\n",
      "[Parallel(n_jobs=32)]: Done   5 out of   5 | elapsed:  1.1min remaining:    0.0s\n",
      "[Parallel(n_jobs=32)]: Done   5 out of   5 | elapsed:  1.1min finished\n"
     ]
    },
    {
     "name": "stdout",
     "output_type": "stream",
     "text": [
      "Classification score for sample_events=50 is 1.000\n",
      "Number of events: 3404 - Number of features: 2312\n",
      "Classification score for sample_events=50 is 0.448\n"
     ]
    }
   ],
   "source": [
    "for homeo in [False, True]:\n",
    "    print(40*'-')\n",
    "    print(f'{homeo=}')\n",
    "    print(40*'-')\n",
    "    events_train_o, events_test_o, labels_train, labels_test = get_events(timestr, tau=tau, homeo=homeo, verbose=verbose)\n",
    "\n",
    "    for sample_events in [1000, 500, 200, 100, 50]:\n",
    "        X_train, y_train = gather_data(events_train_o, labels_train, sample_events=sample_events, verbose=verbose)\n",
    "        lr = LR(**opts_LR, verbose=verbose).fit(X_train, y_train)\n",
    "        print(f'Classification score for {sample_events=} is {lr.score(X_train, y_train):.3f}')\n",
    "        X_test, y_test = gather_data(events_test_o, labels_test, sample_events=sample_events, verbose=verbose)\n",
    "        print(f'Classification score for {sample_events=} is {lr.score(X_test, y_test):.3f}')"
   ]
  },
  {
   "cell_type": "code",
   "execution_count": 3,
   "metadata": {},
   "outputs": [
    {
     "name": "stdout",
     "output_type": "stream",
     "text": [
      "----------------------------------------\n",
      "homeo=False\n",
      "----------------------------------------\n",
      "loading the events from file ../Records/EXP_03_NMNIST/2020-11-03_hots_0.9_ms_40_40_40_event_out_lagorce.pkl\n",
      "Number of events: 854 - Number of features: 2312\n"
     ]
    },
    {
     "name": "stderr",
     "output_type": "stream",
     "text": [
      "[Parallel(n_jobs=32)]: Using backend LokyBackend with 32 concurrent workers.\n",
      "[Parallel(n_jobs=32)]: Done   2 out of   5 | elapsed:   56.3s remaining:  1.4min\n",
      "[Parallel(n_jobs=32)]: Done   5 out of   5 | elapsed:   59.7s remaining:    0.0s\n",
      "[Parallel(n_jobs=32)]: Done   5 out of   5 | elapsed:   59.7s finished\n"
     ]
    },
    {
     "name": "stdout",
     "output_type": "stream",
     "text": [
      "Classification score for sample_events=1000 is 1.000\n",
      "Number of events: 171 - Number of features: 2312\n",
      "Classification score for sample_events=1000 is 0.450\n",
      "Number of events: 854 - Number of features: 2312\n"
     ]
    },
    {
     "name": "stderr",
     "output_type": "stream",
     "text": [
      "[Parallel(n_jobs=32)]: Using backend LokyBackend with 32 concurrent workers.\n",
      "[Parallel(n_jobs=32)]: Done   2 out of   5 | elapsed:   54.8s remaining:  1.4min\n",
      "[Parallel(n_jobs=32)]: Done   5 out of   5 | elapsed:   57.9s remaining:    0.0s\n",
      "[Parallel(n_jobs=32)]: Done   5 out of   5 | elapsed:   57.9s finished\n"
     ]
    },
    {
     "name": "stdout",
     "output_type": "stream",
     "text": [
      "Classification score for sample_events=500 is 1.000\n",
      "Number of events: 341 - Number of features: 2312\n",
      "Classification score for sample_events=500 is 0.452\n",
      "Number of events: 854 - Number of features: 2312\n"
     ]
    },
    {
     "name": "stderr",
     "output_type": "stream",
     "text": [
      "[Parallel(n_jobs=32)]: Using backend LokyBackend with 32 concurrent workers.\n",
      "[Parallel(n_jobs=32)]: Done   2 out of   5 | elapsed:   42.5s remaining:  1.1min\n",
      "[Parallel(n_jobs=32)]: Done   5 out of   5 | elapsed:   45.2s remaining:    0.0s\n",
      "[Parallel(n_jobs=32)]: Done   5 out of   5 | elapsed:   45.2s finished\n"
     ]
    },
    {
     "name": "stdout",
     "output_type": "stream",
     "text": [
      "Classification score for sample_events=200 is 1.000\n",
      "Number of events: 851 - Number of features: 2312\n",
      "Classification score for sample_events=200 is 0.447\n",
      "Number of events: 854 - Number of features: 2312\n"
     ]
    },
    {
     "name": "stderr",
     "output_type": "stream",
     "text": [
      "[Parallel(n_jobs=32)]: Using backend LokyBackend with 32 concurrent workers.\n",
      "[Parallel(n_jobs=32)]: Done   2 out of   5 | elapsed:   43.3s remaining:  1.1min\n",
      "[Parallel(n_jobs=32)]: Done   5 out of   5 | elapsed:   46.7s remaining:    0.0s\n",
      "[Parallel(n_jobs=32)]: Done   5 out of   5 | elapsed:   46.7s finished\n"
     ]
    },
    {
     "name": "stdout",
     "output_type": "stream",
     "text": [
      "Classification score for sample_events=100 is 1.000\n",
      "Number of events: 1702 - Number of features: 2312\n",
      "Classification score for sample_events=100 is 0.451\n",
      "Number of events: 854 - Number of features: 2312\n"
     ]
    },
    {
     "name": "stderr",
     "output_type": "stream",
     "text": [
      "[Parallel(n_jobs=32)]: Using backend LokyBackend with 32 concurrent workers.\n",
      "[Parallel(n_jobs=32)]: Done   2 out of   5 | elapsed:   46.3s remaining:  1.2min\n",
      "[Parallel(n_jobs=32)]: Done   5 out of   5 | elapsed:   49.3s remaining:    0.0s\n",
      "[Parallel(n_jobs=32)]: Done   5 out of   5 | elapsed:   49.3s finished\n"
     ]
    },
    {
     "name": "stdout",
     "output_type": "stream",
     "text": [
      "Classification score for sample_events=50 is 1.000\n",
      "Number of events: 3404 - Number of features: 2312\n",
      "Classification score for sample_events=50 is 0.448\n",
      "----------------------------------------\n",
      "homeo=True\n",
      "----------------------------------------\n",
      "loading the events from file ../Records/EXP_03_NMNIST/2020-11-03_hots_0.9_ms_40_40_40_event_out_lagorce_homeo.pkl\n",
      "Number of events: 854 - Number of features: 2312\n"
     ]
    },
    {
     "name": "stderr",
     "output_type": "stream",
     "text": [
      "[Parallel(n_jobs=32)]: Using backend LokyBackend with 32 concurrent workers.\n",
      "[Parallel(n_jobs=32)]: Done   2 out of   5 | elapsed:   46.3s remaining:  1.2min\n",
      "[Parallel(n_jobs=32)]: Done   5 out of   5 | elapsed:   49.5s remaining:    0.0s\n",
      "[Parallel(n_jobs=32)]: Done   5 out of   5 | elapsed:   49.5s finished\n"
     ]
    },
    {
     "name": "stdout",
     "output_type": "stream",
     "text": [
      "Classification score for sample_events=1000 is 1.000\n",
      "Number of events: 171 - Number of features: 2312\n",
      "Classification score for sample_events=1000 is 0.450\n",
      "Number of events: 854 - Number of features: 2312\n"
     ]
    },
    {
     "name": "stderr",
     "output_type": "stream",
     "text": [
      "[Parallel(n_jobs=32)]: Using backend LokyBackend with 32 concurrent workers.\n",
      "[Parallel(n_jobs=32)]: Done   2 out of   5 | elapsed:  1.1min remaining:  1.6min\n",
      "[Parallel(n_jobs=32)]: Done   5 out of   5 | elapsed:  1.1min remaining:    0.0s\n",
      "[Parallel(n_jobs=32)]: Done   5 out of   5 | elapsed:  1.1min finished\n"
     ]
    },
    {
     "name": "stdout",
     "output_type": "stream",
     "text": [
      "Classification score for sample_events=500 is 1.000\n",
      "Number of events: 341 - Number of features: 2312\n",
      "Classification score for sample_events=500 is 0.452\n",
      "Number of events: 854 - Number of features: 2312\n"
     ]
    },
    {
     "name": "stderr",
     "output_type": "stream",
     "text": [
      "[Parallel(n_jobs=32)]: Using backend LokyBackend with 32 concurrent workers.\n",
      "[Parallel(n_jobs=32)]: Done   2 out of   5 | elapsed:  1.1min remaining:  1.7min\n",
      "[Parallel(n_jobs=32)]: Done   5 out of   5 | elapsed:  1.2min remaining:    0.0s\n",
      "[Parallel(n_jobs=32)]: Done   5 out of   5 | elapsed:  1.2min finished\n"
     ]
    },
    {
     "name": "stdout",
     "output_type": "stream",
     "text": [
      "Classification score for sample_events=200 is 1.000\n",
      "Number of events: 851 - Number of features: 2312\n",
      "Classification score for sample_events=200 is 0.447\n",
      "Number of events: 854 - Number of features: 2312\n"
     ]
    },
    {
     "name": "stderr",
     "output_type": "stream",
     "text": [
      "[Parallel(n_jobs=32)]: Using backend LokyBackend with 32 concurrent workers.\n",
      "[Parallel(n_jobs=32)]: Done   2 out of   5 | elapsed:  1.1min remaining:  1.7min\n",
      "[Parallel(n_jobs=32)]: Done   5 out of   5 | elapsed:  1.2min remaining:    0.0s\n",
      "[Parallel(n_jobs=32)]: Done   5 out of   5 | elapsed:  1.2min finished\n"
     ]
    },
    {
     "name": "stdout",
     "output_type": "stream",
     "text": [
      "Classification score for sample_events=100 is 1.000\n",
      "Number of events: 1702 - Number of features: 2312\n",
      "Classification score for sample_events=100 is 0.451\n",
      "Number of events: 854 - Number of features: 2312\n"
     ]
    },
    {
     "name": "stderr",
     "output_type": "stream",
     "text": [
      "[Parallel(n_jobs=32)]: Using backend LokyBackend with 32 concurrent workers.\n",
      "[Parallel(n_jobs=32)]: Done   2 out of   5 | elapsed:  1.1min remaining:  1.6min\n",
      "[Parallel(n_jobs=32)]: Done   5 out of   5 | elapsed:  1.1min remaining:    0.0s\n",
      "[Parallel(n_jobs=32)]: Done   5 out of   5 | elapsed:  1.1min finished\n"
     ]
    },
    {
     "name": "stdout",
     "output_type": "stream",
     "text": [
      "Classification score for sample_events=50 is 1.000\n",
      "Number of events: 3404 - Number of features: 2312\n",
      "Classification score for sample_events=50 is 0.448\n"
     ]
    }
   ],
   "source": [
    "for homeo in [False, True]:\n",
    "    print(40*'-')\n",
    "    print(f'{homeo=}')\n",
    "    print(40*'-')\n",
    "    events_train_o, events_test_o, labels_train, labels_test = get_events(timestr, tau=tau, homeo=homeo, verbose=verbose)\n",
    "\n",
    "    for sample_events in [1000, 500, 200, 100, 50]:\n",
    "        X_train, y_train = gather_data(events_train_o, labels_train, sample_events=sample_events, verbose=verbose)\n",
    "        lr = LR(**opts_LR, verbose=verbose).fit(X_train, y_train)\n",
    "        print(f'Classification score for {sample_events=} is {lr.score(X_train, y_train):.3f}')\n",
    "        X_test, y_test = gather_data(events_test_o, labels_test, sample_events=sample_events, verbose=verbose)\n",
    "        print(f'Classification score for {sample_events=} is {lr.score(X_test, y_test):.3f}')"
   ]
  }
 ],
 "metadata": {
  "kernelspec": {
   "display_name": "hots",
   "language": "python",
   "name": "hots"
  },
  "language_info": {
   "codemirror_mode": {
    "name": "ipython",
    "version": 3
   },
   "file_extension": ".py",
   "mimetype": "text/x-python",
   "name": "python",
   "nbconvert_exporter": "python",
   "pygments_lexer": "ipython3",
   "version": "3.8.3"
  }
 },
 "nbformat": 4,
 "nbformat_minor": 4
}
