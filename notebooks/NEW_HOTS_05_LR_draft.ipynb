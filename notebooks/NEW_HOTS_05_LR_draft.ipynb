{
 "cells": [
  {
   "cell_type": "code",
   "execution_count": 1,
   "metadata": {},
   "outputs": [
    {
     "name": "stdout",
     "output_type": "stream",
     "text": [
      "/Users/joe/Documents/boulot/git/homhots/HOTS\n"
     ]
    }
   ],
   "source": [
    "#%load_ext autoreload\n",
    "#%autoreload 2\n",
    "%matplotlib inline\n",
    "%cd '../'"
   ]
  },
  {
   "cell_type": "code",
   "execution_count": 2,
   "metadata": {},
   "outputs": [
    {
     "name": "stdout",
     "output_type": "stream",
     "text": [
      "[1, 4, 2, 7, 0, 8, 9, 5, 3, 6]\n"
     ]
    }
   ],
   "source": [
    "import numpy as np\n",
    "import matplotlib.pyplot as plt\n",
    "import pickle\n",
    "import os\n",
    "import time\n",
    "\n",
    "from HOTS.ToolsMonitor import GenerateActivationMap, DisplayActivationMap\n",
    "from HOTS.Event import Event, SimpleAlphabet, LoadNMNIST\n",
    "from HOTS.STS import STS\n",
    "from HOTS.Layer import ClusteringLayer\n",
    "from HOTS.ToolsMonitor import (\n",
    "    DisplayImage,\n",
    "    DisplaySurface3D,\n",
    "    DisplaySurface2D,\n",
    "    DisplayConvergence,\n",
    ")\n",
    "from HOTS.Tools import SaveObject, LoadObject\n",
    "from HOTS.Classifier import Classifier\n",
    "from HOTS.Network import Network\n",
    "from HOTS.KmeansLagorce import KmeansLagorce\n",
    "from HOTS.KmeansMaro import KmeansMaro\n",
    "from HOTS.conv2eve import conv2eve\n",
    "\n",
    "tau = 9e-4 # -> tau=1ms, si on prend 10 ms on est à 1s pour la dernière couche et les vidéos font 0.3s en moyenne\n",
    "R = 2\n",
    "filthr = 2\n",
    "nbkNN = 3\n",
    "algo = 'lagorce'\n",
    "decay = 'exponential'\n",
    "hom = True\n",
    "krnlinit = 'rdn'\n",
    "nb_cluster = [4, 8, 16]\n",
    "ImageSize = (34, 34)\n",
    "DataPath = '../../../python/testsetnmnist.p'\n",
    "\n",
    "NbClusteringData = 15\n",
    "NbTrainingData = 40\n",
    "NbTestingData = 40\n",
    "_1ofich = True\n",
    "event_tr, event_te, event_cl, label_tr, label_te = LoadNMNIST(\n",
    "NbTrainingData, NbTestingData, NbClusteringData, OneOfEach=_1ofich, Path=DataPath, OutOnePolarity=False, ListPolarities=None, verbose=0)"
   ]
  },
  {
   "cell_type": "code",
   "execution_count": 3,
   "metadata": {},
   "outputs": [
    {
     "name": "stdout",
     "output_type": "stream",
     "text": [
      "Records/EXP_03_NMNIST/20201021_hots_0.9ms_lagorce.pkl\n",
      "battacha:75.0% ### normalized:72.5% ### euclidian:70.0% ### \n"
     ]
    }
   ],
   "source": [
    "#timestr = time.strftime(\"%Y%m%d\")\n",
    "hom = False\n",
    "timestr = '20201021'\n",
    "if hom==True:\n",
    "    fname = 'Records/EXP_03_NMNIST/'+timestr+'_hots_'+str(tau*1000)+'ms_'+algo+'_homeo.pkl'\n",
    "else:\n",
    "    fname = 'Records/EXP_03_NMNIST/'+timestr+'_hots_'+str(tau*1000)+'ms_'+algo+'.pkl'\n",
    "print(fname)\n",
    "\n",
    "L1 = ClusteringLayer(tau=tau,R=R,verbose=0,ThrFilter=filthr,LearningAlgo=algo,kernel=decay,homeo=hom,init=krnlinit)\n",
    "L2 = ClusteringLayer(tau=10 * tau,R=2 * R,verbose=0,ThrFilter=filthr,LearningAlgo=algo,kernel=decay,homeo=hom,init=krnlinit)\n",
    "L3 = ClusteringLayer(tau=10 * 10 * tau,R=2 * 2 * R,verbose=0,ThrFilter=filthr,LearningAlgo=algo,kernel=decay,homeo=hom,init=krnlinit)\n",
    "Net = Network([L1, L2, L3])\n",
    "\n",
    "if not os.path.isfile(fname):\n",
    "    ClusterLayer, event_output = Net.TrainCluster(\n",
    "            event=event_cl, NbClusterList=nb_cluster, to_record=True, NbCycle=1\n",
    "        )\n",
    "    SaveObject(ClusterLayer, fname)\n",
    "else: \n",
    "    ClusterLayer, Classif0 = LoadObject(fname)\n",
    "\n",
    "prediction, accuracy, method = Classif0.HistogramDistance(knn=nbkNN, to_print=True)"
   ]
  },
  {
   "cell_type": "markdown",
   "metadata": {},
   "source": [
    "### Loading only on digit of each for logistic regression"
   ]
  },
  {
   "cell_type": "code",
   "execution_count": 4,
   "metadata": {},
   "outputs": [
    {
     "name": "stdout",
     "output_type": "stream",
     "text": [
      "battacha:35.0% ### normalized:35.0% ### euclidian:25.0% ### \n"
     ]
    }
   ],
   "source": [
    "homrun = False\n",
    "event0_o_tr2 = Net.RunNetwork(event_tr, NbClusterList=ClusterLayer, homrun=homrun)\n",
    "event0_o_te2 = Net.RunNetwork(event_te, NbClusterList=ClusterLayer, homrun=homrun)\n",
    "Classif02 = Classifier(event0_o_tr2, event0_o_te2, TrainingLabel=label_tr, GroundTruth=label_te)\n",
    "prediction2, accuracy2, method2 = Classif02.HistogramDistance(knn=nbkNN, to_print=True)"
   ]
  },
  {
   "cell_type": "markdown",
   "metadata": {},
   "source": [
    "### Building matrix for logistic regression"
   ]
  },
  {
   "cell_type": "code",
   "execution_count": 5,
   "metadata": {},
   "outputs": [
    {
     "name": "stdout",
     "output_type": "stream",
     "text": [
      "Number of events: 39503 - Number of features: 18496\n"
     ]
    },
    {
     "data": {
      "image/png": "[encoded data removed]",
      "text/plain": [
       "<Figure size 432x288 with 1 Axes>"
      ]
     },
     "metadata": {
      "needs_background": "light"
     },
     "output_type": "display_data"
    }
   ],
   "source": [
    "imlen = ImageSize[0]*ImageSize[1]\n",
    "taucla = 1e-2\n",
    "X = np.zeros([len(Classif02.event_train.time), imlen*nb_cluster[-1]])\n",
    "y = np.zeros([len(Classif02.event_train.time)])\n",
    "addr = Classif02.event_train.address[0]*ImageSize[0]+Classif02.event_train.address[1]+imlen*Classif02.event_train.polarity[0]\n",
    "X[0][addr]=1\n",
    "y[0] = Classif02.GroundTruth[0]\n",
    "il = 0\n",
    "for i in range(1,len(Classif02.event_train.time)):\n",
    "    if i-1 not in Classif02.event_train.ChangeIdx:\n",
    "        X[i] = X[i-1]*np.exp((Classif02.event_train.time[i-1]-Classif02.event_train.time[i])/taucla)\n",
    "    else:\n",
    "        il += 1\n",
    "    addr = Classif02.event_train.address[i][0]*ImageSize[0]+Classif02.event_train.address[i][1]+imlen*Classif02.event_train.polarity[i]\n",
    "    X[i][addr] = 1\n",
    "    y[i] = Classif02.GroundTruth[il]\n",
    "plt.imshow(X[:10000]);\n",
    "print('Number of events: '+str(X.shape [0])+' - Number of features: '+str(X.shape [1]))\n",
    "SaveObject([X,y], 'vectorzLR.pkl')"
   ]
  },
  {
   "cell_type": "markdown",
   "metadata": {},
   "source": [
    "### Building subsampled matrix for logistic regression (taking 1 sample over 'subcoef')"
   ]
  },
  {
   "cell_type": "code",
   "execution_count": 7,
   "metadata": {},
   "outputs": [],
   "source": [
    "subcoef = 10\n",
    "Xlr, ylr = LoadObject('vectorzLR.pkl')\n",
    "Xlrsub = Xlr[::subcoef,:]\n",
    "ylrsub = ylr[::subcoef]"
   ]
  },
  {
   "cell_type": "markdown",
   "metadata": {},
   "source": [
    "### Building matrix for logistic regression taking only polarities"
   ]
  },
  {
   "cell_type": "code",
   "execution_count": 8,
   "metadata": {},
   "outputs": [
    {
     "name": "stdout",
     "output_type": "stream",
     "text": [
      "Number of events: 39503 - Number of features: 16\n"
     ]
    }
   ],
   "source": [
    "taucla = 1e-2\n",
    "Xhisto = np.zeros([len(Classif02.event_train.time), nb_cluster[-1]])\n",
    "yhisto = np.zeros([len(Classif02.event_train.time)])\n",
    "addr = Classif02.event_train.polarity[0]\n",
    "Xhisto[0][addr]=1\n",
    "yhisto[0] = Classif02.GroundTruth[0]\n",
    "il = 0\n",
    "for i in range(1,len(Classif02.event_train.time)):\n",
    "    if i-1 not in Classif02.event_train.ChangeIdx:\n",
    "        Xhisto[i] = Xhisto[i-1]*np.exp((Classif02.event_train.time[i-1]-Classif02.event_train.time[i])/taucla)\n",
    "    else:\n",
    "        il += 1\n",
    "    addr = Classif02.event_train.polarity[i]\n",
    "    Xhisto[i][addr] = 1\n",
    "    yhisto[i] = Classif02.GroundTruth[il]\n",
    "print('Number of events: '+str(Xhisto.shape [0])+' - Number of features: '+str(Xhisto.shape [1]))\n",
    "SaveObject([Xhisto,yhisto], 'vecthistLR.pkl')"
   ]
  },
  {
   "cell_type": "markdown",
   "metadata": {},
   "source": [
    "### Performing logistic regression using cross-validation"
   ]
  },
  {
   "cell_type": "code",
   "execution_count": null,
   "metadata": {},
   "outputs": [],
   "source": [
    "from sklearn.linear_model import LogisticRegressionCV as LogReg\n",
    "lrsub = LogReg(random_state=0).fit(Xlr,ylr)"
   ]
  },
  {
   "cell_type": "markdown",
   "metadata": {},
   "source": [
    "### Performing logistic regression on the subsampled matrix using cross-validation"
   ]
  },
  {
   "cell_type": "code",
   "execution_count": null,
   "metadata": {},
   "outputs": [],
   "source": [
    "from sklearn.linear_model import LogisticRegressionCV as LogReg\n",
    "lrsub = LogReg(random_state=0).fit(Xlrsub,ylrsub)"
   ]
  },
  {
   "cell_type": "markdown",
   "metadata": {},
   "source": [
    "### Performing logistic regression on the matrix of polarities only"
   ]
  },
  {
   "cell_type": "code",
   "execution_count": 9,
   "metadata": {},
   "outputs": [
    {
     "name": "stderr",
     "output_type": "stream",
     "text": [
      "/usr/local/anaconda3/lib/python3.7/site-packages/sklearn/linear_model/_logistic.py:940: ConvergenceWarning: lbfgs failed to converge (status=1):\n",
      "STOP: TOTAL NO. of ITERATIONS REACHED LIMIT.\n",
      "\n",
      "Increase the number of iterations (max_iter) or scale the data as shown in:\n",
      "    https://scikit-learn.org/stable/modules/preprocessing.html\n",
      "Please also refer to the documentation for alternative solver options:\n",
      "    https://scikit-learn.org/stable/modules/linear_model.html#logistic-regression\n",
      "  extra_warning_msg=_LOGISTIC_SOLVER_CONVERGENCE_MSG)\n"
     ]
    }
   ],
   "source": [
    "from sklearn.linear_model import LogisticRegression as LR\n",
    "lrpol = LR(random_state=0).fit(Xhisto,yhisto)"
   ]
  },
  {
   "cell_type": "code",
   "execution_count": 10,
   "metadata": {},
   "outputs": [
    {
     "data": {
      "text/plain": [
       "0.785484646735691"
      ]
     },
     "execution_count": 10,
     "metadata": {},
     "output_type": "execute_result"
    }
   ],
   "source": [
    "lrpol.score(Xhisto,yhisto)"
   ]
  },
  {
   "cell_type": "markdown",
   "metadata": {},
   "source": [
    "## Other things ..."
   ]
  },
  {
   "cell_type": "code",
   "execution_count": 7,
   "metadata": {},
   "outputs": [
    {
     "data": {
      "text/plain": [
       "PCA(copy=True, iterated_power='auto', n_components=2, random_state=None,\n",
       "    svd_solver='auto', tol=0.0, whiten=False)"
      ]
     },
     "execution_count": 7,
     "metadata": {},
     "output_type": "execute_result"
    }
   ],
   "source": [
    "from sklearn.decomposition import PCA\n",
    "from HOTS.Tools import GenerateHistogram\n",
    "histo_train, pola_train = GenerateHistogram(Classif0.event_train)\n",
    "pca = PCA(n_components=2)\n",
    "pca.fit(histo_train)"
   ]
  },
  {
   "cell_type": "code",
   "execution_count": 8,
   "metadata": {},
   "outputs": [
    {
     "data": {
      "image/png": "[encoded data removed]",
      "text/plain": [
       "<Figure size 432x288 with 1 Axes>"
      ]
     },
     "metadata": {
      "needs_background": "light"
     },
     "output_type": "display_data"
    }
   ],
   "source": [
    "ax = []\n",
    "a = np.dot(histo_train,pca.components_.T)\n",
    "for i in range(10):\n",
    "    ilab = np.where(Classif0.GroundTruth==[str(float(i))])[0]\n",
    "    scatx = np.zeros([len(ilab)])\n",
    "    scaty = np.zeros([len(ilab)])\n",
    "    k=0\n",
    "    for j in ilab:\n",
    "        scatx[k] = a[j][0]\n",
    "        scaty[k] = a[j][1]\n",
    "        k+=1\n",
    "    ax += plt.plot(scatx,scaty, '*', label=str(i))\n",
    "labelz = [l.get_label() for l in ax]\n",
    "plt.legend(ax, labelz)\n",
    "plt.show()"
   ]
  },
  {
   "cell_type": "code",
   "execution_count": 27,
   "metadata": {},
   "outputs": [
    {
     "data": {
      "text/plain": [
       "array([  3290,   8474,  13515,  17330,  23351,  29452,  34439,  40311,\n",
       "        43348,  47400,  49081,  53942,  56169,  60812,  65022,  68778,\n",
       "        71386,  74714,  80582,  84283,  87008,  89722,  93743,  97164,\n",
       "       101298, 104024, 107188, 111391, 115861, 120398, 125186, 132016,\n",
       "       136437, 139132, 142710, 147015, 151124, 153827, 157696, 159998])"
      ]
     },
     "execution_count": 27,
     "metadata": {},
     "output_type": "execute_result"
    }
   ],
   "source": [
    "Classif0.event_train.ChangeIdx"
   ]
  },
  {
   "cell_type": "code",
   "execution_count": 34,
   "metadata": {},
   "outputs": [
    {
     "data": {
      "text/plain": [
       "PCA(copy=True, iterated_power='auto', n_components=2, random_state=None,\n",
       "    svd_solver='auto', tol=0.0, whiten=False)"
      ]
     },
     "execution_count": 34,
     "metadata": {},
     "output_type": "execute_result"
    }
   ],
   "source": [
    "from sklearn.decomposition import PCA\n",
    "from HOTS.Tools import GenerateHistogram\n",
    "nbevents = 500\n",
    "output = np.zeros([Classif0.event_train.ChangeIdx.shape[0],nbevents])\n",
    "output[0] = Classif0.event_train.polarity[:nbevents]\n",
    "for i in range(Classif0.event_train.ChangeIdx.shape[0]):\n",
    "    output[i] = Classif0.event_train.polarity[Classif0.event_train.ChangeIdx[i]:Classif0.event_train.ChangeIdx[i]+nbevents]\n",
    "pca = PCA(n_components=2)\n",
    "pca.fit(output)"
   ]
  },
  {
   "cell_type": "code",
   "execution_count": 7,
   "metadata": {},
   "outputs": [
    {
     "ename": "NameError",
     "evalue": "name 'output' is not defined",
     "output_type": "error",
     "traceback": [
      "\u001b[0;31m---------------------------------------------------------------------------\u001b[0m",
      "\u001b[0;31mNameError\u001b[0m                                 Traceback (most recent call last)",
      "\u001b[0;32m<ipython-input-7-7ce28acace43>\u001b[0m in \u001b[0;36m<module>\u001b[0;34m\u001b[0m\n\u001b[1;32m      1\u001b[0m \u001b[0max\u001b[0m \u001b[0;34m=\u001b[0m \u001b[0;34m[\u001b[0m\u001b[0;34m]\u001b[0m\u001b[0;34m\u001b[0m\u001b[0;34m\u001b[0m\u001b[0m\n\u001b[0;32m----> 2\u001b[0;31m \u001b[0ma\u001b[0m \u001b[0;34m=\u001b[0m \u001b[0mnp\u001b[0m\u001b[0;34m.\u001b[0m\u001b[0mdot\u001b[0m\u001b[0;34m(\u001b[0m\u001b[0moutput\u001b[0m\u001b[0;34m,\u001b[0m\u001b[0mpca\u001b[0m\u001b[0;34m.\u001b[0m\u001b[0mcomponents_\u001b[0m\u001b[0;34m.\u001b[0m\u001b[0mT\u001b[0m\u001b[0;34m)\u001b[0m\u001b[0;34m\u001b[0m\u001b[0;34m\u001b[0m\u001b[0m\n\u001b[0m\u001b[1;32m      3\u001b[0m \u001b[0;32mfor\u001b[0m \u001b[0mi\u001b[0m \u001b[0;32min\u001b[0m \u001b[0mrange\u001b[0m\u001b[0;34m(\u001b[0m\u001b[0;36m10\u001b[0m\u001b[0;34m)\u001b[0m\u001b[0;34m:\u001b[0m\u001b[0;34m\u001b[0m\u001b[0;34m\u001b[0m\u001b[0m\n\u001b[1;32m      4\u001b[0m     \u001b[0milab\u001b[0m \u001b[0;34m=\u001b[0m \u001b[0mnp\u001b[0m\u001b[0;34m.\u001b[0m\u001b[0mwhere\u001b[0m\u001b[0;34m(\u001b[0m\u001b[0mClassif0\u001b[0m\u001b[0;34m.\u001b[0m\u001b[0mGroundTruth\u001b[0m\u001b[0;34m==\u001b[0m\u001b[0;34m[\u001b[0m\u001b[0mstr\u001b[0m\u001b[0;34m(\u001b[0m\u001b[0mfloat\u001b[0m\u001b[0;34m(\u001b[0m\u001b[0mi\u001b[0m\u001b[0;34m)\u001b[0m\u001b[0;34m)\u001b[0m\u001b[0;34m]\u001b[0m\u001b[0;34m)\u001b[0m\u001b[0;34m[\u001b[0m\u001b[0;36m0\u001b[0m\u001b[0;34m]\u001b[0m\u001b[0;34m\u001b[0m\u001b[0;34m\u001b[0m\u001b[0m\n\u001b[1;32m      5\u001b[0m     \u001b[0mscatx\u001b[0m \u001b[0;34m=\u001b[0m \u001b[0mnp\u001b[0m\u001b[0;34m.\u001b[0m\u001b[0mzeros\u001b[0m\u001b[0;34m(\u001b[0m\u001b[0;34m[\u001b[0m\u001b[0mlen\u001b[0m\u001b[0;34m(\u001b[0m\u001b[0milab\u001b[0m\u001b[0;34m)\u001b[0m\u001b[0;34m]\u001b[0m\u001b[0;34m)\u001b[0m\u001b[0;34m\u001b[0m\u001b[0;34m\u001b[0m\u001b[0m\n",
      "\u001b[0;31mNameError\u001b[0m: name 'output' is not defined"
     ]
    }
   ],
   "source": [
    "ax = []\n",
    "a = np.dot(output,pca.components_.T)\n",
    "for i in range(10):\n",
    "    ilab = np.where(Classif0.GroundTruth==[str(float(i))])[0]\n",
    "    scatx = np.zeros([len(ilab)])\n",
    "    scaty = np.zeros([len(ilab)])\n",
    "    k=0\n",
    "    for j in ilab:\n",
    "        scatx[k] = a[j][0]\n",
    "        scaty[k] = a[j][1]\n",
    "        k+=1\n",
    "    ax += plt.plot(scatx,scaty, '*', label=str(i))\n",
    "labelz = [l.get_label() for l in ax]\n",
    "plt.legend(ax, labelz)\n",
    "plt.show()"
   ]
  },
  {
   "cell_type": "code",
   "execution_count": 6,
   "metadata": {},
   "outputs": [
    {
     "ename": "TypeError",
     "evalue": "cannot unpack non-iterable float object",
     "output_type": "error",
     "traceback": [
      "\u001b[0;31m---------------------------------------------------------------------------\u001b[0m",
      "\u001b[0;31mTypeError\u001b[0m                                 Traceback (most recent call last)",
      "\u001b[0;32m<ipython-input-6-bf96ea7f19ed>\u001b[0m in \u001b[0;36m<module>\u001b[0;34m\u001b[0m\n\u001b[1;32m      1\u001b[0m \u001b[0ma\u001b[0m \u001b[0;34m=\u001b[0m \u001b[0;34m[\u001b[0m\u001b[0;36m1e-5\u001b[0m\u001b[0;34m,\u001b[0m\u001b[0;36m1e-4\u001b[0m\u001b[0;34m,\u001b[0m\u001b[0;36m5e-4\u001b[0m\u001b[0;34m,\u001b[0m\u001b[0;36m1e-3\u001b[0m\u001b[0;34m,\u001b[0m\u001b[0;36m2.5e-3\u001b[0m\u001b[0;34m,\u001b[0m\u001b[0;36m4e-3\u001b[0m\u001b[0;34m,\u001b[0m\u001b[0;36m5e-3\u001b[0m\u001b[0;34m,\u001b[0m\u001b[0;36m1e-2\u001b[0m\u001b[0;34m,\u001b[0m\u001b[0;36m2e-2\u001b[0m\u001b[0;34m]\u001b[0m\u001b[0;34m\u001b[0m\u001b[0;34m\u001b[0m\u001b[0m\n\u001b[0;32m----> 2\u001b[0;31m \u001b[0;32mfor\u001b[0m \u001b[0mtau\u001b[0m\u001b[0;34m,\u001b[0m\u001b[0midx\u001b[0m \u001b[0;32min\u001b[0m \u001b[0ma\u001b[0m\u001b[0;34m:\u001b[0m\u001b[0;34m\u001b[0m\u001b[0;34m\u001b[0m\u001b[0m\n\u001b[0m\u001b[1;32m      3\u001b[0m     \u001b[0mprint\u001b[0m\u001b[0;34m(\u001b[0m\u001b[0midx\u001b[0m\u001b[0;34m)\u001b[0m\u001b[0;34m\u001b[0m\u001b[0;34m\u001b[0m\u001b[0m\n",
      "\u001b[0;31mTypeError\u001b[0m: cannot unpack non-iterable float object"
     ]
    }
   ],
   "source": [
    "a = [1e-5,1e-4,5e-4,1e-3,2.5e-3,4e-3,5e-3,1e-2,2e-2]\n",
    "for idx in a:\n",
    "    print(idx)"
   ]
  },
  {
   "cell_type": "code",
   "execution_count": 13,
   "metadata": {},
   "outputs": [
    {
     "ename": "ValueError",
     "evalue": "only 2 non-keyword arguments accepted",
     "output_type": "error",
     "traceback": [
      "\u001b[0;31m---------------------------------------------------------------------------\u001b[0m",
      "\u001b[0;31mValueError\u001b[0m                                Traceback (most recent call last)",
      "\u001b[0;32m<ipython-input-13-4caf8f27ca3d>\u001b[0m in \u001b[0;36m<module>\u001b[0;34m\u001b[0m\n\u001b[0;32m----> 1\u001b[0;31m \u001b[0mnp\u001b[0m\u001b[0;34m.\u001b[0m\u001b[0marray\u001b[0m\u001b[0;34m(\u001b[0m\u001b[0;34m*\u001b[0m\u001b[0mmap\u001b[0m\u001b[0;34m(\u001b[0m\u001b[0;32mlambda\u001b[0m \u001b[0mx\u001b[0m\u001b[0;34m:\u001b[0m \u001b[0;36m3\u001b[0m \u001b[0;34m*\u001b[0m \u001b[0mx\u001b[0m\u001b[0;34m**\u001b[0m\u001b[0;36m2\u001b[0m\u001b[0;34m,\u001b[0m \u001b[0mClassif0\u001b[0m\u001b[0;34m.\u001b[0m\u001b[0mevent_train\u001b[0m\u001b[0;34m.\u001b[0m\u001b[0mChangeIdx\u001b[0m\u001b[0;34m)\u001b[0m\u001b[0;34m,\u001b[0m\u001b[0;34m)\u001b[0m\u001b[0;34m\u001b[0m\u001b[0;34m\u001b[0m\u001b[0m\n\u001b[0m",
      "\u001b[0;31mValueError\u001b[0m: only 2 non-keyword arguments accepted"
     ]
    }
   ],
   "source": [
    "*map(lambda x: 3 * x**2, Classif0.event_train.ChangeIdx),"
   ]
  },
  {
   "cell_type": "code",
   "execution_count": 4,
   "metadata": {},
   "outputs": [
    {
     "name": "stdout",
     "output_type": "stream",
     "text": [
      "100 (array([0, 1, 2, 3, 4, 5, 6, 7, 8, 9]),)\n"
     ]
    }
   ],
   "source": [
    "import numpy as np\n",
    "a = np.ones([10])*100\n",
    "for i in range(200):\n",
    "    if i in a:\n",
    "        print(i, np.where(a==i))"
   ]
  },
  {
   "cell_type": "code",
   "execution_count": 12,
   "metadata": {},
   "outputs": [],
   "source": [
    "x = np.linspace(0,1,50)"
   ]
  },
  {
   "cell_type": "code",
   "execution_count": 17,
   "metadata": {},
   "outputs": [
    {
     "name": "stderr",
     "output_type": "stream",
     "text": [
      "/usr/local/anaconda3/lib/python3.7/site-packages/ipykernel_launcher.py:17: RuntimeWarning: divide by zero encountered in true_divide\n",
      "/usr/local/anaconda3/lib/python3.7/site-packages/ipykernel_launcher.py:17: RuntimeWarning: divide by zero encountered in log\n",
      "/usr/local/anaconda3/lib/python3.7/site-packages/ipykernel_launcher.py:19: RuntimeWarning: divide by zero encountered in log\n",
      "/usr/local/anaconda3/lib/python3.7/site-packages/ipykernel_launcher.py:21: RuntimeWarning: divide by zero encountered in log\n",
      "/usr/local/anaconda3/lib/python3.7/site-packages/ipykernel_launcher.py:39: RuntimeWarning: invalid value encountered in log\n",
      "/usr/local/anaconda3/lib/python3.7/site-packages/ipykernel_launcher.py:41: RuntimeWarning: divide by zero encountered in log\n"
     ]
    },
    {
     "data": {
      "text/plain": [
       "[<matplotlib.lines.Line2D at 0x120b763d0>,\n",
       " <matplotlib.lines.Line2D at 0x120b76590>]"
      ]
     },
     "execution_count": 17,
     "metadata": {},
     "output_type": "execute_result"
    },
    {
     "data": {
      "image/png": "[encoded data removed]",
      "text/plain": [
       "<Figure size 432x288 with 1 Axes>"
      ]
     },
     "metadata": {
      "needs_background": "light"
     },
     "output_type": "display_data"
    }
   ],
   "source": [
    "import numpy as np\n",
    "import random\n",
    "import matplotlib.pyplot as plt\n",
    "N = 4\n",
    "valmin = 0.7\n",
    "valmax = 1.3\n",
    "n = 1\n",
    "p = 1\n",
    "x = np.linspace(0,1,50)\n",
    "f1 = np.exp((x-1/N)*-N)\n",
    "N = 8\n",
    "f2 = np.exp((x-1/N)*N)\n",
    "N = 16\n",
    "f3 = np.exp((x-1/N)*N)\n",
    "N = 32\n",
    "f4 = np.exp((x-1/N)*N)\n",
    "j1 = np.log(np.exp(1)*(N-1)*x/(p-x/p))\n",
    "p = 2\n",
    "j2 = np.log(np.exp(1)*(N-1)*x/(p-x/p))\n",
    "p = 3\n",
    "j3 = np.log(np.exp(1)*(N-1)*x/(p-x/p))\n",
    "b = np.log(valmax)*np.log(valmin)/((N-1)*np.log(valmin)+np.log(valmax))\n",
    "d = b/np.log(valmin)\n",
    "a = -b*N\n",
    "k = np.exp((a*x+b)/(d-x))\n",
    "valmin = 0.6\n",
    "valmax = 2*1.4\n",
    "b = np.log(valmax)*np.log(valmin)/((N-1)*np.log(valmin)+np.log(valmax))\n",
    "d = b/np.log(valmin)\n",
    "a = -b*N\n",
    "k2 = np.exp((a*x+b)/(d-x))\n",
    "valmin = 0.5\n",
    "valmax = 2*1.5\n",
    "b = np.log(valmax)*np.log(valmin)/((N-1)*np.log(valmin)+np.log(valmax))\n",
    "d = b/np.log(valmin)\n",
    "a = -b*N\n",
    "k3 = np.exp((a*x+b)/(d-x))\n",
    "l = np.log(x+0.2)\n",
    "m = -np.log(1-(x+0.2))\n",
    "N = 8\n",
    "h = np.log(x)/np.log(1/N)\n",
    "plt.plot(x,f1, x,h)"
   ]
  },
  {
   "cell_type": "code",
   "execution_count": 13,
   "metadata": {},
   "outputs": [
    {
     "name": "stdout",
     "output_type": "stream",
     "text": [
      "[[25000. 25000.]\n",
      " [25000. 25000.]\n",
      " [25000. 25000.]\n",
      " [25000. 25000.]\n",
      " [25000. 25000.]\n",
      " [25000. 25000.]\n",
      " [25000. 25000.]\n",
      " [25000. 25000.]\n",
      " [25000. 25000.]\n",
      " [25000. 25000.]\n",
      " [25000. 25000.]\n",
      " [25000. 25000.]\n",
      " [25000. 25000.]\n",
      " [25000. 25000.]\n",
      " [25000. 25000.]\n",
      " [25000. 25000.]\n",
      " [25000. 25000.]\n",
      " [25000. 25000.]\n",
      " [25000. 25000.]\n",
      " [25000. 25000.]]\n",
      "[100. 100.]\n"
     ]
    }
   ],
   "source": [
    "a = np.ones([20,2])*25\n",
    "print(np.sum(a)*a)\n",
    "print(np.sum(np.sqrt(a), axis=0))"
   ]
  },
  {
   "cell_type": "code",
   "execution_count": null,
   "metadata": {},
   "outputs": [],
   "source": []
  }
 ],
 "metadata": {
  "kernelspec": {
   "display_name": "Python 3",
   "language": "python",
   "name": "python3"
  },
  "language_info": {
   "codemirror_mode": {
    "name": "ipython",
    "version": 3
   },
   "file_extension": ".py",
   "mimetype": "text/x-python",
   "name": "python",
   "nbconvert_exporter": "python",
   "pygments_lexer": "ipython3",
   "version": "3.7.6"
  }
 },
 "nbformat": 4,
 "nbformat_minor": 4
}
