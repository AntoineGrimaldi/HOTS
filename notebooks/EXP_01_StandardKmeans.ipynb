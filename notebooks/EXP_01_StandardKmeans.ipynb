{
 "cells": [
  {
   "cell_type": "markdown",
   "metadata": {},
   "source": [
    "# Testing different configurations while using Lagorce's online clustering"
   ]
  },
  {
   "cell_type": "code",
   "execution_count": null,
   "metadata": {
    "collapsed": false,
    "jupyter": {
     "outputs_hidden": false
    }
   },
   "outputs": [],
   "source": [
    "#%load_ext autoreload\n",
    "#%autoreload 2\n",
    "%matplotlib inline\n",
    "%cd '../'"
   ]
  },
  {
   "cell_type": "code",
   "execution_count": null,
   "metadata": {
    "collapsed": false,
    "jupyter": {
     "outputs_hidden": false
    }
   },
   "outputs": [],
   "source": [
    "import numpy as np\n",
    "import matplotlib.pyplot as plt\n",
    "\n",
    "import os\n",
    "from HOTS.ToolsMonitor import GenerateActivationMap, DisplayActivationMap\n",
    "from HOTS.Event import Event, SimpleAlphabet\n",
    "from HOTS.STS import STS\n",
    "from HOTS.Layer import ClusteringLayer\n",
    "from HOTS.ToolsMonitor import (\n",
    "    DisplayImage,\n",
    "    DisplaySurface3D,\n",
    "    DisplaySurface2D,\n",
    "    DisplayConvergence,\n",
    ")\n",
    "from HOTS.Tools import SaveObject, LoadObject\n",
    "from HOTS.Classifier import Classifier\n",
    "from HOTS.Network import Network\n",
    "from HOTS.KmeansLagorce import KmeansLagorce"
   ]
  },
  {
   "cell_type": "markdown",
   "metadata": {},
   "source": [
    "# Defining Common parameter"
   ]
  },
  {
   "cell_type": "code",
   "execution_count": null,
   "metadata": {},
   "outputs": [],
   "source": [
    "tau = 0.02\n",
    "R = 2\n",
    "nb_cluster = [4, 8, 16]\n",
    "ImageSize = (32, 32)\n",
    "DataPath = \"Data/alphabet_ExtractedStabilized.mat\"\n",
    "LabelPath = \"Data/alphabet_label.pkl\"\n",
    "%mkdir -p Records/EXP_01_LagorceKmeans"
   ]
  },
  {
   "cell_type": "markdown",
   "metadata": {},
   "source": [
    "# Experiment with one polarity in input  "
   ]
  },
  {
   "cell_type": "code",
   "execution_count": null,
   "metadata": {},
   "outputs": [],
   "source": [
    "event_tr, event_te, event_cl, label_tr, label_te = SimpleAlphabet(\n",
    "    NbTrainingData=36,\n",
    "    NbTestingData=40,\n",
    "    Path=DataPath,\n",
    "    LabelPath=LabelPath,\n",
    "    ClusteringData=[1, 32, 19, 22, 29],\n",
    "    OutOnePolarity=True,\n",
    "    verbose=0,\n",
    ")"
   ]
  },
  {
   "cell_type": "markdown",
   "metadata": {},
   "source": [
    "## Exp1 :  Lagorce Kmeans + Linear Kernel +  NoiseFilter(=2)  +  1 Polarity in Input + 3 Cycles"
   ]
  },
  {
   "cell_type": "code",
   "execution_count": null,
   "metadata": {
    "collapsed": false,
    "jupyter": {
     "outputs_hidden": false
    }
   },
   "outputs": [],
   "source": [
    "## Defining the network\n",
    "L1 = ClusteringLayer(\n",
    "    tau=tau, R=R, verbose=0, ThrFilter=2, LearningAlgo=\"lagorce\", kernel=\"linear\",\n",
    ")\n",
    "L2 = ClusteringLayer(\n",
    "    tau=10 * tau,\n",
    "    R=2 * R,\n",
    "    verbose=0,\n",
    "    ThrFilter=2,\n",
    "    LearningAlgo=\"lagorce\",\n",
    "    kernel=\"linear\",\n",
    ")\n",
    "L3 = ClusteringLayer(\n",
    "    tau=10 * 10 * tau,\n",
    "    R=2 * 2 * R,\n",
    "    verbose=0,\n",
    "    ThrFilter=2,\n",
    "    LearningAlgo=\"lagorce\",\n",
    "    kernel=\"linear\",\n",
    ")\n",
    "Net = Network([L1, L2, L3])\n",
    "\n",
    "fname = \"Records/EXP_01_LagorceKmeans/Exp01_2020-04-17_notrdninit.pkl\"\n",
    "if not os.path.isfile(fname):\n",
    "    #### Training The Cluster on 5 images\n",
    "    ClusterLayer, event_output = Net.TrainCluster(\n",
    "        event=event_cl, NbClusterList=nb_cluster, to_record=True, NbCycle=3\n",
    "    )\n",
    "    ## Generating histogram for training samples\n",
    "    event0_o_tr = Net.RunNetwork(event_tr, NbClusterList=ClusterLayer, homrun=False)\n",
    "    ## Generating histogram for the test samples\n",
    "    event0_o_te = Net.RunNetwork(event_te, NbClusterList=ClusterLayer, homrun=False)\n",
    "    Classif0 = Classifier(\n",
    "        event0_o_tr, event0_o_te, TrainingLabel=label_tr, GroundTruth=label_te\n",
    "    )\n",
    "    prediction, accuracy, method = Classif0.HistogramDistance(to_print=True)\n",
    "    SaveObject([ClusterLayer, Classif0], fname)\n",
    "else:\n",
    "    ClusterLayer, Classif0 = LoadObject(fname)\n",
    "    prediction, accuracy, method = Classif0.HistogramDistance(to_print=True)"
   ]
  },
  {
   "cell_type": "code",
   "execution_count": null,
   "metadata": {
    "collapsed": false,
    "jupyter": {
     "outputs_hidden": false
    }
   },
   "outputs": [],
   "source": [
    "DisplaySurface2D(ClusterLayer[0].prototype, nb_polarities=1)\n",
    "DisplaySurface2D(ClusterLayer[1].prototype, nb_polarities=4)\n",
    "DisplaySurface2D(ClusterLayer[2].prototype, nb_polarities=8)\n",
    "event_to_show = Event(ImageSize=(32, 32), ListPolarities=[-1, 1], OutOnePolarity=True)\n",
    "event_to_show.LoadFromMat(\"Data/alphabet_ExtractedStabilized.mat\", image_number=22)\n",
    "Net.RunNetwork(event_to_show, NbClusterList=ClusterLayer)\n",
    "mapL1 = GenerateActivationMap(Net.Layers[0].output, ClusterLayer[0])\n",
    "DisplayActivationMap(mapL1, scale=2)\n",
    "mapL2 = GenerateActivationMap(Net.Layers[1].output, ClusterLayer[1])\n",
    "DisplayActivationMap(mapL2, scale=2)\n",
    "mapL3 = GenerateActivationMap(Net.Layers[2].output, ClusterLayer[2])\n",
    "DisplayActivationMap(mapL3, scale=2)\n",
    "\n",
    "DisplayConvergence(ClusterLayer, to_display=[\"error\", \"histo\"])"
   ]
  },
  {
   "cell_type": "markdown",
   "metadata": {},
   "source": [
    "## Exp2 : Lagorce Kmeans + Exp Kernel + NoiseFilter(=2) +  1 Polarity in Input + 3 Cycles"
   ]
  },
  {
   "cell_type": "code",
   "execution_count": null,
   "metadata": {
    "collapsed": false,
    "jupyter": {
     "outputs_hidden": false
    }
   },
   "outputs": [],
   "source": [
    "## Defining the network\n",
    "L1 = ClusteringLayer(\n",
    "    tau=tau, R=R, verbose=0, ThrFilter=2, LearningAlgo=\"lagorce\", kernel=\"exponential\"\n",
    ")\n",
    "L2 = ClusteringLayer(\n",
    "    tau=10 * tau,\n",
    "    R=2 * R,\n",
    "    verbose=0,\n",
    "    ThrFilter=2,\n",
    "    LearningAlgo=\"lagorce\",\n",
    "    kernel=\"exponential\"\n",
    ")\n",
    "L3 = ClusteringLayer(\n",
    "    tau=10 * 10 * tau,\n",
    "    R=2 * 2 * R,\n",
    "    verbose=0,\n",
    "    ThrFilter=2,\n",
    "    LearningAlgo=\"lagorce\",\n",
    "    kernel=\"exponential\"\n",
    ")\n",
    "Net = Network([L1, L2, L3])\n",
    "\n",
    "fname = \"Records/EXP_01_LagorceKmeans/Exp02_2020-04-17_notrdninit.pkl\"\n",
    "if not os.path.isfile(fname):\n",
    "    #### Training The Cluster on 5 images\n",
    "    ClusterLayer, event_output = Net.TrainCluster(\n",
    "        event=event_cl, NbClusterList=nb_cluster, to_record=True, NbCycle=3\n",
    "    )\n",
    "\n",
    "    ## Generating histogram for training samples\n",
    "    event0_o_tr = Net.RunNetwork(event_tr, NbClusterList=ClusterLayer, homrun=False)\n",
    "\n",
    "    ## Generating histogram for the test samples\n",
    "    event0_o_te = Net.RunNetwork(event_te, NbClusterList=ClusterLayer, homrun=False)\n",
    "\n",
    "    Classif0 = Classifier(\n",
    "        event0_o_tr, event0_o_te, TrainingLabel=label_tr, GroundTruth=label_te\n",
    "    )\n",
    "\n",
    "    prediction, accuracy, method = Classif0.HistogramDistance(to_print=True)\n",
    "\n",
    "    SaveObject([ClusterLayer, Classif0], fname)\n",
    "else:\n",
    "    ClusterLayer, Classif0 = LoadObject(fname)\n",
    "    prediction, accuracy, method = Classif0.HistogramDistance(to_print=True)\n",
    "    "
   ]
  },
  {
   "cell_type": "code",
   "execution_count": null,
   "metadata": {
    "collapsed": false,
    "jupyter": {
     "outputs_hidden": false
    }
   },
   "outputs": [],
   "source": [
    "DisplaySurface2D(ClusterLayer[0].prototype, nb_polarities=1)\n",
    "DisplaySurface2D(ClusterLayer[1].prototype, nb_polarities=4)\n",
    "DisplaySurface2D(ClusterLayer[2].prototype, nb_polarities=8)\n",
    "event_to_show = Event(ImageSize=(32, 32), ListPolarities=[-1, 1], OutOnePolarity=True)\n",
    "event_to_show.LoadFromMat(\"Data/alphabet_ExtractedStabilized.mat\", image_number=22)\n",
    "Net.RunNetwork(event_to_show, NbClusterList=ClusterLayer)\n",
    "mapL1 = GenerateActivationMap(Net.Layers[0].output, ClusterLayer[0])\n",
    "DisplayActivationMap(mapL1, scale=2)\n",
    "mapL2 = GenerateActivationMap(Net.Layers[1].output, ClusterLayer[1])\n",
    "DisplayActivationMap(mapL2, scale=2)\n",
    "mapL3 = GenerateActivationMap(Net.Layers[2].output, ClusterLayer[2])\n",
    "DisplayActivationMap(mapL3, scale=2)\n",
    "\n",
    "DisplayConvergence(ClusterLayer, to_display=[\"error\", \"histo\"])"
   ]
  },
  {
   "cell_type": "markdown",
   "metadata": {},
   "source": [
    "# Experiment with 2 polarity in Input "
   ]
  },
  {
   "cell_type": "markdown",
   "metadata": {},
   "source": [
    "## Exp3 : Lagorce Kmeans + Linear Kernel + NoiseFilter(=2) + 2 Polarity in Input + 3 Cycles"
   ]
  },
  {
   "cell_type": "code",
   "execution_count": null,
   "metadata": {
    "collapsed": false,
    "jupyter": {
     "outputs_hidden": false
    }
   },
   "outputs": [],
   "source": [
    "save_exp = False\n",
    "event_tr, event_te, event_cl, label_tr, label_te = SimpleAlphabet(\n",
    "    NbTrainingData=36,\n",
    "    NbTestingData=40,\n",
    "    Path=DataPath,\n",
    "    LabelPath=LabelPath,\n",
    "    ClusteringData=[1, 32, 19, 22, 29],\n",
    "    OutOnePolarity=False,\n",
    "    verbose=0,\n",
    ")\n",
    "\n",
    "## Defining the network\n",
    "L1 = ClusteringLayer(\n",
    "    tau=tau, R=R, verbose=0, ThrFilter=2, LearningAlgo=\"lagorce\", kernel=\"linear\", sigma=0.6\n",
    ")\n",
    "L2 = ClusteringLayer(\n",
    "    tau=10 * tau,\n",
    "    R=2 * R,\n",
    "    verbose=0,\n",
    "    ThrFilter=2,\n",
    "    LearningAlgo=\"lagorce\",\n",
    "    kernel=\"linear\", sigma=0.6\n",
    ")\n",
    "L3 = ClusteringLayer(\n",
    "    tau=10 * 10 * tau,\n",
    "    R=2 * 2 * R,\n",
    "    verbose=0,\n",
    "    ThrFilter=2,\n",
    "    LearningAlgo=\"lagorce\",\n",
    "    kernel=\"linear\", sigma=0.6\n",
    ")\n",
    "Net = Network([L1, L2, L3])\n",
    "\n",
    "fname = \"Records/EXP_01_LagorceKmeans/Exp03_2020-04-17_notrdninit.pkl\"\n",
    "if not os.path.isfile(fname):\n",
    "    #### Training The Cluster on 5 images\n",
    "    ClusterLayer, event_output = Net.TrainCluster(\n",
    "        event=event_cl, NbClusterList=nb_cluster, to_record=True, NbCycle=3\n",
    "    )\n",
    "    ## Generating histogram for training samples\n",
    "    event0_o_tr = Net.RunNetwork(event_tr, NbClusterList=ClusterLayer, homrun=False)\n",
    "    ## Generating histogram for the test samples\n",
    "    event0_o_te = Net.RunNetwork(event_te, NbClusterList=ClusterLayer, homrun=False)\n",
    "    Classif0 = Classifier(\n",
    "        event0_o_tr, event0_o_te, TrainingLabel=label_tr, GroundTruth=label_te\n",
    "    )\n",
    "    prediction, accuracy, method = Classif0.HistogramDistance(to_print=True)\n",
    "    SaveObject([ClusterLayer, Classif0], fname)\n",
    "else:\n",
    "    ClusterLayer, Classif0 = LoadObject(fname)\n",
    "    prediction, accuracy, method = Classif0.HistogramDistance(to_print=True)\n",
    "    "
   ]
  },
  {
   "cell_type": "code",
   "execution_count": null,
   "metadata": {
    "collapsed": false,
    "jupyter": {
     "outputs_hidden": false
    }
   },
   "outputs": [],
   "source": [
    "DisplaySurface2D(ClusterLayer[0].prototype, nb_polarities=2)\n",
    "DisplaySurface2D(ClusterLayer[1].prototype, nb_polarities=4)\n",
    "DisplaySurface2D(ClusterLayer[2].prototype, nb_polarities=8)\n",
    "event_to_show = Event(ImageSize=(32, 32), ListPolarities=[-1, 1], OutOnePolarity=False)\n",
    "event_to_show.LoadFromMat(\"Data/alphabet_ExtractedStabilized.mat\", image_number=22)\n",
    "Net.RunNetwork(event_to_show, NbClusterList=ClusterLayer)\n",
    "mapL1 = GenerateActivationMap(Net.Layers[0].output, ClusterLayer[0])\n",
    "DisplayActivationMap(mapL1, scale=2)\n",
    "mapL2 = GenerateActivationMap(Net.Layers[1].output, ClusterLayer[1])\n",
    "DisplayActivationMap(mapL2, scale=2)\n",
    "mapL3 = GenerateActivationMap(Net.Layers[2].output, ClusterLayer[2])\n",
    "DisplayActivationMap(mapL3, scale=2)\n",
    "\n",
    "DisplayConvergence(ClusterLayer, to_display=[\"error\", \"histo\"])"
   ]
  },
  {
   "cell_type": "markdown",
   "metadata": {},
   "source": [
    "## Exp4 : Lagorce Kmeans + Exp Kernel + NoiseFilter(=2) + 2 Polarity in Input + 3 Cycles"
   ]
  },
  {
   "cell_type": "code",
   "execution_count": null,
   "metadata": {},
   "outputs": [],
   "source": [
    "%mkdir -p Records/EXP_01_LagorceKmeans"
   ]
  },
  {
   "cell_type": "code",
   "execution_count": null,
   "metadata": {
    "collapsed": false,
    "jupyter": {
     "outputs_hidden": false
    }
   },
   "outputs": [],
   "source": [
    "event_tr, event_te, event_cl, label_tr, label_te = SimpleAlphabet(\n",
    "    NbTrainingData=36,\n",
    "    NbTestingData=40,\n",
    "    Path=DataPath,\n",
    "    LabelPath=LabelPath,\n",
    "    ClusteringData=[1, 32, 19, 22, 29],\n",
    "    OutOnePolarity=False,\n",
    "    verbose=0,\n",
    ")\n",
    "## Defining the network\n",
    "L1 = ClusteringLayer(\n",
    "    tau=tau, R=R, verbose=0, ThrFilter=2, LearningAlgo=\"lagorce\", kernel=\"exponential\", homeo=True\n",
    ")\n",
    "L2 = ClusteringLayer(\n",
    "    tau=10 * tau,\n",
    "    R=2 * R,\n",
    "    verbose=0,\n",
    "    ThrFilter=2,\n",
    "    LearningAlgo=\"lagorce\",\n",
    "    kernel=\"exponential\",\n",
    "    homeo=True\n",
    ")\n",
    "L3 = ClusteringLayer(\n",
    "    tau=10 * 10 * tau,\n",
    "    R=2 * 2 * R,\n",
    "    verbose=0,\n",
    "    ThrFilter=2,\n",
    "    LearningAlgo=\"lagorce\",\n",
    "    kernel=\"exponential\",\n",
    "    homeo=True\n",
    ")\n",
    "Net = Network([L1, L2, L3])\n",
    "\n",
    "fname = \"Records/EXP_01_LagorceKmeans/Exp04_2020-10-09_homeo_notrdninit.pkl\"\n",
    "if not os.path.isfile(fname):\n",
    "    #### Training The Cluster on 5 images\n",
    "    ClusterLayer, event_output = Net.TrainCluster(\n",
    "        event=event_cl, NbClusterList=nb_cluster, to_record=True, NbCycle=3\n",
    "    )\n",
    "\n",
    "    ## Generating histogram for training samples\n",
    "    event0_o_tr = Net.RunNetwork(event_tr, NbClusterList=ClusterLayer, homrun=False)\n",
    "\n",
    "    ## Generating histogram for the test samples\n",
    "    event0_o_te = Net.RunNetwork(event_te, NbClusterList=ClusterLayer, homrun=False)\n",
    "\n",
    "    Classif0 = Classifier(\n",
    "        event0_o_tr, event0_o_te, TrainingLabel=label_tr, GroundTruth=label_te\n",
    "    )\n",
    "\n",
    "    prediction, accuracy, method = Classif0.HistogramDistance(to_print=True)\n",
    "    SaveObject([ClusterLayer, Classif0], fname)\n",
    "else:\n",
    "    ClusterLayer, Classif0 = LoadObject(fname)\n",
    "    prediction, accuracy, method = Classif0.HistogramDistance(to_print=True)"
   ]
  },
  {
   "cell_type": "code",
   "execution_count": null,
   "metadata": {
    "collapsed": false,
    "jupyter": {
     "outputs_hidden": false
    }
   },
   "outputs": [],
   "source": [
    "DisplaySurface2D(ClusterLayer[0].prototype, nb_polarities=2)\n",
    "DisplaySurface2D(ClusterLayer[1].prototype, nb_polarities=4)\n",
    "DisplaySurface2D(ClusterLayer[2].prototype, nb_polarities=8)\n",
    "event_to_show = Event(ImageSize=(32, 32), ListPolarities=[-1, 1], OutOnePolarity=False)\n",
    "event_to_show.LoadFromMat(\"Data/alphabet_ExtractedStabilized.mat\", image_number=22)\n",
    "Net.RunNetwork(event_to_show, NbClusterList=ClusterLayer)\n",
    "mapL1 = GenerateActivationMap(Net.Layers[0].output, ClusterLayer[0])\n",
    "DisplayActivationMap(mapL1, scale=2)\n",
    "mapL2 = GenerateActivationMap(Net.Layers[1].output, ClusterLayer[1])\n",
    "DisplayActivationMap(mapL2, scale=2)\n",
    "mapL3 = GenerateActivationMap(Net.Layers[2].output, ClusterLayer[2])\n",
    "DisplayActivationMap(mapL3, scale=2)\n",
    "\n",
    "DisplayConvergence(ClusterLayer, to_display=[\"error\", \"histo\"])"
   ]
  },
  {
   "cell_type": "code",
   "execution_count": null,
   "metadata": {},
   "outputs": [],
   "source": []
  },
  {
   "cell_type": "code",
   "execution_count": null,
   "metadata": {},
   "outputs": [],
   "source": []
  }
 ],
 "metadata": {
  "kernelspec": {
   "display_name": "Python 3",
   "language": "python",
   "name": "python3"
  },
  "language_info": {
   "codemirror_mode": {
    "name": "ipython",
    "version": 3
   },
   "file_extension": ".py",
   "mimetype": "text/x-python",
   "name": "python",
   "nbconvert_exporter": "python",
   "pygments_lexer": "ipython3",
   "version": "3.9.0"
  }
 },
 "nbformat": 4,
 "nbformat_minor": 4
}
