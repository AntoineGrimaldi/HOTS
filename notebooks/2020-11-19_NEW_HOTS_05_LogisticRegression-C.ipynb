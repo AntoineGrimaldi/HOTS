{
 "cells": [
  {
   "cell_type": "code",
   "execution_count": 1,
   "metadata": {
    "execution": {
     "iopub.execute_input": "2020-11-19T03:10:59.770003Z",
     "iopub.status.busy": "2020-11-19T03:10:59.769546Z",
     "iopub.status.idle": "2020-11-19T03:11:01.628122Z",
     "shell.execute_reply": "2020-11-19T03:11:01.628656Z"
    }
   },
   "outputs": [
    {
     "name": "stdout",
     "output_type": "stream",
     "text": [
      "/Users/laurentperrinet/quantic/science/HomeHots/HOTS_clone_laurent\n"
     ]
    }
   ],
   "source": [
    "%run 2020-11-06_NEW_HOTS_05_LogisticRegression.ipynb"
   ]
  },
  {
   "cell_type": "markdown",
   "metadata": {},
   "source": [
    "### Performing logistic regression with cross-validation\n",
    "\n",
    "https://scikit-learn.org/stable/modules/generated/sklearn.linear_model.LogisticRegressionCV.html\n"
   ]
  },
  {
   "cell_type": "code",
   "execution_count": 2,
   "metadata": {
    "execution": {
     "iopub.execute_input": "2020-11-19T03:11:01.633875Z",
     "iopub.status.busy": "2020-11-19T03:11:01.633332Z",
     "iopub.status.idle": "2020-11-19T04:30:27.505361Z",
     "shell.execute_reply": "2020-11-19T04:30:27.505849Z"
    }
   },
   "outputs": [
    {
     "name": "stdout",
     "output_type": "stream",
     "text": [
      "----------------------------------------\n",
      "homeo=False\n",
      "----------------------------------------\n",
      "Classification score for sample_space=4 is 0.793\n",
      "Classification score for sample_space=4 is 0.696\n",
      "Classification score for sample_space=4 is 0.091\n",
      "Classification score for sample_space=2 is 0.999\n",
      "Classification score for sample_space=2 is 0.930\n",
      "Classification score for sample_space=2 is 0.107\n",
      "Classification score for sample_space=1 is 1.000\n",
      "Classification score for sample_space=1 is 0.982\n",
      "Classification score for sample_space=1 is 0.102\n",
      "----------------------------------------\n",
      "homeo=True\n",
      "----------------------------------------\n",
      "Classification score for sample_space=4 is 0.788\n",
      "Classification score for sample_space=4 is 0.682\n",
      "Classification score for sample_space=4 is 0.095\n",
      "Classification score for sample_space=2 is 0.999\n",
      "Classification score for sample_space=2 is 0.935\n",
      "Classification score for sample_space=2 is 0.099\n",
      "Classification score for sample_space=1 is 1.000\n",
      "Classification score for sample_space=1 is 0.984\n",
      "Classification score for sample_space=1 is 0.080\n"
     ]
    }
   ],
   "source": [
    "for homeo in [False, True]:\n",
    "    print(40*'-')\n",
    "    print(f'{homeo=}')\n",
    "    print(40*'-')\n",
    "    events_train_o, events_test_o = get_events(timestr, tau=tau, homeo=homeo)\n",
    "\n",
    "    for sample_space in [4, 2, 1]:\n",
    "        X, y = gather_data(events_train_o, labels_train, sample_space=sample_space)\n",
    "        X_train, X_test, y_train, y_test = train_test_split(X, y, test_size=0.33, random_state=42)\n",
    "        lr = LR(**opts_LR).fit(X_train, y_train)\n",
    "        print(f'Classification score for {sample_space=} is {lr.score(X_train, y_train):.3f}')\n",
    "        print(f'Classification score for {sample_space=} is {lr.score(X_test, y_test):.3f}')\n",
    "        X_test, y_test = gather_data(events_test_o, labels_test, sample_space=sample_space)\n",
    "        print(f'Classification score for {sample_space=} is {lr.score(X_test, y_test):.3f}')\n"
   ]
  }
 ],
 "metadata": {
  "kernelspec": {
   "display_name": "Python 3",
   "language": "python",
   "name": "python3"
  },
  "language_info": {
   "codemirror_mode": {
    "name": "ipython",
    "version": 3
   },
   "file_extension": ".py",
   "mimetype": "text/x-python",
   "name": "python",
   "nbconvert_exporter": "python",
   "pygments_lexer": "ipython3",
   "version": "3.9.0"
  }
 },
 "nbformat": 4,
 "nbformat_minor": 4
}
