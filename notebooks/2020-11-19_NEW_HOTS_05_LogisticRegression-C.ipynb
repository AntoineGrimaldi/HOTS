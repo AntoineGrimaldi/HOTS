{
 "cells": [
  {
   "cell_type": "code",
   "execution_count": 1,
   "metadata": {},
   "outputs": [],
   "source": [
    "%run 2020-11-19_NEW_HOTS_05_LogisticRegression.py"
   ]
  },
  {
   "cell_type": "code",
   "execution_count": 2,
   "metadata": {},
   "outputs": [],
   "source": [
    "verbose=True"
   ]
  },
  {
   "cell_type": "markdown",
   "metadata": {},
   "source": [
    "### Performing logistic regression with cross-validation\n",
    "\n",
    "https://scikit-learn.org/stable/modules/generated/sklearn.linear_model.LogisticRegressionCV.html\n"
   ]
  },
  {
   "cell_type": "code",
   "execution_count": 3,
   "metadata": {},
   "outputs": [
    {
     "name": "stdout",
     "output_type": "stream",
     "text": [
      "----------------------------------------\n",
      "homeo=False\n",
      "----------------------------------------\n",
      "loading the events from file ../Records/EXP_03_NMNIST/2020-11-03_hots_0.9_ms_40_40_40_event_out_lagorce.pkl\n",
      "Number of events: 3414 - Number of features: 162\n"
     ]
    },
    {
     "name": "stderr",
     "output_type": "stream",
     "text": [
      "[Parallel(n_jobs=-1)]: Using backend LokyBackend with 36 concurrent workers.\n",
      "[Parallel(n_jobs=-1)]: Done   5 out of   5 | elapsed:   36.5s finished\n"
     ]
    },
    {
     "name": "stdout",
     "output_type": "stream",
     "text": [
      "Classification score for sample_space=4 is 1.000\n",
      "Number of events: 3404 - Number of features: 162\n",
      "Classification score for sample_space=4 is 0.363\n",
      "Number of events: 3414 - Number of features: 578\n"
     ]
    },
    {
     "name": "stderr",
     "output_type": "stream",
     "text": [
      "[Parallel(n_jobs=-1)]: Using backend LokyBackend with 36 concurrent workers.\n",
      "[Parallel(n_jobs=-1)]: Done   5 out of   5 | elapsed:  1.1min finished\n"
     ]
    },
    {
     "name": "stdout",
     "output_type": "stream",
     "text": [
      "Classification score for sample_space=2 is 1.000\n",
      "Number of events: 3404 - Number of features: 578\n",
      "Classification score for sample_space=2 is 0.423\n",
      "Number of events: 3414 - Number of features: 2312\n"
     ]
    },
    {
     "name": "stderr",
     "output_type": "stream",
     "text": [
      "[Parallel(n_jobs=-1)]: Using backend LokyBackend with 36 concurrent workers.\n",
      "[Parallel(n_jobs=-1)]: Done   5 out of   5 | elapsed:  4.6min finished\n"
     ]
    },
    {
     "name": "stdout",
     "output_type": "stream",
     "text": [
      "Classification score for sample_space=1 is 1.000\n",
      "Number of events: 3404 - Number of features: 2312\n",
      "Classification score for sample_space=1 is 0.460\n",
      "----------------------------------------\n",
      "homeo=True\n",
      "----------------------------------------\n",
      "loading the events from file ../Records/EXP_03_NMNIST/2020-11-03_hots_0.9_ms_40_40_40_event_out_lagorce_homeo.pkl\n",
      "Number of events: 3414 - Number of features: 162\n"
     ]
    },
    {
     "name": "stderr",
     "output_type": "stream",
     "text": [
      "[Parallel(n_jobs=-1)]: Using backend LokyBackend with 36 concurrent workers.\n",
      "[Parallel(n_jobs=-1)]: Done   5 out of   5 | elapsed:   37.0s finished\n"
     ]
    },
    {
     "name": "stdout",
     "output_type": "stream",
     "text": [
      "Classification score for sample_space=4 is 1.000\n",
      "Number of events: 3404 - Number of features: 162\n",
      "Classification score for sample_space=4 is 0.363\n",
      "Number of events: 3414 - Number of features: 578\n"
     ]
    },
    {
     "name": "stderr",
     "output_type": "stream",
     "text": [
      "[Parallel(n_jobs=-1)]: Using backend LokyBackend with 36 concurrent workers.\n",
      "[Parallel(n_jobs=-1)]: Done   5 out of   5 | elapsed:  1.2min finished\n"
     ]
    },
    {
     "name": "stdout",
     "output_type": "stream",
     "text": [
      "Classification score for sample_space=2 is 1.000\n",
      "Number of events: 3404 - Number of features: 578\n",
      "Classification score for sample_space=2 is 0.423\n",
      "Number of events: 3414 - Number of features: 2312\n"
     ]
    },
    {
     "name": "stderr",
     "output_type": "stream",
     "text": [
      "[Parallel(n_jobs=-1)]: Using backend LokyBackend with 36 concurrent workers.\n",
      "[Parallel(n_jobs=-1)]: Done   5 out of   5 | elapsed:  4.4min finished\n"
     ]
    },
    {
     "name": "stdout",
     "output_type": "stream",
     "text": [
      "Classification score for sample_space=1 is 1.000\n",
      "Number of events: 3404 - Number of features: 2312\n",
      "Classification score for sample_space=1 is 0.460\n"
     ]
    }
   ],
   "source": [
    "for homeo in [False, True]:\n",
    "    print(40*'-')\n",
    "    print(f'{homeo=}')\n",
    "    print(40*'-')\n",
    "    events_train_o, events_test_o, labels_train, labels_test = get_events(timestr, tau=tau, homeo=homeo, verbose=verbose)\n",
    "\n",
    "    for sample_space in [4, 2, 1]:\n",
    "        X_train, y_train = gather_data(events_train_o, labels_train, sample_space=sample_space, verbose=verbose)\n",
    "        lr = LR(**opts_LR, verbose=verbose).fit(X_train, y_train)\n",
    "        print(f'Classification score for {sample_space=} is {lr.score(X_train, y_train):.3f}')\n",
    "        X_test, y_test = gather_data(events_test_o, labels_test, sample_space=sample_space, verbose=verbose)\n",
    "        print(f'Classification score for {sample_space=} is {lr.score(X_test, y_test):.3f}')\n"
   ]
  }
 ],
 "metadata": {
  "kernelspec": {
   "display_name": "hots",
   "language": "python",
   "name": "hots"
  },
  "language_info": {
   "codemirror_mode": {
    "name": "ipython",
    "version": 3
   },
   "file_extension": ".py",
   "mimetype": "text/x-python",
   "name": "python",
   "nbconvert_exporter": "python",
   "pygments_lexer": "ipython3",
   "version": "3.8.3"
  }
 },
 "nbformat": 4,
 "nbformat_minor": 4
}
