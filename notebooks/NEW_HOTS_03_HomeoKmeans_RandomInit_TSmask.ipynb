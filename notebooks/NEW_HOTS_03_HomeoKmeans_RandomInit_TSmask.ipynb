{
 "cells": [
  {
   "cell_type": "markdown",
   "metadata": {},
   "source": [
    "# Different configurations using homeostasis with Kmeans and random initialisation of the prototypes and gaussian filtering on time-surfaces"
   ]
  },
  {
   "cell_type": "code",
   "execution_count": 1,
   "metadata": {
    "collapsed": false,
    "jupyter": {
     "outputs_hidden": false
    }
   },
   "outputs": [
    {
     "name": "stdout",
     "output_type": "stream",
     "text": [
      "/Users/joe/Documents/boulot/git/homhots/HOTS\n"
     ]
    }
   ],
   "source": [
    "#%load_ext autoreload\n",
    "#%autoreload 2\n",
    "%matplotlib inline\n",
    "%cd '../'"
   ]
  },
  {
   "cell_type": "code",
   "execution_count": 2,
   "metadata": {
    "collapsed": false,
    "jupyter": {
     "outputs_hidden": false
    }
   },
   "outputs": [],
   "source": [
    "import numpy as np\n",
    "import matplotlib.pyplot as plt\n",
    "import pickle\n",
    "import os\n",
    "import time\n",
    "\n",
    "from HOTS.ToolsMonitor import GenerateActivationMap, DisplayActivationMap\n",
    "from HOTS.Event import Event, SimpleAlphabet, LoadNMNIST\n",
    "from HOTS.STS import STS\n",
    "from HOTS.Layer import ClusteringLayer\n",
    "from HOTS.ToolsMonitor import (\n",
    "    DisplayImage,\n",
    "    DisplaySurface3D,\n",
    "    DisplaySurface2D,\n",
    "    DisplayConvergence,\n",
    ")\n",
    "from HOTS.Tools import SaveObject, LoadObject\n",
    "from HOTS.Classifier import Classifier\n",
    "from HOTS.Network import Network\n",
    "from HOTS.KmeansLagorce import KmeansLagorce\n",
    "from HOTS.KmeansMaro import KmeansMaro\n",
    "\n",
    "tau = 5e-4\n",
    "R = 2\n",
    "filthr = 2\n",
    "nbkNN = None\n",
    "krnlinit = None\n",
    "decay = 'exponential'\n",
    "nb_cluster = [4, 8, 16]\n",
    "ImageSize = (32, 32)\n",
    "DataPath = \"Data/alphabet_ExtractedStabilized.mat\"\n",
    "LabelPath = \"Data/alphabet_label.pkl\""
   ]
  },
  {
   "cell_type": "code",
   "execution_count": 3,
   "metadata": {},
   "outputs": [],
   "source": [
    "event_tr, event_te, event_cl, label_tr, label_te = SimpleAlphabet(\n",
    "    NbTrainingData=36,\n",
    "    NbTestingData=40,\n",
    "    Path=DataPath,\n",
    "    LabelPath=LabelPath,\n",
    "    ClusteringData=[1, 32, 19, 22, 29],\n",
    "    OutOnePolarity=False,\n",
    "    verbose=0,\n",
    ")"
   ]
  },
  {
   "cell_type": "markdown",
   "metadata": {},
   "source": [
    "# Replication of HOTS results (Lagorce 2017)"
   ]
  },
  {
   "cell_type": "code",
   "execution_count": 4,
   "metadata": {},
   "outputs": [
    {
     "name": "stdout",
     "output_type": "stream",
     "text": [
      "battacha:97.5% ### normalized:95.0% ### euclidian:97.5% ### \n"
     ]
    }
   ],
   "source": [
    "method = 'lagorce'\n",
    "hom = False\n",
    "\n",
    "L1 = ClusteringLayer(\n",
    "    tau=tau,\n",
    "    R=R,\n",
    "    verbose=0,\n",
    "    ThrFilter=filthr,\n",
    "    LearningAlgo=method,\n",
    "    kernel=decay,\n",
    "    homeo=hom,\n",
    "    init=krnlinit\n",
    ")\n",
    "L2 = ClusteringLayer(\n",
    "    tau=10 * tau,\n",
    "    R=2 * R,\n",
    "    verbose=0,\n",
    "    ThrFilter=filthr,\n",
    "    LearningAlgo=method,\n",
    "    kernel=decay,\n",
    "    homeo=hom,\n",
    "    init=krnlinit\n",
    ")\n",
    "L3 = ClusteringLayer(\n",
    "    tau=10 * 10 * tau,\n",
    "    R=2 * 2 * R,\n",
    "    verbose=0,\n",
    "    ThrFilter=filthr,\n",
    "    LearningAlgo=method,\n",
    "    kernel=decay,\n",
    "    homeo=hom,\n",
    "    init=krnlinit\n",
    ")\n",
    "Net = Network([L1, L2, L3])\n",
    "\n",
    "timestr = time.strftime(\"%Y%m%d\")\n",
    "timestr = '20201021'\n",
    "\n",
    "\n",
    "if hom==True:\n",
    "    fname = 'Records/EXP_01_LagorceKmeans/'+timestr+'_hots_'+str(tau)+'_'+method+'_homeo.pkl'\n",
    "else:\n",
    "    fname = 'Records/EXP_01_LagorceKmeans/'+timestr+'_hots_'+str(tau)+'_'+method+'.pkl'\n",
    "\n",
    "if not os.path.isfile(fname):\n",
    "    #### Training The Cluster on 5 images\n",
    "    ClusterLayer, event_output = Net.TrainCluster(\n",
    "        event=event_cl, NbClusterList=nb_cluster, to_record=True, NbCycle=3\n",
    "    )\n",
    "    ## Generating histogram for training samples\n",
    "    event0_o_tr = Net.RunNetwork(event_tr, NbClusterList=ClusterLayer)\n",
    "    ## Generating histogram for the test samples\n",
    "    event0_o_te = Net.RunNetwork(event_te, NbClusterList=ClusterLayer)\n",
    "\n",
    "    Classif0 = Classifier(\n",
    "        event0_o_tr, event0_o_te, TrainingLabel=label_tr, GroundTruth=label_te\n",
    "    )\n",
    "    prediction, accuracy, method = Classif0.HistogramDistance(knn=nbkNN, to_print=True)\n",
    "    SaveObject([ClusterLayer, Classif0], fname)\n",
    "else:\n",
    "    ClusterLayer, Classif0 = LoadObject(fname)\n",
    "    prediction, accuracy, method = Classif0.HistogramDistance(knn=nbkNN, to_print=True)"
   ]
  },
  {
   "cell_type": "code",
   "execution_count": null,
   "metadata": {},
   "outputs": [],
   "source": [
    "DisplaySurface2D(ClusterLayer[0].prototype, nb_polarities=2)\n",
    "DisplaySurface2D(ClusterLayer[1].prototype, nb_polarities=4)\n",
    "DisplaySurface2D(ClusterLayer[2].prototype, nb_polarities=8)\n",
    "event_to_show = Event(ImageSize=(32, 32), ListPolarities=[-1, 1], OutOnePolarity=False)\n",
    "event_to_show.LoadFromMat(\"Data/alphabet_ExtractedStabilized.mat\", image_number=22)\n",
    "Net.RunNetwork(event_to_show, NbClusterList=ClusterLayer)\n",
    "mapL1 = GenerateActivationMap(Net.Layers[0].output, ClusterLayer[0])\n",
    "DisplayActivationMap(mapL1, scale=2)\n",
    "mapL2 = GenerateActivationMap(Net.Layers[1].output, ClusterLayer[1])\n",
    "DisplayActivationMap(mapL2, scale=2)\n",
    "mapL3 = GenerateActivationMap(Net.Layers[2].output, ClusterLayer[2])\n",
    "DisplayActivationMap(mapL3, scale=2)\n",
    "\n",
    "DisplayConvergence(ClusterLayer, to_display=[\"error\", \"histo\"])"
   ]
  },
  {
   "cell_type": "markdown",
   "metadata": {},
   "source": [
    "## Adding Homeostasis"
   ]
  },
  {
   "cell_type": "code",
   "execution_count": 7,
   "metadata": {},
   "outputs": [
    {
     "name": "stdout",
     "output_type": "stream",
     "text": [
      "battacha:92.5% ### normalized:95.0% ### euclidian:95.0% ### \n"
     ]
    }
   ],
   "source": [
    "method = 'lagorce'\n",
    "hom = True\n",
    "\n",
    "L1 = ClusteringLayer(\n",
    "    tau=tau,\n",
    "    R=R,\n",
    "    verbose=0,\n",
    "    ThrFilter=filthr,\n",
    "    LearningAlgo=method,\n",
    "    kernel=decay,\n",
    "    homeo=hom,\n",
    "    init=krnlinit\n",
    ")\n",
    "L2 = ClusteringLayer(\n",
    "    tau=10 * tau,\n",
    "    R=2 * R,\n",
    "    verbose=0,\n",
    "    ThrFilter=filthr,\n",
    "    LearningAlgo=method,\n",
    "    kernel=decay,\n",
    "    homeo=hom,\n",
    "    init=krnlinit\n",
    ")\n",
    "L3 = ClusteringLayer(\n",
    "    tau=10 * 10 * tau,\n",
    "    R=2 * 2 * R,\n",
    "    verbose=0,\n",
    "    ThrFilter=filthr,\n",
    "    LearningAlgo=method,\n",
    "    kernel=decay,\n",
    "    homeo=hom,\n",
    "    init=krnlinit\n",
    ")\n",
    "Net = Network([L1, L2, L3])\n",
    "\n",
    "timestr = time.strftime(\"%Y%m%d\")\n",
    "timestr = '20201021'\n",
    "\n",
    "if hom==True:\n",
    "    fname = 'Records/EXP_01_LagorceKmeans/'+timestr+'_hots_'+str(tau)+'_'+method+'_homeo.pkl'\n",
    "else:\n",
    "    fname = 'Records/EXP_01_LagorceKmeans/'+timestr+'_hots_'+str(tau)+'_'+method+'.pkl'\n",
    "\n",
    "if not os.path.isfile(fname):\n",
    "    #### Training The Cluster on 5 images\n",
    "    ClusterLayer, event_output = Net.TrainCluster(\n",
    "        event=event_cl, NbClusterList=nb_cluster, to_record=True, NbCycle=3\n",
    "    )\n",
    "    ## Generating histogram for training samples\n",
    "    event0_o_tr = Net.RunNetwork(event_tr, NbClusterList=ClusterLayer)\n",
    "    ## Generating histogram for the test samples\n",
    "    event0_o_te = Net.RunNetwork(event_te, NbClusterList=ClusterLayer)\n",
    "\n",
    "    Classif0 = Classifier(\n",
    "        event0_o_tr, event0_o_te, TrainingLabel=label_tr, GroundTruth=label_te\n",
    "    )\n",
    "    prediction, accuracy, method = Classif0.HistogramDistance(knn=nbkNN, to_print=True)\n",
    "    SaveObject([ClusterLayer, Classif0], fname)\n",
    "else:\n",
    "    ClusterLayer, Classif0 = LoadObject(fname)\n",
    "    prediction, accuracy, method = Classif0.HistogramDistance(knn=nbkNN, to_print=True)"
   ]
  },
  {
   "cell_type": "code",
   "execution_count": null,
   "metadata": {},
   "outputs": [],
   "source": [
    "DisplaySurface2D(ClusterLayer[0].prototype, nb_polarities=2)\n",
    "DisplaySurface2D(ClusterLayer[1].prototype, nb_polarities=4)\n",
    "DisplaySurface2D(ClusterLayer[2].prototype, nb_polarities=8)\n",
    "event_to_show = Event(ImageSize=(32, 32), ListPolarities=[-1, 1], OutOnePolarity=False)\n",
    "event_to_show.LoadFromMat(\"Data/alphabet_ExtractedStabilized.mat\", image_number=22)\n",
    "Net.RunNetwork(event_to_show, NbClusterList=ClusterLayer)\n",
    "mapL1 = GenerateActivationMap(Net.Layers[0].output, ClusterLayer[0])\n",
    "DisplayActivationMap(mapL1, scale=2)\n",
    "mapL2 = GenerateActivationMap(Net.Layers[1].output, ClusterLayer[1])\n",
    "DisplayActivationMap(mapL2, scale=2)\n",
    "mapL3 = GenerateActivationMap(Net.Layers[2].output, ClusterLayer[2])\n",
    "DisplayActivationMap(mapL3, scale=2)\n",
    "\n",
    "DisplayConvergence(ClusterLayer, to_display=[\"error\", \"histo\"])"
   ]
  },
  {
   "cell_type": "markdown",
   "metadata": {},
   "source": [
    "# Replication of Maro et al. 2020\n",
    "## WITHOUT HOMEO - Exp4 : Maro Kmeans + Exponential Kernel + NoiseFilter(=2) + 2 Polarity in Input + 3 Cycles"
   ]
  },
  {
   "cell_type": "code",
   "execution_count": null,
   "metadata": {
    "collapsed": false,
    "jupyter": {
     "outputs_hidden": false
    }
   },
   "outputs": [],
   "source": [
    "method = 'maro'\n",
    "hom = False\n",
    "\n",
    "L1 = ClusteringLayer(\n",
    "    tau=tau,\n",
    "    R=R,\n",
    "    verbose=0,\n",
    "    ThrFilter=filthr,\n",
    "    LearningAlgo=method,\n",
    "    kernel=decay,\n",
    "    homeo=hom,\n",
    "    init=krnlinit\n",
    ")\n",
    "L2 = ClusteringLayer(\n",
    "    tau=10 * tau,\n",
    "    R=2 * R,\n",
    "    verbose=0,\n",
    "    ThrFilter=filthr,\n",
    "    LearningAlgo=method,\n",
    "    kernel=decay,\n",
    "    homeo=hom,\n",
    "    init=krnlinit\n",
    ")\n",
    "L3 = ClusteringLayer(\n",
    "    tau=10 * 10 * tau,\n",
    "    R=2 * 2 * R,\n",
    "    verbose=0,\n",
    "    ThrFilter=filthr,\n",
    "    LearningAlgo=method,\n",
    "    kernel=decay,\n",
    "    homeo=hom,\n",
    "    init=krnlinit\n",
    ")\n",
    "Net = Network([L1, L2, L3])\n",
    "\n",
    "#timestr = time.strftime(\"%Y%m%d\")\n",
    "\n",
    "#if hom==True:\n",
    "#    fname = 'Records/EXP_01_LagorceKmeans/'+timestr+'_hots'+'_'+method+'_homeo.pkl'\n",
    "#else:\n",
    "#    fname = 'Records/EXP_01_LagorceKmeans/'+timestr+'_hots'+'_'+method+'.pkl'\n",
    "    \n",
    "fname = 'Records/EXP_02_MaroKmeans/Exp04_2020-04-17_notrdninit.pkl'\n",
    "\n",
    "if not os.path.isfile(fname):\n",
    "    #### Training The Cluster on 5 images\n",
    "    ClusterLayer, event_output = Net.TrainCluster(\n",
    "        event=event_cl, NbClusterList=nb_cluster, to_record=True, NbCycle=3\n",
    "    )\n",
    "    ## Generating histogram for training samples\n",
    "    event0_o_tr = Net.RunNetwork(event_tr, NbClusterList=ClusterLayer)\n",
    "    ## Generating histogram for the test samples\n",
    "    event0_o_te = Net.RunNetwork(event_te, NbClusterList=ClusterLayer)\n",
    "\n",
    "    Classif0 = Classifier(\n",
    "        event0_o_tr, event0_o_te, TrainingLabel=label_tr, GroundTruth=label_te\n",
    "    )\n",
    "    prediction, accuracy, method = Classif0.HistogramDistance(knn=nbkNN, to_print=True)\n",
    "    SaveObject([ClusterLayer, Classif0], fname)\n",
    "else:\n",
    "    ClusterLayer, Classif0 = LoadObject(fname)\n",
    "    prediction, accuracy, method = Classif0.HistogramDistance(knn=nbkNN, to_print=True)"
   ]
  },
  {
   "cell_type": "code",
   "execution_count": null,
   "metadata": {
    "collapsed": false,
    "jupyter": {
     "outputs_hidden": false
    }
   },
   "outputs": [],
   "source": [
    "DisplaySurface2D(ClusterLayer[0].prototype, nb_polarities=2)\n",
    "DisplaySurface2D(ClusterLayer[1].prototype, nb_polarities=4)\n",
    "DisplaySurface2D(ClusterLayer[2].prototype, nb_polarities=8)\n",
    "event_to_show = Event(ImageSize=(32, 32), ListPolarities=[-1, 1], OutOnePolarity=False)\n",
    "event_to_show.LoadFromMat(\"Data/alphabet_ExtractedStabilized.mat\", image_number=22)\n",
    "Net.RunNetwork(event_to_show, NbClusterList=ClusterLayer)\n",
    "mapL1 = GenerateActivationMap(Net.Layers[0].output, ClusterLayer[0])\n",
    "DisplayActivationMap(mapL1, scale=2)\n",
    "mapL2 = GenerateActivationMap(Net.Layers[1].output, ClusterLayer[1])\n",
    "DisplayActivationMap(mapL2, scale=2)\n",
    "mapL3 = GenerateActivationMap(Net.Layers[2].output, ClusterLayer[2])\n",
    "DisplayActivationMap(mapL3, scale=2)\n",
    "\n",
    "DisplayConvergence(ClusterLayer, to_display=[\"error\", \"histo\"])"
   ]
  },
  {
   "cell_type": "markdown",
   "metadata": {},
   "source": [
    "## WITH HOMEO - Exp3 : Maro Kmeans + Linear Kernel + NoiseFilter(=2) + 2 Polarity in Input + 3 Cycles"
   ]
  },
  {
   "cell_type": "code",
   "execution_count": null,
   "metadata": {
    "collapsed": false,
    "jupyter": {
     "outputs_hidden": false
    }
   },
   "outputs": [],
   "source": [
    "method = 'maro'\n",
    "hom = True\n",
    "\n",
    "L1 = ClusteringLayer(\n",
    "    tau=tau,\n",
    "    R=R,\n",
    "    verbose=0,\n",
    "    ThrFilter=filthr,\n",
    "    LearningAlgo=method,\n",
    "    kernel=decay,\n",
    "    homeo=hom,\n",
    "    init=krnlinit\n",
    ")\n",
    "L2 = ClusteringLayer(\n",
    "    tau=10 * tau,\n",
    "    R=2 * R,\n",
    "    verbose=0,\n",
    "    ThrFilter=filthr,\n",
    "    LearningAlgo=method,\n",
    "    kernel=decay,\n",
    "    homeo=hom,\n",
    "    init=krnlinit\n",
    ")\n",
    "L3 = ClusteringLayer(\n",
    "    tau=10 * 10 * tau,\n",
    "    R=2 * 2 * R,\n",
    "    verbose=0,\n",
    "    ThrFilter=filthr,\n",
    "    LearningAlgo=method,\n",
    "    kernel=decay,\n",
    "    homeo=hom,\n",
    "    init=krnlinit\n",
    ")\n",
    "Net = Network([L1, L2, L3])\n",
    "\n",
    "#timestr = time.strftime(\"%Y%m%d\")\n",
    "\n",
    "#if hom==True:\n",
    "#    fname = 'Records/EXP_01_LagorceKmeans/'+timestr+'_hots'+'_'+method+'_homeo.pkl'\n",
    "#else:\n",
    "#    fname = 'Records/EXP_01_LagorceKmeans/'+timestr+'_hots'+'_'+method+'.pkl'\n",
    "    \n",
    "fname = 'Records/EXP_02_MaroKmeans/Exp04_2020-10-09_homeo_notrdninit.pkl'\n",
    "\n",
    "if not os.path.isfile(fname):\n",
    "    #### Training The Cluster on 5 images\n",
    "    ClusterLayer, event_output = Net.TrainCluster(\n",
    "        event=event_cl, NbClusterList=nb_cluster, to_record=True, NbCycle=3\n",
    "    )\n",
    "    ## Generating histogram for training samples\n",
    "    event0_o_tr = Net.RunNetwork(event_tr, NbClusterList=ClusterLayer)\n",
    "    ## Generating histogram for the test samples\n",
    "    event0_o_te = Net.RunNetwork(event_te, NbClusterList=ClusterLayer)\n",
    "\n",
    "    Classif0 = Classifier(\n",
    "        event0_o_tr, event0_o_te, TrainingLabel=label_tr, GroundTruth=label_te\n",
    "    )\n",
    "    prediction, accuracy, method = Classif0.HistogramDistance(knn=nbkNN, to_print=True)\n",
    "    SaveObject([ClusterLayer, Classif0], fname)\n",
    "else:\n",
    "    ClusterLayer, Classif0 = LoadObject(fname)\n",
    "    prediction, accuracy, method = Classif0.HistogramDistance(knn=nbkNN, to_print=True)"
   ]
  },
  {
   "cell_type": "code",
   "execution_count": null,
   "metadata": {
    "collapsed": false,
    "jupyter": {
     "outputs_hidden": false
    }
   },
   "outputs": [],
   "source": [
    "DisplaySurface2D(ClusterLayer[0].prototype, nb_polarities=2)\n",
    "DisplaySurface2D(ClusterLayer[1].prototype, nb_polarities=4)\n",
    "DisplaySurface2D(ClusterLayer[2].prototype, nb_polarities=8)\n",
    "event_to_show = Event(ImageSize=(32, 32), ListPolarities=[-1, 1], OutOnePolarity=False)\n",
    "event_to_show.LoadFromMat(\"Data/alphabet_ExtractedStabilized.mat\", image_number=22)\n",
    "Net.RunNetwork(event_to_show, NbClusterList=ClusterLayer)\n",
    "mapL1 = GenerateActivationMap(Net.Layers[0].output, ClusterLayer[0])\n",
    "DisplayActivationMap(mapL1, scale=2)\n",
    "mapL2 = GenerateActivationMap(Net.Layers[1].output, ClusterLayer[1])\n",
    "DisplayActivationMap(mapL2, scale=2)\n",
    "mapL3 = GenerateActivationMap(Net.Layers[2].output, ClusterLayer[2])\n",
    "DisplayActivationMap(mapL3, scale=2)\n",
    "\n",
    "DisplayConvergence(ClusterLayer, to_display=[\"error\", \"histo\"])"
   ]
  },
  {
   "cell_type": "code",
   "execution_count": null,
   "metadata": {},
   "outputs": [],
   "source": []
  },
  {
   "cell_type": "code",
   "execution_count": null,
   "metadata": {},
   "outputs": [],
   "source": []
  },
  {
   "cell_type": "code",
   "execution_count": null,
   "metadata": {},
   "outputs": [],
   "source": []
  }
 ],
 "metadata": {
  "kernelspec": {
   "display_name": "Python 3",
   "language": "python",
   "name": "python3"
  },
  "language_info": {
   "codemirror_mode": {
    "name": "ipython",
    "version": 3
   },
   "file_extension": ".py",
   "mimetype": "text/x-python",
   "name": "python",
   "nbconvert_exporter": "python",
   "pygments_lexer": "ipython3",
   "version": "3.7.6"
  }
 },
 "nbformat": 4,
 "nbformat_minor": 4
}
